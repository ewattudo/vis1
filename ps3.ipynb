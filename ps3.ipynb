{
  "nbformat": 4,
  "nbformat_minor": 0,
  "metadata": {
    "colab": {
      "provenance": [],
      "authorship_tag": "ABX9TyNwAES9T7orRYKqC5Ab3pO4",
      "include_colab_link": true
    },
    "kernelspec": {
      "name": "python3",
      "display_name": "Python 3"
    },
    "language_info": {
      "name": "python"
    }
  },
  "cells": [
    {
      "cell_type": "markdown",
      "metadata": {
        "id": "view-in-github",
        "colab_type": "text"
      },
      "source": [
        "<a href=\"https://colab.research.google.com/github/ewattudo/vis1/blob/main/ps3.ipynb\" target=\"_parent\"><img src=\"https://colab.research.google.com/assets/colab-badge.svg\" alt=\"Open In Colab\"/></a>"
      ]
    },
    {
      "cell_type": "code",
      "execution_count": 1,
      "metadata": {
        "id": "cAY0s9BiEyx-"
      },
      "outputs": [],
      "source": [
        "#---------------------------SETUP----------------------------------\n",
        "#get useful libraries\n",
        "import time, os, sys, re #basics\n",
        "import zipfile, json, datetime, string   #string for annotating points in scatter \n",
        "import numpy as np #basic math\n",
        "from statistics import * #stats\n",
        "\n",
        "import matplotlib.pyplot as plt #import pylab as plt #apparently discouraged now: \n",
        " #https://stackoverflow.com/questions/11469336/what-is-the-difference-between-pylab-and-pyplot\n",
        " #https://www.tutorialspoint.com/matplotlib/matplotlib_pylab_module.htm\n",
        "\n",
        "import pandas as pd\n",
        "import pandas_datareader as pdr\n",
        "from pandas_datareader import wb\n",
        "from pandas.io.formats.style import Styler\n",
        "#s4 = Styler(df4, uuid_len=0, cell_ids=False)\n",
        "\n",
        "import urllib  #weird, guess need to have os and pandas imported for this to work  %TODO/LATER ditch it, its weird anyway, just use wget/curl                                                 \n",
        "\n",
        "from google.colab import files\n",
        "\n",
        "#import webbrowser                                                                                                           \n",
        "\n",
        "import seaborn as sns\n",
        "\n",
        "from google.colab import data_table\n",
        "data_table.enable_dataframe_formatter() #this enables spreadsheet view upon calling dataframe (without() )\n",
        "\n",
        "#many tricks how to extend notebook functionality\n",
        "#https://coderzcolumn.com/tutorials/python/list-of-useful-magic-commands-in-jupyter-notebook-lab\n",
        "#will display all output not just last command\n",
        "from IPython.core.interactiveshell import InteractiveShell\n",
        "InteractiveShell.ast_node_interactivity = \"all\"\n",
        "\n",
        "#MAGICS and THEMES/STYLES: important! does affect not just shading/colors, but also fonts, spacing, etc\n",
        "#(even if you only select default (v not selecting anything) [but does seem to work better if you do make explicit sleections]) \n",
        "\n",
        "###magics: https://ipython.readthedocs.io/en/stable/interactive/magics.html\n",
        "#most essential setup for vis: it does affect vis! careful!! stick with inline, maybe notebook; others mostly for non-notebook, eg spyder environ\n",
        "#https://jakevdp.github.io/PythonDataScienceHandbook/04.00-introduction-to-matplotlib.html recomends *inline*!\n",
        "#show current one:\n",
        "#%matplotlib \n",
        "#%matplotlib --list \n",
        "#interactive plots:\n",
        "#%matplotlib notebook  \n",
        "#static images of your plot:\n",
        "%matplotlib inline \n",
        "#may play with this one and other magics (btw default is probably agg)\n",
        "#%matplotlib nbagg\n",
        "\n",
        "###themes/styles: https://matplotlib.org/stable/gallery/style_sheets/style_sheets_reference.html\n",
        "#https://jakevdp.github.io/PythonDataScienceHandbook/04.11-settings-and-stylesheets.html\n",
        "#https://matplotlib.org/stable/tutorials/introductory/customizing.html\n",
        "#here more about art and style than under the hood functionality as with magics, explore and experiment\n",
        "#many may find 'default' or seaborn ones more pleasing; my fav 'classic' is back from 90s ;) \n",
        "#plt.style.available #list available styles :) may install more\n",
        "#plt.style.use('default') # more delicate subtle than classic\n",
        "plt.style.use('classic')  #  'seaborn-whitegrid' 'seaborn-white' 'seaborn-poster'\n",
        "# btw: magics v theme/style sequence matters, eg if i specify classic style before inline magic, i wouldnt get grey bounding box im getting"
      ]
    }
  ]
}