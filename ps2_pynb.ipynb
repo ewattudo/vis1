{
  "nbformat": 4,
  "nbformat_minor": 0,
  "metadata": {
    "colab": {
      "provenance": [],
      "toc_visible": true,
      "include_colab_link": true
    },
    "kernelspec": {
      "name": "python3",
      "display_name": "Python 3"
    },
    "language_info": {
      "name": "python"
    }
  },
  "cells": [
    {
      "cell_type": "markdown",
      "metadata": {
        "id": "view-in-github",
        "colab_type": "text"
      },
      "source": [
        "<a href=\"https://colab.research.google.com/github/ewattudo/vis1/blob/main/ps2_pynb.ipynb\" target=\"_parent\"><img src=\"https://colab.research.google.com/assets/colab-badge.svg\" alt=\"Open In Colab\"/></a>"
      ]
    },
    {
      "cell_type": "markdown",
      "source": [
        "# PS2 Manipulating Data and Merging - Erick Watt-Udogu \n",
        "\n",
        "I am generally interested in creating a model that will help explain who applied to  Rutgers-Camden's Graduate School of Arts and Sciences for the following terms: summer 2022, fall 2022 and spring 2023. \n",
        "\n",
        "\n",
        "aok fantastic! i'd be interested in that too--looking forward to it!\n",
        "\n",
        "\n",
        "In this problem set I want to test the widely accepted claim that college enrollment broadly but graduate school specifically is countercyclical, i.e. graduate applications rise as the the economy worsens. For the sake of this learning experiment I am isolating counties in New Jersey, but my broader research question includes all state data. \n",
        "\n",
        "\n",
        "aok aha cool, then need data on recessions too, can see st loius FRED as we covered earlier in the class; can also or for future research zoom in onto south jersey and philly per recessions, say local median hh income, labor force partcipation, unemployment, layoffs, etc\n",
        "\n",
        "\n",
        "To do this, I will be merging Rutgers-Camden application data for sans identifiers and unemployment data, where unemployment serves as a proxy for health of the economy. Because my data does not have county names, it has zip codes and the unemployment data is county, not zip code level, I am using a third data set to merge the two. \n",
        "\n",
        "aok good; and again ideally want local level measure of health of economy eg unemployment for south jersey and philly region\n",
        "\n",
        "aok: and check these out:\n",
        "https://www.kaggle.com/code/barkhaverma/student-performance-analysis/notebook\n",
        "\n",
        "https://github.com/taranahassan/School_District_Analysis/blob/main/notebook/PyCitySchools.ipynb"
      ],
      "metadata": {
        "id": "PDpLwK64jwOn"
      }
    },
    {
      "cell_type": "markdown",
      "source": [
        "## **Import: Code**\n",
        "\n",
        "This section includes import code. "
      ],
      "metadata": {
        "id": "9eTB845YlVG8"
      }
    },
    {
      "cell_type": "code",
      "execution_count": 7,
      "metadata": {
        "id": "dASOwigzjlSH"
      },
      "outputs": [],
      "source": [
        "import os, sys, re #basics\n",
        "import zipfile, json, datetime, string   #string for annotating points in scatter \n",
        "import numpy as np\n",
        "from statistics import *\n",
        "\n",
        "import pylab as plt\n",
        "import pandas as pd\n",
        "import pandas_datareader as pdr\n",
        "from pandas_datareader import wb\n",
        "from pandas.io.formats.style import Styler\n",
        "#s4 = Styler(df4, uuid_len=0, cell_ids=False)\n",
        "\n",
        "\n",
        "import urllib  #weird, guess need to have os and pandas imported for this to work                                                  \n",
        "                                                                          \n",
        "import webbrowser                                                                      \n",
        "import folium as f                                                                     \n",
        "from folium.plugins import MarkerCluster, HeatMap                                      \n",
        "\n",
        "#! pip install geocoder #]later maybe\n",
        "#! pip install geopandas #this is how you install packages on colab commente dout dont need it now\n",
        "#import geopandas as gpd                                                                                       \n",
        "#from geopy.geocoders import Nominatim #later maybe\n",
        "\n",
        "import seaborn as sns\n",
        "\n",
        "#many tricks how to extend notebook functionality\n",
        "#https://coderzcolumn.com/tutorials/python/list-of-useful-magic-commands-in-jupyter-notebook-lab\n",
        "#will display all output not just last command\n",
        "from IPython.core.interactiveshell import InteractiveShell\n",
        "InteractiveShell.ast_node_interactivity = \"all\""
      ]
    },
    {
      "cell_type": "markdown",
      "source": [
        "## **Importing and Cleaning the Data**\n",
        "This section is code for importing and cleaning the data.\n",
        "\n"
      ],
      "metadata": {
        "id": "d5OXCk3rlwcQ"
      }
    },
    {
      "cell_type": "markdown",
      "source": [
        "### Import: Data File 1: Application Data\n",
        "This is data I retrieved from work. I cleaned identifying information. "
      ],
      "metadata": {
        "id": "IjCDGECboWtS"
      }
    },
    {
      "cell_type": "code",
      "source": [
        "\n",
        "urllib.request.urlretrieve(\"https://raw.githubusercontent.com/ewattudo/vis1/main/appdata.csv\", \"appdata\") #aok not a critical problem, didnt break anything; but as per custom do have .csv suffix"
      ],
      "metadata": {
        "colab": {
          "base_uri": "https://localhost:8080/"
        },
        "id": "BXhz3-JcnPs6",
        "outputId": "a50932bc-745c-46db-bfac-23209066a07e"
      },
      "execution_count": 8,
      "outputs": [
        {
          "output_type": "execute_result",
          "data": {
            "text/plain": [
              "('appdata', <http.client.HTTPMessage at 0x7f3c6451ab20>)"
            ]
          },
          "metadata": {},
          "execution_count": 8
        }
      ]
    },
    {
      "cell_type": "code",
      "source": [
        "os.getcwd() #pwd\n",
        "os.listdir() #compare to clicking on the left the folder icon #dir"
      ],
      "metadata": {
        "colab": {
          "base_uri": "https://localhost:8080/",
          "height": 36
        },
        "id": "I8GjDjV_nak1",
        "outputId": "ee11f765-1d0c-4533-ff26-9b4d3b0954cb"
      },
      "execution_count": null,
      "outputs": [
        {
          "output_type": "execute_result",
          "data": {
            "text/plain": [
              "'/content'"
            ],
            "application/vnd.google.colaboratory.intrinsic+json": {
              "type": "string"
            }
          },
          "metadata": {},
          "execution_count": 3
        },
        {
          "output_type": "execute_result",
          "data": {
            "text/plain": [
              "['.config', 'appdata', 'sample_data']"
            ]
          },
          "metadata": {},
          "execution_count": 3
        }
      ]
    },
    {
      "cell_type": "code",
      "source": [
        "appdat=pd.read_csv('appdata')"
      ],
      "metadata": {
        "id": "RLMnOHLIndK9"
      },
      "execution_count": 9,
      "outputs": []
    },
    {
      "cell_type": "code",
      "source": [
        "appdat.columns"
      ],
      "metadata": {
        "colab": {
          "base_uri": "https://localhost:8080/"
        },
        "id": "bGMquDe_oIXI",
        "outputId": "00d5973d-c87d-45e1-98a1-b590b6fc981b"
      },
      "execution_count": null,
      "outputs": [
        {
          "output_type": "execute_result",
          "data": {
            "text/plain": [
              "Index(['ID ', 'Degree Type', 'Final Recommended Decision', 'Admit-Coming',\n",
              "       'Application Created Date', 'Days Before the Beginning of Semester ',\n",
              "       'Domestic or INTL Applicant', 'Reporting Term', 'Age When Applied',\n",
              "       'Mailing Zip/Postal Code', 'Mailing State/Province', 'Mailing Country',\n",
              "       'Most Recent Educational Institution: Account Name', 'Gender', 'Race',\n",
              "       'Program Selection: Program Selection Name', 'Admissions Status'],\n",
              "      dtype='object')"
            ]
          },
          "metadata": {},
          "execution_count": 5
        }
      ]
    },
    {
      "cell_type": "code",
      "source": [
        "appdat.head(3)"
      ],
      "metadata": {
        "colab": {
          "base_uri": "https://localhost:8080/",
          "height": 554
        },
        "id": "RhksXcBCqgNm",
        "outputId": "82ed151c-0be2-4c03-dcb9-a74c07ceb2d1"
      },
      "execution_count": null,
      "outputs": [
        {
          "output_type": "execute_result",
          "data": {
            "text/plain": [
              "   ID                        Degree Type Final Recommended Decision  \\\n",
              "0    1  Master's (e.g. MA, MS, EdM, MFA)                        NaN   \n",
              "1    2  Master's (e.g. MA, MS, EdM, MFA)                        NaN   \n",
              "2    3  Master's (e.g. MA, MS, EdM, MFA)                        NaN   \n",
              "\n",
              "   Admit-Coming Application Created Date  \\\n",
              "0             0                12/7/2021   \n",
              "1             0                 1/2/2022   \n",
              "2             0                3/15/2022   \n",
              "\n",
              "   Days Before the Beginning of Semester  Domestic or INTL Applicant  \\\n",
              "0                                     273              International   \n",
              "1                                     247              International   \n",
              "2                                     175                   Domestic   \n",
              "\n",
              "  Reporting Term  Age When Applied Mailing Zip/Postal Code  \\\n",
              "0      Fall 2022              23.0                   56407   \n",
              "1      Fall 2022              21.0                  380058   \n",
              "2      Fall 2022              22.0              07009-1245   \n",
              "\n",
              "  Mailing State/Province Mailing Country  \\\n",
              "0              Pradesh 2           Nepal   \n",
              "1                Gujarat           India   \n",
              "2             New Jersey   United States   \n",
              "\n",
              "  Most Recent Educational Institution: Account Name  Gender   Race  \\\n",
              "0                    Vellore Institute Of Technolog    Male  Asian   \n",
              "1                              Ahmedabad University  Female  Asian   \n",
              "2                           Mount Olive High School    Male  Asian   \n",
              "\n",
              "     Program Selection: Program Selection Name Admissions Status  \n",
              "0  Biology: Computational and Integrative (MS)       Started App  \n",
              "1  Biology: Computational and Integrative (MS)       Started App  \n",
              "2  Biology: Computational and Integrative (MS)       Started App  "
            ],
            "text/html": [
              "\n",
              "  <div id=\"df-c5c7263c-9cbb-4bb4-a019-5b3577d91efd\">\n",
              "    <div class=\"colab-df-container\">\n",
              "      <div>\n",
              "<style scoped>\n",
              "    .dataframe tbody tr th:only-of-type {\n",
              "        vertical-align: middle;\n",
              "    }\n",
              "\n",
              "    .dataframe tbody tr th {\n",
              "        vertical-align: top;\n",
              "    }\n",
              "\n",
              "    .dataframe thead th {\n",
              "        text-align: right;\n",
              "    }\n",
              "</style>\n",
              "<table border=\"1\" class=\"dataframe\">\n",
              "  <thead>\n",
              "    <tr style=\"text-align: right;\">\n",
              "      <th></th>\n",
              "      <th>ID</th>\n",
              "      <th>Degree Type</th>\n",
              "      <th>Final Recommended Decision</th>\n",
              "      <th>Admit-Coming</th>\n",
              "      <th>Application Created Date</th>\n",
              "      <th>Days Before the Beginning of Semester</th>\n",
              "      <th>Domestic or INTL Applicant</th>\n",
              "      <th>Reporting Term</th>\n",
              "      <th>Age When Applied</th>\n",
              "      <th>Mailing Zip/Postal Code</th>\n",
              "      <th>Mailing State/Province</th>\n",
              "      <th>Mailing Country</th>\n",
              "      <th>Most Recent Educational Institution: Account Name</th>\n",
              "      <th>Gender</th>\n",
              "      <th>Race</th>\n",
              "      <th>Program Selection: Program Selection Name</th>\n",
              "      <th>Admissions Status</th>\n",
              "    </tr>\n",
              "  </thead>\n",
              "  <tbody>\n",
              "    <tr>\n",
              "      <th>0</th>\n",
              "      <td>1</td>\n",
              "      <td>Master's (e.g. MA, MS, EdM, MFA)</td>\n",
              "      <td>NaN</td>\n",
              "      <td>0</td>\n",
              "      <td>12/7/2021</td>\n",
              "      <td>273</td>\n",
              "      <td>International</td>\n",
              "      <td>Fall 2022</td>\n",
              "      <td>23.0</td>\n",
              "      <td>56407</td>\n",
              "      <td>Pradesh 2</td>\n",
              "      <td>Nepal</td>\n",
              "      <td>Vellore Institute Of Technolog</td>\n",
              "      <td>Male</td>\n",
              "      <td>Asian</td>\n",
              "      <td>Biology: Computational and Integrative (MS)</td>\n",
              "      <td>Started App</td>\n",
              "    </tr>\n",
              "    <tr>\n",
              "      <th>1</th>\n",
              "      <td>2</td>\n",
              "      <td>Master's (e.g. MA, MS, EdM, MFA)</td>\n",
              "      <td>NaN</td>\n",
              "      <td>0</td>\n",
              "      <td>1/2/2022</td>\n",
              "      <td>247</td>\n",
              "      <td>International</td>\n",
              "      <td>Fall 2022</td>\n",
              "      <td>21.0</td>\n",
              "      <td>380058</td>\n",
              "      <td>Gujarat</td>\n",
              "      <td>India</td>\n",
              "      <td>Ahmedabad University</td>\n",
              "      <td>Female</td>\n",
              "      <td>Asian</td>\n",
              "      <td>Biology: Computational and Integrative (MS)</td>\n",
              "      <td>Started App</td>\n",
              "    </tr>\n",
              "    <tr>\n",
              "      <th>2</th>\n",
              "      <td>3</td>\n",
              "      <td>Master's (e.g. MA, MS, EdM, MFA)</td>\n",
              "      <td>NaN</td>\n",
              "      <td>0</td>\n",
              "      <td>3/15/2022</td>\n",
              "      <td>175</td>\n",
              "      <td>Domestic</td>\n",
              "      <td>Fall 2022</td>\n",
              "      <td>22.0</td>\n",
              "      <td>07009-1245</td>\n",
              "      <td>New Jersey</td>\n",
              "      <td>United States</td>\n",
              "      <td>Mount Olive High School</td>\n",
              "      <td>Male</td>\n",
              "      <td>Asian</td>\n",
              "      <td>Biology: Computational and Integrative (MS)</td>\n",
              "      <td>Started App</td>\n",
              "    </tr>\n",
              "  </tbody>\n",
              "</table>\n",
              "</div>\n",
              "      <button class=\"colab-df-convert\" onclick=\"convertToInteractive('df-c5c7263c-9cbb-4bb4-a019-5b3577d91efd')\"\n",
              "              title=\"Convert this dataframe to an interactive table.\"\n",
              "              style=\"display:none;\">\n",
              "        \n",
              "  <svg xmlns=\"http://www.w3.org/2000/svg\" height=\"24px\"viewBox=\"0 0 24 24\"\n",
              "       width=\"24px\">\n",
              "    <path d=\"M0 0h24v24H0V0z\" fill=\"none\"/>\n",
              "    <path d=\"M18.56 5.44l.94 2.06.94-2.06 2.06-.94-2.06-.94-.94-2.06-.94 2.06-2.06.94zm-11 1L8.5 8.5l.94-2.06 2.06-.94-2.06-.94L8.5 2.5l-.94 2.06-2.06.94zm10 10l.94 2.06.94-2.06 2.06-.94-2.06-.94-.94-2.06-.94 2.06-2.06.94z\"/><path d=\"M17.41 7.96l-1.37-1.37c-.4-.4-.92-.59-1.43-.59-.52 0-1.04.2-1.43.59L10.3 9.45l-7.72 7.72c-.78.78-.78 2.05 0 2.83L4 21.41c.39.39.9.59 1.41.59.51 0 1.02-.2 1.41-.59l7.78-7.78 2.81-2.81c.8-.78.8-2.07 0-2.86zM5.41 20L4 18.59l7.72-7.72 1.47 1.35L5.41 20z\"/>\n",
              "  </svg>\n",
              "      </button>\n",
              "      \n",
              "  <style>\n",
              "    .colab-df-container {\n",
              "      display:flex;\n",
              "      flex-wrap:wrap;\n",
              "      gap: 12px;\n",
              "    }\n",
              "\n",
              "    .colab-df-convert {\n",
              "      background-color: #E8F0FE;\n",
              "      border: none;\n",
              "      border-radius: 50%;\n",
              "      cursor: pointer;\n",
              "      display: none;\n",
              "      fill: #1967D2;\n",
              "      height: 32px;\n",
              "      padding: 0 0 0 0;\n",
              "      width: 32px;\n",
              "    }\n",
              "\n",
              "    .colab-df-convert:hover {\n",
              "      background-color: #E2EBFA;\n",
              "      box-shadow: 0px 1px 2px rgba(60, 64, 67, 0.3), 0px 1px 3px 1px rgba(60, 64, 67, 0.15);\n",
              "      fill: #174EA6;\n",
              "    }\n",
              "\n",
              "    [theme=dark] .colab-df-convert {\n",
              "      background-color: #3B4455;\n",
              "      fill: #D2E3FC;\n",
              "    }\n",
              "\n",
              "    [theme=dark] .colab-df-convert:hover {\n",
              "      background-color: #434B5C;\n",
              "      box-shadow: 0px 1px 3px 1px rgba(0, 0, 0, 0.15);\n",
              "      filter: drop-shadow(0px 1px 2px rgba(0, 0, 0, 0.3));\n",
              "      fill: #FFFFFF;\n",
              "    }\n",
              "  </style>\n",
              "\n",
              "      <script>\n",
              "        const buttonEl =\n",
              "          document.querySelector('#df-c5c7263c-9cbb-4bb4-a019-5b3577d91efd button.colab-df-convert');\n",
              "        buttonEl.style.display =\n",
              "          google.colab.kernel.accessAllowed ? 'block' : 'none';\n",
              "\n",
              "        async function convertToInteractive(key) {\n",
              "          const element = document.querySelector('#df-c5c7263c-9cbb-4bb4-a019-5b3577d91efd');\n",
              "          const dataTable =\n",
              "            await google.colab.kernel.invokeFunction('convertToInteractive',\n",
              "                                                     [key], {});\n",
              "          if (!dataTable) return;\n",
              "\n",
              "          const docLinkHtml = 'Like what you see? Visit the ' +\n",
              "            '<a target=\"_blank\" href=https://colab.research.google.com/notebooks/data_table.ipynb>data table notebook</a>'\n",
              "            + ' to learn more about interactive tables.';\n",
              "          element.innerHTML = '';\n",
              "          dataTable['output_type'] = 'display_data';\n",
              "          await google.colab.output.renderOutput(dataTable, element);\n",
              "          const docLink = document.createElement('div');\n",
              "          docLink.innerHTML = docLinkHtml;\n",
              "          element.appendChild(docLink);\n",
              "        }\n",
              "      </script>\n",
              "    </div>\n",
              "  </div>\n",
              "  "
            ]
          },
          "metadata": {},
          "execution_count": 6
        }
      ]
    },
    {
      "cell_type": "code",
      "source": [
        "appdat.dtypes"
      ],
      "metadata": {
        "colab": {
          "base_uri": "https://localhost:8080/"
        },
        "id": "pz-JiHB4FPUA",
        "outputId": "a8246f87-06a1-4e8b-86e5-6bec0102dad1"
      },
      "execution_count": 10,
      "outputs": [
        {
          "output_type": "execute_result",
          "data": {
            "text/plain": [
              "ID                                                     int64\n",
              "Degree Type                                           object\n",
              "Final Recommended Decision                            object\n",
              "Admit-Coming                                           int64\n",
              "Application Created Date                              object\n",
              "Days Before the Beginning of Semester                  int64\n",
              "Domestic or INTL Applicant                            object\n",
              "Reporting Term                                        object\n",
              "Age When Applied                                     float64\n",
              "Mailing Zip/Postal Code                               object\n",
              "Mailing State/Province                                object\n",
              "Mailing Country                                       object\n",
              "Most Recent Educational Institution: Account Name     object\n",
              "Gender                                                object\n",
              "Race                                                  object\n",
              "Program Selection: Program Selection Name             object\n",
              "Admissions Status                                     object\n",
              "dtype: object"
            ]
          },
          "metadata": {},
          "execution_count": 10
        }
      ]
    },
    {
      "cell_type": "code",
      "source": [
        "appdat = appdat.drop(['Degree Type','Domestic or INTL Applicant','Age When Applied'],axis=1)"
      ],
      "metadata": {
        "id": "DV5JJKD3IjsN"
      },
      "execution_count": 4,
      "outputs": []
    },
    {
      "cell_type": "code",
      "source": [
        "appdat.head(3)"
      ],
      "metadata": {
        "colab": {
          "base_uri": "https://localhost:8080/",
          "height": 503
        },
        "id": "tcJgUs3JJIIo",
        "outputId": "19466618-1594-458e-de79-1321b6fd93b7"
      },
      "execution_count": 5,
      "outputs": [
        {
          "output_type": "execute_result",
          "data": {
            "text/plain": [
              "   ID  Final Recommended Decision  Admit-Coming Application Created Date  \\\n",
              "0    1                        NaN             0                12/7/2021   \n",
              "1    2                        NaN             0                 1/2/2022   \n",
              "2    3                        NaN             0                3/15/2022   \n",
              "\n",
              "   Days Before the Beginning of Semester  Reporting Term  \\\n",
              "0                                     273      Fall 2022   \n",
              "1                                     247      Fall 2022   \n",
              "2                                     175      Fall 2022   \n",
              "\n",
              "  Mailing Zip/Postal Code Mailing State/Province Mailing Country  \\\n",
              "0                   56407              Pradesh 2           Nepal   \n",
              "1                  380058                Gujarat           India   \n",
              "2              07009-1245             New Jersey   United States   \n",
              "\n",
              "  Most Recent Educational Institution: Account Name  Gender   Race  \\\n",
              "0                    Vellore Institute Of Technolog    Male  Asian   \n",
              "1                              Ahmedabad University  Female  Asian   \n",
              "2                           Mount Olive High School    Male  Asian   \n",
              "\n",
              "     Program Selection: Program Selection Name Admissions Status  \n",
              "0  Biology: Computational and Integrative (MS)       Started App  \n",
              "1  Biology: Computational and Integrative (MS)       Started App  \n",
              "2  Biology: Computational and Integrative (MS)       Started App  "
            ],
            "text/html": [
              "\n",
              "  <div id=\"df-499c62c4-5241-45ff-8c68-9467aa57d2c5\">\n",
              "    <div class=\"colab-df-container\">\n",
              "      <div>\n",
              "<style scoped>\n",
              "    .dataframe tbody tr th:only-of-type {\n",
              "        vertical-align: middle;\n",
              "    }\n",
              "\n",
              "    .dataframe tbody tr th {\n",
              "        vertical-align: top;\n",
              "    }\n",
              "\n",
              "    .dataframe thead th {\n",
              "        text-align: right;\n",
              "    }\n",
              "</style>\n",
              "<table border=\"1\" class=\"dataframe\">\n",
              "  <thead>\n",
              "    <tr style=\"text-align: right;\">\n",
              "      <th></th>\n",
              "      <th>ID</th>\n",
              "      <th>Final Recommended Decision</th>\n",
              "      <th>Admit-Coming</th>\n",
              "      <th>Application Created Date</th>\n",
              "      <th>Days Before the Beginning of Semester</th>\n",
              "      <th>Reporting Term</th>\n",
              "      <th>Mailing Zip/Postal Code</th>\n",
              "      <th>Mailing State/Province</th>\n",
              "      <th>Mailing Country</th>\n",
              "      <th>Most Recent Educational Institution: Account Name</th>\n",
              "      <th>Gender</th>\n",
              "      <th>Race</th>\n",
              "      <th>Program Selection: Program Selection Name</th>\n",
              "      <th>Admissions Status</th>\n",
              "    </tr>\n",
              "  </thead>\n",
              "  <tbody>\n",
              "    <tr>\n",
              "      <th>0</th>\n",
              "      <td>1</td>\n",
              "      <td>NaN</td>\n",
              "      <td>0</td>\n",
              "      <td>12/7/2021</td>\n",
              "      <td>273</td>\n",
              "      <td>Fall 2022</td>\n",
              "      <td>56407</td>\n",
              "      <td>Pradesh 2</td>\n",
              "      <td>Nepal</td>\n",
              "      <td>Vellore Institute Of Technolog</td>\n",
              "      <td>Male</td>\n",
              "      <td>Asian</td>\n",
              "      <td>Biology: Computational and Integrative (MS)</td>\n",
              "      <td>Started App</td>\n",
              "    </tr>\n",
              "    <tr>\n",
              "      <th>1</th>\n",
              "      <td>2</td>\n",
              "      <td>NaN</td>\n",
              "      <td>0</td>\n",
              "      <td>1/2/2022</td>\n",
              "      <td>247</td>\n",
              "      <td>Fall 2022</td>\n",
              "      <td>380058</td>\n",
              "      <td>Gujarat</td>\n",
              "      <td>India</td>\n",
              "      <td>Ahmedabad University</td>\n",
              "      <td>Female</td>\n",
              "      <td>Asian</td>\n",
              "      <td>Biology: Computational and Integrative (MS)</td>\n",
              "      <td>Started App</td>\n",
              "    </tr>\n",
              "    <tr>\n",
              "      <th>2</th>\n",
              "      <td>3</td>\n",
              "      <td>NaN</td>\n",
              "      <td>0</td>\n",
              "      <td>3/15/2022</td>\n",
              "      <td>175</td>\n",
              "      <td>Fall 2022</td>\n",
              "      <td>07009-1245</td>\n",
              "      <td>New Jersey</td>\n",
              "      <td>United States</td>\n",
              "      <td>Mount Olive High School</td>\n",
              "      <td>Male</td>\n",
              "      <td>Asian</td>\n",
              "      <td>Biology: Computational and Integrative (MS)</td>\n",
              "      <td>Started App</td>\n",
              "    </tr>\n",
              "  </tbody>\n",
              "</table>\n",
              "</div>\n",
              "      <button class=\"colab-df-convert\" onclick=\"convertToInteractive('df-499c62c4-5241-45ff-8c68-9467aa57d2c5')\"\n",
              "              title=\"Convert this dataframe to an interactive table.\"\n",
              "              style=\"display:none;\">\n",
              "        \n",
              "  <svg xmlns=\"http://www.w3.org/2000/svg\" height=\"24px\"viewBox=\"0 0 24 24\"\n",
              "       width=\"24px\">\n",
              "    <path d=\"M0 0h24v24H0V0z\" fill=\"none\"/>\n",
              "    <path d=\"M18.56 5.44l.94 2.06.94-2.06 2.06-.94-2.06-.94-.94-2.06-.94 2.06-2.06.94zm-11 1L8.5 8.5l.94-2.06 2.06-.94-2.06-.94L8.5 2.5l-.94 2.06-2.06.94zm10 10l.94 2.06.94-2.06 2.06-.94-2.06-.94-.94-2.06-.94 2.06-2.06.94z\"/><path d=\"M17.41 7.96l-1.37-1.37c-.4-.4-.92-.59-1.43-.59-.52 0-1.04.2-1.43.59L10.3 9.45l-7.72 7.72c-.78.78-.78 2.05 0 2.83L4 21.41c.39.39.9.59 1.41.59.51 0 1.02-.2 1.41-.59l7.78-7.78 2.81-2.81c.8-.78.8-2.07 0-2.86zM5.41 20L4 18.59l7.72-7.72 1.47 1.35L5.41 20z\"/>\n",
              "  </svg>\n",
              "      </button>\n",
              "      \n",
              "  <style>\n",
              "    .colab-df-container {\n",
              "      display:flex;\n",
              "      flex-wrap:wrap;\n",
              "      gap: 12px;\n",
              "    }\n",
              "\n",
              "    .colab-df-convert {\n",
              "      background-color: #E8F0FE;\n",
              "      border: none;\n",
              "      border-radius: 50%;\n",
              "      cursor: pointer;\n",
              "      display: none;\n",
              "      fill: #1967D2;\n",
              "      height: 32px;\n",
              "      padding: 0 0 0 0;\n",
              "      width: 32px;\n",
              "    }\n",
              "\n",
              "    .colab-df-convert:hover {\n",
              "      background-color: #E2EBFA;\n",
              "      box-shadow: 0px 1px 2px rgba(60, 64, 67, 0.3), 0px 1px 3px 1px rgba(60, 64, 67, 0.15);\n",
              "      fill: #174EA6;\n",
              "    }\n",
              "\n",
              "    [theme=dark] .colab-df-convert {\n",
              "      background-color: #3B4455;\n",
              "      fill: #D2E3FC;\n",
              "    }\n",
              "\n",
              "    [theme=dark] .colab-df-convert:hover {\n",
              "      background-color: #434B5C;\n",
              "      box-shadow: 0px 1px 3px 1px rgba(0, 0, 0, 0.15);\n",
              "      filter: drop-shadow(0px 1px 2px rgba(0, 0, 0, 0.3));\n",
              "      fill: #FFFFFF;\n",
              "    }\n",
              "  </style>\n",
              "\n",
              "      <script>\n",
              "        const buttonEl =\n",
              "          document.querySelector('#df-499c62c4-5241-45ff-8c68-9467aa57d2c5 button.colab-df-convert');\n",
              "        buttonEl.style.display =\n",
              "          google.colab.kernel.accessAllowed ? 'block' : 'none';\n",
              "\n",
              "        async function convertToInteractive(key) {\n",
              "          const element = document.querySelector('#df-499c62c4-5241-45ff-8c68-9467aa57d2c5');\n",
              "          const dataTable =\n",
              "            await google.colab.kernel.invokeFunction('convertToInteractive',\n",
              "                                                     [key], {});\n",
              "          if (!dataTable) return;\n",
              "\n",
              "          const docLinkHtml = 'Like what you see? Visit the ' +\n",
              "            '<a target=\"_blank\" href=https://colab.research.google.com/notebooks/data_table.ipynb>data table notebook</a>'\n",
              "            + ' to learn more about interactive tables.';\n",
              "          element.innerHTML = '';\n",
              "          dataTable['output_type'] = 'display_data';\n",
              "          await google.colab.output.renderOutput(dataTable, element);\n",
              "          const docLink = document.createElement('div');\n",
              "          docLink.innerHTML = docLinkHtml;\n",
              "          element.appendChild(docLink);\n",
              "        }\n",
              "      </script>\n",
              "    </div>\n",
              "  </div>\n",
              "  "
            ]
          },
          "metadata": {},
          "execution_count": 5
        }
      ]
    },
    {
      "cell_type": "code",
      "source": [
        "appdat = appdat.rename(columns={'Mailing Zip/Postal Code':\"Zip\", \"Mailing State/Province\":\"State\",\"Mailing Country\":\"Country\" })\n",
        "appdat.head(3)"
      ],
      "metadata": {
        "colab": {
          "base_uri": "https://localhost:8080/",
          "height": 555
        },
        "id": "7hO9I2uQJTq0",
        "outputId": "6776b2a8-0599-4122-916d-eef8d13af2a3"
      },
      "execution_count": 13,
      "outputs": [
        {
          "output_type": "execute_result",
          "data": {
            "text/plain": [
              "   ID                        Degree Type Final Recommended Decision  \\\n",
              "0    1  Master's (e.g. MA, MS, EdM, MFA)                        NaN   \n",
              "1    2  Master's (e.g. MA, MS, EdM, MFA)                        NaN   \n",
              "2    3  Master's (e.g. MA, MS, EdM, MFA)                        NaN   \n",
              "\n",
              "   Admit-Coming Application Created Date  \\\n",
              "0             0                12/7/2021   \n",
              "1             0                 1/2/2022   \n",
              "2             0                3/15/2022   \n",
              "\n",
              "   Days Before the Beginning of Semester  Domestic or INTL Applicant  \\\n",
              "0                                     273              International   \n",
              "1                                     247              International   \n",
              "2                                     175                   Domestic   \n",
              "\n",
              "  Reporting Term  Age When Applied         Zip       State        Country  \\\n",
              "0      Fall 2022              23.0       56407   Pradesh 2          Nepal   \n",
              "1      Fall 2022              21.0      380058     Gujarat          India   \n",
              "2      Fall 2022              22.0  07009-1245  New Jersey  United States   \n",
              "\n",
              "  Most Recent Educational Institution: Account Name  Gender   Race  \\\n",
              "0                    Vellore Institute Of Technolog    Male  Asian   \n",
              "1                              Ahmedabad University  Female  Asian   \n",
              "2                           Mount Olive High School    Male  Asian   \n",
              "\n",
              "     Program Selection: Program Selection Name Admissions Status  \n",
              "0  Biology: Computational and Integrative (MS)       Started App  \n",
              "1  Biology: Computational and Integrative (MS)       Started App  \n",
              "2  Biology: Computational and Integrative (MS)       Started App  "
            ],
            "text/html": [
              "\n",
              "  <div id=\"df-cfa009e4-4ffa-49a7-8dc8-6fa1194f8a29\">\n",
              "    <div class=\"colab-df-container\">\n",
              "      <div>\n",
              "<style scoped>\n",
              "    .dataframe tbody tr th:only-of-type {\n",
              "        vertical-align: middle;\n",
              "    }\n",
              "\n",
              "    .dataframe tbody tr th {\n",
              "        vertical-align: top;\n",
              "    }\n",
              "\n",
              "    .dataframe thead th {\n",
              "        text-align: right;\n",
              "    }\n",
              "</style>\n",
              "<table border=\"1\" class=\"dataframe\">\n",
              "  <thead>\n",
              "    <tr style=\"text-align: right;\">\n",
              "      <th></th>\n",
              "      <th>ID</th>\n",
              "      <th>Degree Type</th>\n",
              "      <th>Final Recommended Decision</th>\n",
              "      <th>Admit-Coming</th>\n",
              "      <th>Application Created Date</th>\n",
              "      <th>Days Before the Beginning of Semester</th>\n",
              "      <th>Domestic or INTL Applicant</th>\n",
              "      <th>Reporting Term</th>\n",
              "      <th>Age When Applied</th>\n",
              "      <th>Zip</th>\n",
              "      <th>State</th>\n",
              "      <th>Country</th>\n",
              "      <th>Most Recent Educational Institution: Account Name</th>\n",
              "      <th>Gender</th>\n",
              "      <th>Race</th>\n",
              "      <th>Program Selection: Program Selection Name</th>\n",
              "      <th>Admissions Status</th>\n",
              "    </tr>\n",
              "  </thead>\n",
              "  <tbody>\n",
              "    <tr>\n",
              "      <th>0</th>\n",
              "      <td>1</td>\n",
              "      <td>Master's (e.g. MA, MS, EdM, MFA)</td>\n",
              "      <td>NaN</td>\n",
              "      <td>0</td>\n",
              "      <td>12/7/2021</td>\n",
              "      <td>273</td>\n",
              "      <td>International</td>\n",
              "      <td>Fall 2022</td>\n",
              "      <td>23.0</td>\n",
              "      <td>56407</td>\n",
              "      <td>Pradesh 2</td>\n",
              "      <td>Nepal</td>\n",
              "      <td>Vellore Institute Of Technolog</td>\n",
              "      <td>Male</td>\n",
              "      <td>Asian</td>\n",
              "      <td>Biology: Computational and Integrative (MS)</td>\n",
              "      <td>Started App</td>\n",
              "    </tr>\n",
              "    <tr>\n",
              "      <th>1</th>\n",
              "      <td>2</td>\n",
              "      <td>Master's (e.g. MA, MS, EdM, MFA)</td>\n",
              "      <td>NaN</td>\n",
              "      <td>0</td>\n",
              "      <td>1/2/2022</td>\n",
              "      <td>247</td>\n",
              "      <td>International</td>\n",
              "      <td>Fall 2022</td>\n",
              "      <td>21.0</td>\n",
              "      <td>380058</td>\n",
              "      <td>Gujarat</td>\n",
              "      <td>India</td>\n",
              "      <td>Ahmedabad University</td>\n",
              "      <td>Female</td>\n",
              "      <td>Asian</td>\n",
              "      <td>Biology: Computational and Integrative (MS)</td>\n",
              "      <td>Started App</td>\n",
              "    </tr>\n",
              "    <tr>\n",
              "      <th>2</th>\n",
              "      <td>3</td>\n",
              "      <td>Master's (e.g. MA, MS, EdM, MFA)</td>\n",
              "      <td>NaN</td>\n",
              "      <td>0</td>\n",
              "      <td>3/15/2022</td>\n",
              "      <td>175</td>\n",
              "      <td>Domestic</td>\n",
              "      <td>Fall 2022</td>\n",
              "      <td>22.0</td>\n",
              "      <td>07009-1245</td>\n",
              "      <td>New Jersey</td>\n",
              "      <td>United States</td>\n",
              "      <td>Mount Olive High School</td>\n",
              "      <td>Male</td>\n",
              "      <td>Asian</td>\n",
              "      <td>Biology: Computational and Integrative (MS)</td>\n",
              "      <td>Started App</td>\n",
              "    </tr>\n",
              "  </tbody>\n",
              "</table>\n",
              "</div>\n",
              "      <button class=\"colab-df-convert\" onclick=\"convertToInteractive('df-cfa009e4-4ffa-49a7-8dc8-6fa1194f8a29')\"\n",
              "              title=\"Convert this dataframe to an interactive table.\"\n",
              "              style=\"display:none;\">\n",
              "        \n",
              "  <svg xmlns=\"http://www.w3.org/2000/svg\" height=\"24px\"viewBox=\"0 0 24 24\"\n",
              "       width=\"24px\">\n",
              "    <path d=\"M0 0h24v24H0V0z\" fill=\"none\"/>\n",
              "    <path d=\"M18.56 5.44l.94 2.06.94-2.06 2.06-.94-2.06-.94-.94-2.06-.94 2.06-2.06.94zm-11 1L8.5 8.5l.94-2.06 2.06-.94-2.06-.94L8.5 2.5l-.94 2.06-2.06.94zm10 10l.94 2.06.94-2.06 2.06-.94-2.06-.94-.94-2.06-.94 2.06-2.06.94z\"/><path d=\"M17.41 7.96l-1.37-1.37c-.4-.4-.92-.59-1.43-.59-.52 0-1.04.2-1.43.59L10.3 9.45l-7.72 7.72c-.78.78-.78 2.05 0 2.83L4 21.41c.39.39.9.59 1.41.59.51 0 1.02-.2 1.41-.59l7.78-7.78 2.81-2.81c.8-.78.8-2.07 0-2.86zM5.41 20L4 18.59l7.72-7.72 1.47 1.35L5.41 20z\"/>\n",
              "  </svg>\n",
              "      </button>\n",
              "      \n",
              "  <style>\n",
              "    .colab-df-container {\n",
              "      display:flex;\n",
              "      flex-wrap:wrap;\n",
              "      gap: 12px;\n",
              "    }\n",
              "\n",
              "    .colab-df-convert {\n",
              "      background-color: #E8F0FE;\n",
              "      border: none;\n",
              "      border-radius: 50%;\n",
              "      cursor: pointer;\n",
              "      display: none;\n",
              "      fill: #1967D2;\n",
              "      height: 32px;\n",
              "      padding: 0 0 0 0;\n",
              "      width: 32px;\n",
              "    }\n",
              "\n",
              "    .colab-df-convert:hover {\n",
              "      background-color: #E2EBFA;\n",
              "      box-shadow: 0px 1px 2px rgba(60, 64, 67, 0.3), 0px 1px 3px 1px rgba(60, 64, 67, 0.15);\n",
              "      fill: #174EA6;\n",
              "    }\n",
              "\n",
              "    [theme=dark] .colab-df-convert {\n",
              "      background-color: #3B4455;\n",
              "      fill: #D2E3FC;\n",
              "    }\n",
              "\n",
              "    [theme=dark] .colab-df-convert:hover {\n",
              "      background-color: #434B5C;\n",
              "      box-shadow: 0px 1px 3px 1px rgba(0, 0, 0, 0.15);\n",
              "      filter: drop-shadow(0px 1px 2px rgba(0, 0, 0, 0.3));\n",
              "      fill: #FFFFFF;\n",
              "    }\n",
              "  </style>\n",
              "\n",
              "      <script>\n",
              "        const buttonEl =\n",
              "          document.querySelector('#df-cfa009e4-4ffa-49a7-8dc8-6fa1194f8a29 button.colab-df-convert');\n",
              "        buttonEl.style.display =\n",
              "          google.colab.kernel.accessAllowed ? 'block' : 'none';\n",
              "\n",
              "        async function convertToInteractive(key) {\n",
              "          const element = document.querySelector('#df-cfa009e4-4ffa-49a7-8dc8-6fa1194f8a29');\n",
              "          const dataTable =\n",
              "            await google.colab.kernel.invokeFunction('convertToInteractive',\n",
              "                                                     [key], {});\n",
              "          if (!dataTable) return;\n",
              "\n",
              "          const docLinkHtml = 'Like what you see? Visit the ' +\n",
              "            '<a target=\"_blank\" href=https://colab.research.google.com/notebooks/data_table.ipynb>data table notebook</a>'\n",
              "            + ' to learn more about interactive tables.';\n",
              "          element.innerHTML = '';\n",
              "          dataTable['output_type'] = 'display_data';\n",
              "          await google.colab.output.renderOutput(dataTable, element);\n",
              "          const docLink = document.createElement('div');\n",
              "          docLink.innerHTML = docLinkHtml;\n",
              "          element.appendChild(docLink);\n",
              "        }\n",
              "      </script>\n",
              "    </div>\n",
              "  </div>\n",
              "  "
            ]
          },
          "metadata": {},
          "execution_count": 13
        }
      ]
    },
    {
      "cell_type": "code",
      "source": [
        "#I need to find the New Jersey Applicants, but I know the Zips and the State fields are not clean. I need to figure out what I am working with. \n",
        "print(appdat.State.unique())"
      ],
      "metadata": {
        "colab": {
          "base_uri": "https://localhost:8080/"
        },
        "id": "S9UMLvZBr3ja",
        "outputId": "5ca7a7c0-f7b9-4b6d-f095-74e70d518ecf"
      },
      "execution_count": 14,
      "outputs": [
        {
          "output_type": "stream",
          "name": "stdout",
          "text": [
            "['Pradesh 2' 'Gujarat' 'New Jersey' 'ENUGU' 'Telangana' 'Beijing'\n",
            " 'Haryana' 'In-Tn' 'Yunnan' 'Lagos' 'Odisha' 'Delhi' 'Rajasthan'\n",
            " 'West Bengal' 'Tamil Nadu' 'Maryland' 'Uttar Pradesh' 'IN' 'New York'\n",
            " 'Ohio' nan 'west bengal' 'Shanxi' 'Assam' 'England'\n",
            " 'Federal Capital Territory' 'mazandaran' 'Pennsylvania' 'Illinois'\n",
            " 'Tehran' 'Delaware' 'Ardebi' 'Massachusetts' 'West Virginia' 'PA'\n",
            " 'Virginia' 'NJ' 'In-Hr' 'AN' 'Rivers state' 'Baranya' 'Colorado'\n",
            " 'Banasree' 'Plateau' 'Saint Catherine' 'Serekunda' 'Imo'\n",
            " 'North Rhine-Westphalia' 'California' 'Anambra' 'Kerala' 'Eastern'\n",
            " 'Ashanti' 'Washington' 'MAHARASHTRA' 'Punjab' 'Rhode Island' 'Dhaka'\n",
            " 'Dhaka Division' 'Missouri' 'Bagmati' 'Seoul' 'Edo' 'Karnataka'\n",
            " 'Maharashtra' 'Tamilnadu' 'Western Area' 'Kinondoni' 'LAGOS' 'Rivers'\n",
            " 'TELANGANA' 'Ashanti Region' 'Ghana' 'Western Province' 'NY' 'Ondo'\n",
            " 'Kiambu' 'Madhya Pradesh' 'Greater Accra' 'Kaduna' 'Isfahan' 'In-Dl'\n",
            " 'Harare' 'New Hampshire' 'Indiana' 'Tabuk' 'FCT' 'Oregon' 'AP' 'Osun'\n",
            " 'Oyo' 'Ogun' 'Guilan' 'Western Cape' 'Central Region' 'Italy'\n",
            " 'Maine-et-Loire' 'Egypt' 'UK' 'Kwara' 'Unknown' 'Andhra Pradesh'\n",
            " 'gujarat' 'bagmati' 'Pollobi' 'Shandong' 'Montserrado' 'Shanghai'\n",
            " 'ANDHRA PRADESH' 'Federal capital territory' 'Zhejiang Province' 'In-Ap'\n",
            " 'Lagos State' 'karnataka' 'Jiangxi' 'Istanbul' 'Andhra Predesh' 'lagos'\n",
            " 'GUJARAT' '1' 'In-Mh' 'AZ' 'Guangdong' 'New Delhi' 'Hunan' 'Maharashatra'\n",
            " 'Eastern Province' 'Rangpur Division' 'In-Tg' 'Andhra pradesh' 'In-Br'\n",
            " 'HARYANA' 'In-Rj' 'FL' 'In-Up' 'AndhraPradesh' 'State' 'Tamil nadu'\n",
            " 'Bihar' 'Central' 'Mahrashtra' '522615' 'Cn-Sh' 'Arizona' 'Texas' 'Anhui'\n",
            " 'Wisconsin' 'North Carolina' 'Minnesota' 'Georgia' 'Iowa' 'Alabama'\n",
            " 'Gyeonggi-do' 'MA' 'Tennessee' 'Mississippi' 'BC' 'District Of Columbia'\n",
            " 'Florida' 'Montana' 'Connecticut' 'Fujian' 'WI' 'OH' 'MD' 'Vermont'\n",
            " 'Lousiana' 'ON' 'Nevada' 'MI' 'CA' 'Ontario' 'Michigan' 'Manisa' 'Dubai'\n",
            " 'Sindh' 'Santa Catarina' 'DC' 'Makkah' 'Nj' 'new jersey' 'Select One...'\n",
            " 'TX' 'Louisiana' 'Al ???imah' 'Henan' 'Taoyuan' 'madhya pradesh'\n",
            " 'Kashmir' 'Bono' 'Greater Manchester' 'Lagos, Nigeria' 'Idaho' 'Kansas'\n",
            " 'CT' 'Khorasan Razavi' 'Nevsehir' 'Sichuan' 'RI' 'RJ' 'Oyo State' 'md'\n",
            " 'St.Andrew' 'Canelones' 'Al Wakrah' 'St. James' 'Puerto Rico'\n",
            " 'Chittagong Division' 'Mombasa' 'Delta' 'AE' 'NM' 'Nebraska' 'Ekiti'\n",
            " 'Lima' 'Maine' 'Arkansas' 'METRO MANILA' 'National Capital Region'\n",
            " 'texas' 'Armed Forces' 'British Columbia' 'Delta State' 'New Mexico'\n",
            " 'St. Andrew' 'Gilan' 'Hunan Province' 'Kebbi State' 'In-Kl'\n",
            " 'Not Specified' 'Yazd' 'Novara' 'Edirne' 'Tartu Linn' 'South Carolina'\n",
            " 'District of Columbia' 'KS' 'Kurdistan' 'Mazandaran'\n",
            " 'Azarbayjan-e Sharqi' 'Select State' 'Selangor' 'South' 'Plateau/Nigeria'\n",
            " 'pa' 'WESTERN' 'Rio de Janeiro' 'Riga' 'Lagos State, Nigeria'\n",
            " 'Central region' 'Ogun State' 'Greater-Accra' 'Flanders' 'nj' 'Littoral'\n",
            " 'Ankara/Çankaya' 'KP' 'Cankaya' 'Ganja' 'Shanxi Province' 'OK'\n",
            " 'F.C.T Abuja' 'Razavi Khorasan' 'KY' 'Sylhet']\n"
          ]
        }
      ]
    },
    {
      "cell_type": "code",
      "source": [
        "#Interesting that New York is higher than Pennsylvania. It's not that surprising though. It is surprising that we have almost as many applicants from states in India as Pennsylvania. \n",
        "appdat.State.value_counts().nlargest(10).plot(kind='bar',figsize=(10,5))\n",
        "plt.title(\"Number of Applications by State: Domestic and International (Unclean)\")\n",
        "plt.ylabel(\"Number of Applicants\")\n",
        "plt.xlabel(\"States\")\n",
        "#aok yes very productive to interpret right away; then when you write up paper just copy-paste the comment and elaborate"
      ],
      "metadata": {
        "colab": {
          "base_uri": "https://localhost:8080/",
          "height": 457
        },
        "id": "wd46FY75s68n",
        "outputId": "e0907144-60dc-4ce4-f91d-34e89238d96c"
      },
      "execution_count": 15,
      "outputs": [
        {
          "output_type": "execute_result",
          "data": {
            "text/plain": [
              "<matplotlib.axes._subplots.AxesSubplot at 0x7f3c642ce0d0>"
            ]
          },
          "metadata": {},
          "execution_count": 15
        },
        {
          "output_type": "execute_result",
          "data": {
            "text/plain": [
              "Text(0.5, 1.0, 'Number of Applications by State: Domestic and International (Unclean)')"
            ]
          },
          "metadata": {},
          "execution_count": 15
        },
        {
          "output_type": "execute_result",
          "data": {
            "text/plain": [
              "Text(0, 0.5, 'Number of Applicants')"
            ]
          },
          "metadata": {},
          "execution_count": 15
        },
        {
          "output_type": "execute_result",
          "data": {
            "text/plain": [
              "Text(0.5, 0, 'States')"
            ]
          },
          "metadata": {},
          "execution_count": 15
        },
        {
          "output_type": "display_data",
          "data": {
            "text/plain": [
              "<Figure size 720x360 with 1 Axes>"
            ],
            "image/png": "[encoded data removed]"
          },
          "metadata": {
            "needs_background": "light"
          }
        }
      ]
    },
    {
      "cell_type": "markdown",
      "source": [
        "aok: and for future research, could do it over time--applicants by country and state over time--how student body evolves; could do it also by department/school etc"
      ],
      "metadata": {
        "id": "SkFJygCtK8FP"
      }
    },
    {
      "cell_type": "code",
      "source": [
        "appdat[\"State\"].value_counts()"
      ],
      "metadata": {
        "colab": {
          "base_uri": "https://localhost:8080/"
        },
        "id": "OSaTMxiswlx3",
        "outputId": "de141de3-a889-4524-f2c8-27a65fa439a0"
      },
      "execution_count": null,
      "outputs": [
        {
          "output_type": "execute_result",
          "data": {
            "text/plain": [
              "New Jersey       391\n",
              "New York          73\n",
              "Pennsylvania      60\n",
              "Telangana         56\n",
              "Maharashtra       50\n",
              "                ... \n",
              "In-Rj              1\n",
              "In-Up              1\n",
              "AndhraPradesh      1\n",
              "State              1\n",
              "Sylhet             1\n",
              "Name: State, Length: 264, dtype: int64"
            ]
          },
          "metadata": {},
          "execution_count": 19
        }
      ]
    },
    {
      "cell_type": "code",
      "source": [
        "#I need to get rid of the non-US apps so I can get to the New Jersey Apps. I can't easily see the different ways that New Jersey if all the states from all the countries are listed. \n",
        "#We need some data validation. Even country names have junk\n",
        "appdat.Country.value_counts().nlargest(10).plot(kind='bar',figsize=(10,5))\n",
        "plt.title(\"Number of Applications by Country (Unclean)\")\n",
        "plt.ylabel(\"Number of Applicants\")\n",
        "plt.xlabel(\"States\")"
      ],
      "metadata": {
        "colab": {
          "base_uri": "https://localhost:8080/",
          "height": 496
        },
        "id": "qDk3lusTzmOV",
        "outputId": "a75548b7-7314-4290-cc9b-f4314662c667"
      },
      "execution_count": null,
      "outputs": [
        {
          "output_type": "execute_result",
          "data": {
            "text/plain": [
              "<matplotlib.axes._subplots.AxesSubplot at 0x7faf54870be0>"
            ]
          },
          "metadata": {},
          "execution_count": 18
        },
        {
          "output_type": "execute_result",
          "data": {
            "text/plain": [
              "Text(0.5, 1.0, 'Number of Applications by Country (Unclean)')"
            ]
          },
          "metadata": {},
          "execution_count": 18
        },
        {
          "output_type": "execute_result",
          "data": {
            "text/plain": [
              "Text(0, 0.5, 'Number of Applicants')"
            ]
          },
          "metadata": {},
          "execution_count": 18
        },
        {
          "output_type": "execute_result",
          "data": {
            "text/plain": [
              "Text(0.5, 0, 'States')"
            ]
          },
          "metadata": {},
          "execution_count": 18
        },
        {
          "output_type": "display_data",
          "data": {
            "text/plain": [
              "<Figure size 720x360 with 1 Axes>"
            ],
            "image/png": "[encoded data removed]"
          },
          "metadata": {
            "needs_background": "light"
          }
        }
      ]
    },
    {
      "cell_type": "code",
      "source": [
        "appdat[\"Country\"].value_counts()"
      ],
      "metadata": {
        "colab": {
          "base_uri": "https://localhost:8080/"
        },
        "id": "VB2v_ttmzPk8",
        "outputId": "c45e38a7-081b-42f3-db9d-d9c506bad7ce"
      },
      "execution_count": null,
      "outputs": [
        {
          "output_type": "execute_result",
          "data": {
            "text/plain": [
              "United States                835\n",
              "India                        320\n",
              "Nigeria                       85\n",
              "China                         44\n",
              "Iran, Islamic Republic Of     32\n",
              "                            ... \n",
              "Singapore                      1\n",
              "Hungary                        1\n",
              "Senegal                        1\n",
              "Kyrgyzstan                     1\n",
              "Azerbaijan                     1\n",
              "Name: Country, Length: 62, dtype: int64"
            ]
          },
          "metadata": {},
          "execution_count": 20
        }
      ]
    },
    {
      "cell_type": "code",
      "source": [
        "print(appdat.Country.unique())"
      ],
      "metadata": {
        "colab": {
          "base_uri": "https://localhost:8080/"
        },
        "id": "iAyuAuRc3PQ2",
        "outputId": "9116e205-98db-4d63-f75a-1e7773434de5"
      },
      "execution_count": null,
      "outputs": [
        {
          "output_type": "stream",
          "name": "stdout",
          "text": [
            "['Nepal' 'India' 'United States' 'Nigeria' 'China' 'INDIA' 'Bangladesh'\n",
            " 'United Kingdom' 'Iran, Islamic Republic Of' 'Turkey' 'Ghana'\n",
            " 'Kyrgyzstan' 'Senegal' 'Korea, Republic of' 'Egypt' 'Hungary' 'Jamaica'\n",
            " 'Singapore' 'Taiwan' 'Gambia' 'Germany' 'Pakistan' nan 'BANGLADESH'\n",
            " 'United States of America' 'Sierra Leone' 'Tanzania, United Republic of'\n",
            " 'Sri Lanka' 'Kenya' 'Zimbabwe' 'Saudi Arabia' 'Trinidad and Tobago'\n",
            " 'South Africa' 'Malawi' 'Italy' 'France' 'Hong Kong' 'Liberia'\n",
            " 'Taiwan, Province Of China' 'Mexico' 'Russian Federation' 'Canada'\n",
            " 'United Arab Emirates' 'Brazil' 'Bahrain' 'Morocco' 'Kuwait' 'Uruguay'\n",
            " 'Qatar' 'Bahamas' 'Puerto Rico' 'Peru' 'Philippines' 'Costa Rica'\n",
            " 'Greece' 'Estonia' 'Malaysia' 'Lebanon' 'Latvia' 'Israel' 'Belgium'\n",
            " 'Cameroon' 'Azerbaijan']\n"
          ]
        }
      ]
    },
    {
      "cell_type": "code",
      "source": [
        "usappdat = appdat.query(\"Country=='United States'\")\n",
        "usappdat.head(3)"
      ],
      "metadata": {
        "colab": {
          "base_uri": "https://localhost:8080/",
          "height": 555
        },
        "id": "Y3QSGBMS6XU_",
        "outputId": "51310825-98d6-4d4e-8e43-758f325519db"
      },
      "execution_count": 18,
      "outputs": [
        {
          "output_type": "execute_result",
          "data": {
            "text/plain": [
              "   ID                        Degree Type Final Recommended Decision  \\\n",
              "2    3  Master's (e.g. MA, MS, EdM, MFA)                        NaN   \n",
              "3    4  Master's (e.g. MA, MS, EdM, MFA)                        NaN   \n",
              "5    6  Master's (e.g. MA, MS, EdM, MFA)                        NaN   \n",
              "\n",
              "   Admit-Coming Application Created Date  \\\n",
              "2             0                3/15/2022   \n",
              "3             0                3/31/2022   \n",
              "5             0                4/20/2022   \n",
              "\n",
              "   Days Before the Beginning of Semester  Domestic or INTL Applicant  \\\n",
              "2                                     175                   Domestic   \n",
              "3                                     159                   Domestic   \n",
              "5                                     272                   Domestic   \n",
              "\n",
              "  Reporting Term  Age When Applied         Zip       State        Country  \\\n",
              "2      Fall 2022              22.0  07009-1245  New Jersey  United States   \n",
              "3      Fall 2022              23.0  07726-4660  New Jersey  United States   \n",
              "5    Spring 2023              33.0  08755-1914  New Jersey  United States   \n",
              "\n",
              "  Most Recent Educational Institution: Account Name  Gender  \\\n",
              "2                           Mount Olive High School    Male   \n",
              "3                                 Suny Colg Geneseo  Female   \n",
              "5                              Essex County College    Male   \n",
              "\n",
              "                        Race    Program Selection: Program Selection Name  \\\n",
              "2                      Asian  Biology: Computational and Integrative (MS)   \n",
              "3  Hispanic or Latino; White  Biology: Computational and Integrative (MS)   \n",
              "5  Black or African American  Biology: Computational and Integrative (MS)   \n",
              "\n",
              "  Admissions Status  \n",
              "2       Started App  \n",
              "3       Started App  \n",
              "5       Started App  "
            ],
            "text/html": [
              "\n",
              "  <div id=\"df-8819c181-3569-4b34-b50b-c1d9dd1bcd16\">\n",
              "    <div class=\"colab-df-container\">\n",
              "      <div>\n",
              "<style scoped>\n",
              "    .dataframe tbody tr th:only-of-type {\n",
              "        vertical-align: middle;\n",
              "    }\n",
              "\n",
              "    .dataframe tbody tr th {\n",
              "        vertical-align: top;\n",
              "    }\n",
              "\n",
              "    .dataframe thead th {\n",
              "        text-align: right;\n",
              "    }\n",
              "</style>\n",
              "<table border=\"1\" class=\"dataframe\">\n",
              "  <thead>\n",
              "    <tr style=\"text-align: right;\">\n",
              "      <th></th>\n",
              "      <th>ID</th>\n",
              "      <th>Degree Type</th>\n",
              "      <th>Final Recommended Decision</th>\n",
              "      <th>Admit-Coming</th>\n",
              "      <th>Application Created Date</th>\n",
              "      <th>Days Before the Beginning of Semester</th>\n",
              "      <th>Domestic or INTL Applicant</th>\n",
              "      <th>Reporting Term</th>\n",
              "      <th>Age When Applied</th>\n",
              "      <th>Zip</th>\n",
              "      <th>State</th>\n",
              "      <th>Country</th>\n",
              "      <th>Most Recent Educational Institution: Account Name</th>\n",
              "      <th>Gender</th>\n",
              "      <th>Race</th>\n",
              "      <th>Program Selection: Program Selection Name</th>\n",
              "      <th>Admissions Status</th>\n",
              "    </tr>\n",
              "  </thead>\n",
              "  <tbody>\n",
              "    <tr>\n",
              "      <th>2</th>\n",
              "      <td>3</td>\n",
              "      <td>Master's (e.g. MA, MS, EdM, MFA)</td>\n",
              "      <td>NaN</td>\n",
              "      <td>0</td>\n",
              "      <td>3/15/2022</td>\n",
              "      <td>175</td>\n",
              "      <td>Domestic</td>\n",
              "      <td>Fall 2022</td>\n",
              "      <td>22.0</td>\n",
              "      <td>07009-1245</td>\n",
              "      <td>New Jersey</td>\n",
              "      <td>United States</td>\n",
              "      <td>Mount Olive High School</td>\n",
              "      <td>Male</td>\n",
              "      <td>Asian</td>\n",
              "      <td>Biology: Computational and Integrative (MS)</td>\n",
              "      <td>Started App</td>\n",
              "    </tr>\n",
              "    <tr>\n",
              "      <th>3</th>\n",
              "      <td>4</td>\n",
              "      <td>Master's (e.g. MA, MS, EdM, MFA)</td>\n",
              "      <td>NaN</td>\n",
              "      <td>0</td>\n",
              "      <td>3/31/2022</td>\n",
              "      <td>159</td>\n",
              "      <td>Domestic</td>\n",
              "      <td>Fall 2022</td>\n",
              "      <td>23.0</td>\n",
              "      <td>07726-4660</td>\n",
              "      <td>New Jersey</td>\n",
              "      <td>United States</td>\n",
              "      <td>Suny Colg Geneseo</td>\n",
              "      <td>Female</td>\n",
              "      <td>Hispanic or Latino; White</td>\n",
              "      <td>Biology: Computational and Integrative (MS)</td>\n",
              "      <td>Started App</td>\n",
              "    </tr>\n",
              "    <tr>\n",
              "      <th>5</th>\n",
              "      <td>6</td>\n",
              "      <td>Master's (e.g. MA, MS, EdM, MFA)</td>\n",
              "      <td>NaN</td>\n",
              "      <td>0</td>\n",
              "      <td>4/20/2022</td>\n",
              "      <td>272</td>\n",
              "      <td>Domestic</td>\n",
              "      <td>Spring 2023</td>\n",
              "      <td>33.0</td>\n",
              "      <td>08755-1914</td>\n",
              "      <td>New Jersey</td>\n",
              "      <td>United States</td>\n",
              "      <td>Essex County College</td>\n",
              "      <td>Male</td>\n",
              "      <td>Black or African American</td>\n",
              "      <td>Biology: Computational and Integrative (MS)</td>\n",
              "      <td>Started App</td>\n",
              "    </tr>\n",
              "  </tbody>\n",
              "</table>\n",
              "</div>\n",
              "      <button class=\"colab-df-convert\" onclick=\"convertToInteractive('df-8819c181-3569-4b34-b50b-c1d9dd1bcd16')\"\n",
              "              title=\"Convert this dataframe to an interactive table.\"\n",
              "              style=\"display:none;\">\n",
              "        \n",
              "  <svg xmlns=\"http://www.w3.org/2000/svg\" height=\"24px\"viewBox=\"0 0 24 24\"\n",
              "       width=\"24px\">\n",
              "    <path d=\"M0 0h24v24H0V0z\" fill=\"none\"/>\n",
              "    <path d=\"M18.56 5.44l.94 2.06.94-2.06 2.06-.94-2.06-.94-.94-2.06-.94 2.06-2.06.94zm-11 1L8.5 8.5l.94-2.06 2.06-.94-2.06-.94L8.5 2.5l-.94 2.06-2.06.94zm10 10l.94 2.06.94-2.06 2.06-.94-2.06-.94-.94-2.06-.94 2.06-2.06.94z\"/><path d=\"M17.41 7.96l-1.37-1.37c-.4-.4-.92-.59-1.43-.59-.52 0-1.04.2-1.43.59L10.3 9.45l-7.72 7.72c-.78.78-.78 2.05 0 2.83L4 21.41c.39.39.9.59 1.41.59.51 0 1.02-.2 1.41-.59l7.78-7.78 2.81-2.81c.8-.78.8-2.07 0-2.86zM5.41 20L4 18.59l7.72-7.72 1.47 1.35L5.41 20z\"/>\n",
              "  </svg>\n",
              "      </button>\n",
              "      \n",
              "  <style>\n",
              "    .colab-df-container {\n",
              "      display:flex;\n",
              "      flex-wrap:wrap;\n",
              "      gap: 12px;\n",
              "    }\n",
              "\n",
              "    .colab-df-convert {\n",
              "      background-color: #E8F0FE;\n",
              "      border: none;\n",
              "      border-radius: 50%;\n",
              "      cursor: pointer;\n",
              "      display: none;\n",
              "      fill: #1967D2;\n",
              "      height: 32px;\n",
              "      padding: 0 0 0 0;\n",
              "      width: 32px;\n",
              "    }\n",
              "\n",
              "    .colab-df-convert:hover {\n",
              "      background-color: #E2EBFA;\n",
              "      box-shadow: 0px 1px 2px rgba(60, 64, 67, 0.3), 0px 1px 3px 1px rgba(60, 64, 67, 0.15);\n",
              "      fill: #174EA6;\n",
              "    }\n",
              "\n",
              "    [theme=dark] .colab-df-convert {\n",
              "      background-color: #3B4455;\n",
              "      fill: #D2E3FC;\n",
              "    }\n",
              "\n",
              "    [theme=dark] .colab-df-convert:hover {\n",
              "      background-color: #434B5C;\n",
              "      box-shadow: 0px 1px 3px 1px rgba(0, 0, 0, 0.15);\n",
              "      filter: drop-shadow(0px 1px 2px rgba(0, 0, 0, 0.3));\n",
              "      fill: #FFFFFF;\n",
              "    }\n",
              "  </style>\n",
              "\n",
              "      <script>\n",
              "        const buttonEl =\n",
              "          document.querySelector('#df-8819c181-3569-4b34-b50b-c1d9dd1bcd16 button.colab-df-convert');\n",
              "        buttonEl.style.display =\n",
              "          google.colab.kernel.accessAllowed ? 'block' : 'none';\n",
              "\n",
              "        async function convertToInteractive(key) {\n",
              "          const element = document.querySelector('#df-8819c181-3569-4b34-b50b-c1d9dd1bcd16');\n",
              "          const dataTable =\n",
              "            await google.colab.kernel.invokeFunction('convertToInteractive',\n",
              "                                                     [key], {});\n",
              "          if (!dataTable) return;\n",
              "\n",
              "          const docLinkHtml = 'Like what you see? Visit the ' +\n",
              "            '<a target=\"_blank\" href=https://colab.research.google.com/notebooks/data_table.ipynb>data table notebook</a>'\n",
              "            + ' to learn more about interactive tables.';\n",
              "          element.innerHTML = '';\n",
              "          dataTable['output_type'] = 'display_data';\n",
              "          await google.colab.output.renderOutput(dataTable, element);\n",
              "          const docLink = document.createElement('div');\n",
              "          docLink.innerHTML = docLinkHtml;\n",
              "          element.appendChild(docLink);\n",
              "        }\n",
              "      </script>\n",
              "    </div>\n",
              "  </div>\n",
              "  "
            ]
          },
          "metadata": {},
          "execution_count": 18
        }
      ]
    },
    {
      "cell_type": "code",
      "source": [
        "#This is much easier to read. I can see the multiple ways New Jersey is listed in the data. I now need to isolate New Jersey. \n",
        "print(usappdat.State.unique())"
      ],
      "metadata": {
        "colab": {
          "base_uri": "https://localhost:8080/"
        },
        "id": "-4v-4d0P7zGG",
        "outputId": "7805c361-80c2-45ac-95a7-254059f0e1d9"
      },
      "execution_count": 19,
      "outputs": [
        {
          "output_type": "stream",
          "name": "stdout",
          "text": [
            "['New Jersey' 'Maryland' 'New York' 'Ohio' 'Pennsylvania' 'Illinois'\n",
            " 'Delaware' 'Massachusetts' 'West Virginia' 'PA' 'Virginia' 'NJ'\n",
            " 'Colorado' 'California' 'Washington' 'Rhode Island' 'Missouri' 'NY'\n",
            " 'New Hampshire' 'Indiana' 'Oregon' 'AP' 'AZ' 'FL' 'Arizona' 'Texas'\n",
            " 'Wisconsin' 'North Carolina' 'Minnesota' 'Georgia' 'Iowa' 'Alabama' 'MA'\n",
            " 'Tennessee' 'Mississippi' 'District Of Columbia' 'Florida' 'Montana'\n",
            " 'Connecticut' 'WI' 'OH' 'MD' 'Vermont' 'Lousiana' 'Nevada' 'MI' 'CA'\n",
            " 'Michigan' 'DC' 'Nj' 'new jersey' 'TX' 'Louisiana' 'Idaho' 'Kansas' 'CT'\n",
            " 'RI' 'md' 'AE' 'IN' 'NM' 'Nebraska' 'Maine' 'Arkansas' 'texas'\n",
            " 'Armed Forces' 'New Mexico' 'South Carolina' 'District of Columbia' 'KS'\n",
            " 'pa' 'nj' 'OK' 'KY']\n"
          ]
        }
      ]
    },
    {
      "cell_type": "code",
      "source": [
        "usappdat['State']=usappdat['State'].replace(['NJ','Nj','new jersey','nj'],'New Jersey')"
      ],
      "metadata": {
        "colab": {
          "base_uri": "https://localhost:8080/"
        },
        "id": "perhO8xj8KTn",
        "outputId": "61f23d08-7d39-4b02-bb4c-fb5d3370e165"
      },
      "execution_count": 20,
      "outputs": [
        {
          "output_type": "stream",
          "name": "stderr",
          "text": [
            "<ipython-input-20-4fbae95450e2>:1: SettingWithCopyWarning: \n",
            "A value is trying to be set on a copy of a slice from a DataFrame.\n",
            "Try using .loc[row_indexer,col_indexer] = value instead\n",
            "\n",
            "See the caveats in the documentation: https://pandas.pydata.org/pandas-docs/stable/user_guide/indexing.html#returning-a-view-versus-a-copy\n",
            "  usappdat['State']=usappdat['State'].replace(['NJ','Nj','new jersey','nj'],'New Jersey')\n"
          ]
        }
      ]
    },
    {
      "cell_type": "code",
      "source": [
        "print(usappdat.State.unique()) #aok: not necessarily now, again we want to be efficient and only do whats necessary; but do make a note for yourself like eg:\n",
        "#KLUDGE or BUG or LATER: fix other states eg pa PA Pennsylvania etc\n",
        "#btw this can be probably easily fixed from the getgo: probably applicant types in state into box\n",
        "#contact IT to have a drop-down menu, then everything will be consistent"
      ],
      "metadata": {
        "colab": {
          "base_uri": "https://localhost:8080/"
        },
        "id": "chsC4i9J-xsr",
        "outputId": "cb091e3b-3ae0-4916-cf72-6882adcbf043"
      },
      "execution_count": 21,
      "outputs": [
        {
          "output_type": "stream",
          "name": "stdout",
          "text": [
            "['New Jersey' 'Maryland' 'New York' 'Ohio' 'Pennsylvania' 'Illinois'\n",
            " 'Delaware' 'Massachusetts' 'West Virginia' 'PA' 'Virginia' 'Colorado'\n",
            " 'California' 'Washington' 'Rhode Island' 'Missouri' 'NY' 'New Hampshire'\n",
            " 'Indiana' 'Oregon' 'AP' 'AZ' 'FL' 'Arizona' 'Texas' 'Wisconsin'\n",
            " 'North Carolina' 'Minnesota' 'Georgia' 'Iowa' 'Alabama' 'MA' 'Tennessee'\n",
            " 'Mississippi' 'District Of Columbia' 'Florida' 'Montana' 'Connecticut'\n",
            " 'WI' 'OH' 'MD' 'Vermont' 'Lousiana' 'Nevada' 'MI' 'CA' 'Michigan' 'DC'\n",
            " 'TX' 'Louisiana' 'Idaho' 'Kansas' 'CT' 'RI' 'md' 'AE' 'IN' 'NM'\n",
            " 'Nebraska' 'Maine' 'Arkansas' 'texas' 'Armed Forces' 'New Mexico'\n",
            " 'South Carolina' 'District of Columbia' 'KS' 'pa' 'OK' 'KY']\n"
          ]
        }
      ]
    },
    {
      "cell_type": "code",
      "source": [
        "njappdat = usappdat.query(\"State=='New Jersey'\")\n",
        "njappdat.head(3)"
      ],
      "metadata": {
        "colab": {
          "base_uri": "https://localhost:8080/",
          "height": 555
        },
        "id": "gQQZZZw1_Taq",
        "outputId": "0f5db263-7282-48e7-f9fb-1c01c034c41b"
      },
      "execution_count": 23,
      "outputs": [
        {
          "output_type": "execute_result",
          "data": {
            "text/plain": [
              "   ID                        Degree Type Final Recommended Decision  \\\n",
              "2    3  Master's (e.g. MA, MS, EdM, MFA)                        NaN   \n",
              "3    4  Master's (e.g. MA, MS, EdM, MFA)                        NaN   \n",
              "5    6  Master's (e.g. MA, MS, EdM, MFA)                        NaN   \n",
              "\n",
              "   Admit-Coming Application Created Date  \\\n",
              "2             0                3/15/2022   \n",
              "3             0                3/31/2022   \n",
              "5             0                4/20/2022   \n",
              "\n",
              "   Days Before the Beginning of Semester  Domestic or INTL Applicant  \\\n",
              "2                                     175                   Domestic   \n",
              "3                                     159                   Domestic   \n",
              "5                                     272                   Domestic   \n",
              "\n",
              "  Reporting Term  Age When Applied         Zip       State        Country  \\\n",
              "2      Fall 2022              22.0  07009-1245  New Jersey  United States   \n",
              "3      Fall 2022              23.0  07726-4660  New Jersey  United States   \n",
              "5    Spring 2023              33.0  08755-1914  New Jersey  United States   \n",
              "\n",
              "  Most Recent Educational Institution: Account Name  Gender  \\\n",
              "2                           Mount Olive High School    Male   \n",
              "3                                 Suny Colg Geneseo  Female   \n",
              "5                              Essex County College    Male   \n",
              "\n",
              "                        Race    Program Selection: Program Selection Name  \\\n",
              "2                      Asian  Biology: Computational and Integrative (MS)   \n",
              "3  Hispanic or Latino; White  Biology: Computational and Integrative (MS)   \n",
              "5  Black or African American  Biology: Computational and Integrative (MS)   \n",
              "\n",
              "  Admissions Status  \n",
              "2       Started App  \n",
              "3       Started App  \n",
              "5       Started App  "
            ],
            "text/html": [
              "\n",
              "  <div id=\"df-9ca87604-b8ef-4246-925c-770eef904ce4\">\n",
              "    <div class=\"colab-df-container\">\n",
              "      <div>\n",
              "<style scoped>\n",
              "    .dataframe tbody tr th:only-of-type {\n",
              "        vertical-align: middle;\n",
              "    }\n",
              "\n",
              "    .dataframe tbody tr th {\n",
              "        vertical-align: top;\n",
              "    }\n",
              "\n",
              "    .dataframe thead th {\n",
              "        text-align: right;\n",
              "    }\n",
              "</style>\n",
              "<table border=\"1\" class=\"dataframe\">\n",
              "  <thead>\n",
              "    <tr style=\"text-align: right;\">\n",
              "      <th></th>\n",
              "      <th>ID</th>\n",
              "      <th>Degree Type</th>\n",
              "      <th>Final Recommended Decision</th>\n",
              "      <th>Admit-Coming</th>\n",
              "      <th>Application Created Date</th>\n",
              "      <th>Days Before the Beginning of Semester</th>\n",
              "      <th>Domestic or INTL Applicant</th>\n",
              "      <th>Reporting Term</th>\n",
              "      <th>Age When Applied</th>\n",
              "      <th>Zip</th>\n",
              "      <th>State</th>\n",
              "      <th>Country</th>\n",
              "      <th>Most Recent Educational Institution: Account Name</th>\n",
              "      <th>Gender</th>\n",
              "      <th>Race</th>\n",
              "      <th>Program Selection: Program Selection Name</th>\n",
              "      <th>Admissions Status</th>\n",
              "    </tr>\n",
              "  </thead>\n",
              "  <tbody>\n",
              "    <tr>\n",
              "      <th>2</th>\n",
              "      <td>3</td>\n",
              "      <td>Master's (e.g. MA, MS, EdM, MFA)</td>\n",
              "      <td>NaN</td>\n",
              "      <td>0</td>\n",
              "      <td>3/15/2022</td>\n",
              "      <td>175</td>\n",
              "      <td>Domestic</td>\n",
              "      <td>Fall 2022</td>\n",
              "      <td>22.0</td>\n",
              "      <td>07009-1245</td>\n",
              "      <td>New Jersey</td>\n",
              "      <td>United States</td>\n",
              "      <td>Mount Olive High School</td>\n",
              "      <td>Male</td>\n",
              "      <td>Asian</td>\n",
              "      <td>Biology: Computational and Integrative (MS)</td>\n",
              "      <td>Started App</td>\n",
              "    </tr>\n",
              "    <tr>\n",
              "      <th>3</th>\n",
              "      <td>4</td>\n",
              "      <td>Master's (e.g. MA, MS, EdM, MFA)</td>\n",
              "      <td>NaN</td>\n",
              "      <td>0</td>\n",
              "      <td>3/31/2022</td>\n",
              "      <td>159</td>\n",
              "      <td>Domestic</td>\n",
              "      <td>Fall 2022</td>\n",
              "      <td>23.0</td>\n",
              "      <td>07726-4660</td>\n",
              "      <td>New Jersey</td>\n",
              "      <td>United States</td>\n",
              "      <td>Suny Colg Geneseo</td>\n",
              "      <td>Female</td>\n",
              "      <td>Hispanic or Latino; White</td>\n",
              "      <td>Biology: Computational and Integrative (MS)</td>\n",
              "      <td>Started App</td>\n",
              "    </tr>\n",
              "    <tr>\n",
              "      <th>5</th>\n",
              "      <td>6</td>\n",
              "      <td>Master's (e.g. MA, MS, EdM, MFA)</td>\n",
              "      <td>NaN</td>\n",
              "      <td>0</td>\n",
              "      <td>4/20/2022</td>\n",
              "      <td>272</td>\n",
              "      <td>Domestic</td>\n",
              "      <td>Spring 2023</td>\n",
              "      <td>33.0</td>\n",
              "      <td>08755-1914</td>\n",
              "      <td>New Jersey</td>\n",
              "      <td>United States</td>\n",
              "      <td>Essex County College</td>\n",
              "      <td>Male</td>\n",
              "      <td>Black or African American</td>\n",
              "      <td>Biology: Computational and Integrative (MS)</td>\n",
              "      <td>Started App</td>\n",
              "    </tr>\n",
              "  </tbody>\n",
              "</table>\n",
              "</div>\n",
              "      <button class=\"colab-df-convert\" onclick=\"convertToInteractive('df-9ca87604-b8ef-4246-925c-770eef904ce4')\"\n",
              "              title=\"Convert this dataframe to an interactive table.\"\n",
              "              style=\"display:none;\">\n",
              "        \n",
              "  <svg xmlns=\"http://www.w3.org/2000/svg\" height=\"24px\"viewBox=\"0 0 24 24\"\n",
              "       width=\"24px\">\n",
              "    <path d=\"M0 0h24v24H0V0z\" fill=\"none\"/>\n",
              "    <path d=\"M18.56 5.44l.94 2.06.94-2.06 2.06-.94-2.06-.94-.94-2.06-.94 2.06-2.06.94zm-11 1L8.5 8.5l.94-2.06 2.06-.94-2.06-.94L8.5 2.5l-.94 2.06-2.06.94zm10 10l.94 2.06.94-2.06 2.06-.94-2.06-.94-.94-2.06-.94 2.06-2.06.94z\"/><path d=\"M17.41 7.96l-1.37-1.37c-.4-.4-.92-.59-1.43-.59-.52 0-1.04.2-1.43.59L10.3 9.45l-7.72 7.72c-.78.78-.78 2.05 0 2.83L4 21.41c.39.39.9.59 1.41.59.51 0 1.02-.2 1.41-.59l7.78-7.78 2.81-2.81c.8-.78.8-2.07 0-2.86zM5.41 20L4 18.59l7.72-7.72 1.47 1.35L5.41 20z\"/>\n",
              "  </svg>\n",
              "      </button>\n",
              "      \n",
              "  <style>\n",
              "    .colab-df-container {\n",
              "      display:flex;\n",
              "      flex-wrap:wrap;\n",
              "      gap: 12px;\n",
              "    }\n",
              "\n",
              "    .colab-df-convert {\n",
              "      background-color: #E8F0FE;\n",
              "      border: none;\n",
              "      border-radius: 50%;\n",
              "      cursor: pointer;\n",
              "      display: none;\n",
              "      fill: #1967D2;\n",
              "      height: 32px;\n",
              "      padding: 0 0 0 0;\n",
              "      width: 32px;\n",
              "    }\n",
              "\n",
              "    .colab-df-convert:hover {\n",
              "      background-color: #E2EBFA;\n",
              "      box-shadow: 0px 1px 2px rgba(60, 64, 67, 0.3), 0px 1px 3px 1px rgba(60, 64, 67, 0.15);\n",
              "      fill: #174EA6;\n",
              "    }\n",
              "\n",
              "    [theme=dark] .colab-df-convert {\n",
              "      background-color: #3B4455;\n",
              "      fill: #D2E3FC;\n",
              "    }\n",
              "\n",
              "    [theme=dark] .colab-df-convert:hover {\n",
              "      background-color: #434B5C;\n",
              "      box-shadow: 0px 1px 3px 1px rgba(0, 0, 0, 0.15);\n",
              "      filter: drop-shadow(0px 1px 2px rgba(0, 0, 0, 0.3));\n",
              "      fill: #FFFFFF;\n",
              "    }\n",
              "  </style>\n",
              "\n",
              "      <script>\n",
              "        const buttonEl =\n",
              "          document.querySelector('#df-9ca87604-b8ef-4246-925c-770eef904ce4 button.colab-df-convert');\n",
              "        buttonEl.style.display =\n",
              "          google.colab.kernel.accessAllowed ? 'block' : 'none';\n",
              "\n",
              "        async function convertToInteractive(key) {\n",
              "          const element = document.querySelector('#df-9ca87604-b8ef-4246-925c-770eef904ce4');\n",
              "          const dataTable =\n",
              "            await google.colab.kernel.invokeFunction('convertToInteractive',\n",
              "                                                     [key], {});\n",
              "          if (!dataTable) return;\n",
              "\n",
              "          const docLinkHtml = 'Like what you see? Visit the ' +\n",
              "            '<a target=\"_blank\" href=https://colab.research.google.com/notebooks/data_table.ipynb>data table notebook</a>'\n",
              "            + ' to learn more about interactive tables.';\n",
              "          element.innerHTML = '';\n",
              "          dataTable['output_type'] = 'display_data';\n",
              "          await google.colab.output.renderOutput(dataTable, element);\n",
              "          const docLink = document.createElement('div');\n",
              "          docLink.innerHTML = docLinkHtml;\n",
              "          element.appendChild(docLink);\n",
              "        }\n",
              "      </script>\n",
              "    </div>\n",
              "  </div>\n",
              "  "
            ]
          },
          "metadata": {},
          "execution_count": 23
        }
      ]
    },
    {
      "cell_type": "code",
      "source": [
        "njappdat['C_Zip']=njappdat['Zip'].str[:5]\n",
        "njappdat.head(3)"
      ],
      "metadata": {
        "colab": {
          "base_uri": "https://localhost:8080/",
          "height": 668
        },
        "id": "W-7cPG_TAT6r",
        "outputId": "e0747635-cd68-4b12-bdeb-fcd7af1c3da3"
      },
      "execution_count": 24,
      "outputs": [
        {
          "output_type": "stream",
          "name": "stderr",
          "text": [
            "<ipython-input-24-088877dd01eb>:1: SettingWithCopyWarning: \n",
            "A value is trying to be set on a copy of a slice from a DataFrame.\n",
            "Try using .loc[row_indexer,col_indexer] = value instead\n",
            "\n",
            "See the caveats in the documentation: https://pandas.pydata.org/pandas-docs/stable/user_guide/indexing.html#returning-a-view-versus-a-copy\n",
            "  njappdat['C_Zip']=njappdat['Zip'].str[:5]\n"
          ]
        },
        {
          "output_type": "execute_result",
          "data": {
            "text/plain": [
              "   ID                        Degree Type Final Recommended Decision  \\\n",
              "2    3  Master's (e.g. MA, MS, EdM, MFA)                        NaN   \n",
              "3    4  Master's (e.g. MA, MS, EdM, MFA)                        NaN   \n",
              "5    6  Master's (e.g. MA, MS, EdM, MFA)                        NaN   \n",
              "\n",
              "   Admit-Coming Application Created Date  \\\n",
              "2             0                3/15/2022   \n",
              "3             0                3/31/2022   \n",
              "5             0                4/20/2022   \n",
              "\n",
              "   Days Before the Beginning of Semester  Domestic or INTL Applicant  \\\n",
              "2                                     175                   Domestic   \n",
              "3                                     159                   Domestic   \n",
              "5                                     272                   Domestic   \n",
              "\n",
              "  Reporting Term  Age When Applied         Zip       State        Country  \\\n",
              "2      Fall 2022              22.0  07009-1245  New Jersey  United States   \n",
              "3      Fall 2022              23.0  07726-4660  New Jersey  United States   \n",
              "5    Spring 2023              33.0  08755-1914  New Jersey  United States   \n",
              "\n",
              "  Most Recent Educational Institution: Account Name  Gender  \\\n",
              "2                           Mount Olive High School    Male   \n",
              "3                                 Suny Colg Geneseo  Female   \n",
              "5                              Essex County College    Male   \n",
              "\n",
              "                        Race    Program Selection: Program Selection Name  \\\n",
              "2                      Asian  Biology: Computational and Integrative (MS)   \n",
              "3  Hispanic or Latino; White  Biology: Computational and Integrative (MS)   \n",
              "5  Black or African American  Biology: Computational and Integrative (MS)   \n",
              "\n",
              "  Admissions Status  C_Zip  \n",
              "2       Started App  07009  \n",
              "3       Started App  07726  \n",
              "5       Started App  08755  "
            ],
            "text/html": [
              "\n",
              "  <div id=\"df-d51cfaa8-3d20-4d35-a6e9-1e6889349e21\">\n",
              "    <div class=\"colab-df-container\">\n",
              "      <div>\n",
              "<style scoped>\n",
              "    .dataframe tbody tr th:only-of-type {\n",
              "        vertical-align: middle;\n",
              "    }\n",
              "\n",
              "    .dataframe tbody tr th {\n",
              "        vertical-align: top;\n",
              "    }\n",
              "\n",
              "    .dataframe thead th {\n",
              "        text-align: right;\n",
              "    }\n",
              "</style>\n",
              "<table border=\"1\" class=\"dataframe\">\n",
              "  <thead>\n",
              "    <tr style=\"text-align: right;\">\n",
              "      <th></th>\n",
              "      <th>ID</th>\n",
              "      <th>Degree Type</th>\n",
              "      <th>Final Recommended Decision</th>\n",
              "      <th>Admit-Coming</th>\n",
              "      <th>Application Created Date</th>\n",
              "      <th>Days Before the Beginning of Semester</th>\n",
              "      <th>Domestic or INTL Applicant</th>\n",
              "      <th>Reporting Term</th>\n",
              "      <th>Age When Applied</th>\n",
              "      <th>Zip</th>\n",
              "      <th>State</th>\n",
              "      <th>Country</th>\n",
              "      <th>Most Recent Educational Institution: Account Name</th>\n",
              "      <th>Gender</th>\n",
              "      <th>Race</th>\n",
              "      <th>Program Selection: Program Selection Name</th>\n",
              "      <th>Admissions Status</th>\n",
              "      <th>C_Zip</th>\n",
              "    </tr>\n",
              "  </thead>\n",
              "  <tbody>\n",
              "    <tr>\n",
              "      <th>2</th>\n",
              "      <td>3</td>\n",
              "      <td>Master's (e.g. MA, MS, EdM, MFA)</td>\n",
              "      <td>NaN</td>\n",
              "      <td>0</td>\n",
              "      <td>3/15/2022</td>\n",
              "      <td>175</td>\n",
              "      <td>Domestic</td>\n",
              "      <td>Fall 2022</td>\n",
              "      <td>22.0</td>\n",
              "      <td>07009-1245</td>\n",
              "      <td>New Jersey</td>\n",
              "      <td>United States</td>\n",
              "      <td>Mount Olive High School</td>\n",
              "      <td>Male</td>\n",
              "      <td>Asian</td>\n",
              "      <td>Biology: Computational and Integrative (MS)</td>\n",
              "      <td>Started App</td>\n",
              "      <td>07009</td>\n",
              "    </tr>\n",
              "    <tr>\n",
              "      <th>3</th>\n",
              "      <td>4</td>\n",
              "      <td>Master's (e.g. MA, MS, EdM, MFA)</td>\n",
              "      <td>NaN</td>\n",
              "      <td>0</td>\n",
              "      <td>3/31/2022</td>\n",
              "      <td>159</td>\n",
              "      <td>Domestic</td>\n",
              "      <td>Fall 2022</td>\n",
              "      <td>23.0</td>\n",
              "      <td>07726-4660</td>\n",
              "      <td>New Jersey</td>\n",
              "      <td>United States</td>\n",
              "      <td>Suny Colg Geneseo</td>\n",
              "      <td>Female</td>\n",
              "      <td>Hispanic or Latino; White</td>\n",
              "      <td>Biology: Computational and Integrative (MS)</td>\n",
              "      <td>Started App</td>\n",
              "      <td>07726</td>\n",
              "    </tr>\n",
              "    <tr>\n",
              "      <th>5</th>\n",
              "      <td>6</td>\n",
              "      <td>Master's (e.g. MA, MS, EdM, MFA)</td>\n",
              "      <td>NaN</td>\n",
              "      <td>0</td>\n",
              "      <td>4/20/2022</td>\n",
              "      <td>272</td>\n",
              "      <td>Domestic</td>\n",
              "      <td>Spring 2023</td>\n",
              "      <td>33.0</td>\n",
              "      <td>08755-1914</td>\n",
              "      <td>New Jersey</td>\n",
              "      <td>United States</td>\n",
              "      <td>Essex County College</td>\n",
              "      <td>Male</td>\n",
              "      <td>Black or African American</td>\n",
              "      <td>Biology: Computational and Integrative (MS)</td>\n",
              "      <td>Started App</td>\n",
              "      <td>08755</td>\n",
              "    </tr>\n",
              "  </tbody>\n",
              "</table>\n",
              "</div>\n",
              "      <button class=\"colab-df-convert\" onclick=\"convertToInteractive('df-d51cfaa8-3d20-4d35-a6e9-1e6889349e21')\"\n",
              "              title=\"Convert this dataframe to an interactive table.\"\n",
              "              style=\"display:none;\">\n",
              "        \n",
              "  <svg xmlns=\"http://www.w3.org/2000/svg\" height=\"24px\"viewBox=\"0 0 24 24\"\n",
              "       width=\"24px\">\n",
              "    <path d=\"M0 0h24v24H0V0z\" fill=\"none\"/>\n",
              "    <path d=\"M18.56 5.44l.94 2.06.94-2.06 2.06-.94-2.06-.94-.94-2.06-.94 2.06-2.06.94zm-11 1L8.5 8.5l.94-2.06 2.06-.94-2.06-.94L8.5 2.5l-.94 2.06-2.06.94zm10 10l.94 2.06.94-2.06 2.06-.94-2.06-.94-.94-2.06-.94 2.06-2.06.94z\"/><path d=\"M17.41 7.96l-1.37-1.37c-.4-.4-.92-.59-1.43-.59-.52 0-1.04.2-1.43.59L10.3 9.45l-7.72 7.72c-.78.78-.78 2.05 0 2.83L4 21.41c.39.39.9.59 1.41.59.51 0 1.02-.2 1.41-.59l7.78-7.78 2.81-2.81c.8-.78.8-2.07 0-2.86zM5.41 20L4 18.59l7.72-7.72 1.47 1.35L5.41 20z\"/>\n",
              "  </svg>\n",
              "      </button>\n",
              "      \n",
              "  <style>\n",
              "    .colab-df-container {\n",
              "      display:flex;\n",
              "      flex-wrap:wrap;\n",
              "      gap: 12px;\n",
              "    }\n",
              "\n",
              "    .colab-df-convert {\n",
              "      background-color: #E8F0FE;\n",
              "      border: none;\n",
              "      border-radius: 50%;\n",
              "      cursor: pointer;\n",
              "      display: none;\n",
              "      fill: #1967D2;\n",
              "      height: 32px;\n",
              "      padding: 0 0 0 0;\n",
              "      width: 32px;\n",
              "    }\n",
              "\n",
              "    .colab-df-convert:hover {\n",
              "      background-color: #E2EBFA;\n",
              "      box-shadow: 0px 1px 2px rgba(60, 64, 67, 0.3), 0px 1px 3px 1px rgba(60, 64, 67, 0.15);\n",
              "      fill: #174EA6;\n",
              "    }\n",
              "\n",
              "    [theme=dark] .colab-df-convert {\n",
              "      background-color: #3B4455;\n",
              "      fill: #D2E3FC;\n",
              "    }\n",
              "\n",
              "    [theme=dark] .colab-df-convert:hover {\n",
              "      background-color: #434B5C;\n",
              "      box-shadow: 0px 1px 3px 1px rgba(0, 0, 0, 0.15);\n",
              "      filter: drop-shadow(0px 1px 2px rgba(0, 0, 0, 0.3));\n",
              "      fill: #FFFFFF;\n",
              "    }\n",
              "  </style>\n",
              "\n",
              "      <script>\n",
              "        const buttonEl =\n",
              "          document.querySelector('#df-d51cfaa8-3d20-4d35-a6e9-1e6889349e21 button.colab-df-convert');\n",
              "        buttonEl.style.display =\n",
              "          google.colab.kernel.accessAllowed ? 'block' : 'none';\n",
              "\n",
              "        async function convertToInteractive(key) {\n",
              "          const element = document.querySelector('#df-d51cfaa8-3d20-4d35-a6e9-1e6889349e21');\n",
              "          const dataTable =\n",
              "            await google.colab.kernel.invokeFunction('convertToInteractive',\n",
              "                                                     [key], {});\n",
              "          if (!dataTable) return;\n",
              "\n",
              "          const docLinkHtml = 'Like what you see? Visit the ' +\n",
              "            '<a target=\"_blank\" href=https://colab.research.google.com/notebooks/data_table.ipynb>data table notebook</a>'\n",
              "            + ' to learn more about interactive tables.';\n",
              "          element.innerHTML = '';\n",
              "          dataTable['output_type'] = 'display_data';\n",
              "          await google.colab.output.renderOutput(dataTable, element);\n",
              "          const docLink = document.createElement('div');\n",
              "          docLink.innerHTML = docLinkHtml;\n",
              "          element.appendChild(docLink);\n",
              "        }\n",
              "      </script>\n",
              "    </div>\n",
              "  </div>\n",
              "  "
            ]
          },
          "metadata": {},
          "execution_count": 24
        }
      ]
    },
    {
      "cell_type": "code",
      "source": [
        "njappdat['C_Zip'].unique() #aok yeah already here issues"
      ],
      "metadata": {
        "id": "5hSCsg3mg2JA",
        "outputId": "9d89a1c8-b098-457e-c339-f25c1c5eb1ff",
        "colab": {
          "base_uri": "https://localhost:8080/"
        }
      },
      "execution_count": 26,
      "outputs": [
        {
          "output_type": "execute_result",
          "data": {
            "text/plain": [
              "array(['07009', '07726', '08755', '08850', '07052', '07871', '08034',\n",
              "       '08107', '07522', '08016', '81021', '8904', '08012', '7306',\n",
              "       '07450', '08055', '08004', '8102', '08002', '08083', '7036',\n",
              "       '08003', '08824', '08066', '08031', '08536', '08109', '08028',\n",
              "       '08527', '08108', '08558', '08904', '08873', '8401', '07304',\n",
              "       '08052', '08103', '08502', '08088', '8064', '08102', '8002',\n",
              "       '08837', '08048', '08007', '08005', '08021', '8060', '08081',\n",
              "       '08046', '08075', '08053', '08104', '8043', '08360', '08901',\n",
              "       '08330', '8810', '8033', '08520', '8817', '08204', '07666',\n",
              "       '08865', '08078', '7960', '08618', '07031', '8054', '08234',\n",
              "       '07030', '08057', '8505', '07045', '08690', '7111', '08022',\n",
              "       '07830', '08753', '07735', '08343', '07311', '08105', '08009',\n",
              "       '07103', '8104', '7734', '08093', '08611', '07753', '07675',\n",
              "       '8078', '08065', '8081', '07108', '8059', '08096', '8830', '7055',\n",
              "       '08833', '8075', '07728', '08010', '8824', '8869', '08071', '8857',\n",
              "       '08857', '08361', '08205', '08619', '08037', '8012', '08049',\n",
              "       '8015', '8077', '7724', '07436', '07083', '07060', '08822',\n",
              "       '07055', '08861', '07011', '08401', '08061', '7203', '07747',\n",
              "       '07109', '8030', '08512', '8108', '08317', '7003', '8093', '8071',\n",
              "       '08610', '08876', '07405', '08087', '08648', '8088', '07960',\n",
              "       '07063', '7110', '07719', '08816', '8055', '08844', '07047',\n",
              "       '07731', '07974', '07840', '07041', '08854', '07016', '08831',\n",
              "       '8873', '07090', '08848', '07042', '07106', '08054', '07660',\n",
              "       '08550', '08540', '08902', '08302', '08079', '08085', '07442',\n",
              "       '08091', '07013', '08534', '08094', '08097', '8046', '8068',\n",
              "       '08629', '8107', '08077', '07950', '7076', '8009', '7079', '8533',\n",
              "       '07481', '8052', '8053', '08059', '08226', '08019', '8755',\n",
              "       '08530', '08043', '8217', '08505', '08060', '07008', '7302',\n",
              "       '08515', '08251', '7104', '07104', '08062', '8021', '8034',\n",
              "       '08221', '7050', '07044', '8094', '08080', '8753', '8618', '08110',\n",
              "       '7701', '08033', '8090', '07932', '08069', '08232', '07727',\n",
              "       '08691', '08035', '8110', '08029', '08106', '8322', '07040',\n",
              "       '8232'], dtype=object)"
            ]
          },
          "metadata": {},
          "execution_count": 26
        }
      ]
    },
    {
      "cell_type": "markdown",
      "source": [
        "### Import: Data File 2: New Jersey Unemployment Data by County\n",
        "Retrieved this data from Social Explorer https://www.socialexplorer.com/tables/US_unemployment_2021/R13293445."
      ],
      "metadata": {
        "id": "SZdegZX1wOHR"
      }
    },
    {
      "cell_type": "code",
      "source": [
        "urllib.request.urlretrieve(\"https://raw.githubusercontent.com/ewattudo/vis1/main/R13290836_SL050.csv\", \"njunemp21.csv\")"
      ],
      "metadata": {
        "colab": {
          "base_uri": "https://localhost:8080/"
        },
        "id": "2EuMtIsVwhtW",
        "outputId": "022d4b40-d283-4828-a32a-d55c38d2ac38"
      },
      "execution_count": 33,
      "outputs": [
        {
          "output_type": "execute_result",
          "data": {
            "text/plain": [
              "('njunemp21.csv', <http.client.HTTPMessage at 0x7f3c63d9f0a0>)"
            ]
          },
          "metadata": {},
          "execution_count": 33
        }
      ]
    },
    {
      "cell_type": "code",
      "source": [
        "os.getcwd() #pwd\n",
        "os.listdir() #compare to clicking on the left the folder icon #dir"
      ],
      "metadata": {
        "colab": {
          "base_uri": "https://localhost:8080/",
          "height": 36
        },
        "id": "glr9EQWnw80k",
        "outputId": "5e96ee71-109b-4b29-98ed-443186133d37"
      },
      "execution_count": 34,
      "outputs": [
        {
          "output_type": "execute_result",
          "data": {
            "text/plain": [
              "'/content'"
            ],
            "application/vnd.google.colaboratory.intrinsic+json": {
              "type": "string"
            }
          },
          "metadata": {},
          "execution_count": 34
        },
        {
          "output_type": "execute_result",
          "data": {
            "text/plain": [
              "['.config', 'njunemp21.csv', 'appdata', 'sample_data']"
            ]
          },
          "metadata": {},
          "execution_count": 34
        }
      ]
    },
    {
      "cell_type": "code",
      "source": [
        "njunemp=pd.read_csv('njunemp21.csv')"
      ],
      "metadata": {
        "id": "qWIsBGGSxAWg"
      },
      "execution_count": 35,
      "outputs": []
    },
    {
      "cell_type": "code",
      "source": [
        "#Rename is extremely important here, because the column headers are not intuitive.I am glad I had the url listed. \n",
        "njunemp.columns"
      ],
      "metadata": {
        "colab": {
          "base_uri": "https://localhost:8080/"
        },
        "id": "C0sESFM0xr3o",
        "outputId": "c37f7078-0202-425c-b545-7514c148ec8c"
      },
      "execution_count": 36,
      "outputs": [
        {
          "output_type": "execute_result",
          "data": {
            "text/plain": [
              "Index(['Geo_FIPS', 'Geo_NAME', 'Geo_QNAME', 'Geo_NATION', 'Geo_STATE',\n",
              "       'Geo_COUNTY', 'Geo_MSA', 'ORG_US_007_001', 'ORG_US_007_002',\n",
              "       'ORG_US_007_003', 'ORG_US_007_004', 'ORG_US_Unemployment_027_001',\n",
              "       'ORG_US_Unemployment_027_002', 'ORG_US_Unemployment_027_003',\n",
              "       'ORG_US_Unemployment_027_004', 'ORG_US_Unemployment_020_001',\n",
              "       'ORG_US_Unemployment_020_002', 'ORG_US_Unemployment_020_003',\n",
              "       'ORG_US_Unemployment_020_004', 'ORG_US_035_001', 'ORG_US_035_002',\n",
              "       'ORG_US_035_003', 'ORG_US_035_004'],\n",
              "      dtype='object')"
            ]
          },
          "metadata": {},
          "execution_count": 36
        }
      ]
    },
    {
      "cell_type": "code",
      "source": [
        "njunemp.head(3)"
      ],
      "metadata": {
        "colab": {
          "base_uri": "https://localhost:8080/",
          "height": 341
        },
        "id": "NqfpvozXxwKC",
        "outputId": "346de26f-ff7c-43ea-a120-aace822fc68a"
      },
      "execution_count": 37,
      "outputs": [
        {
          "output_type": "execute_result",
          "data": {
            "text/plain": [
              "   Geo_FIPS           Geo_NAME                      Geo_QNAME  Geo_NATION  \\\n",
              "0     34001    Atlantic County    Atlantic County, New Jersey           0   \n",
              "1     34003      Bergen County      Bergen County, New Jersey           0   \n",
              "2     34005  Burlington County  Burlington County, New Jersey           0   \n",
              "\n",
              "   Geo_STATE  Geo_COUNTY  Geo_MSA  ORG_US_007_001  ORG_US_007_002  \\\n",
              "0         34           1      NaN          121301          108221   \n",
              "1         34           3      NaN          469719          435114   \n",
              "2         34           5      NaN          232113          216827   \n",
              "\n",
              "   ORG_US_007_003  ...  ORG_US_Unemployment_027_003  \\\n",
              "0           13080  ...                        30795   \n",
              "1           34605  ...                        70140   \n",
              "2           15286  ...                        27756   \n",
              "\n",
              "   ORG_US_Unemployment_027_004  ORG_US_Unemployment_020_001  \\\n",
              "0                         24.0                        -7080   \n",
              "1                         14.1                       -26560   \n",
              "2                         11.8                        -2988   \n",
              "\n",
              "   ORG_US_Unemployment_020_002  ORG_US_Unemployment_020_003  \\\n",
              "0                        10635                       -17715   \n",
              "1                         8975                       -35535   \n",
              "2                         9482                       -12470   \n",
              "\n",
              "   ORG_US_Unemployment_020_004  ORG_US_035_001  ORG_US_035_002  \\\n",
              "0                        -13.2       -5.514835       10.898080   \n",
              "1                         -6.7       -5.351828        2.106120   \n",
              "2                         -5.2       -1.270943        4.573055   \n",
              "\n",
              "   ORG_US_035_003  ORG_US_035_004  \n",
              "0      -57.525572      -55.000000  \n",
              "1      -50.662960      -47.517730  \n",
              "2      -44.927223      -44.067797  \n",
              "\n",
              "[3 rows x 23 columns]"
            ],
            "text/html": [
              "\n",
              "  <div id=\"df-a49e06f8-fcbb-475e-8823-afd7580b0947\">\n",
              "    <div class=\"colab-df-container\">\n",
              "      <div>\n",
              "<style scoped>\n",
              "    .dataframe tbody tr th:only-of-type {\n",
              "        vertical-align: middle;\n",
              "    }\n",
              "\n",
              "    .dataframe tbody tr th {\n",
              "        vertical-align: top;\n",
              "    }\n",
              "\n",
              "    .dataframe thead th {\n",
              "        text-align: right;\n",
              "    }\n",
              "</style>\n",
              "<table border=\"1\" class=\"dataframe\">\n",
              "  <thead>\n",
              "    <tr style=\"text-align: right;\">\n",
              "      <th></th>\n",
              "      <th>Geo_FIPS</th>\n",
              "      <th>Geo_NAME</th>\n",
              "      <th>Geo_QNAME</th>\n",
              "      <th>Geo_NATION</th>\n",
              "      <th>Geo_STATE</th>\n",
              "      <th>Geo_COUNTY</th>\n",
              "      <th>Geo_MSA</th>\n",
              "      <th>ORG_US_007_001</th>\n",
              "      <th>ORG_US_007_002</th>\n",
              "      <th>ORG_US_007_003</th>\n",
              "      <th>...</th>\n",
              "      <th>ORG_US_Unemployment_027_003</th>\n",
              "      <th>ORG_US_Unemployment_027_004</th>\n",
              "      <th>ORG_US_Unemployment_020_001</th>\n",
              "      <th>ORG_US_Unemployment_020_002</th>\n",
              "      <th>ORG_US_Unemployment_020_003</th>\n",
              "      <th>ORG_US_Unemployment_020_004</th>\n",
              "      <th>ORG_US_035_001</th>\n",
              "      <th>ORG_US_035_002</th>\n",
              "      <th>ORG_US_035_003</th>\n",
              "      <th>ORG_US_035_004</th>\n",
              "    </tr>\n",
              "  </thead>\n",
              "  <tbody>\n",
              "    <tr>\n",
              "      <th>0</th>\n",
              "      <td>34001</td>\n",
              "      <td>Atlantic County</td>\n",
              "      <td>Atlantic County, New Jersey</td>\n",
              "      <td>0</td>\n",
              "      <td>34</td>\n",
              "      <td>1</td>\n",
              "      <td>NaN</td>\n",
              "      <td>121301</td>\n",
              "      <td>108221</td>\n",
              "      <td>13080</td>\n",
              "      <td>...</td>\n",
              "      <td>30795</td>\n",
              "      <td>24.0</td>\n",
              "      <td>-7080</td>\n",
              "      <td>10635</td>\n",
              "      <td>-17715</td>\n",
              "      <td>-13.2</td>\n",
              "      <td>-5.514835</td>\n",
              "      <td>10.898080</td>\n",
              "      <td>-57.525572</td>\n",
              "      <td>-55.000000</td>\n",
              "    </tr>\n",
              "    <tr>\n",
              "      <th>1</th>\n",
              "      <td>34003</td>\n",
              "      <td>Bergen County</td>\n",
              "      <td>Bergen County, New Jersey</td>\n",
              "      <td>0</td>\n",
              "      <td>34</td>\n",
              "      <td>3</td>\n",
              "      <td>NaN</td>\n",
              "      <td>469719</td>\n",
              "      <td>435114</td>\n",
              "      <td>34605</td>\n",
              "      <td>...</td>\n",
              "      <td>70140</td>\n",
              "      <td>14.1</td>\n",
              "      <td>-26560</td>\n",
              "      <td>8975</td>\n",
              "      <td>-35535</td>\n",
              "      <td>-6.7</td>\n",
              "      <td>-5.351828</td>\n",
              "      <td>2.106120</td>\n",
              "      <td>-50.662960</td>\n",
              "      <td>-47.517730</td>\n",
              "    </tr>\n",
              "    <tr>\n",
              "      <th>2</th>\n",
              "      <td>34005</td>\n",
              "      <td>Burlington County</td>\n",
              "      <td>Burlington County, New Jersey</td>\n",
              "      <td>0</td>\n",
              "      <td>34</td>\n",
              "      <td>5</td>\n",
              "      <td>NaN</td>\n",
              "      <td>232113</td>\n",
              "      <td>216827</td>\n",
              "      <td>15286</td>\n",
              "      <td>...</td>\n",
              "      <td>27756</td>\n",
              "      <td>11.8</td>\n",
              "      <td>-2988</td>\n",
              "      <td>9482</td>\n",
              "      <td>-12470</td>\n",
              "      <td>-5.2</td>\n",
              "      <td>-1.270943</td>\n",
              "      <td>4.573055</td>\n",
              "      <td>-44.927223</td>\n",
              "      <td>-44.067797</td>\n",
              "    </tr>\n",
              "  </tbody>\n",
              "</table>\n",
              "<p>3 rows × 23 columns</p>\n",
              "</div>\n",
              "      <button class=\"colab-df-convert\" onclick=\"convertToInteractive('df-a49e06f8-fcbb-475e-8823-afd7580b0947')\"\n",
              "              title=\"Convert this dataframe to an interactive table.\"\n",
              "              style=\"display:none;\">\n",
              "        \n",
              "  <svg xmlns=\"http://www.w3.org/2000/svg\" height=\"24px\"viewBox=\"0 0 24 24\"\n",
              "       width=\"24px\">\n",
              "    <path d=\"M0 0h24v24H0V0z\" fill=\"none\"/>\n",
              "    <path d=\"M18.56 5.44l.94 2.06.94-2.06 2.06-.94-2.06-.94-.94-2.06-.94 2.06-2.06.94zm-11 1L8.5 8.5l.94-2.06 2.06-.94-2.06-.94L8.5 2.5l-.94 2.06-2.06.94zm10 10l.94 2.06.94-2.06 2.06-.94-2.06-.94-.94-2.06-.94 2.06-2.06.94z\"/><path d=\"M17.41 7.96l-1.37-1.37c-.4-.4-.92-.59-1.43-.59-.52 0-1.04.2-1.43.59L10.3 9.45l-7.72 7.72c-.78.78-.78 2.05 0 2.83L4 21.41c.39.39.9.59 1.41.59.51 0 1.02-.2 1.41-.59l7.78-7.78 2.81-2.81c.8-.78.8-2.07 0-2.86zM5.41 20L4 18.59l7.72-7.72 1.47 1.35L5.41 20z\"/>\n",
              "  </svg>\n",
              "      </button>\n",
              "      \n",
              "  <style>\n",
              "    .colab-df-container {\n",
              "      display:flex;\n",
              "      flex-wrap:wrap;\n",
              "      gap: 12px;\n",
              "    }\n",
              "\n",
              "    .colab-df-convert {\n",
              "      background-color: #E8F0FE;\n",
              "      border: none;\n",
              "      border-radius: 50%;\n",
              "      cursor: pointer;\n",
              "      display: none;\n",
              "      fill: #1967D2;\n",
              "      height: 32px;\n",
              "      padding: 0 0 0 0;\n",
              "      width: 32px;\n",
              "    }\n",
              "\n",
              "    .colab-df-convert:hover {\n",
              "      background-color: #E2EBFA;\n",
              "      box-shadow: 0px 1px 2px rgba(60, 64, 67, 0.3), 0px 1px 3px 1px rgba(60, 64, 67, 0.15);\n",
              "      fill: #174EA6;\n",
              "    }\n",
              "\n",
              "    [theme=dark] .colab-df-convert {\n",
              "      background-color: #3B4455;\n",
              "      fill: #D2E3FC;\n",
              "    }\n",
              "\n",
              "    [theme=dark] .colab-df-convert:hover {\n",
              "      background-color: #434B5C;\n",
              "      box-shadow: 0px 1px 3px 1px rgba(0, 0, 0, 0.15);\n",
              "      filter: drop-shadow(0px 1px 2px rgba(0, 0, 0, 0.3));\n",
              "      fill: #FFFFFF;\n",
              "    }\n",
              "  </style>\n",
              "\n",
              "      <script>\n",
              "        const buttonEl =\n",
              "          document.querySelector('#df-a49e06f8-fcbb-475e-8823-afd7580b0947 button.colab-df-convert');\n",
              "        buttonEl.style.display =\n",
              "          google.colab.kernel.accessAllowed ? 'block' : 'none';\n",
              "\n",
              "        async function convertToInteractive(key) {\n",
              "          const element = document.querySelector('#df-a49e06f8-fcbb-475e-8823-afd7580b0947');\n",
              "          const dataTable =\n",
              "            await google.colab.kernel.invokeFunction('convertToInteractive',\n",
              "                                                     [key], {});\n",
              "          if (!dataTable) return;\n",
              "\n",
              "          const docLinkHtml = 'Like what you see? Visit the ' +\n",
              "            '<a target=\"_blank\" href=https://colab.research.google.com/notebooks/data_table.ipynb>data table notebook</a>'\n",
              "            + ' to learn more about interactive tables.';\n",
              "          element.innerHTML = '';\n",
              "          dataTable['output_type'] = 'display_data';\n",
              "          await google.colab.output.renderOutput(dataTable, element);\n",
              "          const docLink = document.createElement('div');\n",
              "          docLink.innerHTML = docLinkHtml;\n",
              "          element.appendChild(docLink);\n",
              "        }\n",
              "      </script>\n",
              "    </div>\n",
              "  </div>\n",
              "  "
            ]
          },
          "metadata": {},
          "execution_count": 37
        }
      ]
    },
    {
      "cell_type": "code",
      "source": [
        "njunemp.dtypes"
      ],
      "metadata": {
        "colab": {
          "base_uri": "https://localhost:8080/"
        },
        "id": "6CnoqcW3C5jY",
        "outputId": "71159aac-dcfe-46a9-8ee1-d028db4fbe41"
      },
      "execution_count": 38,
      "outputs": [
        {
          "output_type": "execute_result",
          "data": {
            "text/plain": [
              "Geo_FIPS                         int64\n",
              "Geo_NAME                        object\n",
              "Geo_QNAME                       object\n",
              "Geo_NATION                       int64\n",
              "Geo_STATE                        int64\n",
              "Geo_COUNTY                       int64\n",
              "Geo_MSA                        float64\n",
              "ORG_US_007_001                   int64\n",
              "ORG_US_007_002                   int64\n",
              "ORG_US_007_003                   int64\n",
              "ORG_US_007_004                 float64\n",
              "ORG_US_Unemployment_027_001      int64\n",
              "ORG_US_Unemployment_027_002      int64\n",
              "ORG_US_Unemployment_027_003      int64\n",
              "ORG_US_Unemployment_027_004    float64\n",
              "ORG_US_Unemployment_020_001      int64\n",
              "ORG_US_Unemployment_020_002      int64\n",
              "ORG_US_Unemployment_020_003      int64\n",
              "ORG_US_Unemployment_020_004    float64\n",
              "ORG_US_035_001                 float64\n",
              "ORG_US_035_002                 float64\n",
              "ORG_US_035_003                 float64\n",
              "ORG_US_035_004                 float64\n",
              "dtype: object"
            ]
          },
          "metadata": {},
          "execution_count": 38
        }
      ]
    },
    {
      "cell_type": "code",
      "source": [
        "njunemp = njunemp.drop(['Geo_FIPS','Geo_QNAME','Geo_NATION','Geo_COUNTY','Geo_MSA'],axis=1)"
      ],
      "metadata": {
        "id": "5BBgeL7SFWIM"
      },
      "execution_count": 39,
      "outputs": []
    },
    {
      "cell_type": "code",
      "source": [
        "njunemp.dtypes"
      ],
      "metadata": {
        "colab": {
          "base_uri": "https://localhost:8080/"
        },
        "id": "LmwwfnlaI8Jv",
        "outputId": "6b688884-0c48-4e53-80eb-03b36351396b"
      },
      "execution_count": 40,
      "outputs": [
        {
          "output_type": "execute_result",
          "data": {
            "text/plain": [
              "Geo_NAME                        object\n",
              "Geo_STATE                        int64\n",
              "ORG_US_007_001                   int64\n",
              "ORG_US_007_002                   int64\n",
              "ORG_US_007_003                   int64\n",
              "ORG_US_007_004                 float64\n",
              "ORG_US_Unemployment_027_001      int64\n",
              "ORG_US_Unemployment_027_002      int64\n",
              "ORG_US_Unemployment_027_003      int64\n",
              "ORG_US_Unemployment_027_004    float64\n",
              "ORG_US_Unemployment_020_001      int64\n",
              "ORG_US_Unemployment_020_002      int64\n",
              "ORG_US_Unemployment_020_003      int64\n",
              "ORG_US_Unemployment_020_004    float64\n",
              "ORG_US_035_001                 float64\n",
              "ORG_US_035_002                 float64\n",
              "ORG_US_035_003                 float64\n",
              "ORG_US_035_004                 float64\n",
              "dtype: object"
            ]
          },
          "metadata": {},
          "execution_count": 40
        }
      ]
    },
    {
      "cell_type": "code",
      "source": [
        "njunemp = njunemp.rename(columns={'Geo_NAME':\"County\",\n",
        "                                  \"ORG_US_007_004\":\"Unemployment2021\",\n",
        "                                  \"ORG_US_Unemployment_027_004\":\"Unemployment2020\",\n",
        "                                  \"ORG_US_035_004\":\"PercentageChange\"}) #split into multiple rows--can see better that way"
      ],
      "metadata": {
        "id": "R8l1mHuEJQ1H"
      },
      "execution_count": 42,
      "outputs": []
    },
    {
      "cell_type": "code",
      "source": [
        "njunemp.dtypes"
      ],
      "metadata": {
        "colab": {
          "base_uri": "https://localhost:8080/"
        },
        "id": "ZU17yQY3LRZR",
        "outputId": "c1c7453e-8959-45ac-cbb1-aff450e765b9"
      },
      "execution_count": null,
      "outputs": [
        {
          "output_type": "execute_result",
          "data": {
            "text/plain": [
              "County                          object\n",
              "Geo_STATE                        int64\n",
              "ORG_US_007_001                   int64\n",
              "ORG_US_007_002                   int64\n",
              "ORG_US_007_003                   int64\n",
              "Unemployment2021               float64\n",
              "ORG_US_Unemployment_027_001      int64\n",
              "ORG_US_Unemployment_027_002      int64\n",
              "ORG_US_Unemployment_027_003      int64\n",
              "Unemployment2020               float64\n",
              "ORG_US_Unemployment_020_001      int64\n",
              "ORG_US_Unemployment_020_002      int64\n",
              "ORG_US_Unemployment_020_003      int64\n",
              "ORG_US_Unemployment_020_004    float64\n",
              "ORG_US_035_001                 float64\n",
              "ORG_US_035_002                 float64\n",
              "ORG_US_035_003                 float64\n",
              "PercentageChange               float64\n",
              "dtype: object"
            ]
          },
          "metadata": {},
          "execution_count": 38
        }
      ]
    },
    {
      "cell_type": "code",
      "source": [
        "#When you put quotes around stdev, it doesn't work. #aok thats interesting! also note often people use numpy, eg np.mean\n",
        "njunemp.agg({'Unemployment2020':['mean','median',stdev], 'Unemployment2021':['mean','median',stdev],'PercentageChange':['mean','median',stdev] })"
      ],
      "metadata": {
        "colab": {
          "base_uri": "https://localhost:8080/",
          "height": 143
        },
        "id": "CGGhdWuGMOGt",
        "outputId": "771749d1-dc2e-472f-c48c-851c070428e6"
      },
      "execution_count": 43,
      "outputs": [
        {
          "output_type": "execute_result",
          "data": {
            "text/plain": [
              "        Unemployment2020  Unemployment2021  PercentageChange\n",
              "mean           13.857143          7.595238        -44.823672\n",
              "median         13.200000          7.100000        -45.384615\n",
              "stdev           3.000262          1.425299          4.966793"
            ],
            "text/html": [
              "\n",
              "  <div id=\"df-8a7bf98f-c7a6-4df5-b334-1af41388e4d1\">\n",
              "    <div class=\"colab-df-container\">\n",
              "      <div>\n",
              "<style scoped>\n",
              "    .dataframe tbody tr th:only-of-type {\n",
              "        vertical-align: middle;\n",
              "    }\n",
              "\n",
              "    .dataframe tbody tr th {\n",
              "        vertical-align: top;\n",
              "    }\n",
              "\n",
              "    .dataframe thead th {\n",
              "        text-align: right;\n",
              "    }\n",
              "</style>\n",
              "<table border=\"1\" class=\"dataframe\">\n",
              "  <thead>\n",
              "    <tr style=\"text-align: right;\">\n",
              "      <th></th>\n",
              "      <th>Unemployment2020</th>\n",
              "      <th>Unemployment2021</th>\n",
              "      <th>PercentageChange</th>\n",
              "    </tr>\n",
              "  </thead>\n",
              "  <tbody>\n",
              "    <tr>\n",
              "      <th>mean</th>\n",
              "      <td>13.857143</td>\n",
              "      <td>7.595238</td>\n",
              "      <td>-44.823672</td>\n",
              "    </tr>\n",
              "    <tr>\n",
              "      <th>median</th>\n",
              "      <td>13.200000</td>\n",
              "      <td>7.100000</td>\n",
              "      <td>-45.384615</td>\n",
              "    </tr>\n",
              "    <tr>\n",
              "      <th>stdev</th>\n",
              "      <td>3.000262</td>\n",
              "      <td>1.425299</td>\n",
              "      <td>4.966793</td>\n",
              "    </tr>\n",
              "  </tbody>\n",
              "</table>\n",
              "</div>\n",
              "      <button class=\"colab-df-convert\" onclick=\"convertToInteractive('df-8a7bf98f-c7a6-4df5-b334-1af41388e4d1')\"\n",
              "              title=\"Convert this dataframe to an interactive table.\"\n",
              "              style=\"display:none;\">\n",
              "        \n",
              "  <svg xmlns=\"http://www.w3.org/2000/svg\" height=\"24px\"viewBox=\"0 0 24 24\"\n",
              "       width=\"24px\">\n",
              "    <path d=\"M0 0h24v24H0V0z\" fill=\"none\"/>\n",
              "    <path d=\"M18.56 5.44l.94 2.06.94-2.06 2.06-.94-2.06-.94-.94-2.06-.94 2.06-2.06.94zm-11 1L8.5 8.5l.94-2.06 2.06-.94-2.06-.94L8.5 2.5l-.94 2.06-2.06.94zm10 10l.94 2.06.94-2.06 2.06-.94-2.06-.94-.94-2.06-.94 2.06-2.06.94z\"/><path d=\"M17.41 7.96l-1.37-1.37c-.4-.4-.92-.59-1.43-.59-.52 0-1.04.2-1.43.59L10.3 9.45l-7.72 7.72c-.78.78-.78 2.05 0 2.83L4 21.41c.39.39.9.59 1.41.59.51 0 1.02-.2 1.41-.59l7.78-7.78 2.81-2.81c.8-.78.8-2.07 0-2.86zM5.41 20L4 18.59l7.72-7.72 1.47 1.35L5.41 20z\"/>\n",
              "  </svg>\n",
              "      </button>\n",
              "      \n",
              "  <style>\n",
              "    .colab-df-container {\n",
              "      display:flex;\n",
              "      flex-wrap:wrap;\n",
              "      gap: 12px;\n",
              "    }\n",
              "\n",
              "    .colab-df-convert {\n",
              "      background-color: #E8F0FE;\n",
              "      border: none;\n",
              "      border-radius: 50%;\n",
              "      cursor: pointer;\n",
              "      display: none;\n",
              "      fill: #1967D2;\n",
              "      height: 32px;\n",
              "      padding: 0 0 0 0;\n",
              "      width: 32px;\n",
              "    }\n",
              "\n",
              "    .colab-df-convert:hover {\n",
              "      background-color: #E2EBFA;\n",
              "      box-shadow: 0px 1px 2px rgba(60, 64, 67, 0.3), 0px 1px 3px 1px rgba(60, 64, 67, 0.15);\n",
              "      fill: #174EA6;\n",
              "    }\n",
              "\n",
              "    [theme=dark] .colab-df-convert {\n",
              "      background-color: #3B4455;\n",
              "      fill: #D2E3FC;\n",
              "    }\n",
              "\n",
              "    [theme=dark] .colab-df-convert:hover {\n",
              "      background-color: #434B5C;\n",
              "      box-shadow: 0px 1px 3px 1px rgba(0, 0, 0, 0.15);\n",
              "      filter: drop-shadow(0px 1px 2px rgba(0, 0, 0, 0.3));\n",
              "      fill: #FFFFFF;\n",
              "    }\n",
              "  </style>\n",
              "\n",
              "      <script>\n",
              "        const buttonEl =\n",
              "          document.querySelector('#df-8a7bf98f-c7a6-4df5-b334-1af41388e4d1 button.colab-df-convert');\n",
              "        buttonEl.style.display =\n",
              "          google.colab.kernel.accessAllowed ? 'block' : 'none';\n",
              "\n",
              "        async function convertToInteractive(key) {\n",
              "          const element = document.querySelector('#df-8a7bf98f-c7a6-4df5-b334-1af41388e4d1');\n",
              "          const dataTable =\n",
              "            await google.colab.kernel.invokeFunction('convertToInteractive',\n",
              "                                                     [key], {});\n",
              "          if (!dataTable) return;\n",
              "\n",
              "          const docLinkHtml = 'Like what you see? Visit the ' +\n",
              "            '<a target=\"_blank\" href=https://colab.research.google.com/notebooks/data_table.ipynb>data table notebook</a>'\n",
              "            + ' to learn more about interactive tables.';\n",
              "          element.innerHTML = '';\n",
              "          dataTable['output_type'] = 'display_data';\n",
              "          await google.colab.output.renderOutput(dataTable, element);\n",
              "          const docLink = document.createElement('div');\n",
              "          docLink.innerHTML = docLinkHtml;\n",
              "          element.appendChild(docLink);\n",
              "        }\n",
              "      </script>\n",
              "    </div>\n",
              "  </div>\n",
              "  "
            ]
          },
          "metadata": {},
          "execution_count": 43
        }
      ]
    },
    {
      "cell_type": "code",
      "source": [
        "njunemp.plot(x=\"County\", y=[\"Unemployment2020\", \"Unemployment2021\"], kind=\"bar\") #aok atlantic is interesting--tourism, casinos etc got hit with covid; eg could look at enrollments there! eg rutgers may have more applicants from atlantic!"
      ],
      "metadata": {
        "colab": {
          "base_uri": "https://localhost:8080/",
          "height": 390
        },
        "id": "wpSwjYkkYaTP",
        "outputId": "a65b36a7-cc0b-49c3-e7fc-3364990d2678"
      },
      "execution_count": 44,
      "outputs": [
        {
          "output_type": "execute_result",
          "data": {
            "text/plain": [
              "<matplotlib.axes._subplots.AxesSubplot at 0x7f3c63d9f940>"
            ]
          },
          "metadata": {},
          "execution_count": 44
        },
        {
          "output_type": "display_data",
          "data": {
            "text/plain": [
              "<Figure size 432x288 with 1 Axes>"
            ],
            "image/png": "[encoded data removed]"
          },
          "metadata": {
            "needs_background": "light"
          }
        }
      ]
    },
    {
      "cell_type": "code",
      "source": [
        "njunemp = njunemp.rename(columns={'ORG_US_007_001':\"LaborForce2021\", \"ORG_US_Unemployment_027_001\":\"LaborForce2020\"})"
      ],
      "metadata": {
        "id": "Qp6z2jmfQxNC"
      },
      "execution_count": 45,
      "outputs": []
    },
    {
      "cell_type": "code",
      "source": [
        "njunemp.dtypes"
      ],
      "metadata": {
        "colab": {
          "base_uri": "https://localhost:8080/"
        },
        "id": "ofaWBJLnXBY8",
        "outputId": "521c3d6c-bcca-4e8b-a0e3-0371d655b712"
      },
      "execution_count": null,
      "outputs": [
        {
          "output_type": "execute_result",
          "data": {
            "text/plain": [
              "County                          object\n",
              "Geo_STATE                        int64\n",
              "LaborForce2021                   int64\n",
              "ORG_US_007_002                   int64\n",
              "ORG_US_007_003                   int64\n",
              "Unemployment2021               float64\n",
              "LaborForce2020                   int64\n",
              "ORG_US_Unemployment_027_002      int64\n",
              "ORG_US_Unemployment_027_003      int64\n",
              "Unemployment2020               float64\n",
              "ORG_US_Unemployment_020_001      int64\n",
              "ORG_US_Unemployment_020_002      int64\n",
              "ORG_US_Unemployment_020_003      int64\n",
              "ORG_US_Unemployment_020_004    float64\n",
              "ORG_US_035_001                 float64\n",
              "ORG_US_035_002                 float64\n",
              "ORG_US_035_003                 float64\n",
              "PercentageChange               float64\n",
              "dtype: object"
            ]
          },
          "metadata": {},
          "execution_count": 42
        }
      ]
    },
    {
      "cell_type": "code",
      "source": [
        "njunemp.agg({'LaborForce2020':['mean','median',stdev], 'LaborForce2021':['mean','median',stdev] }) #aok hows that measured? counts? total number of people? then may use sum or total "
      ],
      "metadata": {
        "colab": {
          "base_uri": "https://localhost:8080/",
          "height": 143
        },
        "id": "FfINfp4oXKOW",
        "outputId": "91a2960e-ad25-4c86-961c-a43459e12635"
      },
      "execution_count": 46,
      "outputs": [
        {
          "output_type": "execute_result",
          "data": {
            "text/plain": [
              "        LaborForce2020  LaborForce2021\n",
              "mean     220332.904762   214303.047619\n",
              "median   235101.000000   232113.000000\n",
              "stdev    138358.206270   132198.286191"
            ],
            "text/html": [
              "\n",
              "  <div id=\"df-3a4ffebf-db28-48a5-9ce0-853177ad2553\">\n",
              "    <div class=\"colab-df-container\">\n",
              "      <div>\n",
              "<style scoped>\n",
              "    .dataframe tbody tr th:only-of-type {\n",
              "        vertical-align: middle;\n",
              "    }\n",
              "\n",
              "    .dataframe tbody tr th {\n",
              "        vertical-align: top;\n",
              "    }\n",
              "\n",
              "    .dataframe thead th {\n",
              "        text-align: right;\n",
              "    }\n",
              "</style>\n",
              "<table border=\"1\" class=\"dataframe\">\n",
              "  <thead>\n",
              "    <tr style=\"text-align: right;\">\n",
              "      <th></th>\n",
              "      <th>LaborForce2020</th>\n",
              "      <th>LaborForce2021</th>\n",
              "    </tr>\n",
              "  </thead>\n",
              "  <tbody>\n",
              "    <tr>\n",
              "      <th>mean</th>\n",
              "      <td>220332.904762</td>\n",
              "      <td>214303.047619</td>\n",
              "    </tr>\n",
              "    <tr>\n",
              "      <th>median</th>\n",
              "      <td>235101.000000</td>\n",
              "      <td>232113.000000</td>\n",
              "    </tr>\n",
              "    <tr>\n",
              "      <th>stdev</th>\n",
              "      <td>138358.206270</td>\n",
              "      <td>132198.286191</td>\n",
              "    </tr>\n",
              "  </tbody>\n",
              "</table>\n",
              "</div>\n",
              "      <button class=\"colab-df-convert\" onclick=\"convertToInteractive('df-3a4ffebf-db28-48a5-9ce0-853177ad2553')\"\n",
              "              title=\"Convert this dataframe to an interactive table.\"\n",
              "              style=\"display:none;\">\n",
              "        \n",
              "  <svg xmlns=\"http://www.w3.org/2000/svg\" height=\"24px\"viewBox=\"0 0 24 24\"\n",
              "       width=\"24px\">\n",
              "    <path d=\"M0 0h24v24H0V0z\" fill=\"none\"/>\n",
              "    <path d=\"M18.56 5.44l.94 2.06.94-2.06 2.06-.94-2.06-.94-.94-2.06-.94 2.06-2.06.94zm-11 1L8.5 8.5l.94-2.06 2.06-.94-2.06-.94L8.5 2.5l-.94 2.06-2.06.94zm10 10l.94 2.06.94-2.06 2.06-.94-2.06-.94-.94-2.06-.94 2.06-2.06.94z\"/><path d=\"M17.41 7.96l-1.37-1.37c-.4-.4-.92-.59-1.43-.59-.52 0-1.04.2-1.43.59L10.3 9.45l-7.72 7.72c-.78.78-.78 2.05 0 2.83L4 21.41c.39.39.9.59 1.41.59.51 0 1.02-.2 1.41-.59l7.78-7.78 2.81-2.81c.8-.78.8-2.07 0-2.86zM5.41 20L4 18.59l7.72-7.72 1.47 1.35L5.41 20z\"/>\n",
              "  </svg>\n",
              "      </button>\n",
              "      \n",
              "  <style>\n",
              "    .colab-df-container {\n",
              "      display:flex;\n",
              "      flex-wrap:wrap;\n",
              "      gap: 12px;\n",
              "    }\n",
              "\n",
              "    .colab-df-convert {\n",
              "      background-color: #E8F0FE;\n",
              "      border: none;\n",
              "      border-radius: 50%;\n",
              "      cursor: pointer;\n",
              "      display: none;\n",
              "      fill: #1967D2;\n",
              "      height: 32px;\n",
              "      padding: 0 0 0 0;\n",
              "      width: 32px;\n",
              "    }\n",
              "\n",
              "    .colab-df-convert:hover {\n",
              "      background-color: #E2EBFA;\n",
              "      box-shadow: 0px 1px 2px rgba(60, 64, 67, 0.3), 0px 1px 3px 1px rgba(60, 64, 67, 0.15);\n",
              "      fill: #174EA6;\n",
              "    }\n",
              "\n",
              "    [theme=dark] .colab-df-convert {\n",
              "      background-color: #3B4455;\n",
              "      fill: #D2E3FC;\n",
              "    }\n",
              "\n",
              "    [theme=dark] .colab-df-convert:hover {\n",
              "      background-color: #434B5C;\n",
              "      box-shadow: 0px 1px 3px 1px rgba(0, 0, 0, 0.15);\n",
              "      filter: drop-shadow(0px 1px 2px rgba(0, 0, 0, 0.3));\n",
              "      fill: #FFFFFF;\n",
              "    }\n",
              "  </style>\n",
              "\n",
              "      <script>\n",
              "        const buttonEl =\n",
              "          document.querySelector('#df-3a4ffebf-db28-48a5-9ce0-853177ad2553 button.colab-df-convert');\n",
              "        buttonEl.style.display =\n",
              "          google.colab.kernel.accessAllowed ? 'block' : 'none';\n",
              "\n",
              "        async function convertToInteractive(key) {\n",
              "          const element = document.querySelector('#df-3a4ffebf-db28-48a5-9ce0-853177ad2553');\n",
              "          const dataTable =\n",
              "            await google.colab.kernel.invokeFunction('convertToInteractive',\n",
              "                                                     [key], {});\n",
              "          if (!dataTable) return;\n",
              "\n",
              "          const docLinkHtml = 'Like what you see? Visit the ' +\n",
              "            '<a target=\"_blank\" href=https://colab.research.google.com/notebooks/data_table.ipynb>data table notebook</a>'\n",
              "            + ' to learn more about interactive tables.';\n",
              "          element.innerHTML = '';\n",
              "          dataTable['output_type'] = 'display_data';\n",
              "          await google.colab.output.renderOutput(dataTable, element);\n",
              "          const docLink = document.createElement('div');\n",
              "          docLink.innerHTML = docLinkHtml;\n",
              "          element.appendChild(docLink);\n",
              "        }\n",
              "      </script>\n",
              "    </div>\n",
              "  </div>\n",
              "  "
            ]
          },
          "metadata": {},
          "execution_count": 46
        }
      ]
    },
    {
      "cell_type": "markdown",
      "source": [
        "The shrinking labor force is interesting. This may support the thesis that college education is countercyclical if one of the reasons the labor force is shrinking is because people leave the workforce to attend school. This will be something to test. \n",
        "\n",
        "aok yeah; \"great resignation\" can do dissertation on that, eg by gender, age etc etc"
      ],
      "metadata": {
        "id": "cZo-ZCWxpYtB"
      }
    },
    {
      "cell_type": "code",
      "source": [
        "njunemp.plot(x=\"County\", y=[\"LaborForce2020\", \"LaborForce2021\"], kind=\"bar\")"
      ],
      "metadata": {
        "colab": {
          "base_uri": "https://localhost:8080/",
          "height": 386
        },
        "id": "jG1HP1SPX-oh",
        "outputId": "f7ca36cf-73df-486c-bf95-92635729b572"
      },
      "execution_count": null,
      "outputs": [
        {
          "output_type": "execute_result",
          "data": {
            "text/plain": [
              "<matplotlib.axes._subplots.AxesSubplot at 0x7faf5468dd30>"
            ]
          },
          "metadata": {},
          "execution_count": 45
        },
        {
          "output_type": "display_data",
          "data": {
            "text/plain": [
              "<Figure size 432x288 with 1 Axes>"
            ],
            "image/png": "[encoded data removed]"
          },
          "metadata": {
            "needs_background": "light"
          }
        }
      ]
    },
    {
      "cell_type": "code",
      "source": [
        "njunemp['County'] = njunemp['County'].str.replace(' County',' ')"
      ],
      "metadata": {
        "id": "qvMy570fiYaV"
      },
      "execution_count": 47,
      "outputs": []
    },
    {
      "cell_type": "code",
      "source": [
        "#Just checking to see if I successfully removed 'County.' Later I will undo this because of a merge problem, but my instincts were to clean this up. \n",
        "njunemp.plot(x=\"County\", y=[\"LaborForce2020\", \"LaborForce2021\"], kind=\"bar\")"
      ],
      "metadata": {
        "colab": {
          "base_uri": "https://localhost:8080/",
          "height": 353
        },
        "id": "1boQazIXieMh",
        "outputId": "b20119c9-e897-43f1-b4e8-4f7cc6851011"
      },
      "execution_count": 48,
      "outputs": [
        {
          "output_type": "execute_result",
          "data": {
            "text/plain": [
              "<matplotlib.axes._subplots.AxesSubplot at 0x7f3c631a5fd0>"
            ]
          },
          "metadata": {},
          "execution_count": 48
        },
        {
          "output_type": "display_data",
          "data": {
            "text/plain": [
              "<Figure size 432x288 with 1 Axes>"
            ],
            "image/png": "[encoded data removed]"
          },
          "metadata": {
            "needs_background": "light"
          }
        }
      ]
    },
    {
      "cell_type": "markdown",
      "source": [
        "### Import: Data File 3: New Jersey Zip Codes\n",
        "Found the data on a background check website - https://www.corragroup.com/new-jersey-county-lookup.html It was the cleanest file and I wanted to test the import from html table code.\n",
        "\n",
        "aok: but ideally should get it from something more official like census or nj govt"
      ],
      "metadata": {
        "id": "Y6-XROSiokya"
      }
    },
    {
      "cell_type": "code",
      "source": [
        "#Found this import code at https://towardsdatascience.com/2-easy-ways-to-get-tables-from-a-website-with-pandas-b92fc835e741. I'll save for later. \n",
        "pd.read_html('https://www.corragroup.com/new-jersey-county-lookup.html')"
      ],
      "metadata": {
        "colab": {
          "base_uri": "https://localhost:8080/"
        },
        "id": "_3gAMetemtVW",
        "outputId": "ea359210-18e2-4d56-d5e2-038daefde7a5"
      },
      "execution_count": 49,
      "outputs": [
        {
          "output_type": "execute_result",
          "data": {
            "text/plain": [
              "[                   City ZIP Code      County\n",
              " 0                   A C    08401    ATLANTIC\n",
              " 1              ABERDEEN    07747    MONMOUTH\n",
              " 2               ABSECON    08201    ATLANTIC\n",
              " 3       ABSECON HEIGHTS    08201    ATLANTIC\n",
              " 4     ABSECON HIGHLANDS    08201    ATLANTIC\n",
              " ...                 ...      ...         ...\n",
              " 1250        WRIGHTSTOWN    08562  BURLINGTON\n",
              " 1251            WYCKOFF    07481      BERGEN\n",
              " 1252          YARDVILLE    08620      MERCER\n",
              " 1253           ZAREPATH    08873    SOMERSET\n",
              " 1254          ZAREPHATH    08890    SOMERSET\n",
              " \n",
              " [1255 rows x 3 columns]]"
            ]
          },
          "metadata": {},
          "execution_count": 49
        }
      ]
    },
    {
      "cell_type": "code",
      "source": [
        "pd.read_html('https://www.corragroup.com/new-jersey-county-lookup.html')[0]"
      ],
      "metadata": {
        "colab": {
          "base_uri": "https://localhost:8080/",
          "height": 424
        },
        "id": "-t-UV3R6pSXj",
        "outputId": "3b3f97f1-0370-46d6-b7e6-599a5779d74f"
      },
      "execution_count": 50,
      "outputs": [
        {
          "output_type": "execute_result",
          "data": {
            "text/plain": [
              "                   City ZIP Code      County\n",
              "0                   A C    08401    ATLANTIC\n",
              "1              ABERDEEN    07747    MONMOUTH\n",
              "2               ABSECON    08201    ATLANTIC\n",
              "3       ABSECON HEIGHTS    08201    ATLANTIC\n",
              "4     ABSECON HIGHLANDS    08201    ATLANTIC\n",
              "...                 ...      ...         ...\n",
              "1250        WRIGHTSTOWN    08562  BURLINGTON\n",
              "1251            WYCKOFF    07481      BERGEN\n",
              "1252          YARDVILLE    08620      MERCER\n",
              "1253           ZAREPATH    08873    SOMERSET\n",
              "1254          ZAREPHATH    08890    SOMERSET\n",
              "\n",
              "[1255 rows x 3 columns]"
            ],
            "text/html": [
              "\n",
              "  <div id=\"df-24153a8a-38e4-42d5-a703-08f5cca3f4b6\">\n",
              "    <div class=\"colab-df-container\">\n",
              "      <div>\n",
              "<style scoped>\n",
              "    .dataframe tbody tr th:only-of-type {\n",
              "        vertical-align: middle;\n",
              "    }\n",
              "\n",
              "    .dataframe tbody tr th {\n",
              "        vertical-align: top;\n",
              "    }\n",
              "\n",
              "    .dataframe thead th {\n",
              "        text-align: right;\n",
              "    }\n",
              "</style>\n",
              "<table border=\"1\" class=\"dataframe\">\n",
              "  <thead>\n",
              "    <tr style=\"text-align: right;\">\n",
              "      <th></th>\n",
              "      <th>City</th>\n",
              "      <th>ZIP Code</th>\n",
              "      <th>County</th>\n",
              "    </tr>\n",
              "  </thead>\n",
              "  <tbody>\n",
              "    <tr>\n",
              "      <th>0</th>\n",
              "      <td>A C</td>\n",
              "      <td>08401</td>\n",
              "      <td>ATLANTIC</td>\n",
              "    </tr>\n",
              "    <tr>\n",
              "      <th>1</th>\n",
              "      <td>ABERDEEN</td>\n",
              "      <td>07747</td>\n",
              "      <td>MONMOUTH</td>\n",
              "    </tr>\n",
              "    <tr>\n",
              "      <th>2</th>\n",
              "      <td>ABSECON</td>\n",
              "      <td>08201</td>\n",
              "      <td>ATLANTIC</td>\n",
              "    </tr>\n",
              "    <tr>\n",
              "      <th>3</th>\n",
              "      <td>ABSECON HEIGHTS</td>\n",
              "      <td>08201</td>\n",
              "      <td>ATLANTIC</td>\n",
              "    </tr>\n",
              "    <tr>\n",
              "      <th>4</th>\n",
              "      <td>ABSECON HIGHLANDS</td>\n",
              "      <td>08201</td>\n",
              "      <td>ATLANTIC</td>\n",
              "    </tr>\n",
              "    <tr>\n",
              "      <th>...</th>\n",
              "      <td>...</td>\n",
              "      <td>...</td>\n",
              "      <td>...</td>\n",
              "    </tr>\n",
              "    <tr>\n",
              "      <th>1250</th>\n",
              "      <td>WRIGHTSTOWN</td>\n",
              "      <td>08562</td>\n",
              "      <td>BURLINGTON</td>\n",
              "    </tr>\n",
              "    <tr>\n",
              "      <th>1251</th>\n",
              "      <td>WYCKOFF</td>\n",
              "      <td>07481</td>\n",
              "      <td>BERGEN</td>\n",
              "    </tr>\n",
              "    <tr>\n",
              "      <th>1252</th>\n",
              "      <td>YARDVILLE</td>\n",
              "      <td>08620</td>\n",
              "      <td>MERCER</td>\n",
              "    </tr>\n",
              "    <tr>\n",
              "      <th>1253</th>\n",
              "      <td>ZAREPATH</td>\n",
              "      <td>08873</td>\n",
              "      <td>SOMERSET</td>\n",
              "    </tr>\n",
              "    <tr>\n",
              "      <th>1254</th>\n",
              "      <td>ZAREPHATH</td>\n",
              "      <td>08890</td>\n",
              "      <td>SOMERSET</td>\n",
              "    </tr>\n",
              "  </tbody>\n",
              "</table>\n",
              "<p>1255 rows × 3 columns</p>\n",
              "</div>\n",
              "      <button class=\"colab-df-convert\" onclick=\"convertToInteractive('df-24153a8a-38e4-42d5-a703-08f5cca3f4b6')\"\n",
              "              title=\"Convert this dataframe to an interactive table.\"\n",
              "              style=\"display:none;\">\n",
              "        \n",
              "  <svg xmlns=\"http://www.w3.org/2000/svg\" height=\"24px\"viewBox=\"0 0 24 24\"\n",
              "       width=\"24px\">\n",
              "    <path d=\"M0 0h24v24H0V0z\" fill=\"none\"/>\n",
              "    <path d=\"M18.56 5.44l.94 2.06.94-2.06 2.06-.94-2.06-.94-.94-2.06-.94 2.06-2.06.94zm-11 1L8.5 8.5l.94-2.06 2.06-.94-2.06-.94L8.5 2.5l-.94 2.06-2.06.94zm10 10l.94 2.06.94-2.06 2.06-.94-2.06-.94-.94-2.06-.94 2.06-2.06.94z\"/><path d=\"M17.41 7.96l-1.37-1.37c-.4-.4-.92-.59-1.43-.59-.52 0-1.04.2-1.43.59L10.3 9.45l-7.72 7.72c-.78.78-.78 2.05 0 2.83L4 21.41c.39.39.9.59 1.41.59.51 0 1.02-.2 1.41-.59l7.78-7.78 2.81-2.81c.8-.78.8-2.07 0-2.86zM5.41 20L4 18.59l7.72-7.72 1.47 1.35L5.41 20z\"/>\n",
              "  </svg>\n",
              "      </button>\n",
              "      \n",
              "  <style>\n",
              "    .colab-df-container {\n",
              "      display:flex;\n",
              "      flex-wrap:wrap;\n",
              "      gap: 12px;\n",
              "    }\n",
              "\n",
              "    .colab-df-convert {\n",
              "      background-color: #E8F0FE;\n",
              "      border: none;\n",
              "      border-radius: 50%;\n",
              "      cursor: pointer;\n",
              "      display: none;\n",
              "      fill: #1967D2;\n",
              "      height: 32px;\n",
              "      padding: 0 0 0 0;\n",
              "      width: 32px;\n",
              "    }\n",
              "\n",
              "    .colab-df-convert:hover {\n",
              "      background-color: #E2EBFA;\n",
              "      box-shadow: 0px 1px 2px rgba(60, 64, 67, 0.3), 0px 1px 3px 1px rgba(60, 64, 67, 0.15);\n",
              "      fill: #174EA6;\n",
              "    }\n",
              "\n",
              "    [theme=dark] .colab-df-convert {\n",
              "      background-color: #3B4455;\n",
              "      fill: #D2E3FC;\n",
              "    }\n",
              "\n",
              "    [theme=dark] .colab-df-convert:hover {\n",
              "      background-color: #434B5C;\n",
              "      box-shadow: 0px 1px 3px 1px rgba(0, 0, 0, 0.15);\n",
              "      filter: drop-shadow(0px 1px 2px rgba(0, 0, 0, 0.3));\n",
              "      fill: #FFFFFF;\n",
              "    }\n",
              "  </style>\n",
              "\n",
              "      <script>\n",
              "        const buttonEl =\n",
              "          document.querySelector('#df-24153a8a-38e4-42d5-a703-08f5cca3f4b6 button.colab-df-convert');\n",
              "        buttonEl.style.display =\n",
              "          google.colab.kernel.accessAllowed ? 'block' : 'none';\n",
              "\n",
              "        async function convertToInteractive(key) {\n",
              "          const element = document.querySelector('#df-24153a8a-38e4-42d5-a703-08f5cca3f4b6');\n",
              "          const dataTable =\n",
              "            await google.colab.kernel.invokeFunction('convertToInteractive',\n",
              "                                                     [key], {});\n",
              "          if (!dataTable) return;\n",
              "\n",
              "          const docLinkHtml = 'Like what you see? Visit the ' +\n",
              "            '<a target=\"_blank\" href=https://colab.research.google.com/notebooks/data_table.ipynb>data table notebook</a>'\n",
              "            + ' to learn more about interactive tables.';\n",
              "          element.innerHTML = '';\n",
              "          dataTable['output_type'] = 'display_data';\n",
              "          await google.colab.output.renderOutput(dataTable, element);\n",
              "          const docLink = document.createElement('div');\n",
              "          docLink.innerHTML = docLinkHtml;\n",
              "          element.appendChild(docLink);\n",
              "        }\n",
              "      </script>\n",
              "    </div>\n",
              "  </div>\n",
              "  "
            ]
          },
          "metadata": {},
          "execution_count": 50
        }
      ]
    },
    {
      "cell_type": "code",
      "source": [
        "njzips=pd.read_html('https://www.corragroup.com/new-jersey-county-lookup.html')[0]"
      ],
      "metadata": {
        "id": "gsp0DnKjd1Xp"
      },
      "execution_count": 51,
      "outputs": []
    },
    {
      "cell_type": "code",
      "source": [
        "njzips.head(3)"
      ],
      "metadata": {
        "colab": {
          "base_uri": "https://localhost:8080/",
          "height": 143
        },
        "id": "nqumWz1NeBzb",
        "outputId": "83bf90f3-9717-47f2-c021-78364bb8521e"
      },
      "execution_count": 56,
      "outputs": [
        {
          "output_type": "execute_result",
          "data": {
            "text/plain": [
              "       City  C_Zip    County\n",
              "0       A C  08401  Atlantic\n",
              "1  ABERDEEN  07747  Monmouth\n",
              "2   ABSECON  08201  Atlantic"
            ],
            "text/html": [
              "\n",
              "  <div id=\"df-9b25106f-4aef-4804-a293-ea646006fe46\">\n",
              "    <div class=\"colab-df-container\">\n",
              "      <div>\n",
              "<style scoped>\n",
              "    .dataframe tbody tr th:only-of-type {\n",
              "        vertical-align: middle;\n",
              "    }\n",
              "\n",
              "    .dataframe tbody tr th {\n",
              "        vertical-align: top;\n",
              "    }\n",
              "\n",
              "    .dataframe thead th {\n",
              "        text-align: right;\n",
              "    }\n",
              "</style>\n",
              "<table border=\"1\" class=\"dataframe\">\n",
              "  <thead>\n",
              "    <tr style=\"text-align: right;\">\n",
              "      <th></th>\n",
              "      <th>City</th>\n",
              "      <th>C_Zip</th>\n",
              "      <th>County</th>\n",
              "    </tr>\n",
              "  </thead>\n",
              "  <tbody>\n",
              "    <tr>\n",
              "      <th>0</th>\n",
              "      <td>A C</td>\n",
              "      <td>08401</td>\n",
              "      <td>Atlantic</td>\n",
              "    </tr>\n",
              "    <tr>\n",
              "      <th>1</th>\n",
              "      <td>ABERDEEN</td>\n",
              "      <td>07747</td>\n",
              "      <td>Monmouth</td>\n",
              "    </tr>\n",
              "    <tr>\n",
              "      <th>2</th>\n",
              "      <td>ABSECON</td>\n",
              "      <td>08201</td>\n",
              "      <td>Atlantic</td>\n",
              "    </tr>\n",
              "  </tbody>\n",
              "</table>\n",
              "</div>\n",
              "      <button class=\"colab-df-convert\" onclick=\"convertToInteractive('df-9b25106f-4aef-4804-a293-ea646006fe46')\"\n",
              "              title=\"Convert this dataframe to an interactive table.\"\n",
              "              style=\"display:none;\">\n",
              "        \n",
              "  <svg xmlns=\"http://www.w3.org/2000/svg\" height=\"24px\"viewBox=\"0 0 24 24\"\n",
              "       width=\"24px\">\n",
              "    <path d=\"M0 0h24v24H0V0z\" fill=\"none\"/>\n",
              "    <path d=\"M18.56 5.44l.94 2.06.94-2.06 2.06-.94-2.06-.94-.94-2.06-.94 2.06-2.06.94zm-11 1L8.5 8.5l.94-2.06 2.06-.94-2.06-.94L8.5 2.5l-.94 2.06-2.06.94zm10 10l.94 2.06.94-2.06 2.06-.94-2.06-.94-.94-2.06-.94 2.06-2.06.94z\"/><path d=\"M17.41 7.96l-1.37-1.37c-.4-.4-.92-.59-1.43-.59-.52 0-1.04.2-1.43.59L10.3 9.45l-7.72 7.72c-.78.78-.78 2.05 0 2.83L4 21.41c.39.39.9.59 1.41.59.51 0 1.02-.2 1.41-.59l7.78-7.78 2.81-2.81c.8-.78.8-2.07 0-2.86zM5.41 20L4 18.59l7.72-7.72 1.47 1.35L5.41 20z\"/>\n",
              "  </svg>\n",
              "      </button>\n",
              "      \n",
              "  <style>\n",
              "    .colab-df-container {\n",
              "      display:flex;\n",
              "      flex-wrap:wrap;\n",
              "      gap: 12px;\n",
              "    }\n",
              "\n",
              "    .colab-df-convert {\n",
              "      background-color: #E8F0FE;\n",
              "      border: none;\n",
              "      border-radius: 50%;\n",
              "      cursor: pointer;\n",
              "      display: none;\n",
              "      fill: #1967D2;\n",
              "      height: 32px;\n",
              "      padding: 0 0 0 0;\n",
              "      width: 32px;\n",
              "    }\n",
              "\n",
              "    .colab-df-convert:hover {\n",
              "      background-color: #E2EBFA;\n",
              "      box-shadow: 0px 1px 2px rgba(60, 64, 67, 0.3), 0px 1px 3px 1px rgba(60, 64, 67, 0.15);\n",
              "      fill: #174EA6;\n",
              "    }\n",
              "\n",
              "    [theme=dark] .colab-df-convert {\n",
              "      background-color: #3B4455;\n",
              "      fill: #D2E3FC;\n",
              "    }\n",
              "\n",
              "    [theme=dark] .colab-df-convert:hover {\n",
              "      background-color: #434B5C;\n",
              "      box-shadow: 0px 1px 3px 1px rgba(0, 0, 0, 0.15);\n",
              "      filter: drop-shadow(0px 1px 2px rgba(0, 0, 0, 0.3));\n",
              "      fill: #FFFFFF;\n",
              "    }\n",
              "  </style>\n",
              "\n",
              "      <script>\n",
              "        const buttonEl =\n",
              "          document.querySelector('#df-9b25106f-4aef-4804-a293-ea646006fe46 button.colab-df-convert');\n",
              "        buttonEl.style.display =\n",
              "          google.colab.kernel.accessAllowed ? 'block' : 'none';\n",
              "\n",
              "        async function convertToInteractive(key) {\n",
              "          const element = document.querySelector('#df-9b25106f-4aef-4804-a293-ea646006fe46');\n",
              "          const dataTable =\n",
              "            await google.colab.kernel.invokeFunction('convertToInteractive',\n",
              "                                                     [key], {});\n",
              "          if (!dataTable) return;\n",
              "\n",
              "          const docLinkHtml = 'Like what you see? Visit the ' +\n",
              "            '<a target=\"_blank\" href=https://colab.research.google.com/notebooks/data_table.ipynb>data table notebook</a>'\n",
              "            + ' to learn more about interactive tables.';\n",
              "          element.innerHTML = '';\n",
              "          dataTable['output_type'] = 'display_data';\n",
              "          await google.colab.output.renderOutput(dataTable, element);\n",
              "          const docLink = document.createElement('div');\n",
              "          docLink.innerHTML = docLinkHtml;\n",
              "          element.appendChild(docLink);\n",
              "        }\n",
              "      </script>\n",
              "    </div>\n",
              "  </div>\n",
              "  "
            ]
          },
          "metadata": {},
          "execution_count": 56
        }
      ]
    },
    {
      "cell_type": "code",
      "source": [
        "njzips = njzips.rename(columns={'ZIP Code':\"C_Zip\"})"
      ],
      "metadata": {
        "id": "X2N8j2gXeN6v"
      },
      "execution_count": 57,
      "outputs": []
    },
    {
      "cell_type": "code",
      "source": [
        "njzips.head(3)"
      ],
      "metadata": {
        "colab": {
          "base_uri": "https://localhost:8080/",
          "height": 143
        },
        "id": "4CYvAVZMeijY",
        "outputId": "c2386fc1-dd39-407c-b9ec-8f54e99f66ed"
      },
      "execution_count": 58,
      "outputs": [
        {
          "output_type": "execute_result",
          "data": {
            "text/plain": [
              "       City  C_Zip    County\n",
              "0       A C  08401  Atlantic\n",
              "1  ABERDEEN  07747  Monmouth\n",
              "2   ABSECON  08201  Atlantic"
            ],
            "text/html": [
              "\n",
              "  <div id=\"df-eff649a6-9a28-43ad-971e-39a92ae9bad3\">\n",
              "    <div class=\"colab-df-container\">\n",
              "      <div>\n",
              "<style scoped>\n",
              "    .dataframe tbody tr th:only-of-type {\n",
              "        vertical-align: middle;\n",
              "    }\n",
              "\n",
              "    .dataframe tbody tr th {\n",
              "        vertical-align: top;\n",
              "    }\n",
              "\n",
              "    .dataframe thead th {\n",
              "        text-align: right;\n",
              "    }\n",
              "</style>\n",
              "<table border=\"1\" class=\"dataframe\">\n",
              "  <thead>\n",
              "    <tr style=\"text-align: right;\">\n",
              "      <th></th>\n",
              "      <th>City</th>\n",
              "      <th>C_Zip</th>\n",
              "      <th>County</th>\n",
              "    </tr>\n",
              "  </thead>\n",
              "  <tbody>\n",
              "    <tr>\n",
              "      <th>0</th>\n",
              "      <td>A C</td>\n",
              "      <td>08401</td>\n",
              "      <td>Atlantic</td>\n",
              "    </tr>\n",
              "    <tr>\n",
              "      <th>1</th>\n",
              "      <td>ABERDEEN</td>\n",
              "      <td>07747</td>\n",
              "      <td>Monmouth</td>\n",
              "    </tr>\n",
              "    <tr>\n",
              "      <th>2</th>\n",
              "      <td>ABSECON</td>\n",
              "      <td>08201</td>\n",
              "      <td>Atlantic</td>\n",
              "    </tr>\n",
              "  </tbody>\n",
              "</table>\n",
              "</div>\n",
              "      <button class=\"colab-df-convert\" onclick=\"convertToInteractive('df-eff649a6-9a28-43ad-971e-39a92ae9bad3')\"\n",
              "              title=\"Convert this dataframe to an interactive table.\"\n",
              "              style=\"display:none;\">\n",
              "        \n",
              "  <svg xmlns=\"http://www.w3.org/2000/svg\" height=\"24px\"viewBox=\"0 0 24 24\"\n",
              "       width=\"24px\">\n",
              "    <path d=\"M0 0h24v24H0V0z\" fill=\"none\"/>\n",
              "    <path d=\"M18.56 5.44l.94 2.06.94-2.06 2.06-.94-2.06-.94-.94-2.06-.94 2.06-2.06.94zm-11 1L8.5 8.5l.94-2.06 2.06-.94-2.06-.94L8.5 2.5l-.94 2.06-2.06.94zm10 10l.94 2.06.94-2.06 2.06-.94-2.06-.94-.94-2.06-.94 2.06-2.06.94z\"/><path d=\"M17.41 7.96l-1.37-1.37c-.4-.4-.92-.59-1.43-.59-.52 0-1.04.2-1.43.59L10.3 9.45l-7.72 7.72c-.78.78-.78 2.05 0 2.83L4 21.41c.39.39.9.59 1.41.59.51 0 1.02-.2 1.41-.59l7.78-7.78 2.81-2.81c.8-.78.8-2.07 0-2.86zM5.41 20L4 18.59l7.72-7.72 1.47 1.35L5.41 20z\"/>\n",
              "  </svg>\n",
              "      </button>\n",
              "      \n",
              "  <style>\n",
              "    .colab-df-container {\n",
              "      display:flex;\n",
              "      flex-wrap:wrap;\n",
              "      gap: 12px;\n",
              "    }\n",
              "\n",
              "    .colab-df-convert {\n",
              "      background-color: #E8F0FE;\n",
              "      border: none;\n",
              "      border-radius: 50%;\n",
              "      cursor: pointer;\n",
              "      display: none;\n",
              "      fill: #1967D2;\n",
              "      height: 32px;\n",
              "      padding: 0 0 0 0;\n",
              "      width: 32px;\n",
              "    }\n",
              "\n",
              "    .colab-df-convert:hover {\n",
              "      background-color: #E2EBFA;\n",
              "      box-shadow: 0px 1px 2px rgba(60, 64, 67, 0.3), 0px 1px 3px 1px rgba(60, 64, 67, 0.15);\n",
              "      fill: #174EA6;\n",
              "    }\n",
              "\n",
              "    [theme=dark] .colab-df-convert {\n",
              "      background-color: #3B4455;\n",
              "      fill: #D2E3FC;\n",
              "    }\n",
              "\n",
              "    [theme=dark] .colab-df-convert:hover {\n",
              "      background-color: #434B5C;\n",
              "      box-shadow: 0px 1px 3px 1px rgba(0, 0, 0, 0.15);\n",
              "      filter: drop-shadow(0px 1px 2px rgba(0, 0, 0, 0.3));\n",
              "      fill: #FFFFFF;\n",
              "    }\n",
              "  </style>\n",
              "\n",
              "      <script>\n",
              "        const buttonEl =\n",
              "          document.querySelector('#df-eff649a6-9a28-43ad-971e-39a92ae9bad3 button.colab-df-convert');\n",
              "        buttonEl.style.display =\n",
              "          google.colab.kernel.accessAllowed ? 'block' : 'none';\n",
              "\n",
              "        async function convertToInteractive(key) {\n",
              "          const element = document.querySelector('#df-eff649a6-9a28-43ad-971e-39a92ae9bad3');\n",
              "          const dataTable =\n",
              "            await google.colab.kernel.invokeFunction('convertToInteractive',\n",
              "                                                     [key], {});\n",
              "          if (!dataTable) return;\n",
              "\n",
              "          const docLinkHtml = 'Like what you see? Visit the ' +\n",
              "            '<a target=\"_blank\" href=https://colab.research.google.com/notebooks/data_table.ipynb>data table notebook</a>'\n",
              "            + ' to learn more about interactive tables.';\n",
              "          element.innerHTML = '';\n",
              "          dataTable['output_type'] = 'display_data';\n",
              "          await google.colab.output.renderOutput(dataTable, element);\n",
              "          const docLink = document.createElement('div');\n",
              "          docLink.innerHTML = docLinkHtml;\n",
              "          element.appendChild(docLink);\n",
              "        }\n",
              "      </script>\n",
              "    </div>\n",
              "  </div>\n",
              "  "
            ]
          },
          "metadata": {},
          "execution_count": 58
        }
      ]
    },
    {
      "cell_type": "code",
      "source": [
        "njzips[\"County\"]= njzips[\"County\"].str.title()"
      ],
      "metadata": {
        "id": "6TrM7RGze-s0"
      },
      "execution_count": 59,
      "outputs": []
    },
    {
      "cell_type": "code",
      "source": [
        "njzips.head(3)"
      ],
      "metadata": {
        "colab": {
          "base_uri": "https://localhost:8080/",
          "height": 143
        },
        "id": "VlXR_r6GfOFT",
        "outputId": "498d43cb-b1cc-440a-b5f2-a79e6285a125"
      },
      "execution_count": 60,
      "outputs": [
        {
          "output_type": "execute_result",
          "data": {
            "text/plain": [
              "       City  C_Zip    County\n",
              "0       A C  08401  Atlantic\n",
              "1  ABERDEEN  07747  Monmouth\n",
              "2   ABSECON  08201  Atlantic"
            ],
            "text/html": [
              "\n",
              "  <div id=\"df-9778dcae-8bb5-4b73-9df5-5c3eee25d677\">\n",
              "    <div class=\"colab-df-container\">\n",
              "      <div>\n",
              "<style scoped>\n",
              "    .dataframe tbody tr th:only-of-type {\n",
              "        vertical-align: middle;\n",
              "    }\n",
              "\n",
              "    .dataframe tbody tr th {\n",
              "        vertical-align: top;\n",
              "    }\n",
              "\n",
              "    .dataframe thead th {\n",
              "        text-align: right;\n",
              "    }\n",
              "</style>\n",
              "<table border=\"1\" class=\"dataframe\">\n",
              "  <thead>\n",
              "    <tr style=\"text-align: right;\">\n",
              "      <th></th>\n",
              "      <th>City</th>\n",
              "      <th>C_Zip</th>\n",
              "      <th>County</th>\n",
              "    </tr>\n",
              "  </thead>\n",
              "  <tbody>\n",
              "    <tr>\n",
              "      <th>0</th>\n",
              "      <td>A C</td>\n",
              "      <td>08401</td>\n",
              "      <td>Atlantic</td>\n",
              "    </tr>\n",
              "    <tr>\n",
              "      <th>1</th>\n",
              "      <td>ABERDEEN</td>\n",
              "      <td>07747</td>\n",
              "      <td>Monmouth</td>\n",
              "    </tr>\n",
              "    <tr>\n",
              "      <th>2</th>\n",
              "      <td>ABSECON</td>\n",
              "      <td>08201</td>\n",
              "      <td>Atlantic</td>\n",
              "    </tr>\n",
              "  </tbody>\n",
              "</table>\n",
              "</div>\n",
              "      <button class=\"colab-df-convert\" onclick=\"convertToInteractive('df-9778dcae-8bb5-4b73-9df5-5c3eee25d677')\"\n",
              "              title=\"Convert this dataframe to an interactive table.\"\n",
              "              style=\"display:none;\">\n",
              "        \n",
              "  <svg xmlns=\"http://www.w3.org/2000/svg\" height=\"24px\"viewBox=\"0 0 24 24\"\n",
              "       width=\"24px\">\n",
              "    <path d=\"M0 0h24v24H0V0z\" fill=\"none\"/>\n",
              "    <path d=\"M18.56 5.44l.94 2.06.94-2.06 2.06-.94-2.06-.94-.94-2.06-.94 2.06-2.06.94zm-11 1L8.5 8.5l.94-2.06 2.06-.94-2.06-.94L8.5 2.5l-.94 2.06-2.06.94zm10 10l.94 2.06.94-2.06 2.06-.94-2.06-.94-.94-2.06-.94 2.06-2.06.94z\"/><path d=\"M17.41 7.96l-1.37-1.37c-.4-.4-.92-.59-1.43-.59-.52 0-1.04.2-1.43.59L10.3 9.45l-7.72 7.72c-.78.78-.78 2.05 0 2.83L4 21.41c.39.39.9.59 1.41.59.51 0 1.02-.2 1.41-.59l7.78-7.78 2.81-2.81c.8-.78.8-2.07 0-2.86zM5.41 20L4 18.59l7.72-7.72 1.47 1.35L5.41 20z\"/>\n",
              "  </svg>\n",
              "      </button>\n",
              "      \n",
              "  <style>\n",
              "    .colab-df-container {\n",
              "      display:flex;\n",
              "      flex-wrap:wrap;\n",
              "      gap: 12px;\n",
              "    }\n",
              "\n",
              "    .colab-df-convert {\n",
              "      background-color: #E8F0FE;\n",
              "      border: none;\n",
              "      border-radius: 50%;\n",
              "      cursor: pointer;\n",
              "      display: none;\n",
              "      fill: #1967D2;\n",
              "      height: 32px;\n",
              "      padding: 0 0 0 0;\n",
              "      width: 32px;\n",
              "    }\n",
              "\n",
              "    .colab-df-convert:hover {\n",
              "      background-color: #E2EBFA;\n",
              "      box-shadow: 0px 1px 2px rgba(60, 64, 67, 0.3), 0px 1px 3px 1px rgba(60, 64, 67, 0.15);\n",
              "      fill: #174EA6;\n",
              "    }\n",
              "\n",
              "    [theme=dark] .colab-df-convert {\n",
              "      background-color: #3B4455;\n",
              "      fill: #D2E3FC;\n",
              "    }\n",
              "\n",
              "    [theme=dark] .colab-df-convert:hover {\n",
              "      background-color: #434B5C;\n",
              "      box-shadow: 0px 1px 3px 1px rgba(0, 0, 0, 0.15);\n",
              "      filter: drop-shadow(0px 1px 2px rgba(0, 0, 0, 0.3));\n",
              "      fill: #FFFFFF;\n",
              "    }\n",
              "  </style>\n",
              "\n",
              "      <script>\n",
              "        const buttonEl =\n",
              "          document.querySelector('#df-9778dcae-8bb5-4b73-9df5-5c3eee25d677 button.colab-df-convert');\n",
              "        buttonEl.style.display =\n",
              "          google.colab.kernel.accessAllowed ? 'block' : 'none';\n",
              "\n",
              "        async function convertToInteractive(key) {\n",
              "          const element = document.querySelector('#df-9778dcae-8bb5-4b73-9df5-5c3eee25d677');\n",
              "          const dataTable =\n",
              "            await google.colab.kernel.invokeFunction('convertToInteractive',\n",
              "                                                     [key], {});\n",
              "          if (!dataTable) return;\n",
              "\n",
              "          const docLinkHtml = 'Like what you see? Visit the ' +\n",
              "            '<a target=\"_blank\" href=https://colab.research.google.com/notebooks/data_table.ipynb>data table notebook</a>'\n",
              "            + ' to learn more about interactive tables.';\n",
              "          element.innerHTML = '';\n",
              "          dataTable['output_type'] = 'display_data';\n",
              "          await google.colab.output.renderOutput(dataTable, element);\n",
              "          const docLink = document.createElement('div');\n",
              "          docLink.innerHTML = docLinkHtml;\n",
              "          element.appendChild(docLink);\n",
              "        }\n",
              "      </script>\n",
              "    </div>\n",
              "  </div>\n",
              "  "
            ]
          },
          "metadata": {},
          "execution_count": 60
        }
      ]
    },
    {
      "cell_type": "code",
      "source": [
        "njzips[\"City\"]= njzips[\"City\"].str.title()"
      ],
      "metadata": {
        "id": "6SbxsKwrfQ9g"
      },
      "execution_count": 61,
      "outputs": []
    },
    {
      "cell_type": "markdown",
      "source": [
        "## Merging"
      ],
      "metadata": {
        "id": "qQQaa_IHryG0"
      }
    },
    {
      "cell_type": "markdown",
      "source": [
        "### Merging Zips"
      ],
      "metadata": {
        "id": "cSUwmbwpMHPh"
      }
    },
    {
      "cell_type": "code",
      "source": [
        "njappdat.dtypes"
      ],
      "metadata": {
        "colab": {
          "base_uri": "https://localhost:8080/"
        },
        "id": "cX93X9J3rxrD",
        "outputId": "f3bffe61-a992-4917-8c8d-38e96a103a68"
      },
      "execution_count": 72,
      "outputs": [
        {
          "output_type": "execute_result",
          "data": {
            "text/plain": [
              "ID                                                     int64\n",
              "Degree Type                                           object\n",
              "Final Recommended Decision                            object\n",
              "Admit-Coming                                           int64\n",
              "Application Created Date                              object\n",
              "Days Before the Beginning of Semester                  int64\n",
              "Domestic or INTL Applicant                            object\n",
              "Reporting Term                                        object\n",
              "Age When Applied                                     float64\n",
              "Zip                                                   object\n",
              "State                                                 object\n",
              "Country                                               object\n",
              "Most Recent Educational Institution: Account Name     object\n",
              "Gender                                                object\n",
              "Race                                                  object\n",
              "Program Selection: Program Selection Name             object\n",
              "Admissions Status                                     object\n",
              "C_Zip                                                 object\n",
              "dtype: object"
            ]
          },
          "metadata": {},
          "execution_count": 72
        }
      ]
    },
    {
      "cell_type": "code",
      "source": [
        "#Simplified data for merging. This lists all the NJ apps with cleaned Zips. \n",
        "njappmerge=njappdat[['ID ','C_Zip']]\n",
        "njappmerge.head(3)"
      ],
      "metadata": {
        "colab": {
          "base_uri": "https://localhost:8080/",
          "height": 143
        },
        "id": "BTrlqCJwtd7R",
        "outputId": "67997861-3f8a-4505-98d8-08196ed12804"
      },
      "execution_count": 73,
      "outputs": [
        {
          "output_type": "execute_result",
          "data": {
            "text/plain": [
              "   ID   C_Zip\n",
              "2    3  07009\n",
              "3    4  07726\n",
              "5    6  08755"
            ],
            "text/html": [
              "\n",
              "  <div id=\"df-ef20570b-b7dd-439f-bf53-ed300f50b55a\">\n",
              "    <div class=\"colab-df-container\">\n",
              "      <div>\n",
              "<style scoped>\n",
              "    .dataframe tbody tr th:only-of-type {\n",
              "        vertical-align: middle;\n",
              "    }\n",
              "\n",
              "    .dataframe tbody tr th {\n",
              "        vertical-align: top;\n",
              "    }\n",
              "\n",
              "    .dataframe thead th {\n",
              "        text-align: right;\n",
              "    }\n",
              "</style>\n",
              "<table border=\"1\" class=\"dataframe\">\n",
              "  <thead>\n",
              "    <tr style=\"text-align: right;\">\n",
              "      <th></th>\n",
              "      <th>ID</th>\n",
              "      <th>C_Zip</th>\n",
              "    </tr>\n",
              "  </thead>\n",
              "  <tbody>\n",
              "    <tr>\n",
              "      <th>2</th>\n",
              "      <td>3</td>\n",
              "      <td>07009</td>\n",
              "    </tr>\n",
              "    <tr>\n",
              "      <th>3</th>\n",
              "      <td>4</td>\n",
              "      <td>07726</td>\n",
              "    </tr>\n",
              "    <tr>\n",
              "      <th>5</th>\n",
              "      <td>6</td>\n",
              "      <td>08755</td>\n",
              "    </tr>\n",
              "  </tbody>\n",
              "</table>\n",
              "</div>\n",
              "      <button class=\"colab-df-convert\" onclick=\"convertToInteractive('df-ef20570b-b7dd-439f-bf53-ed300f50b55a')\"\n",
              "              title=\"Convert this dataframe to an interactive table.\"\n",
              "              style=\"display:none;\">\n",
              "        \n",
              "  <svg xmlns=\"http://www.w3.org/2000/svg\" height=\"24px\"viewBox=\"0 0 24 24\"\n",
              "       width=\"24px\">\n",
              "    <path d=\"M0 0h24v24H0V0z\" fill=\"none\"/>\n",
              "    <path d=\"M18.56 5.44l.94 2.06.94-2.06 2.06-.94-2.06-.94-.94-2.06-.94 2.06-2.06.94zm-11 1L8.5 8.5l.94-2.06 2.06-.94-2.06-.94L8.5 2.5l-.94 2.06-2.06.94zm10 10l.94 2.06.94-2.06 2.06-.94-2.06-.94-.94-2.06-.94 2.06-2.06.94z\"/><path d=\"M17.41 7.96l-1.37-1.37c-.4-.4-.92-.59-1.43-.59-.52 0-1.04.2-1.43.59L10.3 9.45l-7.72 7.72c-.78.78-.78 2.05 0 2.83L4 21.41c.39.39.9.59 1.41.59.51 0 1.02-.2 1.41-.59l7.78-7.78 2.81-2.81c.8-.78.8-2.07 0-2.86zM5.41 20L4 18.59l7.72-7.72 1.47 1.35L5.41 20z\"/>\n",
              "  </svg>\n",
              "      </button>\n",
              "      \n",
              "  <style>\n",
              "    .colab-df-container {\n",
              "      display:flex;\n",
              "      flex-wrap:wrap;\n",
              "      gap: 12px;\n",
              "    }\n",
              "\n",
              "    .colab-df-convert {\n",
              "      background-color: #E8F0FE;\n",
              "      border: none;\n",
              "      border-radius: 50%;\n",
              "      cursor: pointer;\n",
              "      display: none;\n",
              "      fill: #1967D2;\n",
              "      height: 32px;\n",
              "      padding: 0 0 0 0;\n",
              "      width: 32px;\n",
              "    }\n",
              "\n",
              "    .colab-df-convert:hover {\n",
              "      background-color: #E2EBFA;\n",
              "      box-shadow: 0px 1px 2px rgba(60, 64, 67, 0.3), 0px 1px 3px 1px rgba(60, 64, 67, 0.15);\n",
              "      fill: #174EA6;\n",
              "    }\n",
              "\n",
              "    [theme=dark] .colab-df-convert {\n",
              "      background-color: #3B4455;\n",
              "      fill: #D2E3FC;\n",
              "    }\n",
              "\n",
              "    [theme=dark] .colab-df-convert:hover {\n",
              "      background-color: #434B5C;\n",
              "      box-shadow: 0px 1px 3px 1px rgba(0, 0, 0, 0.15);\n",
              "      filter: drop-shadow(0px 1px 2px rgba(0, 0, 0, 0.3));\n",
              "      fill: #FFFFFF;\n",
              "    }\n",
              "  </style>\n",
              "\n",
              "      <script>\n",
              "        const buttonEl =\n",
              "          document.querySelector('#df-ef20570b-b7dd-439f-bf53-ed300f50b55a button.colab-df-convert');\n",
              "        buttonEl.style.display =\n",
              "          google.colab.kernel.accessAllowed ? 'block' : 'none';\n",
              "\n",
              "        async function convertToInteractive(key) {\n",
              "          const element = document.querySelector('#df-ef20570b-b7dd-439f-bf53-ed300f50b55a');\n",
              "          const dataTable =\n",
              "            await google.colab.kernel.invokeFunction('convertToInteractive',\n",
              "                                                     [key], {});\n",
              "          if (!dataTable) return;\n",
              "\n",
              "          const docLinkHtml = 'Like what you see? Visit the ' +\n",
              "            '<a target=\"_blank\" href=https://colab.research.google.com/notebooks/data_table.ipynb>data table notebook</a>'\n",
              "            + ' to learn more about interactive tables.';\n",
              "          element.innerHTML = '';\n",
              "          dataTable['output_type'] = 'display_data';\n",
              "          await google.colab.output.renderOutput(dataTable, element);\n",
              "          const docLink = document.createElement('div');\n",
              "          docLink.innerHTML = docLinkHtml;\n",
              "          element.appendChild(docLink);\n",
              "        }\n",
              "      </script>\n",
              "    </div>\n",
              "  </div>\n",
              "  "
            ]
          },
          "metadata": {},
          "execution_count": 73
        }
      ]
    },
    {
      "cell_type": "code",
      "source": [
        "print(njappmerge.C_Zip.unique())"
      ],
      "metadata": {
        "colab": {
          "base_uri": "https://localhost:8080/"
        },
        "id": "Ix0i7oyINWaz",
        "outputId": "886fda95-0d8b-4a3f-f437-5bf05fac8270"
      },
      "execution_count": 76,
      "outputs": [
        {
          "output_type": "stream",
          "name": "stdout",
          "text": [
            "['07009' '07726' '08755' '08850' '07052' '07871' '08034' '08107' '07522'\n",
            " '08016' '81021' '8904' '08012' '7306' '07450' '08055' '08004' '8102'\n",
            " '08002' '08083' '7036' '08003' '08824' '08066' '08031' '08536' '08109'\n",
            " '08028' '08527' '08108' '08558' '08904' '08873' '8401' '07304' '08052'\n",
            " '08103' '08502' '08088' '8064' '08102' '8002' '08837' '08048' '08007'\n",
            " '08005' '08021' '8060' '08081' '08046' '08075' '08053' '08104' '8043'\n",
            " '08360' '08901' '08330' '8810' '8033' '08520' '8817' '08204' '07666'\n",
            " '08865' '08078' '7960' '08618' '07031' '8054' '08234' '07030' '08057'\n",
            " '8505' '07045' '08690' '7111' '08022' '07830' '08753' '07735' '08343'\n",
            " '07311' '08105' '08009' '07103' '8104' '7734' '08093' '08611' '07753'\n",
            " '07675' '8078' '08065' '8081' '07108' '8059' '08096' '8830' '7055'\n",
            " '08833' '8075' '07728' '08010' '8824' '8869' '08071' '8857' '08857'\n",
            " '08361' '08205' '08619' '08037' '8012' '08049' '8015' '8077' '7724'\n",
            " '07436' '07083' '07060' '08822' '07055' '08861' '07011' '08401' '08061'\n",
            " '7203' '07747' '07109' '8030' '08512' '8108' '08317' '7003' '8093' '8071'\n",
            " '08610' '08876' '07405' '08087' '08648' '8088' '07960' '07063' '7110'\n",
            " '07719' '08816' '8055' '08844' '07047' '07731' '07974' '07840' '07041'\n",
            " '08854' '07016' '08831' '8873' '07090' '08848' '07042' '07106' '08054'\n",
            " '07660' '08550' '08540' '08902' '08302' '08079' '08085' '07442' '08091'\n",
            " '07013' '08534' '08094' '08097' '8046' '8068' '08629' '8107' '08077'\n",
            " '07950' '7076' '8009' '7079' '8533' '07481' '8052' '8053' '08059' '08226'\n",
            " '08019' '8755' '08530' '08043' '8217' '08505' '08060' '07008' '7302'\n",
            " '08515' '08251' '7104' '07104' '08062' '8021' '8034' '08221' '7050'\n",
            " '07044' '8094' '08080' '8753' '8618' '08110' '7701' '08033' '8090'\n",
            " '07932' '08069' '08232' '07727' '08691' '08035' '8110' '08029' '08106'\n",
            " '8322' '07040' '8232']\n"
          ]
        }
      ]
    },
    {
      "cell_type": "code",
      "source": [
        "#cleaned the zip codes with missing leading zeroes. This was painfully inefficient. I need to come learn if statement syntax.  \n",
        "njappmerge=njappmerge.replace({'C_Zip':{'8904':'08904',\t'7306':'07306',\t'8102':'08102',\t'7036':'07036',\t'8401':'08401',\t'8064':'08064',\t'8002':'08002',\t'8060':'08060',\t'8043':'08043',\t'8810':'08810',\t'8033':'08033',\t'8817':'08817',\t'7960':'07960',\t'8054':'08054',\t'8505':'08505',\t'7111':'07111',\t'8104':'08104',\t'7734':'07734',\t'8078':'08078',\t'8081':'08081',\t'8059':'08059',\t'8830':'08830',\t'7055':'07055',\t'8075':'08075',\t'8824':'08824',\t'8869':'08869',\t'8857':'08857',\t'8012':'08012',\t'8015':'08015',\t'8077':'08077',\t'7724':'07724',\t'7203':'07203',\t'8030':'08030',\t'8108':'08108',\t'7003':'07003',\t'8093':'08093',\t'8071':'08071',\t'8088':'08088',\t'7110':'07110',\t'8055':'08055',\t'8873':'08873',\t'8046':'08046',\t'8068':'08068',\t'8107':'08107',\t'7076':'07076',\t'8009':'08009',\t'7079':'07079',\t'8533':'08533',\t'8052':'08052',\t'8053':'08053',\t'8755':'08755',\t'8217':'08217',\t'7302':'07302',\t'7104':'07104',\t'8021':'08021',\t'8034':'08034',\t'7050':'07050',\t'8094':'08094',\t'8753':'08753',\t'8618':'08618',\t'7701':'07701',\t'8090':'08090',\t'8110':'08110',\t'8322':'08322',\t'8232':'08232'}})"
      ],
      "metadata": {
        "id": "7aVqqcKpWiJ-"
      },
      "execution_count": 97,
      "outputs": []
    },
    {
      "cell_type": "code",
      "source": [
        "print(njappmerge.C_Zip.unique())"
      ],
      "metadata": {
        "colab": {
          "base_uri": "https://localhost:8080/"
        },
        "id": "O9bV_4DPW44x",
        "outputId": "39fcbe43-0eb9-4d8d-a768-db1cc2155e40"
      },
      "execution_count": 98,
      "outputs": [
        {
          "output_type": "stream",
          "name": "stdout",
          "text": [
            "['07009' '07726' '08755' '08850' '07052' '07871' '08034' '08107' '07522'\n",
            " '08016' '81021' '08904' '08012' '07306' '07450' '08055' '08004' '08102'\n",
            " '08002' '08083' '07036' '08003' '08824' '08066' '08031' '08536' '08109'\n",
            " '08028' '08527' '08108' '08558' '08873' '08401' '07304' '08052' '08103'\n",
            " '08502' '08088' '08064' '08837' '08048' '08007' '08005' '08021' '08060'\n",
            " '08081' '08046' '08075' '08053' '08104' '08043' '08360' '08901' '08330'\n",
            " '08810' '08033' '08520' '08817' '08204' '07666' '08865' '08078' '07960'\n",
            " '08618' '07031' '08054' '08234' '07030' '08057' '08505' '07045' '08690'\n",
            " '07111' '08022' '07830' '08753' '07735' '08343' '07311' '08105' '08009'\n",
            " '07103' '07734' '08093' '08611' '07753' '07675' '08065' '07108' '08059'\n",
            " '08096' '08830' '07055' '08833' '07728' '08010' '08869' '08071' '08857'\n",
            " '08361' '08205' '08619' '08037' '08049' '08015' '08077' '07724' '07436'\n",
            " '07083' '07060' '08822' '08861' '07011' '08061' '07203' '07747' '07109'\n",
            " '08030' '08512' '08317' '07003' '08610' '08876' '07405' '08087' '08648'\n",
            " '07063' '07110' '07719' '08816' '08844' '07047' '07731' '07974' '07840'\n",
            " '07041' '08854' '07016' '08831' '07090' '08848' '07042' '07106' '07660'\n",
            " '08550' '08540' '08902' '08302' '08079' '08085' '07442' '08091' '07013'\n",
            " '08534' '08094' '08097' '08068' '08629' '07950' '07076' '07079' '08533'\n",
            " '07481' '08226' '08019' '08530' '08217' '07008' '07302' '08515' '08251'\n",
            " '07104' '08062' '08221' '07050' '07044' '08080' '08110' '07701' '08090'\n",
            " '07932' '08069' '08232' '07727' '08691' '08035' '08029' '08106' '08322'\n",
            " '07040']\n"
          ]
        }
      ]
    },
    {
      "cell_type": "code",
      "source": [
        "st='8505' \n",
        "#st='08888'\n",
        "\n",
        "if len(st)==4:\n",
        "  st='0'+ st\n",
        "else: \n",
        "  print('all good from getgo')  \n",
        "\n",
        "st\n",
        "\n",
        "#aok: wow that was a lot of work; eg see\n",
        "#https://www.w3resource.com/python-exercises/pandas/string/python-pandas-string-exercise-3.php\n",
        "#https://stackoverflow.com/questions/20990863/python-pandas-add-leading-zero-to-make-all-months-2-digits"
      ],
      "metadata": {
        "id": "OUhTFqzLjytV",
        "outputId": "17ff2789-ec3b-47ad-dfd8-da98fb3a0d86",
        "colab": {
          "base_uri": "https://localhost:8080/",
          "height": 36
        }
      },
      "execution_count": 86,
      "outputs": [
        {
          "output_type": "execute_result",
          "data": {
            "text/plain": [
              "'08505'"
            ],
            "application/vnd.google.colaboratory.intrinsic+json": {
              "type": "string"
            }
          },
          "metadata": {},
          "execution_count": 86
        }
      ]
    },
    {
      "cell_type": "code",
      "source": [
        "njzips.dtypes"
      ],
      "metadata": {
        "colab": {
          "base_uri": "https://localhost:8080/"
        },
        "id": "fiCZmH7hvQk1",
        "outputId": "c8e5a7ac-aeda-46e5-8e83-cc9708b0467d"
      },
      "execution_count": null,
      "outputs": [
        {
          "output_type": "execute_result",
          "data": {
            "text/plain": [
              "City      object\n",
              "C_Zip     object\n",
              "County    object\n",
              "dtype: object"
            ]
          },
          "metadata": {},
          "execution_count": 187
        }
      ]
    },
    {
      "cell_type": "code",
      "source": [
        "#This is the simplified data I am going to use to merge. These are the Zips I am going to use to find the county names. \n",
        "njzipsmerge=njzips[['C_Zip','County']]\n",
        "njzipsmerge.head(3)"
      ],
      "metadata": {
        "colab": {
          "base_uri": "https://localhost:8080/",
          "height": 143
        },
        "id": "bWMu5n3XvdLR",
        "outputId": "f7194eed-ba57-42e1-cd3d-fbd472a01bd5"
      },
      "execution_count": 88,
      "outputs": [
        {
          "output_type": "execute_result",
          "data": {
            "text/plain": [
              "   C_Zip    County\n",
              "0  08401  Atlantic\n",
              "1  07747  Monmouth\n",
              "2  08201  Atlantic"
            ],
            "text/html": [
              "\n",
              "  <div id=\"df-33b8ef3f-e5dc-4a11-8802-fcc6757df595\">\n",
              "    <div class=\"colab-df-container\">\n",
              "      <div>\n",
              "<style scoped>\n",
              "    .dataframe tbody tr th:only-of-type {\n",
              "        vertical-align: middle;\n",
              "    }\n",
              "\n",
              "    .dataframe tbody tr th {\n",
              "        vertical-align: top;\n",
              "    }\n",
              "\n",
              "    .dataframe thead th {\n",
              "        text-align: right;\n",
              "    }\n",
              "</style>\n",
              "<table border=\"1\" class=\"dataframe\">\n",
              "  <thead>\n",
              "    <tr style=\"text-align: right;\">\n",
              "      <th></th>\n",
              "      <th>C_Zip</th>\n",
              "      <th>County</th>\n",
              "    </tr>\n",
              "  </thead>\n",
              "  <tbody>\n",
              "    <tr>\n",
              "      <th>0</th>\n",
              "      <td>08401</td>\n",
              "      <td>Atlantic</td>\n",
              "    </tr>\n",
              "    <tr>\n",
              "      <th>1</th>\n",
              "      <td>07747</td>\n",
              "      <td>Monmouth</td>\n",
              "    </tr>\n",
              "    <tr>\n",
              "      <th>2</th>\n",
              "      <td>08201</td>\n",
              "      <td>Atlantic</td>\n",
              "    </tr>\n",
              "  </tbody>\n",
              "</table>\n",
              "</div>\n",
              "      <button class=\"colab-df-convert\" onclick=\"convertToInteractive('df-33b8ef3f-e5dc-4a11-8802-fcc6757df595')\"\n",
              "              title=\"Convert this dataframe to an interactive table.\"\n",
              "              style=\"display:none;\">\n",
              "        \n",
              "  <svg xmlns=\"http://www.w3.org/2000/svg\" height=\"24px\"viewBox=\"0 0 24 24\"\n",
              "       width=\"24px\">\n",
              "    <path d=\"M0 0h24v24H0V0z\" fill=\"none\"/>\n",
              "    <path d=\"M18.56 5.44l.94 2.06.94-2.06 2.06-.94-2.06-.94-.94-2.06-.94 2.06-2.06.94zm-11 1L8.5 8.5l.94-2.06 2.06-.94-2.06-.94L8.5 2.5l-.94 2.06-2.06.94zm10 10l.94 2.06.94-2.06 2.06-.94-2.06-.94-.94-2.06-.94 2.06-2.06.94z\"/><path d=\"M17.41 7.96l-1.37-1.37c-.4-.4-.92-.59-1.43-.59-.52 0-1.04.2-1.43.59L10.3 9.45l-7.72 7.72c-.78.78-.78 2.05 0 2.83L4 21.41c.39.39.9.59 1.41.59.51 0 1.02-.2 1.41-.59l7.78-7.78 2.81-2.81c.8-.78.8-2.07 0-2.86zM5.41 20L4 18.59l7.72-7.72 1.47 1.35L5.41 20z\"/>\n",
              "  </svg>\n",
              "      </button>\n",
              "      \n",
              "  <style>\n",
              "    .colab-df-container {\n",
              "      display:flex;\n",
              "      flex-wrap:wrap;\n",
              "      gap: 12px;\n",
              "    }\n",
              "\n",
              "    .colab-df-convert {\n",
              "      background-color: #E8F0FE;\n",
              "      border: none;\n",
              "      border-radius: 50%;\n",
              "      cursor: pointer;\n",
              "      display: none;\n",
              "      fill: #1967D2;\n",
              "      height: 32px;\n",
              "      padding: 0 0 0 0;\n",
              "      width: 32px;\n",
              "    }\n",
              "\n",
              "    .colab-df-convert:hover {\n",
              "      background-color: #E2EBFA;\n",
              "      box-shadow: 0px 1px 2px rgba(60, 64, 67, 0.3), 0px 1px 3px 1px rgba(60, 64, 67, 0.15);\n",
              "      fill: #174EA6;\n",
              "    }\n",
              "\n",
              "    [theme=dark] .colab-df-convert {\n",
              "      background-color: #3B4455;\n",
              "      fill: #D2E3FC;\n",
              "    }\n",
              "\n",
              "    [theme=dark] .colab-df-convert:hover {\n",
              "      background-color: #434B5C;\n",
              "      box-shadow: 0px 1px 3px 1px rgba(0, 0, 0, 0.15);\n",
              "      filter: drop-shadow(0px 1px 2px rgba(0, 0, 0, 0.3));\n",
              "      fill: #FFFFFF;\n",
              "    }\n",
              "  </style>\n",
              "\n",
              "      <script>\n",
              "        const buttonEl =\n",
              "          document.querySelector('#df-33b8ef3f-e5dc-4a11-8802-fcc6757df595 button.colab-df-convert');\n",
              "        buttonEl.style.display =\n",
              "          google.colab.kernel.accessAllowed ? 'block' : 'none';\n",
              "\n",
              "        async function convertToInteractive(key) {\n",
              "          const element = document.querySelector('#df-33b8ef3f-e5dc-4a11-8802-fcc6757df595');\n",
              "          const dataTable =\n",
              "            await google.colab.kernel.invokeFunction('convertToInteractive',\n",
              "                                                     [key], {});\n",
              "          if (!dataTable) return;\n",
              "\n",
              "          const docLinkHtml = 'Like what you see? Visit the ' +\n",
              "            '<a target=\"_blank\" href=https://colab.research.google.com/notebooks/data_table.ipynb>data table notebook</a>'\n",
              "            + ' to learn more about interactive tables.';\n",
              "          element.innerHTML = '';\n",
              "          dataTable['output_type'] = 'display_data';\n",
              "          await google.colab.output.renderOutput(dataTable, element);\n",
              "          const docLink = document.createElement('div');\n",
              "          docLink.innerHTML = docLinkHtml;\n",
              "          element.appendChild(docLink);\n",
              "        }\n",
              "      </script>\n",
              "    </div>\n",
              "  </div>\n",
              "  "
            ]
          },
          "metadata": {},
          "execution_count": 88
        }
      ]
    },
    {
      "cell_type": "code",
      "source": [
        "print(njzipsmerge.C_Zip.unique())"
      ],
      "metadata": {
        "colab": {
          "base_uri": "https://localhost:8080/"
        },
        "id": "w2TYDw0DZv5B",
        "outputId": "e8666e70-bc02-4163-c624-ae9c267118e5"
      },
      "execution_count": 89,
      "outputs": [
        {
          "output_type": "stream",
          "name": "stdout",
          "text": [
            "['08401' '07747' '08201' '07102' '07710' '08009' '07820' '07840' '07401'\n",
            " '077XX' '08501' '08720' '08001' '07012' '08096' '08865' '07620' '07017'\n",
            " '08037' '07821' '08260' '08801' '07032' '08802' '07753' '07712' '08043'\n",
            " '08004' '08402' '08403' '08406' '084XX' '08233' '07716' '08085' '08106'\n",
            " '07822' '08028' '08202' '070XX' '07717' '07421' '08803' '08005' '08006'\n",
            " '08080' '08007' '07422' '07920' '07939' '08742' '07002' '08721' '07202'\n",
            " '08008' '08050' '08722' '07416' '07921' '07461' '08223' '07718' '08677'\n",
            " '08502' '08270' '07109' '080XX' '0771X' '07823' '07304' '07621' '07087'\n",
            " '08757' '07922' '07924' '07201' '08010' '08066' '08011' '08349' '08012'\n",
            " '07825' '08504' '07003' '07403' '08804' '07603' '07005' '08505' '08805'\n",
            " '08108' '07746' '07720' '08876' '07826' '07827' '07890' '0872X' '07018'\n",
            " '08075' '08014' '08302' '08807' '08730' '08203' '08808' '08030' '07926'\n",
            " '08015' '07828' '08310' '08210' '08016' '07405' '07829' '0700X' '07830'\n",
            " '08107' '08109' '0810X' '08110' '08204' '08212' '08232' '07072' '08332'\n",
            " '08069' '07008' '07030' '08094' '07758' '08018' '07009' '07927' '08092'\n",
            " '08311' '08318' '07831' '07928' '08019' '07193' '08XXX' '08089' '07930'\n",
            " '07083' '08077' '07066' '08020' '08510' '08312' '08021' '07010' '07721'\n",
            " '07735' '07460' '0701X' '08809' '07108' '07624' '08213' '07067' '07722'\n",
            " '07832' '08022' '07961' '08511' '07983' '07438' '085XX' '07016' '08514'\n",
            " '07626' '08515' '07098' '07456' '07446' '08810' '07723' '08023' '08313'\n",
            " '08251' '07014' '07833' '08314' '07627' '08214' '07834' '08097' '08215'\n",
            " '08315' '08316' '08317' '07806' '0780X' '07869' '07801' '08753' '07628'\n",
            " '07055' '08812' '08816' '07073' '08551' '08105' '07728' '07936' '07734'\n",
            " '0887X' '07029' '08520' '08060' '08877' '07020' '088XX' '07498' '08541'\n",
            " '07740' '07755' '072XX' '07206' '07407' '08217' '07630' '07632' '07631'\n",
            " '08330' '07726' '08081' '08002' '07021' '08319' '08053' '08025' '086XX'\n",
            " '07704' '07410' '07004' '08320' '07022' '07023' '07931' '07727' '07184'\n",
            " '08905' '07191' '08570' '07188' '07192' '07308' '08821' '07836' '08822'\n",
            " '08518' '07932' '08863' '08731' '08640' '07732' '07024' '07703' '08321'\n",
            " '07417' '08823' '08873' '08322' '07860' '08825' '08345' '07026' '07027'\n",
            " '07309' '08026' '08027' '07933' '07934' '07837' '08826' '07028' '07452'\n",
            " '08029' '07418' '07480' '08218' '07036' '07838' '07424' '08219' '07435'\n",
            " '07935' '07839' '07305' '08323' '08032' '07950' '07093' '07530' '07601'\n",
            " '0760X' '08035' '08033' '08036' '075XX' '07419' '08690' '08827' '08038'\n",
            " '07640' '08039' '07604' '07420' '07641' '0750X' '07730' '08324' '08828'\n",
            " '08083' '07842' '08829' '08904' '07502' '08853' '07642' '07205' '07423'\n",
            " '07733' '07843' '07844' '08525' '07731' '07307' '07047' '08526' '08088'\n",
            " '07105' '07845' '07198' '07111' '08830' '08732' '08527' '08831' '08040'\n",
            " '07709' '07XXX' '08041' '08933' '07846' '07306' '08042' '08832' '08824'\n",
            " '07033' '07847' '08906' '08528' '08734' '07848' '07762' '07034' '07849'\n",
            " '08733' '08759' '08701' '08530' '07850' '08326' '08735' '08045' '08648'\n",
            " '07851' '08833' '07852' '08220' '08327' '08057' '07737' '07605' '07938'\n",
            " '07035' '07738' '0822X' '07470' '08087' '07643' '07739' '08834' '07039'\n",
            " '07711' '07760' '07644' '07853' '07045' '08048' '07071' '07940' '08049'\n",
            " '074XX' '07011' '08328' '08736' '08738' '08051' '08835' '08052' '07040'\n",
            " '08836' '08054' '08329' '07607' '07428' '08641' '07096' '08055' '07945'\n",
            " '08837' '08619' '0898X' '07199' '08878' '08840' '08056' '08846' '07748'\n",
            " '07855' '07432' '07194' '07465' '08848' '07041' '07946' '08850' '08340'\n",
            " '08341' '08342' '07724' '07750' '08852' '07757' '08512' '08343' '0704X'\n",
            " '08558' '07645' '07074' '08879' '07751' '0796X' '07657' '07856' '08059'\n",
            " '07970' '08061' '07878' '07046' '07092' '07060' '08062' '07974' '08405'\n",
            " '07031' '08902' '07006' '07215' '08647' '07715' '08645' '0706X' '08063'\n",
            " '07752' '0775X' '07857' '07062' '08901' '08903' '089XX' '08533' '08224'\n",
            " '08064' '07646' '07976' '071XX' '08370' '08344' '08346' '08347' '08739'\n",
            " '07104' '07208' '08562' '07688' '08225' '07647' '07648' '07110' '08090'\n",
            " '07436' '08226' '08740' '07756' '08758' '08230' '08231' '07439' '08857'\n",
            " '07675' '08858' '07649' '0705X' '08751' '08723' '07863' '07650' '08542'\n",
            " '08065' '0765X' '07656' '08859' '07054' '07508' '0751X' '07538' '07977'\n",
            " '08067' '08068' '08534' '08070' '07440' '08535' '07399' '0886X' '08098'\n",
            " '08741' '07058' '0885X' '08071' '08867' '08536' '0823X' '07978' '08240'\n",
            " '07442' '07457' '07444' '08348' '07865' '07064' '08241' '07979' '0854X'\n",
            " '08550' '08540' '08544' '08227' '08222' '07777' '08922' '07216' '08868'\n",
            " '08072' '08358' '07065' '08073' '08869' '08870' '07701' '07702' '08350'\n",
            " '08074' '07660' '0745X' '08242' '07661' '0807X' '08691' '07662' '07866'\n",
            " '08553' '08554' '08555' '07068' '07203' '07204' '08556' '08352' '07107'\n",
            " '08078' '07070' '08880' '07606' '07080' '08752' '08246' '07663' '07458'\n",
            " '08079' '07870' '07076' '08750' '08243' '0709X' '08557' '07077' '07719'\n",
            " '08353' '07078' '08244' '0711X' '08104' '08245' '07079' '08882' '08360'\n",
            " '07871' '08411' '08884' '07081' '07874' '08885' '07477' '08666' '08221'\n",
            " '08886' '07875' '07980' '08559' '08247' '08084' '08248' '07876' '0790X'\n",
            " '07877' '076XX' '07670' '07763' '07608' '07195' '07197' '08086' '08887'\n",
            " '08560' '0875X' '07512' '07082' '07052' '07879' '0864X' '08250' '07189'\n",
            " '07043' '07106' '07088' '08093' '07462' '07044' '07880' '07764' '07463'\n",
            " '07057' '07881' '07059' '07882' '0747X' '07112' '07103' '08091' '07666'\n",
            " '08628' '07885' '079XX' '08889' '08888' '08252' '07765' '08046' '08561'\n",
            " '08095' '07075' '07095' '08003' '07481' '08620' '08890']\n"
          ]
        }
      ]
    },
    {
      "cell_type": "code",
      "source": [
        "njzipsmerge['C_Zip'].str.contains('X').sum()"
      ],
      "metadata": {
        "colab": {
          "base_uri": "https://localhost:8080/"
        },
        "id": "ex8UM0q9cmtH",
        "outputId": "dbd3b2b0-6e58-448d-b2e3-bb0216d4b8a4"
      },
      "execution_count": 90,
      "outputs": [
        {
          "output_type": "execute_result",
          "data": {
            "text/plain": [
              "79"
            ]
          },
          "metadata": {},
          "execution_count": 90
        }
      ]
    },
    {
      "cell_type": "code",
      "source": [
        "#identify partial string to look for\n",
        "discard = [\"X\"]\n",
        "#drop rows that contain the partial string \"X\" in the C_Zip column\n",
        "njzipmerge_new = njzipsmerge[~njzipsmerge.C_Zip.str.contains('|'.join(discard))]\n",
        "#aok: cool! assuming that we dont need them like they are duplicates etc\n",
        "#again ideally would be nice to have clean data from the getgo"
      ],
      "metadata": {
        "id": "rohW9ZGtdWFy"
      },
      "execution_count": 93,
      "outputs": []
    },
    {
      "cell_type": "code",
      "source": [
        "njzipmerge_new ['C_Zip'].str.contains('X').sum()"
      ],
      "metadata": {
        "colab": {
          "base_uri": "https://localhost:8080/"
        },
        "id": "oBUNolF4eM2Q",
        "outputId": "cd2bebf3-ba19-4e4c-db87-8e25d7838c93"
      },
      "execution_count": 94,
      "outputs": [
        {
          "output_type": "execute_result",
          "data": {
            "text/plain": [
              "0"
            ]
          },
          "metadata": {},
          "execution_count": 94
        }
      ]
    },
    {
      "cell_type": "code",
      "source": [
        "print(njzipmerge_new.C_Zip.unique())"
      ],
      "metadata": {
        "colab": {
          "base_uri": "https://localhost:8080/"
        },
        "id": "hApNEQ9BjITa",
        "outputId": "45d307af-207d-4085-c7d4-697e0a3faa3e"
      },
      "execution_count": 95,
      "outputs": [
        {
          "output_type": "stream",
          "name": "stdout",
          "text": [
            "['08401' '07747' '08201' '07102' '07710' '08009' '07820' '07840' '07401'\n",
            " '08501' '08720' '08001' '07012' '08096' '08865' '07620' '07017' '08037'\n",
            " '07821' '08260' '08801' '07032' '08802' '07753' '07712' '08043' '08004'\n",
            " '08402' '08403' '08406' '08233' '07716' '08085' '08106' '07822' '08028'\n",
            " '08202' '07717' '07421' '08803' '08005' '08006' '08080' '08007' '07422'\n",
            " '07920' '07939' '08742' '07002' '08721' '07202' '08008' '08050' '08722'\n",
            " '07416' '07921' '07461' '08223' '07718' '08677' '08502' '08270' '07109'\n",
            " '07823' '07304' '07621' '07087' '08757' '07922' '07924' '07201' '08010'\n",
            " '08066' '08011' '08349' '08012' '07825' '08504' '07003' '07403' '08804'\n",
            " '07603' '07005' '08505' '08805' '08108' '07746' '07720' '08876' '07826'\n",
            " '07827' '07890' '07018' '08075' '08014' '08302' '08807' '08730' '08203'\n",
            " '08808' '08030' '07926' '08015' '07828' '08310' '08210' '08016' '07405'\n",
            " '07829' '07830' '08107' '08109' '08110' '08204' '08212' '08232' '07072'\n",
            " '08332' '08069' '07008' '07030' '08094' '07758' '08018' '07009' '07927'\n",
            " '08092' '08311' '08318' '07831' '07928' '08019' '07193' '08089' '07930'\n",
            " '07083' '08077' '07066' '08020' '08510' '08312' '08021' '07010' '07721'\n",
            " '07735' '07460' '08809' '07108' '07624' '08213' '07067' '07722' '07832'\n",
            " '08022' '07961' '08511' '07983' '07438' '07016' '08514' '07626' '08515'\n",
            " '07098' '07456' '07446' '08810' '07723' '08023' '08313' '08251' '07014'\n",
            " '07833' '08314' '07627' '08214' '07834' '08097' '08215' '08315' '08316'\n",
            " '08317' '07806' '07869' '07801' '08753' '07628' '07055' '08812' '08816'\n",
            " '07073' '08551' '08105' '07728' '07936' '07734' '07029' '08520' '08060'\n",
            " '08877' '07020' '07498' '08541' '07740' '07755' '07206' '07407' '08217'\n",
            " '07630' '07632' '07631' '08330' '07726' '08081' '08002' '07021' '08319'\n",
            " '08053' '08025' '07704' '07410' '07004' '08320' '07022' '07023' '07931'\n",
            " '07727' '07184' '08905' '07191' '08570' '07188' '07192' '07308' '08821'\n",
            " '07836' '08822' '08518' '07932' '08863' '08731' '08640' '07732' '07024'\n",
            " '07703' '08321' '07417' '08823' '08873' '08322' '07860' '08825' '08345'\n",
            " '07026' '07027' '07309' '08026' '08027' '07933' '07934' '07837' '08826'\n",
            " '07028' '07452' '08029' '07418' '07480' '08218' '07036' '07838' '07424'\n",
            " '08219' '07435' '07935' '07839' '07305' '08323' '08032' '07950' '07093'\n",
            " '07530' '07601' '08035' '08033' '08036' '07419' '08690' '08827' '08038'\n",
            " '07640' '08039' '07604' '07420' '07641' '07730' '08324' '08828' '08083'\n",
            " '07842' '08829' '08904' '07502' '08853' '07642' '07205' '07423' '07733'\n",
            " '07843' '07844' '08525' '07731' '07307' '07047' '08526' '08088' '07105'\n",
            " '07845' '07198' '07111' '08830' '08732' '08527' '08831' '08040' '07709'\n",
            " '08041' '08933' '07846' '07306' '08042' '08832' '08824' '07033' '07847'\n",
            " '08906' '08528' '08734' '07848' '07762' '07034' '07849' '08733' '08759'\n",
            " '08701' '08530' '07850' '08326' '08735' '08045' '08648' '07851' '08833'\n",
            " '07852' '08220' '08327' '08057' '07737' '07605' '07938' '07035' '07738'\n",
            " '07470' '08087' '07643' '07739' '08834' '07039' '07711' '07760' '07644'\n",
            " '07853' '07045' '08048' '07071' '07940' '08049' '07011' '08328' '08736'\n",
            " '08738' '08051' '08835' '08052' '07040' '08836' '08054' '08329' '07607'\n",
            " '07428' '08641' '07096' '08055' '07945' '08837' '08619' '07199' '08878'\n",
            " '08840' '08056' '08846' '07748' '07855' '07432' '07194' '07465' '08848'\n",
            " '07041' '07946' '08850' '08340' '08341' '08342' '07724' '07750' '08852'\n",
            " '07757' '08512' '08343' '08558' '07645' '07074' '08879' '07751' '07657'\n",
            " '07856' '08059' '07970' '08061' '07878' '07046' '07092' '07060' '08062'\n",
            " '07974' '08405' '07031' '08902' '07006' '07215' '08647' '07715' '08645'\n",
            " '08063' '07752' '07857' '07062' '08901' '08903' '08533' '08224' '08064'\n",
            " '07646' '07976' '08370' '08344' '08346' '08347' '08739' '07104' '07208'\n",
            " '08562' '07688' '08225' '07647' '07648' '07110' '08090' '07436' '08226'\n",
            " '08740' '07756' '08758' '08230' '08231' '07439' '08857' '07675' '08858'\n",
            " '07649' '08751' '08723' '07863' '07650' '08542' '08065' '07656' '08859'\n",
            " '07054' '07508' '07538' '07977' '08067' '08068' '08534' '08070' '07440'\n",
            " '08535' '07399' '08098' '08741' '07058' '08071' '08867' '08536' '07978'\n",
            " '08240' '07442' '07457' '07444' '08348' '07865' '07064' '08241' '07979'\n",
            " '08550' '08540' '08544' '08227' '08222' '07777' '08922' '07216' '08868'\n",
            " '08072' '08358' '07065' '08073' '08869' '08870' '07701' '07702' '08350'\n",
            " '08074' '07660' '08242' '07661' '08691' '07662' '07866' '08553' '08554'\n",
            " '08555' '07068' '07203' '07204' '08556' '08352' '07107' '08078' '07070'\n",
            " '08880' '07606' '07080' '08752' '08246' '07663' '07458' '08079' '07870'\n",
            " '07076' '08750' '08243' '08557' '07077' '07719' '08353' '07078' '08244'\n",
            " '08104' '08245' '07079' '08882' '08360' '07871' '08411' '08884' '07081'\n",
            " '07874' '08885' '07477' '08666' '08221' '08886' '07875' '07980' '08559'\n",
            " '08247' '08084' '08248' '07876' '07877' '07670' '07763' '07608' '07195'\n",
            " '07197' '08086' '08887' '08560' '07512' '07082' '07052' '07879' '08250'\n",
            " '07189' '07043' '07106' '07088' '08093' '07462' '07044' '07880' '07764'\n",
            " '07463' '07057' '07881' '07059' '07882' '07112' '07103' '08091' '07666'\n",
            " '08628' '07885' '08889' '08888' '08252' '07765' '08046' '08561' '08095'\n",
            " '07075' '07095' '08003' '07481' '08620' '08890']\n"
          ]
        }
      ]
    },
    {
      "cell_type": "code",
      "source": [
        "#Here is the merge of the two. This provides me with the county names of the \n",
        "njappzip=njappmerge.merge(njzipmerge_new, on='C_Zip',how='outer',indicator=True)\n",
        "njappzip.dtypes"
      ],
      "metadata": {
        "colab": {
          "base_uri": "https://localhost:8080/"
        },
        "id": "ymQeXw4_wIcK",
        "outputId": "13a78895-0d2c-4108-cc6b-aef1764f4ff4"
      },
      "execution_count": 99,
      "outputs": [
        {
          "output_type": "execute_result",
          "data": {
            "text/plain": [
              "ID         float64\n",
              "C_Zip       object\n",
              "County      object\n",
              "_merge    category\n",
              "dtype: object"
            ]
          },
          "metadata": {},
          "execution_count": 99
        }
      ]
    },
    {
      "cell_type": "code",
      "source": [
        "njappzip._merge.value_counts() #aok always do this # I still have a lot of unmathced data, but removing the Xs and adding the leading zeroes increased my mathed data by more than 200 records or more than 26%."
      ],
      "metadata": {
        "id": "wSUDhcYHYExV",
        "outputId": "1e48a958-9d1f-418b-9ac4-a3d3272b72e2",
        "colab": {
          "base_uri": "https://localhost:8080/"
        }
      },
      "execution_count": 100,
      "outputs": [
        {
          "output_type": "execute_result",
          "data": {
            "text/plain": [
              "both          979\n",
              "right_only    794\n",
              "left_only      67\n",
              "Name: _merge, dtype: int64"
            ]
          },
          "metadata": {},
          "execution_count": 100
        }
      ]
    },
    {
      "cell_type": "code",
      "source": [
        "#aok then this #first easier one with fewer\n",
        "njappzip['C_Zip'][njappzip['_merge']=='left_only'].unique() \n",
        "#aok aha! bingo! many zips are mutated! like missing leading 0; common mistake; probably someone changed storage from string to numeric and 0 disappeared\n",
        "#fixed this above, not sure why these zips aren't merging. I do see a 81021 but the rest are NJ Zips. \n",
        "#aok could dig deeper, eg map those that didnt merge eg\n",
        "#https://www.google.com/maps/place/+NJ+08755"
      ],
      "metadata": {
        "id": "xXu5_5gXajQy",
        "outputId": "b6291b48-6aab-4f7b-c7f5-8bd955dc283d",
        "colab": {
          "base_uri": "https://localhost:8080/"
        }
      },
      "execution_count": 101,
      "outputs": [
        {
          "output_type": "execute_result",
          "data": {
            "text/plain": [
              "array(['08755', '08034', '07522', '81021', '07450', '08102', '08031',\n",
              "       '08103', '08817', '07960', '08618', '08234', '07311', '08611',\n",
              "       '08361', '08205', '08861', '08610', '07063', '08844', '08854',\n",
              "       '07090', '07042', '07013', '08629', '07302', '07050'], dtype=object)"
            ]
          },
          "metadata": {},
          "execution_count": 101
        }
      ]
    },
    {
      "cell_type": "code",
      "source": [
        "#aok then this\n",
        "#fixed this above, but there are still a large number not merging. \n",
        "njappzip['C_Zip'][njappzip['_merge']=='right_only'].unique() #weird zome zips have XX"
      ],
      "metadata": {
        "id": "paIUW0YbYuGy",
        "outputId": "6bc24fec-5e04-45a2-dfb6-6c5df5d63f57",
        "colab": {
          "base_uri": "https://localhost:8080/"
        }
      },
      "execution_count": 104,
      "outputs": [
        {
          "output_type": "execute_result",
          "data": {
            "text/plain": [
              "array(['08201', '07102', '07710', '07820', '07401', '08501', '08720',\n",
              "       '08001', '07012', '07620', '07017', '07821', '08260', '08801',\n",
              "       '07032', '08802', '07712', '08402', '08403', '08406', '08233',\n",
              "       '07716', '07822', '08202', '07717', '07421', '08803', '08006',\n",
              "       '07422', '07920', '07939', '08742', '07002', '08721', '07202',\n",
              "       '08008', '08050', '08722', '07416', '07921', '07461', '08223',\n",
              "       '07718', '08677', '08270', '07823', '07621', '07087', '08757',\n",
              "       '07922', '07924', '07201', '08011', '08349', '07825', '08504',\n",
              "       '07403', '08804', '07603', '07005', '08805', '07746', '07720',\n",
              "       '07826', '07827', '07890', '07018', '08014', '08807', '08730',\n",
              "       '08203', '08808', '07926', '07828', '08310', '08210', '07829',\n",
              "       '08212', '07072', '08332', '07758', '08018', '07927', '08092',\n",
              "       '08311', '08318', '07831', '07928', '07193', '08089', '07930',\n",
              "       '07066', '08020', '08510', '08312', '07010', '07721', '07460',\n",
              "       '08809', '07624', '08213', '07067', '07722', '07832', '07961',\n",
              "       '08511', '07983', '07438', '08514', '07626', '07098', '07456',\n",
              "       '07446', '07723', '08023', '08313', '07014', '07833', '08314',\n",
              "       '07627', '08214', '07834', '08215', '08315', '08316', '07806',\n",
              "       '07869', '07801', '07628', '08812', '07073', '08551', '07936',\n",
              "       '07029', '08877', '07020', '07498', '08541', '07740', '07755',\n",
              "       '07206', '07407', '07630', '07632', '07631', '07021', '08319',\n",
              "       '08025', '07704', '07410', '07004', '08320', '07022', '07023',\n",
              "       '07931', '07184', '08905', '07191', '08570', '07188', '07192',\n",
              "       '07308', '08821', '07836', '08518', '08863', '08731', '08640',\n",
              "       '07732', '07024', '07703', '08321', '07417', '08823', '07860',\n",
              "       '08825', '08345', '07026', '07027', '07309', '08026', '08027',\n",
              "       '07933', '07934', '07837', '08826', '07028', '07452', '07418',\n",
              "       '07480', '08218', '07838', '07424', '08219', '07435', '07935',\n",
              "       '07839', '07305', '08323', '08032', '07093', '07530', '07601',\n",
              "       '08036', '07419', '08827', '08038', '07640', '08039', '07604',\n",
              "       '07420', '07641', '07730', '08324', '08828', '07842', '08829',\n",
              "       '07502', '08853', '07642', '07205', '07423', '07733', '07843',\n",
              "       '07844', '08525', '07307', '08526', '07105', '07845', '07198',\n",
              "       '08732', '08040', '07709', '08041', '08933', '07846', '08042',\n",
              "       '08832', '07033', '07847', '08906', '08528', '08734', '07848',\n",
              "       '07762', '07034', '07849', '08733', '08759', '08701', '07850',\n",
              "       '08326', '08735', '08045', '07851', '07852', '08220', '08327',\n",
              "       '07737', '07605', '07938', '07035', '07738', '07470', '07643',\n",
              "       '07739', '08834', '07039', '07711', '07760', '07644', '07853',\n",
              "       '07071', '07940', '08328', '08736', '08738', '08051', '08835',\n",
              "       '08836', '08329', '07607', '07428', '08641', '07096', '07945',\n",
              "       '07199', '08878', '08840', '08056', '08846', '07748', '07855',\n",
              "       '07432', '07194', '07465', '07946', '08340', '08341', '08342',\n",
              "       '07750', '08852', '07757', '07645', '07074', '08879', '07751',\n",
              "       '07657', '07856', '07970', '07878', '07046', '07092', '08405',\n",
              "       '07006', '07215', '08647', '07715', '08645', '08063', '07752',\n",
              "       '07857', '07062', '08903', '08224', '07646', '07976', '08370',\n",
              "       '08344', '08346', '08347', '08739', '07208', '08562', '07688',\n",
              "       '08225', '07647', '07648', '08740', '07756', '08758', '08230',\n",
              "       '08231', '07439', '08858', '07649', '08751', '08723', '07863',\n",
              "       '07650', '08542', '07656', '08859', '07054', '07508', '07538',\n",
              "       '07977', '08067', '08070', '07440', '08535', '07399', '08098',\n",
              "       '08741', '07058', '08867', '07978', '08240', '07457', '07444',\n",
              "       '08348', '07865', '07064', '08241', '07979', '08544', '08227',\n",
              "       '08222', '07777', '08922', '07216', '08868', '08072', '08358',\n",
              "       '07065', '08073', '08870', '07702', '08350', '08074', '08242',\n",
              "       '07661', '07662', '07866', '08553', '08554', '08555', '07068',\n",
              "       '07204', '08556', '08352', '07107', '07070', '08880', '07606',\n",
              "       '07080', '08752', '08246', '07663', '07458', '07870', '08750',\n",
              "       '08243', '08557', '07077', '08353', '07078', '08244', '08245',\n",
              "       '08882', '08411', '08884', '07081', '07874', '08885', '07477',\n",
              "       '08666', '08886', '07875', '07980', '08559', '08247', '08084',\n",
              "       '08248', '07876', '07877', '07670', '07763', '07608', '07195',\n",
              "       '07197', '08086', '08887', '08560', '07512', '07082', '07879',\n",
              "       '08250', '07189', '07043', '07088', '07462', '07880', '07764',\n",
              "       '07463', '07057', '07881', '07059', '07882', '07112', '08628',\n",
              "       '07885', '08889', '08888', '08252', '07765', '08561', '08095',\n",
              "       '07075', '07095', '08620', '08890'], dtype=object)"
            ]
          },
          "metadata": {},
          "execution_count": 104
        }
      ]
    },
    {
      "cell_type": "code",
      "source": [
        "njappzip.head(10)\n",
        "njappzip.tail(10)"
      ],
      "metadata": {
        "colab": {
          "base_uri": "https://localhost:8080/",
          "height": 709
        },
        "id": "kawpaEYozFu1",
        "outputId": "e46d8298-2167-415b-837a-06dfd8b9ec9b"
      },
      "execution_count": 105,
      "outputs": [
        {
          "output_type": "execute_result",
          "data": {
            "text/plain": [
              "      ID   C_Zip     County     _merge\n",
              "0     3.0  07009      Essex       both\n",
              "1     3.0  07009      Essex       both\n",
              "2     4.0  07726   Monmouth       both\n",
              "3     4.0  07726   Monmouth       both\n",
              "4     4.0  07726   Monmouth       both\n",
              "5     6.0  08755        NaN  left_only\n",
              "6   911.0  08755        NaN  left_only\n",
              "7  1301.0  08755        NaN  left_only\n",
              "8     7.0  08850  Middlesex       both\n",
              "9    14.0  07052      Essex       both"
            ],
            "text/html": [
              "\n",
              "  <div id=\"df-62bb886f-b272-42e9-bf46-502ac6ba37a7\">\n",
              "    <div class=\"colab-df-container\">\n",
              "      <div>\n",
              "<style scoped>\n",
              "    .dataframe tbody tr th:only-of-type {\n",
              "        vertical-align: middle;\n",
              "    }\n",
              "\n",
              "    .dataframe tbody tr th {\n",
              "        vertical-align: top;\n",
              "    }\n",
              "\n",
              "    .dataframe thead th {\n",
              "        text-align: right;\n",
              "    }\n",
              "</style>\n",
              "<table border=\"1\" class=\"dataframe\">\n",
              "  <thead>\n",
              "    <tr style=\"text-align: right;\">\n",
              "      <th></th>\n",
              "      <th>ID</th>\n",
              "      <th>C_Zip</th>\n",
              "      <th>County</th>\n",
              "      <th>_merge</th>\n",
              "    </tr>\n",
              "  </thead>\n",
              "  <tbody>\n",
              "    <tr>\n",
              "      <th>0</th>\n",
              "      <td>3.0</td>\n",
              "      <td>07009</td>\n",
              "      <td>Essex</td>\n",
              "      <td>both</td>\n",
              "    </tr>\n",
              "    <tr>\n",
              "      <th>1</th>\n",
              "      <td>3.0</td>\n",
              "      <td>07009</td>\n",
              "      <td>Essex</td>\n",
              "      <td>both</td>\n",
              "    </tr>\n",
              "    <tr>\n",
              "      <th>2</th>\n",
              "      <td>4.0</td>\n",
              "      <td>07726</td>\n",
              "      <td>Monmouth</td>\n",
              "      <td>both</td>\n",
              "    </tr>\n",
              "    <tr>\n",
              "      <th>3</th>\n",
              "      <td>4.0</td>\n",
              "      <td>07726</td>\n",
              "      <td>Monmouth</td>\n",
              "      <td>both</td>\n",
              "    </tr>\n",
              "    <tr>\n",
              "      <th>4</th>\n",
              "      <td>4.0</td>\n",
              "      <td>07726</td>\n",
              "      <td>Monmouth</td>\n",
              "      <td>both</td>\n",
              "    </tr>\n",
              "    <tr>\n",
              "      <th>5</th>\n",
              "      <td>6.0</td>\n",
              "      <td>08755</td>\n",
              "      <td>NaN</td>\n",
              "      <td>left_only</td>\n",
              "    </tr>\n",
              "    <tr>\n",
              "      <th>6</th>\n",
              "      <td>911.0</td>\n",
              "      <td>08755</td>\n",
              "      <td>NaN</td>\n",
              "      <td>left_only</td>\n",
              "    </tr>\n",
              "    <tr>\n",
              "      <th>7</th>\n",
              "      <td>1301.0</td>\n",
              "      <td>08755</td>\n",
              "      <td>NaN</td>\n",
              "      <td>left_only</td>\n",
              "    </tr>\n",
              "    <tr>\n",
              "      <th>8</th>\n",
              "      <td>7.0</td>\n",
              "      <td>08850</td>\n",
              "      <td>Middlesex</td>\n",
              "      <td>both</td>\n",
              "    </tr>\n",
              "    <tr>\n",
              "      <th>9</th>\n",
              "      <td>14.0</td>\n",
              "      <td>07052</td>\n",
              "      <td>Essex</td>\n",
              "      <td>both</td>\n",
              "    </tr>\n",
              "  </tbody>\n",
              "</table>\n",
              "</div>\n",
              "      <button class=\"colab-df-convert\" onclick=\"convertToInteractive('df-62bb886f-b272-42e9-bf46-502ac6ba37a7')\"\n",
              "              title=\"Convert this dataframe to an interactive table.\"\n",
              "              style=\"display:none;\">\n",
              "        \n",
              "  <svg xmlns=\"http://www.w3.org/2000/svg\" height=\"24px\"viewBox=\"0 0 24 24\"\n",
              "       width=\"24px\">\n",
              "    <path d=\"M0 0h24v24H0V0z\" fill=\"none\"/>\n",
              "    <path d=\"M18.56 5.44l.94 2.06.94-2.06 2.06-.94-2.06-.94-.94-2.06-.94 2.06-2.06.94zm-11 1L8.5 8.5l.94-2.06 2.06-.94-2.06-.94L8.5 2.5l-.94 2.06-2.06.94zm10 10l.94 2.06.94-2.06 2.06-.94-2.06-.94-.94-2.06-.94 2.06-2.06.94z\"/><path d=\"M17.41 7.96l-1.37-1.37c-.4-.4-.92-.59-1.43-.59-.52 0-1.04.2-1.43.59L10.3 9.45l-7.72 7.72c-.78.78-.78 2.05 0 2.83L4 21.41c.39.39.9.59 1.41.59.51 0 1.02-.2 1.41-.59l7.78-7.78 2.81-2.81c.8-.78.8-2.07 0-2.86zM5.41 20L4 18.59l7.72-7.72 1.47 1.35L5.41 20z\"/>\n",
              "  </svg>\n",
              "      </button>\n",
              "      \n",
              "  <style>\n",
              "    .colab-df-container {\n",
              "      display:flex;\n",
              "      flex-wrap:wrap;\n",
              "      gap: 12px;\n",
              "    }\n",
              "\n",
              "    .colab-df-convert {\n",
              "      background-color: #E8F0FE;\n",
              "      border: none;\n",
              "      border-radius: 50%;\n",
              "      cursor: pointer;\n",
              "      display: none;\n",
              "      fill: #1967D2;\n",
              "      height: 32px;\n",
              "      padding: 0 0 0 0;\n",
              "      width: 32px;\n",
              "    }\n",
              "\n",
              "    .colab-df-convert:hover {\n",
              "      background-color: #E2EBFA;\n",
              "      box-shadow: 0px 1px 2px rgba(60, 64, 67, 0.3), 0px 1px 3px 1px rgba(60, 64, 67, 0.15);\n",
              "      fill: #174EA6;\n",
              "    }\n",
              "\n",
              "    [theme=dark] .colab-df-convert {\n",
              "      background-color: #3B4455;\n",
              "      fill: #D2E3FC;\n",
              "    }\n",
              "\n",
              "    [theme=dark] .colab-df-convert:hover {\n",
              "      background-color: #434B5C;\n",
              "      box-shadow: 0px 1px 3px 1px rgba(0, 0, 0, 0.15);\n",
              "      filter: drop-shadow(0px 1px 2px rgba(0, 0, 0, 0.3));\n",
              "      fill: #FFFFFF;\n",
              "    }\n",
              "  </style>\n",
              "\n",
              "      <script>\n",
              "        const buttonEl =\n",
              "          document.querySelector('#df-62bb886f-b272-42e9-bf46-502ac6ba37a7 button.colab-df-convert');\n",
              "        buttonEl.style.display =\n",
              "          google.colab.kernel.accessAllowed ? 'block' : 'none';\n",
              "\n",
              "        async function convertToInteractive(key) {\n",
              "          const element = document.querySelector('#df-62bb886f-b272-42e9-bf46-502ac6ba37a7');\n",
              "          const dataTable =\n",
              "            await google.colab.kernel.invokeFunction('convertToInteractive',\n",
              "                                                     [key], {});\n",
              "          if (!dataTable) return;\n",
              "\n",
              "          const docLinkHtml = 'Like what you see? Visit the ' +\n",
              "            '<a target=\"_blank\" href=https://colab.research.google.com/notebooks/data_table.ipynb>data table notebook</a>'\n",
              "            + ' to learn more about interactive tables.';\n",
              "          element.innerHTML = '';\n",
              "          dataTable['output_type'] = 'display_data';\n",
              "          await google.colab.output.renderOutput(dataTable, element);\n",
              "          const docLink = document.createElement('div');\n",
              "          docLink.innerHTML = docLinkHtml;\n",
              "          element.appendChild(docLink);\n",
              "        }\n",
              "      </script>\n",
              "    </div>\n",
              "  </div>\n",
              "  "
            ]
          },
          "metadata": {},
          "execution_count": 105
        },
        {
          "output_type": "execute_result",
          "data": {
            "text/plain": [
              "      ID   C_Zip     County      _merge\n",
              "1830  NaN  08252   Cape May  right_only\n",
              "1831  NaN  07765   Monmouth  right_only\n",
              "1832  NaN  08561     Mercer  right_only\n",
              "1833  NaN  08095     Camden  right_only\n",
              "1834  NaN  08095     Camden  right_only\n",
              "1835  NaN  07075     Bergen  right_only\n",
              "1836  NaN  07075     Bergen  right_only\n",
              "1837  NaN  07095  Middlesex  right_only\n",
              "1838  NaN  08620     Mercer  right_only\n",
              "1839  NaN  08890   Somerset  right_only"
            ],
            "text/html": [
              "\n",
              "  <div id=\"df-5b9bc0b2-bc38-401d-84ee-1eed57969b95\">\n",
              "    <div class=\"colab-df-container\">\n",
              "      <div>\n",
              "<style scoped>\n",
              "    .dataframe tbody tr th:only-of-type {\n",
              "        vertical-align: middle;\n",
              "    }\n",
              "\n",
              "    .dataframe tbody tr th {\n",
              "        vertical-align: top;\n",
              "    }\n",
              "\n",
              "    .dataframe thead th {\n",
              "        text-align: right;\n",
              "    }\n",
              "</style>\n",
              "<table border=\"1\" class=\"dataframe\">\n",
              "  <thead>\n",
              "    <tr style=\"text-align: right;\">\n",
              "      <th></th>\n",
              "      <th>ID</th>\n",
              "      <th>C_Zip</th>\n",
              "      <th>County</th>\n",
              "      <th>_merge</th>\n",
              "    </tr>\n",
              "  </thead>\n",
              "  <tbody>\n",
              "    <tr>\n",
              "      <th>1830</th>\n",
              "      <td>NaN</td>\n",
              "      <td>08252</td>\n",
              "      <td>Cape May</td>\n",
              "      <td>right_only</td>\n",
              "    </tr>\n",
              "    <tr>\n",
              "      <th>1831</th>\n",
              "      <td>NaN</td>\n",
              "      <td>07765</td>\n",
              "      <td>Monmouth</td>\n",
              "      <td>right_only</td>\n",
              "    </tr>\n",
              "    <tr>\n",
              "      <th>1832</th>\n",
              "      <td>NaN</td>\n",
              "      <td>08561</td>\n",
              "      <td>Mercer</td>\n",
              "      <td>right_only</td>\n",
              "    </tr>\n",
              "    <tr>\n",
              "      <th>1833</th>\n",
              "      <td>NaN</td>\n",
              "      <td>08095</td>\n",
              "      <td>Camden</td>\n",
              "      <td>right_only</td>\n",
              "    </tr>\n",
              "    <tr>\n",
              "      <th>1834</th>\n",
              "      <td>NaN</td>\n",
              "      <td>08095</td>\n",
              "      <td>Camden</td>\n",
              "      <td>right_only</td>\n",
              "    </tr>\n",
              "    <tr>\n",
              "      <th>1835</th>\n",
              "      <td>NaN</td>\n",
              "      <td>07075</td>\n",
              "      <td>Bergen</td>\n",
              "      <td>right_only</td>\n",
              "    </tr>\n",
              "    <tr>\n",
              "      <th>1836</th>\n",
              "      <td>NaN</td>\n",
              "      <td>07075</td>\n",
              "      <td>Bergen</td>\n",
              "      <td>right_only</td>\n",
              "    </tr>\n",
              "    <tr>\n",
              "      <th>1837</th>\n",
              "      <td>NaN</td>\n",
              "      <td>07095</td>\n",
              "      <td>Middlesex</td>\n",
              "      <td>right_only</td>\n",
              "    </tr>\n",
              "    <tr>\n",
              "      <th>1838</th>\n",
              "      <td>NaN</td>\n",
              "      <td>08620</td>\n",
              "      <td>Mercer</td>\n",
              "      <td>right_only</td>\n",
              "    </tr>\n",
              "    <tr>\n",
              "      <th>1839</th>\n",
              "      <td>NaN</td>\n",
              "      <td>08890</td>\n",
              "      <td>Somerset</td>\n",
              "      <td>right_only</td>\n",
              "    </tr>\n",
              "  </tbody>\n",
              "</table>\n",
              "</div>\n",
              "      <button class=\"colab-df-convert\" onclick=\"convertToInteractive('df-5b9bc0b2-bc38-401d-84ee-1eed57969b95')\"\n",
              "              title=\"Convert this dataframe to an interactive table.\"\n",
              "              style=\"display:none;\">\n",
              "        \n",
              "  <svg xmlns=\"http://www.w3.org/2000/svg\" height=\"24px\"viewBox=\"0 0 24 24\"\n",
              "       width=\"24px\">\n",
              "    <path d=\"M0 0h24v24H0V0z\" fill=\"none\"/>\n",
              "    <path d=\"M18.56 5.44l.94 2.06.94-2.06 2.06-.94-2.06-.94-.94-2.06-.94 2.06-2.06.94zm-11 1L8.5 8.5l.94-2.06 2.06-.94-2.06-.94L8.5 2.5l-.94 2.06-2.06.94zm10 10l.94 2.06.94-2.06 2.06-.94-2.06-.94-.94-2.06-.94 2.06-2.06.94z\"/><path d=\"M17.41 7.96l-1.37-1.37c-.4-.4-.92-.59-1.43-.59-.52 0-1.04.2-1.43.59L10.3 9.45l-7.72 7.72c-.78.78-.78 2.05 0 2.83L4 21.41c.39.39.9.59 1.41.59.51 0 1.02-.2 1.41-.59l7.78-7.78 2.81-2.81c.8-.78.8-2.07 0-2.86zM5.41 20L4 18.59l7.72-7.72 1.47 1.35L5.41 20z\"/>\n",
              "  </svg>\n",
              "      </button>\n",
              "      \n",
              "  <style>\n",
              "    .colab-df-container {\n",
              "      display:flex;\n",
              "      flex-wrap:wrap;\n",
              "      gap: 12px;\n",
              "    }\n",
              "\n",
              "    .colab-df-convert {\n",
              "      background-color: #E8F0FE;\n",
              "      border: none;\n",
              "      border-radius: 50%;\n",
              "      cursor: pointer;\n",
              "      display: none;\n",
              "      fill: #1967D2;\n",
              "      height: 32px;\n",
              "      padding: 0 0 0 0;\n",
              "      width: 32px;\n",
              "    }\n",
              "\n",
              "    .colab-df-convert:hover {\n",
              "      background-color: #E2EBFA;\n",
              "      box-shadow: 0px 1px 2px rgba(60, 64, 67, 0.3), 0px 1px 3px 1px rgba(60, 64, 67, 0.15);\n",
              "      fill: #174EA6;\n",
              "    }\n",
              "\n",
              "    [theme=dark] .colab-df-convert {\n",
              "      background-color: #3B4455;\n",
              "      fill: #D2E3FC;\n",
              "    }\n",
              "\n",
              "    [theme=dark] .colab-df-convert:hover {\n",
              "      background-color: #434B5C;\n",
              "      box-shadow: 0px 1px 3px 1px rgba(0, 0, 0, 0.15);\n",
              "      filter: drop-shadow(0px 1px 2px rgba(0, 0, 0, 0.3));\n",
              "      fill: #FFFFFF;\n",
              "    }\n",
              "  </style>\n",
              "\n",
              "      <script>\n",
              "        const buttonEl =\n",
              "          document.querySelector('#df-5b9bc0b2-bc38-401d-84ee-1eed57969b95 button.colab-df-convert');\n",
              "        buttonEl.style.display =\n",
              "          google.colab.kernel.accessAllowed ? 'block' : 'none';\n",
              "\n",
              "        async function convertToInteractive(key) {\n",
              "          const element = document.querySelector('#df-5b9bc0b2-bc38-401d-84ee-1eed57969b95');\n",
              "          const dataTable =\n",
              "            await google.colab.kernel.invokeFunction('convertToInteractive',\n",
              "                                                     [key], {});\n",
              "          if (!dataTable) return;\n",
              "\n",
              "          const docLinkHtml = 'Like what you see? Visit the ' +\n",
              "            '<a target=\"_blank\" href=https://colab.research.google.com/notebooks/data_table.ipynb>data table notebook</a>'\n",
              "            + ' to learn more about interactive tables.';\n",
              "          element.innerHTML = '';\n",
              "          dataTable['output_type'] = 'display_data';\n",
              "          await google.colab.output.renderOutput(dataTable, element);\n",
              "          const docLink = document.createElement('div');\n",
              "          docLink.innerHTML = docLinkHtml;\n",
              "          element.appendChild(docLink);\n",
              "        }\n",
              "      </script>\n",
              "    </div>\n",
              "  </div>\n",
              "  "
            ]
          },
          "metadata": {},
          "execution_count": 105
        }
      ]
    },
    {
      "cell_type": "code",
      "source": [
        "njappzip.head(50)"
      ],
      "metadata": {
        "id": "WQ-e7gy-XC8_",
        "outputId": "584d65f5-a6ef-4e29-c3ea-cf818e7eaf37",
        "colab": {
          "base_uri": "https://localhost:8080/",
          "height": 1000
        }
      },
      "execution_count": null,
      "outputs": [
        {
          "output_type": "execute_result",
          "data": {
            "text/plain": [
              "       ID   C_Zip     County     _merge\n",
              "0      3.0  07009      Essex       both\n",
              "1      3.0  07009      Essex       both\n",
              "2      4.0  07726   Monmouth       both\n",
              "3      4.0  07726   Monmouth       both\n",
              "4      4.0  07726   Monmouth       both\n",
              "5      6.0  08755        NaN  left_only\n",
              "6    911.0  08755        NaN  left_only\n",
              "7   1301.0  08755        NaN  left_only\n",
              "8      7.0  08850  Middlesex       both\n",
              "9     14.0  07052      Essex       both\n",
              "10    14.0  07052      Essex       both\n",
              "11   153.0  07052      Essex       both\n",
              "12   153.0  07052      Essex       both\n",
              "13   898.0  07052      Essex       both\n",
              "14   898.0  07052      Essex       both\n",
              "15    15.0  07871     Sussex       both\n",
              "16    24.0  08034        NaN  left_only\n",
              "17    99.0  08034        NaN  left_only\n",
              "18   117.0  08034        NaN  left_only\n",
              "19   196.0  08034        NaN  left_only\n",
              "20  1312.0  08034        NaN  left_only\n",
              "21  1356.0  08034        NaN  left_only\n",
              "22  1481.0  08034        NaN  left_only\n",
              "23  1489.0  08034        NaN  left_only\n",
              "24    43.0  08107     Camden       both\n",
              "25    43.0  08107     Camden       both\n",
              "26    43.0  08107     Camden       both\n",
              "27    43.0  08107     Camden       both\n",
              "28    43.0  08107     Camden       both\n",
              "29   762.0  08107     Camden       both\n",
              "30   762.0  08107     Camden       both\n",
              "31   762.0  08107     Camden       both\n",
              "32   762.0  08107     Camden       both\n",
              "33   762.0  08107     Camden       both\n",
              "34  1204.0  08107     Camden       both\n",
              "35  1204.0  08107     Camden       both\n",
              "36  1204.0  08107     Camden       both\n",
              "37  1204.0  08107     Camden       both\n",
              "38  1204.0  08107     Camden       both\n",
              "39  1419.0  08107     Camden       both\n",
              "40  1419.0  08107     Camden       both\n",
              "41  1419.0  08107     Camden       both\n",
              "42  1419.0  08107     Camden       both\n",
              "43  1419.0  08107     Camden       both\n",
              "44  1462.0  08107     Camden       both\n",
              "45  1462.0  08107     Camden       both\n",
              "46  1462.0  08107     Camden       both\n",
              "47  1462.0  08107     Camden       both\n",
              "48  1462.0  08107     Camden       both\n",
              "49  1508.0  08107     Camden       both"
            ],
            "text/html": [
              "\n",
              "  <div id=\"df-038028c9-13ea-4dc1-9a03-540b81e64e9a\">\n",
              "    <div class=\"colab-df-container\">\n",
              "      <div>\n",
              "<style scoped>\n",
              "    .dataframe tbody tr th:only-of-type {\n",
              "        vertical-align: middle;\n",
              "    }\n",
              "\n",
              "    .dataframe tbody tr th {\n",
              "        vertical-align: top;\n",
              "    }\n",
              "\n",
              "    .dataframe thead th {\n",
              "        text-align: right;\n",
              "    }\n",
              "</style>\n",
              "<table border=\"1\" class=\"dataframe\">\n",
              "  <thead>\n",
              "    <tr style=\"text-align: right;\">\n",
              "      <th></th>\n",
              "      <th>ID</th>\n",
              "      <th>C_Zip</th>\n",
              "      <th>County</th>\n",
              "      <th>_merge</th>\n",
              "    </tr>\n",
              "  </thead>\n",
              "  <tbody>\n",
              "    <tr>\n",
              "      <th>0</th>\n",
              "      <td>3.0</td>\n",
              "      <td>07009</td>\n",
              "      <td>Essex</td>\n",
              "      <td>both</td>\n",
              "    </tr>\n",
              "    <tr>\n",
              "      <th>1</th>\n",
              "      <td>3.0</td>\n",
              "      <td>07009</td>\n",
              "      <td>Essex</td>\n",
              "      <td>both</td>\n",
              "    </tr>\n",
              "    <tr>\n",
              "      <th>2</th>\n",
              "      <td>4.0</td>\n",
              "      <td>07726</td>\n",
              "      <td>Monmouth</td>\n",
              "      <td>both</td>\n",
              "    </tr>\n",
              "    <tr>\n",
              "      <th>3</th>\n",
              "      <td>4.0</td>\n",
              "      <td>07726</td>\n",
              "      <td>Monmouth</td>\n",
              "      <td>both</td>\n",
              "    </tr>\n",
              "    <tr>\n",
              "      <th>4</th>\n",
              "      <td>4.0</td>\n",
              "      <td>07726</td>\n",
              "      <td>Monmouth</td>\n",
              "      <td>both</td>\n",
              "    </tr>\n",
              "    <tr>\n",
              "      <th>5</th>\n",
              "      <td>6.0</td>\n",
              "      <td>08755</td>\n",
              "      <td>NaN</td>\n",
              "      <td>left_only</td>\n",
              "    </tr>\n",
              "    <tr>\n",
              "      <th>6</th>\n",
              "      <td>911.0</td>\n",
              "      <td>08755</td>\n",
              "      <td>NaN</td>\n",
              "      <td>left_only</td>\n",
              "    </tr>\n",
              "    <tr>\n",
              "      <th>7</th>\n",
              "      <td>1301.0</td>\n",
              "      <td>08755</td>\n",
              "      <td>NaN</td>\n",
              "      <td>left_only</td>\n",
              "    </tr>\n",
              "    <tr>\n",
              "      <th>8</th>\n",
              "      <td>7.0</td>\n",
              "      <td>08850</td>\n",
              "      <td>Middlesex</td>\n",
              "      <td>both</td>\n",
              "    </tr>\n",
              "    <tr>\n",
              "      <th>9</th>\n",
              "      <td>14.0</td>\n",
              "      <td>07052</td>\n",
              "      <td>Essex</td>\n",
              "      <td>both</td>\n",
              "    </tr>\n",
              "    <tr>\n",
              "      <th>10</th>\n",
              "      <td>14.0</td>\n",
              "      <td>07052</td>\n",
              "      <td>Essex</td>\n",
              "      <td>both</td>\n",
              "    </tr>\n",
              "    <tr>\n",
              "      <th>11</th>\n",
              "      <td>153.0</td>\n",
              "      <td>07052</td>\n",
              "      <td>Essex</td>\n",
              "      <td>both</td>\n",
              "    </tr>\n",
              "    <tr>\n",
              "      <th>12</th>\n",
              "      <td>153.0</td>\n",
              "      <td>07052</td>\n",
              "      <td>Essex</td>\n",
              "      <td>both</td>\n",
              "    </tr>\n",
              "    <tr>\n",
              "      <th>13</th>\n",
              "      <td>898.0</td>\n",
              "      <td>07052</td>\n",
              "      <td>Essex</td>\n",
              "      <td>both</td>\n",
              "    </tr>\n",
              "    <tr>\n",
              "      <th>14</th>\n",
              "      <td>898.0</td>\n",
              "      <td>07052</td>\n",
              "      <td>Essex</td>\n",
              "      <td>both</td>\n",
              "    </tr>\n",
              "    <tr>\n",
              "      <th>15</th>\n",
              "      <td>15.0</td>\n",
              "      <td>07871</td>\n",
              "      <td>Sussex</td>\n",
              "      <td>both</td>\n",
              "    </tr>\n",
              "    <tr>\n",
              "      <th>16</th>\n",
              "      <td>24.0</td>\n",
              "      <td>08034</td>\n",
              "      <td>NaN</td>\n",
              "      <td>left_only</td>\n",
              "    </tr>\n",
              "    <tr>\n",
              "      <th>17</th>\n",
              "      <td>99.0</td>\n",
              "      <td>08034</td>\n",
              "      <td>NaN</td>\n",
              "      <td>left_only</td>\n",
              "    </tr>\n",
              "    <tr>\n",
              "      <th>18</th>\n",
              "      <td>117.0</td>\n",
              "      <td>08034</td>\n",
              "      <td>NaN</td>\n",
              "      <td>left_only</td>\n",
              "    </tr>\n",
              "    <tr>\n",
              "      <th>19</th>\n",
              "      <td>196.0</td>\n",
              "      <td>08034</td>\n",
              "      <td>NaN</td>\n",
              "      <td>left_only</td>\n",
              "    </tr>\n",
              "    <tr>\n",
              "      <th>20</th>\n",
              "      <td>1312.0</td>\n",
              "      <td>08034</td>\n",
              "      <td>NaN</td>\n",
              "      <td>left_only</td>\n",
              "    </tr>\n",
              "    <tr>\n",
              "      <th>21</th>\n",
              "      <td>1356.0</td>\n",
              "      <td>08034</td>\n",
              "      <td>NaN</td>\n",
              "      <td>left_only</td>\n",
              "    </tr>\n",
              "    <tr>\n",
              "      <th>22</th>\n",
              "      <td>1481.0</td>\n",
              "      <td>08034</td>\n",
              "      <td>NaN</td>\n",
              "      <td>left_only</td>\n",
              "    </tr>\n",
              "    <tr>\n",
              "      <th>23</th>\n",
              "      <td>1489.0</td>\n",
              "      <td>08034</td>\n",
              "      <td>NaN</td>\n",
              "      <td>left_only</td>\n",
              "    </tr>\n",
              "    <tr>\n",
              "      <th>24</th>\n",
              "      <td>43.0</td>\n",
              "      <td>08107</td>\n",
              "      <td>Camden</td>\n",
              "      <td>both</td>\n",
              "    </tr>\n",
              "    <tr>\n",
              "      <th>25</th>\n",
              "      <td>43.0</td>\n",
              "      <td>08107</td>\n",
              "      <td>Camden</td>\n",
              "      <td>both</td>\n",
              "    </tr>\n",
              "    <tr>\n",
              "      <th>26</th>\n",
              "      <td>43.0</td>\n",
              "      <td>08107</td>\n",
              "      <td>Camden</td>\n",
              "      <td>both</td>\n",
              "    </tr>\n",
              "    <tr>\n",
              "      <th>27</th>\n",
              "      <td>43.0</td>\n",
              "      <td>08107</td>\n",
              "      <td>Camden</td>\n",
              "      <td>both</td>\n",
              "    </tr>\n",
              "    <tr>\n",
              "      <th>28</th>\n",
              "      <td>43.0</td>\n",
              "      <td>08107</td>\n",
              "      <td>Camden</td>\n",
              "      <td>both</td>\n",
              "    </tr>\n",
              "    <tr>\n",
              "      <th>29</th>\n",
              "      <td>762.0</td>\n",
              "      <td>08107</td>\n",
              "      <td>Camden</td>\n",
              "      <td>both</td>\n",
              "    </tr>\n",
              "    <tr>\n",
              "      <th>30</th>\n",
              "      <td>762.0</td>\n",
              "      <td>08107</td>\n",
              "      <td>Camden</td>\n",
              "      <td>both</td>\n",
              "    </tr>\n",
              "    <tr>\n",
              "      <th>31</th>\n",
              "      <td>762.0</td>\n",
              "      <td>08107</td>\n",
              "      <td>Camden</td>\n",
              "      <td>both</td>\n",
              "    </tr>\n",
              "    <tr>\n",
              "      <th>32</th>\n",
              "      <td>762.0</td>\n",
              "      <td>08107</td>\n",
              "      <td>Camden</td>\n",
              "      <td>both</td>\n",
              "    </tr>\n",
              "    <tr>\n",
              "      <th>33</th>\n",
              "      <td>762.0</td>\n",
              "      <td>08107</td>\n",
              "      <td>Camden</td>\n",
              "      <td>both</td>\n",
              "    </tr>\n",
              "    <tr>\n",
              "      <th>34</th>\n",
              "      <td>1204.0</td>\n",
              "      <td>08107</td>\n",
              "      <td>Camden</td>\n",
              "      <td>both</td>\n",
              "    </tr>\n",
              "    <tr>\n",
              "      <th>35</th>\n",
              "      <td>1204.0</td>\n",
              "      <td>08107</td>\n",
              "      <td>Camden</td>\n",
              "      <td>both</td>\n",
              "    </tr>\n",
              "    <tr>\n",
              "      <th>36</th>\n",
              "      <td>1204.0</td>\n",
              "      <td>08107</td>\n",
              "      <td>Camden</td>\n",
              "      <td>both</td>\n",
              "    </tr>\n",
              "    <tr>\n",
              "      <th>37</th>\n",
              "      <td>1204.0</td>\n",
              "      <td>08107</td>\n",
              "      <td>Camden</td>\n",
              "      <td>both</td>\n",
              "    </tr>\n",
              "    <tr>\n",
              "      <th>38</th>\n",
              "      <td>1204.0</td>\n",
              "      <td>08107</td>\n",
              "      <td>Camden</td>\n",
              "      <td>both</td>\n",
              "    </tr>\n",
              "    <tr>\n",
              "      <th>39</th>\n",
              "      <td>1419.0</td>\n",
              "      <td>08107</td>\n",
              "      <td>Camden</td>\n",
              "      <td>both</td>\n",
              "    </tr>\n",
              "    <tr>\n",
              "      <th>40</th>\n",
              "      <td>1419.0</td>\n",
              "      <td>08107</td>\n",
              "      <td>Camden</td>\n",
              "      <td>both</td>\n",
              "    </tr>\n",
              "    <tr>\n",
              "      <th>41</th>\n",
              "      <td>1419.0</td>\n",
              "      <td>08107</td>\n",
              "      <td>Camden</td>\n",
              "      <td>both</td>\n",
              "    </tr>\n",
              "    <tr>\n",
              "      <th>42</th>\n",
              "      <td>1419.0</td>\n",
              "      <td>08107</td>\n",
              "      <td>Camden</td>\n",
              "      <td>both</td>\n",
              "    </tr>\n",
              "    <tr>\n",
              "      <th>43</th>\n",
              "      <td>1419.0</td>\n",
              "      <td>08107</td>\n",
              "      <td>Camden</td>\n",
              "      <td>both</td>\n",
              "    </tr>\n",
              "    <tr>\n",
              "      <th>44</th>\n",
              "      <td>1462.0</td>\n",
              "      <td>08107</td>\n",
              "      <td>Camden</td>\n",
              "      <td>both</td>\n",
              "    </tr>\n",
              "    <tr>\n",
              "      <th>45</th>\n",
              "      <td>1462.0</td>\n",
              "      <td>08107</td>\n",
              "      <td>Camden</td>\n",
              "      <td>both</td>\n",
              "    </tr>\n",
              "    <tr>\n",
              "      <th>46</th>\n",
              "      <td>1462.0</td>\n",
              "      <td>08107</td>\n",
              "      <td>Camden</td>\n",
              "      <td>both</td>\n",
              "    </tr>\n",
              "    <tr>\n",
              "      <th>47</th>\n",
              "      <td>1462.0</td>\n",
              "      <td>08107</td>\n",
              "      <td>Camden</td>\n",
              "      <td>both</td>\n",
              "    </tr>\n",
              "    <tr>\n",
              "      <th>48</th>\n",
              "      <td>1462.0</td>\n",
              "      <td>08107</td>\n",
              "      <td>Camden</td>\n",
              "      <td>both</td>\n",
              "    </tr>\n",
              "    <tr>\n",
              "      <th>49</th>\n",
              "      <td>1508.0</td>\n",
              "      <td>08107</td>\n",
              "      <td>Camden</td>\n",
              "      <td>both</td>\n",
              "    </tr>\n",
              "  </tbody>\n",
              "</table>\n",
              "</div>\n",
              "      <button class=\"colab-df-convert\" onclick=\"convertToInteractive('df-038028c9-13ea-4dc1-9a03-540b81e64e9a')\"\n",
              "              title=\"Convert this dataframe to an interactive table.\"\n",
              "              style=\"display:none;\">\n",
              "        \n",
              "  <svg xmlns=\"http://www.w3.org/2000/svg\" height=\"24px\"viewBox=\"0 0 24 24\"\n",
              "       width=\"24px\">\n",
              "    <path d=\"M0 0h24v24H0V0z\" fill=\"none\"/>\n",
              "    <path d=\"M18.56 5.44l.94 2.06.94-2.06 2.06-.94-2.06-.94-.94-2.06-.94 2.06-2.06.94zm-11 1L8.5 8.5l.94-2.06 2.06-.94-2.06-.94L8.5 2.5l-.94 2.06-2.06.94zm10 10l.94 2.06.94-2.06 2.06-.94-2.06-.94-.94-2.06-.94 2.06-2.06.94z\"/><path d=\"M17.41 7.96l-1.37-1.37c-.4-.4-.92-.59-1.43-.59-.52 0-1.04.2-1.43.59L10.3 9.45l-7.72 7.72c-.78.78-.78 2.05 0 2.83L4 21.41c.39.39.9.59 1.41.59.51 0 1.02-.2 1.41-.59l7.78-7.78 2.81-2.81c.8-.78.8-2.07 0-2.86zM5.41 20L4 18.59l7.72-7.72 1.47 1.35L5.41 20z\"/>\n",
              "  </svg>\n",
              "      </button>\n",
              "      \n",
              "  <style>\n",
              "    .colab-df-container {\n",
              "      display:flex;\n",
              "      flex-wrap:wrap;\n",
              "      gap: 12px;\n",
              "    }\n",
              "\n",
              "    .colab-df-convert {\n",
              "      background-color: #E8F0FE;\n",
              "      border: none;\n",
              "      border-radius: 50%;\n",
              "      cursor: pointer;\n",
              "      display: none;\n",
              "      fill: #1967D2;\n",
              "      height: 32px;\n",
              "      padding: 0 0 0 0;\n",
              "      width: 32px;\n",
              "    }\n",
              "\n",
              "    .colab-df-convert:hover {\n",
              "      background-color: #E2EBFA;\n",
              "      box-shadow: 0px 1px 2px rgba(60, 64, 67, 0.3), 0px 1px 3px 1px rgba(60, 64, 67, 0.15);\n",
              "      fill: #174EA6;\n",
              "    }\n",
              "\n",
              "    [theme=dark] .colab-df-convert {\n",
              "      background-color: #3B4455;\n",
              "      fill: #D2E3FC;\n",
              "    }\n",
              "\n",
              "    [theme=dark] .colab-df-convert:hover {\n",
              "      background-color: #434B5C;\n",
              "      box-shadow: 0px 1px 3px 1px rgba(0, 0, 0, 0.15);\n",
              "      filter: drop-shadow(0px 1px 2px rgba(0, 0, 0, 0.3));\n",
              "      fill: #FFFFFF;\n",
              "    }\n",
              "  </style>\n",
              "\n",
              "      <script>\n",
              "        const buttonEl =\n",
              "          document.querySelector('#df-038028c9-13ea-4dc1-9a03-540b81e64e9a button.colab-df-convert');\n",
              "        buttonEl.style.display =\n",
              "          google.colab.kernel.accessAllowed ? 'block' : 'none';\n",
              "\n",
              "        async function convertToInteractive(key) {\n",
              "          const element = document.querySelector('#df-038028c9-13ea-4dc1-9a03-540b81e64e9a');\n",
              "          const dataTable =\n",
              "            await google.colab.kernel.invokeFunction('convertToInteractive',\n",
              "                                                     [key], {});\n",
              "          if (!dataTable) return;\n",
              "\n",
              "          const docLinkHtml = 'Like what you see? Visit the ' +\n",
              "            '<a target=\"_blank\" href=https://colab.research.google.com/notebooks/data_table.ipynb>data table notebook</a>'\n",
              "            + ' to learn more about interactive tables.';\n",
              "          element.innerHTML = '';\n",
              "          dataTable['output_type'] = 'display_data';\n",
              "          await google.colab.output.renderOutput(dataTable, element);\n",
              "          const docLink = document.createElement('div');\n",
              "          docLink.innerHTML = docLinkHtml;\n",
              "          element.appendChild(docLink);\n",
              "        }\n",
              "      </script>\n",
              "    </div>\n",
              "  </div>\n",
              "  "
            ]
          },
          "metadata": {},
          "execution_count": 199
        }
      ]
    },
    {
      "cell_type": "code",
      "source": [
        "#It looks like I will need to clean this up a bit. I just want to see where we have the Zip codes and the names of the counties. \n",
        "njappzipmerge = njappzip.query(\"_merge=='both'\")\n",
        "njappzipmerge.head(3)\n",
        "njappzipmerge.tail(3)"
      ],
      "metadata": {
        "colab": {
          "base_uri": "https://localhost:8080/",
          "height": 270
        },
        "id": "RPo0ZwJa1NFN",
        "outputId": "e942e461-9b34-407c-c919-2ef93284fa8d"
      },
      "execution_count": 106,
      "outputs": [
        {
          "output_type": "execute_result",
          "data": {
            "text/plain": [
              "   ID   C_Zip    County _merge\n",
              "0  3.0  07009     Essex   both\n",
              "1  3.0  07009     Essex   both\n",
              "2  4.0  07726  Monmouth   both"
            ],
            "text/html": [
              "\n",
              "  <div id=\"df-70fb7cda-3761-4ae9-8902-05e841659da4\">\n",
              "    <div class=\"colab-df-container\">\n",
              "      <div>\n",
              "<style scoped>\n",
              "    .dataframe tbody tr th:only-of-type {\n",
              "        vertical-align: middle;\n",
              "    }\n",
              "\n",
              "    .dataframe tbody tr th {\n",
              "        vertical-align: top;\n",
              "    }\n",
              "\n",
              "    .dataframe thead th {\n",
              "        text-align: right;\n",
              "    }\n",
              "</style>\n",
              "<table border=\"1\" class=\"dataframe\">\n",
              "  <thead>\n",
              "    <tr style=\"text-align: right;\">\n",
              "      <th></th>\n",
              "      <th>ID</th>\n",
              "      <th>C_Zip</th>\n",
              "      <th>County</th>\n",
              "      <th>_merge</th>\n",
              "    </tr>\n",
              "  </thead>\n",
              "  <tbody>\n",
              "    <tr>\n",
              "      <th>0</th>\n",
              "      <td>3.0</td>\n",
              "      <td>07009</td>\n",
              "      <td>Essex</td>\n",
              "      <td>both</td>\n",
              "    </tr>\n",
              "    <tr>\n",
              "      <th>1</th>\n",
              "      <td>3.0</td>\n",
              "      <td>07009</td>\n",
              "      <td>Essex</td>\n",
              "      <td>both</td>\n",
              "    </tr>\n",
              "    <tr>\n",
              "      <th>2</th>\n",
              "      <td>4.0</td>\n",
              "      <td>07726</td>\n",
              "      <td>Monmouth</td>\n",
              "      <td>both</td>\n",
              "    </tr>\n",
              "  </tbody>\n",
              "</table>\n",
              "</div>\n",
              "      <button class=\"colab-df-convert\" onclick=\"convertToInteractive('df-70fb7cda-3761-4ae9-8902-05e841659da4')\"\n",
              "              title=\"Convert this dataframe to an interactive table.\"\n",
              "              style=\"display:none;\">\n",
              "        \n",
              "  <svg xmlns=\"http://www.w3.org/2000/svg\" height=\"24px\"viewBox=\"0 0 24 24\"\n",
              "       width=\"24px\">\n",
              "    <path d=\"M0 0h24v24H0V0z\" fill=\"none\"/>\n",
              "    <path d=\"M18.56 5.44l.94 2.06.94-2.06 2.06-.94-2.06-.94-.94-2.06-.94 2.06-2.06.94zm-11 1L8.5 8.5l.94-2.06 2.06-.94-2.06-.94L8.5 2.5l-.94 2.06-2.06.94zm10 10l.94 2.06.94-2.06 2.06-.94-2.06-.94-.94-2.06-.94 2.06-2.06.94z\"/><path d=\"M17.41 7.96l-1.37-1.37c-.4-.4-.92-.59-1.43-.59-.52 0-1.04.2-1.43.59L10.3 9.45l-7.72 7.72c-.78.78-.78 2.05 0 2.83L4 21.41c.39.39.9.59 1.41.59.51 0 1.02-.2 1.41-.59l7.78-7.78 2.81-2.81c.8-.78.8-2.07 0-2.86zM5.41 20L4 18.59l7.72-7.72 1.47 1.35L5.41 20z\"/>\n",
              "  </svg>\n",
              "      </button>\n",
              "      \n",
              "  <style>\n",
              "    .colab-df-container {\n",
              "      display:flex;\n",
              "      flex-wrap:wrap;\n",
              "      gap: 12px;\n",
              "    }\n",
              "\n",
              "    .colab-df-convert {\n",
              "      background-color: #E8F0FE;\n",
              "      border: none;\n",
              "      border-radius: 50%;\n",
              "      cursor: pointer;\n",
              "      display: none;\n",
              "      fill: #1967D2;\n",
              "      height: 32px;\n",
              "      padding: 0 0 0 0;\n",
              "      width: 32px;\n",
              "    }\n",
              "\n",
              "    .colab-df-convert:hover {\n",
              "      background-color: #E2EBFA;\n",
              "      box-shadow: 0px 1px 2px rgba(60, 64, 67, 0.3), 0px 1px 3px 1px rgba(60, 64, 67, 0.15);\n",
              "      fill: #174EA6;\n",
              "    }\n",
              "\n",
              "    [theme=dark] .colab-df-convert {\n",
              "      background-color: #3B4455;\n",
              "      fill: #D2E3FC;\n",
              "    }\n",
              "\n",
              "    [theme=dark] .colab-df-convert:hover {\n",
              "      background-color: #434B5C;\n",
              "      box-shadow: 0px 1px 3px 1px rgba(0, 0, 0, 0.15);\n",
              "      filter: drop-shadow(0px 1px 2px rgba(0, 0, 0, 0.3));\n",
              "      fill: #FFFFFF;\n",
              "    }\n",
              "  </style>\n",
              "\n",
              "      <script>\n",
              "        const buttonEl =\n",
              "          document.querySelector('#df-70fb7cda-3761-4ae9-8902-05e841659da4 button.colab-df-convert');\n",
              "        buttonEl.style.display =\n",
              "          google.colab.kernel.accessAllowed ? 'block' : 'none';\n",
              "\n",
              "        async function convertToInteractive(key) {\n",
              "          const element = document.querySelector('#df-70fb7cda-3761-4ae9-8902-05e841659da4');\n",
              "          const dataTable =\n",
              "            await google.colab.kernel.invokeFunction('convertToInteractive',\n",
              "                                                     [key], {});\n",
              "          if (!dataTable) return;\n",
              "\n",
              "          const docLinkHtml = 'Like what you see? Visit the ' +\n",
              "            '<a target=\"_blank\" href=https://colab.research.google.com/notebooks/data_table.ipynb>data table notebook</a>'\n",
              "            + ' to learn more about interactive tables.';\n",
              "          element.innerHTML = '';\n",
              "          dataTable['output_type'] = 'display_data';\n",
              "          await google.colab.output.renderOutput(dataTable, element);\n",
              "          const docLink = document.createElement('div');\n",
              "          docLink.innerHTML = docLinkHtml;\n",
              "          element.appendChild(docLink);\n",
              "        }\n",
              "      </script>\n",
              "    </div>\n",
              "  </div>\n",
              "  "
            ]
          },
          "metadata": {},
          "execution_count": 106
        },
        {
          "output_type": "execute_result",
          "data": {
            "text/plain": [
              "         ID   C_Zip      County _merge\n",
              "1043  1517.0  08322  Gloucester   both\n",
              "1044  1520.0  07040       Essex   both\n",
              "1045  1520.0  07040       Essex   both"
            ],
            "text/html": [
              "\n",
              "  <div id=\"df-69b6d837-d31a-4d91-9077-c6d3fd159c46\">\n",
              "    <div class=\"colab-df-container\">\n",
              "      <div>\n",
              "<style scoped>\n",
              "    .dataframe tbody tr th:only-of-type {\n",
              "        vertical-align: middle;\n",
              "    }\n",
              "\n",
              "    .dataframe tbody tr th {\n",
              "        vertical-align: top;\n",
              "    }\n",
              "\n",
              "    .dataframe thead th {\n",
              "        text-align: right;\n",
              "    }\n",
              "</style>\n",
              "<table border=\"1\" class=\"dataframe\">\n",
              "  <thead>\n",
              "    <tr style=\"text-align: right;\">\n",
              "      <th></th>\n",
              "      <th>ID</th>\n",
              "      <th>C_Zip</th>\n",
              "      <th>County</th>\n",
              "      <th>_merge</th>\n",
              "    </tr>\n",
              "  </thead>\n",
              "  <tbody>\n",
              "    <tr>\n",
              "      <th>1043</th>\n",
              "      <td>1517.0</td>\n",
              "      <td>08322</td>\n",
              "      <td>Gloucester</td>\n",
              "      <td>both</td>\n",
              "    </tr>\n",
              "    <tr>\n",
              "      <th>1044</th>\n",
              "      <td>1520.0</td>\n",
              "      <td>07040</td>\n",
              "      <td>Essex</td>\n",
              "      <td>both</td>\n",
              "    </tr>\n",
              "    <tr>\n",
              "      <th>1045</th>\n",
              "      <td>1520.0</td>\n",
              "      <td>07040</td>\n",
              "      <td>Essex</td>\n",
              "      <td>both</td>\n",
              "    </tr>\n",
              "  </tbody>\n",
              "</table>\n",
              "</div>\n",
              "      <button class=\"colab-df-convert\" onclick=\"convertToInteractive('df-69b6d837-d31a-4d91-9077-c6d3fd159c46')\"\n",
              "              title=\"Convert this dataframe to an interactive table.\"\n",
              "              style=\"display:none;\">\n",
              "        \n",
              "  <svg xmlns=\"http://www.w3.org/2000/svg\" height=\"24px\"viewBox=\"0 0 24 24\"\n",
              "       width=\"24px\">\n",
              "    <path d=\"M0 0h24v24H0V0z\" fill=\"none\"/>\n",
              "    <path d=\"M18.56 5.44l.94 2.06.94-2.06 2.06-.94-2.06-.94-.94-2.06-.94 2.06-2.06.94zm-11 1L8.5 8.5l.94-2.06 2.06-.94-2.06-.94L8.5 2.5l-.94 2.06-2.06.94zm10 10l.94 2.06.94-2.06 2.06-.94-2.06-.94-.94-2.06-.94 2.06-2.06.94z\"/><path d=\"M17.41 7.96l-1.37-1.37c-.4-.4-.92-.59-1.43-.59-.52 0-1.04.2-1.43.59L10.3 9.45l-7.72 7.72c-.78.78-.78 2.05 0 2.83L4 21.41c.39.39.9.59 1.41.59.51 0 1.02-.2 1.41-.59l7.78-7.78 2.81-2.81c.8-.78.8-2.07 0-2.86zM5.41 20L4 18.59l7.72-7.72 1.47 1.35L5.41 20z\"/>\n",
              "  </svg>\n",
              "      </button>\n",
              "      \n",
              "  <style>\n",
              "    .colab-df-container {\n",
              "      display:flex;\n",
              "      flex-wrap:wrap;\n",
              "      gap: 12px;\n",
              "    }\n",
              "\n",
              "    .colab-df-convert {\n",
              "      background-color: #E8F0FE;\n",
              "      border: none;\n",
              "      border-radius: 50%;\n",
              "      cursor: pointer;\n",
              "      display: none;\n",
              "      fill: #1967D2;\n",
              "      height: 32px;\n",
              "      padding: 0 0 0 0;\n",
              "      width: 32px;\n",
              "    }\n",
              "\n",
              "    .colab-df-convert:hover {\n",
              "      background-color: #E2EBFA;\n",
              "      box-shadow: 0px 1px 2px rgba(60, 64, 67, 0.3), 0px 1px 3px 1px rgba(60, 64, 67, 0.15);\n",
              "      fill: #174EA6;\n",
              "    }\n",
              "\n",
              "    [theme=dark] .colab-df-convert {\n",
              "      background-color: #3B4455;\n",
              "      fill: #D2E3FC;\n",
              "    }\n",
              "\n",
              "    [theme=dark] .colab-df-convert:hover {\n",
              "      background-color: #434B5C;\n",
              "      box-shadow: 0px 1px 3px 1px rgba(0, 0, 0, 0.15);\n",
              "      filter: drop-shadow(0px 1px 2px rgba(0, 0, 0, 0.3));\n",
              "      fill: #FFFFFF;\n",
              "    }\n",
              "  </style>\n",
              "\n",
              "      <script>\n",
              "        const buttonEl =\n",
              "          document.querySelector('#df-69b6d837-d31a-4d91-9077-c6d3fd159c46 button.colab-df-convert');\n",
              "        buttonEl.style.display =\n",
              "          google.colab.kernel.accessAllowed ? 'block' : 'none';\n",
              "\n",
              "        async function convertToInteractive(key) {\n",
              "          const element = document.querySelector('#df-69b6d837-d31a-4d91-9077-c6d3fd159c46');\n",
              "          const dataTable =\n",
              "            await google.colab.kernel.invokeFunction('convertToInteractive',\n",
              "                                                     [key], {});\n",
              "          if (!dataTable) return;\n",
              "\n",
              "          const docLinkHtml = 'Like what you see? Visit the ' +\n",
              "            '<a target=\"_blank\" href=https://colab.research.google.com/notebooks/data_table.ipynb>data table notebook</a>'\n",
              "            + ' to learn more about interactive tables.';\n",
              "          element.innerHTML = '';\n",
              "          dataTable['output_type'] = 'display_data';\n",
              "          await google.colab.output.renderOutput(dataTable, element);\n",
              "          const docLink = document.createElement('div');\n",
              "          docLink.innerHTML = docLinkHtml;\n",
              "          element.appendChild(docLink);\n",
              "        }\n",
              "      </script>\n",
              "    </div>\n",
              "  </div>\n",
              "  "
            ]
          },
          "metadata": {},
          "execution_count": 106
        }
      ]
    },
    {
      "cell_type": "markdown",
      "source": [
        "This looks right, but it makes testing the thesis difficult. Even before merging the unemployment data, I can see that the majority of applicants live in Camden county. Ths suggests proximity and place might be more of an indicator than unemployment rate. OLS regression will be required with more variables. "
      ],
      "metadata": {
        "id": "LMxKJM9K59FR"
      }
    },
    {
      "cell_type": "code",
      "source": [
        "#Cleaning the data and adding more records resulted in a greater range between the county with the most applicants and the county with the tenth most applicants.\n",
        "#Additionally Somerset, Monmouth, Middlesex, Mercer and Ocean counties changed ranks. These are not insignificant differences. \n",
        "njappzipmerge.County.value_counts().nlargest(10).plot(kind='bar',figsize=(10,5))\n",
        "plt.title(\"Number of Applications by County\")\n",
        "plt.ylabel(\"Number of Applicants\")\n",
        "plt.xlabel(\"County Name\")"
      ],
      "metadata": {
        "colab": {
          "base_uri": "https://localhost:8080/",
          "height": 432
        },
        "id": "T5Wqzybd2DVX",
        "outputId": "0efc5f42-246c-481f-8028-6a5b08daae34"
      },
      "execution_count": 107,
      "outputs": [
        {
          "output_type": "execute_result",
          "data": {
            "text/plain": [
              "<matplotlib.axes._subplots.AxesSubplot at 0x7f3c6244cee0>"
            ]
          },
          "metadata": {},
          "execution_count": 107
        },
        {
          "output_type": "execute_result",
          "data": {
            "text/plain": [
              "Text(0.5, 1.0, 'Number of Applications by County')"
            ]
          },
          "metadata": {},
          "execution_count": 107
        },
        {
          "output_type": "execute_result",
          "data": {
            "text/plain": [
              "Text(0, 0.5, 'Number of Applicants')"
            ]
          },
          "metadata": {},
          "execution_count": 107
        },
        {
          "output_type": "execute_result",
          "data": {
            "text/plain": [
              "Text(0.5, 0, 'County Name')"
            ]
          },
          "metadata": {},
          "execution_count": 107
        },
        {
          "output_type": "display_data",
          "data": {
            "text/plain": [
              "<Figure size 720x360 with 1 Axes>"
            ],
            "image/png": "[encoded data removed]"
          },
          "metadata": {
            "needs_background": "light"
          }
        }
      ]
    },
    {
      "cell_type": "code",
      "source": [
        "njunemp.dtypes"
      ],
      "metadata": {
        "colab": {
          "base_uri": "https://localhost:8080/"
        },
        "id": "Ig1vnuc23FSP",
        "outputId": "f1edc952-a2c0-426c-c263-99f0991757e1"
      },
      "execution_count": 108,
      "outputs": [
        {
          "output_type": "execute_result",
          "data": {
            "text/plain": [
              "County                          object\n",
              "Geo_STATE                        int64\n",
              "LaborForce2021                   int64\n",
              "ORG_US_007_002                   int64\n",
              "ORG_US_007_003                   int64\n",
              "Unemployment2021               float64\n",
              "LaborForce2020                   int64\n",
              "ORG_US_Unemployment_027_002      int64\n",
              "ORG_US_Unemployment_027_003      int64\n",
              "Unemployment2020               float64\n",
              "ORG_US_Unemployment_020_001      int64\n",
              "ORG_US_Unemployment_020_002      int64\n",
              "ORG_US_Unemployment_020_003      int64\n",
              "ORG_US_Unemployment_020_004    float64\n",
              "ORG_US_035_001                 float64\n",
              "ORG_US_035_002                 float64\n",
              "ORG_US_035_003                 float64\n",
              "PercentageChange               float64\n",
              "dtype: object"
            ]
          },
          "metadata": {},
          "execution_count": 108
        }
      ]
    },
    {
      "cell_type": "code",
      "source": [
        "njunempmerge=njunemp[['County','Unemployment2021','PercentageChange']]\n",
        "njunempmerge.head(3)"
      ],
      "metadata": {
        "colab": {
          "base_uri": "https://localhost:8080/",
          "height": 143
        },
        "id": "pP7u_Gte3RBk",
        "outputId": "79c06f6d-2470-4fff-843c-fe4c67144801"
      },
      "execution_count": 109,
      "outputs": [
        {
          "output_type": "execute_result",
          "data": {
            "text/plain": [
              "        County  Unemployment2021  PercentageChange\n",
              "0    Atlantic               10.8        -55.000000\n",
              "1      Bergen                7.4        -47.517730\n",
              "2  Burlington                6.6        -44.067797"
            ],
            "text/html": [
              "\n",
              "  <div id=\"df-1f050eaf-6802-4044-a02b-0f1649dbe1c0\">\n",
              "    <div class=\"colab-df-container\">\n",
              "      <div>\n",
              "<style scoped>\n",
              "    .dataframe tbody tr th:only-of-type {\n",
              "        vertical-align: middle;\n",
              "    }\n",
              "\n",
              "    .dataframe tbody tr th {\n",
              "        vertical-align: top;\n",
              "    }\n",
              "\n",
              "    .dataframe thead th {\n",
              "        text-align: right;\n",
              "    }\n",
              "</style>\n",
              "<table border=\"1\" class=\"dataframe\">\n",
              "  <thead>\n",
              "    <tr style=\"text-align: right;\">\n",
              "      <th></th>\n",
              "      <th>County</th>\n",
              "      <th>Unemployment2021</th>\n",
              "      <th>PercentageChange</th>\n",
              "    </tr>\n",
              "  </thead>\n",
              "  <tbody>\n",
              "    <tr>\n",
              "      <th>0</th>\n",
              "      <td>Atlantic</td>\n",
              "      <td>10.8</td>\n",
              "      <td>-55.000000</td>\n",
              "    </tr>\n",
              "    <tr>\n",
              "      <th>1</th>\n",
              "      <td>Bergen</td>\n",
              "      <td>7.4</td>\n",
              "      <td>-47.517730</td>\n",
              "    </tr>\n",
              "    <tr>\n",
              "      <th>2</th>\n",
              "      <td>Burlington</td>\n",
              "      <td>6.6</td>\n",
              "      <td>-44.067797</td>\n",
              "    </tr>\n",
              "  </tbody>\n",
              "</table>\n",
              "</div>\n",
              "      <button class=\"colab-df-convert\" onclick=\"convertToInteractive('df-1f050eaf-6802-4044-a02b-0f1649dbe1c0')\"\n",
              "              title=\"Convert this dataframe to an interactive table.\"\n",
              "              style=\"display:none;\">\n",
              "        \n",
              "  <svg xmlns=\"http://www.w3.org/2000/svg\" height=\"24px\"viewBox=\"0 0 24 24\"\n",
              "       width=\"24px\">\n",
              "    <path d=\"M0 0h24v24H0V0z\" fill=\"none\"/>\n",
              "    <path d=\"M18.56 5.44l.94 2.06.94-2.06 2.06-.94-2.06-.94-.94-2.06-.94 2.06-2.06.94zm-11 1L8.5 8.5l.94-2.06 2.06-.94-2.06-.94L8.5 2.5l-.94 2.06-2.06.94zm10 10l.94 2.06.94-2.06 2.06-.94-2.06-.94-.94-2.06-.94 2.06-2.06.94z\"/><path d=\"M17.41 7.96l-1.37-1.37c-.4-.4-.92-.59-1.43-.59-.52 0-1.04.2-1.43.59L10.3 9.45l-7.72 7.72c-.78.78-.78 2.05 0 2.83L4 21.41c.39.39.9.59 1.41.59.51 0 1.02-.2 1.41-.59l7.78-7.78 2.81-2.81c.8-.78.8-2.07 0-2.86zM5.41 20L4 18.59l7.72-7.72 1.47 1.35L5.41 20z\"/>\n",
              "  </svg>\n",
              "      </button>\n",
              "      \n",
              "  <style>\n",
              "    .colab-df-container {\n",
              "      display:flex;\n",
              "      flex-wrap:wrap;\n",
              "      gap: 12px;\n",
              "    }\n",
              "\n",
              "    .colab-df-convert {\n",
              "      background-color: #E8F0FE;\n",
              "      border: none;\n",
              "      border-radius: 50%;\n",
              "      cursor: pointer;\n",
              "      display: none;\n",
              "      fill: #1967D2;\n",
              "      height: 32px;\n",
              "      padding: 0 0 0 0;\n",
              "      width: 32px;\n",
              "    }\n",
              "\n",
              "    .colab-df-convert:hover {\n",
              "      background-color: #E2EBFA;\n",
              "      box-shadow: 0px 1px 2px rgba(60, 64, 67, 0.3), 0px 1px 3px 1px rgba(60, 64, 67, 0.15);\n",
              "      fill: #174EA6;\n",
              "    }\n",
              "\n",
              "    [theme=dark] .colab-df-convert {\n",
              "      background-color: #3B4455;\n",
              "      fill: #D2E3FC;\n",
              "    }\n",
              "\n",
              "    [theme=dark] .colab-df-convert:hover {\n",
              "      background-color: #434B5C;\n",
              "      box-shadow: 0px 1px 3px 1px rgba(0, 0, 0, 0.15);\n",
              "      filter: drop-shadow(0px 1px 2px rgba(0, 0, 0, 0.3));\n",
              "      fill: #FFFFFF;\n",
              "    }\n",
              "  </style>\n",
              "\n",
              "      <script>\n",
              "        const buttonEl =\n",
              "          document.querySelector('#df-1f050eaf-6802-4044-a02b-0f1649dbe1c0 button.colab-df-convert');\n",
              "        buttonEl.style.display =\n",
              "          google.colab.kernel.accessAllowed ? 'block' : 'none';\n",
              "\n",
              "        async function convertToInteractive(key) {\n",
              "          const element = document.querySelector('#df-1f050eaf-6802-4044-a02b-0f1649dbe1c0');\n",
              "          const dataTable =\n",
              "            await google.colab.kernel.invokeFunction('convertToInteractive',\n",
              "                                                     [key], {});\n",
              "          if (!dataTable) return;\n",
              "\n",
              "          const docLinkHtml = 'Like what you see? Visit the ' +\n",
              "            '<a target=\"_blank\" href=https://colab.research.google.com/notebooks/data_table.ipynb>data table notebook</a>'\n",
              "            + ' to learn more about interactive tables.';\n",
              "          element.innerHTML = '';\n",
              "          dataTable['output_type'] = 'display_data';\n",
              "          await google.colab.output.renderOutput(dataTable, element);\n",
              "          const docLink = document.createElement('div');\n",
              "          docLink.innerHTML = docLinkHtml;\n",
              "          element.appendChild(docLink);\n",
              "        }\n",
              "      </script>\n",
              "    </div>\n",
              "  </div>\n",
              "  "
            ]
          },
          "metadata": {},
          "execution_count": 109
        }
      ]
    },
    {
      "cell_type": "code",
      "source": [
        "njappzipmerge.dtypes"
      ],
      "metadata": {
        "colab": {
          "base_uri": "https://localhost:8080/"
        },
        "id": "kqvfxou84qqO",
        "outputId": "a1978d99-2a9b-4944-fe6f-09bf2b5e0a99"
      },
      "execution_count": 110,
      "outputs": [
        {
          "output_type": "execute_result",
          "data": {
            "text/plain": [
              "ID         float64\n",
              "C_Zip       object\n",
              "County      object\n",
              "_merge    category\n",
              "dtype: object"
            ]
          },
          "metadata": {},
          "execution_count": 110
        }
      ]
    },
    {
      "cell_type": "code",
      "source": [
        "print(njappzipmerge.County.unique())"
      ],
      "metadata": {
        "colab": {
          "base_uri": "https://localhost:8080/"
        },
        "id": "_j0yKjcEEWG6",
        "outputId": "9b17f3cc-4904-453a-a016-746f94ce66e5"
      },
      "execution_count": null,
      "outputs": [
        {
          "output_type": "stream",
          "name": "stdout",
          "text": [
            "['Essex' 'Monmouth' 'Middlesex' 'Sussex' 'Camden' 'Burlington' 'Hudson'\n",
            " 'Union' 'Gloucester' 'Ocean' 'Somerset' 'Atlantic' 'Cumberland' 'Mercer'\n",
            " 'Cape May' 'Bergen' 'Warren' 'Morris' 'Hunterdon' 'Salem' 'Passaic']\n"
          ]
        }
      ]
    },
    {
      "cell_type": "code",
      "source": [
        "njappzipmerge['County'] = njappzipmerge['County'].astype(str) + ' '"
      ],
      "metadata": {
        "colab": {
          "base_uri": "https://localhost:8080/"
        },
        "id": "m4JDRcCaXllg",
        "outputId": "0ff4a1dc-0077-48e0-abbb-40a972a6f543"
      },
      "execution_count": null,
      "outputs": [
        {
          "output_type": "stream",
          "name": "stderr",
          "text": [
            "<ipython-input-208-cfdbf3609f93>:1: SettingWithCopyWarning: \n",
            "A value is trying to be set on a copy of a slice from a DataFrame.\n",
            "Try using .loc[row_indexer,col_indexer] = value instead\n",
            "\n",
            "See the caveats in the documentation: https://pandas.pydata.org/pandas-docs/stable/user_guide/indexing.html#returning-a-view-versus-a-copy\n",
            "  njappzipmerge['County'] = njappzipmerge['County'].astype(str) + ' '\n"
          ]
        }
      ]
    },
    {
      "cell_type": "code",
      "source": [
        "print(njappzipmerge.County.unique())"
      ],
      "metadata": {
        "colab": {
          "base_uri": "https://localhost:8080/"
        },
        "id": "7JGxnS-4X1Mf",
        "outputId": "c9b635bf-4554-43e7-9293-f3a50b8ea1bc"
      },
      "execution_count": null,
      "outputs": [
        {
          "output_type": "stream",
          "name": "stdout",
          "text": [
            "['Essex ' 'Monmouth ' 'Middlesex ' 'Sussex ' 'Camden ' 'Burlington '\n",
            " 'Hudson ' 'Union ' 'Gloucester ' 'Ocean ' 'Somerset ' 'Atlantic '\n",
            " 'Cumberland ' 'Mercer ' 'Cape May ' 'Bergen ' 'Warren ' 'Morris '\n",
            " 'Hunterdon ' 'Salem ' 'Passaic ']\n"
          ]
        }
      ]
    },
    {
      "cell_type": "code",
      "source": [
        "njunempmerge.dtypes"
      ],
      "metadata": {
        "colab": {
          "base_uri": "https://localhost:8080/"
        },
        "id": "zOW-M2xQ8x6y",
        "outputId": "a0fc67b6-97ae-418b-df62-758f0bf70b52"
      },
      "execution_count": null,
      "outputs": [
        {
          "output_type": "execute_result",
          "data": {
            "text/plain": [
              "County               object\n",
              "Unemployment2021    float64\n",
              "PercentageChange    float64\n",
              "dtype: object"
            ]
          },
          "metadata": {},
          "execution_count": 210
        }
      ]
    },
    {
      "cell_type": "code",
      "source": [
        "#There is a problem. Counties in this data have a space. \n",
        "print(njunempmerge.County.unique())"
      ],
      "metadata": {
        "colab": {
          "base_uri": "https://localhost:8080/"
        },
        "id": "eH-pMBJpEdOF",
        "outputId": "78d96b06-ecc2-46a4-b438-db20683f51d4"
      },
      "execution_count": null,
      "outputs": [
        {
          "output_type": "stream",
          "name": "stdout",
          "text": [
            "['Atlantic' 'Bergen' 'Burlington' 'Camden' 'Cape May' 'Cumberland' 'Essex'\n",
            " 'Gloucester' 'Hudson' 'Hunterdon' 'Mercer' 'Middlesex' 'Monmouth'\n",
            " 'Morris' 'Ocean' 'Passaic' 'Salem' 'Somerset' 'Sussex' 'Union' 'Warren']\n"
          ]
        }
      ]
    },
    {
      "cell_type": "code",
      "source": [
        "njunempmerge['County'].str.replace(' ','')"
      ],
      "metadata": {
        "colab": {
          "base_uri": "https://localhost:8080/"
        },
        "id": "OaPQgKhE7QX4",
        "outputId": "500a3027-86e4-4cfb-b354-1979e029d69c"
      },
      "execution_count": null,
      "outputs": [
        {
          "output_type": "execute_result",
          "data": {
            "text/plain": [
              "0       Atlantic\n",
              "1         Bergen\n",
              "2     Burlington\n",
              "3         Camden\n",
              "4        CapeMay\n",
              "5     Cumberland\n",
              "6          Essex\n",
              "7     Gloucester\n",
              "8         Hudson\n",
              "9      Hunterdon\n",
              "10        Mercer\n",
              "11     Middlesex\n",
              "12      Monmouth\n",
              "13        Morris\n",
              "14         Ocean\n",
              "15       Passaic\n",
              "16         Salem\n",
              "17      Somerset\n",
              "18        Sussex\n",
              "19         Union\n",
              "20        Warren\n",
              "Name: County, dtype: object"
            ]
          },
          "metadata": {},
          "execution_count": 212
        }
      ]
    },
    {
      "cell_type": "code",
      "source": [
        "print(njunempmerge.County.unique())"
      ],
      "metadata": {
        "colab": {
          "base_uri": "https://localhost:8080/"
        },
        "id": "Y3iDX2bh8cda",
        "outputId": "0972fe4e-cdc0-4f5f-f08c-718294dd1c5c"
      },
      "execution_count": null,
      "outputs": [
        {
          "output_type": "stream",
          "name": "stdout",
          "text": [
            "['Atlantic' 'Bergen' 'Burlington' 'Camden' 'Cape May' 'Cumberland' 'Essex'\n",
            " 'Gloucester' 'Hudson' 'Hunterdon' 'Mercer' 'Middlesex' 'Monmouth'\n",
            " 'Morris' 'Ocean' 'Passaic' 'Salem' 'Somerset' 'Sussex' 'Union' 'Warren']\n"
          ]
        }
      ]
    },
    {
      "cell_type": "code",
      "source": [
        "njunempmerge['County'].str.strip()"
      ],
      "metadata": {
        "colab": {
          "base_uri": "https://localhost:8080/"
        },
        "id": "yjWcAM_EEEX-",
        "outputId": "b0ce9da2-1061-4263-c499-16746d8fa06a"
      },
      "execution_count": null,
      "outputs": [
        {
          "output_type": "execute_result",
          "data": {
            "text/plain": [
              "0       Atlantic\n",
              "1         Bergen\n",
              "2     Burlington\n",
              "3         Camden\n",
              "4       Cape May\n",
              "5     Cumberland\n",
              "6          Essex\n",
              "7     Gloucester\n",
              "8         Hudson\n",
              "9      Hunterdon\n",
              "10        Mercer\n",
              "11     Middlesex\n",
              "12      Monmouth\n",
              "13        Morris\n",
              "14         Ocean\n",
              "15       Passaic\n",
              "16         Salem\n",
              "17      Somerset\n",
              "18        Sussex\n",
              "19         Union\n",
              "20        Warren\n",
              "Name: County, dtype: object"
            ]
          },
          "metadata": {},
          "execution_count": 214
        }
      ]
    },
    {
      "cell_type": "markdown",
      "source": [
        "# Three Merged Files\n",
        " "
      ],
      "metadata": {
        "id": "bjRXSQNyYyZ1"
      }
    },
    {
      "cell_type": "markdown",
      "source": [],
      "metadata": {
        "id": "xmHUzRYamTPA"
      }
    },
    {
      "cell_type": "code",
      "source": [
        "njunempmerge.dtypes"
      ],
      "metadata": {
        "colab": {
          "base_uri": "https://localhost:8080/"
        },
        "id": "ucnhJcAOtiBC",
        "outputId": "92258905-d1b4-4ea1-ccbf-194e481bc93a"
      },
      "execution_count": null,
      "outputs": [
        {
          "output_type": "execute_result",
          "data": {
            "text/plain": [
              "County               object\n",
              "Unemployment2021    float64\n",
              "PercentageChange    float64\n",
              "dtype: object"
            ]
          },
          "metadata": {},
          "execution_count": 215
        }
      ]
    },
    {
      "cell_type": "code",
      "source": [
        "print(njunempmerge.County.unique())"
      ],
      "metadata": {
        "colab": {
          "base_uri": "https://localhost:8080/"
        },
        "id": "u8vgY1aPuj3b",
        "outputId": "d4437ec5-5ee7-49d6-a34d-883aeffdb780"
      },
      "execution_count": null,
      "outputs": [
        {
          "output_type": "stream",
          "name": "stdout",
          "text": [
            "['Atlantic' 'Bergen' 'Burlington' 'Camden' 'Cape May' 'Cumberland' 'Essex'\n",
            " 'Gloucester' 'Hudson' 'Hunterdon' 'Mercer' 'Middlesex' 'Monmouth'\n",
            " 'Morris' 'Ocean' 'Passaic' 'Salem' 'Somerset' 'Sussex' 'Union' 'Warren']\n"
          ]
        }
      ]
    },
    {
      "cell_type": "code",
      "source": [
        "njappzipmerge.dtypes"
      ],
      "metadata": {
        "colab": {
          "base_uri": "https://localhost:8080/"
        },
        "id": "4tcjFao9tpZ8",
        "outputId": "fa19e406-be75-424f-ce3e-e1ccc2cbbc9b"
      },
      "execution_count": null,
      "outputs": [
        {
          "output_type": "execute_result",
          "data": {
            "text/plain": [
              "ID         float64\n",
              "C_Zip       object\n",
              "County      object\n",
              "_merge    category\n",
              "dtype: object"
            ]
          },
          "metadata": {},
          "execution_count": 217
        }
      ]
    },
    {
      "cell_type": "code",
      "source": [
        "print(njappzipmerge.County.unique())"
      ],
      "metadata": {
        "colab": {
          "base_uri": "https://localhost:8080/"
        },
        "id": "m7v2p6C9umFp",
        "outputId": "526f0635-87ff-4438-de17-d64d86f1ee6b"
      },
      "execution_count": null,
      "outputs": [
        {
          "output_type": "stream",
          "name": "stdout",
          "text": [
            "['Essex ' 'Monmouth ' 'Middlesex ' 'Sussex ' 'Camden ' 'Burlington '\n",
            " 'Hudson ' 'Union ' 'Gloucester ' 'Ocean ' 'Somerset ' 'Atlantic '\n",
            " 'Cumberland ' 'Mercer ' 'Cape May ' 'Bergen ' 'Warren ' 'Morris '\n",
            " 'Hunterdon ' 'Salem ' 'Passaic ']\n"
          ]
        }
      ]
    },
    {
      "cell_type": "code",
      "source": [
        "njappzipmerge=njappzipmerge.replace({'County':{'Atlantic ':'Atlantic',\t'Bergen ':'Bergen',\t'Burlington ':'Burlington',\t'Camden ':'Camden',\t'Cape May ':'Cape May',\t'Cumberland ':'Cumberland',\t'Essex ':'Essex',\t'Gloucester ':'Gloucester',\t'Hudson ':'Hudson',\t'Hunterdon ':'Hunterdon',\t'Mercer ':'Mercer',\t'Middlesex ':'Middlesex',\t'Monmouth ':'Monmouth',\t'Morris ':'Morris',\t'Ocean ':'Ocean',\t'Passaic ':'Passaic',\t'Salem ':'Salem',\t'Somerset ':'Somerset',\t'Sussex ':'Sussex',\t'Union ':'Union',\t'Warren ':'Warren'}})\n",
        "#could just strip white space"
      ],
      "metadata": {
        "id": "3YUTXRTb2rMY"
      },
      "execution_count": null,
      "outputs": []
    },
    {
      "cell_type": "code",
      "source": [
        "njappzipmerge = njappzipmerge.drop(['_merge'],axis=1)"
      ],
      "metadata": {
        "id": "Zu_GGiEctz_y"
      },
      "execution_count": 114,
      "outputs": []
    },
    {
      "cell_type": "code",
      "source": [
        "finalmerge = pd.merge(njunempmerge,njappzipmerge,how='outer',indicator=True)\n",
        "finalmerge.head(5)\n",
        "finalmerge.tail(5)"
      ],
      "metadata": {
        "colab": {
          "base_uri": "https://localhost:8080/",
          "height": 395
        },
        "id": "GSzRxirM_yUh",
        "outputId": "d957f72c-1dec-4926-a1b6-b2ed1ac51adf"
      },
      "execution_count": 115,
      "outputs": [
        {
          "output_type": "execute_result",
          "data": {
            "text/plain": [
              "        County  Unemployment2021  PercentageChange  ID  C_Zip     _merge\n",
              "0    Atlantic               10.8        -55.000000  NaN   NaN  left_only\n",
              "1      Bergen                7.4        -47.517730  NaN   NaN  left_only\n",
              "2  Burlington                6.6        -44.067797  NaN   NaN  left_only\n",
              "3      Camden                8.4        -40.425532  NaN   NaN  left_only\n",
              "4    Cape May                6.7        -55.333333  NaN   NaN  left_only"
            ],
            "text/html": [
              "\n",
              "  <div id=\"df-fb7a32c5-40df-41f3-8859-d12449c7b3cc\">\n",
              "    <div class=\"colab-df-container\">\n",
              "      <div>\n",
              "<style scoped>\n",
              "    .dataframe tbody tr th:only-of-type {\n",
              "        vertical-align: middle;\n",
              "    }\n",
              "\n",
              "    .dataframe tbody tr th {\n",
              "        vertical-align: top;\n",
              "    }\n",
              "\n",
              "    .dataframe thead th {\n",
              "        text-align: right;\n",
              "    }\n",
              "</style>\n",
              "<table border=\"1\" class=\"dataframe\">\n",
              "  <thead>\n",
              "    <tr style=\"text-align: right;\">\n",
              "      <th></th>\n",
              "      <th>County</th>\n",
              "      <th>Unemployment2021</th>\n",
              "      <th>PercentageChange</th>\n",
              "      <th>ID</th>\n",
              "      <th>C_Zip</th>\n",
              "      <th>_merge</th>\n",
              "    </tr>\n",
              "  </thead>\n",
              "  <tbody>\n",
              "    <tr>\n",
              "      <th>0</th>\n",
              "      <td>Atlantic</td>\n",
              "      <td>10.8</td>\n",
              "      <td>-55.000000</td>\n",
              "      <td>NaN</td>\n",
              "      <td>NaN</td>\n",
              "      <td>left_only</td>\n",
              "    </tr>\n",
              "    <tr>\n",
              "      <th>1</th>\n",
              "      <td>Bergen</td>\n",
              "      <td>7.4</td>\n",
              "      <td>-47.517730</td>\n",
              "      <td>NaN</td>\n",
              "      <td>NaN</td>\n",
              "      <td>left_only</td>\n",
              "    </tr>\n",
              "    <tr>\n",
              "      <th>2</th>\n",
              "      <td>Burlington</td>\n",
              "      <td>6.6</td>\n",
              "      <td>-44.067797</td>\n",
              "      <td>NaN</td>\n",
              "      <td>NaN</td>\n",
              "      <td>left_only</td>\n",
              "    </tr>\n",
              "    <tr>\n",
              "      <th>3</th>\n",
              "      <td>Camden</td>\n",
              "      <td>8.4</td>\n",
              "      <td>-40.425532</td>\n",
              "      <td>NaN</td>\n",
              "      <td>NaN</td>\n",
              "      <td>left_only</td>\n",
              "    </tr>\n",
              "    <tr>\n",
              "      <th>4</th>\n",
              "      <td>Cape May</td>\n",
              "      <td>6.7</td>\n",
              "      <td>-55.333333</td>\n",
              "      <td>NaN</td>\n",
              "      <td>NaN</td>\n",
              "      <td>left_only</td>\n",
              "    </tr>\n",
              "  </tbody>\n",
              "</table>\n",
              "</div>\n",
              "      <button class=\"colab-df-convert\" onclick=\"convertToInteractive('df-fb7a32c5-40df-41f3-8859-d12449c7b3cc')\"\n",
              "              title=\"Convert this dataframe to an interactive table.\"\n",
              "              style=\"display:none;\">\n",
              "        \n",
              "  <svg xmlns=\"http://www.w3.org/2000/svg\" height=\"24px\"viewBox=\"0 0 24 24\"\n",
              "       width=\"24px\">\n",
              "    <path d=\"M0 0h24v24H0V0z\" fill=\"none\"/>\n",
              "    <path d=\"M18.56 5.44l.94 2.06.94-2.06 2.06-.94-2.06-.94-.94-2.06-.94 2.06-2.06.94zm-11 1L8.5 8.5l.94-2.06 2.06-.94-2.06-.94L8.5 2.5l-.94 2.06-2.06.94zm10 10l.94 2.06.94-2.06 2.06-.94-2.06-.94-.94-2.06-.94 2.06-2.06.94z\"/><path d=\"M17.41 7.96l-1.37-1.37c-.4-.4-.92-.59-1.43-.59-.52 0-1.04.2-1.43.59L10.3 9.45l-7.72 7.72c-.78.78-.78 2.05 0 2.83L4 21.41c.39.39.9.59 1.41.59.51 0 1.02-.2 1.41-.59l7.78-7.78 2.81-2.81c.8-.78.8-2.07 0-2.86zM5.41 20L4 18.59l7.72-7.72 1.47 1.35L5.41 20z\"/>\n",
              "  </svg>\n",
              "      </button>\n",
              "      \n",
              "  <style>\n",
              "    .colab-df-container {\n",
              "      display:flex;\n",
              "      flex-wrap:wrap;\n",
              "      gap: 12px;\n",
              "    }\n",
              "\n",
              "    .colab-df-convert {\n",
              "      background-color: #E8F0FE;\n",
              "      border: none;\n",
              "      border-radius: 50%;\n",
              "      cursor: pointer;\n",
              "      display: none;\n",
              "      fill: #1967D2;\n",
              "      height: 32px;\n",
              "      padding: 0 0 0 0;\n",
              "      width: 32px;\n",
              "    }\n",
              "\n",
              "    .colab-df-convert:hover {\n",
              "      background-color: #E2EBFA;\n",
              "      box-shadow: 0px 1px 2px rgba(60, 64, 67, 0.3), 0px 1px 3px 1px rgba(60, 64, 67, 0.15);\n",
              "      fill: #174EA6;\n",
              "    }\n",
              "\n",
              "    [theme=dark] .colab-df-convert {\n",
              "      background-color: #3B4455;\n",
              "      fill: #D2E3FC;\n",
              "    }\n",
              "\n",
              "    [theme=dark] .colab-df-convert:hover {\n",
              "      background-color: #434B5C;\n",
              "      box-shadow: 0px 1px 3px 1px rgba(0, 0, 0, 0.15);\n",
              "      filter: drop-shadow(0px 1px 2px rgba(0, 0, 0, 0.3));\n",
              "      fill: #FFFFFF;\n",
              "    }\n",
              "  </style>\n",
              "\n",
              "      <script>\n",
              "        const buttonEl =\n",
              "          document.querySelector('#df-fb7a32c5-40df-41f3-8859-d12449c7b3cc button.colab-df-convert');\n",
              "        buttonEl.style.display =\n",
              "          google.colab.kernel.accessAllowed ? 'block' : 'none';\n",
              "\n",
              "        async function convertToInteractive(key) {\n",
              "          const element = document.querySelector('#df-fb7a32c5-40df-41f3-8859-d12449c7b3cc');\n",
              "          const dataTable =\n",
              "            await google.colab.kernel.invokeFunction('convertToInteractive',\n",
              "                                                     [key], {});\n",
              "          if (!dataTable) return;\n",
              "\n",
              "          const docLinkHtml = 'Like what you see? Visit the ' +\n",
              "            '<a target=\"_blank\" href=https://colab.research.google.com/notebooks/data_table.ipynb>data table notebook</a>'\n",
              "            + ' to learn more about interactive tables.';\n",
              "          element.innerHTML = '';\n",
              "          dataTable['output_type'] = 'display_data';\n",
              "          await google.colab.output.renderOutput(dataTable, element);\n",
              "          const docLink = document.createElement('div');\n",
              "          docLink.innerHTML = docLinkHtml;\n",
              "          element.appendChild(docLink);\n",
              "        }\n",
              "      </script>\n",
              "    </div>\n",
              "  </div>\n",
              "  "
            ]
          },
          "metadata": {},
          "execution_count": 115
        },
        {
          "output_type": "execute_result",
          "data": {
            "text/plain": [
              "      County  Unemployment2021  PercentageChange     ID   C_Zip      _merge\n",
              "995  Passaic               NaN               NaN   917.0  07055  right_only\n",
              "996  Passaic               NaN               NaN   919.0  07011  right_only\n",
              "997  Passaic               NaN               NaN   986.0  07011  right_only\n",
              "998  Passaic               NaN               NaN  1149.0  07442  right_only\n",
              "999  Passaic               NaN               NaN  1149.0  07442  right_only"
            ],
            "text/html": [
              "\n",
              "  <div id=\"df-0af5d0d6-7b7f-4ad8-9526-65ab9eb46e52\">\n",
              "    <div class=\"colab-df-container\">\n",
              "      <div>\n",
              "<style scoped>\n",
              "    .dataframe tbody tr th:only-of-type {\n",
              "        vertical-align: middle;\n",
              "    }\n",
              "\n",
              "    .dataframe tbody tr th {\n",
              "        vertical-align: top;\n",
              "    }\n",
              "\n",
              "    .dataframe thead th {\n",
              "        text-align: right;\n",
              "    }\n",
              "</style>\n",
              "<table border=\"1\" class=\"dataframe\">\n",
              "  <thead>\n",
              "    <tr style=\"text-align: right;\">\n",
              "      <th></th>\n",
              "      <th>County</th>\n",
              "      <th>Unemployment2021</th>\n",
              "      <th>PercentageChange</th>\n",
              "      <th>ID</th>\n",
              "      <th>C_Zip</th>\n",
              "      <th>_merge</th>\n",
              "    </tr>\n",
              "  </thead>\n",
              "  <tbody>\n",
              "    <tr>\n",
              "      <th>995</th>\n",
              "      <td>Passaic</td>\n",
              "      <td>NaN</td>\n",
              "      <td>NaN</td>\n",
              "      <td>917.0</td>\n",
              "      <td>07055</td>\n",
              "      <td>right_only</td>\n",
              "    </tr>\n",
              "    <tr>\n",
              "      <th>996</th>\n",
              "      <td>Passaic</td>\n",
              "      <td>NaN</td>\n",
              "      <td>NaN</td>\n",
              "      <td>919.0</td>\n",
              "      <td>07011</td>\n",
              "      <td>right_only</td>\n",
              "    </tr>\n",
              "    <tr>\n",
              "      <th>997</th>\n",
              "      <td>Passaic</td>\n",
              "      <td>NaN</td>\n",
              "      <td>NaN</td>\n",
              "      <td>986.0</td>\n",
              "      <td>07011</td>\n",
              "      <td>right_only</td>\n",
              "    </tr>\n",
              "    <tr>\n",
              "      <th>998</th>\n",
              "      <td>Passaic</td>\n",
              "      <td>NaN</td>\n",
              "      <td>NaN</td>\n",
              "      <td>1149.0</td>\n",
              "      <td>07442</td>\n",
              "      <td>right_only</td>\n",
              "    </tr>\n",
              "    <tr>\n",
              "      <th>999</th>\n",
              "      <td>Passaic</td>\n",
              "      <td>NaN</td>\n",
              "      <td>NaN</td>\n",
              "      <td>1149.0</td>\n",
              "      <td>07442</td>\n",
              "      <td>right_only</td>\n",
              "    </tr>\n",
              "  </tbody>\n",
              "</table>\n",
              "</div>\n",
              "      <button class=\"colab-df-convert\" onclick=\"convertToInteractive('df-0af5d0d6-7b7f-4ad8-9526-65ab9eb46e52')\"\n",
              "              title=\"Convert this dataframe to an interactive table.\"\n",
              "              style=\"display:none;\">\n",
              "        \n",
              "  <svg xmlns=\"http://www.w3.org/2000/svg\" height=\"24px\"viewBox=\"0 0 24 24\"\n",
              "       width=\"24px\">\n",
              "    <path d=\"M0 0h24v24H0V0z\" fill=\"none\"/>\n",
              "    <path d=\"M18.56 5.44l.94 2.06.94-2.06 2.06-.94-2.06-.94-.94-2.06-.94 2.06-2.06.94zm-11 1L8.5 8.5l.94-2.06 2.06-.94-2.06-.94L8.5 2.5l-.94 2.06-2.06.94zm10 10l.94 2.06.94-2.06 2.06-.94-2.06-.94-.94-2.06-.94 2.06-2.06.94z\"/><path d=\"M17.41 7.96l-1.37-1.37c-.4-.4-.92-.59-1.43-.59-.52 0-1.04.2-1.43.59L10.3 9.45l-7.72 7.72c-.78.78-.78 2.05 0 2.83L4 21.41c.39.39.9.59 1.41.59.51 0 1.02-.2 1.41-.59l7.78-7.78 2.81-2.81c.8-.78.8-2.07 0-2.86zM5.41 20L4 18.59l7.72-7.72 1.47 1.35L5.41 20z\"/>\n",
              "  </svg>\n",
              "      </button>\n",
              "      \n",
              "  <style>\n",
              "    .colab-df-container {\n",
              "      display:flex;\n",
              "      flex-wrap:wrap;\n",
              "      gap: 12px;\n",
              "    }\n",
              "\n",
              "    .colab-df-convert {\n",
              "      background-color: #E8F0FE;\n",
              "      border: none;\n",
              "      border-radius: 50%;\n",
              "      cursor: pointer;\n",
              "      display: none;\n",
              "      fill: #1967D2;\n",
              "      height: 32px;\n",
              "      padding: 0 0 0 0;\n",
              "      width: 32px;\n",
              "    }\n",
              "\n",
              "    .colab-df-convert:hover {\n",
              "      background-color: #E2EBFA;\n",
              "      box-shadow: 0px 1px 2px rgba(60, 64, 67, 0.3), 0px 1px 3px 1px rgba(60, 64, 67, 0.15);\n",
              "      fill: #174EA6;\n",
              "    }\n",
              "\n",
              "    [theme=dark] .colab-df-convert {\n",
              "      background-color: #3B4455;\n",
              "      fill: #D2E3FC;\n",
              "    }\n",
              "\n",
              "    [theme=dark] .colab-df-convert:hover {\n",
              "      background-color: #434B5C;\n",
              "      box-shadow: 0px 1px 3px 1px rgba(0, 0, 0, 0.15);\n",
              "      filter: drop-shadow(0px 1px 2px rgba(0, 0, 0, 0.3));\n",
              "      fill: #FFFFFF;\n",
              "    }\n",
              "  </style>\n",
              "\n",
              "      <script>\n",
              "        const buttonEl =\n",
              "          document.querySelector('#df-0af5d0d6-7b7f-4ad8-9526-65ab9eb46e52 button.colab-df-convert');\n",
              "        buttonEl.style.display =\n",
              "          google.colab.kernel.accessAllowed ? 'block' : 'none';\n",
              "\n",
              "        async function convertToInteractive(key) {\n",
              "          const element = document.querySelector('#df-0af5d0d6-7b7f-4ad8-9526-65ab9eb46e52');\n",
              "          const dataTable =\n",
              "            await google.colab.kernel.invokeFunction('convertToInteractive',\n",
              "                                                     [key], {});\n",
              "          if (!dataTable) return;\n",
              "\n",
              "          const docLinkHtml = 'Like what you see? Visit the ' +\n",
              "            '<a target=\"_blank\" href=https://colab.research.google.com/notebooks/data_table.ipynb>data table notebook</a>'\n",
              "            + ' to learn more about interactive tables.';\n",
              "          element.innerHTML = '';\n",
              "          dataTable['output_type'] = 'display_data';\n",
              "          await google.colab.output.renderOutput(dataTable, element);\n",
              "          const docLink = document.createElement('div');\n",
              "          docLink.innerHTML = docLinkHtml;\n",
              "          element.appendChild(docLink);\n",
              "        }\n",
              "      </script>\n",
              "    </div>\n",
              "  </div>\n",
              "  "
            ]
          },
          "metadata": {},
          "execution_count": 115
        }
      ]
    },
    {
      "cell_type": "code",
      "source": [
        "finalmerge._merge.value_counts()"
      ],
      "metadata": {
        "colab": {
          "base_uri": "https://localhost:8080/"
        },
        "id": "90Vr-1ZV5nfD",
        "outputId": "5e5b658a-dcb4-4cdc-9285-48cb31a6090c"
      },
      "execution_count": 116,
      "outputs": [
        {
          "output_type": "execute_result",
          "data": {
            "text/plain": [
              "right_only    979\n",
              "left_only      21\n",
              "both            0\n",
              "Name: _merge, dtype: int64"
            ]
          },
          "metadata": {},
          "execution_count": 116
        }
      ]
    },
    {
      "cell_type": "code",
      "source": [
        "p_table = pd.pivot_table(finalmerge, index=['County'], aggfunc= {'County': 'count', 'Unemployment2021': 'mean', 'PercentageChange': 'mean'})\n",
        "print(p_table)"
      ],
      "metadata": {
        "colab": {
          "base_uri": "https://localhost:8080/"
        },
        "id": "HKuAgwGNrtJm",
        "outputId": "8d89bd8e-828e-45fa-ca36-bd2abbde1eb5"
      },
      "execution_count": 117,
      "outputs": [
        {
          "output_type": "stream",
          "name": "stdout",
          "text": [
            "             County  PercentageChange  Unemployment2021\n",
            "County                                                 \n",
            "Atlantic         39               NaN               NaN\n",
            "Atlantic          1        -55.000000              10.8\n",
            "Bergen           16               NaN               NaN\n",
            "Bergen            1        -47.517730               7.4\n",
            "Burlington      200               NaN               NaN\n",
            "Burlington        1        -44.067797               6.6\n",
            "Camden          326               NaN               NaN\n",
            "Camden            1        -40.425532               8.4\n",
            "Cape May         31               NaN               NaN\n",
            "Cape May          1        -55.333333               6.7\n",
            "Cumberland        8               NaN               NaN\n",
            "Cumberland        1        -36.301370               9.3\n",
            "Essex            26               NaN               NaN\n",
            "Essex             1        -42.771084               9.5\n",
            "Gloucester       87               NaN               NaN\n",
            "Gloucester        1        -42.307692               7.5\n",
            "Hudson           15               NaN               NaN\n",
            "Hudson            1        -47.133758               8.3\n",
            "Hunterdon         6               NaN               NaN\n",
            "Hunterdon         1        -47.115385               5.5\n",
            "Mercer           26               NaN               NaN\n",
            "Mercer            1        -43.119266               6.2\n",
            "Middlesex        30               NaN               NaN\n",
            "Middlesex         1        -46.093750               6.9\n",
            "Monmouth         47               NaN               NaN\n",
            "Monmouth          1        -47.619048               6.6\n",
            "Morris           13               NaN               NaN\n",
            "Morris            1        -46.428571               6.0\n",
            "Ocean            28               NaN               NaN\n",
            "Ocean             1        -46.969697               7.0\n",
            "Passaic          10               NaN               NaN\n",
            "Passaic           1        -43.820225              10.0\n",
            "Salem             4               NaN               NaN\n",
            "Salem             1        -34.090909               8.7\n",
            "Somerset         43               NaN               NaN\n",
            "Somerset          1        -46.017699               6.1\n",
            "Sussex            1               NaN               NaN\n",
            "Sussex            1        -45.384615               7.1\n",
            "Union            15               NaN               NaN\n",
            "Union             1        -43.262411               8.0\n",
            "Warren            8               NaN               NaN\n",
            "Warren            1        -40.517241               6.9\n"
          ]
        }
      ]
    },
    {
      "cell_type": "code",
      "source": [
        "fig, ax = plt.subplots(figsize=(10, 6))\n",
        "p_table.plot.scatter(x='Unemployment2021', y='County',c='PercentageChange', s=100,alpha=0.7,edgecolors=\"red\",ax=ax) \n",
        "plt.title(\"Relationship Between Graduate Applications, Unemployment in 2021 and the Year over Year Change in Unemployment\");\n",
        "#aok: no, y axis, county variable doesnt make sense"
      ],
      "metadata": {
        "colab": {
          "base_uri": "https://localhost:8080/",
          "height": 404
        },
        "id": "-X4kV2YcuxIx",
        "outputId": "41bbd88f-78c7-4ff0-ccb2-06f0fca7f7b2"
      },
      "execution_count": 118,
      "outputs": [
        {
          "output_type": "display_data",
          "data": {
            "text/plain": [
              "<Figure size 720x432 with 2 Axes>"
            ],
            "image/png": "[encoded data removed]"
          },
          "metadata": {
            "needs_background": "light"
          }
        }
      ]
    },
    {
      "cell_type": "code",
      "source": [
        "corrM = p_table.corr().round(2) #aok round up\n",
        "corrM"
      ],
      "metadata": {
        "colab": {
          "base_uri": "https://localhost:8080/",
          "height": 143
        },
        "id": "n8xxlx627QDM",
        "outputId": "db7621ce-19af-47f8-8a6c-570a53c2b804"
      },
      "execution_count": 120,
      "outputs": [
        {
          "output_type": "execute_result",
          "data": {
            "text/plain": [
              "                  County  PercentageChange  Unemployment2021\n",
              "County               1.0               NaN               NaN\n",
              "PercentageChange     NaN              1.00              0.15\n",
              "Unemployment2021     NaN              0.15              1.00"
            ],
            "text/html": [
              "\n",
              "  <div id=\"df-7da18eb9-19e9-48d0-959e-afbdd6b8391a\">\n",
              "    <div class=\"colab-df-container\">\n",
              "      <div>\n",
              "<style scoped>\n",
              "    .dataframe tbody tr th:only-of-type {\n",
              "        vertical-align: middle;\n",
              "    }\n",
              "\n",
              "    .dataframe tbody tr th {\n",
              "        vertical-align: top;\n",
              "    }\n",
              "\n",
              "    .dataframe thead th {\n",
              "        text-align: right;\n",
              "    }\n",
              "</style>\n",
              "<table border=\"1\" class=\"dataframe\">\n",
              "  <thead>\n",
              "    <tr style=\"text-align: right;\">\n",
              "      <th></th>\n",
              "      <th>County</th>\n",
              "      <th>PercentageChange</th>\n",
              "      <th>Unemployment2021</th>\n",
              "    </tr>\n",
              "  </thead>\n",
              "  <tbody>\n",
              "    <tr>\n",
              "      <th>County</th>\n",
              "      <td>1.0</td>\n",
              "      <td>NaN</td>\n",
              "      <td>NaN</td>\n",
              "    </tr>\n",
              "    <tr>\n",
              "      <th>PercentageChange</th>\n",
              "      <td>NaN</td>\n",
              "      <td>1.00</td>\n",
              "      <td>0.15</td>\n",
              "    </tr>\n",
              "    <tr>\n",
              "      <th>Unemployment2021</th>\n",
              "      <td>NaN</td>\n",
              "      <td>0.15</td>\n",
              "      <td>1.00</td>\n",
              "    </tr>\n",
              "  </tbody>\n",
              "</table>\n",
              "</div>\n",
              "      <button class=\"colab-df-convert\" onclick=\"convertToInteractive('df-7da18eb9-19e9-48d0-959e-afbdd6b8391a')\"\n",
              "              title=\"Convert this dataframe to an interactive table.\"\n",
              "              style=\"display:none;\">\n",
              "        \n",
              "  <svg xmlns=\"http://www.w3.org/2000/svg\" height=\"24px\"viewBox=\"0 0 24 24\"\n",
              "       width=\"24px\">\n",
              "    <path d=\"M0 0h24v24H0V0z\" fill=\"none\"/>\n",
              "    <path d=\"M18.56 5.44l.94 2.06.94-2.06 2.06-.94-2.06-.94-.94-2.06-.94 2.06-2.06.94zm-11 1L8.5 8.5l.94-2.06 2.06-.94-2.06-.94L8.5 2.5l-.94 2.06-2.06.94zm10 10l.94 2.06.94-2.06 2.06-.94-2.06-.94-.94-2.06-.94 2.06-2.06.94z\"/><path d=\"M17.41 7.96l-1.37-1.37c-.4-.4-.92-.59-1.43-.59-.52 0-1.04.2-1.43.59L10.3 9.45l-7.72 7.72c-.78.78-.78 2.05 0 2.83L4 21.41c.39.39.9.59 1.41.59.51 0 1.02-.2 1.41-.59l7.78-7.78 2.81-2.81c.8-.78.8-2.07 0-2.86zM5.41 20L4 18.59l7.72-7.72 1.47 1.35L5.41 20z\"/>\n",
              "  </svg>\n",
              "      </button>\n",
              "      \n",
              "  <style>\n",
              "    .colab-df-container {\n",
              "      display:flex;\n",
              "      flex-wrap:wrap;\n",
              "      gap: 12px;\n",
              "    }\n",
              "\n",
              "    .colab-df-convert {\n",
              "      background-color: #E8F0FE;\n",
              "      border: none;\n",
              "      border-radius: 50%;\n",
              "      cursor: pointer;\n",
              "      display: none;\n",
              "      fill: #1967D2;\n",
              "      height: 32px;\n",
              "      padding: 0 0 0 0;\n",
              "      width: 32px;\n",
              "    }\n",
              "\n",
              "    .colab-df-convert:hover {\n",
              "      background-color: #E2EBFA;\n",
              "      box-shadow: 0px 1px 2px rgba(60, 64, 67, 0.3), 0px 1px 3px 1px rgba(60, 64, 67, 0.15);\n",
              "      fill: #174EA6;\n",
              "    }\n",
              "\n",
              "    [theme=dark] .colab-df-convert {\n",
              "      background-color: #3B4455;\n",
              "      fill: #D2E3FC;\n",
              "    }\n",
              "\n",
              "    [theme=dark] .colab-df-convert:hover {\n",
              "      background-color: #434B5C;\n",
              "      box-shadow: 0px 1px 3px 1px rgba(0, 0, 0, 0.15);\n",
              "      filter: drop-shadow(0px 1px 2px rgba(0, 0, 0, 0.3));\n",
              "      fill: #FFFFFF;\n",
              "    }\n",
              "  </style>\n",
              "\n",
              "      <script>\n",
              "        const buttonEl =\n",
              "          document.querySelector('#df-7da18eb9-19e9-48d0-959e-afbdd6b8391a button.colab-df-convert');\n",
              "        buttonEl.style.display =\n",
              "          google.colab.kernel.accessAllowed ? 'block' : 'none';\n",
              "\n",
              "        async function convertToInteractive(key) {\n",
              "          const element = document.querySelector('#df-7da18eb9-19e9-48d0-959e-afbdd6b8391a');\n",
              "          const dataTable =\n",
              "            await google.colab.kernel.invokeFunction('convertToInteractive',\n",
              "                                                     [key], {});\n",
              "          if (!dataTable) return;\n",
              "\n",
              "          const docLinkHtml = 'Like what you see? Visit the ' +\n",
              "            '<a target=\"_blank\" href=https://colab.research.google.com/notebooks/data_table.ipynb>data table notebook</a>'\n",
              "            + ' to learn more about interactive tables.';\n",
              "          element.innerHTML = '';\n",
              "          dataTable['output_type'] = 'display_data';\n",
              "          await google.colab.output.renderOutput(dataTable, element);\n",
              "          const docLink = document.createElement('div');\n",
              "          docLink.innerHTML = docLinkHtml;\n",
              "          element.appendChild(docLink);\n",
              "        }\n",
              "      </script>\n",
              "    </div>\n",
              "  </div>\n",
              "  "
            ]
          },
          "metadata": {},
          "execution_count": 120
        }
      ]
    },
    {
      "cell_type": "code",
      "source": [
        "p_table.describe().round(2) #round up too"
      ],
      "metadata": {
        "id": "hu0W5uzg9RZV",
        "outputId": "f6c5141a-fa14-42ae-8bf3-695b262a0418",
        "colab": {
          "base_uri": "https://localhost:8080/",
          "height": 300
        }
      },
      "execution_count": 121,
      "outputs": [
        {
          "output_type": "execute_result",
          "data": {
            "text/plain": [
              "       County  PercentageChange  Unemployment2021\n",
              "count   42.00             21.00             21.00\n",
              "mean    23.81            -44.82              7.60\n",
              "std     58.60              4.97              1.43\n",
              "min      1.00            -55.33              5.50\n",
              "25%      1.00            -47.12              6.60\n",
              "50%      1.00            -45.38              7.10\n",
              "75%     23.50            -42.77              8.40\n",
              "max    326.00            -34.09             10.80"
            ],
            "text/html": [
              "\n",
              "  <div id=\"df-c838422d-fd07-4bf4-9133-89c03f2dfe60\">\n",
              "    <div class=\"colab-df-container\">\n",
              "      <div>\n",
              "<style scoped>\n",
              "    .dataframe tbody tr th:only-of-type {\n",
              "        vertical-align: middle;\n",
              "    }\n",
              "\n",
              "    .dataframe tbody tr th {\n",
              "        vertical-align: top;\n",
              "    }\n",
              "\n",
              "    .dataframe thead th {\n",
              "        text-align: right;\n",
              "    }\n",
              "</style>\n",
              "<table border=\"1\" class=\"dataframe\">\n",
              "  <thead>\n",
              "    <tr style=\"text-align: right;\">\n",
              "      <th></th>\n",
              "      <th>County</th>\n",
              "      <th>PercentageChange</th>\n",
              "      <th>Unemployment2021</th>\n",
              "    </tr>\n",
              "  </thead>\n",
              "  <tbody>\n",
              "    <tr>\n",
              "      <th>count</th>\n",
              "      <td>42.00</td>\n",
              "      <td>21.00</td>\n",
              "      <td>21.00</td>\n",
              "    </tr>\n",
              "    <tr>\n",
              "      <th>mean</th>\n",
              "      <td>23.81</td>\n",
              "      <td>-44.82</td>\n",
              "      <td>7.60</td>\n",
              "    </tr>\n",
              "    <tr>\n",
              "      <th>std</th>\n",
              "      <td>58.60</td>\n",
              "      <td>4.97</td>\n",
              "      <td>1.43</td>\n",
              "    </tr>\n",
              "    <tr>\n",
              "      <th>min</th>\n",
              "      <td>1.00</td>\n",
              "      <td>-55.33</td>\n",
              "      <td>5.50</td>\n",
              "    </tr>\n",
              "    <tr>\n",
              "      <th>25%</th>\n",
              "      <td>1.00</td>\n",
              "      <td>-47.12</td>\n",
              "      <td>6.60</td>\n",
              "    </tr>\n",
              "    <tr>\n",
              "      <th>50%</th>\n",
              "      <td>1.00</td>\n",
              "      <td>-45.38</td>\n",
              "      <td>7.10</td>\n",
              "    </tr>\n",
              "    <tr>\n",
              "      <th>75%</th>\n",
              "      <td>23.50</td>\n",
              "      <td>-42.77</td>\n",
              "      <td>8.40</td>\n",
              "    </tr>\n",
              "    <tr>\n",
              "      <th>max</th>\n",
              "      <td>326.00</td>\n",
              "      <td>-34.09</td>\n",
              "      <td>10.80</td>\n",
              "    </tr>\n",
              "  </tbody>\n",
              "</table>\n",
              "</div>\n",
              "      <button class=\"colab-df-convert\" onclick=\"convertToInteractive('df-c838422d-fd07-4bf4-9133-89c03f2dfe60')\"\n",
              "              title=\"Convert this dataframe to an interactive table.\"\n",
              "              style=\"display:none;\">\n",
              "        \n",
              "  <svg xmlns=\"http://www.w3.org/2000/svg\" height=\"24px\"viewBox=\"0 0 24 24\"\n",
              "       width=\"24px\">\n",
              "    <path d=\"M0 0h24v24H0V0z\" fill=\"none\"/>\n",
              "    <path d=\"M18.56 5.44l.94 2.06.94-2.06 2.06-.94-2.06-.94-.94-2.06-.94 2.06-2.06.94zm-11 1L8.5 8.5l.94-2.06 2.06-.94-2.06-.94L8.5 2.5l-.94 2.06-2.06.94zm10 10l.94 2.06.94-2.06 2.06-.94-2.06-.94-.94-2.06-.94 2.06-2.06.94z\"/><path d=\"M17.41 7.96l-1.37-1.37c-.4-.4-.92-.59-1.43-.59-.52 0-1.04.2-1.43.59L10.3 9.45l-7.72 7.72c-.78.78-.78 2.05 0 2.83L4 21.41c.39.39.9.59 1.41.59.51 0 1.02-.2 1.41-.59l7.78-7.78 2.81-2.81c.8-.78.8-2.07 0-2.86zM5.41 20L4 18.59l7.72-7.72 1.47 1.35L5.41 20z\"/>\n",
              "  </svg>\n",
              "      </button>\n",
              "      \n",
              "  <style>\n",
              "    .colab-df-container {\n",
              "      display:flex;\n",
              "      flex-wrap:wrap;\n",
              "      gap: 12px;\n",
              "    }\n",
              "\n",
              "    .colab-df-convert {\n",
              "      background-color: #E8F0FE;\n",
              "      border: none;\n",
              "      border-radius: 50%;\n",
              "      cursor: pointer;\n",
              "      display: none;\n",
              "      fill: #1967D2;\n",
              "      height: 32px;\n",
              "      padding: 0 0 0 0;\n",
              "      width: 32px;\n",
              "    }\n",
              "\n",
              "    .colab-df-convert:hover {\n",
              "      background-color: #E2EBFA;\n",
              "      box-shadow: 0px 1px 2px rgba(60, 64, 67, 0.3), 0px 1px 3px 1px rgba(60, 64, 67, 0.15);\n",
              "      fill: #174EA6;\n",
              "    }\n",
              "\n",
              "    [theme=dark] .colab-df-convert {\n",
              "      background-color: #3B4455;\n",
              "      fill: #D2E3FC;\n",
              "    }\n",
              "\n",
              "    [theme=dark] .colab-df-convert:hover {\n",
              "      background-color: #434B5C;\n",
              "      box-shadow: 0px 1px 3px 1px rgba(0, 0, 0, 0.15);\n",
              "      filter: drop-shadow(0px 1px 2px rgba(0, 0, 0, 0.3));\n",
              "      fill: #FFFFFF;\n",
              "    }\n",
              "  </style>\n",
              "\n",
              "      <script>\n",
              "        const buttonEl =\n",
              "          document.querySelector('#df-c838422d-fd07-4bf4-9133-89c03f2dfe60 button.colab-df-convert');\n",
              "        buttonEl.style.display =\n",
              "          google.colab.kernel.accessAllowed ? 'block' : 'none';\n",
              "\n",
              "        async function convertToInteractive(key) {\n",
              "          const element = document.querySelector('#df-c838422d-fd07-4bf4-9133-89c03f2dfe60');\n",
              "          const dataTable =\n",
              "            await google.colab.kernel.invokeFunction('convertToInteractive',\n",
              "                                                     [key], {});\n",
              "          if (!dataTable) return;\n",
              "\n",
              "          const docLinkHtml = 'Like what you see? Visit the ' +\n",
              "            '<a target=\"_blank\" href=https://colab.research.google.com/notebooks/data_table.ipynb>data table notebook</a>'\n",
              "            + ' to learn more about interactive tables.';\n",
              "          element.innerHTML = '';\n",
              "          dataTable['output_type'] = 'display_data';\n",
              "          await google.colab.output.renderOutput(dataTable, element);\n",
              "          const docLink = document.createElement('div');\n",
              "          docLink.innerHTML = docLinkHtml;\n",
              "          element.appendChild(docLink);\n",
              "        }\n",
              "      </script>\n",
              "    </div>\n",
              "  </div>\n",
              "  "
            ]
          },
          "metadata": {},
          "execution_count": 121
        }
      ]
    },
    {
      "cell_type": "markdown",
      "source": [
        "From this file, I would be interested in running analysis to determine if there was a relationship between unemployment rate, percentage change and the number of applicants. \n",
        "\n",
        "My hypothesis is that the data as it is now will be skewed by the enormous number of applicants from Camden and Burlington counties, thus the weak correlation between the number of applications and the Unemployment rate and the change in unemployment rate. As I mentoned earlier, these data points alone would be insufficient. \n",
        "\n",
        "**A surprising discovery: I didn't think there were so many applicants from the surrounding cities, even when considering the Rutgers undergraduate pool.**\n",
        "\n",
        "aok: then maybe could advertise there :)"
      ],
      "metadata": {
        "id": "wIiJ1q2evguT"
      }
    }
  ]
}