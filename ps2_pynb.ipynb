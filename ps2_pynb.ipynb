{
  "nbformat": 4,
  "nbformat_minor": 0,
  "metadata": {
    "colab": {
      "provenance": [],
      "include_colab_link": true
    },
    "kernelspec": {
      "name": "python3",
      "display_name": "Python 3"
    },
    "language_info": {
      "name": "python"
    }
  },
  "cells": [
    {
      "cell_type": "markdown",
      "metadata": {
        "id": "view-in-github",
        "colab_type": "text"
      },
      "source": [
        "<a href=\"https://colab.research.google.com/github/ewattudo/vis1/blob/main/ps2_pynb.ipynb\" target=\"_parent\"><img src=\"https://colab.research.google.com/assets/colab-badge.svg\" alt=\"Open In Colab\"/></a>"
      ]
    },
    {
      "cell_type": "markdown",
      "source": [
        "# PS2 Manipulating Data and Merging - Erick Watt-Udogu "
      ],
      "metadata": {
        "id": "PDpLwK64jwOn"
      }
    },
    {
      "cell_type": "markdown",
      "source": [
        "## **Import: Code**\n",
        "\n",
        "This section includes import code. "
      ],
      "metadata": {
        "id": "9eTB845YlVG8"
      }
    },
    {
      "cell_type": "code",
      "execution_count": 1,
      "metadata": {
        "colab": {
          "base_uri": "https://localhost:8080/"
        },
        "id": "dASOwigzjlSH",
        "outputId": "0b56f89b-ca09-421f-8122-022306890684"
      },
      "outputs": [
        {
          "output_type": "stream",
          "name": "stdout",
          "text": [
            "Looking in indexes: https://pypi.org/simple, https://us-python.pkg.dev/colab-wheels/public/simple/\n",
            "Collecting geopandas\n",
            "  Downloading geopandas-0.12.2-py3-none-any.whl (1.1 MB)\n",
            "\u001b[2K     \u001b[90m━━━━━━━━━━━━━━━━━━━━━━━━━━━━━━━━━━━━━━━━\u001b[0m \u001b[32m1.1/1.1 MB\u001b[0m \u001b[31m19.2 MB/s\u001b[0m eta \u001b[36m0:00:00\u001b[0m\n",
            "\u001b[?25hRequirement already satisfied: shapely>=1.7 in /usr/local/lib/python3.8/dist-packages (from geopandas) (2.0.1)\n",
            "Collecting pyproj>=2.6.1.post1\n",
            "  Downloading pyproj-3.4.1-cp38-cp38-manylinux_2_17_x86_64.manylinux2014_x86_64.whl (7.8 MB)\n",
            "\u001b[2K     \u001b[90m━━━━━━━━━━━━━━━━━━━━━━━━━━━━━━━━━━━━━━━━\u001b[0m \u001b[32m7.8/7.8 MB\u001b[0m \u001b[31m35.3 MB/s\u001b[0m eta \u001b[36m0:00:00\u001b[0m\n",
            "\u001b[?25hCollecting fiona>=1.8\n",
            "  Downloading Fiona-1.9.0-cp38-cp38-manylinux_2_17_x86_64.manylinux2014_x86_64.whl (16.9 MB)\n",
            "\u001b[2K     \u001b[90m━━━━━━━━━━━━━━━━━━━━━━━━━━━━━━━━━━━━━━━━\u001b[0m \u001b[32m16.9/16.9 MB\u001b[0m \u001b[31m26.6 MB/s\u001b[0m eta \u001b[36m0:00:00\u001b[0m\n",
            "\u001b[?25hRequirement already satisfied: pandas>=1.0.0 in /usr/local/lib/python3.8/dist-packages (from geopandas) (1.3.5)\n",
            "Requirement already satisfied: packaging in /usr/local/lib/python3.8/dist-packages (from geopandas) (23.0)\n",
            "Requirement already satisfied: certifi in /usr/local/lib/python3.8/dist-packages (from fiona>=1.8->geopandas) (2022.12.7)\n",
            "Collecting click-plugins>=1.0\n",
            "  Downloading click_plugins-1.1.1-py2.py3-none-any.whl (7.5 kB)\n",
            "Requirement already satisfied: attrs>=19.2.0 in /usr/local/lib/python3.8/dist-packages (from fiona>=1.8->geopandas) (22.2.0)\n",
            "Collecting munch>=2.3.2\n",
            "  Downloading munch-2.5.0-py2.py3-none-any.whl (10 kB)\n",
            "Collecting click~=8.0\n",
            "  Downloading click-8.1.3-py3-none-any.whl (96 kB)\n",
            "\u001b[2K     \u001b[90m━━━━━━━━━━━━━━━━━━━━━━━━━━━━━━━━━━━━━━━━\u001b[0m \u001b[32m96.6/96.6 KB\u001b[0m \u001b[31m5.2 MB/s\u001b[0m eta \u001b[36m0:00:00\u001b[0m\n",
            "\u001b[?25hCollecting cligj>=0.5\n",
            "  Downloading cligj-0.7.2-py3-none-any.whl (7.1 kB)\n",
            "Requirement already satisfied: python-dateutil>=2.7.3 in /usr/local/lib/python3.8/dist-packages (from pandas>=1.0.0->geopandas) (2.8.2)\n",
            "Requirement already satisfied: numpy>=1.17.3 in /usr/local/lib/python3.8/dist-packages (from pandas>=1.0.0->geopandas) (1.21.6)\n",
            "Requirement already satisfied: pytz>=2017.3 in /usr/local/lib/python3.8/dist-packages (from pandas>=1.0.0->geopandas) (2022.7.1)\n",
            "Requirement already satisfied: six in /usr/local/lib/python3.8/dist-packages (from munch>=2.3.2->fiona>=1.8->geopandas) (1.15.0)\n",
            "Installing collected packages: pyproj, munch, click, cligj, click-plugins, fiona, geopandas\n",
            "  Attempting uninstall: click\n",
            "    Found existing installation: click 7.1.2\n",
            "    Uninstalling click-7.1.2:\n",
            "      Successfully uninstalled click-7.1.2\n",
            "\u001b[31mERROR: pip's dependency resolver does not currently take into account all the packages that are installed. This behaviour is the source of the following dependency conflicts.\n",
            "flask 1.1.4 requires click<8.0,>=5.1, but you have click 8.1.3 which is incompatible.\u001b[0m\u001b[31m\n",
            "\u001b[0mSuccessfully installed click-8.1.3 click-plugins-1.1.1 cligj-0.7.2 fiona-1.9.0 geopandas-0.12.2 munch-2.5.0 pyproj-3.4.1\n"
          ]
        }
      ],
      "source": [
        "import os, sys, re #basics\n",
        "import zipfile, json, datetime, string   #string for annotating points in scatter \n",
        "import numpy as np\n",
        "from statistics import *\n",
        "\n",
        "import pylab as plt\n",
        "import pandas as pd\n",
        "import pandas_datareader as pdr\n",
        "from pandas_datareader import wb\n",
        "from pandas.io.formats.style import Styler\n",
        "#s4 = Styler(df4, uuid_len=0, cell_ids=False)\n",
        "\n",
        "\n",
        "import urllib  #weird, guess need to have os and pandas imported for this to work                                                  \n",
        "                                                                          \n",
        "import webbrowser                                                                      \n",
        "import folium as f                                                                     \n",
        "from folium.plugins import MarkerCluster, HeatMap                                      \n",
        "\n",
        "#! pip install geocoder #]later maybe\n",
        "! pip install geopandas #this is how you install packages on colab\n",
        "import geopandas as gpd                                                                                       \n",
        "#from geopy.geocoders import Nominatim #later maybe\n",
        "\n",
        "import seaborn as sns\n",
        "\n",
        "#many tricks how to extend notebook functionality\n",
        "#https://coderzcolumn.com/tutorials/python/list-of-useful-magic-commands-in-jupyter-notebook-lab\n",
        "#will display all output not just last command\n",
        "from IPython.core.interactiveshell import InteractiveShell\n",
        "InteractiveShell.ast_node_interactivity = \"all\""
      ]
    },
    {
      "cell_type": "markdown",
      "source": [
        "## **Import: Data**\n",
        "This section is code for importing data.\n",
        "\n",
        "aok again give url (if possible) and description for all data\n"
      ],
      "metadata": {
        "id": "d5OXCk3rlwcQ"
      }
    },
    {
      "cell_type": "markdown",
      "source": [
        "### Import: Data File 1: Application Data"
      ],
      "metadata": {
        "id": "IjCDGECboWtS"
      }
    },
    {
      "cell_type": "code",
      "source": [
        "urllib.request.urlretrieve(\"https://raw.githubusercontent.com/ewattudo/vis1/main/appdata.csv\", \"appdata\")"
      ],
      "metadata": {
        "colab": {
          "base_uri": "https://localhost:8080/"
        },
        "id": "BXhz3-JcnPs6",
        "outputId": "0066be3f-e62b-437f-be70-5a483f4e34fe"
      },
      "execution_count": 2,
      "outputs": [
        {
          "output_type": "execute_result",
          "data": {
            "text/plain": [
              "('appdata', <http.client.HTTPMessage at 0x7f5ab8a042b0>)"
            ]
          },
          "metadata": {},
          "execution_count": 2
        }
      ]
    },
    {
      "cell_type": "code",
      "source": [
        "os.getcwd() #pwd\n",
        "os.listdir() #compare to clicking on the left the folder icon #dir"
      ],
      "metadata": {
        "colab": {
          "base_uri": "https://localhost:8080/",
          "height": 37
        },
        "id": "I8GjDjV_nak1",
        "outputId": "1f7ee73e-99e0-477d-b8a4-3068e5637d1f"
      },
      "execution_count": 3,
      "outputs": [
        {
          "output_type": "execute_result",
          "data": {
            "text/plain": [
              "'/content'"
            ],
            "application/vnd.google.colaboratory.intrinsic+json": {
              "type": "string"
            }
          },
          "metadata": {},
          "execution_count": 3
        },
        {
          "output_type": "execute_result",
          "data": {
            "text/plain": [
              "['.config', 'appdata', 'sample_data']"
            ]
          },
          "metadata": {},
          "execution_count": 3
        }
      ]
    },
    {
      "cell_type": "code",
      "source": [
        "appdat=pd.read_csv('appdata')"
      ],
      "metadata": {
        "id": "RLMnOHLIndK9"
      },
      "execution_count": 4,
      "outputs": []
    },
    {
      "cell_type": "code",
      "source": [
        "appdat.columns"
      ],
      "metadata": {
        "colab": {
          "base_uri": "https://localhost:8080/"
        },
        "id": "bGMquDe_oIXI",
        "outputId": "c9e78a34-57ca-46bb-f413-38d6aecdb859"
      },
      "execution_count": 5,
      "outputs": [
        {
          "output_type": "execute_result",
          "data": {
            "text/plain": [
              "Index(['ID ', 'Degree Type', 'Final Recommended Decision', 'Admit-Coming',\n",
              "       'Application Created Date', 'Days Before the Beginning of Semester ',\n",
              "       'Domestic or INTL Applicant', 'Reporting Term', 'Age When Applied',\n",
              "       'Mailing Zip/Postal Code', 'Mailing State/Province', 'Mailing Country',\n",
              "       'Most Recent Educational Institution: Account Name', 'Gender', 'Race',\n",
              "       'Program Selection: Program Selection Name', 'Admissions Status'],\n",
              "      dtype='object')"
            ]
          },
          "metadata": {},
          "execution_count": 5
        }
      ]
    },
    {
      "cell_type": "code",
      "source": [
        "appdat.head(3)"
      ],
      "metadata": {
        "colab": {
          "base_uri": "https://localhost:8080/",
          "height": 482
        },
        "id": "RhksXcBCqgNm",
        "outputId": "2c1fe57b-17ed-45d5-d40c-03bd74eab7a3"
      },
      "execution_count": 6,
      "outputs": [
        {
          "output_type": "execute_result",
          "data": {
            "text/plain": [
              "   ID                        Degree Type Final Recommended Decision  \\\n",
              "0    1  Master's (e.g. MA, MS, EdM, MFA)                        NaN   \n",
              "1    2  Master's (e.g. MA, MS, EdM, MFA)                        NaN   \n",
              "2    3  Master's (e.g. MA, MS, EdM, MFA)                        NaN   \n",
              "\n",
              "   Admit-Coming Application Created Date  \\\n",
              "0             0                12/7/2021   \n",
              "1             0                 1/2/2022   \n",
              "2             0                3/15/2022   \n",
              "\n",
              "   Days Before the Beginning of Semester  Domestic or INTL Applicant  \\\n",
              "0                                     273              International   \n",
              "1                                     247              International   \n",
              "2                                     175                   Domestic   \n",
              "\n",
              "  Reporting Term  Age When Applied Mailing Zip/Postal Code  \\\n",
              "0      Fall 2022              23.0                   56407   \n",
              "1      Fall 2022              21.0                  380058   \n",
              "2      Fall 2022              22.0              07009-1245   \n",
              "\n",
              "  Mailing State/Province Mailing Country  \\\n",
              "0              Pradesh 2           Nepal   \n",
              "1                Gujarat           India   \n",
              "2             New Jersey   United States   \n",
              "\n",
              "  Most Recent Educational Institution: Account Name  Gender   Race  \\\n",
              "0                    Vellore Institute Of Technolog    Male  Asian   \n",
              "1                              Ahmedabad University  Female  Asian   \n",
              "2                           Mount Olive High School    Male  Asian   \n",
              "\n",
              "     Program Selection: Program Selection Name Admissions Status  \n",
              "0  Biology: Computational and Integrative (MS)       Started App  \n",
              "1  Biology: Computational and Integrative (MS)       Started App  \n",
              "2  Biology: Computational and Integrative (MS)       Started App  "
            ],
            "text/html": [
              "\n",
              "  <div id=\"df-43fd399a-e558-4f9d-a3c5-6d710771059d\">\n",
              "    <div class=\"colab-df-container\">\n",
              "      <div>\n",
              "<style scoped>\n",
              "    .dataframe tbody tr th:only-of-type {\n",
              "        vertical-align: middle;\n",
              "    }\n",
              "\n",
              "    .dataframe tbody tr th {\n",
              "        vertical-align: top;\n",
              "    }\n",
              "\n",
              "    .dataframe thead th {\n",
              "        text-align: right;\n",
              "    }\n",
              "</style>\n",
              "<table border=\"1\" class=\"dataframe\">\n",
              "  <thead>\n",
              "    <tr style=\"text-align: right;\">\n",
              "      <th></th>\n",
              "      <th>ID</th>\n",
              "      <th>Degree Type</th>\n",
              "      <th>Final Recommended Decision</th>\n",
              "      <th>Admit-Coming</th>\n",
              "      <th>Application Created Date</th>\n",
              "      <th>Days Before the Beginning of Semester</th>\n",
              "      <th>Domestic or INTL Applicant</th>\n",
              "      <th>Reporting Term</th>\n",
              "      <th>Age When Applied</th>\n",
              "      <th>Mailing Zip/Postal Code</th>\n",
              "      <th>Mailing State/Province</th>\n",
              "      <th>Mailing Country</th>\n",
              "      <th>Most Recent Educational Institution: Account Name</th>\n",
              "      <th>Gender</th>\n",
              "      <th>Race</th>\n",
              "      <th>Program Selection: Program Selection Name</th>\n",
              "      <th>Admissions Status</th>\n",
              "    </tr>\n",
              "  </thead>\n",
              "  <tbody>\n",
              "    <tr>\n",
              "      <th>0</th>\n",
              "      <td>1</td>\n",
              "      <td>Master's (e.g. MA, MS, EdM, MFA)</td>\n",
              "      <td>NaN</td>\n",
              "      <td>0</td>\n",
              "      <td>12/7/2021</td>\n",
              "      <td>273</td>\n",
              "      <td>International</td>\n",
              "      <td>Fall 2022</td>\n",
              "      <td>23.0</td>\n",
              "      <td>56407</td>\n",
              "      <td>Pradesh 2</td>\n",
              "      <td>Nepal</td>\n",
              "      <td>Vellore Institute Of Technolog</td>\n",
              "      <td>Male</td>\n",
              "      <td>Asian</td>\n",
              "      <td>Biology: Computational and Integrative (MS)</td>\n",
              "      <td>Started App</td>\n",
              "    </tr>\n",
              "    <tr>\n",
              "      <th>1</th>\n",
              "      <td>2</td>\n",
              "      <td>Master's (e.g. MA, MS, EdM, MFA)</td>\n",
              "      <td>NaN</td>\n",
              "      <td>0</td>\n",
              "      <td>1/2/2022</td>\n",
              "      <td>247</td>\n",
              "      <td>International</td>\n",
              "      <td>Fall 2022</td>\n",
              "      <td>21.0</td>\n",
              "      <td>380058</td>\n",
              "      <td>Gujarat</td>\n",
              "      <td>India</td>\n",
              "      <td>Ahmedabad University</td>\n",
              "      <td>Female</td>\n",
              "      <td>Asian</td>\n",
              "      <td>Biology: Computational and Integrative (MS)</td>\n",
              "      <td>Started App</td>\n",
              "    </tr>\n",
              "    <tr>\n",
              "      <th>2</th>\n",
              "      <td>3</td>\n",
              "      <td>Master's (e.g. MA, MS, EdM, MFA)</td>\n",
              "      <td>NaN</td>\n",
              "      <td>0</td>\n",
              "      <td>3/15/2022</td>\n",
              "      <td>175</td>\n",
              "      <td>Domestic</td>\n",
              "      <td>Fall 2022</td>\n",
              "      <td>22.0</td>\n",
              "      <td>07009-1245</td>\n",
              "      <td>New Jersey</td>\n",
              "      <td>United States</td>\n",
              "      <td>Mount Olive High School</td>\n",
              "      <td>Male</td>\n",
              "      <td>Asian</td>\n",
              "      <td>Biology: Computational and Integrative (MS)</td>\n",
              "      <td>Started App</td>\n",
              "    </tr>\n",
              "  </tbody>\n",
              "</table>\n",
              "</div>\n",
              "      <button class=\"colab-df-convert\" onclick=\"convertToInteractive('df-43fd399a-e558-4f9d-a3c5-6d710771059d')\"\n",
              "              title=\"Convert this dataframe to an interactive table.\"\n",
              "              style=\"display:none;\">\n",
              "        \n",
              "  <svg xmlns=\"http://www.w3.org/2000/svg\" height=\"24px\"viewBox=\"0 0 24 24\"\n",
              "       width=\"24px\">\n",
              "    <path d=\"M0 0h24v24H0V0z\" fill=\"none\"/>\n",
              "    <path d=\"M18.56 5.44l.94 2.06.94-2.06 2.06-.94-2.06-.94-.94-2.06-.94 2.06-2.06.94zm-11 1L8.5 8.5l.94-2.06 2.06-.94-2.06-.94L8.5 2.5l-.94 2.06-2.06.94zm10 10l.94 2.06.94-2.06 2.06-.94-2.06-.94-.94-2.06-.94 2.06-2.06.94z\"/><path d=\"M17.41 7.96l-1.37-1.37c-.4-.4-.92-.59-1.43-.59-.52 0-1.04.2-1.43.59L10.3 9.45l-7.72 7.72c-.78.78-.78 2.05 0 2.83L4 21.41c.39.39.9.59 1.41.59.51 0 1.02-.2 1.41-.59l7.78-7.78 2.81-2.81c.8-.78.8-2.07 0-2.86zM5.41 20L4 18.59l7.72-7.72 1.47 1.35L5.41 20z\"/>\n",
              "  </svg>\n",
              "      </button>\n",
              "      \n",
              "  <style>\n",
              "    .colab-df-container {\n",
              "      display:flex;\n",
              "      flex-wrap:wrap;\n",
              "      gap: 12px;\n",
              "    }\n",
              "\n",
              "    .colab-df-convert {\n",
              "      background-color: #E8F0FE;\n",
              "      border: none;\n",
              "      border-radius: 50%;\n",
              "      cursor: pointer;\n",
              "      display: none;\n",
              "      fill: #1967D2;\n",
              "      height: 32px;\n",
              "      padding: 0 0 0 0;\n",
              "      width: 32px;\n",
              "    }\n",
              "\n",
              "    .colab-df-convert:hover {\n",
              "      background-color: #E2EBFA;\n",
              "      box-shadow: 0px 1px 2px rgba(60, 64, 67, 0.3), 0px 1px 3px 1px rgba(60, 64, 67, 0.15);\n",
              "      fill: #174EA6;\n",
              "    }\n",
              "\n",
              "    [theme=dark] .colab-df-convert {\n",
              "      background-color: #3B4455;\n",
              "      fill: #D2E3FC;\n",
              "    }\n",
              "\n",
              "    [theme=dark] .colab-df-convert:hover {\n",
              "      background-color: #434B5C;\n",
              "      box-shadow: 0px 1px 3px 1px rgba(0, 0, 0, 0.15);\n",
              "      filter: drop-shadow(0px 1px 2px rgba(0, 0, 0, 0.3));\n",
              "      fill: #FFFFFF;\n",
              "    }\n",
              "  </style>\n",
              "\n",
              "      <script>\n",
              "        const buttonEl =\n",
              "          document.querySelector('#df-43fd399a-e558-4f9d-a3c5-6d710771059d button.colab-df-convert');\n",
              "        buttonEl.style.display =\n",
              "          google.colab.kernel.accessAllowed ? 'block' : 'none';\n",
              "\n",
              "        async function convertToInteractive(key) {\n",
              "          const element = document.querySelector('#df-43fd399a-e558-4f9d-a3c5-6d710771059d');\n",
              "          const dataTable =\n",
              "            await google.colab.kernel.invokeFunction('convertToInteractive',\n",
              "                                                     [key], {});\n",
              "          if (!dataTable) return;\n",
              "\n",
              "          const docLinkHtml = 'Like what you see? Visit the ' +\n",
              "            '<a target=\"_blank\" href=https://colab.research.google.com/notebooks/data_table.ipynb>data table notebook</a>'\n",
              "            + ' to learn more about interactive tables.';\n",
              "          element.innerHTML = '';\n",
              "          dataTable['output_type'] = 'display_data';\n",
              "          await google.colab.output.renderOutput(dataTable, element);\n",
              "          const docLink = document.createElement('div');\n",
              "          docLink.innerHTML = docLinkHtml;\n",
              "          element.appendChild(docLink);\n",
              "        }\n",
              "      </script>\n",
              "    </div>\n",
              "  </div>\n",
              "  "
            ]
          },
          "metadata": {},
          "execution_count": 6
        }
      ]
    },
    {
      "cell_type": "code",
      "source": [
        "appdat.dtypes"
      ],
      "metadata": {
        "colab": {
          "base_uri": "https://localhost:8080/"
        },
        "id": "pz-JiHB4FPUA",
        "outputId": "0dbb9d08-e1c3-4d83-ee2b-59a46ed9a93b"
      },
      "execution_count": 7,
      "outputs": [
        {
          "output_type": "execute_result",
          "data": {
            "text/plain": [
              "ID                                                     int64\n",
              "Degree Type                                           object\n",
              "Final Recommended Decision                            object\n",
              "Admit-Coming                                           int64\n",
              "Application Created Date                              object\n",
              "Days Before the Beginning of Semester                  int64\n",
              "Domestic or INTL Applicant                            object\n",
              "Reporting Term                                        object\n",
              "Age When Applied                                     float64\n",
              "Mailing Zip/Postal Code                               object\n",
              "Mailing State/Province                                object\n",
              "Mailing Country                                       object\n",
              "Most Recent Educational Institution: Account Name     object\n",
              "Gender                                                object\n",
              "Race                                                  object\n",
              "Program Selection: Program Selection Name             object\n",
              "Admissions Status                                     object\n",
              "dtype: object"
            ]
          },
          "metadata": {},
          "execution_count": 7
        }
      ]
    },
    {
      "cell_type": "code",
      "source": [
        "appdat = appdat.drop(['Degree Type','Domestic or INTL Applicant','Age When Applied'],axis=1)"
      ],
      "metadata": {
        "id": "DV5JJKD3IjsN"
      },
      "execution_count": 8,
      "outputs": []
    },
    {
      "cell_type": "code",
      "source": [
        "appdat.head(3)"
      ],
      "metadata": {
        "colab": {
          "base_uri": "https://localhost:8080/",
          "height": 291
        },
        "id": "tcJgUs3JJIIo",
        "outputId": "46bb5931-dd95-4a4b-a7a3-0f945e1c7e15"
      },
      "execution_count": null,
      "outputs": [
        {
          "output_type": "execute_result",
          "data": {
            "text/plain": [
              "   ID  Final Recommended Decision  Admit-Coming Application Created Date  \\\n",
              "0    1                        NaN             0                12/7/2021   \n",
              "1    2                        NaN             0                 1/2/2022   \n",
              "2    3                        NaN             0                3/15/2022   \n",
              "\n",
              "   Days Before the Beginning of Semester  Reporting Term  \\\n",
              "0                                     273      Fall 2022   \n",
              "1                                     247      Fall 2022   \n",
              "2                                     175      Fall 2022   \n",
              "\n",
              "  Mailing Zip/Postal Code Mailing State/Province Mailing Country  \\\n",
              "0                   56407              Pradesh 2           Nepal   \n",
              "1                  380058                Gujarat           India   \n",
              "2              07009-1245             New Jersey   United States   \n",
              "\n",
              "  Most Recent Educational Institution: Account Name  Gender   Race  \\\n",
              "0                    Vellore Institute Of Technolog    Male  Asian   \n",
              "1                              Ahmedabad University  Female  Asian   \n",
              "2                           Mount Olive High School    Male  Asian   \n",
              "\n",
              "     Program Selection: Program Selection Name  \n",
              "0  Biology: Computational and Integrative (MS)  \n",
              "1  Biology: Computational and Integrative (MS)  \n",
              "2  Biology: Computational and Integrative (MS)  "
            ],
            "text/html": [
              "\n",
              "  <div id=\"df-be2753d9-81fd-4eac-aced-31e88162c32d\">\n",
              "    <div class=\"colab-df-container\">\n",
              "      <div>\n",
              "<style scoped>\n",
              "    .dataframe tbody tr th:only-of-type {\n",
              "        vertical-align: middle;\n",
              "    }\n",
              "\n",
              "    .dataframe tbody tr th {\n",
              "        vertical-align: top;\n",
              "    }\n",
              "\n",
              "    .dataframe thead th {\n",
              "        text-align: right;\n",
              "    }\n",
              "</style>\n",
              "<table border=\"1\" class=\"dataframe\">\n",
              "  <thead>\n",
              "    <tr style=\"text-align: right;\">\n",
              "      <th></th>\n",
              "      <th>ID</th>\n",
              "      <th>Final Recommended Decision</th>\n",
              "      <th>Admit-Coming</th>\n",
              "      <th>Application Created Date</th>\n",
              "      <th>Days Before the Beginning of Semester</th>\n",
              "      <th>Reporting Term</th>\n",
              "      <th>Mailing Zip/Postal Code</th>\n",
              "      <th>Mailing State/Province</th>\n",
              "      <th>Mailing Country</th>\n",
              "      <th>Most Recent Educational Institution: Account Name</th>\n",
              "      <th>Gender</th>\n",
              "      <th>Race</th>\n",
              "      <th>Program Selection: Program Selection Name</th>\n",
              "    </tr>\n",
              "  </thead>\n",
              "  <tbody>\n",
              "    <tr>\n",
              "      <th>0</th>\n",
              "      <td>1</td>\n",
              "      <td>NaN</td>\n",
              "      <td>0</td>\n",
              "      <td>12/7/2021</td>\n",
              "      <td>273</td>\n",
              "      <td>Fall 2022</td>\n",
              "      <td>56407</td>\n",
              "      <td>Pradesh 2</td>\n",
              "      <td>Nepal</td>\n",
              "      <td>Vellore Institute Of Technolog</td>\n",
              "      <td>Male</td>\n",
              "      <td>Asian</td>\n",
              "      <td>Biology: Computational and Integrative (MS)</td>\n",
              "    </tr>\n",
              "    <tr>\n",
              "      <th>1</th>\n",
              "      <td>2</td>\n",
              "      <td>NaN</td>\n",
              "      <td>0</td>\n",
              "      <td>1/2/2022</td>\n",
              "      <td>247</td>\n",
              "      <td>Fall 2022</td>\n",
              "      <td>380058</td>\n",
              "      <td>Gujarat</td>\n",
              "      <td>India</td>\n",
              "      <td>Ahmedabad University</td>\n",
              "      <td>Female</td>\n",
              "      <td>Asian</td>\n",
              "      <td>Biology: Computational and Integrative (MS)</td>\n",
              "    </tr>\n",
              "    <tr>\n",
              "      <th>2</th>\n",
              "      <td>3</td>\n",
              "      <td>NaN</td>\n",
              "      <td>0</td>\n",
              "      <td>3/15/2022</td>\n",
              "      <td>175</td>\n",
              "      <td>Fall 2022</td>\n",
              "      <td>07009-1245</td>\n",
              "      <td>New Jersey</td>\n",
              "      <td>United States</td>\n",
              "      <td>Mount Olive High School</td>\n",
              "      <td>Male</td>\n",
              "      <td>Asian</td>\n",
              "      <td>Biology: Computational and Integrative (MS)</td>\n",
              "    </tr>\n",
              "  </tbody>\n",
              "</table>\n",
              "</div>\n",
              "      <button class=\"colab-df-convert\" onclick=\"convertToInteractive('df-be2753d9-81fd-4eac-aced-31e88162c32d')\"\n",
              "              title=\"Convert this dataframe to an interactive table.\"\n",
              "              style=\"display:none;\">\n",
              "        \n",
              "  <svg xmlns=\"http://www.w3.org/2000/svg\" height=\"24px\"viewBox=\"0 0 24 24\"\n",
              "       width=\"24px\">\n",
              "    <path d=\"M0 0h24v24H0V0z\" fill=\"none\"/>\n",
              "    <path d=\"M18.56 5.44l.94 2.06.94-2.06 2.06-.94-2.06-.94-.94-2.06-.94 2.06-2.06.94zm-11 1L8.5 8.5l.94-2.06 2.06-.94-2.06-.94L8.5 2.5l-.94 2.06-2.06.94zm10 10l.94 2.06.94-2.06 2.06-.94-2.06-.94-.94-2.06-.94 2.06-2.06.94z\"/><path d=\"M17.41 7.96l-1.37-1.37c-.4-.4-.92-.59-1.43-.59-.52 0-1.04.2-1.43.59L10.3 9.45l-7.72 7.72c-.78.78-.78 2.05 0 2.83L4 21.41c.39.39.9.59 1.41.59.51 0 1.02-.2 1.41-.59l7.78-7.78 2.81-2.81c.8-.78.8-2.07 0-2.86zM5.41 20L4 18.59l7.72-7.72 1.47 1.35L5.41 20z\"/>\n",
              "  </svg>\n",
              "      </button>\n",
              "      \n",
              "  <style>\n",
              "    .colab-df-container {\n",
              "      display:flex;\n",
              "      flex-wrap:wrap;\n",
              "      gap: 12px;\n",
              "    }\n",
              "\n",
              "    .colab-df-convert {\n",
              "      background-color: #E8F0FE;\n",
              "      border: none;\n",
              "      border-radius: 50%;\n",
              "      cursor: pointer;\n",
              "      display: none;\n",
              "      fill: #1967D2;\n",
              "      height: 32px;\n",
              "      padding: 0 0 0 0;\n",
              "      width: 32px;\n",
              "    }\n",
              "\n",
              "    .colab-df-convert:hover {\n",
              "      background-color: #E2EBFA;\n",
              "      box-shadow: 0px 1px 2px rgba(60, 64, 67, 0.3), 0px 1px 3px 1px rgba(60, 64, 67, 0.15);\n",
              "      fill: #174EA6;\n",
              "    }\n",
              "\n",
              "    [theme=dark] .colab-df-convert {\n",
              "      background-color: #3B4455;\n",
              "      fill: #D2E3FC;\n",
              "    }\n",
              "\n",
              "    [theme=dark] .colab-df-convert:hover {\n",
              "      background-color: #434B5C;\n",
              "      box-shadow: 0px 1px 3px 1px rgba(0, 0, 0, 0.15);\n",
              "      filter: drop-shadow(0px 1px 2px rgba(0, 0, 0, 0.3));\n",
              "      fill: #FFFFFF;\n",
              "    }\n",
              "  </style>\n",
              "\n",
              "      <script>\n",
              "        const buttonEl =\n",
              "          document.querySelector('#df-be2753d9-81fd-4eac-aced-31e88162c32d button.colab-df-convert');\n",
              "        buttonEl.style.display =\n",
              "          google.colab.kernel.accessAllowed ? 'block' : 'none';\n",
              "\n",
              "        async function convertToInteractive(key) {\n",
              "          const element = document.querySelector('#df-be2753d9-81fd-4eac-aced-31e88162c32d');\n",
              "          const dataTable =\n",
              "            await google.colab.kernel.invokeFunction('convertToInteractive',\n",
              "                                                     [key], {});\n",
              "          if (!dataTable) return;\n",
              "\n",
              "          const docLinkHtml = 'Like what you see? Visit the ' +\n",
              "            '<a target=\"_blank\" href=https://colab.research.google.com/notebooks/data_table.ipynb>data table notebook</a>'\n",
              "            + ' to learn more about interactive tables.';\n",
              "          element.innerHTML = '';\n",
              "          dataTable['output_type'] = 'display_data';\n",
              "          await google.colab.output.renderOutput(dataTable, element);\n",
              "          const docLink = document.createElement('div');\n",
              "          docLink.innerHTML = docLinkHtml;\n",
              "          element.appendChild(docLink);\n",
              "        }\n",
              "      </script>\n",
              "    </div>\n",
              "  </div>\n",
              "  "
            ]
          },
          "metadata": {},
          "execution_count": 51
        }
      ]
    },
    {
      "cell_type": "code",
      "source": [
        "appdat = appdat.rename(columns={'Mailing Zip/Postal Code':\"Zip\", \"Mailing State/Province\":\"State\",\"Mailing Country\":\"Country\" })\n",
        "appdat.head(3) #aok good"
      ],
      "metadata": {
        "colab": {
          "base_uri": "https://localhost:8080/",
          "height": 291
        },
        "id": "7hO9I2uQJTq0",
        "outputId": "2e4e19da-8ca5-4924-e8e0-0e58542f7569"
      },
      "execution_count": 9,
      "outputs": [
        {
          "output_type": "execute_result",
          "data": {
            "text/plain": [
              "   ID  Final Recommended Decision  Admit-Coming Application Created Date  \\\n",
              "0    1                        NaN             0                12/7/2021   \n",
              "1    2                        NaN             0                 1/2/2022   \n",
              "2    3                        NaN             0                3/15/2022   \n",
              "\n",
              "   Days Before the Beginning of Semester  Reporting Term         Zip  \\\n",
              "0                                     273      Fall 2022       56407   \n",
              "1                                     247      Fall 2022      380058   \n",
              "2                                     175      Fall 2022  07009-1245   \n",
              "\n",
              "        State        Country  \\\n",
              "0   Pradesh 2          Nepal   \n",
              "1     Gujarat          India   \n",
              "2  New Jersey  United States   \n",
              "\n",
              "  Most Recent Educational Institution: Account Name  Gender   Race  \\\n",
              "0                    Vellore Institute Of Technolog    Male  Asian   \n",
              "1                              Ahmedabad University  Female  Asian   \n",
              "2                           Mount Olive High School    Male  Asian   \n",
              "\n",
              "     Program Selection: Program Selection Name Admissions Status  \n",
              "0  Biology: Computational and Integrative (MS)       Started App  \n",
              "1  Biology: Computational and Integrative (MS)       Started App  \n",
              "2  Biology: Computational and Integrative (MS)       Started App  "
            ],
            "text/html": [
              "\n",
              "  <div id=\"df-3af4099a-822f-4f82-b889-60a36f813c8a\">\n",
              "    <div class=\"colab-df-container\">\n",
              "      <div>\n",
              "<style scoped>\n",
              "    .dataframe tbody tr th:only-of-type {\n",
              "        vertical-align: middle;\n",
              "    }\n",
              "\n",
              "    .dataframe tbody tr th {\n",
              "        vertical-align: top;\n",
              "    }\n",
              "\n",
              "    .dataframe thead th {\n",
              "        text-align: right;\n",
              "    }\n",
              "</style>\n",
              "<table border=\"1\" class=\"dataframe\">\n",
              "  <thead>\n",
              "    <tr style=\"text-align: right;\">\n",
              "      <th></th>\n",
              "      <th>ID</th>\n",
              "      <th>Final Recommended Decision</th>\n",
              "      <th>Admit-Coming</th>\n",
              "      <th>Application Created Date</th>\n",
              "      <th>Days Before the Beginning of Semester</th>\n",
              "      <th>Reporting Term</th>\n",
              "      <th>Zip</th>\n",
              "      <th>State</th>\n",
              "      <th>Country</th>\n",
              "      <th>Most Recent Educational Institution: Account Name</th>\n",
              "      <th>Gender</th>\n",
              "      <th>Race</th>\n",
              "      <th>Program Selection: Program Selection Name</th>\n",
              "      <th>Admissions Status</th>\n",
              "    </tr>\n",
              "  </thead>\n",
              "  <tbody>\n",
              "    <tr>\n",
              "      <th>0</th>\n",
              "      <td>1</td>\n",
              "      <td>NaN</td>\n",
              "      <td>0</td>\n",
              "      <td>12/7/2021</td>\n",
              "      <td>273</td>\n",
              "      <td>Fall 2022</td>\n",
              "      <td>56407</td>\n",
              "      <td>Pradesh 2</td>\n",
              "      <td>Nepal</td>\n",
              "      <td>Vellore Institute Of Technolog</td>\n",
              "      <td>Male</td>\n",
              "      <td>Asian</td>\n",
              "      <td>Biology: Computational and Integrative (MS)</td>\n",
              "      <td>Started App</td>\n",
              "    </tr>\n",
              "    <tr>\n",
              "      <th>1</th>\n",
              "      <td>2</td>\n",
              "      <td>NaN</td>\n",
              "      <td>0</td>\n",
              "      <td>1/2/2022</td>\n",
              "      <td>247</td>\n",
              "      <td>Fall 2022</td>\n",
              "      <td>380058</td>\n",
              "      <td>Gujarat</td>\n",
              "      <td>India</td>\n",
              "      <td>Ahmedabad University</td>\n",
              "      <td>Female</td>\n",
              "      <td>Asian</td>\n",
              "      <td>Biology: Computational and Integrative (MS)</td>\n",
              "      <td>Started App</td>\n",
              "    </tr>\n",
              "    <tr>\n",
              "      <th>2</th>\n",
              "      <td>3</td>\n",
              "      <td>NaN</td>\n",
              "      <td>0</td>\n",
              "      <td>3/15/2022</td>\n",
              "      <td>175</td>\n",
              "      <td>Fall 2022</td>\n",
              "      <td>07009-1245</td>\n",
              "      <td>New Jersey</td>\n",
              "      <td>United States</td>\n",
              "      <td>Mount Olive High School</td>\n",
              "      <td>Male</td>\n",
              "      <td>Asian</td>\n",
              "      <td>Biology: Computational and Integrative (MS)</td>\n",
              "      <td>Started App</td>\n",
              "    </tr>\n",
              "  </tbody>\n",
              "</table>\n",
              "</div>\n",
              "      <button class=\"colab-df-convert\" onclick=\"convertToInteractive('df-3af4099a-822f-4f82-b889-60a36f813c8a')\"\n",
              "              title=\"Convert this dataframe to an interactive table.\"\n",
              "              style=\"display:none;\">\n",
              "        \n",
              "  <svg xmlns=\"http://www.w3.org/2000/svg\" height=\"24px\"viewBox=\"0 0 24 24\"\n",
              "       width=\"24px\">\n",
              "    <path d=\"M0 0h24v24H0V0z\" fill=\"none\"/>\n",
              "    <path d=\"M18.56 5.44l.94 2.06.94-2.06 2.06-.94-2.06-.94-.94-2.06-.94 2.06-2.06.94zm-11 1L8.5 8.5l.94-2.06 2.06-.94-2.06-.94L8.5 2.5l-.94 2.06-2.06.94zm10 10l.94 2.06.94-2.06 2.06-.94-2.06-.94-.94-2.06-.94 2.06-2.06.94z\"/><path d=\"M17.41 7.96l-1.37-1.37c-.4-.4-.92-.59-1.43-.59-.52 0-1.04.2-1.43.59L10.3 9.45l-7.72 7.72c-.78.78-.78 2.05 0 2.83L4 21.41c.39.39.9.59 1.41.59.51 0 1.02-.2 1.41-.59l7.78-7.78 2.81-2.81c.8-.78.8-2.07 0-2.86zM5.41 20L4 18.59l7.72-7.72 1.47 1.35L5.41 20z\"/>\n",
              "  </svg>\n",
              "      </button>\n",
              "      \n",
              "  <style>\n",
              "    .colab-df-container {\n",
              "      display:flex;\n",
              "      flex-wrap:wrap;\n",
              "      gap: 12px;\n",
              "    }\n",
              "\n",
              "    .colab-df-convert {\n",
              "      background-color: #E8F0FE;\n",
              "      border: none;\n",
              "      border-radius: 50%;\n",
              "      cursor: pointer;\n",
              "      display: none;\n",
              "      fill: #1967D2;\n",
              "      height: 32px;\n",
              "      padding: 0 0 0 0;\n",
              "      width: 32px;\n",
              "    }\n",
              "\n",
              "    .colab-df-convert:hover {\n",
              "      background-color: #E2EBFA;\n",
              "      box-shadow: 0px 1px 2px rgba(60, 64, 67, 0.3), 0px 1px 3px 1px rgba(60, 64, 67, 0.15);\n",
              "      fill: #174EA6;\n",
              "    }\n",
              "\n",
              "    [theme=dark] .colab-df-convert {\n",
              "      background-color: #3B4455;\n",
              "      fill: #D2E3FC;\n",
              "    }\n",
              "\n",
              "    [theme=dark] .colab-df-convert:hover {\n",
              "      background-color: #434B5C;\n",
              "      box-shadow: 0px 1px 3px 1px rgba(0, 0, 0, 0.15);\n",
              "      filter: drop-shadow(0px 1px 2px rgba(0, 0, 0, 0.3));\n",
              "      fill: #FFFFFF;\n",
              "    }\n",
              "  </style>\n",
              "\n",
              "      <script>\n",
              "        const buttonEl =\n",
              "          document.querySelector('#df-3af4099a-822f-4f82-b889-60a36f813c8a button.colab-df-convert');\n",
              "        buttonEl.style.display =\n",
              "          google.colab.kernel.accessAllowed ? 'block' : 'none';\n",
              "\n",
              "        async function convertToInteractive(key) {\n",
              "          const element = document.querySelector('#df-3af4099a-822f-4f82-b889-60a36f813c8a');\n",
              "          const dataTable =\n",
              "            await google.colab.kernel.invokeFunction('convertToInteractive',\n",
              "                                                     [key], {});\n",
              "          if (!dataTable) return;\n",
              "\n",
              "          const docLinkHtml = 'Like what you see? Visit the ' +\n",
              "            '<a target=\"_blank\" href=https://colab.research.google.com/notebooks/data_table.ipynb>data table notebook</a>'\n",
              "            + ' to learn more about interactive tables.';\n",
              "          element.innerHTML = '';\n",
              "          dataTable['output_type'] = 'display_data';\n",
              "          await google.colab.output.renderOutput(dataTable, element);\n",
              "          const docLink = document.createElement('div');\n",
              "          docLink.innerHTML = docLinkHtml;\n",
              "          element.appendChild(docLink);\n",
              "        }\n",
              "      </script>\n",
              "    </div>\n",
              "  </div>\n",
              "  "
            ]
          },
          "metadata": {},
          "execution_count": 9
        }
      ]
    },
    {
      "cell_type": "code",
      "source": [
        "print(appdat.State.unique()) #aok ok fine but not sure this super useful"
      ],
      "metadata": {
        "colab": {
          "base_uri": "https://localhost:8080/"
        },
        "id": "S9UMLvZBr3ja",
        "outputId": "a515d895-f48c-4b63-83eb-aa760e6e1279"
      },
      "execution_count": null,
      "outputs": [
        {
          "output_type": "stream",
          "name": "stdout",
          "text": [
            "['Pradesh 2' 'Gujarat' 'New Jersey' 'ENUGU' 'Telangana' 'Beijing'\n",
            " 'Haryana' 'In-Tn' 'Yunnan' 'Lagos' 'Odisha' 'Delhi' 'Rajasthan'\n",
            " 'West Bengal' 'Tamil Nadu' 'Maryland' 'Uttar Pradesh' 'IN' 'New York'\n",
            " 'Ohio' nan 'west bengal' 'Shanxi' 'Assam' 'England'\n",
            " 'Federal Capital Territory' 'mazandaran' 'Pennsylvania' 'Illinois'\n",
            " 'Tehran' 'Delaware' 'Ardebi' 'Massachusetts' 'West Virginia' 'PA'\n",
            " 'Virginia' 'NJ' 'In-Hr' 'AN' 'Rivers state' 'Baranya' 'Colorado'\n",
            " 'Banasree' 'Plateau' 'Saint Catherine' 'Serekunda' 'Imo'\n",
            " 'North Rhine-Westphalia' 'California' 'Anambra' 'Kerala' 'Eastern'\n",
            " 'Ashanti' 'Washington' 'MAHARASHTRA' 'Punjab' 'Rhode Island' 'Dhaka'\n",
            " 'Dhaka Division' 'Missouri' 'Bagmati' 'Seoul' 'Edo' 'Karnataka'\n",
            " 'Maharashtra' 'Tamilnadu' 'Western Area' 'Kinondoni' 'LAGOS' 'Rivers'\n",
            " 'TELANGANA' 'Ashanti Region' 'Ghana' 'Western Province' 'NY' 'Ondo'\n",
            " 'Kiambu' 'Madhya Pradesh' 'Greater Accra' 'Kaduna' 'Isfahan' 'In-Dl'\n",
            " 'Harare' 'New Hampshire' 'Indiana' 'Tabuk' 'FCT' 'Oregon' 'AP' 'Osun'\n",
            " 'Oyo' 'Ogun' 'Guilan' 'Western Cape' 'Central Region' 'Italy'\n",
            " 'Maine-et-Loire' 'Egypt' 'UK' 'Kwara' 'Unknown' 'Andhra Pradesh'\n",
            " 'gujarat' 'bagmati' 'Pollobi' 'Shandong' 'Montserrado' 'Shanghai'\n",
            " 'ANDHRA PRADESH' 'Federal capital territory' 'Zhejiang Province' 'In-Ap'\n",
            " 'Lagos State' 'karnataka' 'Jiangxi' 'Istanbul' 'Andhra Predesh' 'lagos'\n",
            " 'GUJARAT' '1' 'In-Mh' 'AZ' 'Guangdong' 'New Delhi' 'Hunan' 'Maharashatra'\n",
            " 'Eastern Province' 'Rangpur Division' 'In-Tg' 'Andhra pradesh' 'In-Br'\n",
            " 'HARYANA' 'In-Rj' 'FL' 'In-Up' 'AndhraPradesh' 'State' 'Tamil nadu'\n",
            " 'Bihar' 'Central' 'Mahrashtra' '522615' 'Cn-Sh' 'Arizona' 'Texas' 'Anhui'\n",
            " 'Wisconsin' 'North Carolina' 'Minnesota' 'Georgia' 'Iowa' 'Alabama'\n",
            " 'Gyeonggi-do' 'MA' 'Tennessee' 'Mississippi' 'BC' 'District Of Columbia'\n",
            " 'Florida' 'Montana' 'Connecticut' 'Fujian' 'WI' 'OH' 'MD' 'Vermont'\n",
            " 'Lousiana' 'ON' 'Nevada' 'MI' 'CA' 'Ontario' 'Michigan' 'Manisa' 'Dubai'\n",
            " 'Sindh' 'Santa Catarina' 'DC' 'Makkah' 'Nj' 'new jersey' 'Select One...'\n",
            " 'TX' 'Louisiana' 'Al ???imah' 'Henan' 'Taoyuan' 'madhya pradesh'\n",
            " 'Kashmir' 'Bono' 'Greater Manchester' 'Lagos, Nigeria' 'Idaho' 'Kansas'\n",
            " 'CT' 'Khorasan Razavi' 'Nevsehir' 'Sichuan' 'RI' 'RJ' 'Oyo State' 'md'\n",
            " 'St.Andrew' 'Canelones' 'Al Wakrah' 'St. James' 'Puerto Rico'\n",
            " 'Chittagong Division' 'Mombasa' 'Delta' 'AE' 'NM' 'Nebraska' 'Ekiti'\n",
            " 'Lima' 'Maine' 'Arkansas' 'METRO MANILA' 'National Capital Region'\n",
            " 'texas' 'Armed Forces' 'British Columbia' 'Delta State' 'New Mexico'\n",
            " 'St. Andrew' 'Gilan' 'Hunan Province' 'Kebbi State' 'In-Kl'\n",
            " 'Not Specified' 'Yazd' 'Novara' 'Edirne' 'Tartu Linn' 'South Carolina'\n",
            " 'District of Columbia' 'KS' 'Kurdistan' 'Mazandaran'\n",
            " 'Azarbayjan-e Sharqi' 'Select State' 'Selangor' 'South' 'Plateau/Nigeria'\n",
            " 'pa' 'WESTERN' 'Rio de Janeiro' 'Riga' 'Lagos State, Nigeria'\n",
            " 'Central region' 'Ogun State' 'Greater-Accra' 'Flanders' 'nj' 'Littoral'\n",
            " 'Ankara/Çankaya' 'KP' 'Cankaya' 'Ganja' 'Shanxi Province' 'OK'\n",
            " 'F.C.T Abuja' 'Razavi Khorasan' 'KY' 'Sylhet']\n"
          ]
        }
      ]
    },
    {
      "cell_type": "code",
      "source": [
        "appdat.State.value_counts().nlargest(10).plot(kind='bar',figsize=(10,5))\n",
        "plt.title(\"Number of Applications by State: Domesting and International\")\n",
        "plt.ylabel(\"Number of Applicants\")\n",
        "plt.xlabel(\"States\") #aok good, useful, informative"
      ],
      "metadata": {
        "colab": {
          "base_uri": "https://localhost:8080/",
          "height": 454
        },
        "id": "wd46FY75s68n",
        "outputId": "a5839630-e3ea-4d5f-f709-e0875127dea4"
      },
      "execution_count": 10,
      "outputs": [
        {
          "output_type": "execute_result",
          "data": {
            "text/plain": [
              "<matplotlib.axes._subplots.AxesSubplot at 0x7f5a83352970>"
            ]
          },
          "metadata": {},
          "execution_count": 10
        },
        {
          "output_type": "execute_result",
          "data": {
            "text/plain": [
              "Text(0.5, 1.0, 'Number of Applications by State: Domesting and International')"
            ]
          },
          "metadata": {},
          "execution_count": 10
        },
        {
          "output_type": "execute_result",
          "data": {
            "text/plain": [
              "Text(0, 0.5, 'Number of Applicants')"
            ]
          },
          "metadata": {},
          "execution_count": 10
        },
        {
          "output_type": "execute_result",
          "data": {
            "text/plain": [
              "Text(0.5, 0, 'States')"
            ]
          },
          "metadata": {},
          "execution_count": 10
        },
        {
          "output_type": "display_data",
          "data": {
            "text/plain": [
              "<Figure size 720x360 with 1 Axes>"
            ],
            "image/png": "[encoded data removed]"
          },
          "metadata": {
            "needs_background": "light"
          }
        }
      ]
    },
    {
      "cell_type": "code",
      "source": [
        "appdat[\"State\"].value_counts()"
      ],
      "metadata": {
        "colab": {
          "base_uri": "https://localhost:8080/"
        },
        "id": "OSaTMxiswlx3",
        "outputId": "a3a684a9-47b3-4aac-aad7-d7984d089ac4"
      },
      "execution_count": null,
      "outputs": [
        {
          "output_type": "execute_result",
          "data": {
            "text/plain": [
              "New Jersey       391\n",
              "New York          73\n",
              "Pennsylvania      60\n",
              "Telangana         56\n",
              "Maharashtra       50\n",
              "                ... \n",
              "In-Rj              1\n",
              "In-Up              1\n",
              "AndhraPradesh      1\n",
              "State              1\n",
              "Sylhet             1\n",
              "Name: State, Length: 264, dtype: int64"
            ]
          },
          "metadata": {},
          "execution_count": 59
        }
      ]
    },
    {
      "cell_type": "code",
      "source": [
        "appdat.Country.value_counts().nlargest(10).plot(kind='bar',figsize=(10,5))\n",
        "plt.title(\"Number of Applications by State: Domesting and International\")\n",
        "plt.ylabel(\"Number of Applicants\")\n",
        "plt.xlabel(\"States\") #aok interesting, so many from india, guess must vary by school/dept--another thing could look at"
      ],
      "metadata": {
        "colab": {
          "base_uri": "https://localhost:8080/",
          "height": 496
        },
        "id": "qDk3lusTzmOV",
        "outputId": "86dc0c6f-6fda-47f1-ab6b-0b80ee7b3edc"
      },
      "execution_count": null,
      "outputs": [
        {
          "output_type": "execute_result",
          "data": {
            "text/plain": [
              "<matplotlib.axes._subplots.AxesSubplot at 0x7f788e2a9fa0>"
            ]
          },
          "metadata": {},
          "execution_count": 70
        },
        {
          "output_type": "execute_result",
          "data": {
            "text/plain": [
              "Text(0.5, 1.0, 'Number of Applications by State: Domesting and International')"
            ]
          },
          "metadata": {},
          "execution_count": 70
        },
        {
          "output_type": "execute_result",
          "data": {
            "text/plain": [
              "Text(0, 0.5, 'Number of Applicants')"
            ]
          },
          "metadata": {},
          "execution_count": 70
        },
        {
          "output_type": "execute_result",
          "data": {
            "text/plain": [
              "Text(0.5, 0, 'States')"
            ]
          },
          "metadata": {},
          "execution_count": 70
        },
        {
          "output_type": "display_data",
          "data": {
            "text/plain": [
              "<Figure size 720x360 with 1 Axes>"
            ],
            "image/png": "[encoded data removed]"
          },
          "metadata": {
            "needs_background": "light"
          }
        }
      ]
    },
    {
      "cell_type": "code",
      "source": [
        "appdat[\"Country\"].value_counts()"
      ],
      "metadata": {
        "colab": {
          "base_uri": "https://localhost:8080/"
        },
        "id": "VB2v_ttmzPk8",
        "outputId": "8f0dde2c-011d-4fbc-af40-d3bfef735d02"
      },
      "execution_count": null,
      "outputs": [
        {
          "output_type": "execute_result",
          "data": {
            "text/plain": [
              "United States                835\n",
              "India                        320\n",
              "Nigeria                       85\n",
              "China                         44\n",
              "Iran, Islamic Republic Of     32\n",
              "                            ... \n",
              "Singapore                      1\n",
              "Hungary                        1\n",
              "Senegal                        1\n",
              "Kyrgyzstan                     1\n",
              "Azerbaijan                     1\n",
              "Name: Country, Length: 62, dtype: int64"
            ]
          },
          "metadata": {},
          "execution_count": 69
        }
      ]
    },
    {
      "cell_type": "code",
      "source": [
        "print(appdat.Country.unique())"
      ],
      "metadata": {
        "colab": {
          "base_uri": "https://localhost:8080/"
        },
        "id": "iAyuAuRc3PQ2",
        "outputId": "60ed0a17-2cde-4792-b0c8-c912042fcf79"
      },
      "execution_count": null,
      "outputs": [
        {
          "output_type": "stream",
          "name": "stdout",
          "text": [
            "['Nepal' 'India' 'United States' 'Nigeria' 'China' 'INDIA' 'Bangladesh'\n",
            " 'United Kingdom' 'Iran, Islamic Republic Of' 'Turkey' 'Ghana'\n",
            " 'Kyrgyzstan' 'Senegal' 'Korea, Republic of' 'Egypt' 'Hungary' 'Jamaica'\n",
            " 'Singapore' 'Taiwan' 'Gambia' 'Germany' 'Pakistan' nan 'BANGLADESH'\n",
            " 'United States of America' 'Sierra Leone' 'Tanzania, United Republic of'\n",
            " 'Sri Lanka' 'Kenya' 'Zimbabwe' 'Saudi Arabia' 'Trinidad and Tobago'\n",
            " 'South Africa' 'Malawi' 'Italy' 'France' 'Hong Kong' 'Liberia'\n",
            " 'Taiwan, Province Of China' 'Mexico' 'Russian Federation' 'Canada'\n",
            " 'United Arab Emirates' 'Brazil' 'Bahrain' 'Morocco' 'Kuwait' 'Uruguay'\n",
            " 'Qatar' 'Bahamas' 'Puerto Rico' 'Peru' 'Philippines' 'Costa Rica'\n",
            " 'Greece' 'Estonia' 'Malaysia' 'Lebanon' 'Latvia' 'Israel' 'Belgium'\n",
            " 'Cameroon' 'Azerbaijan']\n"
          ]
        }
      ]
    },
    {
      "cell_type": "code",
      "source": [
        "usappdat = appdat.query(\"Country=='United States'\")\n",
        "usappdat.head(3)"
      ],
      "metadata": {
        "colab": {
          "base_uri": "https://localhost:8080/",
          "height": 309
        },
        "id": "Y3QSGBMS6XU_",
        "outputId": "b6508f4a-402e-4f1c-b8a2-813d59d8a0e2"
      },
      "execution_count": 12,
      "outputs": [
        {
          "output_type": "execute_result",
          "data": {
            "text/plain": [
              "   ID  Final Recommended Decision  Admit-Coming Application Created Date  \\\n",
              "2    3                        NaN             0                3/15/2022   \n",
              "3    4                        NaN             0                3/31/2022   \n",
              "5    6                        NaN             0                4/20/2022   \n",
              "\n",
              "   Days Before the Beginning of Semester  Reporting Term         Zip  \\\n",
              "2                                     175      Fall 2022  07009-1245   \n",
              "3                                     159      Fall 2022  07726-4660   \n",
              "5                                     272    Spring 2023  08755-1914   \n",
              "\n",
              "        State        Country  \\\n",
              "2  New Jersey  United States   \n",
              "3  New Jersey  United States   \n",
              "5  New Jersey  United States   \n",
              "\n",
              "  Most Recent Educational Institution: Account Name  Gender  \\\n",
              "2                           Mount Olive High School    Male   \n",
              "3                                 Suny Colg Geneseo  Female   \n",
              "5                              Essex County College    Male   \n",
              "\n",
              "                        Race    Program Selection: Program Selection Name  \\\n",
              "2                      Asian  Biology: Computational and Integrative (MS)   \n",
              "3  Hispanic or Latino; White  Biology: Computational and Integrative (MS)   \n",
              "5  Black or African American  Biology: Computational and Integrative (MS)   \n",
              "\n",
              "  Admissions Status  \n",
              "2       Started App  \n",
              "3       Started App  \n",
              "5       Started App  "
            ],
            "text/html": [
              "\n",
              "  <div id=\"df-089319c7-d184-4670-9d95-c2173d9d5008\">\n",
              "    <div class=\"colab-df-container\">\n",
              "      <div>\n",
              "<style scoped>\n",
              "    .dataframe tbody tr th:only-of-type {\n",
              "        vertical-align: middle;\n",
              "    }\n",
              "\n",
              "    .dataframe tbody tr th {\n",
              "        vertical-align: top;\n",
              "    }\n",
              "\n",
              "    .dataframe thead th {\n",
              "        text-align: right;\n",
              "    }\n",
              "</style>\n",
              "<table border=\"1\" class=\"dataframe\">\n",
              "  <thead>\n",
              "    <tr style=\"text-align: right;\">\n",
              "      <th></th>\n",
              "      <th>ID</th>\n",
              "      <th>Final Recommended Decision</th>\n",
              "      <th>Admit-Coming</th>\n",
              "      <th>Application Created Date</th>\n",
              "      <th>Days Before the Beginning of Semester</th>\n",
              "      <th>Reporting Term</th>\n",
              "      <th>Zip</th>\n",
              "      <th>State</th>\n",
              "      <th>Country</th>\n",
              "      <th>Most Recent Educational Institution: Account Name</th>\n",
              "      <th>Gender</th>\n",
              "      <th>Race</th>\n",
              "      <th>Program Selection: Program Selection Name</th>\n",
              "      <th>Admissions Status</th>\n",
              "    </tr>\n",
              "  </thead>\n",
              "  <tbody>\n",
              "    <tr>\n",
              "      <th>2</th>\n",
              "      <td>3</td>\n",
              "      <td>NaN</td>\n",
              "      <td>0</td>\n",
              "      <td>3/15/2022</td>\n",
              "      <td>175</td>\n",
              "      <td>Fall 2022</td>\n",
              "      <td>07009-1245</td>\n",
              "      <td>New Jersey</td>\n",
              "      <td>United States</td>\n",
              "      <td>Mount Olive High School</td>\n",
              "      <td>Male</td>\n",
              "      <td>Asian</td>\n",
              "      <td>Biology: Computational and Integrative (MS)</td>\n",
              "      <td>Started App</td>\n",
              "    </tr>\n",
              "    <tr>\n",
              "      <th>3</th>\n",
              "      <td>4</td>\n",
              "      <td>NaN</td>\n",
              "      <td>0</td>\n",
              "      <td>3/31/2022</td>\n",
              "      <td>159</td>\n",
              "      <td>Fall 2022</td>\n",
              "      <td>07726-4660</td>\n",
              "      <td>New Jersey</td>\n",
              "      <td>United States</td>\n",
              "      <td>Suny Colg Geneseo</td>\n",
              "      <td>Female</td>\n",
              "      <td>Hispanic or Latino; White</td>\n",
              "      <td>Biology: Computational and Integrative (MS)</td>\n",
              "      <td>Started App</td>\n",
              "    </tr>\n",
              "    <tr>\n",
              "      <th>5</th>\n",
              "      <td>6</td>\n",
              "      <td>NaN</td>\n",
              "      <td>0</td>\n",
              "      <td>4/20/2022</td>\n",
              "      <td>272</td>\n",
              "      <td>Spring 2023</td>\n",
              "      <td>08755-1914</td>\n",
              "      <td>New Jersey</td>\n",
              "      <td>United States</td>\n",
              "      <td>Essex County College</td>\n",
              "      <td>Male</td>\n",
              "      <td>Black or African American</td>\n",
              "      <td>Biology: Computational and Integrative (MS)</td>\n",
              "      <td>Started App</td>\n",
              "    </tr>\n",
              "  </tbody>\n",
              "</table>\n",
              "</div>\n",
              "      <button class=\"colab-df-convert\" onclick=\"convertToInteractive('df-089319c7-d184-4670-9d95-c2173d9d5008')\"\n",
              "              title=\"Convert this dataframe to an interactive table.\"\n",
              "              style=\"display:none;\">\n",
              "        \n",
              "  <svg xmlns=\"http://www.w3.org/2000/svg\" height=\"24px\"viewBox=\"0 0 24 24\"\n",
              "       width=\"24px\">\n",
              "    <path d=\"M0 0h24v24H0V0z\" fill=\"none\"/>\n",
              "    <path d=\"M18.56 5.44l.94 2.06.94-2.06 2.06-.94-2.06-.94-.94-2.06-.94 2.06-2.06.94zm-11 1L8.5 8.5l.94-2.06 2.06-.94-2.06-.94L8.5 2.5l-.94 2.06-2.06.94zm10 10l.94 2.06.94-2.06 2.06-.94-2.06-.94-.94-2.06-.94 2.06-2.06.94z\"/><path d=\"M17.41 7.96l-1.37-1.37c-.4-.4-.92-.59-1.43-.59-.52 0-1.04.2-1.43.59L10.3 9.45l-7.72 7.72c-.78.78-.78 2.05 0 2.83L4 21.41c.39.39.9.59 1.41.59.51 0 1.02-.2 1.41-.59l7.78-7.78 2.81-2.81c.8-.78.8-2.07 0-2.86zM5.41 20L4 18.59l7.72-7.72 1.47 1.35L5.41 20z\"/>\n",
              "  </svg>\n",
              "      </button>\n",
              "      \n",
              "  <style>\n",
              "    .colab-df-container {\n",
              "      display:flex;\n",
              "      flex-wrap:wrap;\n",
              "      gap: 12px;\n",
              "    }\n",
              "\n",
              "    .colab-df-convert {\n",
              "      background-color: #E8F0FE;\n",
              "      border: none;\n",
              "      border-radius: 50%;\n",
              "      cursor: pointer;\n",
              "      display: none;\n",
              "      fill: #1967D2;\n",
              "      height: 32px;\n",
              "      padding: 0 0 0 0;\n",
              "      width: 32px;\n",
              "    }\n",
              "\n",
              "    .colab-df-convert:hover {\n",
              "      background-color: #E2EBFA;\n",
              "      box-shadow: 0px 1px 2px rgba(60, 64, 67, 0.3), 0px 1px 3px 1px rgba(60, 64, 67, 0.15);\n",
              "      fill: #174EA6;\n",
              "    }\n",
              "\n",
              "    [theme=dark] .colab-df-convert {\n",
              "      background-color: #3B4455;\n",
              "      fill: #D2E3FC;\n",
              "    }\n",
              "\n",
              "    [theme=dark] .colab-df-convert:hover {\n",
              "      background-color: #434B5C;\n",
              "      box-shadow: 0px 1px 3px 1px rgba(0, 0, 0, 0.15);\n",
              "      filter: drop-shadow(0px 1px 2px rgba(0, 0, 0, 0.3));\n",
              "      fill: #FFFFFF;\n",
              "    }\n",
              "  </style>\n",
              "\n",
              "      <script>\n",
              "        const buttonEl =\n",
              "          document.querySelector('#df-089319c7-d184-4670-9d95-c2173d9d5008 button.colab-df-convert');\n",
              "        buttonEl.style.display =\n",
              "          google.colab.kernel.accessAllowed ? 'block' : 'none';\n",
              "\n",
              "        async function convertToInteractive(key) {\n",
              "          const element = document.querySelector('#df-089319c7-d184-4670-9d95-c2173d9d5008');\n",
              "          const dataTable =\n",
              "            await google.colab.kernel.invokeFunction('convertToInteractive',\n",
              "                                                     [key], {});\n",
              "          if (!dataTable) return;\n",
              "\n",
              "          const docLinkHtml = 'Like what you see? Visit the ' +\n",
              "            '<a target=\"_blank\" href=https://colab.research.google.com/notebooks/data_table.ipynb>data table notebook</a>'\n",
              "            + ' to learn more about interactive tables.';\n",
              "          element.innerHTML = '';\n",
              "          dataTable['output_type'] = 'display_data';\n",
              "          await google.colab.output.renderOutput(dataTable, element);\n",
              "          const docLink = document.createElement('div');\n",
              "          docLink.innerHTML = docLinkHtml;\n",
              "          element.appendChild(docLink);\n",
              "        }\n",
              "      </script>\n",
              "    </div>\n",
              "  </div>\n",
              "  "
            ]
          },
          "metadata": {},
          "execution_count": 12
        }
      ]
    },
    {
      "cell_type": "code",
      "source": [
        "print(usappdat.State.unique()) #aok useful--eg NJ is like in 4 different ways! should clean this up; ideally have consistent input from the getgo"
      ],
      "metadata": {
        "colab": {
          "base_uri": "https://localhost:8080/"
        },
        "id": "-4v-4d0P7zGG",
        "outputId": "4a27f38f-b539-49c5-a578-c042c522d708"
      },
      "execution_count": 13,
      "outputs": [
        {
          "output_type": "stream",
          "name": "stdout",
          "text": [
            "['New Jersey' 'Maryland' 'New York' 'Ohio' 'Pennsylvania' 'Illinois'\n",
            " 'Delaware' 'Massachusetts' 'West Virginia' 'PA' 'Virginia' 'NJ'\n",
            " 'Colorado' 'California' 'Washington' 'Rhode Island' 'Missouri' 'NY'\n",
            " 'New Hampshire' 'Indiana' 'Oregon' 'AP' 'AZ' 'FL' 'Arizona' 'Texas'\n",
            " 'Wisconsin' 'North Carolina' 'Minnesota' 'Georgia' 'Iowa' 'Alabama' 'MA'\n",
            " 'Tennessee' 'Mississippi' 'District Of Columbia' 'Florida' 'Montana'\n",
            " 'Connecticut' 'WI' 'OH' 'MD' 'Vermont' 'Lousiana' 'Nevada' 'MI' 'CA'\n",
            " 'Michigan' 'DC' 'Nj' 'new jersey' 'TX' 'Louisiana' 'Idaho' 'Kansas' 'CT'\n",
            " 'RI' 'md' 'AE' 'IN' 'NM' 'Nebraska' 'Maine' 'Arkansas' 'texas'\n",
            " 'Armed Forces' 'New Mexico' 'South Carolina' 'District of Columbia' 'KS'\n",
            " 'pa' 'nj' 'OK' 'KY']\n"
          ]
        }
      ]
    },
    {
      "cell_type": "code",
      "source": [
        "usappdat['State']=usappdat['State'].replace(['NJ','Nj','new jersey','nj'],'New Jersey') #aok yes!!!"
      ],
      "metadata": {
        "colab": {
          "base_uri": "https://localhost:8080/"
        },
        "id": "perhO8xj8KTn",
        "outputId": "50ed36ff-d723-4837-8dbc-6475ffd582ff"
      },
      "execution_count": 14,
      "outputs": [
        {
          "output_type": "stream",
          "name": "stderr",
          "text": [
            "<ipython-input-14-0fac06a9e4bd>:1: SettingWithCopyWarning: \n",
            "A value is trying to be set on a copy of a slice from a DataFrame.\n",
            "Try using .loc[row_indexer,col_indexer] = value instead\n",
            "\n",
            "See the caveats in the documentation: https://pandas.pydata.org/pandas-docs/stable/user_guide/indexing.html#returning-a-view-versus-a-copy\n",
            "  usappdat['State']=usappdat['State'].replace(['NJ','Nj','new jersey','nj'],'New Jersey') #aok yes!!!\n"
          ]
        }
      ]
    },
    {
      "cell_type": "code",
      "source": [
        "print(usappdat.State.unique())"
      ],
      "metadata": {
        "colab": {
          "base_uri": "https://localhost:8080/"
        },
        "id": "chsC4i9J-xsr",
        "outputId": "4d093bab-1d71-498b-9fcb-b25a37e9d431"
      },
      "execution_count": null,
      "outputs": [
        {
          "output_type": "stream",
          "name": "stdout",
          "text": [
            "['New Jersey' 'Maryland' 'New York' 'Ohio' 'Pennsylvania' 'Illinois'\n",
            " 'Delaware' 'Massachusetts' 'West Virginia' 'PA' 'Virginia' 'Colorado'\n",
            " 'California' 'Washington' 'Rhode Island' 'Missouri' 'NY' 'New Hampshire'\n",
            " 'Indiana' 'Oregon' 'AP' 'AZ' 'FL' 'Arizona' 'Texas' 'Wisconsin'\n",
            " 'North Carolina' 'Minnesota' 'Georgia' 'Iowa' 'Alabama' 'MA' 'Tennessee'\n",
            " 'Mississippi' 'District Of Columbia' 'Florida' 'Montana' 'Connecticut'\n",
            " 'WI' 'OH' 'MD' 'Vermont' 'Lousiana' 'Nevada' 'MI' 'CA' 'Michigan' 'DC'\n",
            " 'TX' 'Louisiana' 'Idaho' 'Kansas' 'CT' 'RI' 'md' 'AE' 'IN' 'NM'\n",
            " 'Nebraska' 'Maine' 'Arkansas' 'texas' 'Armed Forces' 'New Mexico'\n",
            " 'South Carolina' 'District of Columbia' 'KS' 'pa' 'OK' 'KY']\n"
          ]
        }
      ]
    },
    {
      "cell_type": "code",
      "source": [
        "njappdat = usappdat.query(\"State=='New Jersey'\")\n",
        "njappdat.head(3)"
      ],
      "metadata": {
        "colab": {
          "base_uri": "https://localhost:8080/",
          "height": 291
        },
        "id": "gQQZZZw1_Taq",
        "outputId": "6434fe7f-9a08-4ddc-b8a6-124d949ba59f"
      },
      "execution_count": null,
      "outputs": [
        {
          "output_type": "execute_result",
          "data": {
            "text/plain": [
              "   ID  Final Recommended Decision  Admit-Coming Application Created Date  \\\n",
              "2    3                        NaN             0                3/15/2022   \n",
              "3    4                        NaN             0                3/31/2022   \n",
              "5    6                        NaN             0                4/20/2022   \n",
              "\n",
              "   Days Before the Beginning of Semester  Reporting Term         Zip  \\\n",
              "2                                     175      Fall 2022  07009-1245   \n",
              "3                                     159      Fall 2022  07726-4660   \n",
              "5                                     272    Spring 2023  08755-1914   \n",
              "\n",
              "        State        Country  \\\n",
              "2  New Jersey  United States   \n",
              "3  New Jersey  United States   \n",
              "5  New Jersey  United States   \n",
              "\n",
              "  Most Recent Educational Institution: Account Name  Gender  \\\n",
              "2                           Mount Olive High School    Male   \n",
              "3                                 Suny Colg Geneseo  Female   \n",
              "5                              Essex County College    Male   \n",
              "\n",
              "                        Race    Program Selection: Program Selection Name  \n",
              "2                      Asian  Biology: Computational and Integrative (MS)  \n",
              "3  Hispanic or Latino; White  Biology: Computational and Integrative (MS)  \n",
              "5  Black or African American  Biology: Computational and Integrative (MS)  "
            ],
            "text/html": [
              "\n",
              "  <div id=\"df-2bd66297-ffc6-4f12-a6bb-b4ade1a3a623\">\n",
              "    <div class=\"colab-df-container\">\n",
              "      <div>\n",
              "<style scoped>\n",
              "    .dataframe tbody tr th:only-of-type {\n",
              "        vertical-align: middle;\n",
              "    }\n",
              "\n",
              "    .dataframe tbody tr th {\n",
              "        vertical-align: top;\n",
              "    }\n",
              "\n",
              "    .dataframe thead th {\n",
              "        text-align: right;\n",
              "    }\n",
              "</style>\n",
              "<table border=\"1\" class=\"dataframe\">\n",
              "  <thead>\n",
              "    <tr style=\"text-align: right;\">\n",
              "      <th></th>\n",
              "      <th>ID</th>\n",
              "      <th>Final Recommended Decision</th>\n",
              "      <th>Admit-Coming</th>\n",
              "      <th>Application Created Date</th>\n",
              "      <th>Days Before the Beginning of Semester</th>\n",
              "      <th>Reporting Term</th>\n",
              "      <th>Zip</th>\n",
              "      <th>State</th>\n",
              "      <th>Country</th>\n",
              "      <th>Most Recent Educational Institution: Account Name</th>\n",
              "      <th>Gender</th>\n",
              "      <th>Race</th>\n",
              "      <th>Program Selection: Program Selection Name</th>\n",
              "    </tr>\n",
              "  </thead>\n",
              "  <tbody>\n",
              "    <tr>\n",
              "      <th>2</th>\n",
              "      <td>3</td>\n",
              "      <td>NaN</td>\n",
              "      <td>0</td>\n",
              "      <td>3/15/2022</td>\n",
              "      <td>175</td>\n",
              "      <td>Fall 2022</td>\n",
              "      <td>07009-1245</td>\n",
              "      <td>New Jersey</td>\n",
              "      <td>United States</td>\n",
              "      <td>Mount Olive High School</td>\n",
              "      <td>Male</td>\n",
              "      <td>Asian</td>\n",
              "      <td>Biology: Computational and Integrative (MS)</td>\n",
              "    </tr>\n",
              "    <tr>\n",
              "      <th>3</th>\n",
              "      <td>4</td>\n",
              "      <td>NaN</td>\n",
              "      <td>0</td>\n",
              "      <td>3/31/2022</td>\n",
              "      <td>159</td>\n",
              "      <td>Fall 2022</td>\n",
              "      <td>07726-4660</td>\n",
              "      <td>New Jersey</td>\n",
              "      <td>United States</td>\n",
              "      <td>Suny Colg Geneseo</td>\n",
              "      <td>Female</td>\n",
              "      <td>Hispanic or Latino; White</td>\n",
              "      <td>Biology: Computational and Integrative (MS)</td>\n",
              "    </tr>\n",
              "    <tr>\n",
              "      <th>5</th>\n",
              "      <td>6</td>\n",
              "      <td>NaN</td>\n",
              "      <td>0</td>\n",
              "      <td>4/20/2022</td>\n",
              "      <td>272</td>\n",
              "      <td>Spring 2023</td>\n",
              "      <td>08755-1914</td>\n",
              "      <td>New Jersey</td>\n",
              "      <td>United States</td>\n",
              "      <td>Essex County College</td>\n",
              "      <td>Male</td>\n",
              "      <td>Black or African American</td>\n",
              "      <td>Biology: Computational and Integrative (MS)</td>\n",
              "    </tr>\n",
              "  </tbody>\n",
              "</table>\n",
              "</div>\n",
              "      <button class=\"colab-df-convert\" onclick=\"convertToInteractive('df-2bd66297-ffc6-4f12-a6bb-b4ade1a3a623')\"\n",
              "              title=\"Convert this dataframe to an interactive table.\"\n",
              "              style=\"display:none;\">\n",
              "        \n",
              "  <svg xmlns=\"http://www.w3.org/2000/svg\" height=\"24px\"viewBox=\"0 0 24 24\"\n",
              "       width=\"24px\">\n",
              "    <path d=\"M0 0h24v24H0V0z\" fill=\"none\"/>\n",
              "    <path d=\"M18.56 5.44l.94 2.06.94-2.06 2.06-.94-2.06-.94-.94-2.06-.94 2.06-2.06.94zm-11 1L8.5 8.5l.94-2.06 2.06-.94-2.06-.94L8.5 2.5l-.94 2.06-2.06.94zm10 10l.94 2.06.94-2.06 2.06-.94-2.06-.94-.94-2.06-.94 2.06-2.06.94z\"/><path d=\"M17.41 7.96l-1.37-1.37c-.4-.4-.92-.59-1.43-.59-.52 0-1.04.2-1.43.59L10.3 9.45l-7.72 7.72c-.78.78-.78 2.05 0 2.83L4 21.41c.39.39.9.59 1.41.59.51 0 1.02-.2 1.41-.59l7.78-7.78 2.81-2.81c.8-.78.8-2.07 0-2.86zM5.41 20L4 18.59l7.72-7.72 1.47 1.35L5.41 20z\"/>\n",
              "  </svg>\n",
              "      </button>\n",
              "      \n",
              "  <style>\n",
              "    .colab-df-container {\n",
              "      display:flex;\n",
              "      flex-wrap:wrap;\n",
              "      gap: 12px;\n",
              "    }\n",
              "\n",
              "    .colab-df-convert {\n",
              "      background-color: #E8F0FE;\n",
              "      border: none;\n",
              "      border-radius: 50%;\n",
              "      cursor: pointer;\n",
              "      display: none;\n",
              "      fill: #1967D2;\n",
              "      height: 32px;\n",
              "      padding: 0 0 0 0;\n",
              "      width: 32px;\n",
              "    }\n",
              "\n",
              "    .colab-df-convert:hover {\n",
              "      background-color: #E2EBFA;\n",
              "      box-shadow: 0px 1px 2px rgba(60, 64, 67, 0.3), 0px 1px 3px 1px rgba(60, 64, 67, 0.15);\n",
              "      fill: #174EA6;\n",
              "    }\n",
              "\n",
              "    [theme=dark] .colab-df-convert {\n",
              "      background-color: #3B4455;\n",
              "      fill: #D2E3FC;\n",
              "    }\n",
              "\n",
              "    [theme=dark] .colab-df-convert:hover {\n",
              "      background-color: #434B5C;\n",
              "      box-shadow: 0px 1px 3px 1px rgba(0, 0, 0, 0.15);\n",
              "      filter: drop-shadow(0px 1px 2px rgba(0, 0, 0, 0.3));\n",
              "      fill: #FFFFFF;\n",
              "    }\n",
              "  </style>\n",
              "\n",
              "      <script>\n",
              "        const buttonEl =\n",
              "          document.querySelector('#df-2bd66297-ffc6-4f12-a6bb-b4ade1a3a623 button.colab-df-convert');\n",
              "        buttonEl.style.display =\n",
              "          google.colab.kernel.accessAllowed ? 'block' : 'none';\n",
              "\n",
              "        async function convertToInteractive(key) {\n",
              "          const element = document.querySelector('#df-2bd66297-ffc6-4f12-a6bb-b4ade1a3a623');\n",
              "          const dataTable =\n",
              "            await google.colab.kernel.invokeFunction('convertToInteractive',\n",
              "                                                     [key], {});\n",
              "          if (!dataTable) return;\n",
              "\n",
              "          const docLinkHtml = 'Like what you see? Visit the ' +\n",
              "            '<a target=\"_blank\" href=https://colab.research.google.com/notebooks/data_table.ipynb>data table notebook</a>'\n",
              "            + ' to learn more about interactive tables.';\n",
              "          element.innerHTML = '';\n",
              "          dataTable['output_type'] = 'display_data';\n",
              "          await google.colab.output.renderOutput(dataTable, element);\n",
              "          const docLink = document.createElement('div');\n",
              "          docLink.innerHTML = docLinkHtml;\n",
              "          element.appendChild(docLink);\n",
              "        }\n",
              "      </script>\n",
              "    </div>\n",
              "  </div>\n",
              "  "
            ]
          },
          "metadata": {},
          "execution_count": 84
        }
      ]
    },
    {
      "cell_type": "code",
      "source": [
        "njappdat['C_Zip']=njappdat['Zip'].str[:5]\n",
        "njappdat.head(3)"
      ],
      "metadata": {
        "colab": {
          "base_uri": "https://localhost:8080/",
          "height": 413
        },
        "id": "W-7cPG_TAT6r",
        "outputId": "6fc7c300-2ce3-4601-fee6-9043f6fb234d"
      },
      "execution_count": null,
      "outputs": [
        {
          "output_type": "stream",
          "name": "stderr",
          "text": [
            "<ipython-input-85-088877dd01eb>:1: SettingWithCopyWarning: \n",
            "A value is trying to be set on a copy of a slice from a DataFrame.\n",
            "Try using .loc[row_indexer,col_indexer] = value instead\n",
            "\n",
            "See the caveats in the documentation: https://pandas.pydata.org/pandas-docs/stable/user_guide/indexing.html#returning-a-view-versus-a-copy\n",
            "  njappdat['C_Zip']=njappdat['Zip'].str[:5]\n"
          ]
        },
        {
          "output_type": "execute_result",
          "data": {
            "text/plain": [
              "   ID  Final Recommended Decision  Admit-Coming Application Created Date  \\\n",
              "2    3                        NaN             0                3/15/2022   \n",
              "3    4                        NaN             0                3/31/2022   \n",
              "5    6                        NaN             0                4/20/2022   \n",
              "\n",
              "   Days Before the Beginning of Semester  Reporting Term         Zip  \\\n",
              "2                                     175      Fall 2022  07009-1245   \n",
              "3                                     159      Fall 2022  07726-4660   \n",
              "5                                     272    Spring 2023  08755-1914   \n",
              "\n",
              "        State        Country  \\\n",
              "2  New Jersey  United States   \n",
              "3  New Jersey  United States   \n",
              "5  New Jersey  United States   \n",
              "\n",
              "  Most Recent Educational Institution: Account Name  Gender  \\\n",
              "2                           Mount Olive High School    Male   \n",
              "3                                 Suny Colg Geneseo  Female   \n",
              "5                              Essex County College    Male   \n",
              "\n",
              "                        Race    Program Selection: Program Selection Name  \\\n",
              "2                      Asian  Biology: Computational and Integrative (MS)   \n",
              "3  Hispanic or Latino; White  Biology: Computational and Integrative (MS)   \n",
              "5  Black or African American  Biology: Computational and Integrative (MS)   \n",
              "\n",
              "   C_Zip  \n",
              "2  07009  \n",
              "3  07726  \n",
              "5  08755  "
            ],
            "text/html": [
              "\n",
              "  <div id=\"df-4e1eb3be-6351-497a-8140-7a52c48636df\">\n",
              "    <div class=\"colab-df-container\">\n",
              "      <div>\n",
              "<style scoped>\n",
              "    .dataframe tbody tr th:only-of-type {\n",
              "        vertical-align: middle;\n",
              "    }\n",
              "\n",
              "    .dataframe tbody tr th {\n",
              "        vertical-align: top;\n",
              "    }\n",
              "\n",
              "    .dataframe thead th {\n",
              "        text-align: right;\n",
              "    }\n",
              "</style>\n",
              "<table border=\"1\" class=\"dataframe\">\n",
              "  <thead>\n",
              "    <tr style=\"text-align: right;\">\n",
              "      <th></th>\n",
              "      <th>ID</th>\n",
              "      <th>Final Recommended Decision</th>\n",
              "      <th>Admit-Coming</th>\n",
              "      <th>Application Created Date</th>\n",
              "      <th>Days Before the Beginning of Semester</th>\n",
              "      <th>Reporting Term</th>\n",
              "      <th>Zip</th>\n",
              "      <th>State</th>\n",
              "      <th>Country</th>\n",
              "      <th>Most Recent Educational Institution: Account Name</th>\n",
              "      <th>Gender</th>\n",
              "      <th>Race</th>\n",
              "      <th>Program Selection: Program Selection Name</th>\n",
              "      <th>C_Zip</th>\n",
              "    </tr>\n",
              "  </thead>\n",
              "  <tbody>\n",
              "    <tr>\n",
              "      <th>2</th>\n",
              "      <td>3</td>\n",
              "      <td>NaN</td>\n",
              "      <td>0</td>\n",
              "      <td>3/15/2022</td>\n",
              "      <td>175</td>\n",
              "      <td>Fall 2022</td>\n",
              "      <td>07009-1245</td>\n",
              "      <td>New Jersey</td>\n",
              "      <td>United States</td>\n",
              "      <td>Mount Olive High School</td>\n",
              "      <td>Male</td>\n",
              "      <td>Asian</td>\n",
              "      <td>Biology: Computational and Integrative (MS)</td>\n",
              "      <td>07009</td>\n",
              "    </tr>\n",
              "    <tr>\n",
              "      <th>3</th>\n",
              "      <td>4</td>\n",
              "      <td>NaN</td>\n",
              "      <td>0</td>\n",
              "      <td>3/31/2022</td>\n",
              "      <td>159</td>\n",
              "      <td>Fall 2022</td>\n",
              "      <td>07726-4660</td>\n",
              "      <td>New Jersey</td>\n",
              "      <td>United States</td>\n",
              "      <td>Suny Colg Geneseo</td>\n",
              "      <td>Female</td>\n",
              "      <td>Hispanic or Latino; White</td>\n",
              "      <td>Biology: Computational and Integrative (MS)</td>\n",
              "      <td>07726</td>\n",
              "    </tr>\n",
              "    <tr>\n",
              "      <th>5</th>\n",
              "      <td>6</td>\n",
              "      <td>NaN</td>\n",
              "      <td>0</td>\n",
              "      <td>4/20/2022</td>\n",
              "      <td>272</td>\n",
              "      <td>Spring 2023</td>\n",
              "      <td>08755-1914</td>\n",
              "      <td>New Jersey</td>\n",
              "      <td>United States</td>\n",
              "      <td>Essex County College</td>\n",
              "      <td>Male</td>\n",
              "      <td>Black or African American</td>\n",
              "      <td>Biology: Computational and Integrative (MS)</td>\n",
              "      <td>08755</td>\n",
              "    </tr>\n",
              "  </tbody>\n",
              "</table>\n",
              "</div>\n",
              "      <button class=\"colab-df-convert\" onclick=\"convertToInteractive('df-4e1eb3be-6351-497a-8140-7a52c48636df')\"\n",
              "              title=\"Convert this dataframe to an interactive table.\"\n",
              "              style=\"display:none;\">\n",
              "        \n",
              "  <svg xmlns=\"http://www.w3.org/2000/svg\" height=\"24px\"viewBox=\"0 0 24 24\"\n",
              "       width=\"24px\">\n",
              "    <path d=\"M0 0h24v24H0V0z\" fill=\"none\"/>\n",
              "    <path d=\"M18.56 5.44l.94 2.06.94-2.06 2.06-.94-2.06-.94-.94-2.06-.94 2.06-2.06.94zm-11 1L8.5 8.5l.94-2.06 2.06-.94-2.06-.94L8.5 2.5l-.94 2.06-2.06.94zm10 10l.94 2.06.94-2.06 2.06-.94-2.06-.94-.94-2.06-.94 2.06-2.06.94z\"/><path d=\"M17.41 7.96l-1.37-1.37c-.4-.4-.92-.59-1.43-.59-.52 0-1.04.2-1.43.59L10.3 9.45l-7.72 7.72c-.78.78-.78 2.05 0 2.83L4 21.41c.39.39.9.59 1.41.59.51 0 1.02-.2 1.41-.59l7.78-7.78 2.81-2.81c.8-.78.8-2.07 0-2.86zM5.41 20L4 18.59l7.72-7.72 1.47 1.35L5.41 20z\"/>\n",
              "  </svg>\n",
              "      </button>\n",
              "      \n",
              "  <style>\n",
              "    .colab-df-container {\n",
              "      display:flex;\n",
              "      flex-wrap:wrap;\n",
              "      gap: 12px;\n",
              "    }\n",
              "\n",
              "    .colab-df-convert {\n",
              "      background-color: #E8F0FE;\n",
              "      border: none;\n",
              "      border-radius: 50%;\n",
              "      cursor: pointer;\n",
              "      display: none;\n",
              "      fill: #1967D2;\n",
              "      height: 32px;\n",
              "      padding: 0 0 0 0;\n",
              "      width: 32px;\n",
              "    }\n",
              "\n",
              "    .colab-df-convert:hover {\n",
              "      background-color: #E2EBFA;\n",
              "      box-shadow: 0px 1px 2px rgba(60, 64, 67, 0.3), 0px 1px 3px 1px rgba(60, 64, 67, 0.15);\n",
              "      fill: #174EA6;\n",
              "    }\n",
              "\n",
              "    [theme=dark] .colab-df-convert {\n",
              "      background-color: #3B4455;\n",
              "      fill: #D2E3FC;\n",
              "    }\n",
              "\n",
              "    [theme=dark] .colab-df-convert:hover {\n",
              "      background-color: #434B5C;\n",
              "      box-shadow: 0px 1px 3px 1px rgba(0, 0, 0, 0.15);\n",
              "      filter: drop-shadow(0px 1px 2px rgba(0, 0, 0, 0.3));\n",
              "      fill: #FFFFFF;\n",
              "    }\n",
              "  </style>\n",
              "\n",
              "      <script>\n",
              "        const buttonEl =\n",
              "          document.querySelector('#df-4e1eb3be-6351-497a-8140-7a52c48636df button.colab-df-convert');\n",
              "        buttonEl.style.display =\n",
              "          google.colab.kernel.accessAllowed ? 'block' : 'none';\n",
              "\n",
              "        async function convertToInteractive(key) {\n",
              "          const element = document.querySelector('#df-4e1eb3be-6351-497a-8140-7a52c48636df');\n",
              "          const dataTable =\n",
              "            await google.colab.kernel.invokeFunction('convertToInteractive',\n",
              "                                                     [key], {});\n",
              "          if (!dataTable) return;\n",
              "\n",
              "          const docLinkHtml = 'Like what you see? Visit the ' +\n",
              "            '<a target=\"_blank\" href=https://colab.research.google.com/notebooks/data_table.ipynb>data table notebook</a>'\n",
              "            + ' to learn more about interactive tables.';\n",
              "          element.innerHTML = '';\n",
              "          dataTable['output_type'] = 'display_data';\n",
              "          await google.colab.output.renderOutput(dataTable, element);\n",
              "          const docLink = document.createElement('div');\n",
              "          docLink.innerHTML = docLinkHtml;\n",
              "          element.appendChild(docLink);\n",
              "        }\n",
              "      </script>\n",
              "    </div>\n",
              "  </div>\n",
              "  "
            ]
          },
          "metadata": {},
          "execution_count": 85
        }
      ]
    },
    {
      "cell_type": "markdown",
      "source": [
        "### Import: Data File 2: New Jersey Unemployment Data by County"
      ],
      "metadata": {
        "id": "SZdegZX1wOHR"
      }
    },
    {
      "cell_type": "code",
      "source": [
        "urllib.request.urlretrieve(\"https://raw.githubusercontent.com/ewattudo/vis1/main/R13290836_SL050.csv\", \"njunemp21.csv\")"
      ],
      "metadata": {
        "colab": {
          "base_uri": "https://localhost:8080/"
        },
        "id": "2EuMtIsVwhtW",
        "outputId": "50f33ba0-1908-4656-a964-083ee703b56d"
      },
      "execution_count": 15,
      "outputs": [
        {
          "output_type": "execute_result",
          "data": {
            "text/plain": [
              "('njunemp21.csv', <http.client.HTTPMessage at 0x7f5a83242bb0>)"
            ]
          },
          "metadata": {},
          "execution_count": 15
        }
      ]
    },
    {
      "cell_type": "code",
      "source": [
        "os.getcwd() #pwd\n",
        "os.listdir() #compare to clicking on the left the folder icon #dir"
      ],
      "metadata": {
        "colab": {
          "base_uri": "https://localhost:8080/",
          "height": 36
        },
        "id": "glr9EQWnw80k",
        "outputId": "af9a9f33-33ad-4161-f0ad-35b798dd0b68"
      },
      "execution_count": null,
      "outputs": [
        {
          "output_type": "execute_result",
          "data": {
            "text/plain": [
              "'/content'"
            ],
            "application/vnd.google.colaboratory.intrinsic+json": {
              "type": "string"
            }
          },
          "metadata": {},
          "execution_count": 12
        },
        {
          "output_type": "execute_result",
          "data": {
            "text/plain": [
              "['.config', 'appdata.csv', 'njunemp21.csv', 'sample_data']"
            ]
          },
          "metadata": {},
          "execution_count": 12
        }
      ]
    },
    {
      "cell_type": "code",
      "source": [
        "njunemp=pd.read_csv('njunemp21.csv')"
      ],
      "metadata": {
        "id": "qWIsBGGSxAWg"
      },
      "execution_count": null,
      "outputs": []
    },
    {
      "cell_type": "code",
      "source": [
        "njunemp.columns"
      ],
      "metadata": {
        "colab": {
          "base_uri": "https://localhost:8080/"
        },
        "id": "C0sESFM0xr3o",
        "outputId": "1ff916aa-2caa-4536-abdd-7f1535b1de2a"
      },
      "execution_count": null,
      "outputs": [
        {
          "output_type": "execute_result",
          "data": {
            "text/plain": [
              "Index(['Geo_FIPS', 'Geo_NAME', 'Geo_QNAME', 'Geo_NATION', 'Geo_STATE',\n",
              "       'Geo_COUNTY', 'Geo_MSA', 'ORG_US_007_001', 'ORG_US_007_002',\n",
              "       'ORG_US_007_003', 'ORG_US_007_004', 'ORG_US_Unemployment_027_001',\n",
              "       'ORG_US_Unemployment_027_002', 'ORG_US_Unemployment_027_003',\n",
              "       'ORG_US_Unemployment_027_004', 'ORG_US_Unemployment_020_001',\n",
              "       'ORG_US_Unemployment_020_002', 'ORG_US_Unemployment_020_003',\n",
              "       'ORG_US_Unemployment_020_004', 'ORG_US_035_001', 'ORG_US_035_002',\n",
              "       'ORG_US_035_003', 'ORG_US_035_004'],\n",
              "      dtype='object')"
            ]
          },
          "metadata": {},
          "execution_count": 87
        }
      ]
    },
    {
      "cell_type": "code",
      "source": [
        "njunemp.head(3)"
      ],
      "metadata": {
        "colab": {
          "base_uri": "https://localhost:8080/",
          "height": 393
        },
        "id": "NqfpvozXxwKC",
        "outputId": "0a7e7983-d5da-4ff7-95cd-89b971213222"
      },
      "execution_count": null,
      "outputs": [
        {
          "output_type": "execute_result",
          "data": {
            "text/plain": [
              "   Geo_FIPS           Geo_NAME                      Geo_QNAME  Geo_NATION  \\\n",
              "0     34001    Atlantic County    Atlantic County, New Jersey           0   \n",
              "1     34003      Bergen County      Bergen County, New Jersey           0   \n",
              "2     34005  Burlington County  Burlington County, New Jersey           0   \n",
              "\n",
              "   Geo_STATE  Geo_COUNTY  Geo_MSA  ORG_US_007_001  ORG_US_007_002  \\\n",
              "0         34           1      NaN          121301          108221   \n",
              "1         34           3      NaN          469719          435114   \n",
              "2         34           5      NaN          232113          216827   \n",
              "\n",
              "   ORG_US_007_003  ...  ORG_US_Unemployment_027_003  \\\n",
              "0           13080  ...                        30795   \n",
              "1           34605  ...                        70140   \n",
              "2           15286  ...                        27756   \n",
              "\n",
              "   ORG_US_Unemployment_027_004  ORG_US_Unemployment_020_001  \\\n",
              "0                         24.0                        -7080   \n",
              "1                         14.1                       -26560   \n",
              "2                         11.8                        -2988   \n",
              "\n",
              "   ORG_US_Unemployment_020_002  ORG_US_Unemployment_020_003  \\\n",
              "0                        10635                       -17715   \n",
              "1                         8975                       -35535   \n",
              "2                         9482                       -12470   \n",
              "\n",
              "   ORG_US_Unemployment_020_004  ORG_US_035_001  ORG_US_035_002  \\\n",
              "0                        -13.2       -5.514835       10.898080   \n",
              "1                         -6.7       -5.351828        2.106120   \n",
              "2                         -5.2       -1.270943        4.573055   \n",
              "\n",
              "   ORG_US_035_003  ORG_US_035_004  \n",
              "0      -57.525572      -55.000000  \n",
              "1      -50.662960      -47.517730  \n",
              "2      -44.927223      -44.067797  \n",
              "\n",
              "[3 rows x 23 columns]"
            ],
            "text/html": [
              "\n",
              "  <div id=\"df-748a1364-2e76-431f-a350-6657648f1048\">\n",
              "    <div class=\"colab-df-container\">\n",
              "      <div>\n",
              "<style scoped>\n",
              "    .dataframe tbody tr th:only-of-type {\n",
              "        vertical-align: middle;\n",
              "    }\n",
              "\n",
              "    .dataframe tbody tr th {\n",
              "        vertical-align: top;\n",
              "    }\n",
              "\n",
              "    .dataframe thead th {\n",
              "        text-align: right;\n",
              "    }\n",
              "</style>\n",
              "<table border=\"1\" class=\"dataframe\">\n",
              "  <thead>\n",
              "    <tr style=\"text-align: right;\">\n",
              "      <th></th>\n",
              "      <th>Geo_FIPS</th>\n",
              "      <th>Geo_NAME</th>\n",
              "      <th>Geo_QNAME</th>\n",
              "      <th>Geo_NATION</th>\n",
              "      <th>Geo_STATE</th>\n",
              "      <th>Geo_COUNTY</th>\n",
              "      <th>Geo_MSA</th>\n",
              "      <th>ORG_US_007_001</th>\n",
              "      <th>ORG_US_007_002</th>\n",
              "      <th>ORG_US_007_003</th>\n",
              "      <th>...</th>\n",
              "      <th>ORG_US_Unemployment_027_003</th>\n",
              "      <th>ORG_US_Unemployment_027_004</th>\n",
              "      <th>ORG_US_Unemployment_020_001</th>\n",
              "      <th>ORG_US_Unemployment_020_002</th>\n",
              "      <th>ORG_US_Unemployment_020_003</th>\n",
              "      <th>ORG_US_Unemployment_020_004</th>\n",
              "      <th>ORG_US_035_001</th>\n",
              "      <th>ORG_US_035_002</th>\n",
              "      <th>ORG_US_035_003</th>\n",
              "      <th>ORG_US_035_004</th>\n",
              "    </tr>\n",
              "  </thead>\n",
              "  <tbody>\n",
              "    <tr>\n",
              "      <th>0</th>\n",
              "      <td>34001</td>\n",
              "      <td>Atlantic County</td>\n",
              "      <td>Atlantic County, New Jersey</td>\n",
              "      <td>0</td>\n",
              "      <td>34</td>\n",
              "      <td>1</td>\n",
              "      <td>NaN</td>\n",
              "      <td>121301</td>\n",
              "      <td>108221</td>\n",
              "      <td>13080</td>\n",
              "      <td>...</td>\n",
              "      <td>30795</td>\n",
              "      <td>24.0</td>\n",
              "      <td>-7080</td>\n",
              "      <td>10635</td>\n",
              "      <td>-17715</td>\n",
              "      <td>-13.2</td>\n",
              "      <td>-5.514835</td>\n",
              "      <td>10.898080</td>\n",
              "      <td>-57.525572</td>\n",
              "      <td>-55.000000</td>\n",
              "    </tr>\n",
              "    <tr>\n",
              "      <th>1</th>\n",
              "      <td>34003</td>\n",
              "      <td>Bergen County</td>\n",
              "      <td>Bergen County, New Jersey</td>\n",
              "      <td>0</td>\n",
              "      <td>34</td>\n",
              "      <td>3</td>\n",
              "      <td>NaN</td>\n",
              "      <td>469719</td>\n",
              "      <td>435114</td>\n",
              "      <td>34605</td>\n",
              "      <td>...</td>\n",
              "      <td>70140</td>\n",
              "      <td>14.1</td>\n",
              "      <td>-26560</td>\n",
              "      <td>8975</td>\n",
              "      <td>-35535</td>\n",
              "      <td>-6.7</td>\n",
              "      <td>-5.351828</td>\n",
              "      <td>2.106120</td>\n",
              "      <td>-50.662960</td>\n",
              "      <td>-47.517730</td>\n",
              "    </tr>\n",
              "    <tr>\n",
              "      <th>2</th>\n",
              "      <td>34005</td>\n",
              "      <td>Burlington County</td>\n",
              "      <td>Burlington County, New Jersey</td>\n",
              "      <td>0</td>\n",
              "      <td>34</td>\n",
              "      <td>5</td>\n",
              "      <td>NaN</td>\n",
              "      <td>232113</td>\n",
              "      <td>216827</td>\n",
              "      <td>15286</td>\n",
              "      <td>...</td>\n",
              "      <td>27756</td>\n",
              "      <td>11.8</td>\n",
              "      <td>-2988</td>\n",
              "      <td>9482</td>\n",
              "      <td>-12470</td>\n",
              "      <td>-5.2</td>\n",
              "      <td>-1.270943</td>\n",
              "      <td>4.573055</td>\n",
              "      <td>-44.927223</td>\n",
              "      <td>-44.067797</td>\n",
              "    </tr>\n",
              "  </tbody>\n",
              "</table>\n",
              "<p>3 rows × 23 columns</p>\n",
              "</div>\n",
              "      <button class=\"colab-df-convert\" onclick=\"convertToInteractive('df-748a1364-2e76-431f-a350-6657648f1048')\"\n",
              "              title=\"Convert this dataframe to an interactive table.\"\n",
              "              style=\"display:none;\">\n",
              "        \n",
              "  <svg xmlns=\"http://www.w3.org/2000/svg\" height=\"24px\"viewBox=\"0 0 24 24\"\n",
              "       width=\"24px\">\n",
              "    <path d=\"M0 0h24v24H0V0z\" fill=\"none\"/>\n",
              "    <path d=\"M18.56 5.44l.94 2.06.94-2.06 2.06-.94-2.06-.94-.94-2.06-.94 2.06-2.06.94zm-11 1L8.5 8.5l.94-2.06 2.06-.94-2.06-.94L8.5 2.5l-.94 2.06-2.06.94zm10 10l.94 2.06.94-2.06 2.06-.94-2.06-.94-.94-2.06-.94 2.06-2.06.94z\"/><path d=\"M17.41 7.96l-1.37-1.37c-.4-.4-.92-.59-1.43-.59-.52 0-1.04.2-1.43.59L10.3 9.45l-7.72 7.72c-.78.78-.78 2.05 0 2.83L4 21.41c.39.39.9.59 1.41.59.51 0 1.02-.2 1.41-.59l7.78-7.78 2.81-2.81c.8-.78.8-2.07 0-2.86zM5.41 20L4 18.59l7.72-7.72 1.47 1.35L5.41 20z\"/>\n",
              "  </svg>\n",
              "      </button>\n",
              "      \n",
              "  <style>\n",
              "    .colab-df-container {\n",
              "      display:flex;\n",
              "      flex-wrap:wrap;\n",
              "      gap: 12px;\n",
              "    }\n",
              "\n",
              "    .colab-df-convert {\n",
              "      background-color: #E8F0FE;\n",
              "      border: none;\n",
              "      border-radius: 50%;\n",
              "      cursor: pointer;\n",
              "      display: none;\n",
              "      fill: #1967D2;\n",
              "      height: 32px;\n",
              "      padding: 0 0 0 0;\n",
              "      width: 32px;\n",
              "    }\n",
              "\n",
              "    .colab-df-convert:hover {\n",
              "      background-color: #E2EBFA;\n",
              "      box-shadow: 0px 1px 2px rgba(60, 64, 67, 0.3), 0px 1px 3px 1px rgba(60, 64, 67, 0.15);\n",
              "      fill: #174EA6;\n",
              "    }\n",
              "\n",
              "    [theme=dark] .colab-df-convert {\n",
              "      background-color: #3B4455;\n",
              "      fill: #D2E3FC;\n",
              "    }\n",
              "\n",
              "    [theme=dark] .colab-df-convert:hover {\n",
              "      background-color: #434B5C;\n",
              "      box-shadow: 0px 1px 3px 1px rgba(0, 0, 0, 0.15);\n",
              "      filter: drop-shadow(0px 1px 2px rgba(0, 0, 0, 0.3));\n",
              "      fill: #FFFFFF;\n",
              "    }\n",
              "  </style>\n",
              "\n",
              "      <script>\n",
              "        const buttonEl =\n",
              "          document.querySelector('#df-748a1364-2e76-431f-a350-6657648f1048 button.colab-df-convert');\n",
              "        buttonEl.style.display =\n",
              "          google.colab.kernel.accessAllowed ? 'block' : 'none';\n",
              "\n",
              "        async function convertToInteractive(key) {\n",
              "          const element = document.querySelector('#df-748a1364-2e76-431f-a350-6657648f1048');\n",
              "          const dataTable =\n",
              "            await google.colab.kernel.invokeFunction('convertToInteractive',\n",
              "                                                     [key], {});\n",
              "          if (!dataTable) return;\n",
              "\n",
              "          const docLinkHtml = 'Like what you see? Visit the ' +\n",
              "            '<a target=\"_blank\" href=https://colab.research.google.com/notebooks/data_table.ipynb>data table notebook</a>'\n",
              "            + ' to learn more about interactive tables.';\n",
              "          element.innerHTML = '';\n",
              "          dataTable['output_type'] = 'display_data';\n",
              "          await google.colab.output.renderOutput(dataTable, element);\n",
              "          const docLink = document.createElement('div');\n",
              "          docLink.innerHTML = docLinkHtml;\n",
              "          element.appendChild(docLink);\n",
              "        }\n",
              "      </script>\n",
              "    </div>\n",
              "  </div>\n",
              "  "
            ]
          },
          "metadata": {},
          "execution_count": 88
        }
      ]
    },
    {
      "cell_type": "code",
      "source": [
        "njunemp.dtypes"
      ],
      "metadata": {
        "colab": {
          "base_uri": "https://localhost:8080/"
        },
        "id": "6CnoqcW3C5jY",
        "outputId": "b7245088-45f4-4863-a852-d9e876141415"
      },
      "execution_count": null,
      "outputs": [
        {
          "output_type": "execute_result",
          "data": {
            "text/plain": [
              "Geo_FIPS                         int64\n",
              "Geo_NAME                        object\n",
              "Geo_QNAME                       object\n",
              "Geo_NATION                       int64\n",
              "Geo_STATE                        int64\n",
              "Geo_COUNTY                       int64\n",
              "Geo_MSA                        float64\n",
              "ORG_US_007_001                   int64\n",
              "ORG_US_007_002                   int64\n",
              "ORG_US_007_003                   int64\n",
              "ORG_US_007_004                 float64\n",
              "ORG_US_Unemployment_027_001      int64\n",
              "ORG_US_Unemployment_027_002      int64\n",
              "ORG_US_Unemployment_027_003      int64\n",
              "ORG_US_Unemployment_027_004    float64\n",
              "ORG_US_Unemployment_020_001      int64\n",
              "ORG_US_Unemployment_020_002      int64\n",
              "ORG_US_Unemployment_020_003      int64\n",
              "ORG_US_Unemployment_020_004    float64\n",
              "ORG_US_035_001                 float64\n",
              "ORG_US_035_002                 float64\n",
              "ORG_US_035_003                 float64\n",
              "ORG_US_035_004                 float64\n",
              "dtype: object"
            ]
          },
          "metadata": {},
          "execution_count": 91
        }
      ]
    },
    {
      "cell_type": "code",
      "source": [],
      "metadata": {
        "id": "5BBgeL7SFWIM"
      },
      "execution_count": null,
      "outputs": []
    },
    {
      "cell_type": "markdown",
      "source": [
        "### Import: Data File 3: New Jersey Zip Codes\n",
        "\n",
        "\n"
      ],
      "metadata": {
        "id": "Y6-XROSiokya"
      }
    },
    {
      "cell_type": "code",
      "source": [
        "#Found this import code at https://towardsdatascience.com/2-easy-ways-to-get-tables-from-a-website-with-pandas-b92fc835e741 save for later \n",
        "#Found the data on a background check website. It was the cleanest file and I wanted to test the import from html table code. \n",
        "pd.read_html('https://www.corragroup.com/new-jersey-county-lookup.html') #aok cool"
      ],
      "metadata": {
        "colab": {
          "base_uri": "https://localhost:8080/"
        },
        "id": "_3gAMetemtVW",
        "outputId": "97d268ca-3439-4de6-da77-3618c3496575"
      },
      "execution_count": 16,
      "outputs": [
        {
          "output_type": "execute_result",
          "data": {
            "text/plain": [
              "[                   City ZIP Code      County\n",
              " 0                   A C    08401    ATLANTIC\n",
              " 1              ABERDEEN    07747    MONMOUTH\n",
              " 2               ABSECON    08201    ATLANTIC\n",
              " 3       ABSECON HEIGHTS    08201    ATLANTIC\n",
              " 4     ABSECON HIGHLANDS    08201    ATLANTIC\n",
              " ...                 ...      ...         ...\n",
              " 1250        WRIGHTSTOWN    08562  BURLINGTON\n",
              " 1251            WYCKOFF    07481      BERGEN\n",
              " 1252          YARDVILLE    08620      MERCER\n",
              " 1253           ZAREPATH    08873    SOMERSET\n",
              " 1254          ZAREPHATH    08890    SOMERSET\n",
              " \n",
              " [1255 rows x 3 columns]]"
            ]
          },
          "metadata": {},
          "execution_count": 16
        }
      ]
    },
    {
      "cell_type": "code",
      "source": [
        "pd.read_html('https://www.corragroup.com/new-jersey-county-lookup.html')[0]"
      ],
      "metadata": {
        "colab": {
          "base_uri": "https://localhost:8080/",
          "height": 423
        },
        "id": "-t-UV3R6pSXj",
        "outputId": "3083d968-2ee2-4c80-9018-79ae1cfec71e"
      },
      "execution_count": 17,
      "outputs": [
        {
          "output_type": "execute_result",
          "data": {
            "text/plain": [
              "                   City ZIP Code      County\n",
              "0                   A C    08401    ATLANTIC\n",
              "1              ABERDEEN    07747    MONMOUTH\n",
              "2               ABSECON    08201    ATLANTIC\n",
              "3       ABSECON HEIGHTS    08201    ATLANTIC\n",
              "4     ABSECON HIGHLANDS    08201    ATLANTIC\n",
              "...                 ...      ...         ...\n",
              "1250        WRIGHTSTOWN    08562  BURLINGTON\n",
              "1251            WYCKOFF    07481      BERGEN\n",
              "1252          YARDVILLE    08620      MERCER\n",
              "1253           ZAREPATH    08873    SOMERSET\n",
              "1254          ZAREPHATH    08890    SOMERSET\n",
              "\n",
              "[1255 rows x 3 columns]"
            ],
            "text/html": [
              "\n",
              "  <div id=\"df-c81d6c24-e946-4c51-9ed8-9bacba5a2a32\">\n",
              "    <div class=\"colab-df-container\">\n",
              "      <div>\n",
              "<style scoped>\n",
              "    .dataframe tbody tr th:only-of-type {\n",
              "        vertical-align: middle;\n",
              "    }\n",
              "\n",
              "    .dataframe tbody tr th {\n",
              "        vertical-align: top;\n",
              "    }\n",
              "\n",
              "    .dataframe thead th {\n",
              "        text-align: right;\n",
              "    }\n",
              "</style>\n",
              "<table border=\"1\" class=\"dataframe\">\n",
              "  <thead>\n",
              "    <tr style=\"text-align: right;\">\n",
              "      <th></th>\n",
              "      <th>City</th>\n",
              "      <th>ZIP Code</th>\n",
              "      <th>County</th>\n",
              "    </tr>\n",
              "  </thead>\n",
              "  <tbody>\n",
              "    <tr>\n",
              "      <th>0</th>\n",
              "      <td>A C</td>\n",
              "      <td>08401</td>\n",
              "      <td>ATLANTIC</td>\n",
              "    </tr>\n",
              "    <tr>\n",
              "      <th>1</th>\n",
              "      <td>ABERDEEN</td>\n",
              "      <td>07747</td>\n",
              "      <td>MONMOUTH</td>\n",
              "    </tr>\n",
              "    <tr>\n",
              "      <th>2</th>\n",
              "      <td>ABSECON</td>\n",
              "      <td>08201</td>\n",
              "      <td>ATLANTIC</td>\n",
              "    </tr>\n",
              "    <tr>\n",
              "      <th>3</th>\n",
              "      <td>ABSECON HEIGHTS</td>\n",
              "      <td>08201</td>\n",
              "      <td>ATLANTIC</td>\n",
              "    </tr>\n",
              "    <tr>\n",
              "      <th>4</th>\n",
              "      <td>ABSECON HIGHLANDS</td>\n",
              "      <td>08201</td>\n",
              "      <td>ATLANTIC</td>\n",
              "    </tr>\n",
              "    <tr>\n",
              "      <th>...</th>\n",
              "      <td>...</td>\n",
              "      <td>...</td>\n",
              "      <td>...</td>\n",
              "    </tr>\n",
              "    <tr>\n",
              "      <th>1250</th>\n",
              "      <td>WRIGHTSTOWN</td>\n",
              "      <td>08562</td>\n",
              "      <td>BURLINGTON</td>\n",
              "    </tr>\n",
              "    <tr>\n",
              "      <th>1251</th>\n",
              "      <td>WYCKOFF</td>\n",
              "      <td>07481</td>\n",
              "      <td>BERGEN</td>\n",
              "    </tr>\n",
              "    <tr>\n",
              "      <th>1252</th>\n",
              "      <td>YARDVILLE</td>\n",
              "      <td>08620</td>\n",
              "      <td>MERCER</td>\n",
              "    </tr>\n",
              "    <tr>\n",
              "      <th>1253</th>\n",
              "      <td>ZAREPATH</td>\n",
              "      <td>08873</td>\n",
              "      <td>SOMERSET</td>\n",
              "    </tr>\n",
              "    <tr>\n",
              "      <th>1254</th>\n",
              "      <td>ZAREPHATH</td>\n",
              "      <td>08890</td>\n",
              "      <td>SOMERSET</td>\n",
              "    </tr>\n",
              "  </tbody>\n",
              "</table>\n",
              "<p>1255 rows × 3 columns</p>\n",
              "</div>\n",
              "      <button class=\"colab-df-convert\" onclick=\"convertToInteractive('df-c81d6c24-e946-4c51-9ed8-9bacba5a2a32')\"\n",
              "              title=\"Convert this dataframe to an interactive table.\"\n",
              "              style=\"display:none;\">\n",
              "        \n",
              "  <svg xmlns=\"http://www.w3.org/2000/svg\" height=\"24px\"viewBox=\"0 0 24 24\"\n",
              "       width=\"24px\">\n",
              "    <path d=\"M0 0h24v24H0V0z\" fill=\"none\"/>\n",
              "    <path d=\"M18.56 5.44l.94 2.06.94-2.06 2.06-.94-2.06-.94-.94-2.06-.94 2.06-2.06.94zm-11 1L8.5 8.5l.94-2.06 2.06-.94-2.06-.94L8.5 2.5l-.94 2.06-2.06.94zm10 10l.94 2.06.94-2.06 2.06-.94-2.06-.94-.94-2.06-.94 2.06-2.06.94z\"/><path d=\"M17.41 7.96l-1.37-1.37c-.4-.4-.92-.59-1.43-.59-.52 0-1.04.2-1.43.59L10.3 9.45l-7.72 7.72c-.78.78-.78 2.05 0 2.83L4 21.41c.39.39.9.59 1.41.59.51 0 1.02-.2 1.41-.59l7.78-7.78 2.81-2.81c.8-.78.8-2.07 0-2.86zM5.41 20L4 18.59l7.72-7.72 1.47 1.35L5.41 20z\"/>\n",
              "  </svg>\n",
              "      </button>\n",
              "      \n",
              "  <style>\n",
              "    .colab-df-container {\n",
              "      display:flex;\n",
              "      flex-wrap:wrap;\n",
              "      gap: 12px;\n",
              "    }\n",
              "\n",
              "    .colab-df-convert {\n",
              "      background-color: #E8F0FE;\n",
              "      border: none;\n",
              "      border-radius: 50%;\n",
              "      cursor: pointer;\n",
              "      display: none;\n",
              "      fill: #1967D2;\n",
              "      height: 32px;\n",
              "      padding: 0 0 0 0;\n",
              "      width: 32px;\n",
              "    }\n",
              "\n",
              "    .colab-df-convert:hover {\n",
              "      background-color: #E2EBFA;\n",
              "      box-shadow: 0px 1px 2px rgba(60, 64, 67, 0.3), 0px 1px 3px 1px rgba(60, 64, 67, 0.15);\n",
              "      fill: #174EA6;\n",
              "    }\n",
              "\n",
              "    [theme=dark] .colab-df-convert {\n",
              "      background-color: #3B4455;\n",
              "      fill: #D2E3FC;\n",
              "    }\n",
              "\n",
              "    [theme=dark] .colab-df-convert:hover {\n",
              "      background-color: #434B5C;\n",
              "      box-shadow: 0px 1px 3px 1px rgba(0, 0, 0, 0.15);\n",
              "      filter: drop-shadow(0px 1px 2px rgba(0, 0, 0, 0.3));\n",
              "      fill: #FFFFFF;\n",
              "    }\n",
              "  </style>\n",
              "\n",
              "      <script>\n",
              "        const buttonEl =\n",
              "          document.querySelector('#df-c81d6c24-e946-4c51-9ed8-9bacba5a2a32 button.colab-df-convert');\n",
              "        buttonEl.style.display =\n",
              "          google.colab.kernel.accessAllowed ? 'block' : 'none';\n",
              "\n",
              "        async function convertToInteractive(key) {\n",
              "          const element = document.querySelector('#df-c81d6c24-e946-4c51-9ed8-9bacba5a2a32');\n",
              "          const dataTable =\n",
              "            await google.colab.kernel.invokeFunction('convertToInteractive',\n",
              "                                                     [key], {});\n",
              "          if (!dataTable) return;\n",
              "\n",
              "          const docLinkHtml = 'Like what you see? Visit the ' +\n",
              "            '<a target=\"_blank\" href=https://colab.research.google.com/notebooks/data_table.ipynb>data table notebook</a>'\n",
              "            + ' to learn more about interactive tables.';\n",
              "          element.innerHTML = '';\n",
              "          dataTable['output_type'] = 'display_data';\n",
              "          await google.colab.output.renderOutput(dataTable, element);\n",
              "          const docLink = document.createElement('div');\n",
              "          docLink.innerHTML = docLinkHtml;\n",
              "          element.appendChild(docLink);\n",
              "        }\n",
              "      </script>\n",
              "    </div>\n",
              "  </div>\n",
              "  "
            ]
          },
          "metadata": {},
          "execution_count": 17
        }
      ]
    },
    {
      "cell_type": "markdown",
      "source": [
        "### Import: Data: Notes, Observations and Next Steps\n",
        "\n",
        "**App Data File** \n",
        "\n",
        "*   Isolate New Jersey Applicants\n",
        "*   Clean plus four from zip codes \n",
        "*   Rename \"Mailing Zip/Postal Code\" to \"Zip Code\"\n",
        "* File has no county names information will need other files to merge. \n",
        "\n",
        "**NJ Unemployment File**\n",
        "\n",
        "* \n",
        "\n"
      ],
      "metadata": {
        "id": "bzIySeAozLua"
      }
    },
    {
      "cell_type": "markdown",
      "source": [
        "## Manipulating Data: Renaming Variables"
      ],
      "metadata": {
        "id": "kzTP1IO96b2O"
      }
    }
  ]
}