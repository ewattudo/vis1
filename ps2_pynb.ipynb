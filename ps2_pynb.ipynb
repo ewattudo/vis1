{
  "nbformat": 4,
  "nbformat_minor": 0,
  "metadata": {
    "colab": {
      "provenance": [],
      "authorship_tag": "ABX9TyOiJ2GEyz4OsPiQjArdEsaA",
      "include_colab_link": true
    },
    "kernelspec": {
      "name": "python3",
      "display_name": "Python 3"
    },
    "language_info": {
      "name": "python"
    }
  },
  "cells": [
    {
      "cell_type": "markdown",
      "metadata": {
        "id": "view-in-github",
        "colab_type": "text"
      },
      "source": [
        "<a href=\"https://colab.research.google.com/github/ewattudo/vis1/blob/main/ps2_pynb.ipynb\" target=\"_parent\"><img src=\"https://colab.research.google.com/assets/colab-badge.svg\" alt=\"Open In Colab\"/></a>"
      ]
    },
    {
      "cell_type": "markdown",
      "source": [
        "# PS2 Manipulating Data and Merging - Erick Watt-Udogu "
      ],
      "metadata": {
        "id": "PDpLwK64jwOn"
      }
    },
    {
      "cell_type": "markdown",
      "source": [
        "## **Import: Code**\n",
        "\n",
        "This section includes import code. "
      ],
      "metadata": {
        "id": "9eTB845YlVG8"
      }
    },
    {
      "cell_type": "code",
      "execution_count": null,
      "metadata": {
        "colab": {
          "base_uri": "https://localhost:8080/"
        },
        "id": "dASOwigzjlSH",
        "outputId": "a2ecab43-a3a4-432a-fc88-9075f734695c"
      },
      "outputs": [
        {
          "output_type": "stream",
          "name": "stdout",
          "text": [
            "Looking in indexes: https://pypi.org/simple, https://us-python.pkg.dev/colab-wheels/public/simple/\n",
            "Collecting geopandas\n",
            "  Downloading geopandas-0.12.2-py3-none-any.whl (1.1 MB)\n",
            "\u001b[2K     \u001b[90m━━━━━━━━━━━━━━━━━━━━━━━━━━━━━━━━━━━━━━━━\u001b[0m \u001b[32m1.1/1.1 MB\u001b[0m \u001b[31m8.4 MB/s\u001b[0m eta \u001b[36m0:00:00\u001b[0m\n",
            "\u001b[?25hRequirement already satisfied: shapely>=1.7 in /usr/local/lib/python3.8/dist-packages (from geopandas) (2.0.1)\n",
            "Requirement already satisfied: packaging in /usr/local/lib/python3.8/dist-packages (from geopandas) (23.0)\n",
            "Collecting fiona>=1.8\n",
            "  Downloading Fiona-1.9.0-cp38-cp38-manylinux_2_17_x86_64.manylinux2014_x86_64.whl (16.9 MB)\n",
            "\u001b[2K     \u001b[90m━━━━━━━━━━━━━━━━━━━━━━━━━━━━━━━━━━━━━━━━\u001b[0m \u001b[32m16.9/16.9 MB\u001b[0m \u001b[31m27.1 MB/s\u001b[0m eta \u001b[36m0:00:00\u001b[0m\n",
            "\u001b[?25hRequirement already satisfied: pandas>=1.0.0 in /usr/local/lib/python3.8/dist-packages (from geopandas) (1.3.5)\n",
            "Collecting pyproj>=2.6.1.post1\n",
            "  Downloading pyproj-3.4.1-cp38-cp38-manylinux_2_17_x86_64.manylinux2014_x86_64.whl (7.8 MB)\n",
            "\u001b[2K     \u001b[90m━━━━━━━━━━━━━━━━━━━━━━━━━━━━━━━━━━━━━━━━\u001b[0m \u001b[32m7.8/7.8 MB\u001b[0m \u001b[31m17.4 MB/s\u001b[0m eta \u001b[36m0:00:00\u001b[0m\n",
            "\u001b[?25hCollecting click-plugins>=1.0\n",
            "  Downloading click_plugins-1.1.1-py2.py3-none-any.whl (7.5 kB)\n",
            "Requirement already satisfied: attrs>=19.2.0 in /usr/local/lib/python3.8/dist-packages (from fiona>=1.8->geopandas) (22.2.0)\n",
            "Collecting click~=8.0\n",
            "  Downloading click-8.1.3-py3-none-any.whl (96 kB)\n",
            "\u001b[2K     \u001b[90m━━━━━━━━━━━━━━━━━━━━━━━━━━━━━━━━━━━━━━━━\u001b[0m \u001b[32m96.6/96.6 KB\u001b[0m \u001b[31m6.3 MB/s\u001b[0m eta \u001b[36m0:00:00\u001b[0m\n",
            "\u001b[?25hCollecting munch>=2.3.2\n",
            "  Downloading munch-2.5.0-py2.py3-none-any.whl (10 kB)\n",
            "Collecting cligj>=0.5\n",
            "  Downloading cligj-0.7.2-py3-none-any.whl (7.1 kB)\n",
            "Requirement already satisfied: certifi in /usr/local/lib/python3.8/dist-packages (from fiona>=1.8->geopandas) (2022.12.7)\n",
            "Requirement already satisfied: python-dateutil>=2.7.3 in /usr/local/lib/python3.8/dist-packages (from pandas>=1.0.0->geopandas) (2.8.2)\n",
            "Requirement already satisfied: numpy>=1.17.3 in /usr/local/lib/python3.8/dist-packages (from pandas>=1.0.0->geopandas) (1.21.6)\n",
            "Requirement already satisfied: pytz>=2017.3 in /usr/local/lib/python3.8/dist-packages (from pandas>=1.0.0->geopandas) (2022.7.1)\n",
            "Requirement already satisfied: six in /usr/local/lib/python3.8/dist-packages (from munch>=2.3.2->fiona>=1.8->geopandas) (1.15.0)\n",
            "Installing collected packages: pyproj, munch, click, cligj, click-plugins, fiona, geopandas\n",
            "  Attempting uninstall: click\n",
            "    Found existing installation: click 7.1.2\n",
            "    Uninstalling click-7.1.2:\n",
            "      Successfully uninstalled click-7.1.2\n",
            "\u001b[31mERROR: pip's dependency resolver does not currently take into account all the packages that are installed. This behaviour is the source of the following dependency conflicts.\n",
            "flask 1.1.4 requires click<8.0,>=5.1, but you have click 8.1.3 which is incompatible.\u001b[0m\u001b[31m\n",
            "\u001b[0mSuccessfully installed click-8.1.3 click-plugins-1.1.1 cligj-0.7.2 fiona-1.9.0 geopandas-0.12.2 munch-2.5.0 pyproj-3.4.1\n"
          ]
        }
      ],
      "source": [
        "import os, sys, re #basics\n",
        "import zipfile, json, datetime, string   #string for annotating points in scatter \n",
        "import numpy as np\n",
        "from statistics import *\n",
        "\n",
        "import pylab as plt\n",
        "import pandas as pd\n",
        "import pandas_datareader as pdr\n",
        "from pandas_datareader import wb\n",
        "from pandas.io.formats.style import Styler\n",
        "#s4 = Styler(df4, uuid_len=0, cell_ids=False)\n",
        "\n",
        "\n",
        "import urllib  #weird, guess need to have os and pandas imported for this to work                                                  \n",
        "                                                                          \n",
        "import webbrowser                                                                      \n",
        "import folium as f                                                                     \n",
        "from folium.plugins import MarkerCluster, HeatMap                                      \n",
        "\n",
        "#! pip install geocoder #]later maybe\n",
        "! pip install geopandas #this is how you install packages on colab\n",
        "import geopandas as gpd                                                                                       \n",
        "#from geopy.geocoders import Nominatim #later maybe\n",
        "\n",
        "import seaborn as sns\n",
        "\n",
        "#many tricks how to extend notebook functionality\n",
        "#https://coderzcolumn.com/tutorials/python/list-of-useful-magic-commands-in-jupyter-notebook-lab\n",
        "#will display all output not just last command\n",
        "from IPython.core.interactiveshell import InteractiveShell\n",
        "InteractiveShell.ast_node_interactivity = \"all\""
      ]
    },
    {
      "cell_type": "markdown",
      "source": [
        "## **Import: Data**\n",
        "This section is code for importing data.\n",
        "\n"
      ],
      "metadata": {
        "id": "d5OXCk3rlwcQ"
      }
    },
    {
      "cell_type": "markdown",
      "source": [
        "### Import: Data File 1: Application Data"
      ],
      "metadata": {
        "id": "IjCDGECboWtS"
      }
    },
    {
      "cell_type": "code",
      "source": [
        "#This is work data I cleaned of identifying information. \n",
        "urllib.request.urlretrieve(\"https://raw.githubusercontent.com/ewattudo/vis1/main/appdata.csv\", \"appdata\")"
      ],
      "metadata": {
        "colab": {
          "base_uri": "https://localhost:8080/"
        },
        "id": "BXhz3-JcnPs6",
        "outputId": "b4dddc52-1552-41d0-dd18-5c49c96ae9db"
      },
      "execution_count": null,
      "outputs": [
        {
          "output_type": "execute_result",
          "data": {
            "text/plain": [
              "('appdata', <http.client.HTTPMessage at 0x7f6ed41ed070>)"
            ]
          },
          "metadata": {},
          "execution_count": 2
        }
      ]
    },
    {
      "cell_type": "code",
      "source": [
        "os.getcwd() #pwd\n",
        "os.listdir() #compare to clicking on the left the folder icon #dir"
      ],
      "metadata": {
        "colab": {
          "base_uri": "https://localhost:8080/",
          "height": 36
        },
        "id": "I8GjDjV_nak1",
        "outputId": "3e78b290-3c59-4e3a-949b-1d03f19ff767"
      },
      "execution_count": null,
      "outputs": [
        {
          "output_type": "execute_result",
          "data": {
            "text/plain": [
              "'/content'"
            ],
            "application/vnd.google.colaboratory.intrinsic+json": {
              "type": "string"
            }
          },
          "metadata": {},
          "execution_count": 3
        },
        {
          "output_type": "execute_result",
          "data": {
            "text/plain": [
              "['.config', 'appdata', 'sample_data']"
            ]
          },
          "metadata": {},
          "execution_count": 3
        }
      ]
    },
    {
      "cell_type": "code",
      "source": [
        "appdat=pd.read_csv('appdata')"
      ],
      "metadata": {
        "id": "RLMnOHLIndK9"
      },
      "execution_count": null,
      "outputs": []
    },
    {
      "cell_type": "code",
      "source": [
        "appdat.columns"
      ],
      "metadata": {
        "colab": {
          "base_uri": "https://localhost:8080/"
        },
        "id": "bGMquDe_oIXI",
        "outputId": "a16c880f-7111-4ed7-8450-fe4fab739a62"
      },
      "execution_count": null,
      "outputs": [
        {
          "output_type": "execute_result",
          "data": {
            "text/plain": [
              "Index(['ID ', 'Degree Type', 'Final Recommended Decision', 'Admit-Coming',\n",
              "       'Application Created Date', 'Days Before the Beginning of Semester ',\n",
              "       'Domestic or INTL Applicant', 'Reporting Term', 'Age When Applied',\n",
              "       'Mailing Zip/Postal Code', 'Mailing State/Province', 'Mailing Country',\n",
              "       'Most Recent Educational Institution: Account Name', 'Gender', 'Race',\n",
              "       'Program Selection: Program Selection Name', 'Admissions Status'],\n",
              "      dtype='object')"
            ]
          },
          "metadata": {},
          "execution_count": 5
        }
      ]
    },
    {
      "cell_type": "code",
      "source": [
        "appdat.head(3)"
      ],
      "metadata": {
        "colab": {
          "base_uri": "https://localhost:8080/",
          "height": 482
        },
        "id": "RhksXcBCqgNm",
        "outputId": "3020acad-7435-4925-de10-fbab780b3058"
      },
      "execution_count": null,
      "outputs": [
        {
          "output_type": "execute_result",
          "data": {
            "text/plain": [
              "   ID                        Degree Type Final Recommended Decision  \\\n",
              "0    1  Master's (e.g. MA, MS, EdM, MFA)                        NaN   \n",
              "1    2  Master's (e.g. MA, MS, EdM, MFA)                        NaN   \n",
              "2    3  Master's (e.g. MA, MS, EdM, MFA)                        NaN   \n",
              "\n",
              "   Admit-Coming Application Created Date  \\\n",
              "0             0                12/7/2021   \n",
              "1             0                 1/2/2022   \n",
              "2             0                3/15/2022   \n",
              "\n",
              "   Days Before the Beginning of Semester  Domestic or INTL Applicant  \\\n",
              "0                                     273              International   \n",
              "1                                     247              International   \n",
              "2                                     175                   Domestic   \n",
              "\n",
              "  Reporting Term  Age When Applied Mailing Zip/Postal Code  \\\n",
              "0      Fall 2022              23.0                   56407   \n",
              "1      Fall 2022              21.0                  380058   \n",
              "2      Fall 2022              22.0              07009-1245   \n",
              "\n",
              "  Mailing State/Province Mailing Country  \\\n",
              "0              Pradesh 2           Nepal   \n",
              "1                Gujarat           India   \n",
              "2             New Jersey   United States   \n",
              "\n",
              "  Most Recent Educational Institution: Account Name  Gender   Race  \\\n",
              "0                    Vellore Institute Of Technolog    Male  Asian   \n",
              "1                              Ahmedabad University  Female  Asian   \n",
              "2                           Mount Olive High School    Male  Asian   \n",
              "\n",
              "     Program Selection: Program Selection Name Admissions Status  \n",
              "0  Biology: Computational and Integrative (MS)       Started App  \n",
              "1  Biology: Computational and Integrative (MS)       Started App  \n",
              "2  Biology: Computational and Integrative (MS)       Started App  "
            ],
            "text/html": [
              "\n",
              "  <div id=\"df-04457567-2335-46bf-a456-a11fa45fec23\">\n",
              "    <div class=\"colab-df-container\">\n",
              "      <div>\n",
              "<style scoped>\n",
              "    .dataframe tbody tr th:only-of-type {\n",
              "        vertical-align: middle;\n",
              "    }\n",
              "\n",
              "    .dataframe tbody tr th {\n",
              "        vertical-align: top;\n",
              "    }\n",
              "\n",
              "    .dataframe thead th {\n",
              "        text-align: right;\n",
              "    }\n",
              "</style>\n",
              "<table border=\"1\" class=\"dataframe\">\n",
              "  <thead>\n",
              "    <tr style=\"text-align: right;\">\n",
              "      <th></th>\n",
              "      <th>ID</th>\n",
              "      <th>Degree Type</th>\n",
              "      <th>Final Recommended Decision</th>\n",
              "      <th>Admit-Coming</th>\n",
              "      <th>Application Created Date</th>\n",
              "      <th>Days Before the Beginning of Semester</th>\n",
              "      <th>Domestic or INTL Applicant</th>\n",
              "      <th>Reporting Term</th>\n",
              "      <th>Age When Applied</th>\n",
              "      <th>Mailing Zip/Postal Code</th>\n",
              "      <th>Mailing State/Province</th>\n",
              "      <th>Mailing Country</th>\n",
              "      <th>Most Recent Educational Institution: Account Name</th>\n",
              "      <th>Gender</th>\n",
              "      <th>Race</th>\n",
              "      <th>Program Selection: Program Selection Name</th>\n",
              "      <th>Admissions Status</th>\n",
              "    </tr>\n",
              "  </thead>\n",
              "  <tbody>\n",
              "    <tr>\n",
              "      <th>0</th>\n",
              "      <td>1</td>\n",
              "      <td>Master's (e.g. MA, MS, EdM, MFA)</td>\n",
              "      <td>NaN</td>\n",
              "      <td>0</td>\n",
              "      <td>12/7/2021</td>\n",
              "      <td>273</td>\n",
              "      <td>International</td>\n",
              "      <td>Fall 2022</td>\n",
              "      <td>23.0</td>\n",
              "      <td>56407</td>\n",
              "      <td>Pradesh 2</td>\n",
              "      <td>Nepal</td>\n",
              "      <td>Vellore Institute Of Technolog</td>\n",
              "      <td>Male</td>\n",
              "      <td>Asian</td>\n",
              "      <td>Biology: Computational and Integrative (MS)</td>\n",
              "      <td>Started App</td>\n",
              "    </tr>\n",
              "    <tr>\n",
              "      <th>1</th>\n",
              "      <td>2</td>\n",
              "      <td>Master's (e.g. MA, MS, EdM, MFA)</td>\n",
              "      <td>NaN</td>\n",
              "      <td>0</td>\n",
              "      <td>1/2/2022</td>\n",
              "      <td>247</td>\n",
              "      <td>International</td>\n",
              "      <td>Fall 2022</td>\n",
              "      <td>21.0</td>\n",
              "      <td>380058</td>\n",
              "      <td>Gujarat</td>\n",
              "      <td>India</td>\n",
              "      <td>Ahmedabad University</td>\n",
              "      <td>Female</td>\n",
              "      <td>Asian</td>\n",
              "      <td>Biology: Computational and Integrative (MS)</td>\n",
              "      <td>Started App</td>\n",
              "    </tr>\n",
              "    <tr>\n",
              "      <th>2</th>\n",
              "      <td>3</td>\n",
              "      <td>Master's (e.g. MA, MS, EdM, MFA)</td>\n",
              "      <td>NaN</td>\n",
              "      <td>0</td>\n",
              "      <td>3/15/2022</td>\n",
              "      <td>175</td>\n",
              "      <td>Domestic</td>\n",
              "      <td>Fall 2022</td>\n",
              "      <td>22.0</td>\n",
              "      <td>07009-1245</td>\n",
              "      <td>New Jersey</td>\n",
              "      <td>United States</td>\n",
              "      <td>Mount Olive High School</td>\n",
              "      <td>Male</td>\n",
              "      <td>Asian</td>\n",
              "      <td>Biology: Computational and Integrative (MS)</td>\n",
              "      <td>Started App</td>\n",
              "    </tr>\n",
              "  </tbody>\n",
              "</table>\n",
              "</div>\n",
              "      <button class=\"colab-df-convert\" onclick=\"convertToInteractive('df-04457567-2335-46bf-a456-a11fa45fec23')\"\n",
              "              title=\"Convert this dataframe to an interactive table.\"\n",
              "              style=\"display:none;\">\n",
              "        \n",
              "  <svg xmlns=\"http://www.w3.org/2000/svg\" height=\"24px\"viewBox=\"0 0 24 24\"\n",
              "       width=\"24px\">\n",
              "    <path d=\"M0 0h24v24H0V0z\" fill=\"none\"/>\n",
              "    <path d=\"M18.56 5.44l.94 2.06.94-2.06 2.06-.94-2.06-.94-.94-2.06-.94 2.06-2.06.94zm-11 1L8.5 8.5l.94-2.06 2.06-.94-2.06-.94L8.5 2.5l-.94 2.06-2.06.94zm10 10l.94 2.06.94-2.06 2.06-.94-2.06-.94-.94-2.06-.94 2.06-2.06.94z\"/><path d=\"M17.41 7.96l-1.37-1.37c-.4-.4-.92-.59-1.43-.59-.52 0-1.04.2-1.43.59L10.3 9.45l-7.72 7.72c-.78.78-.78 2.05 0 2.83L4 21.41c.39.39.9.59 1.41.59.51 0 1.02-.2 1.41-.59l7.78-7.78 2.81-2.81c.8-.78.8-2.07 0-2.86zM5.41 20L4 18.59l7.72-7.72 1.47 1.35L5.41 20z\"/>\n",
              "  </svg>\n",
              "      </button>\n",
              "      \n",
              "  <style>\n",
              "    .colab-df-container {\n",
              "      display:flex;\n",
              "      flex-wrap:wrap;\n",
              "      gap: 12px;\n",
              "    }\n",
              "\n",
              "    .colab-df-convert {\n",
              "      background-color: #E8F0FE;\n",
              "      border: none;\n",
              "      border-radius: 50%;\n",
              "      cursor: pointer;\n",
              "      display: none;\n",
              "      fill: #1967D2;\n",
              "      height: 32px;\n",
              "      padding: 0 0 0 0;\n",
              "      width: 32px;\n",
              "    }\n",
              "\n",
              "    .colab-df-convert:hover {\n",
              "      background-color: #E2EBFA;\n",
              "      box-shadow: 0px 1px 2px rgba(60, 64, 67, 0.3), 0px 1px 3px 1px rgba(60, 64, 67, 0.15);\n",
              "      fill: #174EA6;\n",
              "    }\n",
              "\n",
              "    [theme=dark] .colab-df-convert {\n",
              "      background-color: #3B4455;\n",
              "      fill: #D2E3FC;\n",
              "    }\n",
              "\n",
              "    [theme=dark] .colab-df-convert:hover {\n",
              "      background-color: #434B5C;\n",
              "      box-shadow: 0px 1px 3px 1px rgba(0, 0, 0, 0.15);\n",
              "      filter: drop-shadow(0px 1px 2px rgba(0, 0, 0, 0.3));\n",
              "      fill: #FFFFFF;\n",
              "    }\n",
              "  </style>\n",
              "\n",
              "      <script>\n",
              "        const buttonEl =\n",
              "          document.querySelector('#df-04457567-2335-46bf-a456-a11fa45fec23 button.colab-df-convert');\n",
              "        buttonEl.style.display =\n",
              "          google.colab.kernel.accessAllowed ? 'block' : 'none';\n",
              "\n",
              "        async function convertToInteractive(key) {\n",
              "          const element = document.querySelector('#df-04457567-2335-46bf-a456-a11fa45fec23');\n",
              "          const dataTable =\n",
              "            await google.colab.kernel.invokeFunction('convertToInteractive',\n",
              "                                                     [key], {});\n",
              "          if (!dataTable) return;\n",
              "\n",
              "          const docLinkHtml = 'Like what you see? Visit the ' +\n",
              "            '<a target=\"_blank\" href=https://colab.research.google.com/notebooks/data_table.ipynb>data table notebook</a>'\n",
              "            + ' to learn more about interactive tables.';\n",
              "          element.innerHTML = '';\n",
              "          dataTable['output_type'] = 'display_data';\n",
              "          await google.colab.output.renderOutput(dataTable, element);\n",
              "          const docLink = document.createElement('div');\n",
              "          docLink.innerHTML = docLinkHtml;\n",
              "          element.appendChild(docLink);\n",
              "        }\n",
              "      </script>\n",
              "    </div>\n",
              "  </div>\n",
              "  "
            ]
          },
          "metadata": {},
          "execution_count": 6
        }
      ]
    },
    {
      "cell_type": "code",
      "source": [
        "appdat.dtypes"
      ],
      "metadata": {
        "colab": {
          "base_uri": "https://localhost:8080/"
        },
        "id": "pz-JiHB4FPUA",
        "outputId": "64f748e8-c025-444d-dffe-9fa1d0420d6c"
      },
      "execution_count": 80,
      "outputs": [
        {
          "output_type": "execute_result",
          "data": {
            "text/plain": [
              "ID                                                     int64\n",
              "Degree Type                                           object\n",
              "Final Recommended Decision                            object\n",
              "Admit-Coming                                           int64\n",
              "Application Created Date                              object\n",
              "Days Before the Beginning of Semester                  int64\n",
              "Domestic or INTL Applicant                            object\n",
              "Reporting Term                                        object\n",
              "Age When Applied                                     float64\n",
              "Mailing Zip/Postal Code                               object\n",
              "Mailing State/Province                                object\n",
              "Mailing Country                                       object\n",
              "Most Recent Educational Institution: Account Name     object\n",
              "Gender                                                object\n",
              "Race                                                  object\n",
              "Program Selection: Program Selection Name             object\n",
              "Admissions Status                                     object\n",
              "dtype: object"
            ]
          },
          "metadata": {},
          "execution_count": 80
        }
      ]
    },
    {
      "cell_type": "code",
      "source": [
        "appdat = appdat.drop(['Degree Type','Domestic or INTL Applicant','Age When Applied'],axis=1)"
      ],
      "metadata": {
        "id": "DV5JJKD3IjsN"
      },
      "execution_count": 81,
      "outputs": []
    },
    {
      "cell_type": "code",
      "source": [
        "appdat.head(3)"
      ],
      "metadata": {
        "colab": {
          "base_uri": "https://localhost:8080/",
          "height": 343
        },
        "id": "tcJgUs3JJIIo",
        "outputId": "0351ad00-cc4a-4575-a3de-0c56a6db11ba"
      },
      "execution_count": 82,
      "outputs": [
        {
          "output_type": "execute_result",
          "data": {
            "text/plain": [
              "   ID  Final Recommended Decision  Admit-Coming Application Created Date  \\\n",
              "0    1                        NaN             0                12/7/2021   \n",
              "1    2                        NaN             0                 1/2/2022   \n",
              "2    3                        NaN             0                3/15/2022   \n",
              "\n",
              "   Days Before the Beginning of Semester  Reporting Term  \\\n",
              "0                                     273      Fall 2022   \n",
              "1                                     247      Fall 2022   \n",
              "2                                     175      Fall 2022   \n",
              "\n",
              "  Mailing Zip/Postal Code Mailing State/Province Mailing Country  \\\n",
              "0                   56407              Pradesh 2           Nepal   \n",
              "1                  380058                Gujarat           India   \n",
              "2              07009-1245             New Jersey   United States   \n",
              "\n",
              "  Most Recent Educational Institution: Account Name  Gender   Race  \\\n",
              "0                    Vellore Institute Of Technolog    Male  Asian   \n",
              "1                              Ahmedabad University  Female  Asian   \n",
              "2                           Mount Olive High School    Male  Asian   \n",
              "\n",
              "     Program Selection: Program Selection Name Admissions Status  \n",
              "0  Biology: Computational and Integrative (MS)       Started App  \n",
              "1  Biology: Computational and Integrative (MS)       Started App  \n",
              "2  Biology: Computational and Integrative (MS)       Started App  "
            ],
            "text/html": [
              "\n",
              "  <div id=\"df-e5cb00ca-eacd-4fea-a36a-8207ef5118f2\">\n",
              "    <div class=\"colab-df-container\">\n",
              "      <div>\n",
              "<style scoped>\n",
              "    .dataframe tbody tr th:only-of-type {\n",
              "        vertical-align: middle;\n",
              "    }\n",
              "\n",
              "    .dataframe tbody tr th {\n",
              "        vertical-align: top;\n",
              "    }\n",
              "\n",
              "    .dataframe thead th {\n",
              "        text-align: right;\n",
              "    }\n",
              "</style>\n",
              "<table border=\"1\" class=\"dataframe\">\n",
              "  <thead>\n",
              "    <tr style=\"text-align: right;\">\n",
              "      <th></th>\n",
              "      <th>ID</th>\n",
              "      <th>Final Recommended Decision</th>\n",
              "      <th>Admit-Coming</th>\n",
              "      <th>Application Created Date</th>\n",
              "      <th>Days Before the Beginning of Semester</th>\n",
              "      <th>Reporting Term</th>\n",
              "      <th>Mailing Zip/Postal Code</th>\n",
              "      <th>Mailing State/Province</th>\n",
              "      <th>Mailing Country</th>\n",
              "      <th>Most Recent Educational Institution: Account Name</th>\n",
              "      <th>Gender</th>\n",
              "      <th>Race</th>\n",
              "      <th>Program Selection: Program Selection Name</th>\n",
              "      <th>Admissions Status</th>\n",
              "    </tr>\n",
              "  </thead>\n",
              "  <tbody>\n",
              "    <tr>\n",
              "      <th>0</th>\n",
              "      <td>1</td>\n",
              "      <td>NaN</td>\n",
              "      <td>0</td>\n",
              "      <td>12/7/2021</td>\n",
              "      <td>273</td>\n",
              "      <td>Fall 2022</td>\n",
              "      <td>56407</td>\n",
              "      <td>Pradesh 2</td>\n",
              "      <td>Nepal</td>\n",
              "      <td>Vellore Institute Of Technolog</td>\n",
              "      <td>Male</td>\n",
              "      <td>Asian</td>\n",
              "      <td>Biology: Computational and Integrative (MS)</td>\n",
              "      <td>Started App</td>\n",
              "    </tr>\n",
              "    <tr>\n",
              "      <th>1</th>\n",
              "      <td>2</td>\n",
              "      <td>NaN</td>\n",
              "      <td>0</td>\n",
              "      <td>1/2/2022</td>\n",
              "      <td>247</td>\n",
              "      <td>Fall 2022</td>\n",
              "      <td>380058</td>\n",
              "      <td>Gujarat</td>\n",
              "      <td>India</td>\n",
              "      <td>Ahmedabad University</td>\n",
              "      <td>Female</td>\n",
              "      <td>Asian</td>\n",
              "      <td>Biology: Computational and Integrative (MS)</td>\n",
              "      <td>Started App</td>\n",
              "    </tr>\n",
              "    <tr>\n",
              "      <th>2</th>\n",
              "      <td>3</td>\n",
              "      <td>NaN</td>\n",
              "      <td>0</td>\n",
              "      <td>3/15/2022</td>\n",
              "      <td>175</td>\n",
              "      <td>Fall 2022</td>\n",
              "      <td>07009-1245</td>\n",
              "      <td>New Jersey</td>\n",
              "      <td>United States</td>\n",
              "      <td>Mount Olive High School</td>\n",
              "      <td>Male</td>\n",
              "      <td>Asian</td>\n",
              "      <td>Biology: Computational and Integrative (MS)</td>\n",
              "      <td>Started App</td>\n",
              "    </tr>\n",
              "  </tbody>\n",
              "</table>\n",
              "</div>\n",
              "      <button class=\"colab-df-convert\" onclick=\"convertToInteractive('df-e5cb00ca-eacd-4fea-a36a-8207ef5118f2')\"\n",
              "              title=\"Convert this dataframe to an interactive table.\"\n",
              "              style=\"display:none;\">\n",
              "        \n",
              "  <svg xmlns=\"http://www.w3.org/2000/svg\" height=\"24px\"viewBox=\"0 0 24 24\"\n",
              "       width=\"24px\">\n",
              "    <path d=\"M0 0h24v24H0V0z\" fill=\"none\"/>\n",
              "    <path d=\"M18.56 5.44l.94 2.06.94-2.06 2.06-.94-2.06-.94-.94-2.06-.94 2.06-2.06.94zm-11 1L8.5 8.5l.94-2.06 2.06-.94-2.06-.94L8.5 2.5l-.94 2.06-2.06.94zm10 10l.94 2.06.94-2.06 2.06-.94-2.06-.94-.94-2.06-.94 2.06-2.06.94z\"/><path d=\"M17.41 7.96l-1.37-1.37c-.4-.4-.92-.59-1.43-.59-.52 0-1.04.2-1.43.59L10.3 9.45l-7.72 7.72c-.78.78-.78 2.05 0 2.83L4 21.41c.39.39.9.59 1.41.59.51 0 1.02-.2 1.41-.59l7.78-7.78 2.81-2.81c.8-.78.8-2.07 0-2.86zM5.41 20L4 18.59l7.72-7.72 1.47 1.35L5.41 20z\"/>\n",
              "  </svg>\n",
              "      </button>\n",
              "      \n",
              "  <style>\n",
              "    .colab-df-container {\n",
              "      display:flex;\n",
              "      flex-wrap:wrap;\n",
              "      gap: 12px;\n",
              "    }\n",
              "\n",
              "    .colab-df-convert {\n",
              "      background-color: #E8F0FE;\n",
              "      border: none;\n",
              "      border-radius: 50%;\n",
              "      cursor: pointer;\n",
              "      display: none;\n",
              "      fill: #1967D2;\n",
              "      height: 32px;\n",
              "      padding: 0 0 0 0;\n",
              "      width: 32px;\n",
              "    }\n",
              "\n",
              "    .colab-df-convert:hover {\n",
              "      background-color: #E2EBFA;\n",
              "      box-shadow: 0px 1px 2px rgba(60, 64, 67, 0.3), 0px 1px 3px 1px rgba(60, 64, 67, 0.15);\n",
              "      fill: #174EA6;\n",
              "    }\n",
              "\n",
              "    [theme=dark] .colab-df-convert {\n",
              "      background-color: #3B4455;\n",
              "      fill: #D2E3FC;\n",
              "    }\n",
              "\n",
              "    [theme=dark] .colab-df-convert:hover {\n",
              "      background-color: #434B5C;\n",
              "      box-shadow: 0px 1px 3px 1px rgba(0, 0, 0, 0.15);\n",
              "      filter: drop-shadow(0px 1px 2px rgba(0, 0, 0, 0.3));\n",
              "      fill: #FFFFFF;\n",
              "    }\n",
              "  </style>\n",
              "\n",
              "      <script>\n",
              "        const buttonEl =\n",
              "          document.querySelector('#df-e5cb00ca-eacd-4fea-a36a-8207ef5118f2 button.colab-df-convert');\n",
              "        buttonEl.style.display =\n",
              "          google.colab.kernel.accessAllowed ? 'block' : 'none';\n",
              "\n",
              "        async function convertToInteractive(key) {\n",
              "          const element = document.querySelector('#df-e5cb00ca-eacd-4fea-a36a-8207ef5118f2');\n",
              "          const dataTable =\n",
              "            await google.colab.kernel.invokeFunction('convertToInteractive',\n",
              "                                                     [key], {});\n",
              "          if (!dataTable) return;\n",
              "\n",
              "          const docLinkHtml = 'Like what you see? Visit the ' +\n",
              "            '<a target=\"_blank\" href=https://colab.research.google.com/notebooks/data_table.ipynb>data table notebook</a>'\n",
              "            + ' to learn more about interactive tables.';\n",
              "          element.innerHTML = '';\n",
              "          dataTable['output_type'] = 'display_data';\n",
              "          await google.colab.output.renderOutput(dataTable, element);\n",
              "          const docLink = document.createElement('div');\n",
              "          docLink.innerHTML = docLinkHtml;\n",
              "          element.appendChild(docLink);\n",
              "        }\n",
              "      </script>\n",
              "    </div>\n",
              "  </div>\n",
              "  "
            ]
          },
          "metadata": {},
          "execution_count": 82
        }
      ]
    },
    {
      "cell_type": "code",
      "source": [
        "appdat = appdat.rename(columns={'Mailing Zip/Postal Code':\"Zip\", \"Mailing State/Province\":\"State\",\"Mailing Country\":\"Country\" })\n",
        "appdat.head(3)"
      ],
      "metadata": {
        "colab": {
          "base_uri": "https://localhost:8080/",
          "height": 291
        },
        "id": "7hO9I2uQJTq0",
        "outputId": "6def6bd1-c850-402b-a8fe-a5e506a40b77"
      },
      "execution_count": 83,
      "outputs": [
        {
          "output_type": "execute_result",
          "data": {
            "text/plain": [
              "   ID  Final Recommended Decision  Admit-Coming Application Created Date  \\\n",
              "0    1                        NaN             0                12/7/2021   \n",
              "1    2                        NaN             0                 1/2/2022   \n",
              "2    3                        NaN             0                3/15/2022   \n",
              "\n",
              "   Days Before the Beginning of Semester  Reporting Term         Zip  \\\n",
              "0                                     273      Fall 2022       56407   \n",
              "1                                     247      Fall 2022      380058   \n",
              "2                                     175      Fall 2022  07009-1245   \n",
              "\n",
              "        State        Country  \\\n",
              "0   Pradesh 2          Nepal   \n",
              "1     Gujarat          India   \n",
              "2  New Jersey  United States   \n",
              "\n",
              "  Most Recent Educational Institution: Account Name  Gender   Race  \\\n",
              "0                    Vellore Institute Of Technolog    Male  Asian   \n",
              "1                              Ahmedabad University  Female  Asian   \n",
              "2                           Mount Olive High School    Male  Asian   \n",
              "\n",
              "     Program Selection: Program Selection Name Admissions Status  \n",
              "0  Biology: Computational and Integrative (MS)       Started App  \n",
              "1  Biology: Computational and Integrative (MS)       Started App  \n",
              "2  Biology: Computational and Integrative (MS)       Started App  "
            ],
            "text/html": [
              "\n",
              "  <div id=\"df-f162aa55-5c70-4783-ba40-4d86dcafb4f8\">\n",
              "    <div class=\"colab-df-container\">\n",
              "      <div>\n",
              "<style scoped>\n",
              "    .dataframe tbody tr th:only-of-type {\n",
              "        vertical-align: middle;\n",
              "    }\n",
              "\n",
              "    .dataframe tbody tr th {\n",
              "        vertical-align: top;\n",
              "    }\n",
              "\n",
              "    .dataframe thead th {\n",
              "        text-align: right;\n",
              "    }\n",
              "</style>\n",
              "<table border=\"1\" class=\"dataframe\">\n",
              "  <thead>\n",
              "    <tr style=\"text-align: right;\">\n",
              "      <th></th>\n",
              "      <th>ID</th>\n",
              "      <th>Final Recommended Decision</th>\n",
              "      <th>Admit-Coming</th>\n",
              "      <th>Application Created Date</th>\n",
              "      <th>Days Before the Beginning of Semester</th>\n",
              "      <th>Reporting Term</th>\n",
              "      <th>Zip</th>\n",
              "      <th>State</th>\n",
              "      <th>Country</th>\n",
              "      <th>Most Recent Educational Institution: Account Name</th>\n",
              "      <th>Gender</th>\n",
              "      <th>Race</th>\n",
              "      <th>Program Selection: Program Selection Name</th>\n",
              "      <th>Admissions Status</th>\n",
              "    </tr>\n",
              "  </thead>\n",
              "  <tbody>\n",
              "    <tr>\n",
              "      <th>0</th>\n",
              "      <td>1</td>\n",
              "      <td>NaN</td>\n",
              "      <td>0</td>\n",
              "      <td>12/7/2021</td>\n",
              "      <td>273</td>\n",
              "      <td>Fall 2022</td>\n",
              "      <td>56407</td>\n",
              "      <td>Pradesh 2</td>\n",
              "      <td>Nepal</td>\n",
              "      <td>Vellore Institute Of Technolog</td>\n",
              "      <td>Male</td>\n",
              "      <td>Asian</td>\n",
              "      <td>Biology: Computational and Integrative (MS)</td>\n",
              "      <td>Started App</td>\n",
              "    </tr>\n",
              "    <tr>\n",
              "      <th>1</th>\n",
              "      <td>2</td>\n",
              "      <td>NaN</td>\n",
              "      <td>0</td>\n",
              "      <td>1/2/2022</td>\n",
              "      <td>247</td>\n",
              "      <td>Fall 2022</td>\n",
              "      <td>380058</td>\n",
              "      <td>Gujarat</td>\n",
              "      <td>India</td>\n",
              "      <td>Ahmedabad University</td>\n",
              "      <td>Female</td>\n",
              "      <td>Asian</td>\n",
              "      <td>Biology: Computational and Integrative (MS)</td>\n",
              "      <td>Started App</td>\n",
              "    </tr>\n",
              "    <tr>\n",
              "      <th>2</th>\n",
              "      <td>3</td>\n",
              "      <td>NaN</td>\n",
              "      <td>0</td>\n",
              "      <td>3/15/2022</td>\n",
              "      <td>175</td>\n",
              "      <td>Fall 2022</td>\n",
              "      <td>07009-1245</td>\n",
              "      <td>New Jersey</td>\n",
              "      <td>United States</td>\n",
              "      <td>Mount Olive High School</td>\n",
              "      <td>Male</td>\n",
              "      <td>Asian</td>\n",
              "      <td>Biology: Computational and Integrative (MS)</td>\n",
              "      <td>Started App</td>\n",
              "    </tr>\n",
              "  </tbody>\n",
              "</table>\n",
              "</div>\n",
              "      <button class=\"colab-df-convert\" onclick=\"convertToInteractive('df-f162aa55-5c70-4783-ba40-4d86dcafb4f8')\"\n",
              "              title=\"Convert this dataframe to an interactive table.\"\n",
              "              style=\"display:none;\">\n",
              "        \n",
              "  <svg xmlns=\"http://www.w3.org/2000/svg\" height=\"24px\"viewBox=\"0 0 24 24\"\n",
              "       width=\"24px\">\n",
              "    <path d=\"M0 0h24v24H0V0z\" fill=\"none\"/>\n",
              "    <path d=\"M18.56 5.44l.94 2.06.94-2.06 2.06-.94-2.06-.94-.94-2.06-.94 2.06-2.06.94zm-11 1L8.5 8.5l.94-2.06 2.06-.94-2.06-.94L8.5 2.5l-.94 2.06-2.06.94zm10 10l.94 2.06.94-2.06 2.06-.94-2.06-.94-.94-2.06-.94 2.06-2.06.94z\"/><path d=\"M17.41 7.96l-1.37-1.37c-.4-.4-.92-.59-1.43-.59-.52 0-1.04.2-1.43.59L10.3 9.45l-7.72 7.72c-.78.78-.78 2.05 0 2.83L4 21.41c.39.39.9.59 1.41.59.51 0 1.02-.2 1.41-.59l7.78-7.78 2.81-2.81c.8-.78.8-2.07 0-2.86zM5.41 20L4 18.59l7.72-7.72 1.47 1.35L5.41 20z\"/>\n",
              "  </svg>\n",
              "      </button>\n",
              "      \n",
              "  <style>\n",
              "    .colab-df-container {\n",
              "      display:flex;\n",
              "      flex-wrap:wrap;\n",
              "      gap: 12px;\n",
              "    }\n",
              "\n",
              "    .colab-df-convert {\n",
              "      background-color: #E8F0FE;\n",
              "      border: none;\n",
              "      border-radius: 50%;\n",
              "      cursor: pointer;\n",
              "      display: none;\n",
              "      fill: #1967D2;\n",
              "      height: 32px;\n",
              "      padding: 0 0 0 0;\n",
              "      width: 32px;\n",
              "    }\n",
              "\n",
              "    .colab-df-convert:hover {\n",
              "      background-color: #E2EBFA;\n",
              "      box-shadow: 0px 1px 2px rgba(60, 64, 67, 0.3), 0px 1px 3px 1px rgba(60, 64, 67, 0.15);\n",
              "      fill: #174EA6;\n",
              "    }\n",
              "\n",
              "    [theme=dark] .colab-df-convert {\n",
              "      background-color: #3B4455;\n",
              "      fill: #D2E3FC;\n",
              "    }\n",
              "\n",
              "    [theme=dark] .colab-df-convert:hover {\n",
              "      background-color: #434B5C;\n",
              "      box-shadow: 0px 1px 3px 1px rgba(0, 0, 0, 0.15);\n",
              "      filter: drop-shadow(0px 1px 2px rgba(0, 0, 0, 0.3));\n",
              "      fill: #FFFFFF;\n",
              "    }\n",
              "  </style>\n",
              "\n",
              "      <script>\n",
              "        const buttonEl =\n",
              "          document.querySelector('#df-f162aa55-5c70-4783-ba40-4d86dcafb4f8 button.colab-df-convert');\n",
              "        buttonEl.style.display =\n",
              "          google.colab.kernel.accessAllowed ? 'block' : 'none';\n",
              "\n",
              "        async function convertToInteractive(key) {\n",
              "          const element = document.querySelector('#df-f162aa55-5c70-4783-ba40-4d86dcafb4f8');\n",
              "          const dataTable =\n",
              "            await google.colab.kernel.invokeFunction('convertToInteractive',\n",
              "                                                     [key], {});\n",
              "          if (!dataTable) return;\n",
              "\n",
              "          const docLinkHtml = 'Like what you see? Visit the ' +\n",
              "            '<a target=\"_blank\" href=https://colab.research.google.com/notebooks/data_table.ipynb>data table notebook</a>'\n",
              "            + ' to learn more about interactive tables.';\n",
              "          element.innerHTML = '';\n",
              "          dataTable['output_type'] = 'display_data';\n",
              "          await google.colab.output.renderOutput(dataTable, element);\n",
              "          const docLink = document.createElement('div');\n",
              "          docLink.innerHTML = docLinkHtml;\n",
              "          element.appendChild(docLink);\n",
              "        }\n",
              "      </script>\n",
              "    </div>\n",
              "  </div>\n",
              "  "
            ]
          },
          "metadata": {},
          "execution_count": 83
        }
      ]
    },
    {
      "cell_type": "code",
      "source": [
        "print(appdat.State.unique())"
      ],
      "metadata": {
        "colab": {
          "base_uri": "https://localhost:8080/"
        },
        "id": "S9UMLvZBr3ja",
        "outputId": "7e66f19d-3a2e-4d7a-d6e0-611174d44e63"
      },
      "execution_count": 84,
      "outputs": [
        {
          "output_type": "stream",
          "name": "stdout",
          "text": [
            "['Pradesh 2' 'Gujarat' 'New Jersey' 'ENUGU' 'Telangana' 'Beijing'\n",
            " 'Haryana' 'In-Tn' 'Yunnan' 'Lagos' 'Odisha' 'Delhi' 'Rajasthan'\n",
            " 'West Bengal' 'Tamil Nadu' 'Maryland' 'Uttar Pradesh' 'IN' 'New York'\n",
            " 'Ohio' nan 'west bengal' 'Shanxi' 'Assam' 'England'\n",
            " 'Federal Capital Territory' 'mazandaran' 'Pennsylvania' 'Illinois'\n",
            " 'Tehran' 'Delaware' 'Ardebi' 'Massachusetts' 'West Virginia' 'PA'\n",
            " 'Virginia' 'NJ' 'In-Hr' 'AN' 'Rivers state' 'Baranya' 'Colorado'\n",
            " 'Banasree' 'Plateau' 'Saint Catherine' 'Serekunda' 'Imo'\n",
            " 'North Rhine-Westphalia' 'California' 'Anambra' 'Kerala' 'Eastern'\n",
            " 'Ashanti' 'Washington' 'MAHARASHTRA' 'Punjab' 'Rhode Island' 'Dhaka'\n",
            " 'Dhaka Division' 'Missouri' 'Bagmati' 'Seoul' 'Edo' 'Karnataka'\n",
            " 'Maharashtra' 'Tamilnadu' 'Western Area' 'Kinondoni' 'LAGOS' 'Rivers'\n",
            " 'TELANGANA' 'Ashanti Region' 'Ghana' 'Western Province' 'NY' 'Ondo'\n",
            " 'Kiambu' 'Madhya Pradesh' 'Greater Accra' 'Kaduna' 'Isfahan' 'In-Dl'\n",
            " 'Harare' 'New Hampshire' 'Indiana' 'Tabuk' 'FCT' 'Oregon' 'AP' 'Osun'\n",
            " 'Oyo' 'Ogun' 'Guilan' 'Western Cape' 'Central Region' 'Italy'\n",
            " 'Maine-et-Loire' 'Egypt' 'UK' 'Kwara' 'Unknown' 'Andhra Pradesh'\n",
            " 'gujarat' 'bagmati' 'Pollobi' 'Shandong' 'Montserrado' 'Shanghai'\n",
            " 'ANDHRA PRADESH' 'Federal capital territory' 'Zhejiang Province' 'In-Ap'\n",
            " 'Lagos State' 'karnataka' 'Jiangxi' 'Istanbul' 'Andhra Predesh' 'lagos'\n",
            " 'GUJARAT' '1' 'In-Mh' 'AZ' 'Guangdong' 'New Delhi' 'Hunan' 'Maharashatra'\n",
            " 'Eastern Province' 'Rangpur Division' 'In-Tg' 'Andhra pradesh' 'In-Br'\n",
            " 'HARYANA' 'In-Rj' 'FL' 'In-Up' 'AndhraPradesh' 'State' 'Tamil nadu'\n",
            " 'Bihar' 'Central' 'Mahrashtra' '522615' 'Cn-Sh' 'Arizona' 'Texas' 'Anhui'\n",
            " 'Wisconsin' 'North Carolina' 'Minnesota' 'Georgia' 'Iowa' 'Alabama'\n",
            " 'Gyeonggi-do' 'MA' 'Tennessee' 'Mississippi' 'BC' 'District Of Columbia'\n",
            " 'Florida' 'Montana' 'Connecticut' 'Fujian' 'WI' 'OH' 'MD' 'Vermont'\n",
            " 'Lousiana' 'ON' 'Nevada' 'MI' 'CA' 'Ontario' 'Michigan' 'Manisa' 'Dubai'\n",
            " 'Sindh' 'Santa Catarina' 'DC' 'Makkah' 'Nj' 'new jersey' 'Select One...'\n",
            " 'TX' 'Louisiana' 'Al ???imah' 'Henan' 'Taoyuan' 'madhya pradesh'\n",
            " 'Kashmir' 'Bono' 'Greater Manchester' 'Lagos, Nigeria' 'Idaho' 'Kansas'\n",
            " 'CT' 'Khorasan Razavi' 'Nevsehir' 'Sichuan' 'RI' 'RJ' 'Oyo State' 'md'\n",
            " 'St.Andrew' 'Canelones' 'Al Wakrah' 'St. James' 'Puerto Rico'\n",
            " 'Chittagong Division' 'Mombasa' 'Delta' 'AE' 'NM' 'Nebraska' 'Ekiti'\n",
            " 'Lima' 'Maine' 'Arkansas' 'METRO MANILA' 'National Capital Region'\n",
            " 'texas' 'Armed Forces' 'British Columbia' 'Delta State' 'New Mexico'\n",
            " 'St. Andrew' 'Gilan' 'Hunan Province' 'Kebbi State' 'In-Kl'\n",
            " 'Not Specified' 'Yazd' 'Novara' 'Edirne' 'Tartu Linn' 'South Carolina'\n",
            " 'District of Columbia' 'KS' 'Kurdistan' 'Mazandaran'\n",
            " 'Azarbayjan-e Sharqi' 'Select State' 'Selangor' 'South' 'Plateau/Nigeria'\n",
            " 'pa' 'WESTERN' 'Rio de Janeiro' 'Riga' 'Lagos State, Nigeria'\n",
            " 'Central region' 'Ogun State' 'Greater-Accra' 'Flanders' 'nj' 'Littoral'\n",
            " 'Ankara/Çankaya' 'KP' 'Cankaya' 'Ganja' 'Shanxi Province' 'OK'\n",
            " 'F.C.T Abuja' 'Razavi Khorasan' 'KY' 'Sylhet']\n"
          ]
        }
      ]
    },
    {
      "cell_type": "code",
      "source": [
        "appdat.State.value_counts().nlargest(10).plot(kind='bar',figsize=(10,5))\n",
        "plt.title(\"Number of Applications by State: Domesting and International\")\n",
        "plt.ylabel(\"Number of Applicants\")\n",
        "plt.xlabel(\"States\")"
      ],
      "metadata": {
        "colab": {
          "base_uri": "https://localhost:8080/",
          "height": 454
        },
        "id": "wd46FY75s68n",
        "outputId": "4c5a9d50-847f-4a69-99ec-bc509181b928"
      },
      "execution_count": 85,
      "outputs": [
        {
          "output_type": "execute_result",
          "data": {
            "text/plain": [
              "<matplotlib.axes._subplots.AxesSubplot at 0x7f6e9ca41790>"
            ]
          },
          "metadata": {},
          "execution_count": 85
        },
        {
          "output_type": "execute_result",
          "data": {
            "text/plain": [
              "Text(0.5, 1.0, 'Number of Applications by State: Domesting and International')"
            ]
          },
          "metadata": {},
          "execution_count": 85
        },
        {
          "output_type": "execute_result",
          "data": {
            "text/plain": [
              "Text(0, 0.5, 'Number of Applicants')"
            ]
          },
          "metadata": {},
          "execution_count": 85
        },
        {
          "output_type": "execute_result",
          "data": {
            "text/plain": [
              "Text(0.5, 0, 'States')"
            ]
          },
          "metadata": {},
          "execution_count": 85
        },
        {
          "output_type": "display_data",
          "data": {
            "text/plain": [
              "<Figure size 720x360 with 1 Axes>"
            ],
            "image/png": "[encoded data removed]"
          },
          "metadata": {
            "needs_background": "light"
          }
        }
      ]
    },
    {
      "cell_type": "code",
      "source": [
        "appdat[\"State\"].value_counts()"
      ],
      "metadata": {
        "colab": {
          "base_uri": "https://localhost:8080/"
        },
        "id": "OSaTMxiswlx3",
        "outputId": "1800bf6d-d4a8-4bb6-de49-42c08767fff0"
      },
      "execution_count": 86,
      "outputs": [
        {
          "output_type": "execute_result",
          "data": {
            "text/plain": [
              "New Jersey       391\n",
              "New York          73\n",
              "Pennsylvania      60\n",
              "Telangana         56\n",
              "Maharashtra       50\n",
              "                ... \n",
              "In-Rj              1\n",
              "In-Up              1\n",
              "AndhraPradesh      1\n",
              "State              1\n",
              "Sylhet             1\n",
              "Name: State, Length: 264, dtype: int64"
            ]
          },
          "metadata": {},
          "execution_count": 86
        }
      ]
    },
    {
      "cell_type": "code",
      "source": [
        "appdat.Country.value_counts().nlargest(10).plot(kind='bar',figsize=(10,5))\n",
        "plt.title(\"Number of Applications by State: Domesting and International\")\n",
        "plt.ylabel(\"Number of Applicants\")\n",
        "plt.xlabel(\"States\")"
      ],
      "metadata": {
        "colab": {
          "base_uri": "https://localhost:8080/",
          "height": 496
        },
        "id": "qDk3lusTzmOV",
        "outputId": "990c0b1e-15ed-4473-e177-e4dcca774b2f"
      },
      "execution_count": 87,
      "outputs": [
        {
          "output_type": "execute_result",
          "data": {
            "text/plain": [
              "<matplotlib.axes._subplots.AxesSubplot at 0x7f6e9c97ef70>"
            ]
          },
          "metadata": {},
          "execution_count": 87
        },
        {
          "output_type": "execute_result",
          "data": {
            "text/plain": [
              "Text(0.5, 1.0, 'Number of Applications by State: Domesting and International')"
            ]
          },
          "metadata": {},
          "execution_count": 87
        },
        {
          "output_type": "execute_result",
          "data": {
            "text/plain": [
              "Text(0, 0.5, 'Number of Applicants')"
            ]
          },
          "metadata": {},
          "execution_count": 87
        },
        {
          "output_type": "execute_result",
          "data": {
            "text/plain": [
              "Text(0.5, 0, 'States')"
            ]
          },
          "metadata": {},
          "execution_count": 87
        },
        {
          "output_type": "display_data",
          "data": {
            "text/plain": [
              "<Figure size 720x360 with 1 Axes>"
            ],
            "image/png": "[encoded data removed]"
          },
          "metadata": {
            "needs_background": "light"
          }
        }
      ]
    },
    {
      "cell_type": "code",
      "source": [
        "appdat[\"Country\"].value_counts()"
      ],
      "metadata": {
        "colab": {
          "base_uri": "https://localhost:8080/"
        },
        "id": "VB2v_ttmzPk8",
        "outputId": "454f1916-aae4-4857-9f6e-b8e711931cdf"
      },
      "execution_count": 88,
      "outputs": [
        {
          "output_type": "execute_result",
          "data": {
            "text/plain": [
              "United States                835\n",
              "India                        320\n",
              "Nigeria                       85\n",
              "China                         44\n",
              "Iran, Islamic Republic Of     32\n",
              "                            ... \n",
              "Singapore                      1\n",
              "Hungary                        1\n",
              "Senegal                        1\n",
              "Kyrgyzstan                     1\n",
              "Azerbaijan                     1\n",
              "Name: Country, Length: 62, dtype: int64"
            ]
          },
          "metadata": {},
          "execution_count": 88
        }
      ]
    },
    {
      "cell_type": "code",
      "source": [
        "print(appdat.Country.unique())"
      ],
      "metadata": {
        "colab": {
          "base_uri": "https://localhost:8080/"
        },
        "id": "iAyuAuRc3PQ2",
        "outputId": "fdbd4312-ae79-4c9a-a673-933af437220e"
      },
      "execution_count": 89,
      "outputs": [
        {
          "output_type": "stream",
          "name": "stdout",
          "text": [
            "['Nepal' 'India' 'United States' 'Nigeria' 'China' 'INDIA' 'Bangladesh'\n",
            " 'United Kingdom' 'Iran, Islamic Republic Of' 'Turkey' 'Ghana'\n",
            " 'Kyrgyzstan' 'Senegal' 'Korea, Republic of' 'Egypt' 'Hungary' 'Jamaica'\n",
            " 'Singapore' 'Taiwan' 'Gambia' 'Germany' 'Pakistan' nan 'BANGLADESH'\n",
            " 'United States of America' 'Sierra Leone' 'Tanzania, United Republic of'\n",
            " 'Sri Lanka' 'Kenya' 'Zimbabwe' 'Saudi Arabia' 'Trinidad and Tobago'\n",
            " 'South Africa' 'Malawi' 'Italy' 'France' 'Hong Kong' 'Liberia'\n",
            " 'Taiwan, Province Of China' 'Mexico' 'Russian Federation' 'Canada'\n",
            " 'United Arab Emirates' 'Brazil' 'Bahrain' 'Morocco' 'Kuwait' 'Uruguay'\n",
            " 'Qatar' 'Bahamas' 'Puerto Rico' 'Peru' 'Philippines' 'Costa Rica'\n",
            " 'Greece' 'Estonia' 'Malaysia' 'Lebanon' 'Latvia' 'Israel' 'Belgium'\n",
            " 'Cameroon' 'Azerbaijan']\n"
          ]
        }
      ]
    },
    {
      "cell_type": "code",
      "source": [
        "usappdat = appdat.query(\"Country=='United States'\")\n",
        "usappdat.head(3)"
      ],
      "metadata": {
        "colab": {
          "base_uri": "https://localhost:8080/",
          "height": 309
        },
        "id": "Y3QSGBMS6XU_",
        "outputId": "813a9bef-4493-449a-9d7b-39b3bf059e77"
      },
      "execution_count": 90,
      "outputs": [
        {
          "output_type": "execute_result",
          "data": {
            "text/plain": [
              "   ID  Final Recommended Decision  Admit-Coming Application Created Date  \\\n",
              "2    3                        NaN             0                3/15/2022   \n",
              "3    4                        NaN             0                3/31/2022   \n",
              "5    6                        NaN             0                4/20/2022   \n",
              "\n",
              "   Days Before the Beginning of Semester  Reporting Term         Zip  \\\n",
              "2                                     175      Fall 2022  07009-1245   \n",
              "3                                     159      Fall 2022  07726-4660   \n",
              "5                                     272    Spring 2023  08755-1914   \n",
              "\n",
              "        State        Country  \\\n",
              "2  New Jersey  United States   \n",
              "3  New Jersey  United States   \n",
              "5  New Jersey  United States   \n",
              "\n",
              "  Most Recent Educational Institution: Account Name  Gender  \\\n",
              "2                           Mount Olive High School    Male   \n",
              "3                                 Suny Colg Geneseo  Female   \n",
              "5                              Essex County College    Male   \n",
              "\n",
              "                        Race    Program Selection: Program Selection Name  \\\n",
              "2                      Asian  Biology: Computational and Integrative (MS)   \n",
              "3  Hispanic or Latino; White  Biology: Computational and Integrative (MS)   \n",
              "5  Black or African American  Biology: Computational and Integrative (MS)   \n",
              "\n",
              "  Admissions Status  \n",
              "2       Started App  \n",
              "3       Started App  \n",
              "5       Started App  "
            ],
            "text/html": [
              "\n",
              "  <div id=\"df-a3fdb692-245e-4b14-b3ec-46be6fc82910\">\n",
              "    <div class=\"colab-df-container\">\n",
              "      <div>\n",
              "<style scoped>\n",
              "    .dataframe tbody tr th:only-of-type {\n",
              "        vertical-align: middle;\n",
              "    }\n",
              "\n",
              "    .dataframe tbody tr th {\n",
              "        vertical-align: top;\n",
              "    }\n",
              "\n",
              "    .dataframe thead th {\n",
              "        text-align: right;\n",
              "    }\n",
              "</style>\n",
              "<table border=\"1\" class=\"dataframe\">\n",
              "  <thead>\n",
              "    <tr style=\"text-align: right;\">\n",
              "      <th></th>\n",
              "      <th>ID</th>\n",
              "      <th>Final Recommended Decision</th>\n",
              "      <th>Admit-Coming</th>\n",
              "      <th>Application Created Date</th>\n",
              "      <th>Days Before the Beginning of Semester</th>\n",
              "      <th>Reporting Term</th>\n",
              "      <th>Zip</th>\n",
              "      <th>State</th>\n",
              "      <th>Country</th>\n",
              "      <th>Most Recent Educational Institution: Account Name</th>\n",
              "      <th>Gender</th>\n",
              "      <th>Race</th>\n",
              "      <th>Program Selection: Program Selection Name</th>\n",
              "      <th>Admissions Status</th>\n",
              "    </tr>\n",
              "  </thead>\n",
              "  <tbody>\n",
              "    <tr>\n",
              "      <th>2</th>\n",
              "      <td>3</td>\n",
              "      <td>NaN</td>\n",
              "      <td>0</td>\n",
              "      <td>3/15/2022</td>\n",
              "      <td>175</td>\n",
              "      <td>Fall 2022</td>\n",
              "      <td>07009-1245</td>\n",
              "      <td>New Jersey</td>\n",
              "      <td>United States</td>\n",
              "      <td>Mount Olive High School</td>\n",
              "      <td>Male</td>\n",
              "      <td>Asian</td>\n",
              "      <td>Biology: Computational and Integrative (MS)</td>\n",
              "      <td>Started App</td>\n",
              "    </tr>\n",
              "    <tr>\n",
              "      <th>3</th>\n",
              "      <td>4</td>\n",
              "      <td>NaN</td>\n",
              "      <td>0</td>\n",
              "      <td>3/31/2022</td>\n",
              "      <td>159</td>\n",
              "      <td>Fall 2022</td>\n",
              "      <td>07726-4660</td>\n",
              "      <td>New Jersey</td>\n",
              "      <td>United States</td>\n",
              "      <td>Suny Colg Geneseo</td>\n",
              "      <td>Female</td>\n",
              "      <td>Hispanic or Latino; White</td>\n",
              "      <td>Biology: Computational and Integrative (MS)</td>\n",
              "      <td>Started App</td>\n",
              "    </tr>\n",
              "    <tr>\n",
              "      <th>5</th>\n",
              "      <td>6</td>\n",
              "      <td>NaN</td>\n",
              "      <td>0</td>\n",
              "      <td>4/20/2022</td>\n",
              "      <td>272</td>\n",
              "      <td>Spring 2023</td>\n",
              "      <td>08755-1914</td>\n",
              "      <td>New Jersey</td>\n",
              "      <td>United States</td>\n",
              "      <td>Essex County College</td>\n",
              "      <td>Male</td>\n",
              "      <td>Black or African American</td>\n",
              "      <td>Biology: Computational and Integrative (MS)</td>\n",
              "      <td>Started App</td>\n",
              "    </tr>\n",
              "  </tbody>\n",
              "</table>\n",
              "</div>\n",
              "      <button class=\"colab-df-convert\" onclick=\"convertToInteractive('df-a3fdb692-245e-4b14-b3ec-46be6fc82910')\"\n",
              "              title=\"Convert this dataframe to an interactive table.\"\n",
              "              style=\"display:none;\">\n",
              "        \n",
              "  <svg xmlns=\"http://www.w3.org/2000/svg\" height=\"24px\"viewBox=\"0 0 24 24\"\n",
              "       width=\"24px\">\n",
              "    <path d=\"M0 0h24v24H0V0z\" fill=\"none\"/>\n",
              "    <path d=\"M18.56 5.44l.94 2.06.94-2.06 2.06-.94-2.06-.94-.94-2.06-.94 2.06-2.06.94zm-11 1L8.5 8.5l.94-2.06 2.06-.94-2.06-.94L8.5 2.5l-.94 2.06-2.06.94zm10 10l.94 2.06.94-2.06 2.06-.94-2.06-.94-.94-2.06-.94 2.06-2.06.94z\"/><path d=\"M17.41 7.96l-1.37-1.37c-.4-.4-.92-.59-1.43-.59-.52 0-1.04.2-1.43.59L10.3 9.45l-7.72 7.72c-.78.78-.78 2.05 0 2.83L4 21.41c.39.39.9.59 1.41.59.51 0 1.02-.2 1.41-.59l7.78-7.78 2.81-2.81c.8-.78.8-2.07 0-2.86zM5.41 20L4 18.59l7.72-7.72 1.47 1.35L5.41 20z\"/>\n",
              "  </svg>\n",
              "      </button>\n",
              "      \n",
              "  <style>\n",
              "    .colab-df-container {\n",
              "      display:flex;\n",
              "      flex-wrap:wrap;\n",
              "      gap: 12px;\n",
              "    }\n",
              "\n",
              "    .colab-df-convert {\n",
              "      background-color: #E8F0FE;\n",
              "      border: none;\n",
              "      border-radius: 50%;\n",
              "      cursor: pointer;\n",
              "      display: none;\n",
              "      fill: #1967D2;\n",
              "      height: 32px;\n",
              "      padding: 0 0 0 0;\n",
              "      width: 32px;\n",
              "    }\n",
              "\n",
              "    .colab-df-convert:hover {\n",
              "      background-color: #E2EBFA;\n",
              "      box-shadow: 0px 1px 2px rgba(60, 64, 67, 0.3), 0px 1px 3px 1px rgba(60, 64, 67, 0.15);\n",
              "      fill: #174EA6;\n",
              "    }\n",
              "\n",
              "    [theme=dark] .colab-df-convert {\n",
              "      background-color: #3B4455;\n",
              "      fill: #D2E3FC;\n",
              "    }\n",
              "\n",
              "    [theme=dark] .colab-df-convert:hover {\n",
              "      background-color: #434B5C;\n",
              "      box-shadow: 0px 1px 3px 1px rgba(0, 0, 0, 0.15);\n",
              "      filter: drop-shadow(0px 1px 2px rgba(0, 0, 0, 0.3));\n",
              "      fill: #FFFFFF;\n",
              "    }\n",
              "  </style>\n",
              "\n",
              "      <script>\n",
              "        const buttonEl =\n",
              "          document.querySelector('#df-a3fdb692-245e-4b14-b3ec-46be6fc82910 button.colab-df-convert');\n",
              "        buttonEl.style.display =\n",
              "          google.colab.kernel.accessAllowed ? 'block' : 'none';\n",
              "\n",
              "        async function convertToInteractive(key) {\n",
              "          const element = document.querySelector('#df-a3fdb692-245e-4b14-b3ec-46be6fc82910');\n",
              "          const dataTable =\n",
              "            await google.colab.kernel.invokeFunction('convertToInteractive',\n",
              "                                                     [key], {});\n",
              "          if (!dataTable) return;\n",
              "\n",
              "          const docLinkHtml = 'Like what you see? Visit the ' +\n",
              "            '<a target=\"_blank\" href=https://colab.research.google.com/notebooks/data_table.ipynb>data table notebook</a>'\n",
              "            + ' to learn more about interactive tables.';\n",
              "          element.innerHTML = '';\n",
              "          dataTable['output_type'] = 'display_data';\n",
              "          await google.colab.output.renderOutput(dataTable, element);\n",
              "          const docLink = document.createElement('div');\n",
              "          docLink.innerHTML = docLinkHtml;\n",
              "          element.appendChild(docLink);\n",
              "        }\n",
              "      </script>\n",
              "    </div>\n",
              "  </div>\n",
              "  "
            ]
          },
          "metadata": {},
          "execution_count": 90
        }
      ]
    },
    {
      "cell_type": "code",
      "source": [
        "print(usappdat.State.unique())"
      ],
      "metadata": {
        "colab": {
          "base_uri": "https://localhost:8080/"
        },
        "id": "-4v-4d0P7zGG",
        "outputId": "2d6fa15c-6045-46d3-ea3e-6bc70ef97d7a"
      },
      "execution_count": 91,
      "outputs": [
        {
          "output_type": "stream",
          "name": "stdout",
          "text": [
            "['New Jersey' 'Maryland' 'New York' 'Ohio' 'Pennsylvania' 'Illinois'\n",
            " 'Delaware' 'Massachusetts' 'West Virginia' 'PA' 'Virginia' 'NJ'\n",
            " 'Colorado' 'California' 'Washington' 'Rhode Island' 'Missouri' 'NY'\n",
            " 'New Hampshire' 'Indiana' 'Oregon' 'AP' 'AZ' 'FL' 'Arizona' 'Texas'\n",
            " 'Wisconsin' 'North Carolina' 'Minnesota' 'Georgia' 'Iowa' 'Alabama' 'MA'\n",
            " 'Tennessee' 'Mississippi' 'District Of Columbia' 'Florida' 'Montana'\n",
            " 'Connecticut' 'WI' 'OH' 'MD' 'Vermont' 'Lousiana' 'Nevada' 'MI' 'CA'\n",
            " 'Michigan' 'DC' 'Nj' 'new jersey' 'TX' 'Louisiana' 'Idaho' 'Kansas' 'CT'\n",
            " 'RI' 'md' 'AE' 'IN' 'NM' 'Nebraska' 'Maine' 'Arkansas' 'texas'\n",
            " 'Armed Forces' 'New Mexico' 'South Carolina' 'District of Columbia' 'KS'\n",
            " 'pa' 'nj' 'OK' 'KY']\n"
          ]
        }
      ]
    },
    {
      "cell_type": "code",
      "source": [
        "usappdat['State']=usappdat['State'].replace(['NJ','Nj','new jersey','nj'],'New Jersey')"
      ],
      "metadata": {
        "colab": {
          "base_uri": "https://localhost:8080/"
        },
        "id": "perhO8xj8KTn",
        "outputId": "f8f6891b-f3cb-4cbf-98f8-fd85cec30f71"
      },
      "execution_count": 92,
      "outputs": [
        {
          "output_type": "stream",
          "name": "stderr",
          "text": [
            "<ipython-input-92-4fbae95450e2>:1: SettingWithCopyWarning: \n",
            "A value is trying to be set on a copy of a slice from a DataFrame.\n",
            "Try using .loc[row_indexer,col_indexer] = value instead\n",
            "\n",
            "See the caveats in the documentation: https://pandas.pydata.org/pandas-docs/stable/user_guide/indexing.html#returning-a-view-versus-a-copy\n",
            "  usappdat['State']=usappdat['State'].replace(['NJ','Nj','new jersey','nj'],'New Jersey')\n"
          ]
        }
      ]
    },
    {
      "cell_type": "code",
      "source": [
        "print(usappdat.State.unique())"
      ],
      "metadata": {
        "colab": {
          "base_uri": "https://localhost:8080/"
        },
        "id": "chsC4i9J-xsr",
        "outputId": "da12ceea-bc56-41e1-b1fb-a7cf756ddfde"
      },
      "execution_count": 93,
      "outputs": [
        {
          "output_type": "stream",
          "name": "stdout",
          "text": [
            "['New Jersey' 'Maryland' 'New York' 'Ohio' 'Pennsylvania' 'Illinois'\n",
            " 'Delaware' 'Massachusetts' 'West Virginia' 'PA' 'Virginia' 'Colorado'\n",
            " 'California' 'Washington' 'Rhode Island' 'Missouri' 'NY' 'New Hampshire'\n",
            " 'Indiana' 'Oregon' 'AP' 'AZ' 'FL' 'Arizona' 'Texas' 'Wisconsin'\n",
            " 'North Carolina' 'Minnesota' 'Georgia' 'Iowa' 'Alabama' 'MA' 'Tennessee'\n",
            " 'Mississippi' 'District Of Columbia' 'Florida' 'Montana' 'Connecticut'\n",
            " 'WI' 'OH' 'MD' 'Vermont' 'Lousiana' 'Nevada' 'MI' 'CA' 'Michigan' 'DC'\n",
            " 'TX' 'Louisiana' 'Idaho' 'Kansas' 'CT' 'RI' 'md' 'AE' 'IN' 'NM'\n",
            " 'Nebraska' 'Maine' 'Arkansas' 'texas' 'Armed Forces' 'New Mexico'\n",
            " 'South Carolina' 'District of Columbia' 'KS' 'pa' 'OK' 'KY']\n"
          ]
        }
      ]
    },
    {
      "cell_type": "code",
      "source": [
        "njappdat = usappdat.query(\"State=='New Jersey'\")\n",
        "njappdat.head(3)"
      ],
      "metadata": {
        "colab": {
          "base_uri": "https://localhost:8080/",
          "height": 309
        },
        "id": "gQQZZZw1_Taq",
        "outputId": "27af7e94-9a81-4460-8a01-6eeae7fbb4d7"
      },
      "execution_count": 94,
      "outputs": [
        {
          "output_type": "execute_result",
          "data": {
            "text/plain": [
              "   ID  Final Recommended Decision  Admit-Coming Application Created Date  \\\n",
              "2    3                        NaN             0                3/15/2022   \n",
              "3    4                        NaN             0                3/31/2022   \n",
              "5    6                        NaN             0                4/20/2022   \n",
              "\n",
              "   Days Before the Beginning of Semester  Reporting Term         Zip  \\\n",
              "2                                     175      Fall 2022  07009-1245   \n",
              "3                                     159      Fall 2022  07726-4660   \n",
              "5                                     272    Spring 2023  08755-1914   \n",
              "\n",
              "        State        Country  \\\n",
              "2  New Jersey  United States   \n",
              "3  New Jersey  United States   \n",
              "5  New Jersey  United States   \n",
              "\n",
              "  Most Recent Educational Institution: Account Name  Gender  \\\n",
              "2                           Mount Olive High School    Male   \n",
              "3                                 Suny Colg Geneseo  Female   \n",
              "5                              Essex County College    Male   \n",
              "\n",
              "                        Race    Program Selection: Program Selection Name  \\\n",
              "2                      Asian  Biology: Computational and Integrative (MS)   \n",
              "3  Hispanic or Latino; White  Biology: Computational and Integrative (MS)   \n",
              "5  Black or African American  Biology: Computational and Integrative (MS)   \n",
              "\n",
              "  Admissions Status  \n",
              "2       Started App  \n",
              "3       Started App  \n",
              "5       Started App  "
            ],
            "text/html": [
              "\n",
              "  <div id=\"df-adfc0d74-f9f6-4cc8-a4c2-58f7a2060d29\">\n",
              "    <div class=\"colab-df-container\">\n",
              "      <div>\n",
              "<style scoped>\n",
              "    .dataframe tbody tr th:only-of-type {\n",
              "        vertical-align: middle;\n",
              "    }\n",
              "\n",
              "    .dataframe tbody tr th {\n",
              "        vertical-align: top;\n",
              "    }\n",
              "\n",
              "    .dataframe thead th {\n",
              "        text-align: right;\n",
              "    }\n",
              "</style>\n",
              "<table border=\"1\" class=\"dataframe\">\n",
              "  <thead>\n",
              "    <tr style=\"text-align: right;\">\n",
              "      <th></th>\n",
              "      <th>ID</th>\n",
              "      <th>Final Recommended Decision</th>\n",
              "      <th>Admit-Coming</th>\n",
              "      <th>Application Created Date</th>\n",
              "      <th>Days Before the Beginning of Semester</th>\n",
              "      <th>Reporting Term</th>\n",
              "      <th>Zip</th>\n",
              "      <th>State</th>\n",
              "      <th>Country</th>\n",
              "      <th>Most Recent Educational Institution: Account Name</th>\n",
              "      <th>Gender</th>\n",
              "      <th>Race</th>\n",
              "      <th>Program Selection: Program Selection Name</th>\n",
              "      <th>Admissions Status</th>\n",
              "    </tr>\n",
              "  </thead>\n",
              "  <tbody>\n",
              "    <tr>\n",
              "      <th>2</th>\n",
              "      <td>3</td>\n",
              "      <td>NaN</td>\n",
              "      <td>0</td>\n",
              "      <td>3/15/2022</td>\n",
              "      <td>175</td>\n",
              "      <td>Fall 2022</td>\n",
              "      <td>07009-1245</td>\n",
              "      <td>New Jersey</td>\n",
              "      <td>United States</td>\n",
              "      <td>Mount Olive High School</td>\n",
              "      <td>Male</td>\n",
              "      <td>Asian</td>\n",
              "      <td>Biology: Computational and Integrative (MS)</td>\n",
              "      <td>Started App</td>\n",
              "    </tr>\n",
              "    <tr>\n",
              "      <th>3</th>\n",
              "      <td>4</td>\n",
              "      <td>NaN</td>\n",
              "      <td>0</td>\n",
              "      <td>3/31/2022</td>\n",
              "      <td>159</td>\n",
              "      <td>Fall 2022</td>\n",
              "      <td>07726-4660</td>\n",
              "      <td>New Jersey</td>\n",
              "      <td>United States</td>\n",
              "      <td>Suny Colg Geneseo</td>\n",
              "      <td>Female</td>\n",
              "      <td>Hispanic or Latino; White</td>\n",
              "      <td>Biology: Computational and Integrative (MS)</td>\n",
              "      <td>Started App</td>\n",
              "    </tr>\n",
              "    <tr>\n",
              "      <th>5</th>\n",
              "      <td>6</td>\n",
              "      <td>NaN</td>\n",
              "      <td>0</td>\n",
              "      <td>4/20/2022</td>\n",
              "      <td>272</td>\n",
              "      <td>Spring 2023</td>\n",
              "      <td>08755-1914</td>\n",
              "      <td>New Jersey</td>\n",
              "      <td>United States</td>\n",
              "      <td>Essex County College</td>\n",
              "      <td>Male</td>\n",
              "      <td>Black or African American</td>\n",
              "      <td>Biology: Computational and Integrative (MS)</td>\n",
              "      <td>Started App</td>\n",
              "    </tr>\n",
              "  </tbody>\n",
              "</table>\n",
              "</div>\n",
              "      <button class=\"colab-df-convert\" onclick=\"convertToInteractive('df-adfc0d74-f9f6-4cc8-a4c2-58f7a2060d29')\"\n",
              "              title=\"Convert this dataframe to an interactive table.\"\n",
              "              style=\"display:none;\">\n",
              "        \n",
              "  <svg xmlns=\"http://www.w3.org/2000/svg\" height=\"24px\"viewBox=\"0 0 24 24\"\n",
              "       width=\"24px\">\n",
              "    <path d=\"M0 0h24v24H0V0z\" fill=\"none\"/>\n",
              "    <path d=\"M18.56 5.44l.94 2.06.94-2.06 2.06-.94-2.06-.94-.94-2.06-.94 2.06-2.06.94zm-11 1L8.5 8.5l.94-2.06 2.06-.94-2.06-.94L8.5 2.5l-.94 2.06-2.06.94zm10 10l.94 2.06.94-2.06 2.06-.94-2.06-.94-.94-2.06-.94 2.06-2.06.94z\"/><path d=\"M17.41 7.96l-1.37-1.37c-.4-.4-.92-.59-1.43-.59-.52 0-1.04.2-1.43.59L10.3 9.45l-7.72 7.72c-.78.78-.78 2.05 0 2.83L4 21.41c.39.39.9.59 1.41.59.51 0 1.02-.2 1.41-.59l7.78-7.78 2.81-2.81c.8-.78.8-2.07 0-2.86zM5.41 20L4 18.59l7.72-7.72 1.47 1.35L5.41 20z\"/>\n",
              "  </svg>\n",
              "      </button>\n",
              "      \n",
              "  <style>\n",
              "    .colab-df-container {\n",
              "      display:flex;\n",
              "      flex-wrap:wrap;\n",
              "      gap: 12px;\n",
              "    }\n",
              "\n",
              "    .colab-df-convert {\n",
              "      background-color: #E8F0FE;\n",
              "      border: none;\n",
              "      border-radius: 50%;\n",
              "      cursor: pointer;\n",
              "      display: none;\n",
              "      fill: #1967D2;\n",
              "      height: 32px;\n",
              "      padding: 0 0 0 0;\n",
              "      width: 32px;\n",
              "    }\n",
              "\n",
              "    .colab-df-convert:hover {\n",
              "      background-color: #E2EBFA;\n",
              "      box-shadow: 0px 1px 2px rgba(60, 64, 67, 0.3), 0px 1px 3px 1px rgba(60, 64, 67, 0.15);\n",
              "      fill: #174EA6;\n",
              "    }\n",
              "\n",
              "    [theme=dark] .colab-df-convert {\n",
              "      background-color: #3B4455;\n",
              "      fill: #D2E3FC;\n",
              "    }\n",
              "\n",
              "    [theme=dark] .colab-df-convert:hover {\n",
              "      background-color: #434B5C;\n",
              "      box-shadow: 0px 1px 3px 1px rgba(0, 0, 0, 0.15);\n",
              "      filter: drop-shadow(0px 1px 2px rgba(0, 0, 0, 0.3));\n",
              "      fill: #FFFFFF;\n",
              "    }\n",
              "  </style>\n",
              "\n",
              "      <script>\n",
              "        const buttonEl =\n",
              "          document.querySelector('#df-adfc0d74-f9f6-4cc8-a4c2-58f7a2060d29 button.colab-df-convert');\n",
              "        buttonEl.style.display =\n",
              "          google.colab.kernel.accessAllowed ? 'block' : 'none';\n",
              "\n",
              "        async function convertToInteractive(key) {\n",
              "          const element = document.querySelector('#df-adfc0d74-f9f6-4cc8-a4c2-58f7a2060d29');\n",
              "          const dataTable =\n",
              "            await google.colab.kernel.invokeFunction('convertToInteractive',\n",
              "                                                     [key], {});\n",
              "          if (!dataTable) return;\n",
              "\n",
              "          const docLinkHtml = 'Like what you see? Visit the ' +\n",
              "            '<a target=\"_blank\" href=https://colab.research.google.com/notebooks/data_table.ipynb>data table notebook</a>'\n",
              "            + ' to learn more about interactive tables.';\n",
              "          element.innerHTML = '';\n",
              "          dataTable['output_type'] = 'display_data';\n",
              "          await google.colab.output.renderOutput(dataTable, element);\n",
              "          const docLink = document.createElement('div');\n",
              "          docLink.innerHTML = docLinkHtml;\n",
              "          element.appendChild(docLink);\n",
              "        }\n",
              "      </script>\n",
              "    </div>\n",
              "  </div>\n",
              "  "
            ]
          },
          "metadata": {},
          "execution_count": 94
        }
      ]
    },
    {
      "cell_type": "code",
      "source": [
        "njappdat['C_Zip']=njappdat['Zip'].str[:5]\n",
        "njappdat.head(3)"
      ],
      "metadata": {
        "colab": {
          "base_uri": "https://localhost:8080/",
          "height": 447
        },
        "id": "W-7cPG_TAT6r",
        "outputId": "c439028a-5e51-461d-abf5-f0f7b64b46a6"
      },
      "execution_count": 99,
      "outputs": [
        {
          "output_type": "stream",
          "name": "stderr",
          "text": [
            "<ipython-input-99-088877dd01eb>:1: SettingWithCopyWarning: \n",
            "A value is trying to be set on a copy of a slice from a DataFrame.\n",
            "Try using .loc[row_indexer,col_indexer] = value instead\n",
            "\n",
            "See the caveats in the documentation: https://pandas.pydata.org/pandas-docs/stable/user_guide/indexing.html#returning-a-view-versus-a-copy\n",
            "  njappdat['C_Zip']=njappdat['Zip'].str[:5]\n"
          ]
        },
        {
          "output_type": "execute_result",
          "data": {
            "text/plain": [
              "   ID  Final Recommended Decision  Admit-Coming Application Created Date  \\\n",
              "2    3                        NaN             0                3/15/2022   \n",
              "3    4                        NaN             0                3/31/2022   \n",
              "5    6                        NaN             0                4/20/2022   \n",
              "\n",
              "   Days Before the Beginning of Semester  Reporting Term         Zip  \\\n",
              "2                                     175      Fall 2022  07009-1245   \n",
              "3                                     159      Fall 2022  07726-4660   \n",
              "5                                     272    Spring 2023  08755-1914   \n",
              "\n",
              "        State        Country  \\\n",
              "2  New Jersey  United States   \n",
              "3  New Jersey  United States   \n",
              "5  New Jersey  United States   \n",
              "\n",
              "  Most Recent Educational Institution: Account Name  Gender  \\\n",
              "2                           Mount Olive High School    Male   \n",
              "3                                 Suny Colg Geneseo  Female   \n",
              "5                              Essex County College    Male   \n",
              "\n",
              "                        Race    Program Selection: Program Selection Name  \\\n",
              "2                      Asian  Biology: Computational and Integrative (MS)   \n",
              "3  Hispanic or Latino; White  Biology: Computational and Integrative (MS)   \n",
              "5  Black or African American  Biology: Computational and Integrative (MS)   \n",
              "\n",
              "  Admissions Status  C_Zip  \n",
              "2       Started App  07009  \n",
              "3       Started App  07726  \n",
              "5       Started App  08755  "
            ],
            "text/html": [
              "\n",
              "  <div id=\"df-d4d303f0-4401-4fdb-8b27-f703dec28c4f\">\n",
              "    <div class=\"colab-df-container\">\n",
              "      <div>\n",
              "<style scoped>\n",
              "    .dataframe tbody tr th:only-of-type {\n",
              "        vertical-align: middle;\n",
              "    }\n",
              "\n",
              "    .dataframe tbody tr th {\n",
              "        vertical-align: top;\n",
              "    }\n",
              "\n",
              "    .dataframe thead th {\n",
              "        text-align: right;\n",
              "    }\n",
              "</style>\n",
              "<table border=\"1\" class=\"dataframe\">\n",
              "  <thead>\n",
              "    <tr style=\"text-align: right;\">\n",
              "      <th></th>\n",
              "      <th>ID</th>\n",
              "      <th>Final Recommended Decision</th>\n",
              "      <th>Admit-Coming</th>\n",
              "      <th>Application Created Date</th>\n",
              "      <th>Days Before the Beginning of Semester</th>\n",
              "      <th>Reporting Term</th>\n",
              "      <th>Zip</th>\n",
              "      <th>State</th>\n",
              "      <th>Country</th>\n",
              "      <th>Most Recent Educational Institution: Account Name</th>\n",
              "      <th>Gender</th>\n",
              "      <th>Race</th>\n",
              "      <th>Program Selection: Program Selection Name</th>\n",
              "      <th>Admissions Status</th>\n",
              "      <th>C_Zip</th>\n",
              "    </tr>\n",
              "  </thead>\n",
              "  <tbody>\n",
              "    <tr>\n",
              "      <th>2</th>\n",
              "      <td>3</td>\n",
              "      <td>NaN</td>\n",
              "      <td>0</td>\n",
              "      <td>3/15/2022</td>\n",
              "      <td>175</td>\n",
              "      <td>Fall 2022</td>\n",
              "      <td>07009-1245</td>\n",
              "      <td>New Jersey</td>\n",
              "      <td>United States</td>\n",
              "      <td>Mount Olive High School</td>\n",
              "      <td>Male</td>\n",
              "      <td>Asian</td>\n",
              "      <td>Biology: Computational and Integrative (MS)</td>\n",
              "      <td>Started App</td>\n",
              "      <td>07009</td>\n",
              "    </tr>\n",
              "    <tr>\n",
              "      <th>3</th>\n",
              "      <td>4</td>\n",
              "      <td>NaN</td>\n",
              "      <td>0</td>\n",
              "      <td>3/31/2022</td>\n",
              "      <td>159</td>\n",
              "      <td>Fall 2022</td>\n",
              "      <td>07726-4660</td>\n",
              "      <td>New Jersey</td>\n",
              "      <td>United States</td>\n",
              "      <td>Suny Colg Geneseo</td>\n",
              "      <td>Female</td>\n",
              "      <td>Hispanic or Latino; White</td>\n",
              "      <td>Biology: Computational and Integrative (MS)</td>\n",
              "      <td>Started App</td>\n",
              "      <td>07726</td>\n",
              "    </tr>\n",
              "    <tr>\n",
              "      <th>5</th>\n",
              "      <td>6</td>\n",
              "      <td>NaN</td>\n",
              "      <td>0</td>\n",
              "      <td>4/20/2022</td>\n",
              "      <td>272</td>\n",
              "      <td>Spring 2023</td>\n",
              "      <td>08755-1914</td>\n",
              "      <td>New Jersey</td>\n",
              "      <td>United States</td>\n",
              "      <td>Essex County College</td>\n",
              "      <td>Male</td>\n",
              "      <td>Black or African American</td>\n",
              "      <td>Biology: Computational and Integrative (MS)</td>\n",
              "      <td>Started App</td>\n",
              "      <td>08755</td>\n",
              "    </tr>\n",
              "  </tbody>\n",
              "</table>\n",
              "</div>\n",
              "      <button class=\"colab-df-convert\" onclick=\"convertToInteractive('df-d4d303f0-4401-4fdb-8b27-f703dec28c4f')\"\n",
              "              title=\"Convert this dataframe to an interactive table.\"\n",
              "              style=\"display:none;\">\n",
              "        \n",
              "  <svg xmlns=\"http://www.w3.org/2000/svg\" height=\"24px\"viewBox=\"0 0 24 24\"\n",
              "       width=\"24px\">\n",
              "    <path d=\"M0 0h24v24H0V0z\" fill=\"none\"/>\n",
              "    <path d=\"M18.56 5.44l.94 2.06.94-2.06 2.06-.94-2.06-.94-.94-2.06-.94 2.06-2.06.94zm-11 1L8.5 8.5l.94-2.06 2.06-.94-2.06-.94L8.5 2.5l-.94 2.06-2.06.94zm10 10l.94 2.06.94-2.06 2.06-.94-2.06-.94-.94-2.06-.94 2.06-2.06.94z\"/><path d=\"M17.41 7.96l-1.37-1.37c-.4-.4-.92-.59-1.43-.59-.52 0-1.04.2-1.43.59L10.3 9.45l-7.72 7.72c-.78.78-.78 2.05 0 2.83L4 21.41c.39.39.9.59 1.41.59.51 0 1.02-.2 1.41-.59l7.78-7.78 2.81-2.81c.8-.78.8-2.07 0-2.86zM5.41 20L4 18.59l7.72-7.72 1.47 1.35L5.41 20z\"/>\n",
              "  </svg>\n",
              "      </button>\n",
              "      \n",
              "  <style>\n",
              "    .colab-df-container {\n",
              "      display:flex;\n",
              "      flex-wrap:wrap;\n",
              "      gap: 12px;\n",
              "    }\n",
              "\n",
              "    .colab-df-convert {\n",
              "      background-color: #E8F0FE;\n",
              "      border: none;\n",
              "      border-radius: 50%;\n",
              "      cursor: pointer;\n",
              "      display: none;\n",
              "      fill: #1967D2;\n",
              "      height: 32px;\n",
              "      padding: 0 0 0 0;\n",
              "      width: 32px;\n",
              "    }\n",
              "\n",
              "    .colab-df-convert:hover {\n",
              "      background-color: #E2EBFA;\n",
              "      box-shadow: 0px 1px 2px rgba(60, 64, 67, 0.3), 0px 1px 3px 1px rgba(60, 64, 67, 0.15);\n",
              "      fill: #174EA6;\n",
              "    }\n",
              "\n",
              "    [theme=dark] .colab-df-convert {\n",
              "      background-color: #3B4455;\n",
              "      fill: #D2E3FC;\n",
              "    }\n",
              "\n",
              "    [theme=dark] .colab-df-convert:hover {\n",
              "      background-color: #434B5C;\n",
              "      box-shadow: 0px 1px 3px 1px rgba(0, 0, 0, 0.15);\n",
              "      filter: drop-shadow(0px 1px 2px rgba(0, 0, 0, 0.3));\n",
              "      fill: #FFFFFF;\n",
              "    }\n",
              "  </style>\n",
              "\n",
              "      <script>\n",
              "        const buttonEl =\n",
              "          document.querySelector('#df-d4d303f0-4401-4fdb-8b27-f703dec28c4f button.colab-df-convert');\n",
              "        buttonEl.style.display =\n",
              "          google.colab.kernel.accessAllowed ? 'block' : 'none';\n",
              "\n",
              "        async function convertToInteractive(key) {\n",
              "          const element = document.querySelector('#df-d4d303f0-4401-4fdb-8b27-f703dec28c4f');\n",
              "          const dataTable =\n",
              "            await google.colab.kernel.invokeFunction('convertToInteractive',\n",
              "                                                     [key], {});\n",
              "          if (!dataTable) return;\n",
              "\n",
              "          const docLinkHtml = 'Like what you see? Visit the ' +\n",
              "            '<a target=\"_blank\" href=https://colab.research.google.com/notebooks/data_table.ipynb>data table notebook</a>'\n",
              "            + ' to learn more about interactive tables.';\n",
              "          element.innerHTML = '';\n",
              "          dataTable['output_type'] = 'display_data';\n",
              "          await google.colab.output.renderOutput(dataTable, element);\n",
              "          const docLink = document.createElement('div');\n",
              "          docLink.innerHTML = docLinkHtml;\n",
              "          element.appendChild(docLink);\n",
              "        }\n",
              "      </script>\n",
              "    </div>\n",
              "  </div>\n",
              "  "
            ]
          },
          "metadata": {},
          "execution_count": 99
        }
      ]
    },
    {
      "cell_type": "markdown",
      "source": [
        "### Import: Data File 2: New Jersey Unemployment Data by County"
      ],
      "metadata": {
        "id": "SZdegZX1wOHR"
      }
    },
    {
      "cell_type": "code",
      "source": [
        "#Got this code from Social Explorer https://www.socialexplorer.com/tables/US_unemployment_2021/R13293445\n",
        "urllib.request.urlretrieve(\"https://raw.githubusercontent.com/ewattudo/vis1/main/R13290836_SL050.csv\", \"njunemp21.csv\")"
      ],
      "metadata": {
        "colab": {
          "base_uri": "https://localhost:8080/"
        },
        "id": "2EuMtIsVwhtW",
        "outputId": "602c6c48-f51d-4858-8756-8b7a5da706d6"
      },
      "execution_count": 24,
      "outputs": [
        {
          "output_type": "execute_result",
          "data": {
            "text/plain": [
              "('njunemp21.csv', <http.client.HTTPMessage at 0x7f6e9e39c5e0>)"
            ]
          },
          "metadata": {},
          "execution_count": 24
        }
      ]
    },
    {
      "cell_type": "code",
      "source": [
        "os.getcwd() #pwd\n",
        "os.listdir() #compare to clicking on the left the folder icon #dir"
      ],
      "metadata": {
        "colab": {
          "base_uri": "https://localhost:8080/",
          "height": 36
        },
        "id": "glr9EQWnw80k",
        "outputId": "0d330ac3-8036-4cc1-cb49-3460c063689c"
      },
      "execution_count": 25,
      "outputs": [
        {
          "output_type": "execute_result",
          "data": {
            "text/plain": [
              "'/content'"
            ],
            "application/vnd.google.colaboratory.intrinsic+json": {
              "type": "string"
            }
          },
          "metadata": {},
          "execution_count": 25
        },
        {
          "output_type": "execute_result",
          "data": {
            "text/plain": [
              "['.config', 'njunemp21.csv', 'appdata', 'sample_data']"
            ]
          },
          "metadata": {},
          "execution_count": 25
        }
      ]
    },
    {
      "cell_type": "code",
      "source": [
        "njunemp=pd.read_csv('njunemp21.csv')"
      ],
      "metadata": {
        "id": "qWIsBGGSxAWg"
      },
      "execution_count": 26,
      "outputs": []
    },
    {
      "cell_type": "code",
      "source": [
        "njunemp.columns"
      ],
      "metadata": {
        "colab": {
          "base_uri": "https://localhost:8080/"
        },
        "id": "C0sESFM0xr3o",
        "outputId": "cbb1186e-887c-4c8d-92d1-283626aa313b"
      },
      "execution_count": 27,
      "outputs": [
        {
          "output_type": "execute_result",
          "data": {
            "text/plain": [
              "Index(['Geo_FIPS', 'Geo_NAME', 'Geo_QNAME', 'Geo_NATION', 'Geo_STATE',\n",
              "       'Geo_COUNTY', 'Geo_MSA', 'ORG_US_007_001', 'ORG_US_007_002',\n",
              "       'ORG_US_007_003', 'ORG_US_007_004', 'ORG_US_Unemployment_027_001',\n",
              "       'ORG_US_Unemployment_027_002', 'ORG_US_Unemployment_027_003',\n",
              "       'ORG_US_Unemployment_027_004', 'ORG_US_Unemployment_020_001',\n",
              "       'ORG_US_Unemployment_020_002', 'ORG_US_Unemployment_020_003',\n",
              "       'ORG_US_Unemployment_020_004', 'ORG_US_035_001', 'ORG_US_035_002',\n",
              "       'ORG_US_035_003', 'ORG_US_035_004'],\n",
              "      dtype='object')"
            ]
          },
          "metadata": {},
          "execution_count": 27
        }
      ]
    },
    {
      "cell_type": "code",
      "source": [
        "njunemp.head(3)"
      ],
      "metadata": {
        "colab": {
          "base_uri": "https://localhost:8080/",
          "height": 393
        },
        "id": "NqfpvozXxwKC",
        "outputId": "9ddd92b8-51c5-47b8-8fd4-fd9bce5410d2"
      },
      "execution_count": 28,
      "outputs": [
        {
          "output_type": "execute_result",
          "data": {
            "text/plain": [
              "   Geo_FIPS           Geo_NAME                      Geo_QNAME  Geo_NATION  \\\n",
              "0     34001    Atlantic County    Atlantic County, New Jersey           0   \n",
              "1     34003      Bergen County      Bergen County, New Jersey           0   \n",
              "2     34005  Burlington County  Burlington County, New Jersey           0   \n",
              "\n",
              "   Geo_STATE  Geo_COUNTY  Geo_MSA  ORG_US_007_001  ORG_US_007_002  \\\n",
              "0         34           1      NaN          121301          108221   \n",
              "1         34           3      NaN          469719          435114   \n",
              "2         34           5      NaN          232113          216827   \n",
              "\n",
              "   ORG_US_007_003  ...  ORG_US_Unemployment_027_003  \\\n",
              "0           13080  ...                        30795   \n",
              "1           34605  ...                        70140   \n",
              "2           15286  ...                        27756   \n",
              "\n",
              "   ORG_US_Unemployment_027_004  ORG_US_Unemployment_020_001  \\\n",
              "0                         24.0                        -7080   \n",
              "1                         14.1                       -26560   \n",
              "2                         11.8                        -2988   \n",
              "\n",
              "   ORG_US_Unemployment_020_002  ORG_US_Unemployment_020_003  \\\n",
              "0                        10635                       -17715   \n",
              "1                         8975                       -35535   \n",
              "2                         9482                       -12470   \n",
              "\n",
              "   ORG_US_Unemployment_020_004  ORG_US_035_001  ORG_US_035_002  \\\n",
              "0                        -13.2       -5.514835       10.898080   \n",
              "1                         -6.7       -5.351828        2.106120   \n",
              "2                         -5.2       -1.270943        4.573055   \n",
              "\n",
              "   ORG_US_035_003  ORG_US_035_004  \n",
              "0      -57.525572      -55.000000  \n",
              "1      -50.662960      -47.517730  \n",
              "2      -44.927223      -44.067797  \n",
              "\n",
              "[3 rows x 23 columns]"
            ],
            "text/html": [
              "\n",
              "  <div id=\"df-6ac66f59-d239-4098-bb71-e4da4a44818d\">\n",
              "    <div class=\"colab-df-container\">\n",
              "      <div>\n",
              "<style scoped>\n",
              "    .dataframe tbody tr th:only-of-type {\n",
              "        vertical-align: middle;\n",
              "    }\n",
              "\n",
              "    .dataframe tbody tr th {\n",
              "        vertical-align: top;\n",
              "    }\n",
              "\n",
              "    .dataframe thead th {\n",
              "        text-align: right;\n",
              "    }\n",
              "</style>\n",
              "<table border=\"1\" class=\"dataframe\">\n",
              "  <thead>\n",
              "    <tr style=\"text-align: right;\">\n",
              "      <th></th>\n",
              "      <th>Geo_FIPS</th>\n",
              "      <th>Geo_NAME</th>\n",
              "      <th>Geo_QNAME</th>\n",
              "      <th>Geo_NATION</th>\n",
              "      <th>Geo_STATE</th>\n",
              "      <th>Geo_COUNTY</th>\n",
              "      <th>Geo_MSA</th>\n",
              "      <th>ORG_US_007_001</th>\n",
              "      <th>ORG_US_007_002</th>\n",
              "      <th>ORG_US_007_003</th>\n",
              "      <th>...</th>\n",
              "      <th>ORG_US_Unemployment_027_003</th>\n",
              "      <th>ORG_US_Unemployment_027_004</th>\n",
              "      <th>ORG_US_Unemployment_020_001</th>\n",
              "      <th>ORG_US_Unemployment_020_002</th>\n",
              "      <th>ORG_US_Unemployment_020_003</th>\n",
              "      <th>ORG_US_Unemployment_020_004</th>\n",
              "      <th>ORG_US_035_001</th>\n",
              "      <th>ORG_US_035_002</th>\n",
              "      <th>ORG_US_035_003</th>\n",
              "      <th>ORG_US_035_004</th>\n",
              "    </tr>\n",
              "  </thead>\n",
              "  <tbody>\n",
              "    <tr>\n",
              "      <th>0</th>\n",
              "      <td>34001</td>\n",
              "      <td>Atlantic County</td>\n",
              "      <td>Atlantic County, New Jersey</td>\n",
              "      <td>0</td>\n",
              "      <td>34</td>\n",
              "      <td>1</td>\n",
              "      <td>NaN</td>\n",
              "      <td>121301</td>\n",
              "      <td>108221</td>\n",
              "      <td>13080</td>\n",
              "      <td>...</td>\n",
              "      <td>30795</td>\n",
              "      <td>24.0</td>\n",
              "      <td>-7080</td>\n",
              "      <td>10635</td>\n",
              "      <td>-17715</td>\n",
              "      <td>-13.2</td>\n",
              "      <td>-5.514835</td>\n",
              "      <td>10.898080</td>\n",
              "      <td>-57.525572</td>\n",
              "      <td>-55.000000</td>\n",
              "    </tr>\n",
              "    <tr>\n",
              "      <th>1</th>\n",
              "      <td>34003</td>\n",
              "      <td>Bergen County</td>\n",
              "      <td>Bergen County, New Jersey</td>\n",
              "      <td>0</td>\n",
              "      <td>34</td>\n",
              "      <td>3</td>\n",
              "      <td>NaN</td>\n",
              "      <td>469719</td>\n",
              "      <td>435114</td>\n",
              "      <td>34605</td>\n",
              "      <td>...</td>\n",
              "      <td>70140</td>\n",
              "      <td>14.1</td>\n",
              "      <td>-26560</td>\n",
              "      <td>8975</td>\n",
              "      <td>-35535</td>\n",
              "      <td>-6.7</td>\n",
              "      <td>-5.351828</td>\n",
              "      <td>2.106120</td>\n",
              "      <td>-50.662960</td>\n",
              "      <td>-47.517730</td>\n",
              "    </tr>\n",
              "    <tr>\n",
              "      <th>2</th>\n",
              "      <td>34005</td>\n",
              "      <td>Burlington County</td>\n",
              "      <td>Burlington County, New Jersey</td>\n",
              "      <td>0</td>\n",
              "      <td>34</td>\n",
              "      <td>5</td>\n",
              "      <td>NaN</td>\n",
              "      <td>232113</td>\n",
              "      <td>216827</td>\n",
              "      <td>15286</td>\n",
              "      <td>...</td>\n",
              "      <td>27756</td>\n",
              "      <td>11.8</td>\n",
              "      <td>-2988</td>\n",
              "      <td>9482</td>\n",
              "      <td>-12470</td>\n",
              "      <td>-5.2</td>\n",
              "      <td>-1.270943</td>\n",
              "      <td>4.573055</td>\n",
              "      <td>-44.927223</td>\n",
              "      <td>-44.067797</td>\n",
              "    </tr>\n",
              "  </tbody>\n",
              "</table>\n",
              "<p>3 rows × 23 columns</p>\n",
              "</div>\n",
              "      <button class=\"colab-df-convert\" onclick=\"convertToInteractive('df-6ac66f59-d239-4098-bb71-e4da4a44818d')\"\n",
              "              title=\"Convert this dataframe to an interactive table.\"\n",
              "              style=\"display:none;\">\n",
              "        \n",
              "  <svg xmlns=\"http://www.w3.org/2000/svg\" height=\"24px\"viewBox=\"0 0 24 24\"\n",
              "       width=\"24px\">\n",
              "    <path d=\"M0 0h24v24H0V0z\" fill=\"none\"/>\n",
              "    <path d=\"M18.56 5.44l.94 2.06.94-2.06 2.06-.94-2.06-.94-.94-2.06-.94 2.06-2.06.94zm-11 1L8.5 8.5l.94-2.06 2.06-.94-2.06-.94L8.5 2.5l-.94 2.06-2.06.94zm10 10l.94 2.06.94-2.06 2.06-.94-2.06-.94-.94-2.06-.94 2.06-2.06.94z\"/><path d=\"M17.41 7.96l-1.37-1.37c-.4-.4-.92-.59-1.43-.59-.52 0-1.04.2-1.43.59L10.3 9.45l-7.72 7.72c-.78.78-.78 2.05 0 2.83L4 21.41c.39.39.9.59 1.41.59.51 0 1.02-.2 1.41-.59l7.78-7.78 2.81-2.81c.8-.78.8-2.07 0-2.86zM5.41 20L4 18.59l7.72-7.72 1.47 1.35L5.41 20z\"/>\n",
              "  </svg>\n",
              "      </button>\n",
              "      \n",
              "  <style>\n",
              "    .colab-df-container {\n",
              "      display:flex;\n",
              "      flex-wrap:wrap;\n",
              "      gap: 12px;\n",
              "    }\n",
              "\n",
              "    .colab-df-convert {\n",
              "      background-color: #E8F0FE;\n",
              "      border: none;\n",
              "      border-radius: 50%;\n",
              "      cursor: pointer;\n",
              "      display: none;\n",
              "      fill: #1967D2;\n",
              "      height: 32px;\n",
              "      padding: 0 0 0 0;\n",
              "      width: 32px;\n",
              "    }\n",
              "\n",
              "    .colab-df-convert:hover {\n",
              "      background-color: #E2EBFA;\n",
              "      box-shadow: 0px 1px 2px rgba(60, 64, 67, 0.3), 0px 1px 3px 1px rgba(60, 64, 67, 0.15);\n",
              "      fill: #174EA6;\n",
              "    }\n",
              "\n",
              "    [theme=dark] .colab-df-convert {\n",
              "      background-color: #3B4455;\n",
              "      fill: #D2E3FC;\n",
              "    }\n",
              "\n",
              "    [theme=dark] .colab-df-convert:hover {\n",
              "      background-color: #434B5C;\n",
              "      box-shadow: 0px 1px 3px 1px rgba(0, 0, 0, 0.15);\n",
              "      filter: drop-shadow(0px 1px 2px rgba(0, 0, 0, 0.3));\n",
              "      fill: #FFFFFF;\n",
              "    }\n",
              "  </style>\n",
              "\n",
              "      <script>\n",
              "        const buttonEl =\n",
              "          document.querySelector('#df-6ac66f59-d239-4098-bb71-e4da4a44818d button.colab-df-convert');\n",
              "        buttonEl.style.display =\n",
              "          google.colab.kernel.accessAllowed ? 'block' : 'none';\n",
              "\n",
              "        async function convertToInteractive(key) {\n",
              "          const element = document.querySelector('#df-6ac66f59-d239-4098-bb71-e4da4a44818d');\n",
              "          const dataTable =\n",
              "            await google.colab.kernel.invokeFunction('convertToInteractive',\n",
              "                                                     [key], {});\n",
              "          if (!dataTable) return;\n",
              "\n",
              "          const docLinkHtml = 'Like what you see? Visit the ' +\n",
              "            '<a target=\"_blank\" href=https://colab.research.google.com/notebooks/data_table.ipynb>data table notebook</a>'\n",
              "            + ' to learn more about interactive tables.';\n",
              "          element.innerHTML = '';\n",
              "          dataTable['output_type'] = 'display_data';\n",
              "          await google.colab.output.renderOutput(dataTable, element);\n",
              "          const docLink = document.createElement('div');\n",
              "          docLink.innerHTML = docLinkHtml;\n",
              "          element.appendChild(docLink);\n",
              "        }\n",
              "      </script>\n",
              "    </div>\n",
              "  </div>\n",
              "  "
            ]
          },
          "metadata": {},
          "execution_count": 28
        }
      ]
    },
    {
      "cell_type": "code",
      "source": [
        "njunemp.dtypes"
      ],
      "metadata": {
        "colab": {
          "base_uri": "https://localhost:8080/"
        },
        "id": "6CnoqcW3C5jY",
        "outputId": "3d20d99e-af13-4cb6-d2c4-2b6962db0084"
      },
      "execution_count": 29,
      "outputs": [
        {
          "output_type": "execute_result",
          "data": {
            "text/plain": [
              "Geo_FIPS                         int64\n",
              "Geo_NAME                        object\n",
              "Geo_QNAME                       object\n",
              "Geo_NATION                       int64\n",
              "Geo_STATE                        int64\n",
              "Geo_COUNTY                       int64\n",
              "Geo_MSA                        float64\n",
              "ORG_US_007_001                   int64\n",
              "ORG_US_007_002                   int64\n",
              "ORG_US_007_003                   int64\n",
              "ORG_US_007_004                 float64\n",
              "ORG_US_Unemployment_027_001      int64\n",
              "ORG_US_Unemployment_027_002      int64\n",
              "ORG_US_Unemployment_027_003      int64\n",
              "ORG_US_Unemployment_027_004    float64\n",
              "ORG_US_Unemployment_020_001      int64\n",
              "ORG_US_Unemployment_020_002      int64\n",
              "ORG_US_Unemployment_020_003      int64\n",
              "ORG_US_Unemployment_020_004    float64\n",
              "ORG_US_035_001                 float64\n",
              "ORG_US_035_002                 float64\n",
              "ORG_US_035_003                 float64\n",
              "ORG_US_035_004                 float64\n",
              "dtype: object"
            ]
          },
          "metadata": {},
          "execution_count": 29
        }
      ]
    },
    {
      "cell_type": "code",
      "source": [
        "njunemp = njunemp.drop(['Geo_FIPS','Geo_QNAME','Geo_NATION','Geo_COUNTY','Geo_MSA'],axis=1)"
      ],
      "metadata": {
        "id": "5BBgeL7SFWIM"
      },
      "execution_count": 30,
      "outputs": []
    },
    {
      "cell_type": "code",
      "source": [
        "njunemp.dtypes"
      ],
      "metadata": {
        "colab": {
          "base_uri": "https://localhost:8080/"
        },
        "id": "LmwwfnlaI8Jv",
        "outputId": "9361b07c-bc5f-4ec2-cdc6-7d3281894fd4"
      },
      "execution_count": 31,
      "outputs": [
        {
          "output_type": "execute_result",
          "data": {
            "text/plain": [
              "Geo_NAME                        object\n",
              "Geo_STATE                        int64\n",
              "ORG_US_007_001                   int64\n",
              "ORG_US_007_002                   int64\n",
              "ORG_US_007_003                   int64\n",
              "ORG_US_007_004                 float64\n",
              "ORG_US_Unemployment_027_001      int64\n",
              "ORG_US_Unemployment_027_002      int64\n",
              "ORG_US_Unemployment_027_003      int64\n",
              "ORG_US_Unemployment_027_004    float64\n",
              "ORG_US_Unemployment_020_001      int64\n",
              "ORG_US_Unemployment_020_002      int64\n",
              "ORG_US_Unemployment_020_003      int64\n",
              "ORG_US_Unemployment_020_004    float64\n",
              "ORG_US_035_001                 float64\n",
              "ORG_US_035_002                 float64\n",
              "ORG_US_035_003                 float64\n",
              "ORG_US_035_004                 float64\n",
              "dtype: object"
            ]
          },
          "metadata": {},
          "execution_count": 31
        }
      ]
    },
    {
      "cell_type": "code",
      "source": [
        "njunemp = njunemp.rename(columns={'Geo_NAME':\"County\", \"ORG_US_007_004\":\"Unemployment2021\",\"ORG_US_Unemployment_027_004\":\"Unemployment2020\",\"ORG_US_035_004\":\"PercentageChange\"})"
      ],
      "metadata": {
        "id": "R8l1mHuEJQ1H"
      },
      "execution_count": 32,
      "outputs": []
    },
    {
      "cell_type": "code",
      "source": [
        "njunemp.dtypes"
      ],
      "metadata": {
        "colab": {
          "base_uri": "https://localhost:8080/"
        },
        "id": "ZU17yQY3LRZR",
        "outputId": "227e3ee5-a912-405a-b80d-cc95cf4bfd76"
      },
      "execution_count": 33,
      "outputs": [
        {
          "output_type": "execute_result",
          "data": {
            "text/plain": [
              "County                          object\n",
              "Geo_STATE                        int64\n",
              "ORG_US_007_001                   int64\n",
              "ORG_US_007_002                   int64\n",
              "ORG_US_007_003                   int64\n",
              "Unemployment2021               float64\n",
              "ORG_US_Unemployment_027_001      int64\n",
              "ORG_US_Unemployment_027_002      int64\n",
              "ORG_US_Unemployment_027_003      int64\n",
              "Unemployment2020               float64\n",
              "ORG_US_Unemployment_020_001      int64\n",
              "ORG_US_Unemployment_020_002      int64\n",
              "ORG_US_Unemployment_020_003      int64\n",
              "ORG_US_Unemployment_020_004    float64\n",
              "ORG_US_035_001                 float64\n",
              "ORG_US_035_002                 float64\n",
              "ORG_US_035_003                 float64\n",
              "PercentageChange               float64\n",
              "dtype: object"
            ]
          },
          "metadata": {},
          "execution_count": 33
        }
      ]
    },
    {
      "cell_type": "code",
      "source": [
        "#When you put quotes around stdev, it doesn't work. \n",
        "njunemp.agg({'Unemployment2020':['mean','median',stdev], 'Unemployment2021':['mean','median',stdev],'PercentageChange':['mean','median',stdev] })"
      ],
      "metadata": {
        "colab": {
          "base_uri": "https://localhost:8080/",
          "height": 143
        },
        "id": "CGGhdWuGMOGt",
        "outputId": "89bdf444-79d0-49a2-ac92-fffe7bf157d5"
      },
      "execution_count": 59,
      "outputs": [
        {
          "output_type": "execute_result",
          "data": {
            "text/plain": [
              "        Unemployment2020  Unemployment2021  PercentageChange\n",
              "mean           13.857143          7.595238        -44.823672\n",
              "median         13.200000          7.100000        -45.384615\n",
              "stdev           3.000262          1.425299          4.966793"
            ],
            "text/html": [
              "\n",
              "  <div id=\"df-e8291d47-a4e8-4f8f-9f6f-bf292113307e\">\n",
              "    <div class=\"colab-df-container\">\n",
              "      <div>\n",
              "<style scoped>\n",
              "    .dataframe tbody tr th:only-of-type {\n",
              "        vertical-align: middle;\n",
              "    }\n",
              "\n",
              "    .dataframe tbody tr th {\n",
              "        vertical-align: top;\n",
              "    }\n",
              "\n",
              "    .dataframe thead th {\n",
              "        text-align: right;\n",
              "    }\n",
              "</style>\n",
              "<table border=\"1\" class=\"dataframe\">\n",
              "  <thead>\n",
              "    <tr style=\"text-align: right;\">\n",
              "      <th></th>\n",
              "      <th>Unemployment2020</th>\n",
              "      <th>Unemployment2021</th>\n",
              "      <th>PercentageChange</th>\n",
              "    </tr>\n",
              "  </thead>\n",
              "  <tbody>\n",
              "    <tr>\n",
              "      <th>mean</th>\n",
              "      <td>13.857143</td>\n",
              "      <td>7.595238</td>\n",
              "      <td>-44.823672</td>\n",
              "    </tr>\n",
              "    <tr>\n",
              "      <th>median</th>\n",
              "      <td>13.200000</td>\n",
              "      <td>7.100000</td>\n",
              "      <td>-45.384615</td>\n",
              "    </tr>\n",
              "    <tr>\n",
              "      <th>stdev</th>\n",
              "      <td>3.000262</td>\n",
              "      <td>1.425299</td>\n",
              "      <td>4.966793</td>\n",
              "    </tr>\n",
              "  </tbody>\n",
              "</table>\n",
              "</div>\n",
              "      <button class=\"colab-df-convert\" onclick=\"convertToInteractive('df-e8291d47-a4e8-4f8f-9f6f-bf292113307e')\"\n",
              "              title=\"Convert this dataframe to an interactive table.\"\n",
              "              style=\"display:none;\">\n",
              "        \n",
              "  <svg xmlns=\"http://www.w3.org/2000/svg\" height=\"24px\"viewBox=\"0 0 24 24\"\n",
              "       width=\"24px\">\n",
              "    <path d=\"M0 0h24v24H0V0z\" fill=\"none\"/>\n",
              "    <path d=\"M18.56 5.44l.94 2.06.94-2.06 2.06-.94-2.06-.94-.94-2.06-.94 2.06-2.06.94zm-11 1L8.5 8.5l.94-2.06 2.06-.94-2.06-.94L8.5 2.5l-.94 2.06-2.06.94zm10 10l.94 2.06.94-2.06 2.06-.94-2.06-.94-.94-2.06-.94 2.06-2.06.94z\"/><path d=\"M17.41 7.96l-1.37-1.37c-.4-.4-.92-.59-1.43-.59-.52 0-1.04.2-1.43.59L10.3 9.45l-7.72 7.72c-.78.78-.78 2.05 0 2.83L4 21.41c.39.39.9.59 1.41.59.51 0 1.02-.2 1.41-.59l7.78-7.78 2.81-2.81c.8-.78.8-2.07 0-2.86zM5.41 20L4 18.59l7.72-7.72 1.47 1.35L5.41 20z\"/>\n",
              "  </svg>\n",
              "      </button>\n",
              "      \n",
              "  <style>\n",
              "    .colab-df-container {\n",
              "      display:flex;\n",
              "      flex-wrap:wrap;\n",
              "      gap: 12px;\n",
              "    }\n",
              "\n",
              "    .colab-df-convert {\n",
              "      background-color: #E8F0FE;\n",
              "      border: none;\n",
              "      border-radius: 50%;\n",
              "      cursor: pointer;\n",
              "      display: none;\n",
              "      fill: #1967D2;\n",
              "      height: 32px;\n",
              "      padding: 0 0 0 0;\n",
              "      width: 32px;\n",
              "    }\n",
              "\n",
              "    .colab-df-convert:hover {\n",
              "      background-color: #E2EBFA;\n",
              "      box-shadow: 0px 1px 2px rgba(60, 64, 67, 0.3), 0px 1px 3px 1px rgba(60, 64, 67, 0.15);\n",
              "      fill: #174EA6;\n",
              "    }\n",
              "\n",
              "    [theme=dark] .colab-df-convert {\n",
              "      background-color: #3B4455;\n",
              "      fill: #D2E3FC;\n",
              "    }\n",
              "\n",
              "    [theme=dark] .colab-df-convert:hover {\n",
              "      background-color: #434B5C;\n",
              "      box-shadow: 0px 1px 3px 1px rgba(0, 0, 0, 0.15);\n",
              "      filter: drop-shadow(0px 1px 2px rgba(0, 0, 0, 0.3));\n",
              "      fill: #FFFFFF;\n",
              "    }\n",
              "  </style>\n",
              "\n",
              "      <script>\n",
              "        const buttonEl =\n",
              "          document.querySelector('#df-e8291d47-a4e8-4f8f-9f6f-bf292113307e button.colab-df-convert');\n",
              "        buttonEl.style.display =\n",
              "          google.colab.kernel.accessAllowed ? 'block' : 'none';\n",
              "\n",
              "        async function convertToInteractive(key) {\n",
              "          const element = document.querySelector('#df-e8291d47-a4e8-4f8f-9f6f-bf292113307e');\n",
              "          const dataTable =\n",
              "            await google.colab.kernel.invokeFunction('convertToInteractive',\n",
              "                                                     [key], {});\n",
              "          if (!dataTable) return;\n",
              "\n",
              "          const docLinkHtml = 'Like what you see? Visit the ' +\n",
              "            '<a target=\"_blank\" href=https://colab.research.google.com/notebooks/data_table.ipynb>data table notebook</a>'\n",
              "            + ' to learn more about interactive tables.';\n",
              "          element.innerHTML = '';\n",
              "          dataTable['output_type'] = 'display_data';\n",
              "          await google.colab.output.renderOutput(dataTable, element);\n",
              "          const docLink = document.createElement('div');\n",
              "          docLink.innerHTML = docLinkHtml;\n",
              "          element.appendChild(docLink);\n",
              "        }\n",
              "      </script>\n",
              "    </div>\n",
              "  </div>\n",
              "  "
            ]
          },
          "metadata": {},
          "execution_count": 59
        }
      ]
    },
    {
      "cell_type": "code",
      "source": [
        "njunemp.plot(x=\"County\", y=[\"Unemployment2020\", \"Unemployment2021\"], kind=\"bar\")"
      ],
      "metadata": {
        "colab": {
          "base_uri": "https://localhost:8080/",
          "height": 388
        },
        "id": "wpSwjYkkYaTP",
        "outputId": "e90fe773-df01-4d58-9d8d-336c3d3b51a8"
      },
      "execution_count": 55,
      "outputs": [
        {
          "output_type": "execute_result",
          "data": {
            "text/plain": [
              "<matplotlib.axes._subplots.AxesSubplot at 0x7f6e9d7a4850>"
            ]
          },
          "metadata": {},
          "execution_count": 55
        },
        {
          "output_type": "display_data",
          "data": {
            "text/plain": [
              "<Figure size 432x288 with 1 Axes>"
            ],
            "image/png": "[encoded data removed]"
          },
          "metadata": {
            "needs_background": "light"
          }
        }
      ]
    },
    {
      "cell_type": "code",
      "source": [
        "njunemp = njunemp.rename(columns={'ORG_US_007_001':\"LaborForce2021\", \"ORG_US_Unemployment_027_001\":\"LaborForce2020\"})"
      ],
      "metadata": {
        "id": "Qp6z2jmfQxNC"
      },
      "execution_count": 49,
      "outputs": []
    },
    {
      "cell_type": "code",
      "source": [
        "njunemp.dtypes"
      ],
      "metadata": {
        "colab": {
          "base_uri": "https://localhost:8080/"
        },
        "id": "ofaWBJLnXBY8",
        "outputId": "6c5df64b-a5d2-4d39-d148-082e8e2f3fd7"
      },
      "execution_count": 50,
      "outputs": [
        {
          "output_type": "execute_result",
          "data": {
            "text/plain": [
              "County                          object\n",
              "Geo_STATE                        int64\n",
              "LaborForce2021                   int64\n",
              "ORG_US_007_002                   int64\n",
              "ORG_US_007_003                   int64\n",
              "Unemployment2021               float64\n",
              "LaborForce2020                   int64\n",
              "ORG_US_Unemployment_027_002      int64\n",
              "ORG_US_Unemployment_027_003      int64\n",
              "Unemployment2020               float64\n",
              "ORG_US_Unemployment_020_001      int64\n",
              "ORG_US_Unemployment_020_002      int64\n",
              "ORG_US_Unemployment_020_003      int64\n",
              "ORG_US_Unemployment_020_004    float64\n",
              "ORG_US_035_001                 float64\n",
              "ORG_US_035_002                 float64\n",
              "ORG_US_035_003                 float64\n",
              "PercentageChange               float64\n",
              "dtype: object"
            ]
          },
          "metadata": {},
          "execution_count": 50
        }
      ]
    },
    {
      "cell_type": "code",
      "source": [
        "njunemp.agg({'LaborForce2020':['mean','median',stdev], 'LaborForce2021':['mean','median',stdev] })"
      ],
      "metadata": {
        "colab": {
          "base_uri": "https://localhost:8080/",
          "height": 143
        },
        "id": "FfINfp4oXKOW",
        "outputId": "1797828c-60e6-4a6e-f552-7ddb242a0093"
      },
      "execution_count": 58,
      "outputs": [
        {
          "output_type": "execute_result",
          "data": {
            "text/plain": [
              "        LaborForce2020  LaborForce2021\n",
              "mean     220332.904762   214303.047619\n",
              "median   235101.000000   232113.000000\n",
              "stdev    138358.206270   132198.286191"
            ],
            "text/html": [
              "\n",
              "  <div id=\"df-bec04245-218c-4534-b35f-15da923eb516\">\n",
              "    <div class=\"colab-df-container\">\n",
              "      <div>\n",
              "<style scoped>\n",
              "    .dataframe tbody tr th:only-of-type {\n",
              "        vertical-align: middle;\n",
              "    }\n",
              "\n",
              "    .dataframe tbody tr th {\n",
              "        vertical-align: top;\n",
              "    }\n",
              "\n",
              "    .dataframe thead th {\n",
              "        text-align: right;\n",
              "    }\n",
              "</style>\n",
              "<table border=\"1\" class=\"dataframe\">\n",
              "  <thead>\n",
              "    <tr style=\"text-align: right;\">\n",
              "      <th></th>\n",
              "      <th>LaborForce2020</th>\n",
              "      <th>LaborForce2021</th>\n",
              "    </tr>\n",
              "  </thead>\n",
              "  <tbody>\n",
              "    <tr>\n",
              "      <th>mean</th>\n",
              "      <td>220332.904762</td>\n",
              "      <td>214303.047619</td>\n",
              "    </tr>\n",
              "    <tr>\n",
              "      <th>median</th>\n",
              "      <td>235101.000000</td>\n",
              "      <td>232113.000000</td>\n",
              "    </tr>\n",
              "    <tr>\n",
              "      <th>stdev</th>\n",
              "      <td>138358.206270</td>\n",
              "      <td>132198.286191</td>\n",
              "    </tr>\n",
              "  </tbody>\n",
              "</table>\n",
              "</div>\n",
              "      <button class=\"colab-df-convert\" onclick=\"convertToInteractive('df-bec04245-218c-4534-b35f-15da923eb516')\"\n",
              "              title=\"Convert this dataframe to an interactive table.\"\n",
              "              style=\"display:none;\">\n",
              "        \n",
              "  <svg xmlns=\"http://www.w3.org/2000/svg\" height=\"24px\"viewBox=\"0 0 24 24\"\n",
              "       width=\"24px\">\n",
              "    <path d=\"M0 0h24v24H0V0z\" fill=\"none\"/>\n",
              "    <path d=\"M18.56 5.44l.94 2.06.94-2.06 2.06-.94-2.06-.94-.94-2.06-.94 2.06-2.06.94zm-11 1L8.5 8.5l.94-2.06 2.06-.94-2.06-.94L8.5 2.5l-.94 2.06-2.06.94zm10 10l.94 2.06.94-2.06 2.06-.94-2.06-.94-.94-2.06-.94 2.06-2.06.94z\"/><path d=\"M17.41 7.96l-1.37-1.37c-.4-.4-.92-.59-1.43-.59-.52 0-1.04.2-1.43.59L10.3 9.45l-7.72 7.72c-.78.78-.78 2.05 0 2.83L4 21.41c.39.39.9.59 1.41.59.51 0 1.02-.2 1.41-.59l7.78-7.78 2.81-2.81c.8-.78.8-2.07 0-2.86zM5.41 20L4 18.59l7.72-7.72 1.47 1.35L5.41 20z\"/>\n",
              "  </svg>\n",
              "      </button>\n",
              "      \n",
              "  <style>\n",
              "    .colab-df-container {\n",
              "      display:flex;\n",
              "      flex-wrap:wrap;\n",
              "      gap: 12px;\n",
              "    }\n",
              "\n",
              "    .colab-df-convert {\n",
              "      background-color: #E8F0FE;\n",
              "      border: none;\n",
              "      border-radius: 50%;\n",
              "      cursor: pointer;\n",
              "      display: none;\n",
              "      fill: #1967D2;\n",
              "      height: 32px;\n",
              "      padding: 0 0 0 0;\n",
              "      width: 32px;\n",
              "    }\n",
              "\n",
              "    .colab-df-convert:hover {\n",
              "      background-color: #E2EBFA;\n",
              "      box-shadow: 0px 1px 2px rgba(60, 64, 67, 0.3), 0px 1px 3px 1px rgba(60, 64, 67, 0.15);\n",
              "      fill: #174EA6;\n",
              "    }\n",
              "\n",
              "    [theme=dark] .colab-df-convert {\n",
              "      background-color: #3B4455;\n",
              "      fill: #D2E3FC;\n",
              "    }\n",
              "\n",
              "    [theme=dark] .colab-df-convert:hover {\n",
              "      background-color: #434B5C;\n",
              "      box-shadow: 0px 1px 3px 1px rgba(0, 0, 0, 0.15);\n",
              "      filter: drop-shadow(0px 1px 2px rgba(0, 0, 0, 0.3));\n",
              "      fill: #FFFFFF;\n",
              "    }\n",
              "  </style>\n",
              "\n",
              "      <script>\n",
              "        const buttonEl =\n",
              "          document.querySelector('#df-bec04245-218c-4534-b35f-15da923eb516 button.colab-df-convert');\n",
              "        buttonEl.style.display =\n",
              "          google.colab.kernel.accessAllowed ? 'block' : 'none';\n",
              "\n",
              "        async function convertToInteractive(key) {\n",
              "          const element = document.querySelector('#df-bec04245-218c-4534-b35f-15da923eb516');\n",
              "          const dataTable =\n",
              "            await google.colab.kernel.invokeFunction('convertToInteractive',\n",
              "                                                     [key], {});\n",
              "          if (!dataTable) return;\n",
              "\n",
              "          const docLinkHtml = 'Like what you see? Visit the ' +\n",
              "            '<a target=\"_blank\" href=https://colab.research.google.com/notebooks/data_table.ipynb>data table notebook</a>'\n",
              "            + ' to learn more about interactive tables.';\n",
              "          element.innerHTML = '';\n",
              "          dataTable['output_type'] = 'display_data';\n",
              "          await google.colab.output.renderOutput(dataTable, element);\n",
              "          const docLink = document.createElement('div');\n",
              "          docLink.innerHTML = docLinkHtml;\n",
              "          element.appendChild(docLink);\n",
              "        }\n",
              "      </script>\n",
              "    </div>\n",
              "  </div>\n",
              "  "
            ]
          },
          "metadata": {},
          "execution_count": 58
        }
      ]
    },
    {
      "cell_type": "code",
      "source": [
        "njunemp.plot(x=\"County\", y=[\"LaborForce2020\", \"LaborForce2021\"], kind=\"bar\")"
      ],
      "metadata": {
        "colab": {
          "base_uri": "https://localhost:8080/",
          "height": 386
        },
        "id": "jG1HP1SPX-oh",
        "outputId": "873ba966-120f-4de4-ae9a-5f03cf97d374"
      },
      "execution_count": 53,
      "outputs": [
        {
          "output_type": "execute_result",
          "data": {
            "text/plain": [
              "<matplotlib.axes._subplots.AxesSubplot at 0x7f6e9de68ac0>"
            ]
          },
          "metadata": {},
          "execution_count": 53
        },
        {
          "output_type": "display_data",
          "data": {
            "text/plain": [
              "<Figure size 432x288 with 1 Axes>"
            ],
            "image/png": "[encoded data removed]"
          },
          "metadata": {
            "needs_background": "light"
          }
        }
      ]
    },
    {
      "cell_type": "code",
      "source": [
        "njunemp['County'] = njunemp['County'].str.replace('County','')"
      ],
      "metadata": {
        "id": "qvMy570fiYaV"
      },
      "execution_count": 77,
      "outputs": []
    },
    {
      "cell_type": "code",
      "source": [
        "njunemp.plot(x=\"County\", y=[\"LaborForce2020\", \"LaborForce2021\"], kind=\"bar\")"
      ],
      "metadata": {
        "colab": {
          "base_uri": "https://localhost:8080/",
          "height": 351
        },
        "id": "1boQazIXieMh",
        "outputId": "dd3d9065-eb27-4992-fbda-4861df1abbe8"
      },
      "execution_count": 78,
      "outputs": [
        {
          "output_type": "execute_result",
          "data": {
            "text/plain": [
              "<matplotlib.axes._subplots.AxesSubplot at 0x7f6e9d69c7f0>"
            ]
          },
          "metadata": {},
          "execution_count": 78
        },
        {
          "output_type": "display_data",
          "data": {
            "text/plain": [
              "<Figure size 432x288 with 1 Axes>"
            ],
            "image/png": "[encoded data removed]"
          },
          "metadata": {
            "needs_background": "light"
          }
        }
      ]
    },
    {
      "cell_type": "markdown",
      "source": [
        "### Import: Data File 3: New Jersey Zip Codes\n",
        "\n",
        "\n"
      ],
      "metadata": {
        "id": "Y6-XROSiokya"
      }
    },
    {
      "cell_type": "code",
      "source": [
        "#Found this import code at https://towardsdatascience.com/2-easy-ways-to-get-tables-from-a-website-with-pandas-b92fc835e741 save for later \n",
        "#Found the data on a background check website. It was the cleanest file and I wanted to test the import from html table code. \n",
        "pd.read_html('https://www.corragroup.com/new-jersey-county-lookup.html')"
      ],
      "metadata": {
        "colab": {
          "base_uri": "https://localhost:8080/"
        },
        "id": "_3gAMetemtVW",
        "outputId": "a205d31d-8bd3-462b-e679-5d168de9e5a0"
      },
      "execution_count": null,
      "outputs": [
        {
          "output_type": "execute_result",
          "data": {
            "text/plain": [
              "[                   City ZIP Code      County\n",
              " 0                   A C    08401    ATLANTIC\n",
              " 1              ABERDEEN    07747    MONMOUTH\n",
              " 2               ABSECON    08201    ATLANTIC\n",
              " 3       ABSECON HEIGHTS    08201    ATLANTIC\n",
              " 4     ABSECON HIGHLANDS    08201    ATLANTIC\n",
              " ...                 ...      ...         ...\n",
              " 1250        WRIGHTSTOWN    08562  BURLINGTON\n",
              " 1251            WYCKOFF    07481      BERGEN\n",
              " 1252          YARDVILLE    08620      MERCER\n",
              " 1253           ZAREPATH    08873    SOMERSET\n",
              " 1254          ZAREPHATH    08890    SOMERSET\n",
              " \n",
              " [1255 rows x 3 columns]]"
            ]
          },
          "metadata": {},
          "execution_count": 9
        }
      ]
    },
    {
      "cell_type": "code",
      "source": [
        "pd.read_html('https://www.corragroup.com/new-jersey-county-lookup.html')[0]"
      ],
      "metadata": {
        "colab": {
          "base_uri": "https://localhost:8080/",
          "height": 423
        },
        "id": "-t-UV3R6pSXj",
        "outputId": "ffd464c1-6d1f-4d46-c64b-5a5498ff2903"
      },
      "execution_count": null,
      "outputs": [
        {
          "output_type": "execute_result",
          "data": {
            "text/plain": [
              "                   City ZIP Code      County\n",
              "0                   A C    08401    ATLANTIC\n",
              "1              ABERDEEN    07747    MONMOUTH\n",
              "2               ABSECON    08201    ATLANTIC\n",
              "3       ABSECON HEIGHTS    08201    ATLANTIC\n",
              "4     ABSECON HIGHLANDS    08201    ATLANTIC\n",
              "...                 ...      ...         ...\n",
              "1250        WRIGHTSTOWN    08562  BURLINGTON\n",
              "1251            WYCKOFF    07481      BERGEN\n",
              "1252          YARDVILLE    08620      MERCER\n",
              "1253           ZAREPATH    08873    SOMERSET\n",
              "1254          ZAREPHATH    08890    SOMERSET\n",
              "\n",
              "[1255 rows x 3 columns]"
            ],
            "text/html": [
              "\n",
              "  <div id=\"df-c34f337d-2e16-4e74-be05-03851977b1d4\">\n",
              "    <div class=\"colab-df-container\">\n",
              "      <div>\n",
              "<style scoped>\n",
              "    .dataframe tbody tr th:only-of-type {\n",
              "        vertical-align: middle;\n",
              "    }\n",
              "\n",
              "    .dataframe tbody tr th {\n",
              "        vertical-align: top;\n",
              "    }\n",
              "\n",
              "    .dataframe thead th {\n",
              "        text-align: right;\n",
              "    }\n",
              "</style>\n",
              "<table border=\"1\" class=\"dataframe\">\n",
              "  <thead>\n",
              "    <tr style=\"text-align: right;\">\n",
              "      <th></th>\n",
              "      <th>City</th>\n",
              "      <th>ZIP Code</th>\n",
              "      <th>County</th>\n",
              "    </tr>\n",
              "  </thead>\n",
              "  <tbody>\n",
              "    <tr>\n",
              "      <th>0</th>\n",
              "      <td>A C</td>\n",
              "      <td>08401</td>\n",
              "      <td>ATLANTIC</td>\n",
              "    </tr>\n",
              "    <tr>\n",
              "      <th>1</th>\n",
              "      <td>ABERDEEN</td>\n",
              "      <td>07747</td>\n",
              "      <td>MONMOUTH</td>\n",
              "    </tr>\n",
              "    <tr>\n",
              "      <th>2</th>\n",
              "      <td>ABSECON</td>\n",
              "      <td>08201</td>\n",
              "      <td>ATLANTIC</td>\n",
              "    </tr>\n",
              "    <tr>\n",
              "      <th>3</th>\n",
              "      <td>ABSECON HEIGHTS</td>\n",
              "      <td>08201</td>\n",
              "      <td>ATLANTIC</td>\n",
              "    </tr>\n",
              "    <tr>\n",
              "      <th>4</th>\n",
              "      <td>ABSECON HIGHLANDS</td>\n",
              "      <td>08201</td>\n",
              "      <td>ATLANTIC</td>\n",
              "    </tr>\n",
              "    <tr>\n",
              "      <th>...</th>\n",
              "      <td>...</td>\n",
              "      <td>...</td>\n",
              "      <td>...</td>\n",
              "    </tr>\n",
              "    <tr>\n",
              "      <th>1250</th>\n",
              "      <td>WRIGHTSTOWN</td>\n",
              "      <td>08562</td>\n",
              "      <td>BURLINGTON</td>\n",
              "    </tr>\n",
              "    <tr>\n",
              "      <th>1251</th>\n",
              "      <td>WYCKOFF</td>\n",
              "      <td>07481</td>\n",
              "      <td>BERGEN</td>\n",
              "    </tr>\n",
              "    <tr>\n",
              "      <th>1252</th>\n",
              "      <td>YARDVILLE</td>\n",
              "      <td>08620</td>\n",
              "      <td>MERCER</td>\n",
              "    </tr>\n",
              "    <tr>\n",
              "      <th>1253</th>\n",
              "      <td>ZAREPATH</td>\n",
              "      <td>08873</td>\n",
              "      <td>SOMERSET</td>\n",
              "    </tr>\n",
              "    <tr>\n",
              "      <th>1254</th>\n",
              "      <td>ZAREPHATH</td>\n",
              "      <td>08890</td>\n",
              "      <td>SOMERSET</td>\n",
              "    </tr>\n",
              "  </tbody>\n",
              "</table>\n",
              "<p>1255 rows × 3 columns</p>\n",
              "</div>\n",
              "      <button class=\"colab-df-convert\" onclick=\"convertToInteractive('df-c34f337d-2e16-4e74-be05-03851977b1d4')\"\n",
              "              title=\"Convert this dataframe to an interactive table.\"\n",
              "              style=\"display:none;\">\n",
              "        \n",
              "  <svg xmlns=\"http://www.w3.org/2000/svg\" height=\"24px\"viewBox=\"0 0 24 24\"\n",
              "       width=\"24px\">\n",
              "    <path d=\"M0 0h24v24H0V0z\" fill=\"none\"/>\n",
              "    <path d=\"M18.56 5.44l.94 2.06.94-2.06 2.06-.94-2.06-.94-.94-2.06-.94 2.06-2.06.94zm-11 1L8.5 8.5l.94-2.06 2.06-.94-2.06-.94L8.5 2.5l-.94 2.06-2.06.94zm10 10l.94 2.06.94-2.06 2.06-.94-2.06-.94-.94-2.06-.94 2.06-2.06.94z\"/><path d=\"M17.41 7.96l-1.37-1.37c-.4-.4-.92-.59-1.43-.59-.52 0-1.04.2-1.43.59L10.3 9.45l-7.72 7.72c-.78.78-.78 2.05 0 2.83L4 21.41c.39.39.9.59 1.41.59.51 0 1.02-.2 1.41-.59l7.78-7.78 2.81-2.81c.8-.78.8-2.07 0-2.86zM5.41 20L4 18.59l7.72-7.72 1.47 1.35L5.41 20z\"/>\n",
              "  </svg>\n",
              "      </button>\n",
              "      \n",
              "  <style>\n",
              "    .colab-df-container {\n",
              "      display:flex;\n",
              "      flex-wrap:wrap;\n",
              "      gap: 12px;\n",
              "    }\n",
              "\n",
              "    .colab-df-convert {\n",
              "      background-color: #E8F0FE;\n",
              "      border: none;\n",
              "      border-radius: 50%;\n",
              "      cursor: pointer;\n",
              "      display: none;\n",
              "      fill: #1967D2;\n",
              "      height: 32px;\n",
              "      padding: 0 0 0 0;\n",
              "      width: 32px;\n",
              "    }\n",
              "\n",
              "    .colab-df-convert:hover {\n",
              "      background-color: #E2EBFA;\n",
              "      box-shadow: 0px 1px 2px rgba(60, 64, 67, 0.3), 0px 1px 3px 1px rgba(60, 64, 67, 0.15);\n",
              "      fill: #174EA6;\n",
              "    }\n",
              "\n",
              "    [theme=dark] .colab-df-convert {\n",
              "      background-color: #3B4455;\n",
              "      fill: #D2E3FC;\n",
              "    }\n",
              "\n",
              "    [theme=dark] .colab-df-convert:hover {\n",
              "      background-color: #434B5C;\n",
              "      box-shadow: 0px 1px 3px 1px rgba(0, 0, 0, 0.15);\n",
              "      filter: drop-shadow(0px 1px 2px rgba(0, 0, 0, 0.3));\n",
              "      fill: #FFFFFF;\n",
              "    }\n",
              "  </style>\n",
              "\n",
              "      <script>\n",
              "        const buttonEl =\n",
              "          document.querySelector('#df-c34f337d-2e16-4e74-be05-03851977b1d4 button.colab-df-convert');\n",
              "        buttonEl.style.display =\n",
              "          google.colab.kernel.accessAllowed ? 'block' : 'none';\n",
              "\n",
              "        async function convertToInteractive(key) {\n",
              "          const element = document.querySelector('#df-c34f337d-2e16-4e74-be05-03851977b1d4');\n",
              "          const dataTable =\n",
              "            await google.colab.kernel.invokeFunction('convertToInteractive',\n",
              "                                                     [key], {});\n",
              "          if (!dataTable) return;\n",
              "\n",
              "          const docLinkHtml = 'Like what you see? Visit the ' +\n",
              "            '<a target=\"_blank\" href=https://colab.research.google.com/notebooks/data_table.ipynb>data table notebook</a>'\n",
              "            + ' to learn more about interactive tables.';\n",
              "          element.innerHTML = '';\n",
              "          dataTable['output_type'] = 'display_data';\n",
              "          await google.colab.output.renderOutput(dataTable, element);\n",
              "          const docLink = document.createElement('div');\n",
              "          docLink.innerHTML = docLinkHtml;\n",
              "          element.appendChild(docLink);\n",
              "        }\n",
              "      </script>\n",
              "    </div>\n",
              "  </div>\n",
              "  "
            ]
          },
          "metadata": {},
          "execution_count": 8
        }
      ]
    },
    {
      "cell_type": "code",
      "source": [
        "njzips=pd.read_html('https://www.corragroup.com/new-jersey-county-lookup.html')[0]"
      ],
      "metadata": {
        "id": "gsp0DnKjd1Xp"
      },
      "execution_count": 60,
      "outputs": []
    },
    {
      "cell_type": "code",
      "source": [
        "njzips.head(3)"
      ],
      "metadata": {
        "colab": {
          "base_uri": "https://localhost:8080/",
          "height": 143
        },
        "id": "nqumWz1NeBzb",
        "outputId": "612d7b1a-d32d-4ba4-8eab-5b3afaeb1abe"
      },
      "execution_count": 61,
      "outputs": [
        {
          "output_type": "execute_result",
          "data": {
            "text/plain": [
              "       City ZIP Code    County\n",
              "0       A C    08401  ATLANTIC\n",
              "1  ABERDEEN    07747  MONMOUTH\n",
              "2   ABSECON    08201  ATLANTIC"
            ],
            "text/html": [
              "\n",
              "  <div id=\"df-2d42e523-bab2-4111-926f-e9a3e499bf1e\">\n",
              "    <div class=\"colab-df-container\">\n",
              "      <div>\n",
              "<style scoped>\n",
              "    .dataframe tbody tr th:only-of-type {\n",
              "        vertical-align: middle;\n",
              "    }\n",
              "\n",
              "    .dataframe tbody tr th {\n",
              "        vertical-align: top;\n",
              "    }\n",
              "\n",
              "    .dataframe thead th {\n",
              "        text-align: right;\n",
              "    }\n",
              "</style>\n",
              "<table border=\"1\" class=\"dataframe\">\n",
              "  <thead>\n",
              "    <tr style=\"text-align: right;\">\n",
              "      <th></th>\n",
              "      <th>City</th>\n",
              "      <th>ZIP Code</th>\n",
              "      <th>County</th>\n",
              "    </tr>\n",
              "  </thead>\n",
              "  <tbody>\n",
              "    <tr>\n",
              "      <th>0</th>\n",
              "      <td>A C</td>\n",
              "      <td>08401</td>\n",
              "      <td>ATLANTIC</td>\n",
              "    </tr>\n",
              "    <tr>\n",
              "      <th>1</th>\n",
              "      <td>ABERDEEN</td>\n",
              "      <td>07747</td>\n",
              "      <td>MONMOUTH</td>\n",
              "    </tr>\n",
              "    <tr>\n",
              "      <th>2</th>\n",
              "      <td>ABSECON</td>\n",
              "      <td>08201</td>\n",
              "      <td>ATLANTIC</td>\n",
              "    </tr>\n",
              "  </tbody>\n",
              "</table>\n",
              "</div>\n",
              "      <button class=\"colab-df-convert\" onclick=\"convertToInteractive('df-2d42e523-bab2-4111-926f-e9a3e499bf1e')\"\n",
              "              title=\"Convert this dataframe to an interactive table.\"\n",
              "              style=\"display:none;\">\n",
              "        \n",
              "  <svg xmlns=\"http://www.w3.org/2000/svg\" height=\"24px\"viewBox=\"0 0 24 24\"\n",
              "       width=\"24px\">\n",
              "    <path d=\"M0 0h24v24H0V0z\" fill=\"none\"/>\n",
              "    <path d=\"M18.56 5.44l.94 2.06.94-2.06 2.06-.94-2.06-.94-.94-2.06-.94 2.06-2.06.94zm-11 1L8.5 8.5l.94-2.06 2.06-.94-2.06-.94L8.5 2.5l-.94 2.06-2.06.94zm10 10l.94 2.06.94-2.06 2.06-.94-2.06-.94-.94-2.06-.94 2.06-2.06.94z\"/><path d=\"M17.41 7.96l-1.37-1.37c-.4-.4-.92-.59-1.43-.59-.52 0-1.04.2-1.43.59L10.3 9.45l-7.72 7.72c-.78.78-.78 2.05 0 2.83L4 21.41c.39.39.9.59 1.41.59.51 0 1.02-.2 1.41-.59l7.78-7.78 2.81-2.81c.8-.78.8-2.07 0-2.86zM5.41 20L4 18.59l7.72-7.72 1.47 1.35L5.41 20z\"/>\n",
              "  </svg>\n",
              "      </button>\n",
              "      \n",
              "  <style>\n",
              "    .colab-df-container {\n",
              "      display:flex;\n",
              "      flex-wrap:wrap;\n",
              "      gap: 12px;\n",
              "    }\n",
              "\n",
              "    .colab-df-convert {\n",
              "      background-color: #E8F0FE;\n",
              "      border: none;\n",
              "      border-radius: 50%;\n",
              "      cursor: pointer;\n",
              "      display: none;\n",
              "      fill: #1967D2;\n",
              "      height: 32px;\n",
              "      padding: 0 0 0 0;\n",
              "      width: 32px;\n",
              "    }\n",
              "\n",
              "    .colab-df-convert:hover {\n",
              "      background-color: #E2EBFA;\n",
              "      box-shadow: 0px 1px 2px rgba(60, 64, 67, 0.3), 0px 1px 3px 1px rgba(60, 64, 67, 0.15);\n",
              "      fill: #174EA6;\n",
              "    }\n",
              "\n",
              "    [theme=dark] .colab-df-convert {\n",
              "      background-color: #3B4455;\n",
              "      fill: #D2E3FC;\n",
              "    }\n",
              "\n",
              "    [theme=dark] .colab-df-convert:hover {\n",
              "      background-color: #434B5C;\n",
              "      box-shadow: 0px 1px 3px 1px rgba(0, 0, 0, 0.15);\n",
              "      filter: drop-shadow(0px 1px 2px rgba(0, 0, 0, 0.3));\n",
              "      fill: #FFFFFF;\n",
              "    }\n",
              "  </style>\n",
              "\n",
              "      <script>\n",
              "        const buttonEl =\n",
              "          document.querySelector('#df-2d42e523-bab2-4111-926f-e9a3e499bf1e button.colab-df-convert');\n",
              "        buttonEl.style.display =\n",
              "          google.colab.kernel.accessAllowed ? 'block' : 'none';\n",
              "\n",
              "        async function convertToInteractive(key) {\n",
              "          const element = document.querySelector('#df-2d42e523-bab2-4111-926f-e9a3e499bf1e');\n",
              "          const dataTable =\n",
              "            await google.colab.kernel.invokeFunction('convertToInteractive',\n",
              "                                                     [key], {});\n",
              "          if (!dataTable) return;\n",
              "\n",
              "          const docLinkHtml = 'Like what you see? Visit the ' +\n",
              "            '<a target=\"_blank\" href=https://colab.research.google.com/notebooks/data_table.ipynb>data table notebook</a>'\n",
              "            + ' to learn more about interactive tables.';\n",
              "          element.innerHTML = '';\n",
              "          dataTable['output_type'] = 'display_data';\n",
              "          await google.colab.output.renderOutput(dataTable, element);\n",
              "          const docLink = document.createElement('div');\n",
              "          docLink.innerHTML = docLinkHtml;\n",
              "          element.appendChild(docLink);\n",
              "        }\n",
              "      </script>\n",
              "    </div>\n",
              "  </div>\n",
              "  "
            ]
          },
          "metadata": {},
          "execution_count": 61
        }
      ]
    },
    {
      "cell_type": "code",
      "source": [
        "njzips = njzips.rename(columns={'ZIP Code':\"C_Zip\"})"
      ],
      "metadata": {
        "id": "X2N8j2gXeN6v"
      },
      "execution_count": 72,
      "outputs": []
    },
    {
      "cell_type": "code",
      "source": [
        "njzips.head(3)"
      ],
      "metadata": {
        "colab": {
          "base_uri": "https://localhost:8080/",
          "height": 143
        },
        "id": "4CYvAVZMeijY",
        "outputId": "3b5f39e8-5333-4dd7-c0a3-07b9604e39d3"
      },
      "execution_count": 73,
      "outputs": [
        {
          "output_type": "execute_result",
          "data": {
            "text/plain": [
              "       City  C_Zip    County\n",
              "0       A C  08401  Atlantic\n",
              "1  Aberdeen  07747  Monmouth\n",
              "2   Absecon  08201  Atlantic"
            ],
            "text/html": [
              "\n",
              "  <div id=\"df-0e9bb029-666f-4d2f-a3c4-9f4b2034b023\">\n",
              "    <div class=\"colab-df-container\">\n",
              "      <div>\n",
              "<style scoped>\n",
              "    .dataframe tbody tr th:only-of-type {\n",
              "        vertical-align: middle;\n",
              "    }\n",
              "\n",
              "    .dataframe tbody tr th {\n",
              "        vertical-align: top;\n",
              "    }\n",
              "\n",
              "    .dataframe thead th {\n",
              "        text-align: right;\n",
              "    }\n",
              "</style>\n",
              "<table border=\"1\" class=\"dataframe\">\n",
              "  <thead>\n",
              "    <tr style=\"text-align: right;\">\n",
              "      <th></th>\n",
              "      <th>City</th>\n",
              "      <th>C_Zip</th>\n",
              "      <th>County</th>\n",
              "    </tr>\n",
              "  </thead>\n",
              "  <tbody>\n",
              "    <tr>\n",
              "      <th>0</th>\n",
              "      <td>A C</td>\n",
              "      <td>08401</td>\n",
              "      <td>Atlantic</td>\n",
              "    </tr>\n",
              "    <tr>\n",
              "      <th>1</th>\n",
              "      <td>Aberdeen</td>\n",
              "      <td>07747</td>\n",
              "      <td>Monmouth</td>\n",
              "    </tr>\n",
              "    <tr>\n",
              "      <th>2</th>\n",
              "      <td>Absecon</td>\n",
              "      <td>08201</td>\n",
              "      <td>Atlantic</td>\n",
              "    </tr>\n",
              "  </tbody>\n",
              "</table>\n",
              "</div>\n",
              "      <button class=\"colab-df-convert\" onclick=\"convertToInteractive('df-0e9bb029-666f-4d2f-a3c4-9f4b2034b023')\"\n",
              "              title=\"Convert this dataframe to an interactive table.\"\n",
              "              style=\"display:none;\">\n",
              "        \n",
              "  <svg xmlns=\"http://www.w3.org/2000/svg\" height=\"24px\"viewBox=\"0 0 24 24\"\n",
              "       width=\"24px\">\n",
              "    <path d=\"M0 0h24v24H0V0z\" fill=\"none\"/>\n",
              "    <path d=\"M18.56 5.44l.94 2.06.94-2.06 2.06-.94-2.06-.94-.94-2.06-.94 2.06-2.06.94zm-11 1L8.5 8.5l.94-2.06 2.06-.94-2.06-.94L8.5 2.5l-.94 2.06-2.06.94zm10 10l.94 2.06.94-2.06 2.06-.94-2.06-.94-.94-2.06-.94 2.06-2.06.94z\"/><path d=\"M17.41 7.96l-1.37-1.37c-.4-.4-.92-.59-1.43-.59-.52 0-1.04.2-1.43.59L10.3 9.45l-7.72 7.72c-.78.78-.78 2.05 0 2.83L4 21.41c.39.39.9.59 1.41.59.51 0 1.02-.2 1.41-.59l7.78-7.78 2.81-2.81c.8-.78.8-2.07 0-2.86zM5.41 20L4 18.59l7.72-7.72 1.47 1.35L5.41 20z\"/>\n",
              "  </svg>\n",
              "      </button>\n",
              "      \n",
              "  <style>\n",
              "    .colab-df-container {\n",
              "      display:flex;\n",
              "      flex-wrap:wrap;\n",
              "      gap: 12px;\n",
              "    }\n",
              "\n",
              "    .colab-df-convert {\n",
              "      background-color: #E8F0FE;\n",
              "      border: none;\n",
              "      border-radius: 50%;\n",
              "      cursor: pointer;\n",
              "      display: none;\n",
              "      fill: #1967D2;\n",
              "      height: 32px;\n",
              "      padding: 0 0 0 0;\n",
              "      width: 32px;\n",
              "    }\n",
              "\n",
              "    .colab-df-convert:hover {\n",
              "      background-color: #E2EBFA;\n",
              "      box-shadow: 0px 1px 2px rgba(60, 64, 67, 0.3), 0px 1px 3px 1px rgba(60, 64, 67, 0.15);\n",
              "      fill: #174EA6;\n",
              "    }\n",
              "\n",
              "    [theme=dark] .colab-df-convert {\n",
              "      background-color: #3B4455;\n",
              "      fill: #D2E3FC;\n",
              "    }\n",
              "\n",
              "    [theme=dark] .colab-df-convert:hover {\n",
              "      background-color: #434B5C;\n",
              "      box-shadow: 0px 1px 3px 1px rgba(0, 0, 0, 0.15);\n",
              "      filter: drop-shadow(0px 1px 2px rgba(0, 0, 0, 0.3));\n",
              "      fill: #FFFFFF;\n",
              "    }\n",
              "  </style>\n",
              "\n",
              "      <script>\n",
              "        const buttonEl =\n",
              "          document.querySelector('#df-0e9bb029-666f-4d2f-a3c4-9f4b2034b023 button.colab-df-convert');\n",
              "        buttonEl.style.display =\n",
              "          google.colab.kernel.accessAllowed ? 'block' : 'none';\n",
              "\n",
              "        async function convertToInteractive(key) {\n",
              "          const element = document.querySelector('#df-0e9bb029-666f-4d2f-a3c4-9f4b2034b023');\n",
              "          const dataTable =\n",
              "            await google.colab.kernel.invokeFunction('convertToInteractive',\n",
              "                                                     [key], {});\n",
              "          if (!dataTable) return;\n",
              "\n",
              "          const docLinkHtml = 'Like what you see? Visit the ' +\n",
              "            '<a target=\"_blank\" href=https://colab.research.google.com/notebooks/data_table.ipynb>data table notebook</a>'\n",
              "            + ' to learn more about interactive tables.';\n",
              "          element.innerHTML = '';\n",
              "          dataTable['output_type'] = 'display_data';\n",
              "          await google.colab.output.renderOutput(dataTable, element);\n",
              "          const docLink = document.createElement('div');\n",
              "          docLink.innerHTML = docLinkHtml;\n",
              "          element.appendChild(docLink);\n",
              "        }\n",
              "      </script>\n",
              "    </div>\n",
              "  </div>\n",
              "  "
            ]
          },
          "metadata": {},
          "execution_count": 73
        }
      ]
    },
    {
      "cell_type": "code",
      "source": [
        "njzips[\"County\"]= njzips[\"County\"].str.title()"
      ],
      "metadata": {
        "id": "6TrM7RGze-s0"
      },
      "execution_count": 74,
      "outputs": []
    },
    {
      "cell_type": "code",
      "source": [
        "njzips.head(3)"
      ],
      "metadata": {
        "colab": {
          "base_uri": "https://localhost:8080/",
          "height": 143
        },
        "id": "VlXR_r6GfOFT",
        "outputId": "7cc5115f-9113-4128-da6a-3abb27099771"
      },
      "execution_count": 75,
      "outputs": [
        {
          "output_type": "execute_result",
          "data": {
            "text/plain": [
              "       City  C_Zip    County\n",
              "0       A C  08401  Atlantic\n",
              "1  Aberdeen  07747  Monmouth\n",
              "2   Absecon  08201  Atlantic"
            ],
            "text/html": [
              "\n",
              "  <div id=\"df-0aaea706-86ad-4918-85fb-191445881cbe\">\n",
              "    <div class=\"colab-df-container\">\n",
              "      <div>\n",
              "<style scoped>\n",
              "    .dataframe tbody tr th:only-of-type {\n",
              "        vertical-align: middle;\n",
              "    }\n",
              "\n",
              "    .dataframe tbody tr th {\n",
              "        vertical-align: top;\n",
              "    }\n",
              "\n",
              "    .dataframe thead th {\n",
              "        text-align: right;\n",
              "    }\n",
              "</style>\n",
              "<table border=\"1\" class=\"dataframe\">\n",
              "  <thead>\n",
              "    <tr style=\"text-align: right;\">\n",
              "      <th></th>\n",
              "      <th>City</th>\n",
              "      <th>C_Zip</th>\n",
              "      <th>County</th>\n",
              "    </tr>\n",
              "  </thead>\n",
              "  <tbody>\n",
              "    <tr>\n",
              "      <th>0</th>\n",
              "      <td>A C</td>\n",
              "      <td>08401</td>\n",
              "      <td>Atlantic</td>\n",
              "    </tr>\n",
              "    <tr>\n",
              "      <th>1</th>\n",
              "      <td>Aberdeen</td>\n",
              "      <td>07747</td>\n",
              "      <td>Monmouth</td>\n",
              "    </tr>\n",
              "    <tr>\n",
              "      <th>2</th>\n",
              "      <td>Absecon</td>\n",
              "      <td>08201</td>\n",
              "      <td>Atlantic</td>\n",
              "    </tr>\n",
              "  </tbody>\n",
              "</table>\n",
              "</div>\n",
              "      <button class=\"colab-df-convert\" onclick=\"convertToInteractive('df-0aaea706-86ad-4918-85fb-191445881cbe')\"\n",
              "              title=\"Convert this dataframe to an interactive table.\"\n",
              "              style=\"display:none;\">\n",
              "        \n",
              "  <svg xmlns=\"http://www.w3.org/2000/svg\" height=\"24px\"viewBox=\"0 0 24 24\"\n",
              "       width=\"24px\">\n",
              "    <path d=\"M0 0h24v24H0V0z\" fill=\"none\"/>\n",
              "    <path d=\"M18.56 5.44l.94 2.06.94-2.06 2.06-.94-2.06-.94-.94-2.06-.94 2.06-2.06.94zm-11 1L8.5 8.5l.94-2.06 2.06-.94-2.06-.94L8.5 2.5l-.94 2.06-2.06.94zm10 10l.94 2.06.94-2.06 2.06-.94-2.06-.94-.94-2.06-.94 2.06-2.06.94z\"/><path d=\"M17.41 7.96l-1.37-1.37c-.4-.4-.92-.59-1.43-.59-.52 0-1.04.2-1.43.59L10.3 9.45l-7.72 7.72c-.78.78-.78 2.05 0 2.83L4 21.41c.39.39.9.59 1.41.59.51 0 1.02-.2 1.41-.59l7.78-7.78 2.81-2.81c.8-.78.8-2.07 0-2.86zM5.41 20L4 18.59l7.72-7.72 1.47 1.35L5.41 20z\"/>\n",
              "  </svg>\n",
              "      </button>\n",
              "      \n",
              "  <style>\n",
              "    .colab-df-container {\n",
              "      display:flex;\n",
              "      flex-wrap:wrap;\n",
              "      gap: 12px;\n",
              "    }\n",
              "\n",
              "    .colab-df-convert {\n",
              "      background-color: #E8F0FE;\n",
              "      border: none;\n",
              "      border-radius: 50%;\n",
              "      cursor: pointer;\n",
              "      display: none;\n",
              "      fill: #1967D2;\n",
              "      height: 32px;\n",
              "      padding: 0 0 0 0;\n",
              "      width: 32px;\n",
              "    }\n",
              "\n",
              "    .colab-df-convert:hover {\n",
              "      background-color: #E2EBFA;\n",
              "      box-shadow: 0px 1px 2px rgba(60, 64, 67, 0.3), 0px 1px 3px 1px rgba(60, 64, 67, 0.15);\n",
              "      fill: #174EA6;\n",
              "    }\n",
              "\n",
              "    [theme=dark] .colab-df-convert {\n",
              "      background-color: #3B4455;\n",
              "      fill: #D2E3FC;\n",
              "    }\n",
              "\n",
              "    [theme=dark] .colab-df-convert:hover {\n",
              "      background-color: #434B5C;\n",
              "      box-shadow: 0px 1px 3px 1px rgba(0, 0, 0, 0.15);\n",
              "      filter: drop-shadow(0px 1px 2px rgba(0, 0, 0, 0.3));\n",
              "      fill: #FFFFFF;\n",
              "    }\n",
              "  </style>\n",
              "\n",
              "      <script>\n",
              "        const buttonEl =\n",
              "          document.querySelector('#df-0aaea706-86ad-4918-85fb-191445881cbe button.colab-df-convert');\n",
              "        buttonEl.style.display =\n",
              "          google.colab.kernel.accessAllowed ? 'block' : 'none';\n",
              "\n",
              "        async function convertToInteractive(key) {\n",
              "          const element = document.querySelector('#df-0aaea706-86ad-4918-85fb-191445881cbe');\n",
              "          const dataTable =\n",
              "            await google.colab.kernel.invokeFunction('convertToInteractive',\n",
              "                                                     [key], {});\n",
              "          if (!dataTable) return;\n",
              "\n",
              "          const docLinkHtml = 'Like what you see? Visit the ' +\n",
              "            '<a target=\"_blank\" href=https://colab.research.google.com/notebooks/data_table.ipynb>data table notebook</a>'\n",
              "            + ' to learn more about interactive tables.';\n",
              "          element.innerHTML = '';\n",
              "          dataTable['output_type'] = 'display_data';\n",
              "          await google.colab.output.renderOutput(dataTable, element);\n",
              "          const docLink = document.createElement('div');\n",
              "          docLink.innerHTML = docLinkHtml;\n",
              "          element.appendChild(docLink);\n",
              "        }\n",
              "      </script>\n",
              "    </div>\n",
              "  </div>\n",
              "  "
            ]
          },
          "metadata": {},
          "execution_count": 75
        }
      ]
    },
    {
      "cell_type": "code",
      "source": [
        "njzips[\"City\"]= njzips[\"City\"].str.title()"
      ],
      "metadata": {
        "id": "6SbxsKwrfQ9g"
      },
      "execution_count": 67,
      "outputs": []
    },
    {
      "cell_type": "markdown",
      "source": [
        "## Merging"
      ],
      "metadata": {
        "id": "qQQaa_IHryG0"
      }
    },
    {
      "cell_type": "code",
      "source": [
        "njappdat.dtypes"
      ],
      "metadata": {
        "colab": {
          "base_uri": "https://localhost:8080/"
        },
        "id": "cX93X9J3rxrD",
        "outputId": "3f406f5d-1141-45f6-cfdd-769495da692c"
      },
      "execution_count": 100,
      "outputs": [
        {
          "output_type": "execute_result",
          "data": {
            "text/plain": [
              "ID                                                    int64\n",
              "Final Recommended Decision                           object\n",
              "Admit-Coming                                          int64\n",
              "Application Created Date                             object\n",
              "Days Before the Beginning of Semester                 int64\n",
              "Reporting Term                                       object\n",
              "Zip                                                  object\n",
              "State                                                object\n",
              "Country                                              object\n",
              "Most Recent Educational Institution: Account Name    object\n",
              "Gender                                               object\n",
              "Race                                                 object\n",
              "Program Selection: Program Selection Name            object\n",
              "Admissions Status                                    object\n",
              "C_Zip                                                object\n",
              "dtype: object"
            ]
          },
          "metadata": {},
          "execution_count": 100
        }
      ]
    },
    {
      "cell_type": "code",
      "source": [
        "njappmerge=njappdat[['ID ','C_Zip']]\n",
        "njappmerge.head(3)"
      ],
      "metadata": {
        "colab": {
          "base_uri": "https://localhost:8080/",
          "height": 143
        },
        "id": "BTrlqCJwtd7R",
        "outputId": "7788b4ee-b474-4eaa-fcd0-5c7c1f1f8a3e"
      },
      "execution_count": 101,
      "outputs": [
        {
          "output_type": "execute_result",
          "data": {
            "text/plain": [
              "   ID   C_Zip\n",
              "2    3  07009\n",
              "3    4  07726\n",
              "5    6  08755"
            ],
            "text/html": [
              "\n",
              "  <div id=\"df-90d17be6-1974-4a01-a7aa-f5e16846b14a\">\n",
              "    <div class=\"colab-df-container\">\n",
              "      <div>\n",
              "<style scoped>\n",
              "    .dataframe tbody tr th:only-of-type {\n",
              "        vertical-align: middle;\n",
              "    }\n",
              "\n",
              "    .dataframe tbody tr th {\n",
              "        vertical-align: top;\n",
              "    }\n",
              "\n",
              "    .dataframe thead th {\n",
              "        text-align: right;\n",
              "    }\n",
              "</style>\n",
              "<table border=\"1\" class=\"dataframe\">\n",
              "  <thead>\n",
              "    <tr style=\"text-align: right;\">\n",
              "      <th></th>\n",
              "      <th>ID</th>\n",
              "      <th>C_Zip</th>\n",
              "    </tr>\n",
              "  </thead>\n",
              "  <tbody>\n",
              "    <tr>\n",
              "      <th>2</th>\n",
              "      <td>3</td>\n",
              "      <td>07009</td>\n",
              "    </tr>\n",
              "    <tr>\n",
              "      <th>3</th>\n",
              "      <td>4</td>\n",
              "      <td>07726</td>\n",
              "    </tr>\n",
              "    <tr>\n",
              "      <th>5</th>\n",
              "      <td>6</td>\n",
              "      <td>08755</td>\n",
              "    </tr>\n",
              "  </tbody>\n",
              "</table>\n",
              "</div>\n",
              "      <button class=\"colab-df-convert\" onclick=\"convertToInteractive('df-90d17be6-1974-4a01-a7aa-f5e16846b14a')\"\n",
              "              title=\"Convert this dataframe to an interactive table.\"\n",
              "              style=\"display:none;\">\n",
              "        \n",
              "  <svg xmlns=\"http://www.w3.org/2000/svg\" height=\"24px\"viewBox=\"0 0 24 24\"\n",
              "       width=\"24px\">\n",
              "    <path d=\"M0 0h24v24H0V0z\" fill=\"none\"/>\n",
              "    <path d=\"M18.56 5.44l.94 2.06.94-2.06 2.06-.94-2.06-.94-.94-2.06-.94 2.06-2.06.94zm-11 1L8.5 8.5l.94-2.06 2.06-.94-2.06-.94L8.5 2.5l-.94 2.06-2.06.94zm10 10l.94 2.06.94-2.06 2.06-.94-2.06-.94-.94-2.06-.94 2.06-2.06.94z\"/><path d=\"M17.41 7.96l-1.37-1.37c-.4-.4-.92-.59-1.43-.59-.52 0-1.04.2-1.43.59L10.3 9.45l-7.72 7.72c-.78.78-.78 2.05 0 2.83L4 21.41c.39.39.9.59 1.41.59.51 0 1.02-.2 1.41-.59l7.78-7.78 2.81-2.81c.8-.78.8-2.07 0-2.86zM5.41 20L4 18.59l7.72-7.72 1.47 1.35L5.41 20z\"/>\n",
              "  </svg>\n",
              "      </button>\n",
              "      \n",
              "  <style>\n",
              "    .colab-df-container {\n",
              "      display:flex;\n",
              "      flex-wrap:wrap;\n",
              "      gap: 12px;\n",
              "    }\n",
              "\n",
              "    .colab-df-convert {\n",
              "      background-color: #E8F0FE;\n",
              "      border: none;\n",
              "      border-radius: 50%;\n",
              "      cursor: pointer;\n",
              "      display: none;\n",
              "      fill: #1967D2;\n",
              "      height: 32px;\n",
              "      padding: 0 0 0 0;\n",
              "      width: 32px;\n",
              "    }\n",
              "\n",
              "    .colab-df-convert:hover {\n",
              "      background-color: #E2EBFA;\n",
              "      box-shadow: 0px 1px 2px rgba(60, 64, 67, 0.3), 0px 1px 3px 1px rgba(60, 64, 67, 0.15);\n",
              "      fill: #174EA6;\n",
              "    }\n",
              "\n",
              "    [theme=dark] .colab-df-convert {\n",
              "      background-color: #3B4455;\n",
              "      fill: #D2E3FC;\n",
              "    }\n",
              "\n",
              "    [theme=dark] .colab-df-convert:hover {\n",
              "      background-color: #434B5C;\n",
              "      box-shadow: 0px 1px 3px 1px rgba(0, 0, 0, 0.15);\n",
              "      filter: drop-shadow(0px 1px 2px rgba(0, 0, 0, 0.3));\n",
              "      fill: #FFFFFF;\n",
              "    }\n",
              "  </style>\n",
              "\n",
              "      <script>\n",
              "        const buttonEl =\n",
              "          document.querySelector('#df-90d17be6-1974-4a01-a7aa-f5e16846b14a button.colab-df-convert');\n",
              "        buttonEl.style.display =\n",
              "          google.colab.kernel.accessAllowed ? 'block' : 'none';\n",
              "\n",
              "        async function convertToInteractive(key) {\n",
              "          const element = document.querySelector('#df-90d17be6-1974-4a01-a7aa-f5e16846b14a');\n",
              "          const dataTable =\n",
              "            await google.colab.kernel.invokeFunction('convertToInteractive',\n",
              "                                                     [key], {});\n",
              "          if (!dataTable) return;\n",
              "\n",
              "          const docLinkHtml = 'Like what you see? Visit the ' +\n",
              "            '<a target=\"_blank\" href=https://colab.research.google.com/notebooks/data_table.ipynb>data table notebook</a>'\n",
              "            + ' to learn more about interactive tables.';\n",
              "          element.innerHTML = '';\n",
              "          dataTable['output_type'] = 'display_data';\n",
              "          await google.colab.output.renderOutput(dataTable, element);\n",
              "          const docLink = document.createElement('div');\n",
              "          docLink.innerHTML = docLinkHtml;\n",
              "          element.appendChild(docLink);\n",
              "        }\n",
              "      </script>\n",
              "    </div>\n",
              "  </div>\n",
              "  "
            ]
          },
          "metadata": {},
          "execution_count": 101
        }
      ]
    },
    {
      "cell_type": "code",
      "source": [
        "njzips.dtypes"
      ],
      "metadata": {
        "colab": {
          "base_uri": "https://localhost:8080/"
        },
        "id": "fiCZmH7hvQk1",
        "outputId": "399a085d-70c8-4320-943d-aab39be9a2e0"
      },
      "execution_count": 102,
      "outputs": [
        {
          "output_type": "execute_result",
          "data": {
            "text/plain": [
              "City      object\n",
              "C_Zip     object\n",
              "County    object\n",
              "dtype: object"
            ]
          },
          "metadata": {},
          "execution_count": 102
        }
      ]
    },
    {
      "cell_type": "code",
      "source": [
        "njzipsmerge=njzips[['C_Zip','County']]\n",
        "njzipsmerge.head(3)"
      ],
      "metadata": {
        "colab": {
          "base_uri": "https://localhost:8080/",
          "height": 143
        },
        "id": "bWMu5n3XvdLR",
        "outputId": "15f0696e-7c00-49cc-d6eb-804887357796"
      },
      "execution_count": 103,
      "outputs": [
        {
          "output_type": "execute_result",
          "data": {
            "text/plain": [
              "   C_Zip    County\n",
              "0  08401  Atlantic\n",
              "1  07747  Monmouth\n",
              "2  08201  Atlantic"
            ],
            "text/html": [
              "\n",
              "  <div id=\"df-4ca235e6-f051-4d51-ac99-2c57927bf6ae\">\n",
              "    <div class=\"colab-df-container\">\n",
              "      <div>\n",
              "<style scoped>\n",
              "    .dataframe tbody tr th:only-of-type {\n",
              "        vertical-align: middle;\n",
              "    }\n",
              "\n",
              "    .dataframe tbody tr th {\n",
              "        vertical-align: top;\n",
              "    }\n",
              "\n",
              "    .dataframe thead th {\n",
              "        text-align: right;\n",
              "    }\n",
              "</style>\n",
              "<table border=\"1\" class=\"dataframe\">\n",
              "  <thead>\n",
              "    <tr style=\"text-align: right;\">\n",
              "      <th></th>\n",
              "      <th>C_Zip</th>\n",
              "      <th>County</th>\n",
              "    </tr>\n",
              "  </thead>\n",
              "  <tbody>\n",
              "    <tr>\n",
              "      <th>0</th>\n",
              "      <td>08401</td>\n",
              "      <td>Atlantic</td>\n",
              "    </tr>\n",
              "    <tr>\n",
              "      <th>1</th>\n",
              "      <td>07747</td>\n",
              "      <td>Monmouth</td>\n",
              "    </tr>\n",
              "    <tr>\n",
              "      <th>2</th>\n",
              "      <td>08201</td>\n",
              "      <td>Atlantic</td>\n",
              "    </tr>\n",
              "  </tbody>\n",
              "</table>\n",
              "</div>\n",
              "      <button class=\"colab-df-convert\" onclick=\"convertToInteractive('df-4ca235e6-f051-4d51-ac99-2c57927bf6ae')\"\n",
              "              title=\"Convert this dataframe to an interactive table.\"\n",
              "              style=\"display:none;\">\n",
              "        \n",
              "  <svg xmlns=\"http://www.w3.org/2000/svg\" height=\"24px\"viewBox=\"0 0 24 24\"\n",
              "       width=\"24px\">\n",
              "    <path d=\"M0 0h24v24H0V0z\" fill=\"none\"/>\n",
              "    <path d=\"M18.56 5.44l.94 2.06.94-2.06 2.06-.94-2.06-.94-.94-2.06-.94 2.06-2.06.94zm-11 1L8.5 8.5l.94-2.06 2.06-.94-2.06-.94L8.5 2.5l-.94 2.06-2.06.94zm10 10l.94 2.06.94-2.06 2.06-.94-2.06-.94-.94-2.06-.94 2.06-2.06.94z\"/><path d=\"M17.41 7.96l-1.37-1.37c-.4-.4-.92-.59-1.43-.59-.52 0-1.04.2-1.43.59L10.3 9.45l-7.72 7.72c-.78.78-.78 2.05 0 2.83L4 21.41c.39.39.9.59 1.41.59.51 0 1.02-.2 1.41-.59l7.78-7.78 2.81-2.81c.8-.78.8-2.07 0-2.86zM5.41 20L4 18.59l7.72-7.72 1.47 1.35L5.41 20z\"/>\n",
              "  </svg>\n",
              "      </button>\n",
              "      \n",
              "  <style>\n",
              "    .colab-df-container {\n",
              "      display:flex;\n",
              "      flex-wrap:wrap;\n",
              "      gap: 12px;\n",
              "    }\n",
              "\n",
              "    .colab-df-convert {\n",
              "      background-color: #E8F0FE;\n",
              "      border: none;\n",
              "      border-radius: 50%;\n",
              "      cursor: pointer;\n",
              "      display: none;\n",
              "      fill: #1967D2;\n",
              "      height: 32px;\n",
              "      padding: 0 0 0 0;\n",
              "      width: 32px;\n",
              "    }\n",
              "\n",
              "    .colab-df-convert:hover {\n",
              "      background-color: #E2EBFA;\n",
              "      box-shadow: 0px 1px 2px rgba(60, 64, 67, 0.3), 0px 1px 3px 1px rgba(60, 64, 67, 0.15);\n",
              "      fill: #174EA6;\n",
              "    }\n",
              "\n",
              "    [theme=dark] .colab-df-convert {\n",
              "      background-color: #3B4455;\n",
              "      fill: #D2E3FC;\n",
              "    }\n",
              "\n",
              "    [theme=dark] .colab-df-convert:hover {\n",
              "      background-color: #434B5C;\n",
              "      box-shadow: 0px 1px 3px 1px rgba(0, 0, 0, 0.15);\n",
              "      filter: drop-shadow(0px 1px 2px rgba(0, 0, 0, 0.3));\n",
              "      fill: #FFFFFF;\n",
              "    }\n",
              "  </style>\n",
              "\n",
              "      <script>\n",
              "        const buttonEl =\n",
              "          document.querySelector('#df-4ca235e6-f051-4d51-ac99-2c57927bf6ae button.colab-df-convert');\n",
              "        buttonEl.style.display =\n",
              "          google.colab.kernel.accessAllowed ? 'block' : 'none';\n",
              "\n",
              "        async function convertToInteractive(key) {\n",
              "          const element = document.querySelector('#df-4ca235e6-f051-4d51-ac99-2c57927bf6ae');\n",
              "          const dataTable =\n",
              "            await google.colab.kernel.invokeFunction('convertToInteractive',\n",
              "                                                     [key], {});\n",
              "          if (!dataTable) return;\n",
              "\n",
              "          const docLinkHtml = 'Like what you see? Visit the ' +\n",
              "            '<a target=\"_blank\" href=https://colab.research.google.com/notebooks/data_table.ipynb>data table notebook</a>'\n",
              "            + ' to learn more about interactive tables.';\n",
              "          element.innerHTML = '';\n",
              "          dataTable['output_type'] = 'display_data';\n",
              "          await google.colab.output.renderOutput(dataTable, element);\n",
              "          const docLink = document.createElement('div');\n",
              "          docLink.innerHTML = docLinkHtml;\n",
              "          element.appendChild(docLink);\n",
              "        }\n",
              "      </script>\n",
              "    </div>\n",
              "  </div>\n",
              "  "
            ]
          },
          "metadata": {},
          "execution_count": 103
        }
      ]
    },
    {
      "cell_type": "code",
      "source": [
        "njappzip=njappmerge.merge(njzipsmerge, on='C_Zip',how='outer',indicator=True)\n",
        "njappzip.dtypes"
      ],
      "metadata": {
        "colab": {
          "base_uri": "https://localhost:8080/"
        },
        "id": "ymQeXw4_wIcK",
        "outputId": "75f3cbea-dbb7-4137-d06f-e9fba1002c0d"
      },
      "execution_count": 106,
      "outputs": [
        {
          "output_type": "execute_result",
          "data": {
            "text/plain": [
              "ID         float64\n",
              "C_Zip       object\n",
              "County      object\n",
              "_merge    category\n",
              "dtype: object"
            ]
          },
          "metadata": {},
          "execution_count": 106
        }
      ]
    },
    {
      "cell_type": "code",
      "source": [
        "njappzip.head(10)\n",
        "njappzip.tail(10)"
      ],
      "metadata": {
        "colab": {
          "base_uri": "https://localhost:8080/",
          "height": 708
        },
        "id": "kawpaEYozFu1",
        "outputId": "99acec65-e822-4539-f2ef-526251fd35da"
      },
      "execution_count": 110,
      "outputs": [
        {
          "output_type": "execute_result",
          "data": {
            "text/plain": [
              "     ID   C_Zip     County     _merge\n",
              "0    3.0  07009      Essex       both\n",
              "1    3.0  07009      Essex       both\n",
              "2    4.0  07726   Monmouth       both\n",
              "3    4.0  07726   Monmouth       both\n",
              "4    4.0  07726   Monmouth       both\n",
              "5    6.0  08755        NaN  left_only\n",
              "6  911.0  08755        NaN  left_only\n",
              "7    7.0  08850  Middlesex       both\n",
              "8   14.0  07052      Essex       both\n",
              "9   14.0  07052      Essex       both"
            ],
            "text/html": [
              "\n",
              "  <div id=\"df-25f88ccc-b936-4754-ae6b-cc90b2781b6e\">\n",
              "    <div class=\"colab-df-container\">\n",
              "      <div>\n",
              "<style scoped>\n",
              "    .dataframe tbody tr th:only-of-type {\n",
              "        vertical-align: middle;\n",
              "    }\n",
              "\n",
              "    .dataframe tbody tr th {\n",
              "        vertical-align: top;\n",
              "    }\n",
              "\n",
              "    .dataframe thead th {\n",
              "        text-align: right;\n",
              "    }\n",
              "</style>\n",
              "<table border=\"1\" class=\"dataframe\">\n",
              "  <thead>\n",
              "    <tr style=\"text-align: right;\">\n",
              "      <th></th>\n",
              "      <th>ID</th>\n",
              "      <th>C_Zip</th>\n",
              "      <th>County</th>\n",
              "      <th>_merge</th>\n",
              "    </tr>\n",
              "  </thead>\n",
              "  <tbody>\n",
              "    <tr>\n",
              "      <th>0</th>\n",
              "      <td>3.0</td>\n",
              "      <td>07009</td>\n",
              "      <td>Essex</td>\n",
              "      <td>both</td>\n",
              "    </tr>\n",
              "    <tr>\n",
              "      <th>1</th>\n",
              "      <td>3.0</td>\n",
              "      <td>07009</td>\n",
              "      <td>Essex</td>\n",
              "      <td>both</td>\n",
              "    </tr>\n",
              "    <tr>\n",
              "      <th>2</th>\n",
              "      <td>4.0</td>\n",
              "      <td>07726</td>\n",
              "      <td>Monmouth</td>\n",
              "      <td>both</td>\n",
              "    </tr>\n",
              "    <tr>\n",
              "      <th>3</th>\n",
              "      <td>4.0</td>\n",
              "      <td>07726</td>\n",
              "      <td>Monmouth</td>\n",
              "      <td>both</td>\n",
              "    </tr>\n",
              "    <tr>\n",
              "      <th>4</th>\n",
              "      <td>4.0</td>\n",
              "      <td>07726</td>\n",
              "      <td>Monmouth</td>\n",
              "      <td>both</td>\n",
              "    </tr>\n",
              "    <tr>\n",
              "      <th>5</th>\n",
              "      <td>6.0</td>\n",
              "      <td>08755</td>\n",
              "      <td>NaN</td>\n",
              "      <td>left_only</td>\n",
              "    </tr>\n",
              "    <tr>\n",
              "      <th>6</th>\n",
              "      <td>911.0</td>\n",
              "      <td>08755</td>\n",
              "      <td>NaN</td>\n",
              "      <td>left_only</td>\n",
              "    </tr>\n",
              "    <tr>\n",
              "      <th>7</th>\n",
              "      <td>7.0</td>\n",
              "      <td>08850</td>\n",
              "      <td>Middlesex</td>\n",
              "      <td>both</td>\n",
              "    </tr>\n",
              "    <tr>\n",
              "      <th>8</th>\n",
              "      <td>14.0</td>\n",
              "      <td>07052</td>\n",
              "      <td>Essex</td>\n",
              "      <td>both</td>\n",
              "    </tr>\n",
              "    <tr>\n",
              "      <th>9</th>\n",
              "      <td>14.0</td>\n",
              "      <td>07052</td>\n",
              "      <td>Essex</td>\n",
              "      <td>both</td>\n",
              "    </tr>\n",
              "  </tbody>\n",
              "</table>\n",
              "</div>\n",
              "      <button class=\"colab-df-convert\" onclick=\"convertToInteractive('df-25f88ccc-b936-4754-ae6b-cc90b2781b6e')\"\n",
              "              title=\"Convert this dataframe to an interactive table.\"\n",
              "              style=\"display:none;\">\n",
              "        \n",
              "  <svg xmlns=\"http://www.w3.org/2000/svg\" height=\"24px\"viewBox=\"0 0 24 24\"\n",
              "       width=\"24px\">\n",
              "    <path d=\"M0 0h24v24H0V0z\" fill=\"none\"/>\n",
              "    <path d=\"M18.56 5.44l.94 2.06.94-2.06 2.06-.94-2.06-.94-.94-2.06-.94 2.06-2.06.94zm-11 1L8.5 8.5l.94-2.06 2.06-.94-2.06-.94L8.5 2.5l-.94 2.06-2.06.94zm10 10l.94 2.06.94-2.06 2.06-.94-2.06-.94-.94-2.06-.94 2.06-2.06.94z\"/><path d=\"M17.41 7.96l-1.37-1.37c-.4-.4-.92-.59-1.43-.59-.52 0-1.04.2-1.43.59L10.3 9.45l-7.72 7.72c-.78.78-.78 2.05 0 2.83L4 21.41c.39.39.9.59 1.41.59.51 0 1.02-.2 1.41-.59l7.78-7.78 2.81-2.81c.8-.78.8-2.07 0-2.86zM5.41 20L4 18.59l7.72-7.72 1.47 1.35L5.41 20z\"/>\n",
              "  </svg>\n",
              "      </button>\n",
              "      \n",
              "  <style>\n",
              "    .colab-df-container {\n",
              "      display:flex;\n",
              "      flex-wrap:wrap;\n",
              "      gap: 12px;\n",
              "    }\n",
              "\n",
              "    .colab-df-convert {\n",
              "      background-color: #E8F0FE;\n",
              "      border: none;\n",
              "      border-radius: 50%;\n",
              "      cursor: pointer;\n",
              "      display: none;\n",
              "      fill: #1967D2;\n",
              "      height: 32px;\n",
              "      padding: 0 0 0 0;\n",
              "      width: 32px;\n",
              "    }\n",
              "\n",
              "    .colab-df-convert:hover {\n",
              "      background-color: #E2EBFA;\n",
              "      box-shadow: 0px 1px 2px rgba(60, 64, 67, 0.3), 0px 1px 3px 1px rgba(60, 64, 67, 0.15);\n",
              "      fill: #174EA6;\n",
              "    }\n",
              "\n",
              "    [theme=dark] .colab-df-convert {\n",
              "      background-color: #3B4455;\n",
              "      fill: #D2E3FC;\n",
              "    }\n",
              "\n",
              "    [theme=dark] .colab-df-convert:hover {\n",
              "      background-color: #434B5C;\n",
              "      box-shadow: 0px 1px 3px 1px rgba(0, 0, 0, 0.15);\n",
              "      filter: drop-shadow(0px 1px 2px rgba(0, 0, 0, 0.3));\n",
              "      fill: #FFFFFF;\n",
              "    }\n",
              "  </style>\n",
              "\n",
              "      <script>\n",
              "        const buttonEl =\n",
              "          document.querySelector('#df-25f88ccc-b936-4754-ae6b-cc90b2781b6e button.colab-df-convert');\n",
              "        buttonEl.style.display =\n",
              "          google.colab.kernel.accessAllowed ? 'block' : 'none';\n",
              "\n",
              "        async function convertToInteractive(key) {\n",
              "          const element = document.querySelector('#df-25f88ccc-b936-4754-ae6b-cc90b2781b6e');\n",
              "          const dataTable =\n",
              "            await google.colab.kernel.invokeFunction('convertToInteractive',\n",
              "                                                     [key], {});\n",
              "          if (!dataTable) return;\n",
              "\n",
              "          const docLinkHtml = 'Like what you see? Visit the ' +\n",
              "            '<a target=\"_blank\" href=https://colab.research.google.com/notebooks/data_table.ipynb>data table notebook</a>'\n",
              "            + ' to learn more about interactive tables.';\n",
              "          element.innerHTML = '';\n",
              "          dataTable['output_type'] = 'display_data';\n",
              "          await google.colab.output.renderOutput(dataTable, element);\n",
              "          const docLink = document.createElement('div');\n",
              "          docLink.innerHTML = docLinkHtml;\n",
              "          element.appendChild(docLink);\n",
              "        }\n",
              "      </script>\n",
              "    </div>\n",
              "  </div>\n",
              "  "
            ]
          },
          "metadata": {},
          "execution_count": 110
        },
        {
          "output_type": "execute_result",
          "data": {
            "text/plain": [
              "      ID   C_Zip     County      _merge\n",
              "1834  NaN  08252   Cape May  right_only\n",
              "1835  NaN  07765   Monmouth  right_only\n",
              "1836  NaN  08561     Mercer  right_only\n",
              "1837  NaN  08095     Camden  right_only\n",
              "1838  NaN  08095     Camden  right_only\n",
              "1839  NaN  07075     Bergen  right_only\n",
              "1840  NaN  07075     Bergen  right_only\n",
              "1841  NaN  07095  Middlesex  right_only\n",
              "1842  NaN  08620     Mercer  right_only\n",
              "1843  NaN  08890   Somerset  right_only"
            ],
            "text/html": [
              "\n",
              "  <div id=\"df-db213d46-016a-40be-9044-81557a8ea392\">\n",
              "    <div class=\"colab-df-container\">\n",
              "      <div>\n",
              "<style scoped>\n",
              "    .dataframe tbody tr th:only-of-type {\n",
              "        vertical-align: middle;\n",
              "    }\n",
              "\n",
              "    .dataframe tbody tr th {\n",
              "        vertical-align: top;\n",
              "    }\n",
              "\n",
              "    .dataframe thead th {\n",
              "        text-align: right;\n",
              "    }\n",
              "</style>\n",
              "<table border=\"1\" class=\"dataframe\">\n",
              "  <thead>\n",
              "    <tr style=\"text-align: right;\">\n",
              "      <th></th>\n",
              "      <th>ID</th>\n",
              "      <th>C_Zip</th>\n",
              "      <th>County</th>\n",
              "      <th>_merge</th>\n",
              "    </tr>\n",
              "  </thead>\n",
              "  <tbody>\n",
              "    <tr>\n",
              "      <th>1834</th>\n",
              "      <td>NaN</td>\n",
              "      <td>08252</td>\n",
              "      <td>Cape May</td>\n",
              "      <td>right_only</td>\n",
              "    </tr>\n",
              "    <tr>\n",
              "      <th>1835</th>\n",
              "      <td>NaN</td>\n",
              "      <td>07765</td>\n",
              "      <td>Monmouth</td>\n",
              "      <td>right_only</td>\n",
              "    </tr>\n",
              "    <tr>\n",
              "      <th>1836</th>\n",
              "      <td>NaN</td>\n",
              "      <td>08561</td>\n",
              "      <td>Mercer</td>\n",
              "      <td>right_only</td>\n",
              "    </tr>\n",
              "    <tr>\n",
              "      <th>1837</th>\n",
              "      <td>NaN</td>\n",
              "      <td>08095</td>\n",
              "      <td>Camden</td>\n",
              "      <td>right_only</td>\n",
              "    </tr>\n",
              "    <tr>\n",
              "      <th>1838</th>\n",
              "      <td>NaN</td>\n",
              "      <td>08095</td>\n",
              "      <td>Camden</td>\n",
              "      <td>right_only</td>\n",
              "    </tr>\n",
              "    <tr>\n",
              "      <th>1839</th>\n",
              "      <td>NaN</td>\n",
              "      <td>07075</td>\n",
              "      <td>Bergen</td>\n",
              "      <td>right_only</td>\n",
              "    </tr>\n",
              "    <tr>\n",
              "      <th>1840</th>\n",
              "      <td>NaN</td>\n",
              "      <td>07075</td>\n",
              "      <td>Bergen</td>\n",
              "      <td>right_only</td>\n",
              "    </tr>\n",
              "    <tr>\n",
              "      <th>1841</th>\n",
              "      <td>NaN</td>\n",
              "      <td>07095</td>\n",
              "      <td>Middlesex</td>\n",
              "      <td>right_only</td>\n",
              "    </tr>\n",
              "    <tr>\n",
              "      <th>1842</th>\n",
              "      <td>NaN</td>\n",
              "      <td>08620</td>\n",
              "      <td>Mercer</td>\n",
              "      <td>right_only</td>\n",
              "    </tr>\n",
              "    <tr>\n",
              "      <th>1843</th>\n",
              "      <td>NaN</td>\n",
              "      <td>08890</td>\n",
              "      <td>Somerset</td>\n",
              "      <td>right_only</td>\n",
              "    </tr>\n",
              "  </tbody>\n",
              "</table>\n",
              "</div>\n",
              "      <button class=\"colab-df-convert\" onclick=\"convertToInteractive('df-db213d46-016a-40be-9044-81557a8ea392')\"\n",
              "              title=\"Convert this dataframe to an interactive table.\"\n",
              "              style=\"display:none;\">\n",
              "        \n",
              "  <svg xmlns=\"http://www.w3.org/2000/svg\" height=\"24px\"viewBox=\"0 0 24 24\"\n",
              "       width=\"24px\">\n",
              "    <path d=\"M0 0h24v24H0V0z\" fill=\"none\"/>\n",
              "    <path d=\"M18.56 5.44l.94 2.06.94-2.06 2.06-.94-2.06-.94-.94-2.06-.94 2.06-2.06.94zm-11 1L8.5 8.5l.94-2.06 2.06-.94-2.06-.94L8.5 2.5l-.94 2.06-2.06.94zm10 10l.94 2.06.94-2.06 2.06-.94-2.06-.94-.94-2.06-.94 2.06-2.06.94z\"/><path d=\"M17.41 7.96l-1.37-1.37c-.4-.4-.92-.59-1.43-.59-.52 0-1.04.2-1.43.59L10.3 9.45l-7.72 7.72c-.78.78-.78 2.05 0 2.83L4 21.41c.39.39.9.59 1.41.59.51 0 1.02-.2 1.41-.59l7.78-7.78 2.81-2.81c.8-.78.8-2.07 0-2.86zM5.41 20L4 18.59l7.72-7.72 1.47 1.35L5.41 20z\"/>\n",
              "  </svg>\n",
              "      </button>\n",
              "      \n",
              "  <style>\n",
              "    .colab-df-container {\n",
              "      display:flex;\n",
              "      flex-wrap:wrap;\n",
              "      gap: 12px;\n",
              "    }\n",
              "\n",
              "    .colab-df-convert {\n",
              "      background-color: #E8F0FE;\n",
              "      border: none;\n",
              "      border-radius: 50%;\n",
              "      cursor: pointer;\n",
              "      display: none;\n",
              "      fill: #1967D2;\n",
              "      height: 32px;\n",
              "      padding: 0 0 0 0;\n",
              "      width: 32px;\n",
              "    }\n",
              "\n",
              "    .colab-df-convert:hover {\n",
              "      background-color: #E2EBFA;\n",
              "      box-shadow: 0px 1px 2px rgba(60, 64, 67, 0.3), 0px 1px 3px 1px rgba(60, 64, 67, 0.15);\n",
              "      fill: #174EA6;\n",
              "    }\n",
              "\n",
              "    [theme=dark] .colab-df-convert {\n",
              "      background-color: #3B4455;\n",
              "      fill: #D2E3FC;\n",
              "    }\n",
              "\n",
              "    [theme=dark] .colab-df-convert:hover {\n",
              "      background-color: #434B5C;\n",
              "      box-shadow: 0px 1px 3px 1px rgba(0, 0, 0, 0.15);\n",
              "      filter: drop-shadow(0px 1px 2px rgba(0, 0, 0, 0.3));\n",
              "      fill: #FFFFFF;\n",
              "    }\n",
              "  </style>\n",
              "\n",
              "      <script>\n",
              "        const buttonEl =\n",
              "          document.querySelector('#df-db213d46-016a-40be-9044-81557a8ea392 button.colab-df-convert');\n",
              "        buttonEl.style.display =\n",
              "          google.colab.kernel.accessAllowed ? 'block' : 'none';\n",
              "\n",
              "        async function convertToInteractive(key) {\n",
              "          const element = document.querySelector('#df-db213d46-016a-40be-9044-81557a8ea392');\n",
              "          const dataTable =\n",
              "            await google.colab.kernel.invokeFunction('convertToInteractive',\n",
              "                                                     [key], {});\n",
              "          if (!dataTable) return;\n",
              "\n",
              "          const docLinkHtml = 'Like what you see? Visit the ' +\n",
              "            '<a target=\"_blank\" href=https://colab.research.google.com/notebooks/data_table.ipynb>data table notebook</a>'\n",
              "            + ' to learn more about interactive tables.';\n",
              "          element.innerHTML = '';\n",
              "          dataTable['output_type'] = 'display_data';\n",
              "          await google.colab.output.renderOutput(dataTable, element);\n",
              "          const docLink = document.createElement('div');\n",
              "          docLink.innerHTML = docLinkHtml;\n",
              "          element.appendChild(docLink);\n",
              "        }\n",
              "      </script>\n",
              "    </div>\n",
              "  </div>\n",
              "  "
            ]
          },
          "metadata": {},
          "execution_count": 110
        }
      ]
    },
    {
      "cell_type": "code",
      "source": [
        "njappzipmerge = njappzip.query(\"_merge=='both'\")\n",
        "njappzipmerge.head(3)\n",
        "njappzipmerge.tail(3)"
      ],
      "metadata": {
        "colab": {
          "base_uri": "https://localhost:8080/",
          "height": 269
        },
        "id": "RPo0ZwJa1NFN",
        "outputId": "97a89fbf-2d6f-4eb6-81c4-7625488301bc"
      },
      "execution_count": 111,
      "outputs": [
        {
          "output_type": "execute_result",
          "data": {
            "text/plain": [
              "   ID   C_Zip    County _merge\n",
              "0  3.0  07009     Essex   both\n",
              "1  3.0  07009     Essex   both\n",
              "2  4.0  07726  Monmouth   both"
            ],
            "text/html": [
              "\n",
              "  <div id=\"df-65256713-b059-4095-859f-bf7ecf7b0d3d\">\n",
              "    <div class=\"colab-df-container\">\n",
              "      <div>\n",
              "<style scoped>\n",
              "    .dataframe tbody tr th:only-of-type {\n",
              "        vertical-align: middle;\n",
              "    }\n",
              "\n",
              "    .dataframe tbody tr th {\n",
              "        vertical-align: top;\n",
              "    }\n",
              "\n",
              "    .dataframe thead th {\n",
              "        text-align: right;\n",
              "    }\n",
              "</style>\n",
              "<table border=\"1\" class=\"dataframe\">\n",
              "  <thead>\n",
              "    <tr style=\"text-align: right;\">\n",
              "      <th></th>\n",
              "      <th>ID</th>\n",
              "      <th>C_Zip</th>\n",
              "      <th>County</th>\n",
              "      <th>_merge</th>\n",
              "    </tr>\n",
              "  </thead>\n",
              "  <tbody>\n",
              "    <tr>\n",
              "      <th>0</th>\n",
              "      <td>3.0</td>\n",
              "      <td>07009</td>\n",
              "      <td>Essex</td>\n",
              "      <td>both</td>\n",
              "    </tr>\n",
              "    <tr>\n",
              "      <th>1</th>\n",
              "      <td>3.0</td>\n",
              "      <td>07009</td>\n",
              "      <td>Essex</td>\n",
              "      <td>both</td>\n",
              "    </tr>\n",
              "    <tr>\n",
              "      <th>2</th>\n",
              "      <td>4.0</td>\n",
              "      <td>07726</td>\n",
              "      <td>Monmouth</td>\n",
              "      <td>both</td>\n",
              "    </tr>\n",
              "  </tbody>\n",
              "</table>\n",
              "</div>\n",
              "      <button class=\"colab-df-convert\" onclick=\"convertToInteractive('df-65256713-b059-4095-859f-bf7ecf7b0d3d')\"\n",
              "              title=\"Convert this dataframe to an interactive table.\"\n",
              "              style=\"display:none;\">\n",
              "        \n",
              "  <svg xmlns=\"http://www.w3.org/2000/svg\" height=\"24px\"viewBox=\"0 0 24 24\"\n",
              "       width=\"24px\">\n",
              "    <path d=\"M0 0h24v24H0V0z\" fill=\"none\"/>\n",
              "    <path d=\"M18.56 5.44l.94 2.06.94-2.06 2.06-.94-2.06-.94-.94-2.06-.94 2.06-2.06.94zm-11 1L8.5 8.5l.94-2.06 2.06-.94-2.06-.94L8.5 2.5l-.94 2.06-2.06.94zm10 10l.94 2.06.94-2.06 2.06-.94-2.06-.94-.94-2.06-.94 2.06-2.06.94z\"/><path d=\"M17.41 7.96l-1.37-1.37c-.4-.4-.92-.59-1.43-.59-.52 0-1.04.2-1.43.59L10.3 9.45l-7.72 7.72c-.78.78-.78 2.05 0 2.83L4 21.41c.39.39.9.59 1.41.59.51 0 1.02-.2 1.41-.59l7.78-7.78 2.81-2.81c.8-.78.8-2.07 0-2.86zM5.41 20L4 18.59l7.72-7.72 1.47 1.35L5.41 20z\"/>\n",
              "  </svg>\n",
              "      </button>\n",
              "      \n",
              "  <style>\n",
              "    .colab-df-container {\n",
              "      display:flex;\n",
              "      flex-wrap:wrap;\n",
              "      gap: 12px;\n",
              "    }\n",
              "\n",
              "    .colab-df-convert {\n",
              "      background-color: #E8F0FE;\n",
              "      border: none;\n",
              "      border-radius: 50%;\n",
              "      cursor: pointer;\n",
              "      display: none;\n",
              "      fill: #1967D2;\n",
              "      height: 32px;\n",
              "      padding: 0 0 0 0;\n",
              "      width: 32px;\n",
              "    }\n",
              "\n",
              "    .colab-df-convert:hover {\n",
              "      background-color: #E2EBFA;\n",
              "      box-shadow: 0px 1px 2px rgba(60, 64, 67, 0.3), 0px 1px 3px 1px rgba(60, 64, 67, 0.15);\n",
              "      fill: #174EA6;\n",
              "    }\n",
              "\n",
              "    [theme=dark] .colab-df-convert {\n",
              "      background-color: #3B4455;\n",
              "      fill: #D2E3FC;\n",
              "    }\n",
              "\n",
              "    [theme=dark] .colab-df-convert:hover {\n",
              "      background-color: #434B5C;\n",
              "      box-shadow: 0px 1px 3px 1px rgba(0, 0, 0, 0.15);\n",
              "      filter: drop-shadow(0px 1px 2px rgba(0, 0, 0, 0.3));\n",
              "      fill: #FFFFFF;\n",
              "    }\n",
              "  </style>\n",
              "\n",
              "      <script>\n",
              "        const buttonEl =\n",
              "          document.querySelector('#df-65256713-b059-4095-859f-bf7ecf7b0d3d button.colab-df-convert');\n",
              "        buttonEl.style.display =\n",
              "          google.colab.kernel.accessAllowed ? 'block' : 'none';\n",
              "\n",
              "        async function convertToInteractive(key) {\n",
              "          const element = document.querySelector('#df-65256713-b059-4095-859f-bf7ecf7b0d3d');\n",
              "          const dataTable =\n",
              "            await google.colab.kernel.invokeFunction('convertToInteractive',\n",
              "                                                     [key], {});\n",
              "          if (!dataTable) return;\n",
              "\n",
              "          const docLinkHtml = 'Like what you see? Visit the ' +\n",
              "            '<a target=\"_blank\" href=https://colab.research.google.com/notebooks/data_table.ipynb>data table notebook</a>'\n",
              "            + ' to learn more about interactive tables.';\n",
              "          element.innerHTML = '';\n",
              "          dataTable['output_type'] = 'display_data';\n",
              "          await google.colab.output.renderOutput(dataTable, element);\n",
              "          const docLink = document.createElement('div');\n",
              "          docLink.innerHTML = docLinkHtml;\n",
              "          element.appendChild(docLink);\n",
              "        }\n",
              "      </script>\n",
              "    </div>\n",
              "  </div>\n",
              "  "
            ]
          },
          "metadata": {},
          "execution_count": 111
        },
        {
          "output_type": "execute_result",
          "data": {
            "text/plain": [
              "        ID   C_Zip  County _merge\n",
              "920  1495.0  08106  Camden   both\n",
              "922  1520.0  07040   Essex   both\n",
              "923  1520.0  07040   Essex   both"
            ],
            "text/html": [
              "\n",
              "  <div id=\"df-226ebd35-cc7a-4361-8cdf-f10e6429448f\">\n",
              "    <div class=\"colab-df-container\">\n",
              "      <div>\n",
              "<style scoped>\n",
              "    .dataframe tbody tr th:only-of-type {\n",
              "        vertical-align: middle;\n",
              "    }\n",
              "\n",
              "    .dataframe tbody tr th {\n",
              "        vertical-align: top;\n",
              "    }\n",
              "\n",
              "    .dataframe thead th {\n",
              "        text-align: right;\n",
              "    }\n",
              "</style>\n",
              "<table border=\"1\" class=\"dataframe\">\n",
              "  <thead>\n",
              "    <tr style=\"text-align: right;\">\n",
              "      <th></th>\n",
              "      <th>ID</th>\n",
              "      <th>C_Zip</th>\n",
              "      <th>County</th>\n",
              "      <th>_merge</th>\n",
              "    </tr>\n",
              "  </thead>\n",
              "  <tbody>\n",
              "    <tr>\n",
              "      <th>920</th>\n",
              "      <td>1495.0</td>\n",
              "      <td>08106</td>\n",
              "      <td>Camden</td>\n",
              "      <td>both</td>\n",
              "    </tr>\n",
              "    <tr>\n",
              "      <th>922</th>\n",
              "      <td>1520.0</td>\n",
              "      <td>07040</td>\n",
              "      <td>Essex</td>\n",
              "      <td>both</td>\n",
              "    </tr>\n",
              "    <tr>\n",
              "      <th>923</th>\n",
              "      <td>1520.0</td>\n",
              "      <td>07040</td>\n",
              "      <td>Essex</td>\n",
              "      <td>both</td>\n",
              "    </tr>\n",
              "  </tbody>\n",
              "</table>\n",
              "</div>\n",
              "      <button class=\"colab-df-convert\" onclick=\"convertToInteractive('df-226ebd35-cc7a-4361-8cdf-f10e6429448f')\"\n",
              "              title=\"Convert this dataframe to an interactive table.\"\n",
              "              style=\"display:none;\">\n",
              "        \n",
              "  <svg xmlns=\"http://www.w3.org/2000/svg\" height=\"24px\"viewBox=\"0 0 24 24\"\n",
              "       width=\"24px\">\n",
              "    <path d=\"M0 0h24v24H0V0z\" fill=\"none\"/>\n",
              "    <path d=\"M18.56 5.44l.94 2.06.94-2.06 2.06-.94-2.06-.94-.94-2.06-.94 2.06-2.06.94zm-11 1L8.5 8.5l.94-2.06 2.06-.94-2.06-.94L8.5 2.5l-.94 2.06-2.06.94zm10 10l.94 2.06.94-2.06 2.06-.94-2.06-.94-.94-2.06-.94 2.06-2.06.94z\"/><path d=\"M17.41 7.96l-1.37-1.37c-.4-.4-.92-.59-1.43-.59-.52 0-1.04.2-1.43.59L10.3 9.45l-7.72 7.72c-.78.78-.78 2.05 0 2.83L4 21.41c.39.39.9.59 1.41.59.51 0 1.02-.2 1.41-.59l7.78-7.78 2.81-2.81c.8-.78.8-2.07 0-2.86zM5.41 20L4 18.59l7.72-7.72 1.47 1.35L5.41 20z\"/>\n",
              "  </svg>\n",
              "      </button>\n",
              "      \n",
              "  <style>\n",
              "    .colab-df-container {\n",
              "      display:flex;\n",
              "      flex-wrap:wrap;\n",
              "      gap: 12px;\n",
              "    }\n",
              "\n",
              "    .colab-df-convert {\n",
              "      background-color: #E8F0FE;\n",
              "      border: none;\n",
              "      border-radius: 50%;\n",
              "      cursor: pointer;\n",
              "      display: none;\n",
              "      fill: #1967D2;\n",
              "      height: 32px;\n",
              "      padding: 0 0 0 0;\n",
              "      width: 32px;\n",
              "    }\n",
              "\n",
              "    .colab-df-convert:hover {\n",
              "      background-color: #E2EBFA;\n",
              "      box-shadow: 0px 1px 2px rgba(60, 64, 67, 0.3), 0px 1px 3px 1px rgba(60, 64, 67, 0.15);\n",
              "      fill: #174EA6;\n",
              "    }\n",
              "\n",
              "    [theme=dark] .colab-df-convert {\n",
              "      background-color: #3B4455;\n",
              "      fill: #D2E3FC;\n",
              "    }\n",
              "\n",
              "    [theme=dark] .colab-df-convert:hover {\n",
              "      background-color: #434B5C;\n",
              "      box-shadow: 0px 1px 3px 1px rgba(0, 0, 0, 0.15);\n",
              "      filter: drop-shadow(0px 1px 2px rgba(0, 0, 0, 0.3));\n",
              "      fill: #FFFFFF;\n",
              "    }\n",
              "  </style>\n",
              "\n",
              "      <script>\n",
              "        const buttonEl =\n",
              "          document.querySelector('#df-226ebd35-cc7a-4361-8cdf-f10e6429448f button.colab-df-convert');\n",
              "        buttonEl.style.display =\n",
              "          google.colab.kernel.accessAllowed ? 'block' : 'none';\n",
              "\n",
              "        async function convertToInteractive(key) {\n",
              "          const element = document.querySelector('#df-226ebd35-cc7a-4361-8cdf-f10e6429448f');\n",
              "          const dataTable =\n",
              "            await google.colab.kernel.invokeFunction('convertToInteractive',\n",
              "                                                     [key], {});\n",
              "          if (!dataTable) return;\n",
              "\n",
              "          const docLinkHtml = 'Like what you see? Visit the ' +\n",
              "            '<a target=\"_blank\" href=https://colab.research.google.com/notebooks/data_table.ipynb>data table notebook</a>'\n",
              "            + ' to learn more about interactive tables.';\n",
              "          element.innerHTML = '';\n",
              "          dataTable['output_type'] = 'display_data';\n",
              "          await google.colab.output.renderOutput(dataTable, element);\n",
              "          const docLink = document.createElement('div');\n",
              "          docLink.innerHTML = docLinkHtml;\n",
              "          element.appendChild(docLink);\n",
              "        }\n",
              "      </script>\n",
              "    </div>\n",
              "  </div>\n",
              "  "
            ]
          },
          "metadata": {},
          "execution_count": 111
        }
      ]
    },
    {
      "cell_type": "code",
      "source": [
        "#this looks right\n",
        "njappzipmerge.County.value_counts().nlargest(10).plot(kind='bar',figsize=(10,5))\n",
        "plt.title(\"Number of Applications by County\")\n",
        "plt.ylabel(\"Number of Applicants\")\n",
        "plt.xlabel(\"County Name\")"
      ],
      "metadata": {
        "colab": {
          "base_uri": "https://localhost:8080/",
          "height": 411
        },
        "id": "T5Wqzybd2DVX",
        "outputId": "5355d040-5c60-42fa-b009-f1db6eb0ab55"
      },
      "execution_count": 119,
      "outputs": [
        {
          "output_type": "execute_result",
          "data": {
            "text/plain": [
              "<matplotlib.axes._subplots.AxesSubplot at 0x7f6e9c77cbb0>"
            ]
          },
          "metadata": {},
          "execution_count": 119
        },
        {
          "output_type": "execute_result",
          "data": {
            "text/plain": [
              "Text(0.5, 1.0, 'Number of Applications by County')"
            ]
          },
          "metadata": {},
          "execution_count": 119
        },
        {
          "output_type": "execute_result",
          "data": {
            "text/plain": [
              "Text(0, 0.5, 'Number of Applicants')"
            ]
          },
          "metadata": {},
          "execution_count": 119
        },
        {
          "output_type": "execute_result",
          "data": {
            "text/plain": [
              "Text(0.5, 0, 'County Name')"
            ]
          },
          "metadata": {},
          "execution_count": 119
        },
        {
          "output_type": "display_data",
          "data": {
            "text/plain": [
              "<Figure size 720x360 with 1 Axes>"
            ],
            "image/png": "[encoded data removed]"
          },
          "metadata": {
            "needs_background": "light"
          }
        }
      ]
    },
    {
      "cell_type": "code",
      "source": [
        "njunemp.dtypes"
      ],
      "metadata": {
        "colab": {
          "base_uri": "https://localhost:8080/"
        },
        "id": "Ig1vnuc23FSP",
        "outputId": "ae157c7e-8c31-4b03-d5dc-dab611b88b03"
      },
      "execution_count": 113,
      "outputs": [
        {
          "output_type": "execute_result",
          "data": {
            "text/plain": [
              "County                          object\n",
              "Geo_STATE                        int64\n",
              "LaborForce2021                   int64\n",
              "ORG_US_007_002                   int64\n",
              "ORG_US_007_003                   int64\n",
              "Unemployment2021               float64\n",
              "LaborForce2020                   int64\n",
              "ORG_US_Unemployment_027_002      int64\n",
              "ORG_US_Unemployment_027_003      int64\n",
              "Unemployment2020               float64\n",
              "ORG_US_Unemployment_020_001      int64\n",
              "ORG_US_Unemployment_020_002      int64\n",
              "ORG_US_Unemployment_020_003      int64\n",
              "ORG_US_Unemployment_020_004    float64\n",
              "ORG_US_035_001                 float64\n",
              "ORG_US_035_002                 float64\n",
              "ORG_US_035_003                 float64\n",
              "PercentageChange               float64\n",
              "dtype: object"
            ]
          },
          "metadata": {},
          "execution_count": 113
        }
      ]
    },
    {
      "cell_type": "code",
      "source": [
        "njunempmerge=njunemp[['County','Unemployment2021']]\n",
        "njunempmerge.head(3)"
      ],
      "metadata": {
        "colab": {
          "base_uri": "https://localhost:8080/",
          "height": 143
        },
        "id": "pP7u_Gte3RBk",
        "outputId": "a79f9da7-5de0-4630-8a88-ed1fe51ea629"
      },
      "execution_count": 126,
      "outputs": [
        {
          "output_type": "execute_result",
          "data": {
            "text/plain": [
              "        County  Unemployment2021\n",
              "0    Atlantic               10.8\n",
              "1      Bergen                7.4\n",
              "2  Burlington                6.6"
            ],
            "text/html": [
              "\n",
              "  <div id=\"df-d17f52d9-5ef1-4a42-9ce0-d99039b7f2ec\">\n",
              "    <div class=\"colab-df-container\">\n",
              "      <div>\n",
              "<style scoped>\n",
              "    .dataframe tbody tr th:only-of-type {\n",
              "        vertical-align: middle;\n",
              "    }\n",
              "\n",
              "    .dataframe tbody tr th {\n",
              "        vertical-align: top;\n",
              "    }\n",
              "\n",
              "    .dataframe thead th {\n",
              "        text-align: right;\n",
              "    }\n",
              "</style>\n",
              "<table border=\"1\" class=\"dataframe\">\n",
              "  <thead>\n",
              "    <tr style=\"text-align: right;\">\n",
              "      <th></th>\n",
              "      <th>County</th>\n",
              "      <th>Unemployment2021</th>\n",
              "    </tr>\n",
              "  </thead>\n",
              "  <tbody>\n",
              "    <tr>\n",
              "      <th>0</th>\n",
              "      <td>Atlantic</td>\n",
              "      <td>10.8</td>\n",
              "    </tr>\n",
              "    <tr>\n",
              "      <th>1</th>\n",
              "      <td>Bergen</td>\n",
              "      <td>7.4</td>\n",
              "    </tr>\n",
              "    <tr>\n",
              "      <th>2</th>\n",
              "      <td>Burlington</td>\n",
              "      <td>6.6</td>\n",
              "    </tr>\n",
              "  </tbody>\n",
              "</table>\n",
              "</div>\n",
              "      <button class=\"colab-df-convert\" onclick=\"convertToInteractive('df-d17f52d9-5ef1-4a42-9ce0-d99039b7f2ec')\"\n",
              "              title=\"Convert this dataframe to an interactive table.\"\n",
              "              style=\"display:none;\">\n",
              "        \n",
              "  <svg xmlns=\"http://www.w3.org/2000/svg\" height=\"24px\"viewBox=\"0 0 24 24\"\n",
              "       width=\"24px\">\n",
              "    <path d=\"M0 0h24v24H0V0z\" fill=\"none\"/>\n",
              "    <path d=\"M18.56 5.44l.94 2.06.94-2.06 2.06-.94-2.06-.94-.94-2.06-.94 2.06-2.06.94zm-11 1L8.5 8.5l.94-2.06 2.06-.94-2.06-.94L8.5 2.5l-.94 2.06-2.06.94zm10 10l.94 2.06.94-2.06 2.06-.94-2.06-.94-.94-2.06-.94 2.06-2.06.94z\"/><path d=\"M17.41 7.96l-1.37-1.37c-.4-.4-.92-.59-1.43-.59-.52 0-1.04.2-1.43.59L10.3 9.45l-7.72 7.72c-.78.78-.78 2.05 0 2.83L4 21.41c.39.39.9.59 1.41.59.51 0 1.02-.2 1.41-.59l7.78-7.78 2.81-2.81c.8-.78.8-2.07 0-2.86zM5.41 20L4 18.59l7.72-7.72 1.47 1.35L5.41 20z\"/>\n",
              "  </svg>\n",
              "      </button>\n",
              "      \n",
              "  <style>\n",
              "    .colab-df-container {\n",
              "      display:flex;\n",
              "      flex-wrap:wrap;\n",
              "      gap: 12px;\n",
              "    }\n",
              "\n",
              "    .colab-df-convert {\n",
              "      background-color: #E8F0FE;\n",
              "      border: none;\n",
              "      border-radius: 50%;\n",
              "      cursor: pointer;\n",
              "      display: none;\n",
              "      fill: #1967D2;\n",
              "      height: 32px;\n",
              "      padding: 0 0 0 0;\n",
              "      width: 32px;\n",
              "    }\n",
              "\n",
              "    .colab-df-convert:hover {\n",
              "      background-color: #E2EBFA;\n",
              "      box-shadow: 0px 1px 2px rgba(60, 64, 67, 0.3), 0px 1px 3px 1px rgba(60, 64, 67, 0.15);\n",
              "      fill: #174EA6;\n",
              "    }\n",
              "\n",
              "    [theme=dark] .colab-df-convert {\n",
              "      background-color: #3B4455;\n",
              "      fill: #D2E3FC;\n",
              "    }\n",
              "\n",
              "    [theme=dark] .colab-df-convert:hover {\n",
              "      background-color: #434B5C;\n",
              "      box-shadow: 0px 1px 3px 1px rgba(0, 0, 0, 0.15);\n",
              "      filter: drop-shadow(0px 1px 2px rgba(0, 0, 0, 0.3));\n",
              "      fill: #FFFFFF;\n",
              "    }\n",
              "  </style>\n",
              "\n",
              "      <script>\n",
              "        const buttonEl =\n",
              "          document.querySelector('#df-d17f52d9-5ef1-4a42-9ce0-d99039b7f2ec button.colab-df-convert');\n",
              "        buttonEl.style.display =\n",
              "          google.colab.kernel.accessAllowed ? 'block' : 'none';\n",
              "\n",
              "        async function convertToInteractive(key) {\n",
              "          const element = document.querySelector('#df-d17f52d9-5ef1-4a42-9ce0-d99039b7f2ec');\n",
              "          const dataTable =\n",
              "            await google.colab.kernel.invokeFunction('convertToInteractive',\n",
              "                                                     [key], {});\n",
              "          if (!dataTable) return;\n",
              "\n",
              "          const docLinkHtml = 'Like what you see? Visit the ' +\n",
              "            '<a target=\"_blank\" href=https://colab.research.google.com/notebooks/data_table.ipynb>data table notebook</a>'\n",
              "            + ' to learn more about interactive tables.';\n",
              "          element.innerHTML = '';\n",
              "          dataTable['output_type'] = 'display_data';\n",
              "          await google.colab.output.renderOutput(dataTable, element);\n",
              "          const docLink = document.createElement('div');\n",
              "          docLink.innerHTML = docLinkHtml;\n",
              "          element.appendChild(docLink);\n",
              "        }\n",
              "      </script>\n",
              "    </div>\n",
              "  </div>\n",
              "  "
            ]
          },
          "metadata": {},
          "execution_count": 126
        }
      ]
    },
    {
      "cell_type": "code",
      "source": [
        "njappzipmerge.dtypes"
      ],
      "metadata": {
        "colab": {
          "base_uri": "https://localhost:8080/"
        },
        "id": "kqvfxou84qqO",
        "outputId": "4925308d-2820-4f0c-c3b6-c9871241a3c0"
      },
      "execution_count": 156,
      "outputs": [
        {
          "output_type": "execute_result",
          "data": {
            "text/plain": [
              "ID        float64\n",
              "County     object\n",
              "dtype: object"
            ]
          },
          "metadata": {},
          "execution_count": 156
        }
      ]
    },
    {
      "cell_type": "code",
      "source": [
        "print(njappzipmerge.County.unique())"
      ],
      "metadata": {
        "colab": {
          "base_uri": "https://localhost:8080/"
        },
        "id": "_j0yKjcEEWG6",
        "outputId": "365598c6-20c5-44df-9db1-ef85c12c759d"
      },
      "execution_count": 158,
      "outputs": [
        {
          "output_type": "stream",
          "name": "stdout",
          "text": [
            "['Essex' 'Monmouth' 'Middlesex' 'Sussex' 'Camden' 'Burlington'\n",
            " 'Gloucester' 'Ocean' 'Somerset' 'Hudson' 'Cumberland' 'Atlantic' 'Mercer'\n",
            " 'Cape May' 'Bergen' 'Warren' 'Morris' 'Hunterdon' 'Salem' 'Union'\n",
            " 'Passaic']\n"
          ]
        }
      ]
    },
    {
      "cell_type": "code",
      "source": [
        "njunempmerge.dtypes"
      ],
      "metadata": {
        "colab": {
          "base_uri": "https://localhost:8080/"
        },
        "id": "zOW-M2xQ8x6y",
        "outputId": "c4088c60-6522-4734-8aa5-6a6a3f5d2ece"
      },
      "execution_count": 157,
      "outputs": [
        {
          "output_type": "execute_result",
          "data": {
            "text/plain": [
              "County               object\n",
              "Unemployment2021    float64\n",
              "dtype: object"
            ]
          },
          "metadata": {},
          "execution_count": 157
        }
      ]
    },
    {
      "cell_type": "code",
      "source": [
        "#There is the problem. The space.\n",
        "print(njunempmerge.County.unique())"
      ],
      "metadata": {
        "colab": {
          "base_uri": "https://localhost:8080/"
        },
        "id": "eH-pMBJpEdOF",
        "outputId": "da612b43-daca-4b7c-dfb2-c95d25679ec2"
      },
      "execution_count": 159,
      "outputs": [
        {
          "output_type": "stream",
          "name": "stdout",
          "text": [
            "['Atlantic ' 'Bergen ' 'Burlington ' 'Camden ' 'Cape May ' 'Cumberland '\n",
            " 'Essex ' 'Gloucester ' 'Hudson ' 'Hunterdon ' 'Mercer ' 'Middlesex '\n",
            " 'Monmouth ' 'Morris ' 'Ocean ' 'Passaic ' 'Salem ' 'Somerset ' 'Sussex '\n",
            " 'Union ' 'Warren ']\n"
          ]
        }
      ]
    },
    {
      "cell_type": "markdown",
      "source": [
        "### Import: Data: Notes, Observations and Next Steps\n",
        "\n",
        "**App Data File** \n",
        "\n",
        "*   Isolate New Jersey Applicants\n",
        "*   Clean plus four from zip codes \n",
        "*   Rename \"Mailing Zip/Postal Code\" to \"Zip Code\"\n",
        "* File has no county names information will need other files to merge. \n",
        "\n",
        "**NJ Unemployment File**\n",
        "\n",
        "* \n",
        "\n"
      ],
      "metadata": {
        "id": "bzIySeAozLua"
      }
    },
    {
      "cell_type": "markdown",
      "source": [
        "## Manipulating Data: Renaming Variables"
      ],
      "metadata": {
        "id": "kzTP1IO96b2O"
      }
    }
  ]
}