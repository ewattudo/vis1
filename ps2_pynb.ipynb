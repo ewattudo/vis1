{
  "nbformat": 4,
  "nbformat_minor": 0,
  "metadata": {
    "colab": {
      "provenance": [],
      "toc_visible": true,
      "include_colab_link": true
    },
    "kernelspec": {
      "name": "python3",
      "display_name": "Python 3"
    },
    "language_info": {
      "name": "python"
    }
  },
  "cells": [
    {
      "cell_type": "markdown",
      "metadata": {
        "id": "view-in-github",
        "colab_type": "text"
      },
      "source": [
        "<a href=\"https://colab.research.google.com/github/ewattudo/vis1/blob/main/ps2_pynb.ipynb\" target=\"_parent\"><img src=\"https://colab.research.google.com/assets/colab-badge.svg\" alt=\"Open In Colab\"/></a>"
      ]
    },
    {
      "cell_type": "markdown",
      "source": [
        "# PS2 Manipulating Data and Merging - Erick Watt-Udogu \n",
        "\n",
        "I am generally interested in creating a model that will help explain who applied to  Rutgers-Camden's Graduate School of Arts and Sciences for the following terms: summer 2022, fall 2022 and spring 2023. \n",
        "\n",
        "\n",
        "aok fantastic! i'd be interested in that too--looking forward to it!\n",
        "\n",
        "\n",
        "In this problem set I want to test the widely accepted claim that college enrollment broadly but graduate school specifically is countercyclical, i.e. graduate applications rise as the the economy worsens. For the sake of this learning experiment I am isolating counties in New Jersey, but my broader research question includes all state data. \n",
        "\n",
        "\n",
        "aok aha cool, then need data on recessions too, can see st loius FRED as we covered earlier in the class; can also or for future research zoom in onto south jersey and philly per recessions, say local median hh income, labor force partcipation, unemployment, layoffs, etc\n",
        "\n",
        "\n",
        "To do this, I will be merging Rutgers-Camden application data for sans identifiers and unemployment data, where unemployment serves as a proxy for health of the economy. Because my data does not have county names, it has zip codes and the unemployment data is county, not zip code level, I am using a third data set to merge the two. \n",
        "\n",
        "aok good; and again ideally want local level measure of health of economy eg unemployment for south jersey and philly region"
      ],
      "metadata": {
        "id": "PDpLwK64jwOn"
      }
    },
    {
      "cell_type": "markdown",
      "source": [
        "## **Import: Code**\n",
        "\n",
        "This section includes import code. "
      ],
      "metadata": {
        "id": "9eTB845YlVG8"
      }
    },
    {
      "cell_type": "code",
      "execution_count": 1,
      "metadata": {
        "colab": {
          "base_uri": "https://localhost:8080/"
        },
        "id": "dASOwigzjlSH",
        "outputId": "16543393-0b1e-442a-caf4-70b60580f05c"
      },
      "outputs": [
        {
          "output_type": "stream",
          "name": "stdout",
          "text": [
            "Looking in indexes: https://pypi.org/simple, https://us-python.pkg.dev/colab-wheels/public/simple/\n",
            "Collecting geopandas\n",
            "  Downloading geopandas-0.12.2-py3-none-any.whl (1.1 MB)\n",
            "\u001b[2K     \u001b[90m━━━━━━━━━━━━━━━━━━━━━━━━━━━━━━━━━━━━━━━━\u001b[0m \u001b[32m1.1/1.1 MB\u001b[0m \u001b[31m11.7 MB/s\u001b[0m eta \u001b[36m0:00:00\u001b[0m\n",
            "\u001b[?25hCollecting fiona>=1.8\n",
            "  Downloading Fiona-1.9.1-cp38-cp38-manylinux_2_17_x86_64.manylinux2014_x86_64.whl (16.0 MB)\n",
            "\u001b[2K     \u001b[90m━━━━━━━━━━━━━━━━━━━━━━━━━━━━━━━━━━━━━━━━\u001b[0m \u001b[32m16.0/16.0 MB\u001b[0m \u001b[31m17.5 MB/s\u001b[0m eta \u001b[36m0:00:00\u001b[0m\n",
            "\u001b[?25hRequirement already satisfied: packaging in /usr/local/lib/python3.8/dist-packages (from geopandas) (23.0)\n",
            "Requirement already satisfied: pandas>=1.0.0 in /usr/local/lib/python3.8/dist-packages (from geopandas) (1.3.5)\n",
            "Collecting pyproj>=2.6.1.post1\n",
            "  Downloading pyproj-3.4.1-cp38-cp38-manylinux_2_17_x86_64.manylinux2014_x86_64.whl (7.8 MB)\n",
            "\u001b[2K     \u001b[90m━━━━━━━━━━━━━━━━━━━━━━━━━━━━━━━━━━━━━━━━\u001b[0m \u001b[32m7.8/7.8 MB\u001b[0m \u001b[31m45.5 MB/s\u001b[0m eta \u001b[36m0:00:00\u001b[0m\n",
            "\u001b[?25hRequirement already satisfied: shapely>=1.7 in /usr/local/lib/python3.8/dist-packages (from geopandas) (2.0.1)\n",
            "Collecting cligj>=0.5\n",
            "  Downloading cligj-0.7.2-py3-none-any.whl (7.1 kB)\n",
            "Requirement already satisfied: attrs>=19.2.0 in /usr/local/lib/python3.8/dist-packages (from fiona>=1.8->geopandas) (22.2.0)\n",
            "Collecting click~=8.0\n",
            "  Downloading click-8.1.3-py3-none-any.whl (96 kB)\n",
            "\u001b[2K     \u001b[90m━━━━━━━━━━━━━━━━━━━━━━━━━━━━━━━━━━━━━━━━\u001b[0m \u001b[32m96.6/96.6 KB\u001b[0m \u001b[31m6.4 MB/s\u001b[0m eta \u001b[36m0:00:00\u001b[0m\n",
            "\u001b[?25hRequirement already satisfied: setuptools in /usr/local/lib/python3.8/dist-packages (from fiona>=1.8->geopandas) (57.4.0)\n",
            "Collecting click-plugins>=1.0\n",
            "  Downloading click_plugins-1.1.1-py2.py3-none-any.whl (7.5 kB)\n",
            "Requirement already satisfied: certifi in /usr/local/lib/python3.8/dist-packages (from fiona>=1.8->geopandas) (2022.12.7)\n",
            "Collecting munch>=2.3.2\n",
            "  Downloading munch-2.5.0-py2.py3-none-any.whl (10 kB)\n",
            "Requirement already satisfied: pytz>=2017.3 in /usr/local/lib/python3.8/dist-packages (from pandas>=1.0.0->geopandas) (2022.7.1)\n",
            "Requirement already satisfied: numpy>=1.17.3 in /usr/local/lib/python3.8/dist-packages (from pandas>=1.0.0->geopandas) (1.21.6)\n",
            "Requirement already satisfied: python-dateutil>=2.7.3 in /usr/local/lib/python3.8/dist-packages (from pandas>=1.0.0->geopandas) (2.8.2)\n",
            "Requirement already satisfied: six in /usr/local/lib/python3.8/dist-packages (from munch>=2.3.2->fiona>=1.8->geopandas) (1.15.0)\n",
            "Installing collected packages: pyproj, munch, click, cligj, click-plugins, fiona, geopandas\n",
            "  Attempting uninstall: click\n",
            "    Found existing installation: click 7.1.2\n",
            "    Uninstalling click-7.1.2:\n",
            "      Successfully uninstalled click-7.1.2\n",
            "\u001b[31mERROR: pip's dependency resolver does not currently take into account all the packages that are installed. This behaviour is the source of the following dependency conflicts.\n",
            "flask 1.1.4 requires click<8.0,>=5.1, but you have click 8.1.3 which is incompatible.\u001b[0m\u001b[31m\n",
            "\u001b[0mSuccessfully installed click-8.1.3 click-plugins-1.1.1 cligj-0.7.2 fiona-1.9.1 geopandas-0.12.2 munch-2.5.0 pyproj-3.4.1\n"
          ]
        }
      ],
      "source": [
        "import os, sys, re #basics\n",
        "import zipfile, json, datetime, string   #string for annotating points in scatter \n",
        "import numpy as np\n",
        "from statistics import *\n",
        "\n",
        "import pylab as plt\n",
        "import pandas as pd\n",
        "import pandas_datareader as pdr\n",
        "from pandas_datareader import wb\n",
        "from pandas.io.formats.style import Styler\n",
        "#s4 = Styler(df4, uuid_len=0, cell_ids=False)\n",
        "\n",
        "\n",
        "import urllib  #weird, guess need to have os and pandas imported for this to work                                                  \n",
        "                                                                          \n",
        "import webbrowser                                                                      \n",
        "import folium as f                                                                     \n",
        "from folium.plugins import MarkerCluster, HeatMap                                      \n",
        "\n",
        "#! pip install geocoder #]later maybe\n",
        "! pip install geopandas #this is how you install packages on colab\n",
        "import geopandas as gpd                                                                                       \n",
        "#from geopy.geocoders import Nominatim #later maybe\n",
        "\n",
        "import seaborn as sns\n",
        "\n",
        "#many tricks how to extend notebook functionality\n",
        "#https://coderzcolumn.com/tutorials/python/list-of-useful-magic-commands-in-jupyter-notebook-lab\n",
        "#will display all output not just last command\n",
        "from IPython.core.interactiveshell import InteractiveShell\n",
        "InteractiveShell.ast_node_interactivity = \"all\""
      ]
    },
    {
      "cell_type": "markdown",
      "source": [
        "## **Importing and Cleaning the Data**\n",
        "This section is code for importing and cleaning the data.\n",
        "\n"
      ],
      "metadata": {
        "id": "d5OXCk3rlwcQ"
      }
    },
    {
      "cell_type": "markdown",
      "source": [
        "### Import: Data File 1: Application Data\n",
        "This is data I retrieved from work. I cleaned identifying information. "
      ],
      "metadata": {
        "id": "IjCDGECboWtS"
      }
    },
    {
      "cell_type": "code",
      "source": [
        "\n",
        "urllib.request.urlretrieve(\"https://raw.githubusercontent.com/ewattudo/vis1/main/appdata.csv\", \"appdata\") #aok not a critical problem, didnt break anything; but as per custom do have .csv suffix"
      ],
      "metadata": {
        "colab": {
          "base_uri": "https://localhost:8080/"
        },
        "id": "BXhz3-JcnPs6",
        "outputId": "8a4102d1-ebb8-4f39-8f38-3fedf1b23759"
      },
      "execution_count": 2,
      "outputs": [
        {
          "output_type": "execute_result",
          "data": {
            "text/plain": [
              "('appdata', <http.client.HTTPMessage at 0x7faf883f6fd0>)"
            ]
          },
          "metadata": {},
          "execution_count": 2
        }
      ]
    },
    {
      "cell_type": "code",
      "source": [
        "os.getcwd() #pwd\n",
        "os.listdir() #compare to clicking on the left the folder icon #dir"
      ],
      "metadata": {
        "colab": {
          "base_uri": "https://localhost:8080/",
          "height": 36
        },
        "id": "I8GjDjV_nak1",
        "outputId": "ee11f765-1d0c-4533-ff26-9b4d3b0954cb"
      },
      "execution_count": 3,
      "outputs": [
        {
          "output_type": "execute_result",
          "data": {
            "text/plain": [
              "'/content'"
            ],
            "application/vnd.google.colaboratory.intrinsic+json": {
              "type": "string"
            }
          },
          "metadata": {},
          "execution_count": 3
        },
        {
          "output_type": "execute_result",
          "data": {
            "text/plain": [
              "['.config', 'appdata', 'sample_data']"
            ]
          },
          "metadata": {},
          "execution_count": 3
        }
      ]
    },
    {
      "cell_type": "code",
      "source": [
        "appdat=pd.read_csv('appdata')"
      ],
      "metadata": {
        "id": "RLMnOHLIndK9"
      },
      "execution_count": 4,
      "outputs": []
    },
    {
      "cell_type": "code",
      "source": [
        "appdat.columns"
      ],
      "metadata": {
        "colab": {
          "base_uri": "https://localhost:8080/"
        },
        "id": "bGMquDe_oIXI",
        "outputId": "00d5973d-c87d-45e1-98a1-b590b6fc981b"
      },
      "execution_count": 5,
      "outputs": [
        {
          "output_type": "execute_result",
          "data": {
            "text/plain": [
              "Index(['ID ', 'Degree Type', 'Final Recommended Decision', 'Admit-Coming',\n",
              "       'Application Created Date', 'Days Before the Beginning of Semester ',\n",
              "       'Domestic or INTL Applicant', 'Reporting Term', 'Age When Applied',\n",
              "       'Mailing Zip/Postal Code', 'Mailing State/Province', 'Mailing Country',\n",
              "       'Most Recent Educational Institution: Account Name', 'Gender', 'Race',\n",
              "       'Program Selection: Program Selection Name', 'Admissions Status'],\n",
              "      dtype='object')"
            ]
          },
          "metadata": {},
          "execution_count": 5
        }
      ]
    },
    {
      "cell_type": "code",
      "source": [
        "appdat.head(3)"
      ],
      "metadata": {
        "colab": {
          "base_uri": "https://localhost:8080/",
          "height": 554
        },
        "id": "RhksXcBCqgNm",
        "outputId": "82ed151c-0be2-4c03-dcb9-a74c07ceb2d1"
      },
      "execution_count": 6,
      "outputs": [
        {
          "output_type": "execute_result",
          "data": {
            "text/plain": [
              "   ID                        Degree Type Final Recommended Decision  \\\n",
              "0    1  Master's (e.g. MA, MS, EdM, MFA)                        NaN   \n",
              "1    2  Master's (e.g. MA, MS, EdM, MFA)                        NaN   \n",
              "2    3  Master's (e.g. MA, MS, EdM, MFA)                        NaN   \n",
              "\n",
              "   Admit-Coming Application Created Date  \\\n",
              "0             0                12/7/2021   \n",
              "1             0                 1/2/2022   \n",
              "2             0                3/15/2022   \n",
              "\n",
              "   Days Before the Beginning of Semester  Domestic or INTL Applicant  \\\n",
              "0                                     273              International   \n",
              "1                                     247              International   \n",
              "2                                     175                   Domestic   \n",
              "\n",
              "  Reporting Term  Age When Applied Mailing Zip/Postal Code  \\\n",
              "0      Fall 2022              23.0                   56407   \n",
              "1      Fall 2022              21.0                  380058   \n",
              "2      Fall 2022              22.0              07009-1245   \n",
              "\n",
              "  Mailing State/Province Mailing Country  \\\n",
              "0              Pradesh 2           Nepal   \n",
              "1                Gujarat           India   \n",
              "2             New Jersey   United States   \n",
              "\n",
              "  Most Recent Educational Institution: Account Name  Gender   Race  \\\n",
              "0                    Vellore Institute Of Technolog    Male  Asian   \n",
              "1                              Ahmedabad University  Female  Asian   \n",
              "2                           Mount Olive High School    Male  Asian   \n",
              "\n",
              "     Program Selection: Program Selection Name Admissions Status  \n",
              "0  Biology: Computational and Integrative (MS)       Started App  \n",
              "1  Biology: Computational and Integrative (MS)       Started App  \n",
              "2  Biology: Computational and Integrative (MS)       Started App  "
            ],
            "text/html": [
              "\n",
              "  <div id=\"df-c5c7263c-9cbb-4bb4-a019-5b3577d91efd\">\n",
              "    <div class=\"colab-df-container\">\n",
              "      <div>\n",
              "<style scoped>\n",
              "    .dataframe tbody tr th:only-of-type {\n",
              "        vertical-align: middle;\n",
              "    }\n",
              "\n",
              "    .dataframe tbody tr th {\n",
              "        vertical-align: top;\n",
              "    }\n",
              "\n",
              "    .dataframe thead th {\n",
              "        text-align: right;\n",
              "    }\n",
              "</style>\n",
              "<table border=\"1\" class=\"dataframe\">\n",
              "  <thead>\n",
              "    <tr style=\"text-align: right;\">\n",
              "      <th></th>\n",
              "      <th>ID</th>\n",
              "      <th>Degree Type</th>\n",
              "      <th>Final Recommended Decision</th>\n",
              "      <th>Admit-Coming</th>\n",
              "      <th>Application Created Date</th>\n",
              "      <th>Days Before the Beginning of Semester</th>\n",
              "      <th>Domestic or INTL Applicant</th>\n",
              "      <th>Reporting Term</th>\n",
              "      <th>Age When Applied</th>\n",
              "      <th>Mailing Zip/Postal Code</th>\n",
              "      <th>Mailing State/Province</th>\n",
              "      <th>Mailing Country</th>\n",
              "      <th>Most Recent Educational Institution: Account Name</th>\n",
              "      <th>Gender</th>\n",
              "      <th>Race</th>\n",
              "      <th>Program Selection: Program Selection Name</th>\n",
              "      <th>Admissions Status</th>\n",
              "    </tr>\n",
              "  </thead>\n",
              "  <tbody>\n",
              "    <tr>\n",
              "      <th>0</th>\n",
              "      <td>1</td>\n",
              "      <td>Master's (e.g. MA, MS, EdM, MFA)</td>\n",
              "      <td>NaN</td>\n",
              "      <td>0</td>\n",
              "      <td>12/7/2021</td>\n",
              "      <td>273</td>\n",
              "      <td>International</td>\n",
              "      <td>Fall 2022</td>\n",
              "      <td>23.0</td>\n",
              "      <td>56407</td>\n",
              "      <td>Pradesh 2</td>\n",
              "      <td>Nepal</td>\n",
              "      <td>Vellore Institute Of Technolog</td>\n",
              "      <td>Male</td>\n",
              "      <td>Asian</td>\n",
              "      <td>Biology: Computational and Integrative (MS)</td>\n",
              "      <td>Started App</td>\n",
              "    </tr>\n",
              "    <tr>\n",
              "      <th>1</th>\n",
              "      <td>2</td>\n",
              "      <td>Master's (e.g. MA, MS, EdM, MFA)</td>\n",
              "      <td>NaN</td>\n",
              "      <td>0</td>\n",
              "      <td>1/2/2022</td>\n",
              "      <td>247</td>\n",
              "      <td>International</td>\n",
              "      <td>Fall 2022</td>\n",
              "      <td>21.0</td>\n",
              "      <td>380058</td>\n",
              "      <td>Gujarat</td>\n",
              "      <td>India</td>\n",
              "      <td>Ahmedabad University</td>\n",
              "      <td>Female</td>\n",
              "      <td>Asian</td>\n",
              "      <td>Biology: Computational and Integrative (MS)</td>\n",
              "      <td>Started App</td>\n",
              "    </tr>\n",
              "    <tr>\n",
              "      <th>2</th>\n",
              "      <td>3</td>\n",
              "      <td>Master's (e.g. MA, MS, EdM, MFA)</td>\n",
              "      <td>NaN</td>\n",
              "      <td>0</td>\n",
              "      <td>3/15/2022</td>\n",
              "      <td>175</td>\n",
              "      <td>Domestic</td>\n",
              "      <td>Fall 2022</td>\n",
              "      <td>22.0</td>\n",
              "      <td>07009-1245</td>\n",
              "      <td>New Jersey</td>\n",
              "      <td>United States</td>\n",
              "      <td>Mount Olive High School</td>\n",
              "      <td>Male</td>\n",
              "      <td>Asian</td>\n",
              "      <td>Biology: Computational and Integrative (MS)</td>\n",
              "      <td>Started App</td>\n",
              "    </tr>\n",
              "  </tbody>\n",
              "</table>\n",
              "</div>\n",
              "      <button class=\"colab-df-convert\" onclick=\"convertToInteractive('df-c5c7263c-9cbb-4bb4-a019-5b3577d91efd')\"\n",
              "              title=\"Convert this dataframe to an interactive table.\"\n",
              "              style=\"display:none;\">\n",
              "        \n",
              "  <svg xmlns=\"http://www.w3.org/2000/svg\" height=\"24px\"viewBox=\"0 0 24 24\"\n",
              "       width=\"24px\">\n",
              "    <path d=\"M0 0h24v24H0V0z\" fill=\"none\"/>\n",
              "    <path d=\"M18.56 5.44l.94 2.06.94-2.06 2.06-.94-2.06-.94-.94-2.06-.94 2.06-2.06.94zm-11 1L8.5 8.5l.94-2.06 2.06-.94-2.06-.94L8.5 2.5l-.94 2.06-2.06.94zm10 10l.94 2.06.94-2.06 2.06-.94-2.06-.94-.94-2.06-.94 2.06-2.06.94z\"/><path d=\"M17.41 7.96l-1.37-1.37c-.4-.4-.92-.59-1.43-.59-.52 0-1.04.2-1.43.59L10.3 9.45l-7.72 7.72c-.78.78-.78 2.05 0 2.83L4 21.41c.39.39.9.59 1.41.59.51 0 1.02-.2 1.41-.59l7.78-7.78 2.81-2.81c.8-.78.8-2.07 0-2.86zM5.41 20L4 18.59l7.72-7.72 1.47 1.35L5.41 20z\"/>\n",
              "  </svg>\n",
              "      </button>\n",
              "      \n",
              "  <style>\n",
              "    .colab-df-container {\n",
              "      display:flex;\n",
              "      flex-wrap:wrap;\n",
              "      gap: 12px;\n",
              "    }\n",
              "\n",
              "    .colab-df-convert {\n",
              "      background-color: #E8F0FE;\n",
              "      border: none;\n",
              "      border-radius: 50%;\n",
              "      cursor: pointer;\n",
              "      display: none;\n",
              "      fill: #1967D2;\n",
              "      height: 32px;\n",
              "      padding: 0 0 0 0;\n",
              "      width: 32px;\n",
              "    }\n",
              "\n",
              "    .colab-df-convert:hover {\n",
              "      background-color: #E2EBFA;\n",
              "      box-shadow: 0px 1px 2px rgba(60, 64, 67, 0.3), 0px 1px 3px 1px rgba(60, 64, 67, 0.15);\n",
              "      fill: #174EA6;\n",
              "    }\n",
              "\n",
              "    [theme=dark] .colab-df-convert {\n",
              "      background-color: #3B4455;\n",
              "      fill: #D2E3FC;\n",
              "    }\n",
              "\n",
              "    [theme=dark] .colab-df-convert:hover {\n",
              "      background-color: #434B5C;\n",
              "      box-shadow: 0px 1px 3px 1px rgba(0, 0, 0, 0.15);\n",
              "      filter: drop-shadow(0px 1px 2px rgba(0, 0, 0, 0.3));\n",
              "      fill: #FFFFFF;\n",
              "    }\n",
              "  </style>\n",
              "\n",
              "      <script>\n",
              "        const buttonEl =\n",
              "          document.querySelector('#df-c5c7263c-9cbb-4bb4-a019-5b3577d91efd button.colab-df-convert');\n",
              "        buttonEl.style.display =\n",
              "          google.colab.kernel.accessAllowed ? 'block' : 'none';\n",
              "\n",
              "        async function convertToInteractive(key) {\n",
              "          const element = document.querySelector('#df-c5c7263c-9cbb-4bb4-a019-5b3577d91efd');\n",
              "          const dataTable =\n",
              "            await google.colab.kernel.invokeFunction('convertToInteractive',\n",
              "                                                     [key], {});\n",
              "          if (!dataTable) return;\n",
              "\n",
              "          const docLinkHtml = 'Like what you see? Visit the ' +\n",
              "            '<a target=\"_blank\" href=https://colab.research.google.com/notebooks/data_table.ipynb>data table notebook</a>'\n",
              "            + ' to learn more about interactive tables.';\n",
              "          element.innerHTML = '';\n",
              "          dataTable['output_type'] = 'display_data';\n",
              "          await google.colab.output.renderOutput(dataTable, element);\n",
              "          const docLink = document.createElement('div');\n",
              "          docLink.innerHTML = docLinkHtml;\n",
              "          element.appendChild(docLink);\n",
              "        }\n",
              "      </script>\n",
              "    </div>\n",
              "  </div>\n",
              "  "
            ]
          },
          "metadata": {},
          "execution_count": 6
        }
      ]
    },
    {
      "cell_type": "code",
      "source": [
        "appdat.dtypes"
      ],
      "metadata": {
        "colab": {
          "base_uri": "https://localhost:8080/"
        },
        "id": "pz-JiHB4FPUA",
        "outputId": "62dd636d-3e64-49d8-ba1a-d9ed5b7a8bb3"
      },
      "execution_count": 7,
      "outputs": [
        {
          "output_type": "execute_result",
          "data": {
            "text/plain": [
              "ID                                                     int64\n",
              "Degree Type                                           object\n",
              "Final Recommended Decision                            object\n",
              "Admit-Coming                                           int64\n",
              "Application Created Date                              object\n",
              "Days Before the Beginning of Semester                  int64\n",
              "Domestic or INTL Applicant                            object\n",
              "Reporting Term                                        object\n",
              "Age When Applied                                     float64\n",
              "Mailing Zip/Postal Code                               object\n",
              "Mailing State/Province                                object\n",
              "Mailing Country                                       object\n",
              "Most Recent Educational Institution: Account Name     object\n",
              "Gender                                                object\n",
              "Race                                                  object\n",
              "Program Selection: Program Selection Name             object\n",
              "Admissions Status                                     object\n",
              "dtype: object"
            ]
          },
          "metadata": {},
          "execution_count": 7
        }
      ]
    },
    {
      "cell_type": "code",
      "source": [
        "appdat = appdat.drop(['Degree Type','Domestic or INTL Applicant','Age When Applied'],axis=1)"
      ],
      "metadata": {
        "id": "DV5JJKD3IjsN"
      },
      "execution_count": 8,
      "outputs": []
    },
    {
      "cell_type": "code",
      "source": [
        "appdat.head(3)"
      ],
      "metadata": {
        "colab": {
          "base_uri": "https://localhost:8080/",
          "height": 502
        },
        "id": "tcJgUs3JJIIo",
        "outputId": "a33feacb-6679-4722-9b3d-cf1299ae82b2"
      },
      "execution_count": 9,
      "outputs": [
        {
          "output_type": "execute_result",
          "data": {
            "text/plain": [
              "   ID  Final Recommended Decision  Admit-Coming Application Created Date  \\\n",
              "0    1                        NaN             0                12/7/2021   \n",
              "1    2                        NaN             0                 1/2/2022   \n",
              "2    3                        NaN             0                3/15/2022   \n",
              "\n",
              "   Days Before the Beginning of Semester  Reporting Term  \\\n",
              "0                                     273      Fall 2022   \n",
              "1                                     247      Fall 2022   \n",
              "2                                     175      Fall 2022   \n",
              "\n",
              "  Mailing Zip/Postal Code Mailing State/Province Mailing Country  \\\n",
              "0                   56407              Pradesh 2           Nepal   \n",
              "1                  380058                Gujarat           India   \n",
              "2              07009-1245             New Jersey   United States   \n",
              "\n",
              "  Most Recent Educational Institution: Account Name  Gender   Race  \\\n",
              "0                    Vellore Institute Of Technolog    Male  Asian   \n",
              "1                              Ahmedabad University  Female  Asian   \n",
              "2                           Mount Olive High School    Male  Asian   \n",
              "\n",
              "     Program Selection: Program Selection Name Admissions Status  \n",
              "0  Biology: Computational and Integrative (MS)       Started App  \n",
              "1  Biology: Computational and Integrative (MS)       Started App  \n",
              "2  Biology: Computational and Integrative (MS)       Started App  "
            ],
            "text/html": [
              "\n",
              "  <div id=\"df-f259d9ae-12de-4bad-8cca-340f9ec110ef\">\n",
              "    <div class=\"colab-df-container\">\n",
              "      <div>\n",
              "<style scoped>\n",
              "    .dataframe tbody tr th:only-of-type {\n",
              "        vertical-align: middle;\n",
              "    }\n",
              "\n",
              "    .dataframe tbody tr th {\n",
              "        vertical-align: top;\n",
              "    }\n",
              "\n",
              "    .dataframe thead th {\n",
              "        text-align: right;\n",
              "    }\n",
              "</style>\n",
              "<table border=\"1\" class=\"dataframe\">\n",
              "  <thead>\n",
              "    <tr style=\"text-align: right;\">\n",
              "      <th></th>\n",
              "      <th>ID</th>\n",
              "      <th>Final Recommended Decision</th>\n",
              "      <th>Admit-Coming</th>\n",
              "      <th>Application Created Date</th>\n",
              "      <th>Days Before the Beginning of Semester</th>\n",
              "      <th>Reporting Term</th>\n",
              "      <th>Mailing Zip/Postal Code</th>\n",
              "      <th>Mailing State/Province</th>\n",
              "      <th>Mailing Country</th>\n",
              "      <th>Most Recent Educational Institution: Account Name</th>\n",
              "      <th>Gender</th>\n",
              "      <th>Race</th>\n",
              "      <th>Program Selection: Program Selection Name</th>\n",
              "      <th>Admissions Status</th>\n",
              "    </tr>\n",
              "  </thead>\n",
              "  <tbody>\n",
              "    <tr>\n",
              "      <th>0</th>\n",
              "      <td>1</td>\n",
              "      <td>NaN</td>\n",
              "      <td>0</td>\n",
              "      <td>12/7/2021</td>\n",
              "      <td>273</td>\n",
              "      <td>Fall 2022</td>\n",
              "      <td>56407</td>\n",
              "      <td>Pradesh 2</td>\n",
              "      <td>Nepal</td>\n",
              "      <td>Vellore Institute Of Technolog</td>\n",
              "      <td>Male</td>\n",
              "      <td>Asian</td>\n",
              "      <td>Biology: Computational and Integrative (MS)</td>\n",
              "      <td>Started App</td>\n",
              "    </tr>\n",
              "    <tr>\n",
              "      <th>1</th>\n",
              "      <td>2</td>\n",
              "      <td>NaN</td>\n",
              "      <td>0</td>\n",
              "      <td>1/2/2022</td>\n",
              "      <td>247</td>\n",
              "      <td>Fall 2022</td>\n",
              "      <td>380058</td>\n",
              "      <td>Gujarat</td>\n",
              "      <td>India</td>\n",
              "      <td>Ahmedabad University</td>\n",
              "      <td>Female</td>\n",
              "      <td>Asian</td>\n",
              "      <td>Biology: Computational and Integrative (MS)</td>\n",
              "      <td>Started App</td>\n",
              "    </tr>\n",
              "    <tr>\n",
              "      <th>2</th>\n",
              "      <td>3</td>\n",
              "      <td>NaN</td>\n",
              "      <td>0</td>\n",
              "      <td>3/15/2022</td>\n",
              "      <td>175</td>\n",
              "      <td>Fall 2022</td>\n",
              "      <td>07009-1245</td>\n",
              "      <td>New Jersey</td>\n",
              "      <td>United States</td>\n",
              "      <td>Mount Olive High School</td>\n",
              "      <td>Male</td>\n",
              "      <td>Asian</td>\n",
              "      <td>Biology: Computational and Integrative (MS)</td>\n",
              "      <td>Started App</td>\n",
              "    </tr>\n",
              "  </tbody>\n",
              "</table>\n",
              "</div>\n",
              "      <button class=\"colab-df-convert\" onclick=\"convertToInteractive('df-f259d9ae-12de-4bad-8cca-340f9ec110ef')\"\n",
              "              title=\"Convert this dataframe to an interactive table.\"\n",
              "              style=\"display:none;\">\n",
              "        \n",
              "  <svg xmlns=\"http://www.w3.org/2000/svg\" height=\"24px\"viewBox=\"0 0 24 24\"\n",
              "       width=\"24px\">\n",
              "    <path d=\"M0 0h24v24H0V0z\" fill=\"none\"/>\n",
              "    <path d=\"M18.56 5.44l.94 2.06.94-2.06 2.06-.94-2.06-.94-.94-2.06-.94 2.06-2.06.94zm-11 1L8.5 8.5l.94-2.06 2.06-.94-2.06-.94L8.5 2.5l-.94 2.06-2.06.94zm10 10l.94 2.06.94-2.06 2.06-.94-2.06-.94-.94-2.06-.94 2.06-2.06.94z\"/><path d=\"M17.41 7.96l-1.37-1.37c-.4-.4-.92-.59-1.43-.59-.52 0-1.04.2-1.43.59L10.3 9.45l-7.72 7.72c-.78.78-.78 2.05 0 2.83L4 21.41c.39.39.9.59 1.41.59.51 0 1.02-.2 1.41-.59l7.78-7.78 2.81-2.81c.8-.78.8-2.07 0-2.86zM5.41 20L4 18.59l7.72-7.72 1.47 1.35L5.41 20z\"/>\n",
              "  </svg>\n",
              "      </button>\n",
              "      \n",
              "  <style>\n",
              "    .colab-df-container {\n",
              "      display:flex;\n",
              "      flex-wrap:wrap;\n",
              "      gap: 12px;\n",
              "    }\n",
              "\n",
              "    .colab-df-convert {\n",
              "      background-color: #E8F0FE;\n",
              "      border: none;\n",
              "      border-radius: 50%;\n",
              "      cursor: pointer;\n",
              "      display: none;\n",
              "      fill: #1967D2;\n",
              "      height: 32px;\n",
              "      padding: 0 0 0 0;\n",
              "      width: 32px;\n",
              "    }\n",
              "\n",
              "    .colab-df-convert:hover {\n",
              "      background-color: #E2EBFA;\n",
              "      box-shadow: 0px 1px 2px rgba(60, 64, 67, 0.3), 0px 1px 3px 1px rgba(60, 64, 67, 0.15);\n",
              "      fill: #174EA6;\n",
              "    }\n",
              "\n",
              "    [theme=dark] .colab-df-convert {\n",
              "      background-color: #3B4455;\n",
              "      fill: #D2E3FC;\n",
              "    }\n",
              "\n",
              "    [theme=dark] .colab-df-convert:hover {\n",
              "      background-color: #434B5C;\n",
              "      box-shadow: 0px 1px 3px 1px rgba(0, 0, 0, 0.15);\n",
              "      filter: drop-shadow(0px 1px 2px rgba(0, 0, 0, 0.3));\n",
              "      fill: #FFFFFF;\n",
              "    }\n",
              "  </style>\n",
              "\n",
              "      <script>\n",
              "        const buttonEl =\n",
              "          document.querySelector('#df-f259d9ae-12de-4bad-8cca-340f9ec110ef button.colab-df-convert');\n",
              "        buttonEl.style.display =\n",
              "          google.colab.kernel.accessAllowed ? 'block' : 'none';\n",
              "\n",
              "        async function convertToInteractive(key) {\n",
              "          const element = document.querySelector('#df-f259d9ae-12de-4bad-8cca-340f9ec110ef');\n",
              "          const dataTable =\n",
              "            await google.colab.kernel.invokeFunction('convertToInteractive',\n",
              "                                                     [key], {});\n",
              "          if (!dataTable) return;\n",
              "\n",
              "          const docLinkHtml = 'Like what you see? Visit the ' +\n",
              "            '<a target=\"_blank\" href=https://colab.research.google.com/notebooks/data_table.ipynb>data table notebook</a>'\n",
              "            + ' to learn more about interactive tables.';\n",
              "          element.innerHTML = '';\n",
              "          dataTable['output_type'] = 'display_data';\n",
              "          await google.colab.output.renderOutput(dataTable, element);\n",
              "          const docLink = document.createElement('div');\n",
              "          docLink.innerHTML = docLinkHtml;\n",
              "          element.appendChild(docLink);\n",
              "        }\n",
              "      </script>\n",
              "    </div>\n",
              "  </div>\n",
              "  "
            ]
          },
          "metadata": {},
          "execution_count": 9
        }
      ]
    },
    {
      "cell_type": "code",
      "source": [
        "appdat = appdat.rename(columns={'Mailing Zip/Postal Code':\"Zip\", \"Mailing State/Province\":\"State\",\"Mailing Country\":\"Country\" })\n",
        "appdat.head(3)"
      ],
      "metadata": {
        "colab": {
          "base_uri": "https://localhost:8080/",
          "height": 430
        },
        "id": "7hO9I2uQJTq0",
        "outputId": "fc5792f9-7288-4c3f-f1d1-8b80452b8675"
      },
      "execution_count": 10,
      "outputs": [
        {
          "output_type": "execute_result",
          "data": {
            "text/plain": [
              "   ID  Final Recommended Decision  Admit-Coming Application Created Date  \\\n",
              "0    1                        NaN             0                12/7/2021   \n",
              "1    2                        NaN             0                 1/2/2022   \n",
              "2    3                        NaN             0                3/15/2022   \n",
              "\n",
              "   Days Before the Beginning of Semester  Reporting Term         Zip  \\\n",
              "0                                     273      Fall 2022       56407   \n",
              "1                                     247      Fall 2022      380058   \n",
              "2                                     175      Fall 2022  07009-1245   \n",
              "\n",
              "        State        Country  \\\n",
              "0   Pradesh 2          Nepal   \n",
              "1     Gujarat          India   \n",
              "2  New Jersey  United States   \n",
              "\n",
              "  Most Recent Educational Institution: Account Name  Gender   Race  \\\n",
              "0                    Vellore Institute Of Technolog    Male  Asian   \n",
              "1                              Ahmedabad University  Female  Asian   \n",
              "2                           Mount Olive High School    Male  Asian   \n",
              "\n",
              "     Program Selection: Program Selection Name Admissions Status  \n",
              "0  Biology: Computational and Integrative (MS)       Started App  \n",
              "1  Biology: Computational and Integrative (MS)       Started App  \n",
              "2  Biology: Computational and Integrative (MS)       Started App  "
            ],
            "text/html": [
              "\n",
              "  <div id=\"df-a46244cf-6e98-47b2-a614-ac1a3caf264c\">\n",
              "    <div class=\"colab-df-container\">\n",
              "      <div>\n",
              "<style scoped>\n",
              "    .dataframe tbody tr th:only-of-type {\n",
              "        vertical-align: middle;\n",
              "    }\n",
              "\n",
              "    .dataframe tbody tr th {\n",
              "        vertical-align: top;\n",
              "    }\n",
              "\n",
              "    .dataframe thead th {\n",
              "        text-align: right;\n",
              "    }\n",
              "</style>\n",
              "<table border=\"1\" class=\"dataframe\">\n",
              "  <thead>\n",
              "    <tr style=\"text-align: right;\">\n",
              "      <th></th>\n",
              "      <th>ID</th>\n",
              "      <th>Final Recommended Decision</th>\n",
              "      <th>Admit-Coming</th>\n",
              "      <th>Application Created Date</th>\n",
              "      <th>Days Before the Beginning of Semester</th>\n",
              "      <th>Reporting Term</th>\n",
              "      <th>Zip</th>\n",
              "      <th>State</th>\n",
              "      <th>Country</th>\n",
              "      <th>Most Recent Educational Institution: Account Name</th>\n",
              "      <th>Gender</th>\n",
              "      <th>Race</th>\n",
              "      <th>Program Selection: Program Selection Name</th>\n",
              "      <th>Admissions Status</th>\n",
              "    </tr>\n",
              "  </thead>\n",
              "  <tbody>\n",
              "    <tr>\n",
              "      <th>0</th>\n",
              "      <td>1</td>\n",
              "      <td>NaN</td>\n",
              "      <td>0</td>\n",
              "      <td>12/7/2021</td>\n",
              "      <td>273</td>\n",
              "      <td>Fall 2022</td>\n",
              "      <td>56407</td>\n",
              "      <td>Pradesh 2</td>\n",
              "      <td>Nepal</td>\n",
              "      <td>Vellore Institute Of Technolog</td>\n",
              "      <td>Male</td>\n",
              "      <td>Asian</td>\n",
              "      <td>Biology: Computational and Integrative (MS)</td>\n",
              "      <td>Started App</td>\n",
              "    </tr>\n",
              "    <tr>\n",
              "      <th>1</th>\n",
              "      <td>2</td>\n",
              "      <td>NaN</td>\n",
              "      <td>0</td>\n",
              "      <td>1/2/2022</td>\n",
              "      <td>247</td>\n",
              "      <td>Fall 2022</td>\n",
              "      <td>380058</td>\n",
              "      <td>Gujarat</td>\n",
              "      <td>India</td>\n",
              "      <td>Ahmedabad University</td>\n",
              "      <td>Female</td>\n",
              "      <td>Asian</td>\n",
              "      <td>Biology: Computational and Integrative (MS)</td>\n",
              "      <td>Started App</td>\n",
              "    </tr>\n",
              "    <tr>\n",
              "      <th>2</th>\n",
              "      <td>3</td>\n",
              "      <td>NaN</td>\n",
              "      <td>0</td>\n",
              "      <td>3/15/2022</td>\n",
              "      <td>175</td>\n",
              "      <td>Fall 2022</td>\n",
              "      <td>07009-1245</td>\n",
              "      <td>New Jersey</td>\n",
              "      <td>United States</td>\n",
              "      <td>Mount Olive High School</td>\n",
              "      <td>Male</td>\n",
              "      <td>Asian</td>\n",
              "      <td>Biology: Computational and Integrative (MS)</td>\n",
              "      <td>Started App</td>\n",
              "    </tr>\n",
              "  </tbody>\n",
              "</table>\n",
              "</div>\n",
              "      <button class=\"colab-df-convert\" onclick=\"convertToInteractive('df-a46244cf-6e98-47b2-a614-ac1a3caf264c')\"\n",
              "              title=\"Convert this dataframe to an interactive table.\"\n",
              "              style=\"display:none;\">\n",
              "        \n",
              "  <svg xmlns=\"http://www.w3.org/2000/svg\" height=\"24px\"viewBox=\"0 0 24 24\"\n",
              "       width=\"24px\">\n",
              "    <path d=\"M0 0h24v24H0V0z\" fill=\"none\"/>\n",
              "    <path d=\"M18.56 5.44l.94 2.06.94-2.06 2.06-.94-2.06-.94-.94-2.06-.94 2.06-2.06.94zm-11 1L8.5 8.5l.94-2.06 2.06-.94-2.06-.94L8.5 2.5l-.94 2.06-2.06.94zm10 10l.94 2.06.94-2.06 2.06-.94-2.06-.94-.94-2.06-.94 2.06-2.06.94z\"/><path d=\"M17.41 7.96l-1.37-1.37c-.4-.4-.92-.59-1.43-.59-.52 0-1.04.2-1.43.59L10.3 9.45l-7.72 7.72c-.78.78-.78 2.05 0 2.83L4 21.41c.39.39.9.59 1.41.59.51 0 1.02-.2 1.41-.59l7.78-7.78 2.81-2.81c.8-.78.8-2.07 0-2.86zM5.41 20L4 18.59l7.72-7.72 1.47 1.35L5.41 20z\"/>\n",
              "  </svg>\n",
              "      </button>\n",
              "      \n",
              "  <style>\n",
              "    .colab-df-container {\n",
              "      display:flex;\n",
              "      flex-wrap:wrap;\n",
              "      gap: 12px;\n",
              "    }\n",
              "\n",
              "    .colab-df-convert {\n",
              "      background-color: #E8F0FE;\n",
              "      border: none;\n",
              "      border-radius: 50%;\n",
              "      cursor: pointer;\n",
              "      display: none;\n",
              "      fill: #1967D2;\n",
              "      height: 32px;\n",
              "      padding: 0 0 0 0;\n",
              "      width: 32px;\n",
              "    }\n",
              "\n",
              "    .colab-df-convert:hover {\n",
              "      background-color: #E2EBFA;\n",
              "      box-shadow: 0px 1px 2px rgba(60, 64, 67, 0.3), 0px 1px 3px 1px rgba(60, 64, 67, 0.15);\n",
              "      fill: #174EA6;\n",
              "    }\n",
              "\n",
              "    [theme=dark] .colab-df-convert {\n",
              "      background-color: #3B4455;\n",
              "      fill: #D2E3FC;\n",
              "    }\n",
              "\n",
              "    [theme=dark] .colab-df-convert:hover {\n",
              "      background-color: #434B5C;\n",
              "      box-shadow: 0px 1px 3px 1px rgba(0, 0, 0, 0.15);\n",
              "      filter: drop-shadow(0px 1px 2px rgba(0, 0, 0, 0.3));\n",
              "      fill: #FFFFFF;\n",
              "    }\n",
              "  </style>\n",
              "\n",
              "      <script>\n",
              "        const buttonEl =\n",
              "          document.querySelector('#df-a46244cf-6e98-47b2-a614-ac1a3caf264c button.colab-df-convert');\n",
              "        buttonEl.style.display =\n",
              "          google.colab.kernel.accessAllowed ? 'block' : 'none';\n",
              "\n",
              "        async function convertToInteractive(key) {\n",
              "          const element = document.querySelector('#df-a46244cf-6e98-47b2-a614-ac1a3caf264c');\n",
              "          const dataTable =\n",
              "            await google.colab.kernel.invokeFunction('convertToInteractive',\n",
              "                                                     [key], {});\n",
              "          if (!dataTable) return;\n",
              "\n",
              "          const docLinkHtml = 'Like what you see? Visit the ' +\n",
              "            '<a target=\"_blank\" href=https://colab.research.google.com/notebooks/data_table.ipynb>data table notebook</a>'\n",
              "            + ' to learn more about interactive tables.';\n",
              "          element.innerHTML = '';\n",
              "          dataTable['output_type'] = 'display_data';\n",
              "          await google.colab.output.renderOutput(dataTable, element);\n",
              "          const docLink = document.createElement('div');\n",
              "          docLink.innerHTML = docLinkHtml;\n",
              "          element.appendChild(docLink);\n",
              "        }\n",
              "      </script>\n",
              "    </div>\n",
              "  </div>\n",
              "  "
            ]
          },
          "metadata": {},
          "execution_count": 10
        }
      ]
    },
    {
      "cell_type": "code",
      "source": [
        "#I need to find the New Jersey Applicants, but I know the Zips and the State fields are not clean. I need to figure out what I am working with. \n",
        "print(appdat.State.unique())"
      ],
      "metadata": {
        "colab": {
          "base_uri": "https://localhost:8080/"
        },
        "id": "S9UMLvZBr3ja",
        "outputId": "ad1fab89-a2e0-4854-8b09-7fdd56cc4aa8"
      },
      "execution_count": 11,
      "outputs": [
        {
          "output_type": "stream",
          "name": "stdout",
          "text": [
            "['Pradesh 2' 'Gujarat' 'New Jersey' 'ENUGU' 'Telangana' 'Beijing'\n",
            " 'Haryana' 'In-Tn' 'Yunnan' 'Lagos' 'Odisha' 'Delhi' 'Rajasthan'\n",
            " 'West Bengal' 'Tamil Nadu' 'Maryland' 'Uttar Pradesh' 'IN' 'New York'\n",
            " 'Ohio' nan 'west bengal' 'Shanxi' 'Assam' 'England'\n",
            " 'Federal Capital Territory' 'mazandaran' 'Pennsylvania' 'Illinois'\n",
            " 'Tehran' 'Delaware' 'Ardebi' 'Massachusetts' 'West Virginia' 'PA'\n",
            " 'Virginia' 'NJ' 'In-Hr' 'AN' 'Rivers state' 'Baranya' 'Colorado'\n",
            " 'Banasree' 'Plateau' 'Saint Catherine' 'Serekunda' 'Imo'\n",
            " 'North Rhine-Westphalia' 'California' 'Anambra' 'Kerala' 'Eastern'\n",
            " 'Ashanti' 'Washington' 'MAHARASHTRA' 'Punjab' 'Rhode Island' 'Dhaka'\n",
            " 'Dhaka Division' 'Missouri' 'Bagmati' 'Seoul' 'Edo' 'Karnataka'\n",
            " 'Maharashtra' 'Tamilnadu' 'Western Area' 'Kinondoni' 'LAGOS' 'Rivers'\n",
            " 'TELANGANA' 'Ashanti Region' 'Ghana' 'Western Province' 'NY' 'Ondo'\n",
            " 'Kiambu' 'Madhya Pradesh' 'Greater Accra' 'Kaduna' 'Isfahan' 'In-Dl'\n",
            " 'Harare' 'New Hampshire' 'Indiana' 'Tabuk' 'FCT' 'Oregon' 'AP' 'Osun'\n",
            " 'Oyo' 'Ogun' 'Guilan' 'Western Cape' 'Central Region' 'Italy'\n",
            " 'Maine-et-Loire' 'Egypt' 'UK' 'Kwara' 'Unknown' 'Andhra Pradesh'\n",
            " 'gujarat' 'bagmati' 'Pollobi' 'Shandong' 'Montserrado' 'Shanghai'\n",
            " 'ANDHRA PRADESH' 'Federal capital territory' 'Zhejiang Province' 'In-Ap'\n",
            " 'Lagos State' 'karnataka' 'Jiangxi' 'Istanbul' 'Andhra Predesh' 'lagos'\n",
            " 'GUJARAT' '1' 'In-Mh' 'AZ' 'Guangdong' 'New Delhi' 'Hunan' 'Maharashatra'\n",
            " 'Eastern Province' 'Rangpur Division' 'In-Tg' 'Andhra pradesh' 'In-Br'\n",
            " 'HARYANA' 'In-Rj' 'FL' 'In-Up' 'AndhraPradesh' 'State' 'Tamil nadu'\n",
            " 'Bihar' 'Central' 'Mahrashtra' '522615' 'Cn-Sh' 'Arizona' 'Texas' 'Anhui'\n",
            " 'Wisconsin' 'North Carolina' 'Minnesota' 'Georgia' 'Iowa' 'Alabama'\n",
            " 'Gyeonggi-do' 'MA' 'Tennessee' 'Mississippi' 'BC' 'District Of Columbia'\n",
            " 'Florida' 'Montana' 'Connecticut' 'Fujian' 'WI' 'OH' 'MD' 'Vermont'\n",
            " 'Lousiana' 'ON' 'Nevada' 'MI' 'CA' 'Ontario' 'Michigan' 'Manisa' 'Dubai'\n",
            " 'Sindh' 'Santa Catarina' 'DC' 'Makkah' 'Nj' 'new jersey' 'Select One...'\n",
            " 'TX' 'Louisiana' 'Al ???imah' 'Henan' 'Taoyuan' 'madhya pradesh'\n",
            " 'Kashmir' 'Bono' 'Greater Manchester' 'Lagos, Nigeria' 'Idaho' 'Kansas'\n",
            " 'CT' 'Khorasan Razavi' 'Nevsehir' 'Sichuan' 'RI' 'RJ' 'Oyo State' 'md'\n",
            " 'St.Andrew' 'Canelones' 'Al Wakrah' 'St. James' 'Puerto Rico'\n",
            " 'Chittagong Division' 'Mombasa' 'Delta' 'AE' 'NM' 'Nebraska' 'Ekiti'\n",
            " 'Lima' 'Maine' 'Arkansas' 'METRO MANILA' 'National Capital Region'\n",
            " 'texas' 'Armed Forces' 'British Columbia' 'Delta State' 'New Mexico'\n",
            " 'St. Andrew' 'Gilan' 'Hunan Province' 'Kebbi State' 'In-Kl'\n",
            " 'Not Specified' 'Yazd' 'Novara' 'Edirne' 'Tartu Linn' 'South Carolina'\n",
            " 'District of Columbia' 'KS' 'Kurdistan' 'Mazandaran'\n",
            " 'Azarbayjan-e Sharqi' 'Select State' 'Selangor' 'South' 'Plateau/Nigeria'\n",
            " 'pa' 'WESTERN' 'Rio de Janeiro' 'Riga' 'Lagos State, Nigeria'\n",
            " 'Central region' 'Ogun State' 'Greater-Accra' 'Flanders' 'nj' 'Littoral'\n",
            " 'Ankara/Çankaya' 'KP' 'Cankaya' 'Ganja' 'Shanxi Province' 'OK'\n",
            " 'F.C.T Abuja' 'Razavi Khorasan' 'KY' 'Sylhet']\n"
          ]
        }
      ]
    },
    {
      "cell_type": "code",
      "source": [
        "#Interesting that New York is higher than Pennsylvania. It's not that surprising though. It is surprising that we have almost as many applicants from states in India as Pennsylvania. \n",
        "appdat.State.value_counts().nlargest(10).plot(kind='bar',figsize=(10,5))\n",
        "plt.title(\"Number of Applications by State: Domestic and International (Unclean)\")\n",
        "plt.ylabel(\"Number of Applicants\")\n",
        "plt.xlabel(\"States\")\n",
        "#aok yes very productive to interpret right away; then when you write up paper just copy-paste the comment and elaborate"
      ],
      "metadata": {
        "colab": {
          "base_uri": "https://localhost:8080/",
          "height": 454
        },
        "id": "wd46FY75s68n",
        "outputId": "2cabb635-6b1f-41d7-b450-e1e16948aee4"
      },
      "execution_count": 17,
      "outputs": [
        {
          "output_type": "execute_result",
          "data": {
            "text/plain": [
              "<matplotlib.axes._subplots.AxesSubplot at 0x7faf54847fd0>"
            ]
          },
          "metadata": {},
          "execution_count": 17
        },
        {
          "output_type": "execute_result",
          "data": {
            "text/plain": [
              "Text(0.5, 1.0, 'Number of Applications by State: Domestic and International (Unclean)')"
            ]
          },
          "metadata": {},
          "execution_count": 17
        },
        {
          "output_type": "execute_result",
          "data": {
            "text/plain": [
              "Text(0, 0.5, 'Number of Applicants')"
            ]
          },
          "metadata": {},
          "execution_count": 17
        },
        {
          "output_type": "execute_result",
          "data": {
            "text/plain": [
              "Text(0.5, 0, 'States')"
            ]
          },
          "metadata": {},
          "execution_count": 17
        },
        {
          "output_type": "display_data",
          "data": {
            "text/plain": [
              "<Figure size 720x360 with 1 Axes>"
            ],
            "image/png": "[encoded data removed]"
          },
          "metadata": {
            "needs_background": "light"
          }
        }
      ]
    },
    {
      "cell_type": "code",
      "source": [
        "appdat[\"State\"].value_counts()"
      ],
      "metadata": {
        "colab": {
          "base_uri": "https://localhost:8080/"
        },
        "id": "OSaTMxiswlx3",
        "outputId": "de141de3-a889-4524-f2c8-27a65fa439a0"
      },
      "execution_count": 19,
      "outputs": [
        {
          "output_type": "execute_result",
          "data": {
            "text/plain": [
              "New Jersey       391\n",
              "New York          73\n",
              "Pennsylvania      60\n",
              "Telangana         56\n",
              "Maharashtra       50\n",
              "                ... \n",
              "In-Rj              1\n",
              "In-Up              1\n",
              "AndhraPradesh      1\n",
              "State              1\n",
              "Sylhet             1\n",
              "Name: State, Length: 264, dtype: int64"
            ]
          },
          "metadata": {},
          "execution_count": 19
        }
      ]
    },
    {
      "cell_type": "code",
      "source": [
        "#I need to get rid of the non-US apps so I can get to the New Jersey Apps. I can't easily see the different ways that New Jersey if all the states from all the countries are listed. \n",
        "#We need some data validation. Even country names have junk\n",
        "appdat.Country.value_counts().nlargest(10).plot(kind='bar',figsize=(10,5))\n",
        "plt.title(\"Number of Applications by Country (Unclean)\")\n",
        "plt.ylabel(\"Number of Applicants\")\n",
        "plt.xlabel(\"States\")"
      ],
      "metadata": {
        "colab": {
          "base_uri": "https://localhost:8080/",
          "height": 496
        },
        "id": "qDk3lusTzmOV",
        "outputId": "a75548b7-7314-4290-cc9b-f4314662c667"
      },
      "execution_count": 18,
      "outputs": [
        {
          "output_type": "execute_result",
          "data": {
            "text/plain": [
              "<matplotlib.axes._subplots.AxesSubplot at 0x7faf54870be0>"
            ]
          },
          "metadata": {},
          "execution_count": 18
        },
        {
          "output_type": "execute_result",
          "data": {
            "text/plain": [
              "Text(0.5, 1.0, 'Number of Applications by Country (Unclean)')"
            ]
          },
          "metadata": {},
          "execution_count": 18
        },
        {
          "output_type": "execute_result",
          "data": {
            "text/plain": [
              "Text(0, 0.5, 'Number of Applicants')"
            ]
          },
          "metadata": {},
          "execution_count": 18
        },
        {
          "output_type": "execute_result",
          "data": {
            "text/plain": [
              "Text(0.5, 0, 'States')"
            ]
          },
          "metadata": {},
          "execution_count": 18
        },
        {
          "output_type": "display_data",
          "data": {
            "text/plain": [
              "<Figure size 720x360 with 1 Axes>"
            ],
            "image/png": "[encoded data removed]"
          },
          "metadata": {
            "needs_background": "light"
          }
        }
      ]
    },
    {
      "cell_type": "code",
      "source": [
        "appdat[\"Country\"].value_counts()"
      ],
      "metadata": {
        "colab": {
          "base_uri": "https://localhost:8080/"
        },
        "id": "VB2v_ttmzPk8",
        "outputId": "c45e38a7-081b-42f3-db9d-d9c506bad7ce"
      },
      "execution_count": 20,
      "outputs": [
        {
          "output_type": "execute_result",
          "data": {
            "text/plain": [
              "United States                835\n",
              "India                        320\n",
              "Nigeria                       85\n",
              "China                         44\n",
              "Iran, Islamic Republic Of     32\n",
              "                            ... \n",
              "Singapore                      1\n",
              "Hungary                        1\n",
              "Senegal                        1\n",
              "Kyrgyzstan                     1\n",
              "Azerbaijan                     1\n",
              "Name: Country, Length: 62, dtype: int64"
            ]
          },
          "metadata": {},
          "execution_count": 20
        }
      ]
    },
    {
      "cell_type": "code",
      "source": [
        "print(appdat.Country.unique())"
      ],
      "metadata": {
        "colab": {
          "base_uri": "https://localhost:8080/"
        },
        "id": "iAyuAuRc3PQ2",
        "outputId": "9116e205-98db-4d63-f75a-1e7773434de5"
      },
      "execution_count": null,
      "outputs": [
        {
          "output_type": "stream",
          "name": "stdout",
          "text": [
            "['Nepal' 'India' 'United States' 'Nigeria' 'China' 'INDIA' 'Bangladesh'\n",
            " 'United Kingdom' 'Iran, Islamic Republic Of' 'Turkey' 'Ghana'\n",
            " 'Kyrgyzstan' 'Senegal' 'Korea, Republic of' 'Egypt' 'Hungary' 'Jamaica'\n",
            " 'Singapore' 'Taiwan' 'Gambia' 'Germany' 'Pakistan' nan 'BANGLADESH'\n",
            " 'United States of America' 'Sierra Leone' 'Tanzania, United Republic of'\n",
            " 'Sri Lanka' 'Kenya' 'Zimbabwe' 'Saudi Arabia' 'Trinidad and Tobago'\n",
            " 'South Africa' 'Malawi' 'Italy' 'France' 'Hong Kong' 'Liberia'\n",
            " 'Taiwan, Province Of China' 'Mexico' 'Russian Federation' 'Canada'\n",
            " 'United Arab Emirates' 'Brazil' 'Bahrain' 'Morocco' 'Kuwait' 'Uruguay'\n",
            " 'Qatar' 'Bahamas' 'Puerto Rico' 'Peru' 'Philippines' 'Costa Rica'\n",
            " 'Greece' 'Estonia' 'Malaysia' 'Lebanon' 'Latvia' 'Israel' 'Belgium'\n",
            " 'Cameroon' 'Azerbaijan']\n"
          ]
        }
      ]
    },
    {
      "cell_type": "code",
      "source": [
        "usappdat = appdat.query(\"Country=='United States'\")\n",
        "usappdat.head(3)"
      ],
      "metadata": {
        "colab": {
          "base_uri": "https://localhost:8080/",
          "height": 430
        },
        "id": "Y3QSGBMS6XU_",
        "outputId": "5e9b4181-2909-4e88-b0b6-5b512297b595"
      },
      "execution_count": 21,
      "outputs": [
        {
          "output_type": "execute_result",
          "data": {
            "text/plain": [
              "   ID  Final Recommended Decision  Admit-Coming Application Created Date  \\\n",
              "2    3                        NaN             0                3/15/2022   \n",
              "3    4                        NaN             0                3/31/2022   \n",
              "5    6                        NaN             0                4/20/2022   \n",
              "\n",
              "   Days Before the Beginning of Semester  Reporting Term         Zip  \\\n",
              "2                                     175      Fall 2022  07009-1245   \n",
              "3                                     159      Fall 2022  07726-4660   \n",
              "5                                     272    Spring 2023  08755-1914   \n",
              "\n",
              "        State        Country  \\\n",
              "2  New Jersey  United States   \n",
              "3  New Jersey  United States   \n",
              "5  New Jersey  United States   \n",
              "\n",
              "  Most Recent Educational Institution: Account Name  Gender  \\\n",
              "2                           Mount Olive High School    Male   \n",
              "3                                 Suny Colg Geneseo  Female   \n",
              "5                              Essex County College    Male   \n",
              "\n",
              "                        Race    Program Selection: Program Selection Name  \\\n",
              "2                      Asian  Biology: Computational and Integrative (MS)   \n",
              "3  Hispanic or Latino; White  Biology: Computational and Integrative (MS)   \n",
              "5  Black or African American  Biology: Computational and Integrative (MS)   \n",
              "\n",
              "  Admissions Status  \n",
              "2       Started App  \n",
              "3       Started App  \n",
              "5       Started App  "
            ],
            "text/html": [
              "\n",
              "  <div id=\"df-2ccea74d-c2bd-4588-9bbe-d3eb772695ce\">\n",
              "    <div class=\"colab-df-container\">\n",
              "      <div>\n",
              "<style scoped>\n",
              "    .dataframe tbody tr th:only-of-type {\n",
              "        vertical-align: middle;\n",
              "    }\n",
              "\n",
              "    .dataframe tbody tr th {\n",
              "        vertical-align: top;\n",
              "    }\n",
              "\n",
              "    .dataframe thead th {\n",
              "        text-align: right;\n",
              "    }\n",
              "</style>\n",
              "<table border=\"1\" class=\"dataframe\">\n",
              "  <thead>\n",
              "    <tr style=\"text-align: right;\">\n",
              "      <th></th>\n",
              "      <th>ID</th>\n",
              "      <th>Final Recommended Decision</th>\n",
              "      <th>Admit-Coming</th>\n",
              "      <th>Application Created Date</th>\n",
              "      <th>Days Before the Beginning of Semester</th>\n",
              "      <th>Reporting Term</th>\n",
              "      <th>Zip</th>\n",
              "      <th>State</th>\n",
              "      <th>Country</th>\n",
              "      <th>Most Recent Educational Institution: Account Name</th>\n",
              "      <th>Gender</th>\n",
              "      <th>Race</th>\n",
              "      <th>Program Selection: Program Selection Name</th>\n",
              "      <th>Admissions Status</th>\n",
              "    </tr>\n",
              "  </thead>\n",
              "  <tbody>\n",
              "    <tr>\n",
              "      <th>2</th>\n",
              "      <td>3</td>\n",
              "      <td>NaN</td>\n",
              "      <td>0</td>\n",
              "      <td>3/15/2022</td>\n",
              "      <td>175</td>\n",
              "      <td>Fall 2022</td>\n",
              "      <td>07009-1245</td>\n",
              "      <td>New Jersey</td>\n",
              "      <td>United States</td>\n",
              "      <td>Mount Olive High School</td>\n",
              "      <td>Male</td>\n",
              "      <td>Asian</td>\n",
              "      <td>Biology: Computational and Integrative (MS)</td>\n",
              "      <td>Started App</td>\n",
              "    </tr>\n",
              "    <tr>\n",
              "      <th>3</th>\n",
              "      <td>4</td>\n",
              "      <td>NaN</td>\n",
              "      <td>0</td>\n",
              "      <td>3/31/2022</td>\n",
              "      <td>159</td>\n",
              "      <td>Fall 2022</td>\n",
              "      <td>07726-4660</td>\n",
              "      <td>New Jersey</td>\n",
              "      <td>United States</td>\n",
              "      <td>Suny Colg Geneseo</td>\n",
              "      <td>Female</td>\n",
              "      <td>Hispanic or Latino; White</td>\n",
              "      <td>Biology: Computational and Integrative (MS)</td>\n",
              "      <td>Started App</td>\n",
              "    </tr>\n",
              "    <tr>\n",
              "      <th>5</th>\n",
              "      <td>6</td>\n",
              "      <td>NaN</td>\n",
              "      <td>0</td>\n",
              "      <td>4/20/2022</td>\n",
              "      <td>272</td>\n",
              "      <td>Spring 2023</td>\n",
              "      <td>08755-1914</td>\n",
              "      <td>New Jersey</td>\n",
              "      <td>United States</td>\n",
              "      <td>Essex County College</td>\n",
              "      <td>Male</td>\n",
              "      <td>Black or African American</td>\n",
              "      <td>Biology: Computational and Integrative (MS)</td>\n",
              "      <td>Started App</td>\n",
              "    </tr>\n",
              "  </tbody>\n",
              "</table>\n",
              "</div>\n",
              "      <button class=\"colab-df-convert\" onclick=\"convertToInteractive('df-2ccea74d-c2bd-4588-9bbe-d3eb772695ce')\"\n",
              "              title=\"Convert this dataframe to an interactive table.\"\n",
              "              style=\"display:none;\">\n",
              "        \n",
              "  <svg xmlns=\"http://www.w3.org/2000/svg\" height=\"24px\"viewBox=\"0 0 24 24\"\n",
              "       width=\"24px\">\n",
              "    <path d=\"M0 0h24v24H0V0z\" fill=\"none\"/>\n",
              "    <path d=\"M18.56 5.44l.94 2.06.94-2.06 2.06-.94-2.06-.94-.94-2.06-.94 2.06-2.06.94zm-11 1L8.5 8.5l.94-2.06 2.06-.94-2.06-.94L8.5 2.5l-.94 2.06-2.06.94zm10 10l.94 2.06.94-2.06 2.06-.94-2.06-.94-.94-2.06-.94 2.06-2.06.94z\"/><path d=\"M17.41 7.96l-1.37-1.37c-.4-.4-.92-.59-1.43-.59-.52 0-1.04.2-1.43.59L10.3 9.45l-7.72 7.72c-.78.78-.78 2.05 0 2.83L4 21.41c.39.39.9.59 1.41.59.51 0 1.02-.2 1.41-.59l7.78-7.78 2.81-2.81c.8-.78.8-2.07 0-2.86zM5.41 20L4 18.59l7.72-7.72 1.47 1.35L5.41 20z\"/>\n",
              "  </svg>\n",
              "      </button>\n",
              "      \n",
              "  <style>\n",
              "    .colab-df-container {\n",
              "      display:flex;\n",
              "      flex-wrap:wrap;\n",
              "      gap: 12px;\n",
              "    }\n",
              "\n",
              "    .colab-df-convert {\n",
              "      background-color: #E8F0FE;\n",
              "      border: none;\n",
              "      border-radius: 50%;\n",
              "      cursor: pointer;\n",
              "      display: none;\n",
              "      fill: #1967D2;\n",
              "      height: 32px;\n",
              "      padding: 0 0 0 0;\n",
              "      width: 32px;\n",
              "    }\n",
              "\n",
              "    .colab-df-convert:hover {\n",
              "      background-color: #E2EBFA;\n",
              "      box-shadow: 0px 1px 2px rgba(60, 64, 67, 0.3), 0px 1px 3px 1px rgba(60, 64, 67, 0.15);\n",
              "      fill: #174EA6;\n",
              "    }\n",
              "\n",
              "    [theme=dark] .colab-df-convert {\n",
              "      background-color: #3B4455;\n",
              "      fill: #D2E3FC;\n",
              "    }\n",
              "\n",
              "    [theme=dark] .colab-df-convert:hover {\n",
              "      background-color: #434B5C;\n",
              "      box-shadow: 0px 1px 3px 1px rgba(0, 0, 0, 0.15);\n",
              "      filter: drop-shadow(0px 1px 2px rgba(0, 0, 0, 0.3));\n",
              "      fill: #FFFFFF;\n",
              "    }\n",
              "  </style>\n",
              "\n",
              "      <script>\n",
              "        const buttonEl =\n",
              "          document.querySelector('#df-2ccea74d-c2bd-4588-9bbe-d3eb772695ce button.colab-df-convert');\n",
              "        buttonEl.style.display =\n",
              "          google.colab.kernel.accessAllowed ? 'block' : 'none';\n",
              "\n",
              "        async function convertToInteractive(key) {\n",
              "          const element = document.querySelector('#df-2ccea74d-c2bd-4588-9bbe-d3eb772695ce');\n",
              "          const dataTable =\n",
              "            await google.colab.kernel.invokeFunction('convertToInteractive',\n",
              "                                                     [key], {});\n",
              "          if (!dataTable) return;\n",
              "\n",
              "          const docLinkHtml = 'Like what you see? Visit the ' +\n",
              "            '<a target=\"_blank\" href=https://colab.research.google.com/notebooks/data_table.ipynb>data table notebook</a>'\n",
              "            + ' to learn more about interactive tables.';\n",
              "          element.innerHTML = '';\n",
              "          dataTable['output_type'] = 'display_data';\n",
              "          await google.colab.output.renderOutput(dataTable, element);\n",
              "          const docLink = document.createElement('div');\n",
              "          docLink.innerHTML = docLinkHtml;\n",
              "          element.appendChild(docLink);\n",
              "        }\n",
              "      </script>\n",
              "    </div>\n",
              "  </div>\n",
              "  "
            ]
          },
          "metadata": {},
          "execution_count": 21
        }
      ]
    },
    {
      "cell_type": "code",
      "source": [
        "#This is much easier to read. I can see the multiple ways New Jersey is listed in the data. I now need to isolate New Jersey. \n",
        "print(usappdat.State.unique())"
      ],
      "metadata": {
        "colab": {
          "base_uri": "https://localhost:8080/"
        },
        "id": "-4v-4d0P7zGG",
        "outputId": "1919bb9c-3585-4532-fa2f-4285af93ec5e"
      },
      "execution_count": 24,
      "outputs": [
        {
          "output_type": "stream",
          "name": "stdout",
          "text": [
            "['New Jersey' 'Maryland' 'New York' 'Ohio' 'Pennsylvania' 'Illinois'\n",
            " 'Delaware' 'Massachusetts' 'West Virginia' 'PA' 'Virginia' 'Colorado'\n",
            " 'California' 'Washington' 'Rhode Island' 'Missouri' 'NY' 'New Hampshire'\n",
            " 'Indiana' 'Oregon' 'AP' 'AZ' 'FL' 'Arizona' 'Texas' 'Wisconsin'\n",
            " 'North Carolina' 'Minnesota' 'Georgia' 'Iowa' 'Alabama' 'MA' 'Tennessee'\n",
            " 'Mississippi' 'District Of Columbia' 'Florida' 'Montana' 'Connecticut'\n",
            " 'WI' 'OH' 'MD' 'Vermont' 'Lousiana' 'Nevada' 'MI' 'CA' 'Michigan' 'DC'\n",
            " 'TX' 'Louisiana' 'Idaho' 'Kansas' 'CT' 'RI' 'md' 'AE' 'IN' 'NM'\n",
            " 'Nebraska' 'Maine' 'Arkansas' 'texas' 'Armed Forces' 'New Mexico'\n",
            " 'South Carolina' 'District of Columbia' 'KS' 'pa' 'OK' 'KY']\n"
          ]
        }
      ]
    },
    {
      "cell_type": "code",
      "source": [
        "usappdat['State']=usappdat['State'].replace(['NJ','Nj','new jersey','nj'],'New Jersey')"
      ],
      "metadata": {
        "colab": {
          "base_uri": "https://localhost:8080/"
        },
        "id": "perhO8xj8KTn",
        "outputId": "93342ffa-de47-4cbc-fe94-0856d218fd24"
      },
      "execution_count": 23,
      "outputs": [
        {
          "output_type": "stream",
          "name": "stderr",
          "text": [
            "<ipython-input-23-4fbae95450e2>:1: SettingWithCopyWarning: \n",
            "A value is trying to be set on a copy of a slice from a DataFrame.\n",
            "Try using .loc[row_indexer,col_indexer] = value instead\n",
            "\n",
            "See the caveats in the documentation: https://pandas.pydata.org/pandas-docs/stable/user_guide/indexing.html#returning-a-view-versus-a-copy\n",
            "  usappdat['State']=usappdat['State'].replace(['NJ','Nj','new jersey','nj'],'New Jersey')\n"
          ]
        }
      ]
    },
    {
      "cell_type": "code",
      "source": [
        "print(usappdat.State.unique()) #aok: not necessarily now, again we want to be efficient and only do whats necessary; but do make a note for yourself like eg:\n",
        "#KLUDGE or BUG or LATER: fix other states eg pa PA Pennsylvania etc\n",
        "#btw this can be probably easily fixed from the getgo: probably applicant types in state into box\n",
        "#contact IT to have a drop-down menu, then everything will be consistent"
      ],
      "metadata": {
        "colab": {
          "base_uri": "https://localhost:8080/"
        },
        "id": "chsC4i9J-xsr",
        "outputId": "8cca501a-f106-4d86-8886-0b2863f40425"
      },
      "execution_count": 25,
      "outputs": [
        {
          "output_type": "stream",
          "name": "stdout",
          "text": [
            "['New Jersey' 'Maryland' 'New York' 'Ohio' 'Pennsylvania' 'Illinois'\n",
            " 'Delaware' 'Massachusetts' 'West Virginia' 'PA' 'Virginia' 'Colorado'\n",
            " 'California' 'Washington' 'Rhode Island' 'Missouri' 'NY' 'New Hampshire'\n",
            " 'Indiana' 'Oregon' 'AP' 'AZ' 'FL' 'Arizona' 'Texas' 'Wisconsin'\n",
            " 'North Carolina' 'Minnesota' 'Georgia' 'Iowa' 'Alabama' 'MA' 'Tennessee'\n",
            " 'Mississippi' 'District Of Columbia' 'Florida' 'Montana' 'Connecticut'\n",
            " 'WI' 'OH' 'MD' 'Vermont' 'Lousiana' 'Nevada' 'MI' 'CA' 'Michigan' 'DC'\n",
            " 'TX' 'Louisiana' 'Idaho' 'Kansas' 'CT' 'RI' 'md' 'AE' 'IN' 'NM'\n",
            " 'Nebraska' 'Maine' 'Arkansas' 'texas' 'Armed Forces' 'New Mexico'\n",
            " 'South Carolina' 'District of Columbia' 'KS' 'pa' 'OK' 'KY']\n"
          ]
        }
      ]
    },
    {
      "cell_type": "code",
      "source": [
        "njappdat = usappdat.query(\"State=='New Jersey'\")\n",
        "njappdat.head(3)"
      ],
      "metadata": {
        "colab": {
          "base_uri": "https://localhost:8080/",
          "height": 430
        },
        "id": "gQQZZZw1_Taq",
        "outputId": "c60185ab-ef7e-4035-cd3b-1028f0498d6d"
      },
      "execution_count": 26,
      "outputs": [
        {
          "output_type": "execute_result",
          "data": {
            "text/plain": [
              "   ID  Final Recommended Decision  Admit-Coming Application Created Date  \\\n",
              "2    3                        NaN             0                3/15/2022   \n",
              "3    4                        NaN             0                3/31/2022   \n",
              "5    6                        NaN             0                4/20/2022   \n",
              "\n",
              "   Days Before the Beginning of Semester  Reporting Term         Zip  \\\n",
              "2                                     175      Fall 2022  07009-1245   \n",
              "3                                     159      Fall 2022  07726-4660   \n",
              "5                                     272    Spring 2023  08755-1914   \n",
              "\n",
              "        State        Country  \\\n",
              "2  New Jersey  United States   \n",
              "3  New Jersey  United States   \n",
              "5  New Jersey  United States   \n",
              "\n",
              "  Most Recent Educational Institution: Account Name  Gender  \\\n",
              "2                           Mount Olive High School    Male   \n",
              "3                                 Suny Colg Geneseo  Female   \n",
              "5                              Essex County College    Male   \n",
              "\n",
              "                        Race    Program Selection: Program Selection Name  \\\n",
              "2                      Asian  Biology: Computational and Integrative (MS)   \n",
              "3  Hispanic or Latino; White  Biology: Computational and Integrative (MS)   \n",
              "5  Black or African American  Biology: Computational and Integrative (MS)   \n",
              "\n",
              "  Admissions Status  \n",
              "2       Started App  \n",
              "3       Started App  \n",
              "5       Started App  "
            ],
            "text/html": [
              "\n",
              "  <div id=\"df-3078f7a5-b24b-4186-9d61-0272e62adef6\">\n",
              "    <div class=\"colab-df-container\">\n",
              "      <div>\n",
              "<style scoped>\n",
              "    .dataframe tbody tr th:only-of-type {\n",
              "        vertical-align: middle;\n",
              "    }\n",
              "\n",
              "    .dataframe tbody tr th {\n",
              "        vertical-align: top;\n",
              "    }\n",
              "\n",
              "    .dataframe thead th {\n",
              "        text-align: right;\n",
              "    }\n",
              "</style>\n",
              "<table border=\"1\" class=\"dataframe\">\n",
              "  <thead>\n",
              "    <tr style=\"text-align: right;\">\n",
              "      <th></th>\n",
              "      <th>ID</th>\n",
              "      <th>Final Recommended Decision</th>\n",
              "      <th>Admit-Coming</th>\n",
              "      <th>Application Created Date</th>\n",
              "      <th>Days Before the Beginning of Semester</th>\n",
              "      <th>Reporting Term</th>\n",
              "      <th>Zip</th>\n",
              "      <th>State</th>\n",
              "      <th>Country</th>\n",
              "      <th>Most Recent Educational Institution: Account Name</th>\n",
              "      <th>Gender</th>\n",
              "      <th>Race</th>\n",
              "      <th>Program Selection: Program Selection Name</th>\n",
              "      <th>Admissions Status</th>\n",
              "    </tr>\n",
              "  </thead>\n",
              "  <tbody>\n",
              "    <tr>\n",
              "      <th>2</th>\n",
              "      <td>3</td>\n",
              "      <td>NaN</td>\n",
              "      <td>0</td>\n",
              "      <td>3/15/2022</td>\n",
              "      <td>175</td>\n",
              "      <td>Fall 2022</td>\n",
              "      <td>07009-1245</td>\n",
              "      <td>New Jersey</td>\n",
              "      <td>United States</td>\n",
              "      <td>Mount Olive High School</td>\n",
              "      <td>Male</td>\n",
              "      <td>Asian</td>\n",
              "      <td>Biology: Computational and Integrative (MS)</td>\n",
              "      <td>Started App</td>\n",
              "    </tr>\n",
              "    <tr>\n",
              "      <th>3</th>\n",
              "      <td>4</td>\n",
              "      <td>NaN</td>\n",
              "      <td>0</td>\n",
              "      <td>3/31/2022</td>\n",
              "      <td>159</td>\n",
              "      <td>Fall 2022</td>\n",
              "      <td>07726-4660</td>\n",
              "      <td>New Jersey</td>\n",
              "      <td>United States</td>\n",
              "      <td>Suny Colg Geneseo</td>\n",
              "      <td>Female</td>\n",
              "      <td>Hispanic or Latino; White</td>\n",
              "      <td>Biology: Computational and Integrative (MS)</td>\n",
              "      <td>Started App</td>\n",
              "    </tr>\n",
              "    <tr>\n",
              "      <th>5</th>\n",
              "      <td>6</td>\n",
              "      <td>NaN</td>\n",
              "      <td>0</td>\n",
              "      <td>4/20/2022</td>\n",
              "      <td>272</td>\n",
              "      <td>Spring 2023</td>\n",
              "      <td>08755-1914</td>\n",
              "      <td>New Jersey</td>\n",
              "      <td>United States</td>\n",
              "      <td>Essex County College</td>\n",
              "      <td>Male</td>\n",
              "      <td>Black or African American</td>\n",
              "      <td>Biology: Computational and Integrative (MS)</td>\n",
              "      <td>Started App</td>\n",
              "    </tr>\n",
              "  </tbody>\n",
              "</table>\n",
              "</div>\n",
              "      <button class=\"colab-df-convert\" onclick=\"convertToInteractive('df-3078f7a5-b24b-4186-9d61-0272e62adef6')\"\n",
              "              title=\"Convert this dataframe to an interactive table.\"\n",
              "              style=\"display:none;\">\n",
              "        \n",
              "  <svg xmlns=\"http://www.w3.org/2000/svg\" height=\"24px\"viewBox=\"0 0 24 24\"\n",
              "       width=\"24px\">\n",
              "    <path d=\"M0 0h24v24H0V0z\" fill=\"none\"/>\n",
              "    <path d=\"M18.56 5.44l.94 2.06.94-2.06 2.06-.94-2.06-.94-.94-2.06-.94 2.06-2.06.94zm-11 1L8.5 8.5l.94-2.06 2.06-.94-2.06-.94L8.5 2.5l-.94 2.06-2.06.94zm10 10l.94 2.06.94-2.06 2.06-.94-2.06-.94-.94-2.06-.94 2.06-2.06.94z\"/><path d=\"M17.41 7.96l-1.37-1.37c-.4-.4-.92-.59-1.43-.59-.52 0-1.04.2-1.43.59L10.3 9.45l-7.72 7.72c-.78.78-.78 2.05 0 2.83L4 21.41c.39.39.9.59 1.41.59.51 0 1.02-.2 1.41-.59l7.78-7.78 2.81-2.81c.8-.78.8-2.07 0-2.86zM5.41 20L4 18.59l7.72-7.72 1.47 1.35L5.41 20z\"/>\n",
              "  </svg>\n",
              "      </button>\n",
              "      \n",
              "  <style>\n",
              "    .colab-df-container {\n",
              "      display:flex;\n",
              "      flex-wrap:wrap;\n",
              "      gap: 12px;\n",
              "    }\n",
              "\n",
              "    .colab-df-convert {\n",
              "      background-color: #E8F0FE;\n",
              "      border: none;\n",
              "      border-radius: 50%;\n",
              "      cursor: pointer;\n",
              "      display: none;\n",
              "      fill: #1967D2;\n",
              "      height: 32px;\n",
              "      padding: 0 0 0 0;\n",
              "      width: 32px;\n",
              "    }\n",
              "\n",
              "    .colab-df-convert:hover {\n",
              "      background-color: #E2EBFA;\n",
              "      box-shadow: 0px 1px 2px rgba(60, 64, 67, 0.3), 0px 1px 3px 1px rgba(60, 64, 67, 0.15);\n",
              "      fill: #174EA6;\n",
              "    }\n",
              "\n",
              "    [theme=dark] .colab-df-convert {\n",
              "      background-color: #3B4455;\n",
              "      fill: #D2E3FC;\n",
              "    }\n",
              "\n",
              "    [theme=dark] .colab-df-convert:hover {\n",
              "      background-color: #434B5C;\n",
              "      box-shadow: 0px 1px 3px 1px rgba(0, 0, 0, 0.15);\n",
              "      filter: drop-shadow(0px 1px 2px rgba(0, 0, 0, 0.3));\n",
              "      fill: #FFFFFF;\n",
              "    }\n",
              "  </style>\n",
              "\n",
              "      <script>\n",
              "        const buttonEl =\n",
              "          document.querySelector('#df-3078f7a5-b24b-4186-9d61-0272e62adef6 button.colab-df-convert');\n",
              "        buttonEl.style.display =\n",
              "          google.colab.kernel.accessAllowed ? 'block' : 'none';\n",
              "\n",
              "        async function convertToInteractive(key) {\n",
              "          const element = document.querySelector('#df-3078f7a5-b24b-4186-9d61-0272e62adef6');\n",
              "          const dataTable =\n",
              "            await google.colab.kernel.invokeFunction('convertToInteractive',\n",
              "                                                     [key], {});\n",
              "          if (!dataTable) return;\n",
              "\n",
              "          const docLinkHtml = 'Like what you see? Visit the ' +\n",
              "            '<a target=\"_blank\" href=https://colab.research.google.com/notebooks/data_table.ipynb>data table notebook</a>'\n",
              "            + ' to learn more about interactive tables.';\n",
              "          element.innerHTML = '';\n",
              "          dataTable['output_type'] = 'display_data';\n",
              "          await google.colab.output.renderOutput(dataTable, element);\n",
              "          const docLink = document.createElement('div');\n",
              "          docLink.innerHTML = docLinkHtml;\n",
              "          element.appendChild(docLink);\n",
              "        }\n",
              "      </script>\n",
              "    </div>\n",
              "  </div>\n",
              "  "
            ]
          },
          "metadata": {},
          "execution_count": 26
        }
      ]
    },
    {
      "cell_type": "code",
      "source": [
        "njappdat['C_Zip']=njappdat['Zip'].str[:5]\n",
        "njappdat.head(3)"
      ],
      "metadata": {
        "colab": {
          "base_uri": "https://localhost:8080/",
          "height": 606
        },
        "id": "W-7cPG_TAT6r",
        "outputId": "ac3e93b6-d8c1-4848-bc8f-b02766158ad4"
      },
      "execution_count": 27,
      "outputs": [
        {
          "output_type": "stream",
          "name": "stderr",
          "text": [
            "<ipython-input-27-088877dd01eb>:1: SettingWithCopyWarning: \n",
            "A value is trying to be set on a copy of a slice from a DataFrame.\n",
            "Try using .loc[row_indexer,col_indexer] = value instead\n",
            "\n",
            "See the caveats in the documentation: https://pandas.pydata.org/pandas-docs/stable/user_guide/indexing.html#returning-a-view-versus-a-copy\n",
            "  njappdat['C_Zip']=njappdat['Zip'].str[:5]\n"
          ]
        },
        {
          "output_type": "execute_result",
          "data": {
            "text/plain": [
              "   ID  Final Recommended Decision  Admit-Coming Application Created Date  \\\n",
              "2    3                        NaN             0                3/15/2022   \n",
              "3    4                        NaN             0                3/31/2022   \n",
              "5    6                        NaN             0                4/20/2022   \n",
              "\n",
              "   Days Before the Beginning of Semester  Reporting Term         Zip  \\\n",
              "2                                     175      Fall 2022  07009-1245   \n",
              "3                                     159      Fall 2022  07726-4660   \n",
              "5                                     272    Spring 2023  08755-1914   \n",
              "\n",
              "        State        Country  \\\n",
              "2  New Jersey  United States   \n",
              "3  New Jersey  United States   \n",
              "5  New Jersey  United States   \n",
              "\n",
              "  Most Recent Educational Institution: Account Name  Gender  \\\n",
              "2                           Mount Olive High School    Male   \n",
              "3                                 Suny Colg Geneseo  Female   \n",
              "5                              Essex County College    Male   \n",
              "\n",
              "                        Race    Program Selection: Program Selection Name  \\\n",
              "2                      Asian  Biology: Computational and Integrative (MS)   \n",
              "3  Hispanic or Latino; White  Biology: Computational and Integrative (MS)   \n",
              "5  Black or African American  Biology: Computational and Integrative (MS)   \n",
              "\n",
              "  Admissions Status  C_Zip  \n",
              "2       Started App  07009  \n",
              "3       Started App  07726  \n",
              "5       Started App  08755  "
            ],
            "text/html": [
              "\n",
              "  <div id=\"df-70b00b7c-29a2-45a3-b90a-4ebb617baa3c\">\n",
              "    <div class=\"colab-df-container\">\n",
              "      <div>\n",
              "<style scoped>\n",
              "    .dataframe tbody tr th:only-of-type {\n",
              "        vertical-align: middle;\n",
              "    }\n",
              "\n",
              "    .dataframe tbody tr th {\n",
              "        vertical-align: top;\n",
              "    }\n",
              "\n",
              "    .dataframe thead th {\n",
              "        text-align: right;\n",
              "    }\n",
              "</style>\n",
              "<table border=\"1\" class=\"dataframe\">\n",
              "  <thead>\n",
              "    <tr style=\"text-align: right;\">\n",
              "      <th></th>\n",
              "      <th>ID</th>\n",
              "      <th>Final Recommended Decision</th>\n",
              "      <th>Admit-Coming</th>\n",
              "      <th>Application Created Date</th>\n",
              "      <th>Days Before the Beginning of Semester</th>\n",
              "      <th>Reporting Term</th>\n",
              "      <th>Zip</th>\n",
              "      <th>State</th>\n",
              "      <th>Country</th>\n",
              "      <th>Most Recent Educational Institution: Account Name</th>\n",
              "      <th>Gender</th>\n",
              "      <th>Race</th>\n",
              "      <th>Program Selection: Program Selection Name</th>\n",
              "      <th>Admissions Status</th>\n",
              "      <th>C_Zip</th>\n",
              "    </tr>\n",
              "  </thead>\n",
              "  <tbody>\n",
              "    <tr>\n",
              "      <th>2</th>\n",
              "      <td>3</td>\n",
              "      <td>NaN</td>\n",
              "      <td>0</td>\n",
              "      <td>3/15/2022</td>\n",
              "      <td>175</td>\n",
              "      <td>Fall 2022</td>\n",
              "      <td>07009-1245</td>\n",
              "      <td>New Jersey</td>\n",
              "      <td>United States</td>\n",
              "      <td>Mount Olive High School</td>\n",
              "      <td>Male</td>\n",
              "      <td>Asian</td>\n",
              "      <td>Biology: Computational and Integrative (MS)</td>\n",
              "      <td>Started App</td>\n",
              "      <td>07009</td>\n",
              "    </tr>\n",
              "    <tr>\n",
              "      <th>3</th>\n",
              "      <td>4</td>\n",
              "      <td>NaN</td>\n",
              "      <td>0</td>\n",
              "      <td>3/31/2022</td>\n",
              "      <td>159</td>\n",
              "      <td>Fall 2022</td>\n",
              "      <td>07726-4660</td>\n",
              "      <td>New Jersey</td>\n",
              "      <td>United States</td>\n",
              "      <td>Suny Colg Geneseo</td>\n",
              "      <td>Female</td>\n",
              "      <td>Hispanic or Latino; White</td>\n",
              "      <td>Biology: Computational and Integrative (MS)</td>\n",
              "      <td>Started App</td>\n",
              "      <td>07726</td>\n",
              "    </tr>\n",
              "    <tr>\n",
              "      <th>5</th>\n",
              "      <td>6</td>\n",
              "      <td>NaN</td>\n",
              "      <td>0</td>\n",
              "      <td>4/20/2022</td>\n",
              "      <td>272</td>\n",
              "      <td>Spring 2023</td>\n",
              "      <td>08755-1914</td>\n",
              "      <td>New Jersey</td>\n",
              "      <td>United States</td>\n",
              "      <td>Essex County College</td>\n",
              "      <td>Male</td>\n",
              "      <td>Black or African American</td>\n",
              "      <td>Biology: Computational and Integrative (MS)</td>\n",
              "      <td>Started App</td>\n",
              "      <td>08755</td>\n",
              "    </tr>\n",
              "  </tbody>\n",
              "</table>\n",
              "</div>\n",
              "      <button class=\"colab-df-convert\" onclick=\"convertToInteractive('df-70b00b7c-29a2-45a3-b90a-4ebb617baa3c')\"\n",
              "              title=\"Convert this dataframe to an interactive table.\"\n",
              "              style=\"display:none;\">\n",
              "        \n",
              "  <svg xmlns=\"http://www.w3.org/2000/svg\" height=\"24px\"viewBox=\"0 0 24 24\"\n",
              "       width=\"24px\">\n",
              "    <path d=\"M0 0h24v24H0V0z\" fill=\"none\"/>\n",
              "    <path d=\"M18.56 5.44l.94 2.06.94-2.06 2.06-.94-2.06-.94-.94-2.06-.94 2.06-2.06.94zm-11 1L8.5 8.5l.94-2.06 2.06-.94-2.06-.94L8.5 2.5l-.94 2.06-2.06.94zm10 10l.94 2.06.94-2.06 2.06-.94-2.06-.94-.94-2.06-.94 2.06-2.06.94z\"/><path d=\"M17.41 7.96l-1.37-1.37c-.4-.4-.92-.59-1.43-.59-.52 0-1.04.2-1.43.59L10.3 9.45l-7.72 7.72c-.78.78-.78 2.05 0 2.83L4 21.41c.39.39.9.59 1.41.59.51 0 1.02-.2 1.41-.59l7.78-7.78 2.81-2.81c.8-.78.8-2.07 0-2.86zM5.41 20L4 18.59l7.72-7.72 1.47 1.35L5.41 20z\"/>\n",
              "  </svg>\n",
              "      </button>\n",
              "      \n",
              "  <style>\n",
              "    .colab-df-container {\n",
              "      display:flex;\n",
              "      flex-wrap:wrap;\n",
              "      gap: 12px;\n",
              "    }\n",
              "\n",
              "    .colab-df-convert {\n",
              "      background-color: #E8F0FE;\n",
              "      border: none;\n",
              "      border-radius: 50%;\n",
              "      cursor: pointer;\n",
              "      display: none;\n",
              "      fill: #1967D2;\n",
              "      height: 32px;\n",
              "      padding: 0 0 0 0;\n",
              "      width: 32px;\n",
              "    }\n",
              "\n",
              "    .colab-df-convert:hover {\n",
              "      background-color: #E2EBFA;\n",
              "      box-shadow: 0px 1px 2px rgba(60, 64, 67, 0.3), 0px 1px 3px 1px rgba(60, 64, 67, 0.15);\n",
              "      fill: #174EA6;\n",
              "    }\n",
              "\n",
              "    [theme=dark] .colab-df-convert {\n",
              "      background-color: #3B4455;\n",
              "      fill: #D2E3FC;\n",
              "    }\n",
              "\n",
              "    [theme=dark] .colab-df-convert:hover {\n",
              "      background-color: #434B5C;\n",
              "      box-shadow: 0px 1px 3px 1px rgba(0, 0, 0, 0.15);\n",
              "      filter: drop-shadow(0px 1px 2px rgba(0, 0, 0, 0.3));\n",
              "      fill: #FFFFFF;\n",
              "    }\n",
              "  </style>\n",
              "\n",
              "      <script>\n",
              "        const buttonEl =\n",
              "          document.querySelector('#df-70b00b7c-29a2-45a3-b90a-4ebb617baa3c button.colab-df-convert');\n",
              "        buttonEl.style.display =\n",
              "          google.colab.kernel.accessAllowed ? 'block' : 'none';\n",
              "\n",
              "        async function convertToInteractive(key) {\n",
              "          const element = document.querySelector('#df-70b00b7c-29a2-45a3-b90a-4ebb617baa3c');\n",
              "          const dataTable =\n",
              "            await google.colab.kernel.invokeFunction('convertToInteractive',\n",
              "                                                     [key], {});\n",
              "          if (!dataTable) return;\n",
              "\n",
              "          const docLinkHtml = 'Like what you see? Visit the ' +\n",
              "            '<a target=\"_blank\" href=https://colab.research.google.com/notebooks/data_table.ipynb>data table notebook</a>'\n",
              "            + ' to learn more about interactive tables.';\n",
              "          element.innerHTML = '';\n",
              "          dataTable['output_type'] = 'display_data';\n",
              "          await google.colab.output.renderOutput(dataTable, element);\n",
              "          const docLink = document.createElement('div');\n",
              "          docLink.innerHTML = docLinkHtml;\n",
              "          element.appendChild(docLink);\n",
              "        }\n",
              "      </script>\n",
              "    </div>\n",
              "  </div>\n",
              "  "
            ]
          },
          "metadata": {},
          "execution_count": 27
        }
      ]
    },
    {
      "cell_type": "markdown",
      "source": [
        "### Import: Data File 2: New Jersey Unemployment Data by County\n",
        "Retrieved this data from Social Explorer https://www.socialexplorer.com/tables/US_unemployment_2021/R13293445."
      ],
      "metadata": {
        "id": "SZdegZX1wOHR"
      }
    },
    {
      "cell_type": "code",
      "source": [
        "urllib.request.urlretrieve(\"https://raw.githubusercontent.com/ewattudo/vis1/main/R13290836_SL050.csv\", \"njunemp21.csv\")"
      ],
      "metadata": {
        "colab": {
          "base_uri": "https://localhost:8080/"
        },
        "id": "2EuMtIsVwhtW",
        "outputId": "7ff5226d-454b-4ba8-dcdc-49a1848aff9f"
      },
      "execution_count": 28,
      "outputs": [
        {
          "output_type": "execute_result",
          "data": {
            "text/plain": [
              "('njunemp21.csv', <http.client.HTTPMessage at 0x7faf547edc70>)"
            ]
          },
          "metadata": {},
          "execution_count": 28
        }
      ]
    },
    {
      "cell_type": "code",
      "source": [
        "os.getcwd() #pwd\n",
        "os.listdir() #compare to clicking on the left the folder icon #dir"
      ],
      "metadata": {
        "colab": {
          "base_uri": "https://localhost:8080/",
          "height": 36
        },
        "id": "glr9EQWnw80k",
        "outputId": "f6d9b751-ed9f-447d-e774-bbc448826b25"
      },
      "execution_count": 29,
      "outputs": [
        {
          "output_type": "execute_result",
          "data": {
            "text/plain": [
              "'/content'"
            ],
            "application/vnd.google.colaboratory.intrinsic+json": {
              "type": "string"
            }
          },
          "metadata": {},
          "execution_count": 29
        },
        {
          "output_type": "execute_result",
          "data": {
            "text/plain": [
              "['.config', 'appdata', 'njunemp21.csv', 'sample_data']"
            ]
          },
          "metadata": {},
          "execution_count": 29
        }
      ]
    },
    {
      "cell_type": "code",
      "source": [
        "njunemp=pd.read_csv('njunemp21.csv')"
      ],
      "metadata": {
        "id": "qWIsBGGSxAWg"
      },
      "execution_count": 30,
      "outputs": []
    },
    {
      "cell_type": "code",
      "source": [
        "#Rename is extremely important here, because the column headers are not intuitive.I am glad I had the url listed. \n",
        "njunemp.columns"
      ],
      "metadata": {
        "colab": {
          "base_uri": "https://localhost:8080/"
        },
        "id": "C0sESFM0xr3o",
        "outputId": "d8d12bd9-fe55-4080-dfd1-bb9d4b429591"
      },
      "execution_count": 32,
      "outputs": [
        {
          "output_type": "execute_result",
          "data": {
            "text/plain": [
              "Index(['Geo_FIPS', 'Geo_NAME', 'Geo_QNAME', 'Geo_NATION', 'Geo_STATE',\n",
              "       'Geo_COUNTY', 'Geo_MSA', 'ORG_US_007_001', 'ORG_US_007_002',\n",
              "       'ORG_US_007_003', 'ORG_US_007_004', 'ORG_US_Unemployment_027_001',\n",
              "       'ORG_US_Unemployment_027_002', 'ORG_US_Unemployment_027_003',\n",
              "       'ORG_US_Unemployment_027_004', 'ORG_US_Unemployment_020_001',\n",
              "       'ORG_US_Unemployment_020_002', 'ORG_US_Unemployment_020_003',\n",
              "       'ORG_US_Unemployment_020_004', 'ORG_US_035_001', 'ORG_US_035_002',\n",
              "       'ORG_US_035_003', 'ORG_US_035_004'],\n",
              "      dtype='object')"
            ]
          },
          "metadata": {},
          "execution_count": 32
        }
      ]
    },
    {
      "cell_type": "code",
      "source": [
        "njunemp.head(3)"
      ],
      "metadata": {
        "colab": {
          "base_uri": "https://localhost:8080/",
          "height": 393
        },
        "id": "NqfpvozXxwKC",
        "outputId": "5eb5d890-fbca-454c-8e7b-c52c0581f8c2"
      },
      "execution_count": 33,
      "outputs": [
        {
          "output_type": "execute_result",
          "data": {
            "text/plain": [
              "   Geo_FIPS           Geo_NAME                      Geo_QNAME  Geo_NATION  \\\n",
              "0     34001    Atlantic County    Atlantic County, New Jersey           0   \n",
              "1     34003      Bergen County      Bergen County, New Jersey           0   \n",
              "2     34005  Burlington County  Burlington County, New Jersey           0   \n",
              "\n",
              "   Geo_STATE  Geo_COUNTY  Geo_MSA  ORG_US_007_001  ORG_US_007_002  \\\n",
              "0         34           1      NaN          121301          108221   \n",
              "1         34           3      NaN          469719          435114   \n",
              "2         34           5      NaN          232113          216827   \n",
              "\n",
              "   ORG_US_007_003  ...  ORG_US_Unemployment_027_003  \\\n",
              "0           13080  ...                        30795   \n",
              "1           34605  ...                        70140   \n",
              "2           15286  ...                        27756   \n",
              "\n",
              "   ORG_US_Unemployment_027_004  ORG_US_Unemployment_020_001  \\\n",
              "0                         24.0                        -7080   \n",
              "1                         14.1                       -26560   \n",
              "2                         11.8                        -2988   \n",
              "\n",
              "   ORG_US_Unemployment_020_002  ORG_US_Unemployment_020_003  \\\n",
              "0                        10635                       -17715   \n",
              "1                         8975                       -35535   \n",
              "2                         9482                       -12470   \n",
              "\n",
              "   ORG_US_Unemployment_020_004  ORG_US_035_001  ORG_US_035_002  \\\n",
              "0                        -13.2       -5.514835       10.898080   \n",
              "1                         -6.7       -5.351828        2.106120   \n",
              "2                         -5.2       -1.270943        4.573055   \n",
              "\n",
              "   ORG_US_035_003  ORG_US_035_004  \n",
              "0      -57.525572      -55.000000  \n",
              "1      -50.662960      -47.517730  \n",
              "2      -44.927223      -44.067797  \n",
              "\n",
              "[3 rows x 23 columns]"
            ],
            "text/html": [
              "\n",
              "  <div id=\"df-57b692af-7ad5-42b8-b3db-f4f958515ba6\">\n",
              "    <div class=\"colab-df-container\">\n",
              "      <div>\n",
              "<style scoped>\n",
              "    .dataframe tbody tr th:only-of-type {\n",
              "        vertical-align: middle;\n",
              "    }\n",
              "\n",
              "    .dataframe tbody tr th {\n",
              "        vertical-align: top;\n",
              "    }\n",
              "\n",
              "    .dataframe thead th {\n",
              "        text-align: right;\n",
              "    }\n",
              "</style>\n",
              "<table border=\"1\" class=\"dataframe\">\n",
              "  <thead>\n",
              "    <tr style=\"text-align: right;\">\n",
              "      <th></th>\n",
              "      <th>Geo_FIPS</th>\n",
              "      <th>Geo_NAME</th>\n",
              "      <th>Geo_QNAME</th>\n",
              "      <th>Geo_NATION</th>\n",
              "      <th>Geo_STATE</th>\n",
              "      <th>Geo_COUNTY</th>\n",
              "      <th>Geo_MSA</th>\n",
              "      <th>ORG_US_007_001</th>\n",
              "      <th>ORG_US_007_002</th>\n",
              "      <th>ORG_US_007_003</th>\n",
              "      <th>...</th>\n",
              "      <th>ORG_US_Unemployment_027_003</th>\n",
              "      <th>ORG_US_Unemployment_027_004</th>\n",
              "      <th>ORG_US_Unemployment_020_001</th>\n",
              "      <th>ORG_US_Unemployment_020_002</th>\n",
              "      <th>ORG_US_Unemployment_020_003</th>\n",
              "      <th>ORG_US_Unemployment_020_004</th>\n",
              "      <th>ORG_US_035_001</th>\n",
              "      <th>ORG_US_035_002</th>\n",
              "      <th>ORG_US_035_003</th>\n",
              "      <th>ORG_US_035_004</th>\n",
              "    </tr>\n",
              "  </thead>\n",
              "  <tbody>\n",
              "    <tr>\n",
              "      <th>0</th>\n",
              "      <td>34001</td>\n",
              "      <td>Atlantic County</td>\n",
              "      <td>Atlantic County, New Jersey</td>\n",
              "      <td>0</td>\n",
              "      <td>34</td>\n",
              "      <td>1</td>\n",
              "      <td>NaN</td>\n",
              "      <td>121301</td>\n",
              "      <td>108221</td>\n",
              "      <td>13080</td>\n",
              "      <td>...</td>\n",
              "      <td>30795</td>\n",
              "      <td>24.0</td>\n",
              "      <td>-7080</td>\n",
              "      <td>10635</td>\n",
              "      <td>-17715</td>\n",
              "      <td>-13.2</td>\n",
              "      <td>-5.514835</td>\n",
              "      <td>10.898080</td>\n",
              "      <td>-57.525572</td>\n",
              "      <td>-55.000000</td>\n",
              "    </tr>\n",
              "    <tr>\n",
              "      <th>1</th>\n",
              "      <td>34003</td>\n",
              "      <td>Bergen County</td>\n",
              "      <td>Bergen County, New Jersey</td>\n",
              "      <td>0</td>\n",
              "      <td>34</td>\n",
              "      <td>3</td>\n",
              "      <td>NaN</td>\n",
              "      <td>469719</td>\n",
              "      <td>435114</td>\n",
              "      <td>34605</td>\n",
              "      <td>...</td>\n",
              "      <td>70140</td>\n",
              "      <td>14.1</td>\n",
              "      <td>-26560</td>\n",
              "      <td>8975</td>\n",
              "      <td>-35535</td>\n",
              "      <td>-6.7</td>\n",
              "      <td>-5.351828</td>\n",
              "      <td>2.106120</td>\n",
              "      <td>-50.662960</td>\n",
              "      <td>-47.517730</td>\n",
              "    </tr>\n",
              "    <tr>\n",
              "      <th>2</th>\n",
              "      <td>34005</td>\n",
              "      <td>Burlington County</td>\n",
              "      <td>Burlington County, New Jersey</td>\n",
              "      <td>0</td>\n",
              "      <td>34</td>\n",
              "      <td>5</td>\n",
              "      <td>NaN</td>\n",
              "      <td>232113</td>\n",
              "      <td>216827</td>\n",
              "      <td>15286</td>\n",
              "      <td>...</td>\n",
              "      <td>27756</td>\n",
              "      <td>11.8</td>\n",
              "      <td>-2988</td>\n",
              "      <td>9482</td>\n",
              "      <td>-12470</td>\n",
              "      <td>-5.2</td>\n",
              "      <td>-1.270943</td>\n",
              "      <td>4.573055</td>\n",
              "      <td>-44.927223</td>\n",
              "      <td>-44.067797</td>\n",
              "    </tr>\n",
              "  </tbody>\n",
              "</table>\n",
              "<p>3 rows × 23 columns</p>\n",
              "</div>\n",
              "      <button class=\"colab-df-convert\" onclick=\"convertToInteractive('df-57b692af-7ad5-42b8-b3db-f4f958515ba6')\"\n",
              "              title=\"Convert this dataframe to an interactive table.\"\n",
              "              style=\"display:none;\">\n",
              "        \n",
              "  <svg xmlns=\"http://www.w3.org/2000/svg\" height=\"24px\"viewBox=\"0 0 24 24\"\n",
              "       width=\"24px\">\n",
              "    <path d=\"M0 0h24v24H0V0z\" fill=\"none\"/>\n",
              "    <path d=\"M18.56 5.44l.94 2.06.94-2.06 2.06-.94-2.06-.94-.94-2.06-.94 2.06-2.06.94zm-11 1L8.5 8.5l.94-2.06 2.06-.94-2.06-.94L8.5 2.5l-.94 2.06-2.06.94zm10 10l.94 2.06.94-2.06 2.06-.94-2.06-.94-.94-2.06-.94 2.06-2.06.94z\"/><path d=\"M17.41 7.96l-1.37-1.37c-.4-.4-.92-.59-1.43-.59-.52 0-1.04.2-1.43.59L10.3 9.45l-7.72 7.72c-.78.78-.78 2.05 0 2.83L4 21.41c.39.39.9.59 1.41.59.51 0 1.02-.2 1.41-.59l7.78-7.78 2.81-2.81c.8-.78.8-2.07 0-2.86zM5.41 20L4 18.59l7.72-7.72 1.47 1.35L5.41 20z\"/>\n",
              "  </svg>\n",
              "      </button>\n",
              "      \n",
              "  <style>\n",
              "    .colab-df-container {\n",
              "      display:flex;\n",
              "      flex-wrap:wrap;\n",
              "      gap: 12px;\n",
              "    }\n",
              "\n",
              "    .colab-df-convert {\n",
              "      background-color: #E8F0FE;\n",
              "      border: none;\n",
              "      border-radius: 50%;\n",
              "      cursor: pointer;\n",
              "      display: none;\n",
              "      fill: #1967D2;\n",
              "      height: 32px;\n",
              "      padding: 0 0 0 0;\n",
              "      width: 32px;\n",
              "    }\n",
              "\n",
              "    .colab-df-convert:hover {\n",
              "      background-color: #E2EBFA;\n",
              "      box-shadow: 0px 1px 2px rgba(60, 64, 67, 0.3), 0px 1px 3px 1px rgba(60, 64, 67, 0.15);\n",
              "      fill: #174EA6;\n",
              "    }\n",
              "\n",
              "    [theme=dark] .colab-df-convert {\n",
              "      background-color: #3B4455;\n",
              "      fill: #D2E3FC;\n",
              "    }\n",
              "\n",
              "    [theme=dark] .colab-df-convert:hover {\n",
              "      background-color: #434B5C;\n",
              "      box-shadow: 0px 1px 3px 1px rgba(0, 0, 0, 0.15);\n",
              "      filter: drop-shadow(0px 1px 2px rgba(0, 0, 0, 0.3));\n",
              "      fill: #FFFFFF;\n",
              "    }\n",
              "  </style>\n",
              "\n",
              "      <script>\n",
              "        const buttonEl =\n",
              "          document.querySelector('#df-57b692af-7ad5-42b8-b3db-f4f958515ba6 button.colab-df-convert');\n",
              "        buttonEl.style.display =\n",
              "          google.colab.kernel.accessAllowed ? 'block' : 'none';\n",
              "\n",
              "        async function convertToInteractive(key) {\n",
              "          const element = document.querySelector('#df-57b692af-7ad5-42b8-b3db-f4f958515ba6');\n",
              "          const dataTable =\n",
              "            await google.colab.kernel.invokeFunction('convertToInteractive',\n",
              "                                                     [key], {});\n",
              "          if (!dataTable) return;\n",
              "\n",
              "          const docLinkHtml = 'Like what you see? Visit the ' +\n",
              "            '<a target=\"_blank\" href=https://colab.research.google.com/notebooks/data_table.ipynb>data table notebook</a>'\n",
              "            + ' to learn more about interactive tables.';\n",
              "          element.innerHTML = '';\n",
              "          dataTable['output_type'] = 'display_data';\n",
              "          await google.colab.output.renderOutput(dataTable, element);\n",
              "          const docLink = document.createElement('div');\n",
              "          docLink.innerHTML = docLinkHtml;\n",
              "          element.appendChild(docLink);\n",
              "        }\n",
              "      </script>\n",
              "    </div>\n",
              "  </div>\n",
              "  "
            ]
          },
          "metadata": {},
          "execution_count": 33
        }
      ]
    },
    {
      "cell_type": "code",
      "source": [
        "njunemp.dtypes"
      ],
      "metadata": {
        "colab": {
          "base_uri": "https://localhost:8080/"
        },
        "id": "6CnoqcW3C5jY",
        "outputId": "dedabf1d-41dd-4661-f597-059d5d546e95"
      },
      "execution_count": 34,
      "outputs": [
        {
          "output_type": "execute_result",
          "data": {
            "text/plain": [
              "Geo_FIPS                         int64\n",
              "Geo_NAME                        object\n",
              "Geo_QNAME                       object\n",
              "Geo_NATION                       int64\n",
              "Geo_STATE                        int64\n",
              "Geo_COUNTY                       int64\n",
              "Geo_MSA                        float64\n",
              "ORG_US_007_001                   int64\n",
              "ORG_US_007_002                   int64\n",
              "ORG_US_007_003                   int64\n",
              "ORG_US_007_004                 float64\n",
              "ORG_US_Unemployment_027_001      int64\n",
              "ORG_US_Unemployment_027_002      int64\n",
              "ORG_US_Unemployment_027_003      int64\n",
              "ORG_US_Unemployment_027_004    float64\n",
              "ORG_US_Unemployment_020_001      int64\n",
              "ORG_US_Unemployment_020_002      int64\n",
              "ORG_US_Unemployment_020_003      int64\n",
              "ORG_US_Unemployment_020_004    float64\n",
              "ORG_US_035_001                 float64\n",
              "ORG_US_035_002                 float64\n",
              "ORG_US_035_003                 float64\n",
              "ORG_US_035_004                 float64\n",
              "dtype: object"
            ]
          },
          "metadata": {},
          "execution_count": 34
        }
      ]
    },
    {
      "cell_type": "code",
      "source": [
        "njunemp = njunemp.drop(['Geo_FIPS','Geo_QNAME','Geo_NATION','Geo_COUNTY','Geo_MSA'],axis=1)"
      ],
      "metadata": {
        "id": "5BBgeL7SFWIM"
      },
      "execution_count": 35,
      "outputs": []
    },
    {
      "cell_type": "code",
      "source": [
        "njunemp.dtypes"
      ],
      "metadata": {
        "colab": {
          "base_uri": "https://localhost:8080/"
        },
        "id": "LmwwfnlaI8Jv",
        "outputId": "799fe0d5-2a52-425e-c3ea-170902bbd3be"
      },
      "execution_count": 36,
      "outputs": [
        {
          "output_type": "execute_result",
          "data": {
            "text/plain": [
              "Geo_NAME                        object\n",
              "Geo_STATE                        int64\n",
              "ORG_US_007_001                   int64\n",
              "ORG_US_007_002                   int64\n",
              "ORG_US_007_003                   int64\n",
              "ORG_US_007_004                 float64\n",
              "ORG_US_Unemployment_027_001      int64\n",
              "ORG_US_Unemployment_027_002      int64\n",
              "ORG_US_Unemployment_027_003      int64\n",
              "ORG_US_Unemployment_027_004    float64\n",
              "ORG_US_Unemployment_020_001      int64\n",
              "ORG_US_Unemployment_020_002      int64\n",
              "ORG_US_Unemployment_020_003      int64\n",
              "ORG_US_Unemployment_020_004    float64\n",
              "ORG_US_035_001                 float64\n",
              "ORG_US_035_002                 float64\n",
              "ORG_US_035_003                 float64\n",
              "ORG_US_035_004                 float64\n",
              "dtype: object"
            ]
          },
          "metadata": {},
          "execution_count": 36
        }
      ]
    },
    {
      "cell_type": "code",
      "source": [
        "njunemp = njunemp.rename(columns={'Geo_NAME':\"County\", \"ORG_US_007_004\":\"Unemployment2021\",\"ORG_US_Unemployment_027_004\":\"Unemployment2020\",\"ORG_US_035_004\":\"PercentageChange\"})"
      ],
      "metadata": {
        "id": "R8l1mHuEJQ1H"
      },
      "execution_count": 37,
      "outputs": []
    },
    {
      "cell_type": "code",
      "source": [
        "njunemp.dtypes"
      ],
      "metadata": {
        "colab": {
          "base_uri": "https://localhost:8080/"
        },
        "id": "ZU17yQY3LRZR",
        "outputId": "c1c7453e-8959-45ac-cbb1-aff450e765b9"
      },
      "execution_count": 38,
      "outputs": [
        {
          "output_type": "execute_result",
          "data": {
            "text/plain": [
              "County                          object\n",
              "Geo_STATE                        int64\n",
              "ORG_US_007_001                   int64\n",
              "ORG_US_007_002                   int64\n",
              "ORG_US_007_003                   int64\n",
              "Unemployment2021               float64\n",
              "ORG_US_Unemployment_027_001      int64\n",
              "ORG_US_Unemployment_027_002      int64\n",
              "ORG_US_Unemployment_027_003      int64\n",
              "Unemployment2020               float64\n",
              "ORG_US_Unemployment_020_001      int64\n",
              "ORG_US_Unemployment_020_002      int64\n",
              "ORG_US_Unemployment_020_003      int64\n",
              "ORG_US_Unemployment_020_004    float64\n",
              "ORG_US_035_001                 float64\n",
              "ORG_US_035_002                 float64\n",
              "ORG_US_035_003                 float64\n",
              "PercentageChange               float64\n",
              "dtype: object"
            ]
          },
          "metadata": {},
          "execution_count": 38
        }
      ]
    },
    {
      "cell_type": "code",
      "source": [
        "#When you put quotes around stdev, it doesn't work. #aok thats interesting! also note often people use numpy, eg np.mean\n",
        "njunemp.agg({'Unemployment2020':['mean','median',stdev], 'Unemployment2021':['mean','median',stdev],'PercentageChange':['mean','median',stdev] })"
      ],
      "metadata": {
        "colab": {
          "base_uri": "https://localhost:8080/",
          "height": 143
        },
        "id": "CGGhdWuGMOGt",
        "outputId": "665df320-5677-42c5-d7a2-9d1bef9c22a7"
      },
      "execution_count": 39,
      "outputs": [
        {
          "output_type": "execute_result",
          "data": {
            "text/plain": [
              "        Unemployment2020  Unemployment2021  PercentageChange\n",
              "mean           13.857143          7.595238        -44.823672\n",
              "median         13.200000          7.100000        -45.384615\n",
              "stdev           3.000262          1.425299          4.966793"
            ],
            "text/html": [
              "\n",
              "  <div id=\"df-d2d7fb00-3425-495c-b548-65b25825e757\">\n",
              "    <div class=\"colab-df-container\">\n",
              "      <div>\n",
              "<style scoped>\n",
              "    .dataframe tbody tr th:only-of-type {\n",
              "        vertical-align: middle;\n",
              "    }\n",
              "\n",
              "    .dataframe tbody tr th {\n",
              "        vertical-align: top;\n",
              "    }\n",
              "\n",
              "    .dataframe thead th {\n",
              "        text-align: right;\n",
              "    }\n",
              "</style>\n",
              "<table border=\"1\" class=\"dataframe\">\n",
              "  <thead>\n",
              "    <tr style=\"text-align: right;\">\n",
              "      <th></th>\n",
              "      <th>Unemployment2020</th>\n",
              "      <th>Unemployment2021</th>\n",
              "      <th>PercentageChange</th>\n",
              "    </tr>\n",
              "  </thead>\n",
              "  <tbody>\n",
              "    <tr>\n",
              "      <th>mean</th>\n",
              "      <td>13.857143</td>\n",
              "      <td>7.595238</td>\n",
              "      <td>-44.823672</td>\n",
              "    </tr>\n",
              "    <tr>\n",
              "      <th>median</th>\n",
              "      <td>13.200000</td>\n",
              "      <td>7.100000</td>\n",
              "      <td>-45.384615</td>\n",
              "    </tr>\n",
              "    <tr>\n",
              "      <th>stdev</th>\n",
              "      <td>3.000262</td>\n",
              "      <td>1.425299</td>\n",
              "      <td>4.966793</td>\n",
              "    </tr>\n",
              "  </tbody>\n",
              "</table>\n",
              "</div>\n",
              "      <button class=\"colab-df-convert\" onclick=\"convertToInteractive('df-d2d7fb00-3425-495c-b548-65b25825e757')\"\n",
              "              title=\"Convert this dataframe to an interactive table.\"\n",
              "              style=\"display:none;\">\n",
              "        \n",
              "  <svg xmlns=\"http://www.w3.org/2000/svg\" height=\"24px\"viewBox=\"0 0 24 24\"\n",
              "       width=\"24px\">\n",
              "    <path d=\"M0 0h24v24H0V0z\" fill=\"none\"/>\n",
              "    <path d=\"M18.56 5.44l.94 2.06.94-2.06 2.06-.94-2.06-.94-.94-2.06-.94 2.06-2.06.94zm-11 1L8.5 8.5l.94-2.06 2.06-.94-2.06-.94L8.5 2.5l-.94 2.06-2.06.94zm10 10l.94 2.06.94-2.06 2.06-.94-2.06-.94-.94-2.06-.94 2.06-2.06.94z\"/><path d=\"M17.41 7.96l-1.37-1.37c-.4-.4-.92-.59-1.43-.59-.52 0-1.04.2-1.43.59L10.3 9.45l-7.72 7.72c-.78.78-.78 2.05 0 2.83L4 21.41c.39.39.9.59 1.41.59.51 0 1.02-.2 1.41-.59l7.78-7.78 2.81-2.81c.8-.78.8-2.07 0-2.86zM5.41 20L4 18.59l7.72-7.72 1.47 1.35L5.41 20z\"/>\n",
              "  </svg>\n",
              "      </button>\n",
              "      \n",
              "  <style>\n",
              "    .colab-df-container {\n",
              "      display:flex;\n",
              "      flex-wrap:wrap;\n",
              "      gap: 12px;\n",
              "    }\n",
              "\n",
              "    .colab-df-convert {\n",
              "      background-color: #E8F0FE;\n",
              "      border: none;\n",
              "      border-radius: 50%;\n",
              "      cursor: pointer;\n",
              "      display: none;\n",
              "      fill: #1967D2;\n",
              "      height: 32px;\n",
              "      padding: 0 0 0 0;\n",
              "      width: 32px;\n",
              "    }\n",
              "\n",
              "    .colab-df-convert:hover {\n",
              "      background-color: #E2EBFA;\n",
              "      box-shadow: 0px 1px 2px rgba(60, 64, 67, 0.3), 0px 1px 3px 1px rgba(60, 64, 67, 0.15);\n",
              "      fill: #174EA6;\n",
              "    }\n",
              "\n",
              "    [theme=dark] .colab-df-convert {\n",
              "      background-color: #3B4455;\n",
              "      fill: #D2E3FC;\n",
              "    }\n",
              "\n",
              "    [theme=dark] .colab-df-convert:hover {\n",
              "      background-color: #434B5C;\n",
              "      box-shadow: 0px 1px 3px 1px rgba(0, 0, 0, 0.15);\n",
              "      filter: drop-shadow(0px 1px 2px rgba(0, 0, 0, 0.3));\n",
              "      fill: #FFFFFF;\n",
              "    }\n",
              "  </style>\n",
              "\n",
              "      <script>\n",
              "        const buttonEl =\n",
              "          document.querySelector('#df-d2d7fb00-3425-495c-b548-65b25825e757 button.colab-df-convert');\n",
              "        buttonEl.style.display =\n",
              "          google.colab.kernel.accessAllowed ? 'block' : 'none';\n",
              "\n",
              "        async function convertToInteractive(key) {\n",
              "          const element = document.querySelector('#df-d2d7fb00-3425-495c-b548-65b25825e757');\n",
              "          const dataTable =\n",
              "            await google.colab.kernel.invokeFunction('convertToInteractive',\n",
              "                                                     [key], {});\n",
              "          if (!dataTable) return;\n",
              "\n",
              "          const docLinkHtml = 'Like what you see? Visit the ' +\n",
              "            '<a target=\"_blank\" href=https://colab.research.google.com/notebooks/data_table.ipynb>data table notebook</a>'\n",
              "            + ' to learn more about interactive tables.';\n",
              "          element.innerHTML = '';\n",
              "          dataTable['output_type'] = 'display_data';\n",
              "          await google.colab.output.renderOutput(dataTable, element);\n",
              "          const docLink = document.createElement('div');\n",
              "          docLink.innerHTML = docLinkHtml;\n",
              "          element.appendChild(docLink);\n",
              "        }\n",
              "      </script>\n",
              "    </div>\n",
              "  </div>\n",
              "  "
            ]
          },
          "metadata": {},
          "execution_count": 39
        }
      ]
    },
    {
      "cell_type": "code",
      "source": [
        "njunemp.plot(x=\"County\", y=[\"Unemployment2020\", \"Unemployment2021\"], kind=\"bar\") #aok atlantic is interesting--tourism, casinos etc got hit with covid; eg could look at enrollments there! eg rutgers may have more applicants from atlantic!"
      ],
      "metadata": {
        "colab": {
          "base_uri": "https://localhost:8080/",
          "height": 388
        },
        "id": "wpSwjYkkYaTP",
        "outputId": "6a1ebaa4-f115-4c16-fde9-3449d7995c56"
      },
      "execution_count": 40,
      "outputs": [
        {
          "output_type": "execute_result",
          "data": {
            "text/plain": [
              "<matplotlib.axes._subplots.AxesSubplot at 0x7faf54722340>"
            ]
          },
          "metadata": {},
          "execution_count": 40
        },
        {
          "output_type": "display_data",
          "data": {
            "text/plain": [
              "<Figure size 432x288 with 1 Axes>"
            ],
            "image/png": "[encoded data removed]"
          },
          "metadata": {
            "needs_background": "light"
          }
        }
      ]
    },
    {
      "cell_type": "code",
      "source": [
        "njunemp = njunemp.rename(columns={'ORG_US_007_001':\"LaborForce2021\", \"ORG_US_Unemployment_027_001\":\"LaborForce2020\"})"
      ],
      "metadata": {
        "id": "Qp6z2jmfQxNC"
      },
      "execution_count": 41,
      "outputs": []
    },
    {
      "cell_type": "code",
      "source": [
        "njunemp.dtypes"
      ],
      "metadata": {
        "colab": {
          "base_uri": "https://localhost:8080/"
        },
        "id": "ofaWBJLnXBY8",
        "outputId": "521c3d6c-bcca-4e8b-a0e3-0371d655b712"
      },
      "execution_count": 42,
      "outputs": [
        {
          "output_type": "execute_result",
          "data": {
            "text/plain": [
              "County                          object\n",
              "Geo_STATE                        int64\n",
              "LaborForce2021                   int64\n",
              "ORG_US_007_002                   int64\n",
              "ORG_US_007_003                   int64\n",
              "Unemployment2021               float64\n",
              "LaborForce2020                   int64\n",
              "ORG_US_Unemployment_027_002      int64\n",
              "ORG_US_Unemployment_027_003      int64\n",
              "Unemployment2020               float64\n",
              "ORG_US_Unemployment_020_001      int64\n",
              "ORG_US_Unemployment_020_002      int64\n",
              "ORG_US_Unemployment_020_003      int64\n",
              "ORG_US_Unemployment_020_004    float64\n",
              "ORG_US_035_001                 float64\n",
              "ORG_US_035_002                 float64\n",
              "ORG_US_035_003                 float64\n",
              "PercentageChange               float64\n",
              "dtype: object"
            ]
          },
          "metadata": {},
          "execution_count": 42
        }
      ]
    },
    {
      "cell_type": "code",
      "source": [
        "njunemp.agg({'LaborForce2020':['mean','median',stdev], 'LaborForce2021':['mean','median',stdev] }) #aok hows that measured? counts? total number of people? then may use sum or total "
      ],
      "metadata": {
        "colab": {
          "base_uri": "https://localhost:8080/",
          "height": 143
        },
        "id": "FfINfp4oXKOW",
        "outputId": "f8697eb6-c256-4772-978d-2c42e43ed55f"
      },
      "execution_count": 44,
      "outputs": [
        {
          "output_type": "execute_result",
          "data": {
            "text/plain": [
              "        LaborForce2020  LaborForce2021\n",
              "mean     220332.904762   214303.047619\n",
              "median   235101.000000   232113.000000\n",
              "stdev    138358.206270   132198.286191"
            ],
            "text/html": [
              "\n",
              "  <div id=\"df-9732f9d0-2667-4508-aa8b-d1d80ee13124\">\n",
              "    <div class=\"colab-df-container\">\n",
              "      <div>\n",
              "<style scoped>\n",
              "    .dataframe tbody tr th:only-of-type {\n",
              "        vertical-align: middle;\n",
              "    }\n",
              "\n",
              "    .dataframe tbody tr th {\n",
              "        vertical-align: top;\n",
              "    }\n",
              "\n",
              "    .dataframe thead th {\n",
              "        text-align: right;\n",
              "    }\n",
              "</style>\n",
              "<table border=\"1\" class=\"dataframe\">\n",
              "  <thead>\n",
              "    <tr style=\"text-align: right;\">\n",
              "      <th></th>\n",
              "      <th>LaborForce2020</th>\n",
              "      <th>LaborForce2021</th>\n",
              "    </tr>\n",
              "  </thead>\n",
              "  <tbody>\n",
              "    <tr>\n",
              "      <th>mean</th>\n",
              "      <td>220332.904762</td>\n",
              "      <td>214303.047619</td>\n",
              "    </tr>\n",
              "    <tr>\n",
              "      <th>median</th>\n",
              "      <td>235101.000000</td>\n",
              "      <td>232113.000000</td>\n",
              "    </tr>\n",
              "    <tr>\n",
              "      <th>stdev</th>\n",
              "      <td>138358.206270</td>\n",
              "      <td>132198.286191</td>\n",
              "    </tr>\n",
              "  </tbody>\n",
              "</table>\n",
              "</div>\n",
              "      <button class=\"colab-df-convert\" onclick=\"convertToInteractive('df-9732f9d0-2667-4508-aa8b-d1d80ee13124')\"\n",
              "              title=\"Convert this dataframe to an interactive table.\"\n",
              "              style=\"display:none;\">\n",
              "        \n",
              "  <svg xmlns=\"http://www.w3.org/2000/svg\" height=\"24px\"viewBox=\"0 0 24 24\"\n",
              "       width=\"24px\">\n",
              "    <path d=\"M0 0h24v24H0V0z\" fill=\"none\"/>\n",
              "    <path d=\"M18.56 5.44l.94 2.06.94-2.06 2.06-.94-2.06-.94-.94-2.06-.94 2.06-2.06.94zm-11 1L8.5 8.5l.94-2.06 2.06-.94-2.06-.94L8.5 2.5l-.94 2.06-2.06.94zm10 10l.94 2.06.94-2.06 2.06-.94-2.06-.94-.94-2.06-.94 2.06-2.06.94z\"/><path d=\"M17.41 7.96l-1.37-1.37c-.4-.4-.92-.59-1.43-.59-.52 0-1.04.2-1.43.59L10.3 9.45l-7.72 7.72c-.78.78-.78 2.05 0 2.83L4 21.41c.39.39.9.59 1.41.59.51 0 1.02-.2 1.41-.59l7.78-7.78 2.81-2.81c.8-.78.8-2.07 0-2.86zM5.41 20L4 18.59l7.72-7.72 1.47 1.35L5.41 20z\"/>\n",
              "  </svg>\n",
              "      </button>\n",
              "      \n",
              "  <style>\n",
              "    .colab-df-container {\n",
              "      display:flex;\n",
              "      flex-wrap:wrap;\n",
              "      gap: 12px;\n",
              "    }\n",
              "\n",
              "    .colab-df-convert {\n",
              "      background-color: #E8F0FE;\n",
              "      border: none;\n",
              "      border-radius: 50%;\n",
              "      cursor: pointer;\n",
              "      display: none;\n",
              "      fill: #1967D2;\n",
              "      height: 32px;\n",
              "      padding: 0 0 0 0;\n",
              "      width: 32px;\n",
              "    }\n",
              "\n",
              "    .colab-df-convert:hover {\n",
              "      background-color: #E2EBFA;\n",
              "      box-shadow: 0px 1px 2px rgba(60, 64, 67, 0.3), 0px 1px 3px 1px rgba(60, 64, 67, 0.15);\n",
              "      fill: #174EA6;\n",
              "    }\n",
              "\n",
              "    [theme=dark] .colab-df-convert {\n",
              "      background-color: #3B4455;\n",
              "      fill: #D2E3FC;\n",
              "    }\n",
              "\n",
              "    [theme=dark] .colab-df-convert:hover {\n",
              "      background-color: #434B5C;\n",
              "      box-shadow: 0px 1px 3px 1px rgba(0, 0, 0, 0.15);\n",
              "      filter: drop-shadow(0px 1px 2px rgba(0, 0, 0, 0.3));\n",
              "      fill: #FFFFFF;\n",
              "    }\n",
              "  </style>\n",
              "\n",
              "      <script>\n",
              "        const buttonEl =\n",
              "          document.querySelector('#df-9732f9d0-2667-4508-aa8b-d1d80ee13124 button.colab-df-convert');\n",
              "        buttonEl.style.display =\n",
              "          google.colab.kernel.accessAllowed ? 'block' : 'none';\n",
              "\n",
              "        async function convertToInteractive(key) {\n",
              "          const element = document.querySelector('#df-9732f9d0-2667-4508-aa8b-d1d80ee13124');\n",
              "          const dataTable =\n",
              "            await google.colab.kernel.invokeFunction('convertToInteractive',\n",
              "                                                     [key], {});\n",
              "          if (!dataTable) return;\n",
              "\n",
              "          const docLinkHtml = 'Like what you see? Visit the ' +\n",
              "            '<a target=\"_blank\" href=https://colab.research.google.com/notebooks/data_table.ipynb>data table notebook</a>'\n",
              "            + ' to learn more about interactive tables.';\n",
              "          element.innerHTML = '';\n",
              "          dataTable['output_type'] = 'display_data';\n",
              "          await google.colab.output.renderOutput(dataTable, element);\n",
              "          const docLink = document.createElement('div');\n",
              "          docLink.innerHTML = docLinkHtml;\n",
              "          element.appendChild(docLink);\n",
              "        }\n",
              "      </script>\n",
              "    </div>\n",
              "  </div>\n",
              "  "
            ]
          },
          "metadata": {},
          "execution_count": 44
        }
      ]
    },
    {
      "cell_type": "markdown",
      "source": [
        "The shrinking labor force is interesting. This may support the thesis that college education is countercyclical if one of the reasons the labor force is shrinking is because people leave the workforce to attend school. This will be something to test. \n",
        "\n",
        "aok yeah; \"great resignation\" can do dissertation on that, eg by gender, age etc etc"
      ],
      "metadata": {
        "id": "cZo-ZCWxpYtB"
      }
    },
    {
      "cell_type": "code",
      "source": [
        "njunemp.plot(x=\"County\", y=[\"LaborForce2020\", \"LaborForce2021\"], kind=\"bar\")"
      ],
      "metadata": {
        "colab": {
          "base_uri": "https://localhost:8080/",
          "height": 386
        },
        "id": "jG1HP1SPX-oh",
        "outputId": "f7ca36cf-73df-486c-bf95-92635729b572"
      },
      "execution_count": 45,
      "outputs": [
        {
          "output_type": "execute_result",
          "data": {
            "text/plain": [
              "<matplotlib.axes._subplots.AxesSubplot at 0x7faf5468dd30>"
            ]
          },
          "metadata": {},
          "execution_count": 45
        },
        {
          "output_type": "display_data",
          "data": {
            "text/plain": [
              "<Figure size 432x288 with 1 Axes>"
            ],
            "image/png": "[encoded data removed]"
          },
          "metadata": {
            "needs_background": "light"
          }
        }
      ]
    },
    {
      "cell_type": "code",
      "source": [
        "njunemp['County'] = njunemp['County'].str.replace(' County',' ')"
      ],
      "metadata": {
        "id": "qvMy570fiYaV"
      },
      "execution_count": 172,
      "outputs": []
    },
    {
      "cell_type": "code",
      "source": [
        "#Just checking to see if I successfully removed 'County.' Later I will undo this because of a merge problem, but my instincts were to clean this up. \n",
        "njunemp.plot(x=\"County\", y=[\"LaborForce2020\", \"LaborForce2021\"], kind=\"bar\")"
      ],
      "metadata": {
        "colab": {
          "base_uri": "https://localhost:8080/",
          "height": 347
        },
        "id": "1boQazIXieMh",
        "outputId": "23fc9087-afab-446e-93d3-a40ad2823ea5"
      },
      "execution_count": 173,
      "outputs": [
        {
          "output_type": "execute_result",
          "data": {
            "text/plain": [
              "<matplotlib.axes._subplots.AxesSubplot at 0x7faf5273f220>"
            ]
          },
          "metadata": {},
          "execution_count": 173
        },
        {
          "output_type": "display_data",
          "data": {
            "text/plain": [
              "<Figure size 432x288 with 1 Axes>"
            ],
            "image/png": "[encoded data removed]"
          },
          "metadata": {
            "needs_background": "light"
          }
        }
      ]
    },
    {
      "cell_type": "markdown",
      "source": [
        "### Import: Data File 3: New Jersey Zip Codes\n",
        "Found the data on a background check website - https://www.corragroup.com/new-jersey-county-lookup.html It was the cleanest file and I wanted to test the import from html table code.\n",
        "\n"
      ],
      "metadata": {
        "id": "Y6-XROSiokya"
      }
    },
    {
      "cell_type": "code",
      "source": [
        "#Found this import code at https://towardsdatascience.com/2-easy-ways-to-get-tables-from-a-website-with-pandas-b92fc835e741. I'll save for later. \n",
        "pd.read_html('https://www.corragroup.com/new-jersey-county-lookup.html')"
      ],
      "metadata": {
        "colab": {
          "base_uri": "https://localhost:8080/"
        },
        "id": "_3gAMetemtVW",
        "outputId": "f8b5a15a-19f3-4eb2-a788-9a66d6540c73"
      },
      "execution_count": 174,
      "outputs": [
        {
          "output_type": "execute_result",
          "data": {
            "text/plain": [
              "[                   City ZIP Code      County\n",
              " 0                   A C    08401    ATLANTIC\n",
              " 1              ABERDEEN    07747    MONMOUTH\n",
              " 2               ABSECON    08201    ATLANTIC\n",
              " 3       ABSECON HEIGHTS    08201    ATLANTIC\n",
              " 4     ABSECON HIGHLANDS    08201    ATLANTIC\n",
              " ...                 ...      ...         ...\n",
              " 1250        WRIGHTSTOWN    08562  BURLINGTON\n",
              " 1251            WYCKOFF    07481      BERGEN\n",
              " 1252          YARDVILLE    08620      MERCER\n",
              " 1253           ZAREPATH    08873    SOMERSET\n",
              " 1254          ZAREPHATH    08890    SOMERSET\n",
              " \n",
              " [1255 rows x 3 columns]]"
            ]
          },
          "metadata": {},
          "execution_count": 174
        }
      ]
    },
    {
      "cell_type": "code",
      "source": [
        "pd.read_html('https://www.corragroup.com/new-jersey-county-lookup.html')[0]"
      ],
      "metadata": {
        "colab": {
          "base_uri": "https://localhost:8080/",
          "height": 423
        },
        "id": "-t-UV3R6pSXj",
        "outputId": "059a9e8b-77a2-41b5-cee3-4317c24d7627"
      },
      "execution_count": 175,
      "outputs": [
        {
          "output_type": "execute_result",
          "data": {
            "text/plain": [
              "                   City ZIP Code      County\n",
              "0                   A C    08401    ATLANTIC\n",
              "1              ABERDEEN    07747    MONMOUTH\n",
              "2               ABSECON    08201    ATLANTIC\n",
              "3       ABSECON HEIGHTS    08201    ATLANTIC\n",
              "4     ABSECON HIGHLANDS    08201    ATLANTIC\n",
              "...                 ...      ...         ...\n",
              "1250        WRIGHTSTOWN    08562  BURLINGTON\n",
              "1251            WYCKOFF    07481      BERGEN\n",
              "1252          YARDVILLE    08620      MERCER\n",
              "1253           ZAREPATH    08873    SOMERSET\n",
              "1254          ZAREPHATH    08890    SOMERSET\n",
              "\n",
              "[1255 rows x 3 columns]"
            ],
            "text/html": [
              "\n",
              "  <div id=\"df-13816c8d-539d-4e6b-9fd9-e05c85908b7c\">\n",
              "    <div class=\"colab-df-container\">\n",
              "      <div>\n",
              "<style scoped>\n",
              "    .dataframe tbody tr th:only-of-type {\n",
              "        vertical-align: middle;\n",
              "    }\n",
              "\n",
              "    .dataframe tbody tr th {\n",
              "        vertical-align: top;\n",
              "    }\n",
              "\n",
              "    .dataframe thead th {\n",
              "        text-align: right;\n",
              "    }\n",
              "</style>\n",
              "<table border=\"1\" class=\"dataframe\">\n",
              "  <thead>\n",
              "    <tr style=\"text-align: right;\">\n",
              "      <th></th>\n",
              "      <th>City</th>\n",
              "      <th>ZIP Code</th>\n",
              "      <th>County</th>\n",
              "    </tr>\n",
              "  </thead>\n",
              "  <tbody>\n",
              "    <tr>\n",
              "      <th>0</th>\n",
              "      <td>A C</td>\n",
              "      <td>08401</td>\n",
              "      <td>ATLANTIC</td>\n",
              "    </tr>\n",
              "    <tr>\n",
              "      <th>1</th>\n",
              "      <td>ABERDEEN</td>\n",
              "      <td>07747</td>\n",
              "      <td>MONMOUTH</td>\n",
              "    </tr>\n",
              "    <tr>\n",
              "      <th>2</th>\n",
              "      <td>ABSECON</td>\n",
              "      <td>08201</td>\n",
              "      <td>ATLANTIC</td>\n",
              "    </tr>\n",
              "    <tr>\n",
              "      <th>3</th>\n",
              "      <td>ABSECON HEIGHTS</td>\n",
              "      <td>08201</td>\n",
              "      <td>ATLANTIC</td>\n",
              "    </tr>\n",
              "    <tr>\n",
              "      <th>4</th>\n",
              "      <td>ABSECON HIGHLANDS</td>\n",
              "      <td>08201</td>\n",
              "      <td>ATLANTIC</td>\n",
              "    </tr>\n",
              "    <tr>\n",
              "      <th>...</th>\n",
              "      <td>...</td>\n",
              "      <td>...</td>\n",
              "      <td>...</td>\n",
              "    </tr>\n",
              "    <tr>\n",
              "      <th>1250</th>\n",
              "      <td>WRIGHTSTOWN</td>\n",
              "      <td>08562</td>\n",
              "      <td>BURLINGTON</td>\n",
              "    </tr>\n",
              "    <tr>\n",
              "      <th>1251</th>\n",
              "      <td>WYCKOFF</td>\n",
              "      <td>07481</td>\n",
              "      <td>BERGEN</td>\n",
              "    </tr>\n",
              "    <tr>\n",
              "      <th>1252</th>\n",
              "      <td>YARDVILLE</td>\n",
              "      <td>08620</td>\n",
              "      <td>MERCER</td>\n",
              "    </tr>\n",
              "    <tr>\n",
              "      <th>1253</th>\n",
              "      <td>ZAREPATH</td>\n",
              "      <td>08873</td>\n",
              "      <td>SOMERSET</td>\n",
              "    </tr>\n",
              "    <tr>\n",
              "      <th>1254</th>\n",
              "      <td>ZAREPHATH</td>\n",
              "      <td>08890</td>\n",
              "      <td>SOMERSET</td>\n",
              "    </tr>\n",
              "  </tbody>\n",
              "</table>\n",
              "<p>1255 rows × 3 columns</p>\n",
              "</div>\n",
              "      <button class=\"colab-df-convert\" onclick=\"convertToInteractive('df-13816c8d-539d-4e6b-9fd9-e05c85908b7c')\"\n",
              "              title=\"Convert this dataframe to an interactive table.\"\n",
              "              style=\"display:none;\">\n",
              "        \n",
              "  <svg xmlns=\"http://www.w3.org/2000/svg\" height=\"24px\"viewBox=\"0 0 24 24\"\n",
              "       width=\"24px\">\n",
              "    <path d=\"M0 0h24v24H0V0z\" fill=\"none\"/>\n",
              "    <path d=\"M18.56 5.44l.94 2.06.94-2.06 2.06-.94-2.06-.94-.94-2.06-.94 2.06-2.06.94zm-11 1L8.5 8.5l.94-2.06 2.06-.94-2.06-.94L8.5 2.5l-.94 2.06-2.06.94zm10 10l.94 2.06.94-2.06 2.06-.94-2.06-.94-.94-2.06-.94 2.06-2.06.94z\"/><path d=\"M17.41 7.96l-1.37-1.37c-.4-.4-.92-.59-1.43-.59-.52 0-1.04.2-1.43.59L10.3 9.45l-7.72 7.72c-.78.78-.78 2.05 0 2.83L4 21.41c.39.39.9.59 1.41.59.51 0 1.02-.2 1.41-.59l7.78-7.78 2.81-2.81c.8-.78.8-2.07 0-2.86zM5.41 20L4 18.59l7.72-7.72 1.47 1.35L5.41 20z\"/>\n",
              "  </svg>\n",
              "      </button>\n",
              "      \n",
              "  <style>\n",
              "    .colab-df-container {\n",
              "      display:flex;\n",
              "      flex-wrap:wrap;\n",
              "      gap: 12px;\n",
              "    }\n",
              "\n",
              "    .colab-df-convert {\n",
              "      background-color: #E8F0FE;\n",
              "      border: none;\n",
              "      border-radius: 50%;\n",
              "      cursor: pointer;\n",
              "      display: none;\n",
              "      fill: #1967D2;\n",
              "      height: 32px;\n",
              "      padding: 0 0 0 0;\n",
              "      width: 32px;\n",
              "    }\n",
              "\n",
              "    .colab-df-convert:hover {\n",
              "      background-color: #E2EBFA;\n",
              "      box-shadow: 0px 1px 2px rgba(60, 64, 67, 0.3), 0px 1px 3px 1px rgba(60, 64, 67, 0.15);\n",
              "      fill: #174EA6;\n",
              "    }\n",
              "\n",
              "    [theme=dark] .colab-df-convert {\n",
              "      background-color: #3B4455;\n",
              "      fill: #D2E3FC;\n",
              "    }\n",
              "\n",
              "    [theme=dark] .colab-df-convert:hover {\n",
              "      background-color: #434B5C;\n",
              "      box-shadow: 0px 1px 3px 1px rgba(0, 0, 0, 0.15);\n",
              "      filter: drop-shadow(0px 1px 2px rgba(0, 0, 0, 0.3));\n",
              "      fill: #FFFFFF;\n",
              "    }\n",
              "  </style>\n",
              "\n",
              "      <script>\n",
              "        const buttonEl =\n",
              "          document.querySelector('#df-13816c8d-539d-4e6b-9fd9-e05c85908b7c button.colab-df-convert');\n",
              "        buttonEl.style.display =\n",
              "          google.colab.kernel.accessAllowed ? 'block' : 'none';\n",
              "\n",
              "        async function convertToInteractive(key) {\n",
              "          const element = document.querySelector('#df-13816c8d-539d-4e6b-9fd9-e05c85908b7c');\n",
              "          const dataTable =\n",
              "            await google.colab.kernel.invokeFunction('convertToInteractive',\n",
              "                                                     [key], {});\n",
              "          if (!dataTable) return;\n",
              "\n",
              "          const docLinkHtml = 'Like what you see? Visit the ' +\n",
              "            '<a target=\"_blank\" href=https://colab.research.google.com/notebooks/data_table.ipynb>data table notebook</a>'\n",
              "            + ' to learn more about interactive tables.';\n",
              "          element.innerHTML = '';\n",
              "          dataTable['output_type'] = 'display_data';\n",
              "          await google.colab.output.renderOutput(dataTable, element);\n",
              "          const docLink = document.createElement('div');\n",
              "          docLink.innerHTML = docLinkHtml;\n",
              "          element.appendChild(docLink);\n",
              "        }\n",
              "      </script>\n",
              "    </div>\n",
              "  </div>\n",
              "  "
            ]
          },
          "metadata": {},
          "execution_count": 175
        }
      ]
    },
    {
      "cell_type": "code",
      "source": [
        "njzips=pd.read_html('https://www.corragroup.com/new-jersey-county-lookup.html')[0]"
      ],
      "metadata": {
        "id": "gsp0DnKjd1Xp"
      },
      "execution_count": 176,
      "outputs": []
    },
    {
      "cell_type": "code",
      "source": [
        "njzips.head(3)"
      ],
      "metadata": {
        "colab": {
          "base_uri": "https://localhost:8080/",
          "height": 143
        },
        "id": "nqumWz1NeBzb",
        "outputId": "27d44963-3260-41f3-df0e-e73fdfa89e57"
      },
      "execution_count": 177,
      "outputs": [
        {
          "output_type": "execute_result",
          "data": {
            "text/plain": [
              "       City ZIP Code    County\n",
              "0       A C    08401  ATLANTIC\n",
              "1  ABERDEEN    07747  MONMOUTH\n",
              "2   ABSECON    08201  ATLANTIC"
            ],
            "text/html": [
              "\n",
              "  <div id=\"df-ca55eecb-929d-48be-b1f9-2f61a62c51fd\">\n",
              "    <div class=\"colab-df-container\">\n",
              "      <div>\n",
              "<style scoped>\n",
              "    .dataframe tbody tr th:only-of-type {\n",
              "        vertical-align: middle;\n",
              "    }\n",
              "\n",
              "    .dataframe tbody tr th {\n",
              "        vertical-align: top;\n",
              "    }\n",
              "\n",
              "    .dataframe thead th {\n",
              "        text-align: right;\n",
              "    }\n",
              "</style>\n",
              "<table border=\"1\" class=\"dataframe\">\n",
              "  <thead>\n",
              "    <tr style=\"text-align: right;\">\n",
              "      <th></th>\n",
              "      <th>City</th>\n",
              "      <th>ZIP Code</th>\n",
              "      <th>County</th>\n",
              "    </tr>\n",
              "  </thead>\n",
              "  <tbody>\n",
              "    <tr>\n",
              "      <th>0</th>\n",
              "      <td>A C</td>\n",
              "      <td>08401</td>\n",
              "      <td>ATLANTIC</td>\n",
              "    </tr>\n",
              "    <tr>\n",
              "      <th>1</th>\n",
              "      <td>ABERDEEN</td>\n",
              "      <td>07747</td>\n",
              "      <td>MONMOUTH</td>\n",
              "    </tr>\n",
              "    <tr>\n",
              "      <th>2</th>\n",
              "      <td>ABSECON</td>\n",
              "      <td>08201</td>\n",
              "      <td>ATLANTIC</td>\n",
              "    </tr>\n",
              "  </tbody>\n",
              "</table>\n",
              "</div>\n",
              "      <button class=\"colab-df-convert\" onclick=\"convertToInteractive('df-ca55eecb-929d-48be-b1f9-2f61a62c51fd')\"\n",
              "              title=\"Convert this dataframe to an interactive table.\"\n",
              "              style=\"display:none;\">\n",
              "        \n",
              "  <svg xmlns=\"http://www.w3.org/2000/svg\" height=\"24px\"viewBox=\"0 0 24 24\"\n",
              "       width=\"24px\">\n",
              "    <path d=\"M0 0h24v24H0V0z\" fill=\"none\"/>\n",
              "    <path d=\"M18.56 5.44l.94 2.06.94-2.06 2.06-.94-2.06-.94-.94-2.06-.94 2.06-2.06.94zm-11 1L8.5 8.5l.94-2.06 2.06-.94-2.06-.94L8.5 2.5l-.94 2.06-2.06.94zm10 10l.94 2.06.94-2.06 2.06-.94-2.06-.94-.94-2.06-.94 2.06-2.06.94z\"/><path d=\"M17.41 7.96l-1.37-1.37c-.4-.4-.92-.59-1.43-.59-.52 0-1.04.2-1.43.59L10.3 9.45l-7.72 7.72c-.78.78-.78 2.05 0 2.83L4 21.41c.39.39.9.59 1.41.59.51 0 1.02-.2 1.41-.59l7.78-7.78 2.81-2.81c.8-.78.8-2.07 0-2.86zM5.41 20L4 18.59l7.72-7.72 1.47 1.35L5.41 20z\"/>\n",
              "  </svg>\n",
              "      </button>\n",
              "      \n",
              "  <style>\n",
              "    .colab-df-container {\n",
              "      display:flex;\n",
              "      flex-wrap:wrap;\n",
              "      gap: 12px;\n",
              "    }\n",
              "\n",
              "    .colab-df-convert {\n",
              "      background-color: #E8F0FE;\n",
              "      border: none;\n",
              "      border-radius: 50%;\n",
              "      cursor: pointer;\n",
              "      display: none;\n",
              "      fill: #1967D2;\n",
              "      height: 32px;\n",
              "      padding: 0 0 0 0;\n",
              "      width: 32px;\n",
              "    }\n",
              "\n",
              "    .colab-df-convert:hover {\n",
              "      background-color: #E2EBFA;\n",
              "      box-shadow: 0px 1px 2px rgba(60, 64, 67, 0.3), 0px 1px 3px 1px rgba(60, 64, 67, 0.15);\n",
              "      fill: #174EA6;\n",
              "    }\n",
              "\n",
              "    [theme=dark] .colab-df-convert {\n",
              "      background-color: #3B4455;\n",
              "      fill: #D2E3FC;\n",
              "    }\n",
              "\n",
              "    [theme=dark] .colab-df-convert:hover {\n",
              "      background-color: #434B5C;\n",
              "      box-shadow: 0px 1px 3px 1px rgba(0, 0, 0, 0.15);\n",
              "      filter: drop-shadow(0px 1px 2px rgba(0, 0, 0, 0.3));\n",
              "      fill: #FFFFFF;\n",
              "    }\n",
              "  </style>\n",
              "\n",
              "      <script>\n",
              "        const buttonEl =\n",
              "          document.querySelector('#df-ca55eecb-929d-48be-b1f9-2f61a62c51fd button.colab-df-convert');\n",
              "        buttonEl.style.display =\n",
              "          google.colab.kernel.accessAllowed ? 'block' : 'none';\n",
              "\n",
              "        async function convertToInteractive(key) {\n",
              "          const element = document.querySelector('#df-ca55eecb-929d-48be-b1f9-2f61a62c51fd');\n",
              "          const dataTable =\n",
              "            await google.colab.kernel.invokeFunction('convertToInteractive',\n",
              "                                                     [key], {});\n",
              "          if (!dataTable) return;\n",
              "\n",
              "          const docLinkHtml = 'Like what you see? Visit the ' +\n",
              "            '<a target=\"_blank\" href=https://colab.research.google.com/notebooks/data_table.ipynb>data table notebook</a>'\n",
              "            + ' to learn more about interactive tables.';\n",
              "          element.innerHTML = '';\n",
              "          dataTable['output_type'] = 'display_data';\n",
              "          await google.colab.output.renderOutput(dataTable, element);\n",
              "          const docLink = document.createElement('div');\n",
              "          docLink.innerHTML = docLinkHtml;\n",
              "          element.appendChild(docLink);\n",
              "        }\n",
              "      </script>\n",
              "    </div>\n",
              "  </div>\n",
              "  "
            ]
          },
          "metadata": {},
          "execution_count": 177
        }
      ]
    },
    {
      "cell_type": "code",
      "source": [
        "njzips = njzips.rename(columns={'ZIP Code':\"C_Zip\"})"
      ],
      "metadata": {
        "id": "X2N8j2gXeN6v"
      },
      "execution_count": 178,
      "outputs": []
    },
    {
      "cell_type": "code",
      "source": [
        "njzips.head(3)"
      ],
      "metadata": {
        "colab": {
          "base_uri": "https://localhost:8080/",
          "height": 143
        },
        "id": "4CYvAVZMeijY",
        "outputId": "74a0ba48-f2c0-497b-acf8-5c0cbaa3280f"
      },
      "execution_count": 179,
      "outputs": [
        {
          "output_type": "execute_result",
          "data": {
            "text/plain": [
              "       City  C_Zip    County\n",
              "0       A C  08401  ATLANTIC\n",
              "1  ABERDEEN  07747  MONMOUTH\n",
              "2   ABSECON  08201  ATLANTIC"
            ],
            "text/html": [
              "\n",
              "  <div id=\"df-1360c7a3-e48d-44c8-855c-adb1fc494e0a\">\n",
              "    <div class=\"colab-df-container\">\n",
              "      <div>\n",
              "<style scoped>\n",
              "    .dataframe tbody tr th:only-of-type {\n",
              "        vertical-align: middle;\n",
              "    }\n",
              "\n",
              "    .dataframe tbody tr th {\n",
              "        vertical-align: top;\n",
              "    }\n",
              "\n",
              "    .dataframe thead th {\n",
              "        text-align: right;\n",
              "    }\n",
              "</style>\n",
              "<table border=\"1\" class=\"dataframe\">\n",
              "  <thead>\n",
              "    <tr style=\"text-align: right;\">\n",
              "      <th></th>\n",
              "      <th>City</th>\n",
              "      <th>C_Zip</th>\n",
              "      <th>County</th>\n",
              "    </tr>\n",
              "  </thead>\n",
              "  <tbody>\n",
              "    <tr>\n",
              "      <th>0</th>\n",
              "      <td>A C</td>\n",
              "      <td>08401</td>\n",
              "      <td>ATLANTIC</td>\n",
              "    </tr>\n",
              "    <tr>\n",
              "      <th>1</th>\n",
              "      <td>ABERDEEN</td>\n",
              "      <td>07747</td>\n",
              "      <td>MONMOUTH</td>\n",
              "    </tr>\n",
              "    <tr>\n",
              "      <th>2</th>\n",
              "      <td>ABSECON</td>\n",
              "      <td>08201</td>\n",
              "      <td>ATLANTIC</td>\n",
              "    </tr>\n",
              "  </tbody>\n",
              "</table>\n",
              "</div>\n",
              "      <button class=\"colab-df-convert\" onclick=\"convertToInteractive('df-1360c7a3-e48d-44c8-855c-adb1fc494e0a')\"\n",
              "              title=\"Convert this dataframe to an interactive table.\"\n",
              "              style=\"display:none;\">\n",
              "        \n",
              "  <svg xmlns=\"http://www.w3.org/2000/svg\" height=\"24px\"viewBox=\"0 0 24 24\"\n",
              "       width=\"24px\">\n",
              "    <path d=\"M0 0h24v24H0V0z\" fill=\"none\"/>\n",
              "    <path d=\"M18.56 5.44l.94 2.06.94-2.06 2.06-.94-2.06-.94-.94-2.06-.94 2.06-2.06.94zm-11 1L8.5 8.5l.94-2.06 2.06-.94-2.06-.94L8.5 2.5l-.94 2.06-2.06.94zm10 10l.94 2.06.94-2.06 2.06-.94-2.06-.94-.94-2.06-.94 2.06-2.06.94z\"/><path d=\"M17.41 7.96l-1.37-1.37c-.4-.4-.92-.59-1.43-.59-.52 0-1.04.2-1.43.59L10.3 9.45l-7.72 7.72c-.78.78-.78 2.05 0 2.83L4 21.41c.39.39.9.59 1.41.59.51 0 1.02-.2 1.41-.59l7.78-7.78 2.81-2.81c.8-.78.8-2.07 0-2.86zM5.41 20L4 18.59l7.72-7.72 1.47 1.35L5.41 20z\"/>\n",
              "  </svg>\n",
              "      </button>\n",
              "      \n",
              "  <style>\n",
              "    .colab-df-container {\n",
              "      display:flex;\n",
              "      flex-wrap:wrap;\n",
              "      gap: 12px;\n",
              "    }\n",
              "\n",
              "    .colab-df-convert {\n",
              "      background-color: #E8F0FE;\n",
              "      border: none;\n",
              "      border-radius: 50%;\n",
              "      cursor: pointer;\n",
              "      display: none;\n",
              "      fill: #1967D2;\n",
              "      height: 32px;\n",
              "      padding: 0 0 0 0;\n",
              "      width: 32px;\n",
              "    }\n",
              "\n",
              "    .colab-df-convert:hover {\n",
              "      background-color: #E2EBFA;\n",
              "      box-shadow: 0px 1px 2px rgba(60, 64, 67, 0.3), 0px 1px 3px 1px rgba(60, 64, 67, 0.15);\n",
              "      fill: #174EA6;\n",
              "    }\n",
              "\n",
              "    [theme=dark] .colab-df-convert {\n",
              "      background-color: #3B4455;\n",
              "      fill: #D2E3FC;\n",
              "    }\n",
              "\n",
              "    [theme=dark] .colab-df-convert:hover {\n",
              "      background-color: #434B5C;\n",
              "      box-shadow: 0px 1px 3px 1px rgba(0, 0, 0, 0.15);\n",
              "      filter: drop-shadow(0px 1px 2px rgba(0, 0, 0, 0.3));\n",
              "      fill: #FFFFFF;\n",
              "    }\n",
              "  </style>\n",
              "\n",
              "      <script>\n",
              "        const buttonEl =\n",
              "          document.querySelector('#df-1360c7a3-e48d-44c8-855c-adb1fc494e0a button.colab-df-convert');\n",
              "        buttonEl.style.display =\n",
              "          google.colab.kernel.accessAllowed ? 'block' : 'none';\n",
              "\n",
              "        async function convertToInteractive(key) {\n",
              "          const element = document.querySelector('#df-1360c7a3-e48d-44c8-855c-adb1fc494e0a');\n",
              "          const dataTable =\n",
              "            await google.colab.kernel.invokeFunction('convertToInteractive',\n",
              "                                                     [key], {});\n",
              "          if (!dataTable) return;\n",
              "\n",
              "          const docLinkHtml = 'Like what you see? Visit the ' +\n",
              "            '<a target=\"_blank\" href=https://colab.research.google.com/notebooks/data_table.ipynb>data table notebook</a>'\n",
              "            + ' to learn more about interactive tables.';\n",
              "          element.innerHTML = '';\n",
              "          dataTable['output_type'] = 'display_data';\n",
              "          await google.colab.output.renderOutput(dataTable, element);\n",
              "          const docLink = document.createElement('div');\n",
              "          docLink.innerHTML = docLinkHtml;\n",
              "          element.appendChild(docLink);\n",
              "        }\n",
              "      </script>\n",
              "    </div>\n",
              "  </div>\n",
              "  "
            ]
          },
          "metadata": {},
          "execution_count": 179
        }
      ]
    },
    {
      "cell_type": "code",
      "source": [
        "njzips[\"County\"]= njzips[\"County\"].str.title()"
      ],
      "metadata": {
        "id": "6TrM7RGze-s0"
      },
      "execution_count": 180,
      "outputs": []
    },
    {
      "cell_type": "code",
      "source": [
        "njzips.head(3)"
      ],
      "metadata": {
        "colab": {
          "base_uri": "https://localhost:8080/",
          "height": 143
        },
        "id": "VlXR_r6GfOFT",
        "outputId": "df0f5d29-76a9-4ae5-87d2-f93ec09ec973"
      },
      "execution_count": 181,
      "outputs": [
        {
          "output_type": "execute_result",
          "data": {
            "text/plain": [
              "       City  C_Zip    County\n",
              "0       A C  08401  Atlantic\n",
              "1  ABERDEEN  07747  Monmouth\n",
              "2   ABSECON  08201  Atlantic"
            ],
            "text/html": [
              "\n",
              "  <div id=\"df-0c540074-939f-450b-8908-3f8e3dc7aa6b\">\n",
              "    <div class=\"colab-df-container\">\n",
              "      <div>\n",
              "<style scoped>\n",
              "    .dataframe tbody tr th:only-of-type {\n",
              "        vertical-align: middle;\n",
              "    }\n",
              "\n",
              "    .dataframe tbody tr th {\n",
              "        vertical-align: top;\n",
              "    }\n",
              "\n",
              "    .dataframe thead th {\n",
              "        text-align: right;\n",
              "    }\n",
              "</style>\n",
              "<table border=\"1\" class=\"dataframe\">\n",
              "  <thead>\n",
              "    <tr style=\"text-align: right;\">\n",
              "      <th></th>\n",
              "      <th>City</th>\n",
              "      <th>C_Zip</th>\n",
              "      <th>County</th>\n",
              "    </tr>\n",
              "  </thead>\n",
              "  <tbody>\n",
              "    <tr>\n",
              "      <th>0</th>\n",
              "      <td>A C</td>\n",
              "      <td>08401</td>\n",
              "      <td>Atlantic</td>\n",
              "    </tr>\n",
              "    <tr>\n",
              "      <th>1</th>\n",
              "      <td>ABERDEEN</td>\n",
              "      <td>07747</td>\n",
              "      <td>Monmouth</td>\n",
              "    </tr>\n",
              "    <tr>\n",
              "      <th>2</th>\n",
              "      <td>ABSECON</td>\n",
              "      <td>08201</td>\n",
              "      <td>Atlantic</td>\n",
              "    </tr>\n",
              "  </tbody>\n",
              "</table>\n",
              "</div>\n",
              "      <button class=\"colab-df-convert\" onclick=\"convertToInteractive('df-0c540074-939f-450b-8908-3f8e3dc7aa6b')\"\n",
              "              title=\"Convert this dataframe to an interactive table.\"\n",
              "              style=\"display:none;\">\n",
              "        \n",
              "  <svg xmlns=\"http://www.w3.org/2000/svg\" height=\"24px\"viewBox=\"0 0 24 24\"\n",
              "       width=\"24px\">\n",
              "    <path d=\"M0 0h24v24H0V0z\" fill=\"none\"/>\n",
              "    <path d=\"M18.56 5.44l.94 2.06.94-2.06 2.06-.94-2.06-.94-.94-2.06-.94 2.06-2.06.94zm-11 1L8.5 8.5l.94-2.06 2.06-.94-2.06-.94L8.5 2.5l-.94 2.06-2.06.94zm10 10l.94 2.06.94-2.06 2.06-.94-2.06-.94-.94-2.06-.94 2.06-2.06.94z\"/><path d=\"M17.41 7.96l-1.37-1.37c-.4-.4-.92-.59-1.43-.59-.52 0-1.04.2-1.43.59L10.3 9.45l-7.72 7.72c-.78.78-.78 2.05 0 2.83L4 21.41c.39.39.9.59 1.41.59.51 0 1.02-.2 1.41-.59l7.78-7.78 2.81-2.81c.8-.78.8-2.07 0-2.86zM5.41 20L4 18.59l7.72-7.72 1.47 1.35L5.41 20z\"/>\n",
              "  </svg>\n",
              "      </button>\n",
              "      \n",
              "  <style>\n",
              "    .colab-df-container {\n",
              "      display:flex;\n",
              "      flex-wrap:wrap;\n",
              "      gap: 12px;\n",
              "    }\n",
              "\n",
              "    .colab-df-convert {\n",
              "      background-color: #E8F0FE;\n",
              "      border: none;\n",
              "      border-radius: 50%;\n",
              "      cursor: pointer;\n",
              "      display: none;\n",
              "      fill: #1967D2;\n",
              "      height: 32px;\n",
              "      padding: 0 0 0 0;\n",
              "      width: 32px;\n",
              "    }\n",
              "\n",
              "    .colab-df-convert:hover {\n",
              "      background-color: #E2EBFA;\n",
              "      box-shadow: 0px 1px 2px rgba(60, 64, 67, 0.3), 0px 1px 3px 1px rgba(60, 64, 67, 0.15);\n",
              "      fill: #174EA6;\n",
              "    }\n",
              "\n",
              "    [theme=dark] .colab-df-convert {\n",
              "      background-color: #3B4455;\n",
              "      fill: #D2E3FC;\n",
              "    }\n",
              "\n",
              "    [theme=dark] .colab-df-convert:hover {\n",
              "      background-color: #434B5C;\n",
              "      box-shadow: 0px 1px 3px 1px rgba(0, 0, 0, 0.15);\n",
              "      filter: drop-shadow(0px 1px 2px rgba(0, 0, 0, 0.3));\n",
              "      fill: #FFFFFF;\n",
              "    }\n",
              "  </style>\n",
              "\n",
              "      <script>\n",
              "        const buttonEl =\n",
              "          document.querySelector('#df-0c540074-939f-450b-8908-3f8e3dc7aa6b button.colab-df-convert');\n",
              "        buttonEl.style.display =\n",
              "          google.colab.kernel.accessAllowed ? 'block' : 'none';\n",
              "\n",
              "        async function convertToInteractive(key) {\n",
              "          const element = document.querySelector('#df-0c540074-939f-450b-8908-3f8e3dc7aa6b');\n",
              "          const dataTable =\n",
              "            await google.colab.kernel.invokeFunction('convertToInteractive',\n",
              "                                                     [key], {});\n",
              "          if (!dataTable) return;\n",
              "\n",
              "          const docLinkHtml = 'Like what you see? Visit the ' +\n",
              "            '<a target=\"_blank\" href=https://colab.research.google.com/notebooks/data_table.ipynb>data table notebook</a>'\n",
              "            + ' to learn more about interactive tables.';\n",
              "          element.innerHTML = '';\n",
              "          dataTable['output_type'] = 'display_data';\n",
              "          await google.colab.output.renderOutput(dataTable, element);\n",
              "          const docLink = document.createElement('div');\n",
              "          docLink.innerHTML = docLinkHtml;\n",
              "          element.appendChild(docLink);\n",
              "        }\n",
              "      </script>\n",
              "    </div>\n",
              "  </div>\n",
              "  "
            ]
          },
          "metadata": {},
          "execution_count": 181
        }
      ]
    },
    {
      "cell_type": "code",
      "source": [
        "njzips[\"City\"]= njzips[\"City\"].str.title()"
      ],
      "metadata": {
        "id": "6SbxsKwrfQ9g"
      },
      "execution_count": 57,
      "outputs": []
    },
    {
      "cell_type": "markdown",
      "source": [
        "## Merging"
      ],
      "metadata": {
        "id": "qQQaa_IHryG0"
      }
    },
    {
      "cell_type": "markdown",
      "source": [
        "### Merging Zips"
      ],
      "metadata": {
        "id": "cSUwmbwpMHPh"
      }
    },
    {
      "cell_type": "code",
      "source": [
        "njappdat.dtypes"
      ],
      "metadata": {
        "colab": {
          "base_uri": "https://localhost:8080/"
        },
        "id": "cX93X9J3rxrD",
        "outputId": "16475474-8b35-4c1e-c15a-79d46cbf52bf"
      },
      "execution_count": 182,
      "outputs": [
        {
          "output_type": "execute_result",
          "data": {
            "text/plain": [
              "ID                                                    int64\n",
              "Final Recommended Decision                           object\n",
              "Admit-Coming                                          int64\n",
              "Application Created Date                             object\n",
              "Days Before the Beginning of Semester                 int64\n",
              "Reporting Term                                       object\n",
              "Zip                                                  object\n",
              "State                                                object\n",
              "Country                                              object\n",
              "Most Recent Educational Institution: Account Name    object\n",
              "Gender                                               object\n",
              "Race                                                 object\n",
              "Program Selection: Program Selection Name            object\n",
              "Admissions Status                                    object\n",
              "C_Zip                                                object\n",
              "dtype: object"
            ]
          },
          "metadata": {},
          "execution_count": 182
        }
      ]
    },
    {
      "cell_type": "code",
      "source": [
        "#Simplified data for merging. This lists all the NJ apps with cleaned Zips. \n",
        "njappmerge=njappdat[['ID ','C_Zip']]\n",
        "njappmerge.head(3)"
      ],
      "metadata": {
        "colab": {
          "base_uri": "https://localhost:8080/",
          "height": 143
        },
        "id": "BTrlqCJwtd7R",
        "outputId": "54bfcd01-164f-480b-d61a-ca1ec0377660"
      },
      "execution_count": 183,
      "outputs": [
        {
          "output_type": "execute_result",
          "data": {
            "text/plain": [
              "   ID   C_Zip\n",
              "2    3  07009\n",
              "3    4  07726\n",
              "5    6  08755"
            ],
            "text/html": [
              "\n",
              "  <div id=\"df-78a2d7fd-2965-4059-9be5-e9d7278c7a8c\">\n",
              "    <div class=\"colab-df-container\">\n",
              "      <div>\n",
              "<style scoped>\n",
              "    .dataframe tbody tr th:only-of-type {\n",
              "        vertical-align: middle;\n",
              "    }\n",
              "\n",
              "    .dataframe tbody tr th {\n",
              "        vertical-align: top;\n",
              "    }\n",
              "\n",
              "    .dataframe thead th {\n",
              "        text-align: right;\n",
              "    }\n",
              "</style>\n",
              "<table border=\"1\" class=\"dataframe\">\n",
              "  <thead>\n",
              "    <tr style=\"text-align: right;\">\n",
              "      <th></th>\n",
              "      <th>ID</th>\n",
              "      <th>C_Zip</th>\n",
              "    </tr>\n",
              "  </thead>\n",
              "  <tbody>\n",
              "    <tr>\n",
              "      <th>2</th>\n",
              "      <td>3</td>\n",
              "      <td>07009</td>\n",
              "    </tr>\n",
              "    <tr>\n",
              "      <th>3</th>\n",
              "      <td>4</td>\n",
              "      <td>07726</td>\n",
              "    </tr>\n",
              "    <tr>\n",
              "      <th>5</th>\n",
              "      <td>6</td>\n",
              "      <td>08755</td>\n",
              "    </tr>\n",
              "  </tbody>\n",
              "</table>\n",
              "</div>\n",
              "      <button class=\"colab-df-convert\" onclick=\"convertToInteractive('df-78a2d7fd-2965-4059-9be5-e9d7278c7a8c')\"\n",
              "              title=\"Convert this dataframe to an interactive table.\"\n",
              "              style=\"display:none;\">\n",
              "        \n",
              "  <svg xmlns=\"http://www.w3.org/2000/svg\" height=\"24px\"viewBox=\"0 0 24 24\"\n",
              "       width=\"24px\">\n",
              "    <path d=\"M0 0h24v24H0V0z\" fill=\"none\"/>\n",
              "    <path d=\"M18.56 5.44l.94 2.06.94-2.06 2.06-.94-2.06-.94-.94-2.06-.94 2.06-2.06.94zm-11 1L8.5 8.5l.94-2.06 2.06-.94-2.06-.94L8.5 2.5l-.94 2.06-2.06.94zm10 10l.94 2.06.94-2.06 2.06-.94-2.06-.94-.94-2.06-.94 2.06-2.06.94z\"/><path d=\"M17.41 7.96l-1.37-1.37c-.4-.4-.92-.59-1.43-.59-.52 0-1.04.2-1.43.59L10.3 9.45l-7.72 7.72c-.78.78-.78 2.05 0 2.83L4 21.41c.39.39.9.59 1.41.59.51 0 1.02-.2 1.41-.59l7.78-7.78 2.81-2.81c.8-.78.8-2.07 0-2.86zM5.41 20L4 18.59l7.72-7.72 1.47 1.35L5.41 20z\"/>\n",
              "  </svg>\n",
              "      </button>\n",
              "      \n",
              "  <style>\n",
              "    .colab-df-container {\n",
              "      display:flex;\n",
              "      flex-wrap:wrap;\n",
              "      gap: 12px;\n",
              "    }\n",
              "\n",
              "    .colab-df-convert {\n",
              "      background-color: #E8F0FE;\n",
              "      border: none;\n",
              "      border-radius: 50%;\n",
              "      cursor: pointer;\n",
              "      display: none;\n",
              "      fill: #1967D2;\n",
              "      height: 32px;\n",
              "      padding: 0 0 0 0;\n",
              "      width: 32px;\n",
              "    }\n",
              "\n",
              "    .colab-df-convert:hover {\n",
              "      background-color: #E2EBFA;\n",
              "      box-shadow: 0px 1px 2px rgba(60, 64, 67, 0.3), 0px 1px 3px 1px rgba(60, 64, 67, 0.15);\n",
              "      fill: #174EA6;\n",
              "    }\n",
              "\n",
              "    [theme=dark] .colab-df-convert {\n",
              "      background-color: #3B4455;\n",
              "      fill: #D2E3FC;\n",
              "    }\n",
              "\n",
              "    [theme=dark] .colab-df-convert:hover {\n",
              "      background-color: #434B5C;\n",
              "      box-shadow: 0px 1px 3px 1px rgba(0, 0, 0, 0.15);\n",
              "      filter: drop-shadow(0px 1px 2px rgba(0, 0, 0, 0.3));\n",
              "      fill: #FFFFFF;\n",
              "    }\n",
              "  </style>\n",
              "\n",
              "      <script>\n",
              "        const buttonEl =\n",
              "          document.querySelector('#df-78a2d7fd-2965-4059-9be5-e9d7278c7a8c button.colab-df-convert');\n",
              "        buttonEl.style.display =\n",
              "          google.colab.kernel.accessAllowed ? 'block' : 'none';\n",
              "\n",
              "        async function convertToInteractive(key) {\n",
              "          const element = document.querySelector('#df-78a2d7fd-2965-4059-9be5-e9d7278c7a8c');\n",
              "          const dataTable =\n",
              "            await google.colab.kernel.invokeFunction('convertToInteractive',\n",
              "                                                     [key], {});\n",
              "          if (!dataTable) return;\n",
              "\n",
              "          const docLinkHtml = 'Like what you see? Visit the ' +\n",
              "            '<a target=\"_blank\" href=https://colab.research.google.com/notebooks/data_table.ipynb>data table notebook</a>'\n",
              "            + ' to learn more about interactive tables.';\n",
              "          element.innerHTML = '';\n",
              "          dataTable['output_type'] = 'display_data';\n",
              "          await google.colab.output.renderOutput(dataTable, element);\n",
              "          const docLink = document.createElement('div');\n",
              "          docLink.innerHTML = docLinkHtml;\n",
              "          element.appendChild(docLink);\n",
              "        }\n",
              "      </script>\n",
              "    </div>\n",
              "  </div>\n",
              "  "
            ]
          },
          "metadata": {},
          "execution_count": 183
        }
      ]
    },
    {
      "cell_type": "code",
      "source": [
        "print(njappmerge.C_Zip.unique())"
      ],
      "metadata": {
        "colab": {
          "base_uri": "https://localhost:8080/"
        },
        "id": "Ix0i7oyINWaz",
        "outputId": "804eec96-d376-46e9-9cf9-bda0f0106e55"
      },
      "execution_count": 184,
      "outputs": [
        {
          "output_type": "stream",
          "name": "stdout",
          "text": [
            "['07009' '07726' '08755' '08850' '07052' '07871' '08034' '08107' '07522'\n",
            " '08016' '81021' '8904' '08012' '7306' '07450' '08055' '08004' '8102'\n",
            " '08002' '08083' '7036' '08003' '08824' '08066' '08031' '08536' '08109'\n",
            " '08028' '08527' '08108' '08558' '08904' '08873' '8401' '07304' '08052'\n",
            " '08103' '08502' '08088' '8064' '08102' '8002' '08837' '08048' '08007'\n",
            " '08005' '08021' '8060' '08081' '08046' '08075' '08053' '08104' '8043'\n",
            " '08360' '08901' '08330' '8810' '8033' '08520' '8817' '08204' '07666'\n",
            " '08865' '08078' '7960' '08618' '07031' '8054' '08234' '07030' '08057'\n",
            " '8505' '07045' '08690' '7111' '08022' '07830' '08753' '07735' '08343'\n",
            " '07311' '08105' '08009' '07103' '8104' '7734' '08093' '08611' '07753'\n",
            " '07675' '8078' '08065' '8081' '07108' '8059' '08096' '8830' '7055'\n",
            " '08833' '8075' '07728' '08010' '8824' '8869' '08071' '8857' '08857'\n",
            " '08361' '08205' '08619' '08037' '8012' '08049' '8015' '8077' '7724'\n",
            " '07436' '07083' '07060' '08822' '07055' '08861' '07011' '08401' '08061'\n",
            " '7203' '07747' '07109' '8030' '08512' '8108' '08317' '7003' '8093' '8071'\n",
            " '08610' '08876' '07405' '08087' '08648' '8088' '07960' '07063' '7110'\n",
            " '07719' '08816' '8055' '08844' '07047' '07731' '07974' '07840' '07041'\n",
            " '08854' '07016' '08831' '8873' '07090' '08848' '07042' '07106' '08054'\n",
            " '07660' '08550' '08540' '08902' '08302' '08079' '08085' '07442' '08091'\n",
            " '07013' '08534' '08094' '08097' '8046' '8068' '08629' '8107' '08077'\n",
            " '07950' '7076' '8009' '7079' '8533' '07481' '8052' '8053' '08059' '08226'\n",
            " '08019' '8755' '08530' '08043' '8217' '08505' '08060' '07008' '7302'\n",
            " '08515' '08251' '7104' '07104' '08062' '8021' '8034' '08221' '7050'\n",
            " '07044' '8094' '08080' '8753' '8618' '08110' '7701' '08033' '8090'\n",
            " '07932' '08069' '08232' '07727' '08691' '08035' '8110' '08029' '08106'\n",
            " '8322' '07040' '8232']\n"
          ]
        }
      ]
    },
    {
      "cell_type": "code",
      "source": [
        "#cleaned the zip codes with missing leading zeroes. This was painfully inefficient. I need to come learn if statement syntax.  \n",
        "njappmerge=njappmerge.replace({'C_Zip':{'8904':'08904',\t'7306':'07306',\t'8102':'08102',\t'7036':'07036',\t'8401':'08401',\t'8064':'08064',\t'8002':'08002',\t'8060':'08060',\t'8043':'08043',\t'8810':'08810',\t'8033':'08033',\t'8817':'08817',\t'7960':'07960',\t'8054':'08054',\t'8505':'08505',\t'7111':'07111',\t'8104':'08104',\t'7734':'07734',\t'8078':'08078',\t'8081':'08081',\t'8059':'08059',\t'8830':'08830',\t'7055':'07055',\t'8075':'08075',\t'8824':'08824',\t'8869':'08869',\t'8857':'08857',\t'8012':'08012',\t'8015':'08015',\t'8077':'08077',\t'7724':'07724',\t'7203':'07203',\t'8030':'08030',\t'8108':'08108',\t'7003':'07003',\t'8093':'08093',\t'8071':'08071',\t'8088':'08088',\t'7110':'07110',\t'8055':'08055',\t'8873':'08873',\t'8046':'08046',\t'8068':'08068',\t'8107':'08107',\t'7076':'07076',\t'8009':'08009',\t'7079':'07079',\t'8533':'08533',\t'8052':'08052',\t'8053':'08053',\t'8755':'08755',\t'8217':'08217',\t'7302':'07302',\t'7104':'07104',\t'8021':'08021',\t'8034':'08034',\t'7050':'07050',\t'8094':'08094',\t'8753':'08753',\t'8618':'08618',\t'7701':'07701',\t'8090':'08090',\t'8110':'08110',\t'8322':'08322',\t'8232':'08232'}})"
      ],
      "metadata": {
        "id": "7aVqqcKpWiJ-"
      },
      "execution_count": 185,
      "outputs": []
    },
    {
      "cell_type": "code",
      "source": [
        "print(njappmerge.C_Zip.unique())"
      ],
      "metadata": {
        "colab": {
          "base_uri": "https://localhost:8080/"
        },
        "id": "O9bV_4DPW44x",
        "outputId": "94ce20e0-b2b3-46c8-fa26-051262b436ab"
      },
      "execution_count": 186,
      "outputs": [
        {
          "output_type": "stream",
          "name": "stdout",
          "text": [
            "['07009' '07726' '08755' '08850' '07052' '07871' '08034' '08107' '07522'\n",
            " '08016' '81021' '08904' '08012' '07306' '07450' '08055' '08004' '08102'\n",
            " '08002' '08083' '07036' '08003' '08824' '08066' '08031' '08536' '08109'\n",
            " '08028' '08527' '08108' '08558' '08873' '08401' '07304' '08052' '08103'\n",
            " '08502' '08088' '08064' '08837' '08048' '08007' '08005' '08021' '08060'\n",
            " '08081' '08046' '08075' '08053' '08104' '08043' '08360' '08901' '08330'\n",
            " '08810' '08033' '08520' '08817' '08204' '07666' '08865' '08078' '07960'\n",
            " '08618' '07031' '08054' '08234' '07030' '08057' '08505' '07045' '08690'\n",
            " '07111' '08022' '07830' '08753' '07735' '08343' '07311' '08105' '08009'\n",
            " '07103' '07734' '08093' '08611' '07753' '07675' '08065' '07108' '08059'\n",
            " '08096' '08830' '07055' '08833' '07728' '08010' '08869' '08071' '08857'\n",
            " '08361' '08205' '08619' '08037' '08049' '08015' '08077' '07724' '07436'\n",
            " '07083' '07060' '08822' '08861' '07011' '08061' '07203' '07747' '07109'\n",
            " '08030' '08512' '08317' '07003' '08610' '08876' '07405' '08087' '08648'\n",
            " '07063' '07110' '07719' '08816' '08844' '07047' '07731' '07974' '07840'\n",
            " '07041' '08854' '07016' '08831' '07090' '08848' '07042' '07106' '07660'\n",
            " '08550' '08540' '08902' '08302' '08079' '08085' '07442' '08091' '07013'\n",
            " '08534' '08094' '08097' '08068' '08629' '07950' '07076' '07079' '08533'\n",
            " '07481' '08226' '08019' '08530' '08217' '07008' '07302' '08515' '08251'\n",
            " '07104' '08062' '08221' '07050' '07044' '08080' '08110' '07701' '08090'\n",
            " '07932' '08069' '08232' '07727' '08691' '08035' '08029' '08106' '08322'\n",
            " '07040']\n"
          ]
        }
      ]
    },
    {
      "cell_type": "code",
      "source": [
        "njzips.dtypes"
      ],
      "metadata": {
        "colab": {
          "base_uri": "https://localhost:8080/"
        },
        "id": "fiCZmH7hvQk1",
        "outputId": "c8e5a7ac-aeda-46e5-8e83-cc9708b0467d"
      },
      "execution_count": 187,
      "outputs": [
        {
          "output_type": "execute_result",
          "data": {
            "text/plain": [
              "City      object\n",
              "C_Zip     object\n",
              "County    object\n",
              "dtype: object"
            ]
          },
          "metadata": {},
          "execution_count": 187
        }
      ]
    },
    {
      "cell_type": "code",
      "source": [
        "#This is the simplified data I am going to use to merge. These are the Zips I am going to use to find the county names. \n",
        "njzipsmerge=njzips[['C_Zip','County']]\n",
        "njzipsmerge.head(3)"
      ],
      "metadata": {
        "colab": {
          "base_uri": "https://localhost:8080/",
          "height": 143
        },
        "id": "bWMu5n3XvdLR",
        "outputId": "e29f0e15-8512-4e0a-9a43-b74025d69f40"
      },
      "execution_count": 188,
      "outputs": [
        {
          "output_type": "execute_result",
          "data": {
            "text/plain": [
              "   C_Zip    County\n",
              "0  08401  Atlantic\n",
              "1  07747  Monmouth\n",
              "2  08201  Atlantic"
            ],
            "text/html": [
              "\n",
              "  <div id=\"df-cf22cb94-8162-4a2e-b0cf-b8df17dfee5f\">\n",
              "    <div class=\"colab-df-container\">\n",
              "      <div>\n",
              "<style scoped>\n",
              "    .dataframe tbody tr th:only-of-type {\n",
              "        vertical-align: middle;\n",
              "    }\n",
              "\n",
              "    .dataframe tbody tr th {\n",
              "        vertical-align: top;\n",
              "    }\n",
              "\n",
              "    .dataframe thead th {\n",
              "        text-align: right;\n",
              "    }\n",
              "</style>\n",
              "<table border=\"1\" class=\"dataframe\">\n",
              "  <thead>\n",
              "    <tr style=\"text-align: right;\">\n",
              "      <th></th>\n",
              "      <th>C_Zip</th>\n",
              "      <th>County</th>\n",
              "    </tr>\n",
              "  </thead>\n",
              "  <tbody>\n",
              "    <tr>\n",
              "      <th>0</th>\n",
              "      <td>08401</td>\n",
              "      <td>Atlantic</td>\n",
              "    </tr>\n",
              "    <tr>\n",
              "      <th>1</th>\n",
              "      <td>07747</td>\n",
              "      <td>Monmouth</td>\n",
              "    </tr>\n",
              "    <tr>\n",
              "      <th>2</th>\n",
              "      <td>08201</td>\n",
              "      <td>Atlantic</td>\n",
              "    </tr>\n",
              "  </tbody>\n",
              "</table>\n",
              "</div>\n",
              "      <button class=\"colab-df-convert\" onclick=\"convertToInteractive('df-cf22cb94-8162-4a2e-b0cf-b8df17dfee5f')\"\n",
              "              title=\"Convert this dataframe to an interactive table.\"\n",
              "              style=\"display:none;\">\n",
              "        \n",
              "  <svg xmlns=\"http://www.w3.org/2000/svg\" height=\"24px\"viewBox=\"0 0 24 24\"\n",
              "       width=\"24px\">\n",
              "    <path d=\"M0 0h24v24H0V0z\" fill=\"none\"/>\n",
              "    <path d=\"M18.56 5.44l.94 2.06.94-2.06 2.06-.94-2.06-.94-.94-2.06-.94 2.06-2.06.94zm-11 1L8.5 8.5l.94-2.06 2.06-.94-2.06-.94L8.5 2.5l-.94 2.06-2.06.94zm10 10l.94 2.06.94-2.06 2.06-.94-2.06-.94-.94-2.06-.94 2.06-2.06.94z\"/><path d=\"M17.41 7.96l-1.37-1.37c-.4-.4-.92-.59-1.43-.59-.52 0-1.04.2-1.43.59L10.3 9.45l-7.72 7.72c-.78.78-.78 2.05 0 2.83L4 21.41c.39.39.9.59 1.41.59.51 0 1.02-.2 1.41-.59l7.78-7.78 2.81-2.81c.8-.78.8-2.07 0-2.86zM5.41 20L4 18.59l7.72-7.72 1.47 1.35L5.41 20z\"/>\n",
              "  </svg>\n",
              "      </button>\n",
              "      \n",
              "  <style>\n",
              "    .colab-df-container {\n",
              "      display:flex;\n",
              "      flex-wrap:wrap;\n",
              "      gap: 12px;\n",
              "    }\n",
              "\n",
              "    .colab-df-convert {\n",
              "      background-color: #E8F0FE;\n",
              "      border: none;\n",
              "      border-radius: 50%;\n",
              "      cursor: pointer;\n",
              "      display: none;\n",
              "      fill: #1967D2;\n",
              "      height: 32px;\n",
              "      padding: 0 0 0 0;\n",
              "      width: 32px;\n",
              "    }\n",
              "\n",
              "    .colab-df-convert:hover {\n",
              "      background-color: #E2EBFA;\n",
              "      box-shadow: 0px 1px 2px rgba(60, 64, 67, 0.3), 0px 1px 3px 1px rgba(60, 64, 67, 0.15);\n",
              "      fill: #174EA6;\n",
              "    }\n",
              "\n",
              "    [theme=dark] .colab-df-convert {\n",
              "      background-color: #3B4455;\n",
              "      fill: #D2E3FC;\n",
              "    }\n",
              "\n",
              "    [theme=dark] .colab-df-convert:hover {\n",
              "      background-color: #434B5C;\n",
              "      box-shadow: 0px 1px 3px 1px rgba(0, 0, 0, 0.15);\n",
              "      filter: drop-shadow(0px 1px 2px rgba(0, 0, 0, 0.3));\n",
              "      fill: #FFFFFF;\n",
              "    }\n",
              "  </style>\n",
              "\n",
              "      <script>\n",
              "        const buttonEl =\n",
              "          document.querySelector('#df-cf22cb94-8162-4a2e-b0cf-b8df17dfee5f button.colab-df-convert');\n",
              "        buttonEl.style.display =\n",
              "          google.colab.kernel.accessAllowed ? 'block' : 'none';\n",
              "\n",
              "        async function convertToInteractive(key) {\n",
              "          const element = document.querySelector('#df-cf22cb94-8162-4a2e-b0cf-b8df17dfee5f');\n",
              "          const dataTable =\n",
              "            await google.colab.kernel.invokeFunction('convertToInteractive',\n",
              "                                                     [key], {});\n",
              "          if (!dataTable) return;\n",
              "\n",
              "          const docLinkHtml = 'Like what you see? Visit the ' +\n",
              "            '<a target=\"_blank\" href=https://colab.research.google.com/notebooks/data_table.ipynb>data table notebook</a>'\n",
              "            + ' to learn more about interactive tables.';\n",
              "          element.innerHTML = '';\n",
              "          dataTable['output_type'] = 'display_data';\n",
              "          await google.colab.output.renderOutput(dataTable, element);\n",
              "          const docLink = document.createElement('div');\n",
              "          docLink.innerHTML = docLinkHtml;\n",
              "          element.appendChild(docLink);\n",
              "        }\n",
              "      </script>\n",
              "    </div>\n",
              "  </div>\n",
              "  "
            ]
          },
          "metadata": {},
          "execution_count": 188
        }
      ]
    },
    {
      "cell_type": "code",
      "source": [
        "print(njzipsmerge.C_Zip.unique())"
      ],
      "metadata": {
        "colab": {
          "base_uri": "https://localhost:8080/"
        },
        "id": "w2TYDw0DZv5B",
        "outputId": "c1c09099-0ae4-4f4c-db45-e730a3e6ab83"
      },
      "execution_count": 189,
      "outputs": [
        {
          "output_type": "stream",
          "name": "stdout",
          "text": [
            "['08401' '07747' '08201' '07102' '07710' '08009' '07820' '07840' '07401'\n",
            " '077XX' '08501' '08720' '08001' '07012' '08096' '08865' '07620' '07017'\n",
            " '08037' '07821' '08260' '08801' '07032' '08802' '07753' '07712' '08043'\n",
            " '08004' '08402' '08403' '08406' '084XX' '08233' '07716' '08085' '08106'\n",
            " '07822' '08028' '08202' '070XX' '07717' '07421' '08803' '08005' '08006'\n",
            " '08080' '08007' '07422' '07920' '07939' '08742' '07002' '08721' '07202'\n",
            " '08008' '08050' '08722' '07416' '07921' '07461' '08223' '07718' '08677'\n",
            " '08502' '08270' '07109' '080XX' '0771X' '07823' '07304' '07621' '07087'\n",
            " '08757' '07922' '07924' '07201' '08010' '08066' '08011' '08349' '08012'\n",
            " '07825' '08504' '07003' '07403' '08804' '07603' '07005' '08505' '08805'\n",
            " '08108' '07746' '07720' '08876' '07826' '07827' '07890' '0872X' '07018'\n",
            " '08075' '08014' '08302' '08807' '08730' '08203' '08808' '08030' '07926'\n",
            " '08015' '07828' '08310' '08210' '08016' '07405' '07829' '0700X' '07830'\n",
            " '08107' '08109' '0810X' '08110' '08204' '08212' '08232' '07072' '08332'\n",
            " '08069' '07008' '07030' '08094' '07758' '08018' '07009' '07927' '08092'\n",
            " '08311' '08318' '07831' '07928' '08019' '07193' '08XXX' '08089' '07930'\n",
            " '07083' '08077' '07066' '08020' '08510' '08312' '08021' '07010' '07721'\n",
            " '07735' '07460' '0701X' '08809' '07108' '07624' '08213' '07067' '07722'\n",
            " '07832' '08022' '07961' '08511' '07983' '07438' '085XX' '07016' '08514'\n",
            " '07626' '08515' '07098' '07456' '07446' '08810' '07723' '08023' '08313'\n",
            " '08251' '07014' '07833' '08314' '07627' '08214' '07834' '08097' '08215'\n",
            " '08315' '08316' '08317' '07806' '0780X' '07869' '07801' '08753' '07628'\n",
            " '07055' '08812' '08816' '07073' '08551' '08105' '07728' '07936' '07734'\n",
            " '0887X' '07029' '08520' '08060' '08877' '07020' '088XX' '07498' '08541'\n",
            " '07740' '07755' '072XX' '07206' '07407' '08217' '07630' '07632' '07631'\n",
            " '08330' '07726' '08081' '08002' '07021' '08319' '08053' '08025' '086XX'\n",
            " '07704' '07410' '07004' '08320' '07022' '07023' '07931' '07727' '07184'\n",
            " '08905' '07191' '08570' '07188' '07192' '07308' '08821' '07836' '08822'\n",
            " '08518' '07932' '08863' '08731' '08640' '07732' '07024' '07703' '08321'\n",
            " '07417' '08823' '08873' '08322' '07860' '08825' '08345' '07026' '07027'\n",
            " '07309' '08026' '08027' '07933' '07934' '07837' '08826' '07028' '07452'\n",
            " '08029' '07418' '07480' '08218' '07036' '07838' '07424' '08219' '07435'\n",
            " '07935' '07839' '07305' '08323' '08032' '07950' '07093' '07530' '07601'\n",
            " '0760X' '08035' '08033' '08036' '075XX' '07419' '08690' '08827' '08038'\n",
            " '07640' '08039' '07604' '07420' '07641' '0750X' '07730' '08324' '08828'\n",
            " '08083' '07842' '08829' '08904' '07502' '08853' '07642' '07205' '07423'\n",
            " '07733' '07843' '07844' '08525' '07731' '07307' '07047' '08526' '08088'\n",
            " '07105' '07845' '07198' '07111' '08830' '08732' '08527' '08831' '08040'\n",
            " '07709' '07XXX' '08041' '08933' '07846' '07306' '08042' '08832' '08824'\n",
            " '07033' '07847' '08906' '08528' '08734' '07848' '07762' '07034' '07849'\n",
            " '08733' '08759' '08701' '08530' '07850' '08326' '08735' '08045' '08648'\n",
            " '07851' '08833' '07852' '08220' '08327' '08057' '07737' '07605' '07938'\n",
            " '07035' '07738' '0822X' '07470' '08087' '07643' '07739' '08834' '07039'\n",
            " '07711' '07760' '07644' '07853' '07045' '08048' '07071' '07940' '08049'\n",
            " '074XX' '07011' '08328' '08736' '08738' '08051' '08835' '08052' '07040'\n",
            " '08836' '08054' '08329' '07607' '07428' '08641' '07096' '08055' '07945'\n",
            " '08837' '08619' '0898X' '07199' '08878' '08840' '08056' '08846' '07748'\n",
            " '07855' '07432' '07194' '07465' '08848' '07041' '07946' '08850' '08340'\n",
            " '08341' '08342' '07724' '07750' '08852' '07757' '08512' '08343' '0704X'\n",
            " '08558' '07645' '07074' '08879' '07751' '0796X' '07657' '07856' '08059'\n",
            " '07970' '08061' '07878' '07046' '07092' '07060' '08062' '07974' '08405'\n",
            " '07031' '08902' '07006' '07215' '08647' '07715' '08645' '0706X' '08063'\n",
            " '07752' '0775X' '07857' '07062' '08901' '08903' '089XX' '08533' '08224'\n",
            " '08064' '07646' '07976' '071XX' '08370' '08344' '08346' '08347' '08739'\n",
            " '07104' '07208' '08562' '07688' '08225' '07647' '07648' '07110' '08090'\n",
            " '07436' '08226' '08740' '07756' '08758' '08230' '08231' '07439' '08857'\n",
            " '07675' '08858' '07649' '0705X' '08751' '08723' '07863' '07650' '08542'\n",
            " '08065' '0765X' '07656' '08859' '07054' '07508' '0751X' '07538' '07977'\n",
            " '08067' '08068' '08534' '08070' '07440' '08535' '07399' '0886X' '08098'\n",
            " '08741' '07058' '0885X' '08071' '08867' '08536' '0823X' '07978' '08240'\n",
            " '07442' '07457' '07444' '08348' '07865' '07064' '08241' '07979' '0854X'\n",
            " '08550' '08540' '08544' '08227' '08222' '07777' '08922' '07216' '08868'\n",
            " '08072' '08358' '07065' '08073' '08869' '08870' '07701' '07702' '08350'\n",
            " '08074' '07660' '0745X' '08242' '07661' '0807X' '08691' '07662' '07866'\n",
            " '08553' '08554' '08555' '07068' '07203' '07204' '08556' '08352' '07107'\n",
            " '08078' '07070' '08880' '07606' '07080' '08752' '08246' '07663' '07458'\n",
            " '08079' '07870' '07076' '08750' '08243' '0709X' '08557' '07077' '07719'\n",
            " '08353' '07078' '08244' '0711X' '08104' '08245' '07079' '08882' '08360'\n",
            " '07871' '08411' '08884' '07081' '07874' '08885' '07477' '08666' '08221'\n",
            " '08886' '07875' '07980' '08559' '08247' '08084' '08248' '07876' '0790X'\n",
            " '07877' '076XX' '07670' '07763' '07608' '07195' '07197' '08086' '08887'\n",
            " '08560' '0875X' '07512' '07082' '07052' '07879' '0864X' '08250' '07189'\n",
            " '07043' '07106' '07088' '08093' '07462' '07044' '07880' '07764' '07463'\n",
            " '07057' '07881' '07059' '07882' '0747X' '07112' '07103' '08091' '07666'\n",
            " '08628' '07885' '079XX' '08889' '08888' '08252' '07765' '08046' '08561'\n",
            " '08095' '07075' '07095' '08003' '07481' '08620' '08890']\n"
          ]
        }
      ]
    },
    {
      "cell_type": "code",
      "source": [
        "njzipsmerge['C_Zip'].str.contains('X').sum()"
      ],
      "metadata": {
        "colab": {
          "base_uri": "https://localhost:8080/"
        },
        "id": "ex8UM0q9cmtH",
        "outputId": "e55cb53d-e7d5-48fa-cb73-eeddcd2ab132"
      },
      "execution_count": 190,
      "outputs": [
        {
          "output_type": "execute_result",
          "data": {
            "text/plain": [
              "79"
            ]
          },
          "metadata": {},
          "execution_count": 190
        }
      ]
    },
    {
      "cell_type": "code",
      "source": [
        "#identify partial string to look for\n",
        "discard = [\"X\"]\n",
        "#drop rows that contain the partial string \"X\" in the C_Zip column\n",
        "njzipmerge_new = njzipsmerge[~njzipsmerge.C_Zip.str.contains('|'.join(discard))]"
      ],
      "metadata": {
        "id": "rohW9ZGtdWFy"
      },
      "execution_count": 191,
      "outputs": []
    },
    {
      "cell_type": "code",
      "source": [
        "njzipmerge_new ['C_Zip'].str.contains('X').sum()"
      ],
      "metadata": {
        "colab": {
          "base_uri": "https://localhost:8080/"
        },
        "id": "oBUNolF4eM2Q",
        "outputId": "49fa4c50-2ef9-414d-de9e-f24acde96765"
      },
      "execution_count": 192,
      "outputs": [
        {
          "output_type": "execute_result",
          "data": {
            "text/plain": [
              "0"
            ]
          },
          "metadata": {},
          "execution_count": 192
        }
      ]
    },
    {
      "cell_type": "code",
      "source": [
        "print(njzipmerge_new.C_Zip.unique())"
      ],
      "metadata": {
        "colab": {
          "base_uri": "https://localhost:8080/"
        },
        "id": "hApNEQ9BjITa",
        "outputId": "33d38874-f233-48b8-c962-e35df48e2556"
      },
      "execution_count": 193,
      "outputs": [
        {
          "output_type": "stream",
          "name": "stdout",
          "text": [
            "['08401' '07747' '08201' '07102' '07710' '08009' '07820' '07840' '07401'\n",
            " '08501' '08720' '08001' '07012' '08096' '08865' '07620' '07017' '08037'\n",
            " '07821' '08260' '08801' '07032' '08802' '07753' '07712' '08043' '08004'\n",
            " '08402' '08403' '08406' '08233' '07716' '08085' '08106' '07822' '08028'\n",
            " '08202' '07717' '07421' '08803' '08005' '08006' '08080' '08007' '07422'\n",
            " '07920' '07939' '08742' '07002' '08721' '07202' '08008' '08050' '08722'\n",
            " '07416' '07921' '07461' '08223' '07718' '08677' '08502' '08270' '07109'\n",
            " '07823' '07304' '07621' '07087' '08757' '07922' '07924' '07201' '08010'\n",
            " '08066' '08011' '08349' '08012' '07825' '08504' '07003' '07403' '08804'\n",
            " '07603' '07005' '08505' '08805' '08108' '07746' '07720' '08876' '07826'\n",
            " '07827' '07890' '07018' '08075' '08014' '08302' '08807' '08730' '08203'\n",
            " '08808' '08030' '07926' '08015' '07828' '08310' '08210' '08016' '07405'\n",
            " '07829' '07830' '08107' '08109' '08110' '08204' '08212' '08232' '07072'\n",
            " '08332' '08069' '07008' '07030' '08094' '07758' '08018' '07009' '07927'\n",
            " '08092' '08311' '08318' '07831' '07928' '08019' '07193' '08089' '07930'\n",
            " '07083' '08077' '07066' '08020' '08510' '08312' '08021' '07010' '07721'\n",
            " '07735' '07460' '08809' '07108' '07624' '08213' '07067' '07722' '07832'\n",
            " '08022' '07961' '08511' '07983' '07438' '07016' '08514' '07626' '08515'\n",
            " '07098' '07456' '07446' '08810' '07723' '08023' '08313' '08251' '07014'\n",
            " '07833' '08314' '07627' '08214' '07834' '08097' '08215' '08315' '08316'\n",
            " '08317' '07806' '07869' '07801' '08753' '07628' '07055' '08812' '08816'\n",
            " '07073' '08551' '08105' '07728' '07936' '07734' '07029' '08520' '08060'\n",
            " '08877' '07020' '07498' '08541' '07740' '07755' '07206' '07407' '08217'\n",
            " '07630' '07632' '07631' '08330' '07726' '08081' '08002' '07021' '08319'\n",
            " '08053' '08025' '07704' '07410' '07004' '08320' '07022' '07023' '07931'\n",
            " '07727' '07184' '08905' '07191' '08570' '07188' '07192' '07308' '08821'\n",
            " '07836' '08822' '08518' '07932' '08863' '08731' '08640' '07732' '07024'\n",
            " '07703' '08321' '07417' '08823' '08873' '08322' '07860' '08825' '08345'\n",
            " '07026' '07027' '07309' '08026' '08027' '07933' '07934' '07837' '08826'\n",
            " '07028' '07452' '08029' '07418' '07480' '08218' '07036' '07838' '07424'\n",
            " '08219' '07435' '07935' '07839' '07305' '08323' '08032' '07950' '07093'\n",
            " '07530' '07601' '08035' '08033' '08036' '07419' '08690' '08827' '08038'\n",
            " '07640' '08039' '07604' '07420' '07641' '07730' '08324' '08828' '08083'\n",
            " '07842' '08829' '08904' '07502' '08853' '07642' '07205' '07423' '07733'\n",
            " '07843' '07844' '08525' '07731' '07307' '07047' '08526' '08088' '07105'\n",
            " '07845' '07198' '07111' '08830' '08732' '08527' '08831' '08040' '07709'\n",
            " '08041' '08933' '07846' '07306' '08042' '08832' '08824' '07033' '07847'\n",
            " '08906' '08528' '08734' '07848' '07762' '07034' '07849' '08733' '08759'\n",
            " '08701' '08530' '07850' '08326' '08735' '08045' '08648' '07851' '08833'\n",
            " '07852' '08220' '08327' '08057' '07737' '07605' '07938' '07035' '07738'\n",
            " '07470' '08087' '07643' '07739' '08834' '07039' '07711' '07760' '07644'\n",
            " '07853' '07045' '08048' '07071' '07940' '08049' '07011' '08328' '08736'\n",
            " '08738' '08051' '08835' '08052' '07040' '08836' '08054' '08329' '07607'\n",
            " '07428' '08641' '07096' '08055' '07945' '08837' '08619' '07199' '08878'\n",
            " '08840' '08056' '08846' '07748' '07855' '07432' '07194' '07465' '08848'\n",
            " '07041' '07946' '08850' '08340' '08341' '08342' '07724' '07750' '08852'\n",
            " '07757' '08512' '08343' '08558' '07645' '07074' '08879' '07751' '07657'\n",
            " '07856' '08059' '07970' '08061' '07878' '07046' '07092' '07060' '08062'\n",
            " '07974' '08405' '07031' '08902' '07006' '07215' '08647' '07715' '08645'\n",
            " '08063' '07752' '07857' '07062' '08901' '08903' '08533' '08224' '08064'\n",
            " '07646' '07976' '08370' '08344' '08346' '08347' '08739' '07104' '07208'\n",
            " '08562' '07688' '08225' '07647' '07648' '07110' '08090' '07436' '08226'\n",
            " '08740' '07756' '08758' '08230' '08231' '07439' '08857' '07675' '08858'\n",
            " '07649' '08751' '08723' '07863' '07650' '08542' '08065' '07656' '08859'\n",
            " '07054' '07508' '07538' '07977' '08067' '08068' '08534' '08070' '07440'\n",
            " '08535' '07399' '08098' '08741' '07058' '08071' '08867' '08536' '07978'\n",
            " '08240' '07442' '07457' '07444' '08348' '07865' '07064' '08241' '07979'\n",
            " '08550' '08540' '08544' '08227' '08222' '07777' '08922' '07216' '08868'\n",
            " '08072' '08358' '07065' '08073' '08869' '08870' '07701' '07702' '08350'\n",
            " '08074' '07660' '08242' '07661' '08691' '07662' '07866' '08553' '08554'\n",
            " '08555' '07068' '07203' '07204' '08556' '08352' '07107' '08078' '07070'\n",
            " '08880' '07606' '07080' '08752' '08246' '07663' '07458' '08079' '07870'\n",
            " '07076' '08750' '08243' '08557' '07077' '07719' '08353' '07078' '08244'\n",
            " '08104' '08245' '07079' '08882' '08360' '07871' '08411' '08884' '07081'\n",
            " '07874' '08885' '07477' '08666' '08221' '08886' '07875' '07980' '08559'\n",
            " '08247' '08084' '08248' '07876' '07877' '07670' '07763' '07608' '07195'\n",
            " '07197' '08086' '08887' '08560' '07512' '07082' '07052' '07879' '08250'\n",
            " '07189' '07043' '07106' '07088' '08093' '07462' '07044' '07880' '07764'\n",
            " '07463' '07057' '07881' '07059' '07882' '07112' '07103' '08091' '07666'\n",
            " '08628' '07885' '08889' '08888' '08252' '07765' '08046' '08561' '08095'\n",
            " '07075' '07095' '08003' '07481' '08620' '08890']\n"
          ]
        }
      ]
    },
    {
      "cell_type": "code",
      "source": [
        "#Here is the merge of the two. This provides me with the county names of the \n",
        "njappzip=njappmerge.merge(njzipmerge_new, on='C_Zip',how='outer',indicator=True)\n",
        "njappzip.dtypes"
      ],
      "metadata": {
        "colab": {
          "base_uri": "https://localhost:8080/"
        },
        "id": "ymQeXw4_wIcK",
        "outputId": "27e4cb5c-42b6-4ec3-bfe1-36683506b7de"
      },
      "execution_count": 194,
      "outputs": [
        {
          "output_type": "execute_result",
          "data": {
            "text/plain": [
              "ID         float64\n",
              "C_Zip       object\n",
              "County      object\n",
              "_merge    category\n",
              "dtype: object"
            ]
          },
          "metadata": {},
          "execution_count": 194
        }
      ]
    },
    {
      "cell_type": "code",
      "source": [
        "njappzip._merge.value_counts() #aok always do this # I still have a lot of unmathced data, but removing the Xs and adding the leading zeroes increased my mathed data by more than 200 records or more than 26%."
      ],
      "metadata": {
        "id": "wSUDhcYHYExV",
        "outputId": "a8f450df-3530-456b-ff20-db9ff5c27bb1",
        "colab": {
          "base_uri": "https://localhost:8080/"
        }
      },
      "execution_count": 195,
      "outputs": [
        {
          "output_type": "execute_result",
          "data": {
            "text/plain": [
              "both          979\n",
              "right_only    794\n",
              "left_only      67\n",
              "Name: _merge, dtype: int64"
            ]
          },
          "metadata": {},
          "execution_count": 195
        }
      ]
    },
    {
      "cell_type": "code",
      "source": [
        "#aok then this #first easier one with fewer\n",
        "njappzip['C_Zip'][njappzip['_merge']=='left_only'].unique() \n",
        "#aok aha! bingo! many zips are mutated! like missing leading 0; common mistake; probably someone changed storage from string to numeric and 0 disappeared\n",
        "#fixed this above, not sure why these zips aren't merging. I do see a 81021 but the rest are NJ Zips. "
      ],
      "metadata": {
        "id": "xXu5_5gXajQy",
        "outputId": "1ab67bce-dc2e-491c-b7a1-94ff1e585ae2",
        "colab": {
          "base_uri": "https://localhost:8080/"
        }
      },
      "execution_count": 196,
      "outputs": [
        {
          "output_type": "execute_result",
          "data": {
            "text/plain": [
              "array(['08755', '08034', '07522', '81021', '07450', '08102', '08031',\n",
              "       '08103', '08817', '07960', '08618', '08234', '07311', '08611',\n",
              "       '08361', '08205', '08861', '08610', '07063', '08844', '08854',\n",
              "       '07090', '07042', '07013', '08629', '07302', '07050'], dtype=object)"
            ]
          },
          "metadata": {},
          "execution_count": 196
        }
      ]
    },
    {
      "cell_type": "code",
      "source": [
        "#aok then this\n",
        "#fixed this above, but there are still a large number not merging. \n",
        "njappzip['C_Zip'][njappzip['_merge']=='right_only'].unique() #weird zome zips have XX"
      ],
      "metadata": {
        "id": "paIUW0YbYuGy",
        "outputId": "bec14f8f-d07a-41a4-ec93-992bdbd202d5",
        "colab": {
          "base_uri": "https://localhost:8080/"
        }
      },
      "execution_count": 197,
      "outputs": [
        {
          "output_type": "execute_result",
          "data": {
            "text/plain": [
              "array(['08201', '07102', '07710', '07820', '07401', '08501', '08720',\n",
              "       '08001', '07012', '07620', '07017', '07821', '08260', '08801',\n",
              "       '07032', '08802', '07712', '08402', '08403', '08406', '08233',\n",
              "       '07716', '07822', '08202', '07717', '07421', '08803', '08006',\n",
              "       '07422', '07920', '07939', '08742', '07002', '08721', '07202',\n",
              "       '08008', '08050', '08722', '07416', '07921', '07461', '08223',\n",
              "       '07718', '08677', '08270', '07823', '07621', '07087', '08757',\n",
              "       '07922', '07924', '07201', '08011', '08349', '07825', '08504',\n",
              "       '07403', '08804', '07603', '07005', '08805', '07746', '07720',\n",
              "       '07826', '07827', '07890', '07018', '08014', '08807', '08730',\n",
              "       '08203', '08808', '07926', '07828', '08310', '08210', '07829',\n",
              "       '08212', '07072', '08332', '07758', '08018', '07927', '08092',\n",
              "       '08311', '08318', '07831', '07928', '07193', '08089', '07930',\n",
              "       '07066', '08020', '08510', '08312', '07010', '07721', '07460',\n",
              "       '08809', '07624', '08213', '07067', '07722', '07832', '07961',\n",
              "       '08511', '07983', '07438', '08514', '07626', '07098', '07456',\n",
              "       '07446', '07723', '08023', '08313', '07014', '07833', '08314',\n",
              "       '07627', '08214', '07834', '08215', '08315', '08316', '07806',\n",
              "       '07869', '07801', '07628', '08812', '07073', '08551', '07936',\n",
              "       '07029', '08877', '07020', '07498', '08541', '07740', '07755',\n",
              "       '07206', '07407', '07630', '07632', '07631', '07021', '08319',\n",
              "       '08025', '07704', '07410', '07004', '08320', '07022', '07023',\n",
              "       '07931', '07184', '08905', '07191', '08570', '07188', '07192',\n",
              "       '07308', '08821', '07836', '08518', '08863', '08731', '08640',\n",
              "       '07732', '07024', '07703', '08321', '07417', '08823', '07860',\n",
              "       '08825', '08345', '07026', '07027', '07309', '08026', '08027',\n",
              "       '07933', '07934', '07837', '08826', '07028', '07452', '07418',\n",
              "       '07480', '08218', '07838', '07424', '08219', '07435', '07935',\n",
              "       '07839', '07305', '08323', '08032', '07093', '07530', '07601',\n",
              "       '08036', '07419', '08827', '08038', '07640', '08039', '07604',\n",
              "       '07420', '07641', '07730', '08324', '08828', '07842', '08829',\n",
              "       '07502', '08853', '07642', '07205', '07423', '07733', '07843',\n",
              "       '07844', '08525', '07307', '08526', '07105', '07845', '07198',\n",
              "       '08732', '08040', '07709', '08041', '08933', '07846', '08042',\n",
              "       '08832', '07033', '07847', '08906', '08528', '08734', '07848',\n",
              "       '07762', '07034', '07849', '08733', '08759', '08701', '07850',\n",
              "       '08326', '08735', '08045', '07851', '07852', '08220', '08327',\n",
              "       '07737', '07605', '07938', '07035', '07738', '07470', '07643',\n",
              "       '07739', '08834', '07039', '07711', '07760', '07644', '07853',\n",
              "       '07071', '07940', '08328', '08736', '08738', '08051', '08835',\n",
              "       '08836', '08329', '07607', '07428', '08641', '07096', '07945',\n",
              "       '07199', '08878', '08840', '08056', '08846', '07748', '07855',\n",
              "       '07432', '07194', '07465', '07946', '08340', '08341', '08342',\n",
              "       '07750', '08852', '07757', '07645', '07074', '08879', '07751',\n",
              "       '07657', '07856', '07970', '07878', '07046', '07092', '08405',\n",
              "       '07006', '07215', '08647', '07715', '08645', '08063', '07752',\n",
              "       '07857', '07062', '08903', '08224', '07646', '07976', '08370',\n",
              "       '08344', '08346', '08347', '08739', '07208', '08562', '07688',\n",
              "       '08225', '07647', '07648', '08740', '07756', '08758', '08230',\n",
              "       '08231', '07439', '08858', '07649', '08751', '08723', '07863',\n",
              "       '07650', '08542', '07656', '08859', '07054', '07508', '07538',\n",
              "       '07977', '08067', '08070', '07440', '08535', '07399', '08098',\n",
              "       '08741', '07058', '08867', '07978', '08240', '07457', '07444',\n",
              "       '08348', '07865', '07064', '08241', '07979', '08544', '08227',\n",
              "       '08222', '07777', '08922', '07216', '08868', '08072', '08358',\n",
              "       '07065', '08073', '08870', '07702', '08350', '08074', '08242',\n",
              "       '07661', '07662', '07866', '08553', '08554', '08555', '07068',\n",
              "       '07204', '08556', '08352', '07107', '07070', '08880', '07606',\n",
              "       '07080', '08752', '08246', '07663', '07458', '07870', '08750',\n",
              "       '08243', '08557', '07077', '08353', '07078', '08244', '08245',\n",
              "       '08882', '08411', '08884', '07081', '07874', '08885', '07477',\n",
              "       '08666', '08886', '07875', '07980', '08559', '08247', '08084',\n",
              "       '08248', '07876', '07877', '07670', '07763', '07608', '07195',\n",
              "       '07197', '08086', '08887', '08560', '07512', '07082', '07879',\n",
              "       '08250', '07189', '07043', '07088', '07462', '07880', '07764',\n",
              "       '07463', '07057', '07881', '07059', '07882', '07112', '08628',\n",
              "       '07885', '08889', '08888', '08252', '07765', '08561', '08095',\n",
              "       '07075', '07095', '08620', '08890'], dtype=object)"
            ]
          },
          "metadata": {},
          "execution_count": 197
        }
      ]
    },
    {
      "cell_type": "code",
      "source": [
        "njappzip.head(10)\n",
        "njappzip.tail(10)"
      ],
      "metadata": {
        "colab": {
          "base_uri": "https://localhost:8080/",
          "height": 708
        },
        "id": "kawpaEYozFu1",
        "outputId": "b2ed986a-0d18-4c37-859f-46b20ec11f43"
      },
      "execution_count": 198,
      "outputs": [
        {
          "output_type": "execute_result",
          "data": {
            "text/plain": [
              "      ID   C_Zip     County     _merge\n",
              "0     3.0  07009      Essex       both\n",
              "1     3.0  07009      Essex       both\n",
              "2     4.0  07726   Monmouth       both\n",
              "3     4.0  07726   Monmouth       both\n",
              "4     4.0  07726   Monmouth       both\n",
              "5     6.0  08755        NaN  left_only\n",
              "6   911.0  08755        NaN  left_only\n",
              "7  1301.0  08755        NaN  left_only\n",
              "8     7.0  08850  Middlesex       both\n",
              "9    14.0  07052      Essex       both"
            ],
            "text/html": [
              "\n",
              "  <div id=\"df-37502650-8060-4389-a468-7805f329aadb\">\n",
              "    <div class=\"colab-df-container\">\n",
              "      <div>\n",
              "<style scoped>\n",
              "    .dataframe tbody tr th:only-of-type {\n",
              "        vertical-align: middle;\n",
              "    }\n",
              "\n",
              "    .dataframe tbody tr th {\n",
              "        vertical-align: top;\n",
              "    }\n",
              "\n",
              "    .dataframe thead th {\n",
              "        text-align: right;\n",
              "    }\n",
              "</style>\n",
              "<table border=\"1\" class=\"dataframe\">\n",
              "  <thead>\n",
              "    <tr style=\"text-align: right;\">\n",
              "      <th></th>\n",
              "      <th>ID</th>\n",
              "      <th>C_Zip</th>\n",
              "      <th>County</th>\n",
              "      <th>_merge</th>\n",
              "    </tr>\n",
              "  </thead>\n",
              "  <tbody>\n",
              "    <tr>\n",
              "      <th>0</th>\n",
              "      <td>3.0</td>\n",
              "      <td>07009</td>\n",
              "      <td>Essex</td>\n",
              "      <td>both</td>\n",
              "    </tr>\n",
              "    <tr>\n",
              "      <th>1</th>\n",
              "      <td>3.0</td>\n",
              "      <td>07009</td>\n",
              "      <td>Essex</td>\n",
              "      <td>both</td>\n",
              "    </tr>\n",
              "    <tr>\n",
              "      <th>2</th>\n",
              "      <td>4.0</td>\n",
              "      <td>07726</td>\n",
              "      <td>Monmouth</td>\n",
              "      <td>both</td>\n",
              "    </tr>\n",
              "    <tr>\n",
              "      <th>3</th>\n",
              "      <td>4.0</td>\n",
              "      <td>07726</td>\n",
              "      <td>Monmouth</td>\n",
              "      <td>both</td>\n",
              "    </tr>\n",
              "    <tr>\n",
              "      <th>4</th>\n",
              "      <td>4.0</td>\n",
              "      <td>07726</td>\n",
              "      <td>Monmouth</td>\n",
              "      <td>both</td>\n",
              "    </tr>\n",
              "    <tr>\n",
              "      <th>5</th>\n",
              "      <td>6.0</td>\n",
              "      <td>08755</td>\n",
              "      <td>NaN</td>\n",
              "      <td>left_only</td>\n",
              "    </tr>\n",
              "    <tr>\n",
              "      <th>6</th>\n",
              "      <td>911.0</td>\n",
              "      <td>08755</td>\n",
              "      <td>NaN</td>\n",
              "      <td>left_only</td>\n",
              "    </tr>\n",
              "    <tr>\n",
              "      <th>7</th>\n",
              "      <td>1301.0</td>\n",
              "      <td>08755</td>\n",
              "      <td>NaN</td>\n",
              "      <td>left_only</td>\n",
              "    </tr>\n",
              "    <tr>\n",
              "      <th>8</th>\n",
              "      <td>7.0</td>\n",
              "      <td>08850</td>\n",
              "      <td>Middlesex</td>\n",
              "      <td>both</td>\n",
              "    </tr>\n",
              "    <tr>\n",
              "      <th>9</th>\n",
              "      <td>14.0</td>\n",
              "      <td>07052</td>\n",
              "      <td>Essex</td>\n",
              "      <td>both</td>\n",
              "    </tr>\n",
              "  </tbody>\n",
              "</table>\n",
              "</div>\n",
              "      <button class=\"colab-df-convert\" onclick=\"convertToInteractive('df-37502650-8060-4389-a468-7805f329aadb')\"\n",
              "              title=\"Convert this dataframe to an interactive table.\"\n",
              "              style=\"display:none;\">\n",
              "        \n",
              "  <svg xmlns=\"http://www.w3.org/2000/svg\" height=\"24px\"viewBox=\"0 0 24 24\"\n",
              "       width=\"24px\">\n",
              "    <path d=\"M0 0h24v24H0V0z\" fill=\"none\"/>\n",
              "    <path d=\"M18.56 5.44l.94 2.06.94-2.06 2.06-.94-2.06-.94-.94-2.06-.94 2.06-2.06.94zm-11 1L8.5 8.5l.94-2.06 2.06-.94-2.06-.94L8.5 2.5l-.94 2.06-2.06.94zm10 10l.94 2.06.94-2.06 2.06-.94-2.06-.94-.94-2.06-.94 2.06-2.06.94z\"/><path d=\"M17.41 7.96l-1.37-1.37c-.4-.4-.92-.59-1.43-.59-.52 0-1.04.2-1.43.59L10.3 9.45l-7.72 7.72c-.78.78-.78 2.05 0 2.83L4 21.41c.39.39.9.59 1.41.59.51 0 1.02-.2 1.41-.59l7.78-7.78 2.81-2.81c.8-.78.8-2.07 0-2.86zM5.41 20L4 18.59l7.72-7.72 1.47 1.35L5.41 20z\"/>\n",
              "  </svg>\n",
              "      </button>\n",
              "      \n",
              "  <style>\n",
              "    .colab-df-container {\n",
              "      display:flex;\n",
              "      flex-wrap:wrap;\n",
              "      gap: 12px;\n",
              "    }\n",
              "\n",
              "    .colab-df-convert {\n",
              "      background-color: #E8F0FE;\n",
              "      border: none;\n",
              "      border-radius: 50%;\n",
              "      cursor: pointer;\n",
              "      display: none;\n",
              "      fill: #1967D2;\n",
              "      height: 32px;\n",
              "      padding: 0 0 0 0;\n",
              "      width: 32px;\n",
              "    }\n",
              "\n",
              "    .colab-df-convert:hover {\n",
              "      background-color: #E2EBFA;\n",
              "      box-shadow: 0px 1px 2px rgba(60, 64, 67, 0.3), 0px 1px 3px 1px rgba(60, 64, 67, 0.15);\n",
              "      fill: #174EA6;\n",
              "    }\n",
              "\n",
              "    [theme=dark] .colab-df-convert {\n",
              "      background-color: #3B4455;\n",
              "      fill: #D2E3FC;\n",
              "    }\n",
              "\n",
              "    [theme=dark] .colab-df-convert:hover {\n",
              "      background-color: #434B5C;\n",
              "      box-shadow: 0px 1px 3px 1px rgba(0, 0, 0, 0.15);\n",
              "      filter: drop-shadow(0px 1px 2px rgba(0, 0, 0, 0.3));\n",
              "      fill: #FFFFFF;\n",
              "    }\n",
              "  </style>\n",
              "\n",
              "      <script>\n",
              "        const buttonEl =\n",
              "          document.querySelector('#df-37502650-8060-4389-a468-7805f329aadb button.colab-df-convert');\n",
              "        buttonEl.style.display =\n",
              "          google.colab.kernel.accessAllowed ? 'block' : 'none';\n",
              "\n",
              "        async function convertToInteractive(key) {\n",
              "          const element = document.querySelector('#df-37502650-8060-4389-a468-7805f329aadb');\n",
              "          const dataTable =\n",
              "            await google.colab.kernel.invokeFunction('convertToInteractive',\n",
              "                                                     [key], {});\n",
              "          if (!dataTable) return;\n",
              "\n",
              "          const docLinkHtml = 'Like what you see? Visit the ' +\n",
              "            '<a target=\"_blank\" href=https://colab.research.google.com/notebooks/data_table.ipynb>data table notebook</a>'\n",
              "            + ' to learn more about interactive tables.';\n",
              "          element.innerHTML = '';\n",
              "          dataTable['output_type'] = 'display_data';\n",
              "          await google.colab.output.renderOutput(dataTable, element);\n",
              "          const docLink = document.createElement('div');\n",
              "          docLink.innerHTML = docLinkHtml;\n",
              "          element.appendChild(docLink);\n",
              "        }\n",
              "      </script>\n",
              "    </div>\n",
              "  </div>\n",
              "  "
            ]
          },
          "metadata": {},
          "execution_count": 198
        },
        {
          "output_type": "execute_result",
          "data": {
            "text/plain": [
              "      ID   C_Zip     County      _merge\n",
              "1830  NaN  08252   Cape May  right_only\n",
              "1831  NaN  07765   Monmouth  right_only\n",
              "1832  NaN  08561     Mercer  right_only\n",
              "1833  NaN  08095     Camden  right_only\n",
              "1834  NaN  08095     Camden  right_only\n",
              "1835  NaN  07075     Bergen  right_only\n",
              "1836  NaN  07075     Bergen  right_only\n",
              "1837  NaN  07095  Middlesex  right_only\n",
              "1838  NaN  08620     Mercer  right_only\n",
              "1839  NaN  08890   Somerset  right_only"
            ],
            "text/html": [
              "\n",
              "  <div id=\"df-04b6ee5c-48ac-414d-abdd-bafc83fb9d3b\">\n",
              "    <div class=\"colab-df-container\">\n",
              "      <div>\n",
              "<style scoped>\n",
              "    .dataframe tbody tr th:only-of-type {\n",
              "        vertical-align: middle;\n",
              "    }\n",
              "\n",
              "    .dataframe tbody tr th {\n",
              "        vertical-align: top;\n",
              "    }\n",
              "\n",
              "    .dataframe thead th {\n",
              "        text-align: right;\n",
              "    }\n",
              "</style>\n",
              "<table border=\"1\" class=\"dataframe\">\n",
              "  <thead>\n",
              "    <tr style=\"text-align: right;\">\n",
              "      <th></th>\n",
              "      <th>ID</th>\n",
              "      <th>C_Zip</th>\n",
              "      <th>County</th>\n",
              "      <th>_merge</th>\n",
              "    </tr>\n",
              "  </thead>\n",
              "  <tbody>\n",
              "    <tr>\n",
              "      <th>1830</th>\n",
              "      <td>NaN</td>\n",
              "      <td>08252</td>\n",
              "      <td>Cape May</td>\n",
              "      <td>right_only</td>\n",
              "    </tr>\n",
              "    <tr>\n",
              "      <th>1831</th>\n",
              "      <td>NaN</td>\n",
              "      <td>07765</td>\n",
              "      <td>Monmouth</td>\n",
              "      <td>right_only</td>\n",
              "    </tr>\n",
              "    <tr>\n",
              "      <th>1832</th>\n",
              "      <td>NaN</td>\n",
              "      <td>08561</td>\n",
              "      <td>Mercer</td>\n",
              "      <td>right_only</td>\n",
              "    </tr>\n",
              "    <tr>\n",
              "      <th>1833</th>\n",
              "      <td>NaN</td>\n",
              "      <td>08095</td>\n",
              "      <td>Camden</td>\n",
              "      <td>right_only</td>\n",
              "    </tr>\n",
              "    <tr>\n",
              "      <th>1834</th>\n",
              "      <td>NaN</td>\n",
              "      <td>08095</td>\n",
              "      <td>Camden</td>\n",
              "      <td>right_only</td>\n",
              "    </tr>\n",
              "    <tr>\n",
              "      <th>1835</th>\n",
              "      <td>NaN</td>\n",
              "      <td>07075</td>\n",
              "      <td>Bergen</td>\n",
              "      <td>right_only</td>\n",
              "    </tr>\n",
              "    <tr>\n",
              "      <th>1836</th>\n",
              "      <td>NaN</td>\n",
              "      <td>07075</td>\n",
              "      <td>Bergen</td>\n",
              "      <td>right_only</td>\n",
              "    </tr>\n",
              "    <tr>\n",
              "      <th>1837</th>\n",
              "      <td>NaN</td>\n",
              "      <td>07095</td>\n",
              "      <td>Middlesex</td>\n",
              "      <td>right_only</td>\n",
              "    </tr>\n",
              "    <tr>\n",
              "      <th>1838</th>\n",
              "      <td>NaN</td>\n",
              "      <td>08620</td>\n",
              "      <td>Mercer</td>\n",
              "      <td>right_only</td>\n",
              "    </tr>\n",
              "    <tr>\n",
              "      <th>1839</th>\n",
              "      <td>NaN</td>\n",
              "      <td>08890</td>\n",
              "      <td>Somerset</td>\n",
              "      <td>right_only</td>\n",
              "    </tr>\n",
              "  </tbody>\n",
              "</table>\n",
              "</div>\n",
              "      <button class=\"colab-df-convert\" onclick=\"convertToInteractive('df-04b6ee5c-48ac-414d-abdd-bafc83fb9d3b')\"\n",
              "              title=\"Convert this dataframe to an interactive table.\"\n",
              "              style=\"display:none;\">\n",
              "        \n",
              "  <svg xmlns=\"http://www.w3.org/2000/svg\" height=\"24px\"viewBox=\"0 0 24 24\"\n",
              "       width=\"24px\">\n",
              "    <path d=\"M0 0h24v24H0V0z\" fill=\"none\"/>\n",
              "    <path d=\"M18.56 5.44l.94 2.06.94-2.06 2.06-.94-2.06-.94-.94-2.06-.94 2.06-2.06.94zm-11 1L8.5 8.5l.94-2.06 2.06-.94-2.06-.94L8.5 2.5l-.94 2.06-2.06.94zm10 10l.94 2.06.94-2.06 2.06-.94-2.06-.94-.94-2.06-.94 2.06-2.06.94z\"/><path d=\"M17.41 7.96l-1.37-1.37c-.4-.4-.92-.59-1.43-.59-.52 0-1.04.2-1.43.59L10.3 9.45l-7.72 7.72c-.78.78-.78 2.05 0 2.83L4 21.41c.39.39.9.59 1.41.59.51 0 1.02-.2 1.41-.59l7.78-7.78 2.81-2.81c.8-.78.8-2.07 0-2.86zM5.41 20L4 18.59l7.72-7.72 1.47 1.35L5.41 20z\"/>\n",
              "  </svg>\n",
              "      </button>\n",
              "      \n",
              "  <style>\n",
              "    .colab-df-container {\n",
              "      display:flex;\n",
              "      flex-wrap:wrap;\n",
              "      gap: 12px;\n",
              "    }\n",
              "\n",
              "    .colab-df-convert {\n",
              "      background-color: #E8F0FE;\n",
              "      border: none;\n",
              "      border-radius: 50%;\n",
              "      cursor: pointer;\n",
              "      display: none;\n",
              "      fill: #1967D2;\n",
              "      height: 32px;\n",
              "      padding: 0 0 0 0;\n",
              "      width: 32px;\n",
              "    }\n",
              "\n",
              "    .colab-df-convert:hover {\n",
              "      background-color: #E2EBFA;\n",
              "      box-shadow: 0px 1px 2px rgba(60, 64, 67, 0.3), 0px 1px 3px 1px rgba(60, 64, 67, 0.15);\n",
              "      fill: #174EA6;\n",
              "    }\n",
              "\n",
              "    [theme=dark] .colab-df-convert {\n",
              "      background-color: #3B4455;\n",
              "      fill: #D2E3FC;\n",
              "    }\n",
              "\n",
              "    [theme=dark] .colab-df-convert:hover {\n",
              "      background-color: #434B5C;\n",
              "      box-shadow: 0px 1px 3px 1px rgba(0, 0, 0, 0.15);\n",
              "      filter: drop-shadow(0px 1px 2px rgba(0, 0, 0, 0.3));\n",
              "      fill: #FFFFFF;\n",
              "    }\n",
              "  </style>\n",
              "\n",
              "      <script>\n",
              "        const buttonEl =\n",
              "          document.querySelector('#df-04b6ee5c-48ac-414d-abdd-bafc83fb9d3b button.colab-df-convert');\n",
              "        buttonEl.style.display =\n",
              "          google.colab.kernel.accessAllowed ? 'block' : 'none';\n",
              "\n",
              "        async function convertToInteractive(key) {\n",
              "          const element = document.querySelector('#df-04b6ee5c-48ac-414d-abdd-bafc83fb9d3b');\n",
              "          const dataTable =\n",
              "            await google.colab.kernel.invokeFunction('convertToInteractive',\n",
              "                                                     [key], {});\n",
              "          if (!dataTable) return;\n",
              "\n",
              "          const docLinkHtml = 'Like what you see? Visit the ' +\n",
              "            '<a target=\"_blank\" href=https://colab.research.google.com/notebooks/data_table.ipynb>data table notebook</a>'\n",
              "            + ' to learn more about interactive tables.';\n",
              "          element.innerHTML = '';\n",
              "          dataTable['output_type'] = 'display_data';\n",
              "          await google.colab.output.renderOutput(dataTable, element);\n",
              "          const docLink = document.createElement('div');\n",
              "          docLink.innerHTML = docLinkHtml;\n",
              "          element.appendChild(docLink);\n",
              "        }\n",
              "      </script>\n",
              "    </div>\n",
              "  </div>\n",
              "  "
            ]
          },
          "metadata": {},
          "execution_count": 198
        }
      ]
    },
    {
      "cell_type": "code",
      "source": [
        "njappzip.head(50)"
      ],
      "metadata": {
        "id": "WQ-e7gy-XC8_",
        "outputId": "584d65f5-a6ef-4e29-c3ea-cf818e7eaf37",
        "colab": {
          "base_uri": "https://localhost:8080/",
          "height": 1000
        }
      },
      "execution_count": 199,
      "outputs": [
        {
          "output_type": "execute_result",
          "data": {
            "text/plain": [
              "       ID   C_Zip     County     _merge\n",
              "0      3.0  07009      Essex       both\n",
              "1      3.0  07009      Essex       both\n",
              "2      4.0  07726   Monmouth       both\n",
              "3      4.0  07726   Monmouth       both\n",
              "4      4.0  07726   Monmouth       both\n",
              "5      6.0  08755        NaN  left_only\n",
              "6    911.0  08755        NaN  left_only\n",
              "7   1301.0  08755        NaN  left_only\n",
              "8      7.0  08850  Middlesex       both\n",
              "9     14.0  07052      Essex       both\n",
              "10    14.0  07052      Essex       both\n",
              "11   153.0  07052      Essex       both\n",
              "12   153.0  07052      Essex       both\n",
              "13   898.0  07052      Essex       both\n",
              "14   898.0  07052      Essex       both\n",
              "15    15.0  07871     Sussex       both\n",
              "16    24.0  08034        NaN  left_only\n",
              "17    99.0  08034        NaN  left_only\n",
              "18   117.0  08034        NaN  left_only\n",
              "19   196.0  08034        NaN  left_only\n",
              "20  1312.0  08034        NaN  left_only\n",
              "21  1356.0  08034        NaN  left_only\n",
              "22  1481.0  08034        NaN  left_only\n",
              "23  1489.0  08034        NaN  left_only\n",
              "24    43.0  08107     Camden       both\n",
              "25    43.0  08107     Camden       both\n",
              "26    43.0  08107     Camden       both\n",
              "27    43.0  08107     Camden       both\n",
              "28    43.0  08107     Camden       both\n",
              "29   762.0  08107     Camden       both\n",
              "30   762.0  08107     Camden       both\n",
              "31   762.0  08107     Camden       both\n",
              "32   762.0  08107     Camden       both\n",
              "33   762.0  08107     Camden       both\n",
              "34  1204.0  08107     Camden       both\n",
              "35  1204.0  08107     Camden       both\n",
              "36  1204.0  08107     Camden       both\n",
              "37  1204.0  08107     Camden       both\n",
              "38  1204.0  08107     Camden       both\n",
              "39  1419.0  08107     Camden       both\n",
              "40  1419.0  08107     Camden       both\n",
              "41  1419.0  08107     Camden       both\n",
              "42  1419.0  08107     Camden       both\n",
              "43  1419.0  08107     Camden       both\n",
              "44  1462.0  08107     Camden       both\n",
              "45  1462.0  08107     Camden       both\n",
              "46  1462.0  08107     Camden       both\n",
              "47  1462.0  08107     Camden       both\n",
              "48  1462.0  08107     Camden       both\n",
              "49  1508.0  08107     Camden       both"
            ],
            "text/html": [
              "\n",
              "  <div id=\"df-038028c9-13ea-4dc1-9a03-540b81e64e9a\">\n",
              "    <div class=\"colab-df-container\">\n",
              "      <div>\n",
              "<style scoped>\n",
              "    .dataframe tbody tr th:only-of-type {\n",
              "        vertical-align: middle;\n",
              "    }\n",
              "\n",
              "    .dataframe tbody tr th {\n",
              "        vertical-align: top;\n",
              "    }\n",
              "\n",
              "    .dataframe thead th {\n",
              "        text-align: right;\n",
              "    }\n",
              "</style>\n",
              "<table border=\"1\" class=\"dataframe\">\n",
              "  <thead>\n",
              "    <tr style=\"text-align: right;\">\n",
              "      <th></th>\n",
              "      <th>ID</th>\n",
              "      <th>C_Zip</th>\n",
              "      <th>County</th>\n",
              "      <th>_merge</th>\n",
              "    </tr>\n",
              "  </thead>\n",
              "  <tbody>\n",
              "    <tr>\n",
              "      <th>0</th>\n",
              "      <td>3.0</td>\n",
              "      <td>07009</td>\n",
              "      <td>Essex</td>\n",
              "      <td>both</td>\n",
              "    </tr>\n",
              "    <tr>\n",
              "      <th>1</th>\n",
              "      <td>3.0</td>\n",
              "      <td>07009</td>\n",
              "      <td>Essex</td>\n",
              "      <td>both</td>\n",
              "    </tr>\n",
              "    <tr>\n",
              "      <th>2</th>\n",
              "      <td>4.0</td>\n",
              "      <td>07726</td>\n",
              "      <td>Monmouth</td>\n",
              "      <td>both</td>\n",
              "    </tr>\n",
              "    <tr>\n",
              "      <th>3</th>\n",
              "      <td>4.0</td>\n",
              "      <td>07726</td>\n",
              "      <td>Monmouth</td>\n",
              "      <td>both</td>\n",
              "    </tr>\n",
              "    <tr>\n",
              "      <th>4</th>\n",
              "      <td>4.0</td>\n",
              "      <td>07726</td>\n",
              "      <td>Monmouth</td>\n",
              "      <td>both</td>\n",
              "    </tr>\n",
              "    <tr>\n",
              "      <th>5</th>\n",
              "      <td>6.0</td>\n",
              "      <td>08755</td>\n",
              "      <td>NaN</td>\n",
              "      <td>left_only</td>\n",
              "    </tr>\n",
              "    <tr>\n",
              "      <th>6</th>\n",
              "      <td>911.0</td>\n",
              "      <td>08755</td>\n",
              "      <td>NaN</td>\n",
              "      <td>left_only</td>\n",
              "    </tr>\n",
              "    <tr>\n",
              "      <th>7</th>\n",
              "      <td>1301.0</td>\n",
              "      <td>08755</td>\n",
              "      <td>NaN</td>\n",
              "      <td>left_only</td>\n",
              "    </tr>\n",
              "    <tr>\n",
              "      <th>8</th>\n",
              "      <td>7.0</td>\n",
              "      <td>08850</td>\n",
              "      <td>Middlesex</td>\n",
              "      <td>both</td>\n",
              "    </tr>\n",
              "    <tr>\n",
              "      <th>9</th>\n",
              "      <td>14.0</td>\n",
              "      <td>07052</td>\n",
              "      <td>Essex</td>\n",
              "      <td>both</td>\n",
              "    </tr>\n",
              "    <tr>\n",
              "      <th>10</th>\n",
              "      <td>14.0</td>\n",
              "      <td>07052</td>\n",
              "      <td>Essex</td>\n",
              "      <td>both</td>\n",
              "    </tr>\n",
              "    <tr>\n",
              "      <th>11</th>\n",
              "      <td>153.0</td>\n",
              "      <td>07052</td>\n",
              "      <td>Essex</td>\n",
              "      <td>both</td>\n",
              "    </tr>\n",
              "    <tr>\n",
              "      <th>12</th>\n",
              "      <td>153.0</td>\n",
              "      <td>07052</td>\n",
              "      <td>Essex</td>\n",
              "      <td>both</td>\n",
              "    </tr>\n",
              "    <tr>\n",
              "      <th>13</th>\n",
              "      <td>898.0</td>\n",
              "      <td>07052</td>\n",
              "      <td>Essex</td>\n",
              "      <td>both</td>\n",
              "    </tr>\n",
              "    <tr>\n",
              "      <th>14</th>\n",
              "      <td>898.0</td>\n",
              "      <td>07052</td>\n",
              "      <td>Essex</td>\n",
              "      <td>both</td>\n",
              "    </tr>\n",
              "    <tr>\n",
              "      <th>15</th>\n",
              "      <td>15.0</td>\n",
              "      <td>07871</td>\n",
              "      <td>Sussex</td>\n",
              "      <td>both</td>\n",
              "    </tr>\n",
              "    <tr>\n",
              "      <th>16</th>\n",
              "      <td>24.0</td>\n",
              "      <td>08034</td>\n",
              "      <td>NaN</td>\n",
              "      <td>left_only</td>\n",
              "    </tr>\n",
              "    <tr>\n",
              "      <th>17</th>\n",
              "      <td>99.0</td>\n",
              "      <td>08034</td>\n",
              "      <td>NaN</td>\n",
              "      <td>left_only</td>\n",
              "    </tr>\n",
              "    <tr>\n",
              "      <th>18</th>\n",
              "      <td>117.0</td>\n",
              "      <td>08034</td>\n",
              "      <td>NaN</td>\n",
              "      <td>left_only</td>\n",
              "    </tr>\n",
              "    <tr>\n",
              "      <th>19</th>\n",
              "      <td>196.0</td>\n",
              "      <td>08034</td>\n",
              "      <td>NaN</td>\n",
              "      <td>left_only</td>\n",
              "    </tr>\n",
              "    <tr>\n",
              "      <th>20</th>\n",
              "      <td>1312.0</td>\n",
              "      <td>08034</td>\n",
              "      <td>NaN</td>\n",
              "      <td>left_only</td>\n",
              "    </tr>\n",
              "    <tr>\n",
              "      <th>21</th>\n",
              "      <td>1356.0</td>\n",
              "      <td>08034</td>\n",
              "      <td>NaN</td>\n",
              "      <td>left_only</td>\n",
              "    </tr>\n",
              "    <tr>\n",
              "      <th>22</th>\n",
              "      <td>1481.0</td>\n",
              "      <td>08034</td>\n",
              "      <td>NaN</td>\n",
              "      <td>left_only</td>\n",
              "    </tr>\n",
              "    <tr>\n",
              "      <th>23</th>\n",
              "      <td>1489.0</td>\n",
              "      <td>08034</td>\n",
              "      <td>NaN</td>\n",
              "      <td>left_only</td>\n",
              "    </tr>\n",
              "    <tr>\n",
              "      <th>24</th>\n",
              "      <td>43.0</td>\n",
              "      <td>08107</td>\n",
              "      <td>Camden</td>\n",
              "      <td>both</td>\n",
              "    </tr>\n",
              "    <tr>\n",
              "      <th>25</th>\n",
              "      <td>43.0</td>\n",
              "      <td>08107</td>\n",
              "      <td>Camden</td>\n",
              "      <td>both</td>\n",
              "    </tr>\n",
              "    <tr>\n",
              "      <th>26</th>\n",
              "      <td>43.0</td>\n",
              "      <td>08107</td>\n",
              "      <td>Camden</td>\n",
              "      <td>both</td>\n",
              "    </tr>\n",
              "    <tr>\n",
              "      <th>27</th>\n",
              "      <td>43.0</td>\n",
              "      <td>08107</td>\n",
              "      <td>Camden</td>\n",
              "      <td>both</td>\n",
              "    </tr>\n",
              "    <tr>\n",
              "      <th>28</th>\n",
              "      <td>43.0</td>\n",
              "      <td>08107</td>\n",
              "      <td>Camden</td>\n",
              "      <td>both</td>\n",
              "    </tr>\n",
              "    <tr>\n",
              "      <th>29</th>\n",
              "      <td>762.0</td>\n",
              "      <td>08107</td>\n",
              "      <td>Camden</td>\n",
              "      <td>both</td>\n",
              "    </tr>\n",
              "    <tr>\n",
              "      <th>30</th>\n",
              "      <td>762.0</td>\n",
              "      <td>08107</td>\n",
              "      <td>Camden</td>\n",
              "      <td>both</td>\n",
              "    </tr>\n",
              "    <tr>\n",
              "      <th>31</th>\n",
              "      <td>762.0</td>\n",
              "      <td>08107</td>\n",
              "      <td>Camden</td>\n",
              "      <td>both</td>\n",
              "    </tr>\n",
              "    <tr>\n",
              "      <th>32</th>\n",
              "      <td>762.0</td>\n",
              "      <td>08107</td>\n",
              "      <td>Camden</td>\n",
              "      <td>both</td>\n",
              "    </tr>\n",
              "    <tr>\n",
              "      <th>33</th>\n",
              "      <td>762.0</td>\n",
              "      <td>08107</td>\n",
              "      <td>Camden</td>\n",
              "      <td>both</td>\n",
              "    </tr>\n",
              "    <tr>\n",
              "      <th>34</th>\n",
              "      <td>1204.0</td>\n",
              "      <td>08107</td>\n",
              "      <td>Camden</td>\n",
              "      <td>both</td>\n",
              "    </tr>\n",
              "    <tr>\n",
              "      <th>35</th>\n",
              "      <td>1204.0</td>\n",
              "      <td>08107</td>\n",
              "      <td>Camden</td>\n",
              "      <td>both</td>\n",
              "    </tr>\n",
              "    <tr>\n",
              "      <th>36</th>\n",
              "      <td>1204.0</td>\n",
              "      <td>08107</td>\n",
              "      <td>Camden</td>\n",
              "      <td>both</td>\n",
              "    </tr>\n",
              "    <tr>\n",
              "      <th>37</th>\n",
              "      <td>1204.0</td>\n",
              "      <td>08107</td>\n",
              "      <td>Camden</td>\n",
              "      <td>both</td>\n",
              "    </tr>\n",
              "    <tr>\n",
              "      <th>38</th>\n",
              "      <td>1204.0</td>\n",
              "      <td>08107</td>\n",
              "      <td>Camden</td>\n",
              "      <td>both</td>\n",
              "    </tr>\n",
              "    <tr>\n",
              "      <th>39</th>\n",
              "      <td>1419.0</td>\n",
              "      <td>08107</td>\n",
              "      <td>Camden</td>\n",
              "      <td>both</td>\n",
              "    </tr>\n",
              "    <tr>\n",
              "      <th>40</th>\n",
              "      <td>1419.0</td>\n",
              "      <td>08107</td>\n",
              "      <td>Camden</td>\n",
              "      <td>both</td>\n",
              "    </tr>\n",
              "    <tr>\n",
              "      <th>41</th>\n",
              "      <td>1419.0</td>\n",
              "      <td>08107</td>\n",
              "      <td>Camden</td>\n",
              "      <td>both</td>\n",
              "    </tr>\n",
              "    <tr>\n",
              "      <th>42</th>\n",
              "      <td>1419.0</td>\n",
              "      <td>08107</td>\n",
              "      <td>Camden</td>\n",
              "      <td>both</td>\n",
              "    </tr>\n",
              "    <tr>\n",
              "      <th>43</th>\n",
              "      <td>1419.0</td>\n",
              "      <td>08107</td>\n",
              "      <td>Camden</td>\n",
              "      <td>both</td>\n",
              "    </tr>\n",
              "    <tr>\n",
              "      <th>44</th>\n",
              "      <td>1462.0</td>\n",
              "      <td>08107</td>\n",
              "      <td>Camden</td>\n",
              "      <td>both</td>\n",
              "    </tr>\n",
              "    <tr>\n",
              "      <th>45</th>\n",
              "      <td>1462.0</td>\n",
              "      <td>08107</td>\n",
              "      <td>Camden</td>\n",
              "      <td>both</td>\n",
              "    </tr>\n",
              "    <tr>\n",
              "      <th>46</th>\n",
              "      <td>1462.0</td>\n",
              "      <td>08107</td>\n",
              "      <td>Camden</td>\n",
              "      <td>both</td>\n",
              "    </tr>\n",
              "    <tr>\n",
              "      <th>47</th>\n",
              "      <td>1462.0</td>\n",
              "      <td>08107</td>\n",
              "      <td>Camden</td>\n",
              "      <td>both</td>\n",
              "    </tr>\n",
              "    <tr>\n",
              "      <th>48</th>\n",
              "      <td>1462.0</td>\n",
              "      <td>08107</td>\n",
              "      <td>Camden</td>\n",
              "      <td>both</td>\n",
              "    </tr>\n",
              "    <tr>\n",
              "      <th>49</th>\n",
              "      <td>1508.0</td>\n",
              "      <td>08107</td>\n",
              "      <td>Camden</td>\n",
              "      <td>both</td>\n",
              "    </tr>\n",
              "  </tbody>\n",
              "</table>\n",
              "</div>\n",
              "      <button class=\"colab-df-convert\" onclick=\"convertToInteractive('df-038028c9-13ea-4dc1-9a03-540b81e64e9a')\"\n",
              "              title=\"Convert this dataframe to an interactive table.\"\n",
              "              style=\"display:none;\">\n",
              "        \n",
              "  <svg xmlns=\"http://www.w3.org/2000/svg\" height=\"24px\"viewBox=\"0 0 24 24\"\n",
              "       width=\"24px\">\n",
              "    <path d=\"M0 0h24v24H0V0z\" fill=\"none\"/>\n",
              "    <path d=\"M18.56 5.44l.94 2.06.94-2.06 2.06-.94-2.06-.94-.94-2.06-.94 2.06-2.06.94zm-11 1L8.5 8.5l.94-2.06 2.06-.94-2.06-.94L8.5 2.5l-.94 2.06-2.06.94zm10 10l.94 2.06.94-2.06 2.06-.94-2.06-.94-.94-2.06-.94 2.06-2.06.94z\"/><path d=\"M17.41 7.96l-1.37-1.37c-.4-.4-.92-.59-1.43-.59-.52 0-1.04.2-1.43.59L10.3 9.45l-7.72 7.72c-.78.78-.78 2.05 0 2.83L4 21.41c.39.39.9.59 1.41.59.51 0 1.02-.2 1.41-.59l7.78-7.78 2.81-2.81c.8-.78.8-2.07 0-2.86zM5.41 20L4 18.59l7.72-7.72 1.47 1.35L5.41 20z\"/>\n",
              "  </svg>\n",
              "      </button>\n",
              "      \n",
              "  <style>\n",
              "    .colab-df-container {\n",
              "      display:flex;\n",
              "      flex-wrap:wrap;\n",
              "      gap: 12px;\n",
              "    }\n",
              "\n",
              "    .colab-df-convert {\n",
              "      background-color: #E8F0FE;\n",
              "      border: none;\n",
              "      border-radius: 50%;\n",
              "      cursor: pointer;\n",
              "      display: none;\n",
              "      fill: #1967D2;\n",
              "      height: 32px;\n",
              "      padding: 0 0 0 0;\n",
              "      width: 32px;\n",
              "    }\n",
              "\n",
              "    .colab-df-convert:hover {\n",
              "      background-color: #E2EBFA;\n",
              "      box-shadow: 0px 1px 2px rgba(60, 64, 67, 0.3), 0px 1px 3px 1px rgba(60, 64, 67, 0.15);\n",
              "      fill: #174EA6;\n",
              "    }\n",
              "\n",
              "    [theme=dark] .colab-df-convert {\n",
              "      background-color: #3B4455;\n",
              "      fill: #D2E3FC;\n",
              "    }\n",
              "\n",
              "    [theme=dark] .colab-df-convert:hover {\n",
              "      background-color: #434B5C;\n",
              "      box-shadow: 0px 1px 3px 1px rgba(0, 0, 0, 0.15);\n",
              "      filter: drop-shadow(0px 1px 2px rgba(0, 0, 0, 0.3));\n",
              "      fill: #FFFFFF;\n",
              "    }\n",
              "  </style>\n",
              "\n",
              "      <script>\n",
              "        const buttonEl =\n",
              "          document.querySelector('#df-038028c9-13ea-4dc1-9a03-540b81e64e9a button.colab-df-convert');\n",
              "        buttonEl.style.display =\n",
              "          google.colab.kernel.accessAllowed ? 'block' : 'none';\n",
              "\n",
              "        async function convertToInteractive(key) {\n",
              "          const element = document.querySelector('#df-038028c9-13ea-4dc1-9a03-540b81e64e9a');\n",
              "          const dataTable =\n",
              "            await google.colab.kernel.invokeFunction('convertToInteractive',\n",
              "                                                     [key], {});\n",
              "          if (!dataTable) return;\n",
              "\n",
              "          const docLinkHtml = 'Like what you see? Visit the ' +\n",
              "            '<a target=\"_blank\" href=https://colab.research.google.com/notebooks/data_table.ipynb>data table notebook</a>'\n",
              "            + ' to learn more about interactive tables.';\n",
              "          element.innerHTML = '';\n",
              "          dataTable['output_type'] = 'display_data';\n",
              "          await google.colab.output.renderOutput(dataTable, element);\n",
              "          const docLink = document.createElement('div');\n",
              "          docLink.innerHTML = docLinkHtml;\n",
              "          element.appendChild(docLink);\n",
              "        }\n",
              "      </script>\n",
              "    </div>\n",
              "  </div>\n",
              "  "
            ]
          },
          "metadata": {},
          "execution_count": 199
        }
      ]
    },
    {
      "cell_type": "code",
      "source": [
        "#It looks like I will need to clean this up a bit. I just want to see where we have the Zip codes and the names of the counties. \n",
        "njappzipmerge = njappzip.query(\"_merge=='both'\")\n",
        "njappzipmerge.head(3)\n",
        "njappzipmerge.tail(3)"
      ],
      "metadata": {
        "colab": {
          "base_uri": "https://localhost:8080/",
          "height": 269
        },
        "id": "RPo0ZwJa1NFN",
        "outputId": "0d2d2610-aab5-4c09-986c-22edcce4153a"
      },
      "execution_count": 200,
      "outputs": [
        {
          "output_type": "execute_result",
          "data": {
            "text/plain": [
              "   ID   C_Zip    County _merge\n",
              "0  3.0  07009     Essex   both\n",
              "1  3.0  07009     Essex   both\n",
              "2  4.0  07726  Monmouth   both"
            ],
            "text/html": [
              "\n",
              "  <div id=\"df-b3e0e7fd-d7e7-4946-95b5-042a4be4a237\">\n",
              "    <div class=\"colab-df-container\">\n",
              "      <div>\n",
              "<style scoped>\n",
              "    .dataframe tbody tr th:only-of-type {\n",
              "        vertical-align: middle;\n",
              "    }\n",
              "\n",
              "    .dataframe tbody tr th {\n",
              "        vertical-align: top;\n",
              "    }\n",
              "\n",
              "    .dataframe thead th {\n",
              "        text-align: right;\n",
              "    }\n",
              "</style>\n",
              "<table border=\"1\" class=\"dataframe\">\n",
              "  <thead>\n",
              "    <tr style=\"text-align: right;\">\n",
              "      <th></th>\n",
              "      <th>ID</th>\n",
              "      <th>C_Zip</th>\n",
              "      <th>County</th>\n",
              "      <th>_merge</th>\n",
              "    </tr>\n",
              "  </thead>\n",
              "  <tbody>\n",
              "    <tr>\n",
              "      <th>0</th>\n",
              "      <td>3.0</td>\n",
              "      <td>07009</td>\n",
              "      <td>Essex</td>\n",
              "      <td>both</td>\n",
              "    </tr>\n",
              "    <tr>\n",
              "      <th>1</th>\n",
              "      <td>3.0</td>\n",
              "      <td>07009</td>\n",
              "      <td>Essex</td>\n",
              "      <td>both</td>\n",
              "    </tr>\n",
              "    <tr>\n",
              "      <th>2</th>\n",
              "      <td>4.0</td>\n",
              "      <td>07726</td>\n",
              "      <td>Monmouth</td>\n",
              "      <td>both</td>\n",
              "    </tr>\n",
              "  </tbody>\n",
              "</table>\n",
              "</div>\n",
              "      <button class=\"colab-df-convert\" onclick=\"convertToInteractive('df-b3e0e7fd-d7e7-4946-95b5-042a4be4a237')\"\n",
              "              title=\"Convert this dataframe to an interactive table.\"\n",
              "              style=\"display:none;\">\n",
              "        \n",
              "  <svg xmlns=\"http://www.w3.org/2000/svg\" height=\"24px\"viewBox=\"0 0 24 24\"\n",
              "       width=\"24px\">\n",
              "    <path d=\"M0 0h24v24H0V0z\" fill=\"none\"/>\n",
              "    <path d=\"M18.56 5.44l.94 2.06.94-2.06 2.06-.94-2.06-.94-.94-2.06-.94 2.06-2.06.94zm-11 1L8.5 8.5l.94-2.06 2.06-.94-2.06-.94L8.5 2.5l-.94 2.06-2.06.94zm10 10l.94 2.06.94-2.06 2.06-.94-2.06-.94-.94-2.06-.94 2.06-2.06.94z\"/><path d=\"M17.41 7.96l-1.37-1.37c-.4-.4-.92-.59-1.43-.59-.52 0-1.04.2-1.43.59L10.3 9.45l-7.72 7.72c-.78.78-.78 2.05 0 2.83L4 21.41c.39.39.9.59 1.41.59.51 0 1.02-.2 1.41-.59l7.78-7.78 2.81-2.81c.8-.78.8-2.07 0-2.86zM5.41 20L4 18.59l7.72-7.72 1.47 1.35L5.41 20z\"/>\n",
              "  </svg>\n",
              "      </button>\n",
              "      \n",
              "  <style>\n",
              "    .colab-df-container {\n",
              "      display:flex;\n",
              "      flex-wrap:wrap;\n",
              "      gap: 12px;\n",
              "    }\n",
              "\n",
              "    .colab-df-convert {\n",
              "      background-color: #E8F0FE;\n",
              "      border: none;\n",
              "      border-radius: 50%;\n",
              "      cursor: pointer;\n",
              "      display: none;\n",
              "      fill: #1967D2;\n",
              "      height: 32px;\n",
              "      padding: 0 0 0 0;\n",
              "      width: 32px;\n",
              "    }\n",
              "\n",
              "    .colab-df-convert:hover {\n",
              "      background-color: #E2EBFA;\n",
              "      box-shadow: 0px 1px 2px rgba(60, 64, 67, 0.3), 0px 1px 3px 1px rgba(60, 64, 67, 0.15);\n",
              "      fill: #174EA6;\n",
              "    }\n",
              "\n",
              "    [theme=dark] .colab-df-convert {\n",
              "      background-color: #3B4455;\n",
              "      fill: #D2E3FC;\n",
              "    }\n",
              "\n",
              "    [theme=dark] .colab-df-convert:hover {\n",
              "      background-color: #434B5C;\n",
              "      box-shadow: 0px 1px 3px 1px rgba(0, 0, 0, 0.15);\n",
              "      filter: drop-shadow(0px 1px 2px rgba(0, 0, 0, 0.3));\n",
              "      fill: #FFFFFF;\n",
              "    }\n",
              "  </style>\n",
              "\n",
              "      <script>\n",
              "        const buttonEl =\n",
              "          document.querySelector('#df-b3e0e7fd-d7e7-4946-95b5-042a4be4a237 button.colab-df-convert');\n",
              "        buttonEl.style.display =\n",
              "          google.colab.kernel.accessAllowed ? 'block' : 'none';\n",
              "\n",
              "        async function convertToInteractive(key) {\n",
              "          const element = document.querySelector('#df-b3e0e7fd-d7e7-4946-95b5-042a4be4a237');\n",
              "          const dataTable =\n",
              "            await google.colab.kernel.invokeFunction('convertToInteractive',\n",
              "                                                     [key], {});\n",
              "          if (!dataTable) return;\n",
              "\n",
              "          const docLinkHtml = 'Like what you see? Visit the ' +\n",
              "            '<a target=\"_blank\" href=https://colab.research.google.com/notebooks/data_table.ipynb>data table notebook</a>'\n",
              "            + ' to learn more about interactive tables.';\n",
              "          element.innerHTML = '';\n",
              "          dataTable['output_type'] = 'display_data';\n",
              "          await google.colab.output.renderOutput(dataTable, element);\n",
              "          const docLink = document.createElement('div');\n",
              "          docLink.innerHTML = docLinkHtml;\n",
              "          element.appendChild(docLink);\n",
              "        }\n",
              "      </script>\n",
              "    </div>\n",
              "  </div>\n",
              "  "
            ]
          },
          "metadata": {},
          "execution_count": 200
        },
        {
          "output_type": "execute_result",
          "data": {
            "text/plain": [
              "         ID   C_Zip      County _merge\n",
              "1043  1517.0  08322  Gloucester   both\n",
              "1044  1520.0  07040       Essex   both\n",
              "1045  1520.0  07040       Essex   both"
            ],
            "text/html": [
              "\n",
              "  <div id=\"df-277276f8-8838-4a77-b67f-5750129a3604\">\n",
              "    <div class=\"colab-df-container\">\n",
              "      <div>\n",
              "<style scoped>\n",
              "    .dataframe tbody tr th:only-of-type {\n",
              "        vertical-align: middle;\n",
              "    }\n",
              "\n",
              "    .dataframe tbody tr th {\n",
              "        vertical-align: top;\n",
              "    }\n",
              "\n",
              "    .dataframe thead th {\n",
              "        text-align: right;\n",
              "    }\n",
              "</style>\n",
              "<table border=\"1\" class=\"dataframe\">\n",
              "  <thead>\n",
              "    <tr style=\"text-align: right;\">\n",
              "      <th></th>\n",
              "      <th>ID</th>\n",
              "      <th>C_Zip</th>\n",
              "      <th>County</th>\n",
              "      <th>_merge</th>\n",
              "    </tr>\n",
              "  </thead>\n",
              "  <tbody>\n",
              "    <tr>\n",
              "      <th>1043</th>\n",
              "      <td>1517.0</td>\n",
              "      <td>08322</td>\n",
              "      <td>Gloucester</td>\n",
              "      <td>both</td>\n",
              "    </tr>\n",
              "    <tr>\n",
              "      <th>1044</th>\n",
              "      <td>1520.0</td>\n",
              "      <td>07040</td>\n",
              "      <td>Essex</td>\n",
              "      <td>both</td>\n",
              "    </tr>\n",
              "    <tr>\n",
              "      <th>1045</th>\n",
              "      <td>1520.0</td>\n",
              "      <td>07040</td>\n",
              "      <td>Essex</td>\n",
              "      <td>both</td>\n",
              "    </tr>\n",
              "  </tbody>\n",
              "</table>\n",
              "</div>\n",
              "      <button class=\"colab-df-convert\" onclick=\"convertToInteractive('df-277276f8-8838-4a77-b67f-5750129a3604')\"\n",
              "              title=\"Convert this dataframe to an interactive table.\"\n",
              "              style=\"display:none;\">\n",
              "        \n",
              "  <svg xmlns=\"http://www.w3.org/2000/svg\" height=\"24px\"viewBox=\"0 0 24 24\"\n",
              "       width=\"24px\">\n",
              "    <path d=\"M0 0h24v24H0V0z\" fill=\"none\"/>\n",
              "    <path d=\"M18.56 5.44l.94 2.06.94-2.06 2.06-.94-2.06-.94-.94-2.06-.94 2.06-2.06.94zm-11 1L8.5 8.5l.94-2.06 2.06-.94-2.06-.94L8.5 2.5l-.94 2.06-2.06.94zm10 10l.94 2.06.94-2.06 2.06-.94-2.06-.94-.94-2.06-.94 2.06-2.06.94z\"/><path d=\"M17.41 7.96l-1.37-1.37c-.4-.4-.92-.59-1.43-.59-.52 0-1.04.2-1.43.59L10.3 9.45l-7.72 7.72c-.78.78-.78 2.05 0 2.83L4 21.41c.39.39.9.59 1.41.59.51 0 1.02-.2 1.41-.59l7.78-7.78 2.81-2.81c.8-.78.8-2.07 0-2.86zM5.41 20L4 18.59l7.72-7.72 1.47 1.35L5.41 20z\"/>\n",
              "  </svg>\n",
              "      </button>\n",
              "      \n",
              "  <style>\n",
              "    .colab-df-container {\n",
              "      display:flex;\n",
              "      flex-wrap:wrap;\n",
              "      gap: 12px;\n",
              "    }\n",
              "\n",
              "    .colab-df-convert {\n",
              "      background-color: #E8F0FE;\n",
              "      border: none;\n",
              "      border-radius: 50%;\n",
              "      cursor: pointer;\n",
              "      display: none;\n",
              "      fill: #1967D2;\n",
              "      height: 32px;\n",
              "      padding: 0 0 0 0;\n",
              "      width: 32px;\n",
              "    }\n",
              "\n",
              "    .colab-df-convert:hover {\n",
              "      background-color: #E2EBFA;\n",
              "      box-shadow: 0px 1px 2px rgba(60, 64, 67, 0.3), 0px 1px 3px 1px rgba(60, 64, 67, 0.15);\n",
              "      fill: #174EA6;\n",
              "    }\n",
              "\n",
              "    [theme=dark] .colab-df-convert {\n",
              "      background-color: #3B4455;\n",
              "      fill: #D2E3FC;\n",
              "    }\n",
              "\n",
              "    [theme=dark] .colab-df-convert:hover {\n",
              "      background-color: #434B5C;\n",
              "      box-shadow: 0px 1px 3px 1px rgba(0, 0, 0, 0.15);\n",
              "      filter: drop-shadow(0px 1px 2px rgba(0, 0, 0, 0.3));\n",
              "      fill: #FFFFFF;\n",
              "    }\n",
              "  </style>\n",
              "\n",
              "      <script>\n",
              "        const buttonEl =\n",
              "          document.querySelector('#df-277276f8-8838-4a77-b67f-5750129a3604 button.colab-df-convert');\n",
              "        buttonEl.style.display =\n",
              "          google.colab.kernel.accessAllowed ? 'block' : 'none';\n",
              "\n",
              "        async function convertToInteractive(key) {\n",
              "          const element = document.querySelector('#df-277276f8-8838-4a77-b67f-5750129a3604');\n",
              "          const dataTable =\n",
              "            await google.colab.kernel.invokeFunction('convertToInteractive',\n",
              "                                                     [key], {});\n",
              "          if (!dataTable) return;\n",
              "\n",
              "          const docLinkHtml = 'Like what you see? Visit the ' +\n",
              "            '<a target=\"_blank\" href=https://colab.research.google.com/notebooks/data_table.ipynb>data table notebook</a>'\n",
              "            + ' to learn more about interactive tables.';\n",
              "          element.innerHTML = '';\n",
              "          dataTable['output_type'] = 'display_data';\n",
              "          await google.colab.output.renderOutput(dataTable, element);\n",
              "          const docLink = document.createElement('div');\n",
              "          docLink.innerHTML = docLinkHtml;\n",
              "          element.appendChild(docLink);\n",
              "        }\n",
              "      </script>\n",
              "    </div>\n",
              "  </div>\n",
              "  "
            ]
          },
          "metadata": {},
          "execution_count": 200
        }
      ]
    },
    {
      "cell_type": "markdown",
      "source": [
        "This looks right, but it makes testing the thesis difficult. Even before merging the unemployment data, I can see that the majority of applicants live in Camden county. Ths suggests proximity and place might be more of an indicator than unemployment rate. OLS regression will be required with more variables. "
      ],
      "metadata": {
        "id": "LMxKJM9K59FR"
      }
    },
    {
      "cell_type": "code",
      "source": [
        "#Cleaning the data and adding more records resulted in a greater range between the county with the most applicants and the county with the tenth most applicants.\n",
        "#Additionally Somerset, Monmouth, Middlesex, Mercer and Ocean counties changed ranks. These are not insignificant differences. \n",
        "njappzipmerge.County.value_counts().nlargest(10).plot(kind='bar',figsize=(10,5))\n",
        "plt.title(\"Number of Applications by County\")\n",
        "plt.ylabel(\"Number of Applicants\")\n",
        "plt.xlabel(\"County Name\")"
      ],
      "metadata": {
        "colab": {
          "base_uri": "https://localhost:8080/",
          "height": 429
        },
        "id": "T5Wqzybd2DVX",
        "outputId": "eeb73f44-bb7d-4582-8a50-f3645c4427c2"
      },
      "execution_count": 203,
      "outputs": [
        {
          "output_type": "execute_result",
          "data": {
            "text/plain": [
              "<matplotlib.axes._subplots.AxesSubplot at 0x7faf524633a0>"
            ]
          },
          "metadata": {},
          "execution_count": 203
        },
        {
          "output_type": "execute_result",
          "data": {
            "text/plain": [
              "Text(0.5, 1.0, 'Number of Applications by County')"
            ]
          },
          "metadata": {},
          "execution_count": 203
        },
        {
          "output_type": "execute_result",
          "data": {
            "text/plain": [
              "Text(0, 0.5, 'Number of Applicants')"
            ]
          },
          "metadata": {},
          "execution_count": 203
        },
        {
          "output_type": "execute_result",
          "data": {
            "text/plain": [
              "Text(0.5, 0, 'County Name')"
            ]
          },
          "metadata": {},
          "execution_count": 203
        },
        {
          "output_type": "display_data",
          "data": {
            "text/plain": [
              "<Figure size 720x360 with 1 Axes>"
            ],
            "image/png": "[encoded data removed]"
          },
          "metadata": {
            "needs_background": "light"
          }
        }
      ]
    },
    {
      "cell_type": "code",
      "source": [
        "njunemp.dtypes"
      ],
      "metadata": {
        "colab": {
          "base_uri": "https://localhost:8080/"
        },
        "id": "Ig1vnuc23FSP",
        "outputId": "e3cb07e9-ac13-496d-bd7c-5b7b6ed78c84"
      },
      "execution_count": 204,
      "outputs": [
        {
          "output_type": "execute_result",
          "data": {
            "text/plain": [
              "County                          object\n",
              "Geo_STATE                        int64\n",
              "LaborForce2021                   int64\n",
              "ORG_US_007_002                   int64\n",
              "ORG_US_007_003                   int64\n",
              "Unemployment2021               float64\n",
              "LaborForce2020                   int64\n",
              "ORG_US_Unemployment_027_002      int64\n",
              "ORG_US_Unemployment_027_003      int64\n",
              "Unemployment2020               float64\n",
              "ORG_US_Unemployment_020_001      int64\n",
              "ORG_US_Unemployment_020_002      int64\n",
              "ORG_US_Unemployment_020_003      int64\n",
              "ORG_US_Unemployment_020_004    float64\n",
              "ORG_US_035_001                 float64\n",
              "ORG_US_035_002                 float64\n",
              "ORG_US_035_003                 float64\n",
              "PercentageChange               float64\n",
              "dtype: object"
            ]
          },
          "metadata": {},
          "execution_count": 204
        }
      ]
    },
    {
      "cell_type": "code",
      "source": [
        "njunempmerge=njunemp[['County','Unemployment2021','PercentageChange']]\n",
        "njunempmerge.head(3)"
      ],
      "metadata": {
        "colab": {
          "base_uri": "https://localhost:8080/",
          "height": 143
        },
        "id": "pP7u_Gte3RBk",
        "outputId": "95a5bd3d-7b55-401a-e84e-364d1b1321e2"
      },
      "execution_count": 205,
      "outputs": [
        {
          "output_type": "execute_result",
          "data": {
            "text/plain": [
              "       County  Unemployment2021  PercentageChange\n",
              "0    Atlantic              10.8        -55.000000\n",
              "1      Bergen               7.4        -47.517730\n",
              "2  Burlington               6.6        -44.067797"
            ],
            "text/html": [
              "\n",
              "  <div id=\"df-da53432b-7058-47c2-b398-d91a48be689b\">\n",
              "    <div class=\"colab-df-container\">\n",
              "      <div>\n",
              "<style scoped>\n",
              "    .dataframe tbody tr th:only-of-type {\n",
              "        vertical-align: middle;\n",
              "    }\n",
              "\n",
              "    .dataframe tbody tr th {\n",
              "        vertical-align: top;\n",
              "    }\n",
              "\n",
              "    .dataframe thead th {\n",
              "        text-align: right;\n",
              "    }\n",
              "</style>\n",
              "<table border=\"1\" class=\"dataframe\">\n",
              "  <thead>\n",
              "    <tr style=\"text-align: right;\">\n",
              "      <th></th>\n",
              "      <th>County</th>\n",
              "      <th>Unemployment2021</th>\n",
              "      <th>PercentageChange</th>\n",
              "    </tr>\n",
              "  </thead>\n",
              "  <tbody>\n",
              "    <tr>\n",
              "      <th>0</th>\n",
              "      <td>Atlantic</td>\n",
              "      <td>10.8</td>\n",
              "      <td>-55.000000</td>\n",
              "    </tr>\n",
              "    <tr>\n",
              "      <th>1</th>\n",
              "      <td>Bergen</td>\n",
              "      <td>7.4</td>\n",
              "      <td>-47.517730</td>\n",
              "    </tr>\n",
              "    <tr>\n",
              "      <th>2</th>\n",
              "      <td>Burlington</td>\n",
              "      <td>6.6</td>\n",
              "      <td>-44.067797</td>\n",
              "    </tr>\n",
              "  </tbody>\n",
              "</table>\n",
              "</div>\n",
              "      <button class=\"colab-df-convert\" onclick=\"convertToInteractive('df-da53432b-7058-47c2-b398-d91a48be689b')\"\n",
              "              title=\"Convert this dataframe to an interactive table.\"\n",
              "              style=\"display:none;\">\n",
              "        \n",
              "  <svg xmlns=\"http://www.w3.org/2000/svg\" height=\"24px\"viewBox=\"0 0 24 24\"\n",
              "       width=\"24px\">\n",
              "    <path d=\"M0 0h24v24H0V0z\" fill=\"none\"/>\n",
              "    <path d=\"M18.56 5.44l.94 2.06.94-2.06 2.06-.94-2.06-.94-.94-2.06-.94 2.06-2.06.94zm-11 1L8.5 8.5l.94-2.06 2.06-.94-2.06-.94L8.5 2.5l-.94 2.06-2.06.94zm10 10l.94 2.06.94-2.06 2.06-.94-2.06-.94-.94-2.06-.94 2.06-2.06.94z\"/><path d=\"M17.41 7.96l-1.37-1.37c-.4-.4-.92-.59-1.43-.59-.52 0-1.04.2-1.43.59L10.3 9.45l-7.72 7.72c-.78.78-.78 2.05 0 2.83L4 21.41c.39.39.9.59 1.41.59.51 0 1.02-.2 1.41-.59l7.78-7.78 2.81-2.81c.8-.78.8-2.07 0-2.86zM5.41 20L4 18.59l7.72-7.72 1.47 1.35L5.41 20z\"/>\n",
              "  </svg>\n",
              "      </button>\n",
              "      \n",
              "  <style>\n",
              "    .colab-df-container {\n",
              "      display:flex;\n",
              "      flex-wrap:wrap;\n",
              "      gap: 12px;\n",
              "    }\n",
              "\n",
              "    .colab-df-convert {\n",
              "      background-color: #E8F0FE;\n",
              "      border: none;\n",
              "      border-radius: 50%;\n",
              "      cursor: pointer;\n",
              "      display: none;\n",
              "      fill: #1967D2;\n",
              "      height: 32px;\n",
              "      padding: 0 0 0 0;\n",
              "      width: 32px;\n",
              "    }\n",
              "\n",
              "    .colab-df-convert:hover {\n",
              "      background-color: #E2EBFA;\n",
              "      box-shadow: 0px 1px 2px rgba(60, 64, 67, 0.3), 0px 1px 3px 1px rgba(60, 64, 67, 0.15);\n",
              "      fill: #174EA6;\n",
              "    }\n",
              "\n",
              "    [theme=dark] .colab-df-convert {\n",
              "      background-color: #3B4455;\n",
              "      fill: #D2E3FC;\n",
              "    }\n",
              "\n",
              "    [theme=dark] .colab-df-convert:hover {\n",
              "      background-color: #434B5C;\n",
              "      box-shadow: 0px 1px 3px 1px rgba(0, 0, 0, 0.15);\n",
              "      filter: drop-shadow(0px 1px 2px rgba(0, 0, 0, 0.3));\n",
              "      fill: #FFFFFF;\n",
              "    }\n",
              "  </style>\n",
              "\n",
              "      <script>\n",
              "        const buttonEl =\n",
              "          document.querySelector('#df-da53432b-7058-47c2-b398-d91a48be689b button.colab-df-convert');\n",
              "        buttonEl.style.display =\n",
              "          google.colab.kernel.accessAllowed ? 'block' : 'none';\n",
              "\n",
              "        async function convertToInteractive(key) {\n",
              "          const element = document.querySelector('#df-da53432b-7058-47c2-b398-d91a48be689b');\n",
              "          const dataTable =\n",
              "            await google.colab.kernel.invokeFunction('convertToInteractive',\n",
              "                                                     [key], {});\n",
              "          if (!dataTable) return;\n",
              "\n",
              "          const docLinkHtml = 'Like what you see? Visit the ' +\n",
              "            '<a target=\"_blank\" href=https://colab.research.google.com/notebooks/data_table.ipynb>data table notebook</a>'\n",
              "            + ' to learn more about interactive tables.';\n",
              "          element.innerHTML = '';\n",
              "          dataTable['output_type'] = 'display_data';\n",
              "          await google.colab.output.renderOutput(dataTable, element);\n",
              "          const docLink = document.createElement('div');\n",
              "          docLink.innerHTML = docLinkHtml;\n",
              "          element.appendChild(docLink);\n",
              "        }\n",
              "      </script>\n",
              "    </div>\n",
              "  </div>\n",
              "  "
            ]
          },
          "metadata": {},
          "execution_count": 205
        }
      ]
    },
    {
      "cell_type": "code",
      "source": [
        "njappzipmerge.dtypes"
      ],
      "metadata": {
        "colab": {
          "base_uri": "https://localhost:8080/"
        },
        "id": "kqvfxou84qqO",
        "outputId": "ab9c0109-524d-4f3c-d2ae-c649d3f41f0e"
      },
      "execution_count": 206,
      "outputs": [
        {
          "output_type": "execute_result",
          "data": {
            "text/plain": [
              "ID         float64\n",
              "C_Zip       object\n",
              "County      object\n",
              "_merge    category\n",
              "dtype: object"
            ]
          },
          "metadata": {},
          "execution_count": 206
        }
      ]
    },
    {
      "cell_type": "code",
      "source": [
        "print(njappzipmerge.County.unique())"
      ],
      "metadata": {
        "colab": {
          "base_uri": "https://localhost:8080/"
        },
        "id": "_j0yKjcEEWG6",
        "outputId": "9b17f3cc-4904-453a-a016-746f94ce66e5"
      },
      "execution_count": 207,
      "outputs": [
        {
          "output_type": "stream",
          "name": "stdout",
          "text": [
            "['Essex' 'Monmouth' 'Middlesex' 'Sussex' 'Camden' 'Burlington' 'Hudson'\n",
            " 'Union' 'Gloucester' 'Ocean' 'Somerset' 'Atlantic' 'Cumberland' 'Mercer'\n",
            " 'Cape May' 'Bergen' 'Warren' 'Morris' 'Hunterdon' 'Salem' 'Passaic']\n"
          ]
        }
      ]
    },
    {
      "cell_type": "code",
      "source": [
        "njappzipmerge['County'] = njappzipmerge['County'].astype(str) + ' '"
      ],
      "metadata": {
        "colab": {
          "base_uri": "https://localhost:8080/"
        },
        "id": "m4JDRcCaXllg",
        "outputId": "0ff4a1dc-0077-48e0-abbb-40a972a6f543"
      },
      "execution_count": 208,
      "outputs": [
        {
          "output_type": "stream",
          "name": "stderr",
          "text": [
            "<ipython-input-208-cfdbf3609f93>:1: SettingWithCopyWarning: \n",
            "A value is trying to be set on a copy of a slice from a DataFrame.\n",
            "Try using .loc[row_indexer,col_indexer] = value instead\n",
            "\n",
            "See the caveats in the documentation: https://pandas.pydata.org/pandas-docs/stable/user_guide/indexing.html#returning-a-view-versus-a-copy\n",
            "  njappzipmerge['County'] = njappzipmerge['County'].astype(str) + ' '\n"
          ]
        }
      ]
    },
    {
      "cell_type": "code",
      "source": [
        "print(njappzipmerge.County.unique())"
      ],
      "metadata": {
        "colab": {
          "base_uri": "https://localhost:8080/"
        },
        "id": "7JGxnS-4X1Mf",
        "outputId": "c9b635bf-4554-43e7-9293-f3a50b8ea1bc"
      },
      "execution_count": 209,
      "outputs": [
        {
          "output_type": "stream",
          "name": "stdout",
          "text": [
            "['Essex ' 'Monmouth ' 'Middlesex ' 'Sussex ' 'Camden ' 'Burlington '\n",
            " 'Hudson ' 'Union ' 'Gloucester ' 'Ocean ' 'Somerset ' 'Atlantic '\n",
            " 'Cumberland ' 'Mercer ' 'Cape May ' 'Bergen ' 'Warren ' 'Morris '\n",
            " 'Hunterdon ' 'Salem ' 'Passaic ']\n"
          ]
        }
      ]
    },
    {
      "cell_type": "code",
      "source": [
        "njunempmerge.dtypes"
      ],
      "metadata": {
        "colab": {
          "base_uri": "https://localhost:8080/"
        },
        "id": "zOW-M2xQ8x6y",
        "outputId": "a0fc67b6-97ae-418b-df62-758f0bf70b52"
      },
      "execution_count": 210,
      "outputs": [
        {
          "output_type": "execute_result",
          "data": {
            "text/plain": [
              "County               object\n",
              "Unemployment2021    float64\n",
              "PercentageChange    float64\n",
              "dtype: object"
            ]
          },
          "metadata": {},
          "execution_count": 210
        }
      ]
    },
    {
      "cell_type": "code",
      "source": [
        "#There is a problem. Counties in this data have a space. \n",
        "print(njunempmerge.County.unique())"
      ],
      "metadata": {
        "colab": {
          "base_uri": "https://localhost:8080/"
        },
        "id": "eH-pMBJpEdOF",
        "outputId": "78d96b06-ecc2-46a4-b438-db20683f51d4"
      },
      "execution_count": 211,
      "outputs": [
        {
          "output_type": "stream",
          "name": "stdout",
          "text": [
            "['Atlantic' 'Bergen' 'Burlington' 'Camden' 'Cape May' 'Cumberland' 'Essex'\n",
            " 'Gloucester' 'Hudson' 'Hunterdon' 'Mercer' 'Middlesex' 'Monmouth'\n",
            " 'Morris' 'Ocean' 'Passaic' 'Salem' 'Somerset' 'Sussex' 'Union' 'Warren']\n"
          ]
        }
      ]
    },
    {
      "cell_type": "code",
      "source": [
        "njunempmerge['County'].str.replace(' ','')"
      ],
      "metadata": {
        "colab": {
          "base_uri": "https://localhost:8080/"
        },
        "id": "OaPQgKhE7QX4",
        "outputId": "500a3027-86e4-4cfb-b354-1979e029d69c"
      },
      "execution_count": 212,
      "outputs": [
        {
          "output_type": "execute_result",
          "data": {
            "text/plain": [
              "0       Atlantic\n",
              "1         Bergen\n",
              "2     Burlington\n",
              "3         Camden\n",
              "4        CapeMay\n",
              "5     Cumberland\n",
              "6          Essex\n",
              "7     Gloucester\n",
              "8         Hudson\n",
              "9      Hunterdon\n",
              "10        Mercer\n",
              "11     Middlesex\n",
              "12      Monmouth\n",
              "13        Morris\n",
              "14         Ocean\n",
              "15       Passaic\n",
              "16         Salem\n",
              "17      Somerset\n",
              "18        Sussex\n",
              "19         Union\n",
              "20        Warren\n",
              "Name: County, dtype: object"
            ]
          },
          "metadata": {},
          "execution_count": 212
        }
      ]
    },
    {
      "cell_type": "code",
      "source": [
        "print(njunempmerge.County.unique())"
      ],
      "metadata": {
        "colab": {
          "base_uri": "https://localhost:8080/"
        },
        "id": "Y3iDX2bh8cda",
        "outputId": "0972fe4e-cdc0-4f5f-f08c-718294dd1c5c"
      },
      "execution_count": 213,
      "outputs": [
        {
          "output_type": "stream",
          "name": "stdout",
          "text": [
            "['Atlantic' 'Bergen' 'Burlington' 'Camden' 'Cape May' 'Cumberland' 'Essex'\n",
            " 'Gloucester' 'Hudson' 'Hunterdon' 'Mercer' 'Middlesex' 'Monmouth'\n",
            " 'Morris' 'Ocean' 'Passaic' 'Salem' 'Somerset' 'Sussex' 'Union' 'Warren']\n"
          ]
        }
      ]
    },
    {
      "cell_type": "code",
      "source": [
        "njunempmerge['County'].str.strip()"
      ],
      "metadata": {
        "colab": {
          "base_uri": "https://localhost:8080/"
        },
        "id": "yjWcAM_EEEX-",
        "outputId": "b0ce9da2-1061-4263-c499-16746d8fa06a"
      },
      "execution_count": 214,
      "outputs": [
        {
          "output_type": "execute_result",
          "data": {
            "text/plain": [
              "0       Atlantic\n",
              "1         Bergen\n",
              "2     Burlington\n",
              "3         Camden\n",
              "4       Cape May\n",
              "5     Cumberland\n",
              "6          Essex\n",
              "7     Gloucester\n",
              "8         Hudson\n",
              "9      Hunterdon\n",
              "10        Mercer\n",
              "11     Middlesex\n",
              "12      Monmouth\n",
              "13        Morris\n",
              "14         Ocean\n",
              "15       Passaic\n",
              "16         Salem\n",
              "17      Somerset\n",
              "18        Sussex\n",
              "19         Union\n",
              "20        Warren\n",
              "Name: County, dtype: object"
            ]
          },
          "metadata": {},
          "execution_count": 214
        }
      ]
    },
    {
      "cell_type": "markdown",
      "source": [
        "# Three Merged Files\n",
        " "
      ],
      "metadata": {
        "id": "bjRXSQNyYyZ1"
      }
    },
    {
      "cell_type": "markdown",
      "source": [],
      "metadata": {
        "id": "xmHUzRYamTPA"
      }
    },
    {
      "cell_type": "code",
      "source": [
        "njunempmerge.dtypes"
      ],
      "metadata": {
        "colab": {
          "base_uri": "https://localhost:8080/"
        },
        "id": "ucnhJcAOtiBC",
        "outputId": "92258905-d1b4-4ea1-ccbf-194e481bc93a"
      },
      "execution_count": 215,
      "outputs": [
        {
          "output_type": "execute_result",
          "data": {
            "text/plain": [
              "County               object\n",
              "Unemployment2021    float64\n",
              "PercentageChange    float64\n",
              "dtype: object"
            ]
          },
          "metadata": {},
          "execution_count": 215
        }
      ]
    },
    {
      "cell_type": "code",
      "source": [
        "print(njunempmerge.County.unique())"
      ],
      "metadata": {
        "colab": {
          "base_uri": "https://localhost:8080/"
        },
        "id": "u8vgY1aPuj3b",
        "outputId": "d4437ec5-5ee7-49d6-a34d-883aeffdb780"
      },
      "execution_count": 216,
      "outputs": [
        {
          "output_type": "stream",
          "name": "stdout",
          "text": [
            "['Atlantic' 'Bergen' 'Burlington' 'Camden' 'Cape May' 'Cumberland' 'Essex'\n",
            " 'Gloucester' 'Hudson' 'Hunterdon' 'Mercer' 'Middlesex' 'Monmouth'\n",
            " 'Morris' 'Ocean' 'Passaic' 'Salem' 'Somerset' 'Sussex' 'Union' 'Warren']\n"
          ]
        }
      ]
    },
    {
      "cell_type": "code",
      "source": [
        "njappzipmerge.dtypes"
      ],
      "metadata": {
        "colab": {
          "base_uri": "https://localhost:8080/"
        },
        "id": "4tcjFao9tpZ8",
        "outputId": "fa19e406-be75-424f-ce3e-e1ccc2cbbc9b"
      },
      "execution_count": 217,
      "outputs": [
        {
          "output_type": "execute_result",
          "data": {
            "text/plain": [
              "ID         float64\n",
              "C_Zip       object\n",
              "County      object\n",
              "_merge    category\n",
              "dtype: object"
            ]
          },
          "metadata": {},
          "execution_count": 217
        }
      ]
    },
    {
      "cell_type": "code",
      "source": [
        "print(njappzipmerge.County.unique())"
      ],
      "metadata": {
        "colab": {
          "base_uri": "https://localhost:8080/"
        },
        "id": "m7v2p6C9umFp",
        "outputId": "526f0635-87ff-4438-de17-d64d86f1ee6b"
      },
      "execution_count": 158,
      "outputs": [
        {
          "output_type": "stream",
          "name": "stdout",
          "text": [
            "['Essex ' 'Monmouth ' 'Middlesex ' 'Sussex ' 'Camden ' 'Burlington '\n",
            " 'Hudson ' 'Union ' 'Gloucester ' 'Ocean ' 'Somerset ' 'Atlantic '\n",
            " 'Cumberland ' 'Mercer ' 'Cape May ' 'Bergen ' 'Warren ' 'Morris '\n",
            " 'Hunterdon ' 'Salem ' 'Passaic ']\n"
          ]
        }
      ]
    },
    {
      "cell_type": "code",
      "source": [
        "njappzipmerge=njappzipmerge.replace({'County':{'Atlantic ':'Atlantic',\t'Bergen ':'Bergen',\t'Burlington ':'Burlington',\t'Camden ':'Camden',\t'Cape May ':'Cape May',\t'Cumberland ':'Cumberland',\t'Essex ':'Essex',\t'Gloucester ':'Gloucester',\t'Hudson ':'Hudson',\t'Hunterdon ':'Hunterdon',\t'Mercer ':'Mercer',\t'Middlesex ':'Middlesex',\t'Monmouth ':'Monmouth',\t'Morris ':'Morris',\t'Ocean ':'Ocean',\t'Passaic ':'Passaic',\t'Salem ':'Salem',\t'Somerset ':'Somerset',\t'Sussex ':'Sussex',\t'Union ':'Union',\t'Warren ':'Warren'}})"
      ],
      "metadata": {
        "id": "3YUTXRTb2rMY"
      },
      "execution_count": 221,
      "outputs": []
    },
    {
      "cell_type": "code",
      "source": [
        "njappzipmerge = njappzipmerge.drop(['_merge'],axis=1)"
      ],
      "metadata": {
        "id": "Zu_GGiEctz_y"
      },
      "execution_count": 219,
      "outputs": []
    },
    {
      "cell_type": "code",
      "source": [
        "finalmerge = pd.merge(njunempmerge,njappzipmerge,how='outer',indicator=True)\n",
        "finalmerge.head(5)\n",
        "finalmerge.tail(5)"
      ],
      "metadata": {
        "colab": {
          "base_uri": "https://localhost:8080/",
          "height": 395
        },
        "id": "GSzRxirM_yUh",
        "outputId": "27a8f65a-3221-4f63-e681-4590014e4446"
      },
      "execution_count": 222,
      "outputs": [
        {
          "output_type": "execute_result",
          "data": {
            "text/plain": [
              "     County  Unemployment2021  PercentageChange     ID   C_Zip _merge\n",
              "0  Atlantic              10.8             -55.0   178.0  08401   both\n",
              "1  Atlantic              10.8             -55.0   920.0  08401   both\n",
              "2  Atlantic              10.8             -55.0  1074.0  08401   both\n",
              "3  Atlantic              10.8             -55.0  1336.0  08401   both\n",
              "4  Atlantic              10.8             -55.0   330.0  08330   both"
            ],
            "text/html": [
              "\n",
              "  <div id=\"df-ec5aa599-6301-4610-930e-eace53f1aae1\">\n",
              "    <div class=\"colab-df-container\">\n",
              "      <div>\n",
              "<style scoped>\n",
              "    .dataframe tbody tr th:only-of-type {\n",
              "        vertical-align: middle;\n",
              "    }\n",
              "\n",
              "    .dataframe tbody tr th {\n",
              "        vertical-align: top;\n",
              "    }\n",
              "\n",
              "    .dataframe thead th {\n",
              "        text-align: right;\n",
              "    }\n",
              "</style>\n",
              "<table border=\"1\" class=\"dataframe\">\n",
              "  <thead>\n",
              "    <tr style=\"text-align: right;\">\n",
              "      <th></th>\n",
              "      <th>County</th>\n",
              "      <th>Unemployment2021</th>\n",
              "      <th>PercentageChange</th>\n",
              "      <th>ID</th>\n",
              "      <th>C_Zip</th>\n",
              "      <th>_merge</th>\n",
              "    </tr>\n",
              "  </thead>\n",
              "  <tbody>\n",
              "    <tr>\n",
              "      <th>0</th>\n",
              "      <td>Atlantic</td>\n",
              "      <td>10.8</td>\n",
              "      <td>-55.0</td>\n",
              "      <td>178.0</td>\n",
              "      <td>08401</td>\n",
              "      <td>both</td>\n",
              "    </tr>\n",
              "    <tr>\n",
              "      <th>1</th>\n",
              "      <td>Atlantic</td>\n",
              "      <td>10.8</td>\n",
              "      <td>-55.0</td>\n",
              "      <td>920.0</td>\n",
              "      <td>08401</td>\n",
              "      <td>both</td>\n",
              "    </tr>\n",
              "    <tr>\n",
              "      <th>2</th>\n",
              "      <td>Atlantic</td>\n",
              "      <td>10.8</td>\n",
              "      <td>-55.0</td>\n",
              "      <td>1074.0</td>\n",
              "      <td>08401</td>\n",
              "      <td>both</td>\n",
              "    </tr>\n",
              "    <tr>\n",
              "      <th>3</th>\n",
              "      <td>Atlantic</td>\n",
              "      <td>10.8</td>\n",
              "      <td>-55.0</td>\n",
              "      <td>1336.0</td>\n",
              "      <td>08401</td>\n",
              "      <td>both</td>\n",
              "    </tr>\n",
              "    <tr>\n",
              "      <th>4</th>\n",
              "      <td>Atlantic</td>\n",
              "      <td>10.8</td>\n",
              "      <td>-55.0</td>\n",
              "      <td>330.0</td>\n",
              "      <td>08330</td>\n",
              "      <td>both</td>\n",
              "    </tr>\n",
              "  </tbody>\n",
              "</table>\n",
              "</div>\n",
              "      <button class=\"colab-df-convert\" onclick=\"convertToInteractive('df-ec5aa599-6301-4610-930e-eace53f1aae1')\"\n",
              "              title=\"Convert this dataframe to an interactive table.\"\n",
              "              style=\"display:none;\">\n",
              "        \n",
              "  <svg xmlns=\"http://www.w3.org/2000/svg\" height=\"24px\"viewBox=\"0 0 24 24\"\n",
              "       width=\"24px\">\n",
              "    <path d=\"M0 0h24v24H0V0z\" fill=\"none\"/>\n",
              "    <path d=\"M18.56 5.44l.94 2.06.94-2.06 2.06-.94-2.06-.94-.94-2.06-.94 2.06-2.06.94zm-11 1L8.5 8.5l.94-2.06 2.06-.94-2.06-.94L8.5 2.5l-.94 2.06-2.06.94zm10 10l.94 2.06.94-2.06 2.06-.94-2.06-.94-.94-2.06-.94 2.06-2.06.94z\"/><path d=\"M17.41 7.96l-1.37-1.37c-.4-.4-.92-.59-1.43-.59-.52 0-1.04.2-1.43.59L10.3 9.45l-7.72 7.72c-.78.78-.78 2.05 0 2.83L4 21.41c.39.39.9.59 1.41.59.51 0 1.02-.2 1.41-.59l7.78-7.78 2.81-2.81c.8-.78.8-2.07 0-2.86zM5.41 20L4 18.59l7.72-7.72 1.47 1.35L5.41 20z\"/>\n",
              "  </svg>\n",
              "      </button>\n",
              "      \n",
              "  <style>\n",
              "    .colab-df-container {\n",
              "      display:flex;\n",
              "      flex-wrap:wrap;\n",
              "      gap: 12px;\n",
              "    }\n",
              "\n",
              "    .colab-df-convert {\n",
              "      background-color: #E8F0FE;\n",
              "      border: none;\n",
              "      border-radius: 50%;\n",
              "      cursor: pointer;\n",
              "      display: none;\n",
              "      fill: #1967D2;\n",
              "      height: 32px;\n",
              "      padding: 0 0 0 0;\n",
              "      width: 32px;\n",
              "    }\n",
              "\n",
              "    .colab-df-convert:hover {\n",
              "      background-color: #E2EBFA;\n",
              "      box-shadow: 0px 1px 2px rgba(60, 64, 67, 0.3), 0px 1px 3px 1px rgba(60, 64, 67, 0.15);\n",
              "      fill: #174EA6;\n",
              "    }\n",
              "\n",
              "    [theme=dark] .colab-df-convert {\n",
              "      background-color: #3B4455;\n",
              "      fill: #D2E3FC;\n",
              "    }\n",
              "\n",
              "    [theme=dark] .colab-df-convert:hover {\n",
              "      background-color: #434B5C;\n",
              "      box-shadow: 0px 1px 3px 1px rgba(0, 0, 0, 0.15);\n",
              "      filter: drop-shadow(0px 1px 2px rgba(0, 0, 0, 0.3));\n",
              "      fill: #FFFFFF;\n",
              "    }\n",
              "  </style>\n",
              "\n",
              "      <script>\n",
              "        const buttonEl =\n",
              "          document.querySelector('#df-ec5aa599-6301-4610-930e-eace53f1aae1 button.colab-df-convert');\n",
              "        buttonEl.style.display =\n",
              "          google.colab.kernel.accessAllowed ? 'block' : 'none';\n",
              "\n",
              "        async function convertToInteractive(key) {\n",
              "          const element = document.querySelector('#df-ec5aa599-6301-4610-930e-eace53f1aae1');\n",
              "          const dataTable =\n",
              "            await google.colab.kernel.invokeFunction('convertToInteractive',\n",
              "                                                     [key], {});\n",
              "          if (!dataTable) return;\n",
              "\n",
              "          const docLinkHtml = 'Like what you see? Visit the ' +\n",
              "            '<a target=\"_blank\" href=https://colab.research.google.com/notebooks/data_table.ipynb>data table notebook</a>'\n",
              "            + ' to learn more about interactive tables.';\n",
              "          element.innerHTML = '';\n",
              "          dataTable['output_type'] = 'display_data';\n",
              "          await google.colab.output.renderOutput(dataTable, element);\n",
              "          const docLink = document.createElement('div');\n",
              "          docLink.innerHTML = docLinkHtml;\n",
              "          element.appendChild(docLink);\n",
              "        }\n",
              "      </script>\n",
              "    </div>\n",
              "  </div>\n",
              "  "
            ]
          },
          "metadata": {},
          "execution_count": 222
        },
        {
          "output_type": "execute_result",
          "data": {
            "text/plain": [
              "     County  Unemployment2021  PercentageChange     ID   C_Zip _merge\n",
              "974  Warren               6.9        -40.517241  1013.0  08865   both\n",
              "975  Warren               6.9        -40.517241  1013.0  08865   both\n",
              "976  Warren               6.9        -40.517241  1013.0  08865   both\n",
              "977  Warren               6.9        -40.517241  1039.0  07840   both\n",
              "978  Warren               6.9        -40.517241  1039.0  07840   both"
            ],
            "text/html": [
              "\n",
              "  <div id=\"df-86224e1c-1abd-443e-9379-4588c64df2a5\">\n",
              "    <div class=\"colab-df-container\">\n",
              "      <div>\n",
              "<style scoped>\n",
              "    .dataframe tbody tr th:only-of-type {\n",
              "        vertical-align: middle;\n",
              "    }\n",
              "\n",
              "    .dataframe tbody tr th {\n",
              "        vertical-align: top;\n",
              "    }\n",
              "\n",
              "    .dataframe thead th {\n",
              "        text-align: right;\n",
              "    }\n",
              "</style>\n",
              "<table border=\"1\" class=\"dataframe\">\n",
              "  <thead>\n",
              "    <tr style=\"text-align: right;\">\n",
              "      <th></th>\n",
              "      <th>County</th>\n",
              "      <th>Unemployment2021</th>\n",
              "      <th>PercentageChange</th>\n",
              "      <th>ID</th>\n",
              "      <th>C_Zip</th>\n",
              "      <th>_merge</th>\n",
              "    </tr>\n",
              "  </thead>\n",
              "  <tbody>\n",
              "    <tr>\n",
              "      <th>974</th>\n",
              "      <td>Warren</td>\n",
              "      <td>6.9</td>\n",
              "      <td>-40.517241</td>\n",
              "      <td>1013.0</td>\n",
              "      <td>08865</td>\n",
              "      <td>both</td>\n",
              "    </tr>\n",
              "    <tr>\n",
              "      <th>975</th>\n",
              "      <td>Warren</td>\n",
              "      <td>6.9</td>\n",
              "      <td>-40.517241</td>\n",
              "      <td>1013.0</td>\n",
              "      <td>08865</td>\n",
              "      <td>both</td>\n",
              "    </tr>\n",
              "    <tr>\n",
              "      <th>976</th>\n",
              "      <td>Warren</td>\n",
              "      <td>6.9</td>\n",
              "      <td>-40.517241</td>\n",
              "      <td>1013.0</td>\n",
              "      <td>08865</td>\n",
              "      <td>both</td>\n",
              "    </tr>\n",
              "    <tr>\n",
              "      <th>977</th>\n",
              "      <td>Warren</td>\n",
              "      <td>6.9</td>\n",
              "      <td>-40.517241</td>\n",
              "      <td>1039.0</td>\n",
              "      <td>07840</td>\n",
              "      <td>both</td>\n",
              "    </tr>\n",
              "    <tr>\n",
              "      <th>978</th>\n",
              "      <td>Warren</td>\n",
              "      <td>6.9</td>\n",
              "      <td>-40.517241</td>\n",
              "      <td>1039.0</td>\n",
              "      <td>07840</td>\n",
              "      <td>both</td>\n",
              "    </tr>\n",
              "  </tbody>\n",
              "</table>\n",
              "</div>\n",
              "      <button class=\"colab-df-convert\" onclick=\"convertToInteractive('df-86224e1c-1abd-443e-9379-4588c64df2a5')\"\n",
              "              title=\"Convert this dataframe to an interactive table.\"\n",
              "              style=\"display:none;\">\n",
              "        \n",
              "  <svg xmlns=\"http://www.w3.org/2000/svg\" height=\"24px\"viewBox=\"0 0 24 24\"\n",
              "       width=\"24px\">\n",
              "    <path d=\"M0 0h24v24H0V0z\" fill=\"none\"/>\n",
              "    <path d=\"M18.56 5.44l.94 2.06.94-2.06 2.06-.94-2.06-.94-.94-2.06-.94 2.06-2.06.94zm-11 1L8.5 8.5l.94-2.06 2.06-.94-2.06-.94L8.5 2.5l-.94 2.06-2.06.94zm10 10l.94 2.06.94-2.06 2.06-.94-2.06-.94-.94-2.06-.94 2.06-2.06.94z\"/><path d=\"M17.41 7.96l-1.37-1.37c-.4-.4-.92-.59-1.43-.59-.52 0-1.04.2-1.43.59L10.3 9.45l-7.72 7.72c-.78.78-.78 2.05 0 2.83L4 21.41c.39.39.9.59 1.41.59.51 0 1.02-.2 1.41-.59l7.78-7.78 2.81-2.81c.8-.78.8-2.07 0-2.86zM5.41 20L4 18.59l7.72-7.72 1.47 1.35L5.41 20z\"/>\n",
              "  </svg>\n",
              "      </button>\n",
              "      \n",
              "  <style>\n",
              "    .colab-df-container {\n",
              "      display:flex;\n",
              "      flex-wrap:wrap;\n",
              "      gap: 12px;\n",
              "    }\n",
              "\n",
              "    .colab-df-convert {\n",
              "      background-color: #E8F0FE;\n",
              "      border: none;\n",
              "      border-radius: 50%;\n",
              "      cursor: pointer;\n",
              "      display: none;\n",
              "      fill: #1967D2;\n",
              "      height: 32px;\n",
              "      padding: 0 0 0 0;\n",
              "      width: 32px;\n",
              "    }\n",
              "\n",
              "    .colab-df-convert:hover {\n",
              "      background-color: #E2EBFA;\n",
              "      box-shadow: 0px 1px 2px rgba(60, 64, 67, 0.3), 0px 1px 3px 1px rgba(60, 64, 67, 0.15);\n",
              "      fill: #174EA6;\n",
              "    }\n",
              "\n",
              "    [theme=dark] .colab-df-convert {\n",
              "      background-color: #3B4455;\n",
              "      fill: #D2E3FC;\n",
              "    }\n",
              "\n",
              "    [theme=dark] .colab-df-convert:hover {\n",
              "      background-color: #434B5C;\n",
              "      box-shadow: 0px 1px 3px 1px rgba(0, 0, 0, 0.15);\n",
              "      filter: drop-shadow(0px 1px 2px rgba(0, 0, 0, 0.3));\n",
              "      fill: #FFFFFF;\n",
              "    }\n",
              "  </style>\n",
              "\n",
              "      <script>\n",
              "        const buttonEl =\n",
              "          document.querySelector('#df-86224e1c-1abd-443e-9379-4588c64df2a5 button.colab-df-convert');\n",
              "        buttonEl.style.display =\n",
              "          google.colab.kernel.accessAllowed ? 'block' : 'none';\n",
              "\n",
              "        async function convertToInteractive(key) {\n",
              "          const element = document.querySelector('#df-86224e1c-1abd-443e-9379-4588c64df2a5');\n",
              "          const dataTable =\n",
              "            await google.colab.kernel.invokeFunction('convertToInteractive',\n",
              "                                                     [key], {});\n",
              "          if (!dataTable) return;\n",
              "\n",
              "          const docLinkHtml = 'Like what you see? Visit the ' +\n",
              "            '<a target=\"_blank\" href=https://colab.research.google.com/notebooks/data_table.ipynb>data table notebook</a>'\n",
              "            + ' to learn more about interactive tables.';\n",
              "          element.innerHTML = '';\n",
              "          dataTable['output_type'] = 'display_data';\n",
              "          await google.colab.output.renderOutput(dataTable, element);\n",
              "          const docLink = document.createElement('div');\n",
              "          docLink.innerHTML = docLinkHtml;\n",
              "          element.appendChild(docLink);\n",
              "        }\n",
              "      </script>\n",
              "    </div>\n",
              "  </div>\n",
              "  "
            ]
          },
          "metadata": {},
          "execution_count": 222
        }
      ]
    },
    {
      "cell_type": "code",
      "source": [
        "finalmerge._merge.value_counts()"
      ],
      "metadata": {
        "colab": {
          "base_uri": "https://localhost:8080/"
        },
        "id": "90Vr-1ZV5nfD",
        "outputId": "0c614806-e917-4118-e090-ad0e9cbe295f"
      },
      "execution_count": 223,
      "outputs": [
        {
          "output_type": "execute_result",
          "data": {
            "text/plain": [
              "both          979\n",
              "left_only       0\n",
              "right_only      0\n",
              "Name: _merge, dtype: int64"
            ]
          },
          "metadata": {},
          "execution_count": 223
        }
      ]
    },
    {
      "cell_type": "code",
      "source": [
        "p_table = pd.pivot_table(finalmerge, index=['County'], aggfunc= {'County': 'count', 'Unemployment2021': 'mean', 'PercentageChange': 'mean'})\n",
        "print(p_table)"
      ],
      "metadata": {
        "colab": {
          "base_uri": "https://localhost:8080/"
        },
        "id": "HKuAgwGNrtJm",
        "outputId": "b704385c-37c7-410f-cfa5-00a75fc6597d"
      },
      "execution_count": 224,
      "outputs": [
        {
          "output_type": "stream",
          "name": "stdout",
          "text": [
            "            County  PercentageChange  Unemployment2021\n",
            "County                                                \n",
            "Atlantic        39        -55.000000              10.8\n",
            "Bergen          16        -47.517730               7.4\n",
            "Burlington     200        -44.067797               6.6\n",
            "Camden         326        -40.425532               8.4\n",
            "Cape May        31        -55.333333               6.7\n",
            "Cumberland       8        -36.301370               9.3\n",
            "Essex           26        -42.771084               9.5\n",
            "Gloucester      87        -42.307692               7.5\n",
            "Hudson          15        -47.133758               8.3\n",
            "Hunterdon        6        -47.115385               5.5\n",
            "Mercer          26        -43.119266               6.2\n",
            "Middlesex       30        -46.093750               6.9\n",
            "Monmouth        47        -47.619048               6.6\n",
            "Morris          13        -46.428571               6.0\n",
            "Ocean           28        -46.969697               7.0\n",
            "Passaic         10        -43.820225              10.0\n",
            "Salem            4        -34.090909               8.7\n",
            "Somerset        43        -46.017699               6.1\n",
            "Sussex           1        -45.384615               7.1\n",
            "Union           15        -43.262411               8.0\n",
            "Warren           8        -40.517241               6.9\n"
          ]
        }
      ]
    },
    {
      "cell_type": "code",
      "source": [
        "fig, ax = plt.subplots(figsize=(10, 6))\n",
        "p_table.plot.scatter(x='Unemployment2021', y='County',c='PercentageChange', s=100,alpha=0.7,edgecolors=\"red\",ax=ax) \n",
        "plt.title(\"Relationship Between Graduate Applications, Unemployment in 2021 and the Year over Year Change in Unemployment\");"
      ],
      "metadata": {
        "colab": {
          "base_uri": "https://localhost:8080/",
          "height": 404
        },
        "id": "-X4kV2YcuxIx",
        "outputId": "7162b6c7-5383-43b9-e223-52e8d4fdf62e"
      },
      "execution_count": 225,
      "outputs": [
        {
          "output_type": "display_data",
          "data": {
            "text/plain": [
              "<Figure size 720x432 with 2 Axes>"
            ],
            "image/png": "[encoded data removed]"
          },
          "metadata": {
            "needs_background": "light"
          }
        }
      ]
    },
    {
      "cell_type": "code",
      "source": [
        "corrM = p_table.corr()\n",
        "corrM"
      ],
      "metadata": {
        "colab": {
          "base_uri": "https://localhost:8080/",
          "height": 143
        },
        "id": "n8xxlx627QDM",
        "outputId": "d9527194-0eb2-4b0a-d371-e51255bc06af"
      },
      "execution_count": 227,
      "outputs": [
        {
          "output_type": "execute_result",
          "data": {
            "text/plain": [
              "                    County  PercentageChange  Unemployment2021\n",
              "County            1.000000          0.125847          0.015086\n",
              "PercentageChange  0.125847          1.000000          0.145336\n",
              "Unemployment2021  0.015086          0.145336          1.000000"
            ],
            "text/html": [
              "\n",
              "  <div id=\"df-8467c844-162d-48d8-83ac-d1c3564c4bc9\">\n",
              "    <div class=\"colab-df-container\">\n",
              "      <div>\n",
              "<style scoped>\n",
              "    .dataframe tbody tr th:only-of-type {\n",
              "        vertical-align: middle;\n",
              "    }\n",
              "\n",
              "    .dataframe tbody tr th {\n",
              "        vertical-align: top;\n",
              "    }\n",
              "\n",
              "    .dataframe thead th {\n",
              "        text-align: right;\n",
              "    }\n",
              "</style>\n",
              "<table border=\"1\" class=\"dataframe\">\n",
              "  <thead>\n",
              "    <tr style=\"text-align: right;\">\n",
              "      <th></th>\n",
              "      <th>County</th>\n",
              "      <th>PercentageChange</th>\n",
              "      <th>Unemployment2021</th>\n",
              "    </tr>\n",
              "  </thead>\n",
              "  <tbody>\n",
              "    <tr>\n",
              "      <th>County</th>\n",
              "      <td>1.000000</td>\n",
              "      <td>0.125847</td>\n",
              "      <td>0.015086</td>\n",
              "    </tr>\n",
              "    <tr>\n",
              "      <th>PercentageChange</th>\n",
              "      <td>0.125847</td>\n",
              "      <td>1.000000</td>\n",
              "      <td>0.145336</td>\n",
              "    </tr>\n",
              "    <tr>\n",
              "      <th>Unemployment2021</th>\n",
              "      <td>0.015086</td>\n",
              "      <td>0.145336</td>\n",
              "      <td>1.000000</td>\n",
              "    </tr>\n",
              "  </tbody>\n",
              "</table>\n",
              "</div>\n",
              "      <button class=\"colab-df-convert\" onclick=\"convertToInteractive('df-8467c844-162d-48d8-83ac-d1c3564c4bc9')\"\n",
              "              title=\"Convert this dataframe to an interactive table.\"\n",
              "              style=\"display:none;\">\n",
              "        \n",
              "  <svg xmlns=\"http://www.w3.org/2000/svg\" height=\"24px\"viewBox=\"0 0 24 24\"\n",
              "       width=\"24px\">\n",
              "    <path d=\"M0 0h24v24H0V0z\" fill=\"none\"/>\n",
              "    <path d=\"M18.56 5.44l.94 2.06.94-2.06 2.06-.94-2.06-.94-.94-2.06-.94 2.06-2.06.94zm-11 1L8.5 8.5l.94-2.06 2.06-.94-2.06-.94L8.5 2.5l-.94 2.06-2.06.94zm10 10l.94 2.06.94-2.06 2.06-.94-2.06-.94-.94-2.06-.94 2.06-2.06.94z\"/><path d=\"M17.41 7.96l-1.37-1.37c-.4-.4-.92-.59-1.43-.59-.52 0-1.04.2-1.43.59L10.3 9.45l-7.72 7.72c-.78.78-.78 2.05 0 2.83L4 21.41c.39.39.9.59 1.41.59.51 0 1.02-.2 1.41-.59l7.78-7.78 2.81-2.81c.8-.78.8-2.07 0-2.86zM5.41 20L4 18.59l7.72-7.72 1.47 1.35L5.41 20z\"/>\n",
              "  </svg>\n",
              "      </button>\n",
              "      \n",
              "  <style>\n",
              "    .colab-df-container {\n",
              "      display:flex;\n",
              "      flex-wrap:wrap;\n",
              "      gap: 12px;\n",
              "    }\n",
              "\n",
              "    .colab-df-convert {\n",
              "      background-color: #E8F0FE;\n",
              "      border: none;\n",
              "      border-radius: 50%;\n",
              "      cursor: pointer;\n",
              "      display: none;\n",
              "      fill: #1967D2;\n",
              "      height: 32px;\n",
              "      padding: 0 0 0 0;\n",
              "      width: 32px;\n",
              "    }\n",
              "\n",
              "    .colab-df-convert:hover {\n",
              "      background-color: #E2EBFA;\n",
              "      box-shadow: 0px 1px 2px rgba(60, 64, 67, 0.3), 0px 1px 3px 1px rgba(60, 64, 67, 0.15);\n",
              "      fill: #174EA6;\n",
              "    }\n",
              "\n",
              "    [theme=dark] .colab-df-convert {\n",
              "      background-color: #3B4455;\n",
              "      fill: #D2E3FC;\n",
              "    }\n",
              "\n",
              "    [theme=dark] .colab-df-convert:hover {\n",
              "      background-color: #434B5C;\n",
              "      box-shadow: 0px 1px 3px 1px rgba(0, 0, 0, 0.15);\n",
              "      filter: drop-shadow(0px 1px 2px rgba(0, 0, 0, 0.3));\n",
              "      fill: #FFFFFF;\n",
              "    }\n",
              "  </style>\n",
              "\n",
              "      <script>\n",
              "        const buttonEl =\n",
              "          document.querySelector('#df-8467c844-162d-48d8-83ac-d1c3564c4bc9 button.colab-df-convert');\n",
              "        buttonEl.style.display =\n",
              "          google.colab.kernel.accessAllowed ? 'block' : 'none';\n",
              "\n",
              "        async function convertToInteractive(key) {\n",
              "          const element = document.querySelector('#df-8467c844-162d-48d8-83ac-d1c3564c4bc9');\n",
              "          const dataTable =\n",
              "            await google.colab.kernel.invokeFunction('convertToInteractive',\n",
              "                                                     [key], {});\n",
              "          if (!dataTable) return;\n",
              "\n",
              "          const docLinkHtml = 'Like what you see? Visit the ' +\n",
              "            '<a target=\"_blank\" href=https://colab.research.google.com/notebooks/data_table.ipynb>data table notebook</a>'\n",
              "            + ' to learn more about interactive tables.';\n",
              "          element.innerHTML = '';\n",
              "          dataTable['output_type'] = 'display_data';\n",
              "          await google.colab.output.renderOutput(dataTable, element);\n",
              "          const docLink = document.createElement('div');\n",
              "          docLink.innerHTML = docLinkHtml;\n",
              "          element.appendChild(docLink);\n",
              "        }\n",
              "      </script>\n",
              "    </div>\n",
              "  </div>\n",
              "  "
            ]
          },
          "metadata": {},
          "execution_count": 227
        }
      ]
    },
    {
      "cell_type": "code",
      "source": [
        "p_table.describe()"
      ],
      "metadata": {
        "id": "hu0W5uzg9RZV",
        "outputId": "af7c12c7-a68d-4974-c1e0-c1c86d41080a",
        "colab": {
          "base_uri": "https://localhost:8080/",
          "height": 300
        }
      },
      "execution_count": 228,
      "outputs": [
        {
          "output_type": "execute_result",
          "data": {
            "text/plain": [
              "           County  PercentageChange  Unemployment2021\n",
              "count   21.000000         21.000000         21.000000\n",
              "mean    46.619048        -44.823672          7.595238\n",
              "std     77.115807          4.966793          1.425299\n",
              "min      1.000000        -55.333333          5.500000\n",
              "25%     10.000000        -47.115385          6.600000\n",
              "50%     26.000000        -45.384615          7.100000\n",
              "75%     39.000000        -42.771084          8.400000\n",
              "max    326.000000        -34.090909         10.800000"
            ],
            "text/html": [
              "\n",
              "  <div id=\"df-10fb559d-0b95-496a-b002-f7a910bfa578\">\n",
              "    <div class=\"colab-df-container\">\n",
              "      <div>\n",
              "<style scoped>\n",
              "    .dataframe tbody tr th:only-of-type {\n",
              "        vertical-align: middle;\n",
              "    }\n",
              "\n",
              "    .dataframe tbody tr th {\n",
              "        vertical-align: top;\n",
              "    }\n",
              "\n",
              "    .dataframe thead th {\n",
              "        text-align: right;\n",
              "    }\n",
              "</style>\n",
              "<table border=\"1\" class=\"dataframe\">\n",
              "  <thead>\n",
              "    <tr style=\"text-align: right;\">\n",
              "      <th></th>\n",
              "      <th>County</th>\n",
              "      <th>PercentageChange</th>\n",
              "      <th>Unemployment2021</th>\n",
              "    </tr>\n",
              "  </thead>\n",
              "  <tbody>\n",
              "    <tr>\n",
              "      <th>count</th>\n",
              "      <td>21.000000</td>\n",
              "      <td>21.000000</td>\n",
              "      <td>21.000000</td>\n",
              "    </tr>\n",
              "    <tr>\n",
              "      <th>mean</th>\n",
              "      <td>46.619048</td>\n",
              "      <td>-44.823672</td>\n",
              "      <td>7.595238</td>\n",
              "    </tr>\n",
              "    <tr>\n",
              "      <th>std</th>\n",
              "      <td>77.115807</td>\n",
              "      <td>4.966793</td>\n",
              "      <td>1.425299</td>\n",
              "    </tr>\n",
              "    <tr>\n",
              "      <th>min</th>\n",
              "      <td>1.000000</td>\n",
              "      <td>-55.333333</td>\n",
              "      <td>5.500000</td>\n",
              "    </tr>\n",
              "    <tr>\n",
              "      <th>25%</th>\n",
              "      <td>10.000000</td>\n",
              "      <td>-47.115385</td>\n",
              "      <td>6.600000</td>\n",
              "    </tr>\n",
              "    <tr>\n",
              "      <th>50%</th>\n",
              "      <td>26.000000</td>\n",
              "      <td>-45.384615</td>\n",
              "      <td>7.100000</td>\n",
              "    </tr>\n",
              "    <tr>\n",
              "      <th>75%</th>\n",
              "      <td>39.000000</td>\n",
              "      <td>-42.771084</td>\n",
              "      <td>8.400000</td>\n",
              "    </tr>\n",
              "    <tr>\n",
              "      <th>max</th>\n",
              "      <td>326.000000</td>\n",
              "      <td>-34.090909</td>\n",
              "      <td>10.800000</td>\n",
              "    </tr>\n",
              "  </tbody>\n",
              "</table>\n",
              "</div>\n",
              "      <button class=\"colab-df-convert\" onclick=\"convertToInteractive('df-10fb559d-0b95-496a-b002-f7a910bfa578')\"\n",
              "              title=\"Convert this dataframe to an interactive table.\"\n",
              "              style=\"display:none;\">\n",
              "        \n",
              "  <svg xmlns=\"http://www.w3.org/2000/svg\" height=\"24px\"viewBox=\"0 0 24 24\"\n",
              "       width=\"24px\">\n",
              "    <path d=\"M0 0h24v24H0V0z\" fill=\"none\"/>\n",
              "    <path d=\"M18.56 5.44l.94 2.06.94-2.06 2.06-.94-2.06-.94-.94-2.06-.94 2.06-2.06.94zm-11 1L8.5 8.5l.94-2.06 2.06-.94-2.06-.94L8.5 2.5l-.94 2.06-2.06.94zm10 10l.94 2.06.94-2.06 2.06-.94-2.06-.94-.94-2.06-.94 2.06-2.06.94z\"/><path d=\"M17.41 7.96l-1.37-1.37c-.4-.4-.92-.59-1.43-.59-.52 0-1.04.2-1.43.59L10.3 9.45l-7.72 7.72c-.78.78-.78 2.05 0 2.83L4 21.41c.39.39.9.59 1.41.59.51 0 1.02-.2 1.41-.59l7.78-7.78 2.81-2.81c.8-.78.8-2.07 0-2.86zM5.41 20L4 18.59l7.72-7.72 1.47 1.35L5.41 20z\"/>\n",
              "  </svg>\n",
              "      </button>\n",
              "      \n",
              "  <style>\n",
              "    .colab-df-container {\n",
              "      display:flex;\n",
              "      flex-wrap:wrap;\n",
              "      gap: 12px;\n",
              "    }\n",
              "\n",
              "    .colab-df-convert {\n",
              "      background-color: #E8F0FE;\n",
              "      border: none;\n",
              "      border-radius: 50%;\n",
              "      cursor: pointer;\n",
              "      display: none;\n",
              "      fill: #1967D2;\n",
              "      height: 32px;\n",
              "      padding: 0 0 0 0;\n",
              "      width: 32px;\n",
              "    }\n",
              "\n",
              "    .colab-df-convert:hover {\n",
              "      background-color: #E2EBFA;\n",
              "      box-shadow: 0px 1px 2px rgba(60, 64, 67, 0.3), 0px 1px 3px 1px rgba(60, 64, 67, 0.15);\n",
              "      fill: #174EA6;\n",
              "    }\n",
              "\n",
              "    [theme=dark] .colab-df-convert {\n",
              "      background-color: #3B4455;\n",
              "      fill: #D2E3FC;\n",
              "    }\n",
              "\n",
              "    [theme=dark] .colab-df-convert:hover {\n",
              "      background-color: #434B5C;\n",
              "      box-shadow: 0px 1px 3px 1px rgba(0, 0, 0, 0.15);\n",
              "      filter: drop-shadow(0px 1px 2px rgba(0, 0, 0, 0.3));\n",
              "      fill: #FFFFFF;\n",
              "    }\n",
              "  </style>\n",
              "\n",
              "      <script>\n",
              "        const buttonEl =\n",
              "          document.querySelector('#df-10fb559d-0b95-496a-b002-f7a910bfa578 button.colab-df-convert');\n",
              "        buttonEl.style.display =\n",
              "          google.colab.kernel.accessAllowed ? 'block' : 'none';\n",
              "\n",
              "        async function convertToInteractive(key) {\n",
              "          const element = document.querySelector('#df-10fb559d-0b95-496a-b002-f7a910bfa578');\n",
              "          const dataTable =\n",
              "            await google.colab.kernel.invokeFunction('convertToInteractive',\n",
              "                                                     [key], {});\n",
              "          if (!dataTable) return;\n",
              "\n",
              "          const docLinkHtml = 'Like what you see? Visit the ' +\n",
              "            '<a target=\"_blank\" href=https://colab.research.google.com/notebooks/data_table.ipynb>data table notebook</a>'\n",
              "            + ' to learn more about interactive tables.';\n",
              "          element.innerHTML = '';\n",
              "          dataTable['output_type'] = 'display_data';\n",
              "          await google.colab.output.renderOutput(dataTable, element);\n",
              "          const docLink = document.createElement('div');\n",
              "          docLink.innerHTML = docLinkHtml;\n",
              "          element.appendChild(docLink);\n",
              "        }\n",
              "      </script>\n",
              "    </div>\n",
              "  </div>\n",
              "  "
            ]
          },
          "metadata": {},
          "execution_count": 228
        }
      ]
    },
    {
      "cell_type": "markdown",
      "source": [
        "From this file, I would be interested in running analysis to determine if there was a relationship between unemployment rate, percentage change and the number of applicants. \n",
        "\n",
        "My hypothesis is that the data as it is now will be skewed by the enormous number of applicants from Camden and Burlington counties, thus the weak correlation between the number of applications and the Unemployment rate and the change in unemployment rate. As I mentoned earlier, these data points alone would be insufficient. \n",
        "\n",
        "**A surprising discovery: I didn't think there were so many applicants from the surrounding cities, even when considering the Rutgers undergraduate pool.**"
      ],
      "metadata": {
        "id": "wIiJ1q2evguT"
      }
    }
  ]
}