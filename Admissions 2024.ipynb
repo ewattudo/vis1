{
  "nbformat": 4,
  "nbformat_minor": 0,
  "metadata": {
    "colab": {
      "provenance": [],
      "toc_visible": true,
      "include_colab_link": true
    },
    "kernelspec": {
      "name": "python3",
      "display_name": "Python 3"
    },
    "language_info": {
      "name": "python"
    }
  },
  "cells": [
    {
      "cell_type": "markdown",
      "metadata": {
        "id": "view-in-github",
        "colab_type": "text"
      },
      "source": [
        "<a href=\"https://colab.research.google.com/github/ewattudo/vis1/blob/main/Admissions%202024.ipynb\" target=\"_parent\"><img src=\"https://colab.research.google.com/assets/colab-badge.svg\" alt=\"Open In Colab\"/></a>"
      ]
    },
    {
      "cell_type": "markdown",
      "source": [
        "#Admission Data 2024\n",
        "**Project Overview:**\n",
        "This notebook is a visualization of our current status admitting students at Rutgers Camden Graduate School. Specifically, where we're currently at, how we should approach our decisions, and think about how we could improve.\n",
        "\n",
        "**Future-Oriented Analysis**\n",
        "Remember: it is widely understood that retaining existing customers is less costly than aquiring new ones. The aim is to be intelligent when targetting our outreach.\n",
        "- Targetting **current** students\n",
        "- Identifying Majors with irregular/proper numbers\n",
        "- For programs with high rejection rates, evaluate whether they are too selective. If so, consider revising admission criteria.\n",
        "- Discovering New Locations with Admitted Students\n",
        "-  Identify emerging regions where new marketing efforts could yield success.\n",
        "- Finding Ratio of Majors who have a \"Complete Application\", \"Admitted\", \"Deferred\", and targetting individuals in those areas\n",
        "- Not targetting Majors who accept only a select few indiividuals, don't complete their applications, have **extremely high** # of applications or **extremely** low # of applications\n",
        "\n",
        "**Past Data Analysis:**\n",
        "The data includes three key variables: country of origin, concentration of applicants, and the percentage of those who committed to attending as a proportion of total applications. Numbers and locations are relatively the same as last year's despite a couple of switch ups like some students in Japan now rather than Europe.\n",
        "\n",
        "-Based on the data, India has a higher number of applications than the US. This suggests that a well-planned campaign in India could yield strong results.\n",
        "\n",
        "**Findings:**\n",
        "- Computer Science and Data Science (MS) seem to be the two most popular programs in terms of the number of applications.\n",
        "- These two programs are taking up larger segments of the chart compared to others like Biology (MS) and other smaller programs.\n",
        "Computer Science and Data Science (MS) show a full range of application statuses from Started, Submitted, Complete, Denied, and Admit-Coming.\n",
        "- For each program, the majority of applications seem to be in the Submitted and Started stages, indicating a high number of applicants still in progress.\n",
        "- These programs show similar application statuses. Some stages like Denied and Admit-Coming are less prominent, likely due to fewer total applicants.\n",
        "- Large number of applicants from India - to a point suprassing US. Moderate #s from America, Solid #s coming from Africa\n",
        "- Similar #s coming in Fall and Spring Map Data.\n",
        "**Limitations**\n",
        "1. The locations data has some inaccurate data due to individuals having incomplete applications, inaccurate data inputting, etc.\n",
        "2.  Undergraduate Data: The data on undergraduate students is insufficient for drawing broad, nomothetic conclusions.\n",
        "3. Amount of data: With more data to work with, it would allow me to get more in depth and exploratory. For instance, demographics, scholarship, $ Marketted to specific countries, etc.\n",
        "**Future Directions:**\n",
        "\n",
        "- Prediction Data Using Data over the Years\n",
        "- Focusing Marketing in US & Africa, Moderate #s in India\n",
        "Improving the Application Completion Process:\n",
        "-Personalized email campaigns and social media ads targeting students at the Submitted stage for more complete applications.\n",
        "\n",
        "- Focus on simplifying and streamlining the application process. Many applications started but not completed. Missed opprotunity for conversions.\n",
        "\n"
      ],
      "metadata": {
        "id": "JmcQdOo6DTVD"
      }
    },
    {
      "cell_type": "markdown",
      "source": [
        "##Upload Libraries\n"
      ],
      "metadata": {
        "id": "zcGSH-V6HEiD"
      }
    },
    {
      "cell_type": "code",
      "execution_count": 2,
      "metadata": {
        "colab": {
          "base_uri": "https://localhost:8080/"
        },
        "id": "InvfkxDXtyBP",
        "outputId": "8e61d4c4-8509-407b-b40b-4b94842b0ff9"
      },
      "outputs": [
        {
          "output_type": "stream",
          "name": "stdout",
          "text": [
            "Collecting osmnx\n",
            "  Downloading osmnx-1.9.4-py3-none-any.whl.metadata (4.9 kB)\n",
            "Collecting geopandas<0.15,>=0.12 (from osmnx)\n",
            "  Downloading geopandas-0.14.4-py3-none-any.whl.metadata (1.5 kB)\n",
            "Collecting networkx<3.4,>=2.5 (from osmnx)\n",
            "  Downloading networkx-3.3-py3-none-any.whl.metadata (5.1 kB)\n",
            "Requirement already satisfied: numpy<1.27,>=1.20 in /usr/local/lib/python3.10/dist-packages (from osmnx) (1.26.4)\n",
            "Requirement already satisfied: pandas<2.3,>=1.1 in /usr/local/lib/python3.10/dist-packages (from osmnx) (2.2.2)\n",
            "Requirement already satisfied: requests<2.33,>=2.27 in /usr/local/lib/python3.10/dist-packages (from osmnx) (2.32.3)\n",
            "Requirement already satisfied: shapely<2.1,>=2.0 in /usr/local/lib/python3.10/dist-packages (from osmnx) (2.0.6)\n",
            "Collecting fiona>=1.8.21 (from geopandas<0.15,>=0.12->osmnx)\n",
            "  Downloading fiona-1.10.1-cp310-cp310-manylinux_2_17_x86_64.manylinux2014_x86_64.whl.metadata (56 kB)\n",
            "\u001b[2K     \u001b[90m━━━━━━━━━━━━━━━━━━━━━━━━━━━━━━━━━━━━━━━━\u001b[0m \u001b[32m56.6/56.6 kB\u001b[0m \u001b[31m1.9 MB/s\u001b[0m eta \u001b[36m0:00:00\u001b[0m\n",
            "\u001b[?25hRequirement already satisfied: packaging in /usr/local/lib/python3.10/dist-packages (from geopandas<0.15,>=0.12->osmnx) (24.1)\n",
            "Requirement already satisfied: pyproj>=3.3.0 in /usr/local/lib/python3.10/dist-packages (from geopandas<0.15,>=0.12->osmnx) (3.7.0)\n",
            "Requirement already satisfied: python-dateutil>=2.8.2 in /usr/local/lib/python3.10/dist-packages (from pandas<2.3,>=1.1->osmnx) (2.8.2)\n",
            "Requirement already satisfied: pytz>=2020.1 in /usr/local/lib/python3.10/dist-packages (from pandas<2.3,>=1.1->osmnx) (2024.2)\n",
            "Requirement already satisfied: tzdata>=2022.7 in /usr/local/lib/python3.10/dist-packages (from pandas<2.3,>=1.1->osmnx) (2024.2)\n",
            "Requirement already satisfied: charset-normalizer<4,>=2 in /usr/local/lib/python3.10/dist-packages (from requests<2.33,>=2.27->osmnx) (3.4.0)\n",
            "Requirement already satisfied: idna<4,>=2.5 in /usr/local/lib/python3.10/dist-packages (from requests<2.33,>=2.27->osmnx) (3.10)\n",
            "Requirement already satisfied: urllib3<3,>=1.21.1 in /usr/local/lib/python3.10/dist-packages (from requests<2.33,>=2.27->osmnx) (2.2.3)\n",
            "Requirement already satisfied: certifi>=2017.4.17 in /usr/local/lib/python3.10/dist-packages (from requests<2.33,>=2.27->osmnx) (2024.8.30)\n",
            "Requirement already satisfied: attrs>=19.2.0 in /usr/local/lib/python3.10/dist-packages (from fiona>=1.8.21->geopandas<0.15,>=0.12->osmnx) (24.2.0)\n",
            "Requirement already satisfied: click~=8.0 in /usr/local/lib/python3.10/dist-packages (from fiona>=1.8.21->geopandas<0.15,>=0.12->osmnx) (8.1.7)\n",
            "Collecting click-plugins>=1.0 (from fiona>=1.8.21->geopandas<0.15,>=0.12->osmnx)\n",
            "  Downloading click_plugins-1.1.1-py2.py3-none-any.whl.metadata (6.4 kB)\n",
            "Collecting cligj>=0.5 (from fiona>=1.8.21->geopandas<0.15,>=0.12->osmnx)\n",
            "  Downloading cligj-0.7.2-py3-none-any.whl.metadata (5.0 kB)\n",
            "Requirement already satisfied: six>=1.5 in /usr/local/lib/python3.10/dist-packages (from python-dateutil>=2.8.2->pandas<2.3,>=1.1->osmnx) (1.16.0)\n",
            "Downloading osmnx-1.9.4-py3-none-any.whl (107 kB)\n",
            "\u001b[2K   \u001b[90m━━━━━━━━━━━━━━━━━━━━━━━━━━━━━━━━━━━━━━━━\u001b[0m \u001b[32m107.5/107.5 kB\u001b[0m \u001b[31m3.7 MB/s\u001b[0m eta \u001b[36m0:00:00\u001b[0m\n",
            "\u001b[?25hDownloading geopandas-0.14.4-py3-none-any.whl (1.1 MB)\n",
            "\u001b[2K   \u001b[90m━━━━━━━━━━━━━━━━━━━━━━━━━━━━━━━━━━━━━━━━\u001b[0m \u001b[32m1.1/1.1 MB\u001b[0m \u001b[31m15.9 MB/s\u001b[0m eta \u001b[36m0:00:00\u001b[0m\n",
            "\u001b[?25hDownloading networkx-3.3-py3-none-any.whl (1.7 MB)\n",
            "\u001b[2K   \u001b[90m━━━━━━━━━━━━━━━━━━━━━━━━━━━━━━━━━━━━━━━━\u001b[0m \u001b[32m1.7/1.7 MB\u001b[0m \u001b[31m25.3 MB/s\u001b[0m eta \u001b[36m0:00:00\u001b[0m\n",
            "\u001b[?25hDownloading fiona-1.10.1-cp310-cp310-manylinux_2_17_x86_64.manylinux2014_x86_64.whl (17.3 MB)\n",
            "\u001b[2K   \u001b[90m━━━━━━━━━━━━━━━━━━━━━━━━━━━━━━━━━━━━━━━━\u001b[0m \u001b[32m17.3/17.3 MB\u001b[0m \u001b[31m28.9 MB/s\u001b[0m eta \u001b[36m0:00:00\u001b[0m\n",
            "\u001b[?25hDownloading click_plugins-1.1.1-py2.py3-none-any.whl (7.5 kB)\n",
            "Downloading cligj-0.7.2-py3-none-any.whl (7.1 kB)\n",
            "Installing collected packages: networkx, cligj, click-plugins, fiona, geopandas, osmnx\n",
            "  Attempting uninstall: networkx\n",
            "    Found existing installation: networkx 3.4.2\n",
            "    Uninstalling networkx-3.4.2:\n",
            "      Successfully uninstalled networkx-3.4.2\n",
            "  Attempting uninstall: geopandas\n",
            "    Found existing installation: geopandas 1.0.1\n",
            "    Uninstalling geopandas-1.0.1:\n",
            "      Successfully uninstalled geopandas-1.0.1\n",
            "Successfully installed click-plugins-1.1.1 cligj-0.7.2 fiona-1.10.1 geopandas-0.14.4 networkx-3.3 osmnx-1.9.4\n",
            "Collecting squarify\n",
            "  Downloading squarify-0.4.4-py3-none-any.whl.metadata (600 bytes)\n",
            "Downloading squarify-0.4.4-py3-none-any.whl (4.1 kB)\n",
            "Installing collected packages: squarify\n",
            "Successfully installed squarify-0.4.4\n",
            "Collecting adjustText\n",
            "  Downloading adjustText-1.2.0-py3-none-any.whl.metadata (3.0 kB)\n",
            "Requirement already satisfied: numpy in /usr/local/lib/python3.10/dist-packages (from adjustText) (1.26.4)\n",
            "Requirement already satisfied: matplotlib in /usr/local/lib/python3.10/dist-packages (from adjustText) (3.7.1)\n",
            "Requirement already satisfied: scipy in /usr/local/lib/python3.10/dist-packages (from adjustText) (1.13.1)\n",
            "Requirement already satisfied: contourpy>=1.0.1 in /usr/local/lib/python3.10/dist-packages (from matplotlib->adjustText) (1.3.0)\n",
            "Requirement already satisfied: cycler>=0.10 in /usr/local/lib/python3.10/dist-packages (from matplotlib->adjustText) (0.12.1)\n",
            "Requirement already satisfied: fonttools>=4.22.0 in /usr/local/lib/python3.10/dist-packages (from matplotlib->adjustText) (4.54.1)\n",
            "Requirement already satisfied: kiwisolver>=1.0.1 in /usr/local/lib/python3.10/dist-packages (from matplotlib->adjustText) (1.4.7)\n",
            "Requirement already satisfied: packaging>=20.0 in /usr/local/lib/python3.10/dist-packages (from matplotlib->adjustText) (24.1)\n",
            "Requirement already satisfied: pillow>=6.2.0 in /usr/local/lib/python3.10/dist-packages (from matplotlib->adjustText) (10.4.0)\n",
            "Requirement already satisfied: pyparsing>=2.3.1 in /usr/local/lib/python3.10/dist-packages (from matplotlib->adjustText) (3.2.0)\n",
            "Requirement already satisfied: python-dateutil>=2.7 in /usr/local/lib/python3.10/dist-packages (from matplotlib->adjustText) (2.8.2)\n",
            "Requirement already satisfied: six>=1.5 in /usr/local/lib/python3.10/dist-packages (from python-dateutil>=2.7->matplotlib->adjustText) (1.16.0)\n",
            "Downloading adjustText-1.2.0-py3-none-any.whl (12 kB)\n",
            "Installing collected packages: adjustText\n",
            "Successfully installed adjustText-1.2.0\n",
            "Requirement already satisfied: seaborn in /usr/local/lib/python3.10/dist-packages (0.13.2)\n",
            "Requirement already satisfied: numpy!=1.24.0,>=1.20 in /usr/local/lib/python3.10/dist-packages (from seaborn) (1.26.4)\n",
            "Requirement already satisfied: pandas>=1.2 in /usr/local/lib/python3.10/dist-packages (from seaborn) (2.2.2)\n",
            "Requirement already satisfied: matplotlib!=3.6.1,>=3.4 in /usr/local/lib/python3.10/dist-packages (from seaborn) (3.7.1)\n",
            "Requirement already satisfied: contourpy>=1.0.1 in /usr/local/lib/python3.10/dist-packages (from matplotlib!=3.6.1,>=3.4->seaborn) (1.3.0)\n",
            "Requirement already satisfied: cycler>=0.10 in /usr/local/lib/python3.10/dist-packages (from matplotlib!=3.6.1,>=3.4->seaborn) (0.12.1)\n",
            "Requirement already satisfied: fonttools>=4.22.0 in /usr/local/lib/python3.10/dist-packages (from matplotlib!=3.6.1,>=3.4->seaborn) (4.54.1)\n",
            "Requirement already satisfied: kiwisolver>=1.0.1 in /usr/local/lib/python3.10/dist-packages (from matplotlib!=3.6.1,>=3.4->seaborn) (1.4.7)\n",
            "Requirement already satisfied: packaging>=20.0 in /usr/local/lib/python3.10/dist-packages (from matplotlib!=3.6.1,>=3.4->seaborn) (24.1)\n",
            "Requirement already satisfied: pillow>=6.2.0 in /usr/local/lib/python3.10/dist-packages (from matplotlib!=3.6.1,>=3.4->seaborn) (10.4.0)\n",
            "Requirement already satisfied: pyparsing>=2.3.1 in /usr/local/lib/python3.10/dist-packages (from matplotlib!=3.6.1,>=3.4->seaborn) (3.2.0)\n",
            "Requirement already satisfied: python-dateutil>=2.7 in /usr/local/lib/python3.10/dist-packages (from matplotlib!=3.6.1,>=3.4->seaborn) (2.8.2)\n",
            "Requirement already satisfied: pytz>=2020.1 in /usr/local/lib/python3.10/dist-packages (from pandas>=1.2->seaborn) (2024.2)\n",
            "Requirement already satisfied: tzdata>=2022.7 in /usr/local/lib/python3.10/dist-packages (from pandas>=1.2->seaborn) (2024.2)\n",
            "Requirement already satisfied: six>=1.5 in /usr/local/lib/python3.10/dist-packages (from python-dateutil>=2.7->matplotlib!=3.6.1,>=3.4->seaborn) (1.16.0)\n",
            "Requirement already satisfied: wordcloud in /usr/local/lib/python3.10/dist-packages (1.9.3)\n",
            "Requirement already satisfied: numpy>=1.6.1 in /usr/local/lib/python3.10/dist-packages (from wordcloud) (1.26.4)\n",
            "Requirement already satisfied: pillow in /usr/local/lib/python3.10/dist-packages (from wordcloud) (10.4.0)\n",
            "Requirement already satisfied: matplotlib in /usr/local/lib/python3.10/dist-packages (from wordcloud) (3.7.1)\n",
            "Requirement already satisfied: contourpy>=1.0.1 in /usr/local/lib/python3.10/dist-packages (from matplotlib->wordcloud) (1.3.0)\n",
            "Requirement already satisfied: cycler>=0.10 in /usr/local/lib/python3.10/dist-packages (from matplotlib->wordcloud) (0.12.1)\n",
            "Requirement already satisfied: fonttools>=4.22.0 in /usr/local/lib/python3.10/dist-packages (from matplotlib->wordcloud) (4.54.1)\n",
            "Requirement already satisfied: kiwisolver>=1.0.1 in /usr/local/lib/python3.10/dist-packages (from matplotlib->wordcloud) (1.4.7)\n",
            "Requirement already satisfied: packaging>=20.0 in /usr/local/lib/python3.10/dist-packages (from matplotlib->wordcloud) (24.1)\n",
            "Requirement already satisfied: pyparsing>=2.3.1 in /usr/local/lib/python3.10/dist-packages (from matplotlib->wordcloud) (3.2.0)\n",
            "Requirement already satisfied: python-dateutil>=2.7 in /usr/local/lib/python3.10/dist-packages (from matplotlib->wordcloud) (2.8.2)\n",
            "Requirement already satisfied: six>=1.5 in /usr/local/lib/python3.10/dist-packages (from python-dateutil>=2.7->matplotlib->wordcloud) (1.16.0)\n",
            "\u001b[31mERROR: Could not find a version that satisfies the requirement PIL (from versions: none)\u001b[0m\u001b[31m\n",
            "\u001b[0m\u001b[31mERROR: No matching distribution found for PIL\u001b[0m\u001b[31m\n",
            "\u001b[0mCollecting leafmap\n",
            "  Downloading leafmap-0.38.11-py2.py3-none-any.whl.metadata (16 kB)\n",
            "Collecting anywidget>=0.9.13 (from leafmap)\n",
            "  Downloading anywidget-0.9.13-py3-none-any.whl.metadata (7.2 kB)\n",
            "Requirement already satisfied: bqplot>=0.12.43 in /usr/local/lib/python3.10/dist-packages (from leafmap) (0.12.43)\n",
            "Requirement already satisfied: colour>=0.1.5 in /usr/local/lib/python3.10/dist-packages (from leafmap) (0.1.5)\n",
            "Requirement already satisfied: folium>=0.14.0 in /usr/local/lib/python3.10/dist-packages (from leafmap) (0.17.0)\n",
            "Requirement already satisfied: gdown>=5.1.0 in /usr/local/lib/python3.10/dist-packages (from leafmap) (5.2.0)\n",
            "Collecting geojson>=3.1.0 (from leafmap)\n",
            "  Downloading geojson-3.1.0-py3-none-any.whl.metadata (16 kB)\n",
            "Requirement already satisfied: ipyevents>=2.0.2 in /usr/local/lib/python3.10/dist-packages (from leafmap) (2.0.2)\n",
            "Requirement already satisfied: ipyfilechooser>=0.6.0 in /usr/local/lib/python3.10/dist-packages (from leafmap) (0.6.0)\n",
            "Requirement already satisfied: ipyleaflet>=0.18.2 in /usr/local/lib/python3.10/dist-packages (from leafmap) (0.19.2)\n",
            "Collecting ipyvuetify>=1.9.4 (from leafmap)\n",
            "  Downloading ipyvuetify-1.10.0-py2.py3-none-any.whl.metadata (7.5 kB)\n",
            "Requirement already satisfied: ipywidgets>=7.6.0 in /usr/local/lib/python3.10/dist-packages (from leafmap) (7.7.1)\n",
            "Requirement already satisfied: matplotlib>=3.7.1 in /usr/local/lib/python3.10/dist-packages (from leafmap) (3.7.1)\n",
            "Requirement already satisfied: numpy<3.0.0,>=1.25.0 in /usr/local/lib/python3.10/dist-packages (from leafmap) (1.26.4)\n",
            "Requirement already satisfied: pandas>=2.0.3 in /usr/local/lib/python3.10/dist-packages (from leafmap) (2.2.2)\n",
            "Requirement already satisfied: plotly>=5.15.0 in /usr/local/lib/python3.10/dist-packages (from leafmap) (5.24.1)\n",
            "Requirement already satisfied: psutil>=5.9.5 in /usr/local/lib/python3.10/dist-packages (from leafmap) (5.9.5)\n",
            "Requirement already satisfied: pyshp>=2.3.1 in /usr/local/lib/python3.10/dist-packages (from leafmap) (2.3.1)\n",
            "Collecting pystac-client>=0.8.2 (from leafmap)\n",
            "  Downloading pystac_client-0.8.5-py3-none-any.whl.metadata (5.1 kB)\n",
            "Requirement already satisfied: python-box>=7.2.0 in /usr/local/lib/python3.10/dist-packages (from leafmap) (7.2.0)\n",
            "Requirement already satisfied: scooby>=0.10.0 in /usr/local/lib/python3.10/dist-packages (from leafmap) (0.10.0)\n",
            "Requirement already satisfied: setuptools>=70.0.0 in /usr/local/lib/python3.10/dist-packages (from leafmap) (75.1.0)\n",
            "Collecting whiteboxgui>=2.3.0 (from leafmap)\n",
            "  Downloading whiteboxgui-2.3.0-py2.py3-none-any.whl.metadata (5.7 kB)\n",
            "Requirement already satisfied: xyzservices>=2024.6.0 in /usr/local/lib/python3.10/dist-packages (from leafmap) (2024.9.0)\n",
            "Requirement already satisfied: duckdb>=0.10.3 in /usr/local/lib/python3.10/dist-packages (from leafmap) (1.1.2)\n",
            "Collecting psygnal>=0.8.1 (from anywidget>=0.9.13->leafmap)\n",
            "  Downloading psygnal-0.11.1-cp310-cp310-manylinux_2_17_x86_64.manylinux2014_x86_64.whl.metadata (7.2 kB)\n",
            "Requirement already satisfied: typing-extensions>=4.2.0 in /usr/local/lib/python3.10/dist-packages (from anywidget>=0.9.13->leafmap) (4.12.2)\n",
            "Requirement already satisfied: traitlets>=4.3.0 in /usr/local/lib/python3.10/dist-packages (from bqplot>=0.12.43->leafmap) (5.7.1)\n",
            "Requirement already satisfied: traittypes>=0.0.6 in /usr/local/lib/python3.10/dist-packages (from bqplot>=0.12.43->leafmap) (0.2.1)\n",
            "Requirement already satisfied: branca>=0.6.0 in /usr/local/lib/python3.10/dist-packages (from folium>=0.14.0->leafmap) (0.8.0)\n",
            "Requirement already satisfied: jinja2>=2.9 in /usr/local/lib/python3.10/dist-packages (from folium>=0.14.0->leafmap) (3.1.4)\n",
            "Requirement already satisfied: requests in /usr/local/lib/python3.10/dist-packages (from folium>=0.14.0->leafmap) (2.32.3)\n",
            "Requirement already satisfied: beautifulsoup4 in /usr/local/lib/python3.10/dist-packages (from gdown>=5.1.0->leafmap) (4.12.3)\n",
            "Requirement already satisfied: filelock in /usr/local/lib/python3.10/dist-packages (from gdown>=5.1.0->leafmap) (3.16.1)\n",
            "Requirement already satisfied: tqdm in /usr/local/lib/python3.10/dist-packages (from gdown>=5.1.0->leafmap) (4.66.5)\n",
            "Requirement already satisfied: jupyter-leaflet<0.20,>=0.19 in /usr/local/lib/python3.10/dist-packages (from ipyleaflet>=0.18.2->leafmap) (0.19.2)\n",
            "Collecting ipyvue<2,>=1.7 (from ipyvuetify>=1.9.4->leafmap)\n",
            "  Downloading ipyvue-1.11.1-py2.py3-none-any.whl.metadata (1.1 kB)\n",
            "Requirement already satisfied: ipykernel>=4.5.1 in /usr/local/lib/python3.10/dist-packages (from ipywidgets>=7.6.0->leafmap) (5.5.6)\n",
            "Requirement already satisfied: ipython-genutils~=0.2.0 in /usr/local/lib/python3.10/dist-packages (from ipywidgets>=7.6.0->leafmap) (0.2.0)\n",
            "Requirement already satisfied: widgetsnbextension~=3.6.0 in /usr/local/lib/python3.10/dist-packages (from ipywidgets>=7.6.0->leafmap) (3.6.10)\n",
            "Requirement already satisfied: ipython>=4.0.0 in /usr/local/lib/python3.10/dist-packages (from ipywidgets>=7.6.0->leafmap) (7.34.0)\n",
            "Requirement already satisfied: jupyterlab-widgets>=1.0.0 in /usr/local/lib/python3.10/dist-packages (from ipywidgets>=7.6.0->leafmap) (3.0.13)\n",
            "Requirement already satisfied: contourpy>=1.0.1 in /usr/local/lib/python3.10/dist-packages (from matplotlib>=3.7.1->leafmap) (1.3.0)\n",
            "Requirement already satisfied: cycler>=0.10 in /usr/local/lib/python3.10/dist-packages (from matplotlib>=3.7.1->leafmap) (0.12.1)\n",
            "Requirement already satisfied: fonttools>=4.22.0 in /usr/local/lib/python3.10/dist-packages (from matplotlib>=3.7.1->leafmap) (4.54.1)\n",
            "Requirement already satisfied: kiwisolver>=1.0.1 in /usr/local/lib/python3.10/dist-packages (from matplotlib>=3.7.1->leafmap) (1.4.7)\n",
            "Requirement already satisfied: packaging>=20.0 in /usr/local/lib/python3.10/dist-packages (from matplotlib>=3.7.1->leafmap) (24.1)\n",
            "Requirement already satisfied: pillow>=6.2.0 in /usr/local/lib/python3.10/dist-packages (from matplotlib>=3.7.1->leafmap) (10.4.0)\n",
            "Requirement already satisfied: pyparsing>=2.3.1 in /usr/local/lib/python3.10/dist-packages (from matplotlib>=3.7.1->leafmap) (3.2.0)\n",
            "Requirement already satisfied: python-dateutil>=2.7 in /usr/local/lib/python3.10/dist-packages (from matplotlib>=3.7.1->leafmap) (2.8.2)\n",
            "Requirement already satisfied: pytz>=2020.1 in /usr/local/lib/python3.10/dist-packages (from pandas>=2.0.3->leafmap) (2024.2)\n",
            "Requirement already satisfied: tzdata>=2022.7 in /usr/local/lib/python3.10/dist-packages (from pandas>=2.0.3->leafmap) (2024.2)\n",
            "Requirement already satisfied: tenacity>=6.2.0 in /usr/local/lib/python3.10/dist-packages (from plotly>=5.15.0->leafmap) (9.0.0)\n",
            "Collecting pystac>=1.10.0 (from pystac[validation]>=1.10.0->pystac-client>=0.8.2->leafmap)\n",
            "  Downloading pystac-1.11.0-py3-none-any.whl.metadata (4.5 kB)\n",
            "Requirement already satisfied: ipytree in /usr/local/lib/python3.10/dist-packages (from whiteboxgui>=2.3.0->leafmap) (0.2.2)\n",
            "Collecting whitebox (from whiteboxgui>=2.3.0->leafmap)\n",
            "  Downloading whitebox-2.3.5-py2.py3-none-any.whl.metadata (10 kB)\n",
            "Requirement already satisfied: jupyter-client in /usr/local/lib/python3.10/dist-packages (from ipykernel>=4.5.1->ipywidgets>=7.6.0->leafmap) (6.1.12)\n",
            "Requirement already satisfied: tornado>=4.2 in /usr/local/lib/python3.10/dist-packages (from ipykernel>=4.5.1->ipywidgets>=7.6.0->leafmap) (6.3.3)\n",
            "Collecting jedi>=0.16 (from ipython>=4.0.0->ipywidgets>=7.6.0->leafmap)\n",
            "  Downloading jedi-0.19.1-py2.py3-none-any.whl.metadata (22 kB)\n",
            "Requirement already satisfied: decorator in /usr/local/lib/python3.10/dist-packages (from ipython>=4.0.0->ipywidgets>=7.6.0->leafmap) (4.4.2)\n",
            "Requirement already satisfied: pickleshare in /usr/local/lib/python3.10/dist-packages (from ipython>=4.0.0->ipywidgets>=7.6.0->leafmap) (0.7.5)\n",
            "Requirement already satisfied: prompt-toolkit!=3.0.0,!=3.0.1,<3.1.0,>=2.0.0 in /usr/local/lib/python3.10/dist-packages (from ipython>=4.0.0->ipywidgets>=7.6.0->leafmap) (3.0.48)\n",
            "Requirement already satisfied: pygments in /usr/local/lib/python3.10/dist-packages (from ipython>=4.0.0->ipywidgets>=7.6.0->leafmap) (2.18.0)\n",
            "Requirement already satisfied: backcall in /usr/local/lib/python3.10/dist-packages (from ipython>=4.0.0->ipywidgets>=7.6.0->leafmap) (0.2.0)\n",
            "Requirement already satisfied: matplotlib-inline in /usr/local/lib/python3.10/dist-packages (from ipython>=4.0.0->ipywidgets>=7.6.0->leafmap) (0.1.7)\n",
            "Requirement already satisfied: pexpect>4.3 in /usr/local/lib/python3.10/dist-packages (from ipython>=4.0.0->ipywidgets>=7.6.0->leafmap) (4.9.0)\n",
            "Requirement already satisfied: MarkupSafe>=2.0 in /usr/local/lib/python3.10/dist-packages (from jinja2>=2.9->folium>=0.14.0->leafmap) (3.0.2)\n",
            "Requirement already satisfied: jsonschema~=4.18 in /usr/local/lib/python3.10/dist-packages (from pystac[validation]>=1.10.0->pystac-client>=0.8.2->leafmap) (4.23.0)\n",
            "Requirement already satisfied: six>=1.5 in /usr/local/lib/python3.10/dist-packages (from python-dateutil>=2.7->matplotlib>=3.7.1->leafmap) (1.16.0)\n",
            "Requirement already satisfied: charset-normalizer<4,>=2 in /usr/local/lib/python3.10/dist-packages (from requests->folium>=0.14.0->leafmap) (3.4.0)\n",
            "Requirement already satisfied: idna<4,>=2.5 in /usr/local/lib/python3.10/dist-packages (from requests->folium>=0.14.0->leafmap) (3.10)\n",
            "Requirement already satisfied: urllib3<3,>=1.21.1 in /usr/local/lib/python3.10/dist-packages (from requests->folium>=0.14.0->leafmap) (2.2.3)\n",
            "Requirement already satisfied: certifi>=2017.4.17 in /usr/local/lib/python3.10/dist-packages (from requests->folium>=0.14.0->leafmap) (2024.8.30)\n",
            "Requirement already satisfied: notebook>=4.4.1 in /usr/local/lib/python3.10/dist-packages (from widgetsnbextension~=3.6.0->ipywidgets>=7.6.0->leafmap) (6.5.5)\n",
            "Requirement already satisfied: soupsieve>1.2 in /usr/local/lib/python3.10/dist-packages (from beautifulsoup4->gdown>=5.1.0->leafmap) (2.6)\n",
            "Requirement already satisfied: PySocks!=1.5.7,>=1.5.6 in /usr/local/lib/python3.10/dist-packages (from requests[socks]->gdown>=5.1.0->leafmap) (1.7.1)\n",
            "Requirement already satisfied: Click>=6.0 in /usr/local/lib/python3.10/dist-packages (from whitebox->whiteboxgui>=2.3.0->leafmap) (8.1.7)\n",
            "Requirement already satisfied: parso<0.9.0,>=0.8.3 in /usr/local/lib/python3.10/dist-packages (from jedi>=0.16->ipython>=4.0.0->ipywidgets>=7.6.0->leafmap) (0.8.4)\n",
            "Requirement already satisfied: attrs>=22.2.0 in /usr/local/lib/python3.10/dist-packages (from jsonschema~=4.18->pystac[validation]>=1.10.0->pystac-client>=0.8.2->leafmap) (24.2.0)\n",
            "Requirement already satisfied: jsonschema-specifications>=2023.03.6 in /usr/local/lib/python3.10/dist-packages (from jsonschema~=4.18->pystac[validation]>=1.10.0->pystac-client>=0.8.2->leafmap) (2024.10.1)\n",
            "Requirement already satisfied: referencing>=0.28.4 in /usr/local/lib/python3.10/dist-packages (from jsonschema~=4.18->pystac[validation]>=1.10.0->pystac-client>=0.8.2->leafmap) (0.35.1)\n",
            "Requirement already satisfied: rpds-py>=0.7.1 in /usr/local/lib/python3.10/dist-packages (from jsonschema~=4.18->pystac[validation]>=1.10.0->pystac-client>=0.8.2->leafmap) (0.20.0)\n",
            "Requirement already satisfied: pyzmq<25,>=17 in /usr/local/lib/python3.10/dist-packages (from notebook>=4.4.1->widgetsnbextension~=3.6.0->ipywidgets>=7.6.0->leafmap) (24.0.1)\n",
            "Requirement already satisfied: argon2-cffi in /usr/local/lib/python3.10/dist-packages (from notebook>=4.4.1->widgetsnbextension~=3.6.0->ipywidgets>=7.6.0->leafmap) (23.1.0)\n",
            "Requirement already satisfied: jupyter-core>=4.6.1 in /usr/local/lib/python3.10/dist-packages (from notebook>=4.4.1->widgetsnbextension~=3.6.0->ipywidgets>=7.6.0->leafmap) (5.7.2)\n",
            "Requirement already satisfied: nbformat in /usr/local/lib/python3.10/dist-packages (from notebook>=4.4.1->widgetsnbextension~=3.6.0->ipywidgets>=7.6.0->leafmap) (5.10.4)\n",
            "Requirement already satisfied: nbconvert>=5 in /usr/local/lib/python3.10/dist-packages (from notebook>=4.4.1->widgetsnbextension~=3.6.0->ipywidgets>=7.6.0->leafmap) (6.5.4)\n",
            "Requirement already satisfied: nest-asyncio>=1.5 in /usr/local/lib/python3.10/dist-packages (from notebook>=4.4.1->widgetsnbextension~=3.6.0->ipywidgets>=7.6.0->leafmap) (1.6.0)\n",
            "Requirement already satisfied: Send2Trash>=1.8.0 in /usr/local/lib/python3.10/dist-packages (from notebook>=4.4.1->widgetsnbextension~=3.6.0->ipywidgets>=7.6.0->leafmap) (1.8.3)\n",
            "Requirement already satisfied: terminado>=0.8.3 in /usr/local/lib/python3.10/dist-packages (from notebook>=4.4.1->widgetsnbextension~=3.6.0->ipywidgets>=7.6.0->leafmap) (0.18.1)\n",
            "Requirement already satisfied: prometheus-client in /usr/local/lib/python3.10/dist-packages (from notebook>=4.4.1->widgetsnbextension~=3.6.0->ipywidgets>=7.6.0->leafmap) (0.21.0)\n",
            "Requirement already satisfied: nbclassic>=0.4.7 in /usr/local/lib/python3.10/dist-packages (from notebook>=4.4.1->widgetsnbextension~=3.6.0->ipywidgets>=7.6.0->leafmap) (1.1.0)\n",
            "Requirement already satisfied: ptyprocess>=0.5 in /usr/local/lib/python3.10/dist-packages (from pexpect>4.3->ipython>=4.0.0->ipywidgets>=7.6.0->leafmap) (0.7.0)\n",
            "Requirement already satisfied: wcwidth in /usr/local/lib/python3.10/dist-packages (from prompt-toolkit!=3.0.0,!=3.0.1,<3.1.0,>=2.0.0->ipython>=4.0.0->ipywidgets>=7.6.0->leafmap) (0.2.13)\n",
            "Requirement already satisfied: platformdirs>=2.5 in /usr/local/lib/python3.10/dist-packages (from jupyter-core>=4.6.1->notebook>=4.4.1->widgetsnbextension~=3.6.0->ipywidgets>=7.6.0->leafmap) (4.3.6)\n",
            "Requirement already satisfied: notebook-shim>=0.2.3 in /usr/local/lib/python3.10/dist-packages (from nbclassic>=0.4.7->notebook>=4.4.1->widgetsnbextension~=3.6.0->ipywidgets>=7.6.0->leafmap) (0.2.4)\n",
            "Requirement already satisfied: lxml in /usr/local/lib/python3.10/dist-packages (from nbconvert>=5->notebook>=4.4.1->widgetsnbextension~=3.6.0->ipywidgets>=7.6.0->leafmap) (4.9.4)\n",
            "Requirement already satisfied: bleach in /usr/local/lib/python3.10/dist-packages (from nbconvert>=5->notebook>=4.4.1->widgetsnbextension~=3.6.0->ipywidgets>=7.6.0->leafmap) (6.1.0)\n",
            "Requirement already satisfied: defusedxml in /usr/local/lib/python3.10/dist-packages (from nbconvert>=5->notebook>=4.4.1->widgetsnbextension~=3.6.0->ipywidgets>=7.6.0->leafmap) (0.7.1)\n",
            "Requirement already satisfied: entrypoints>=0.2.2 in /usr/local/lib/python3.10/dist-packages (from nbconvert>=5->notebook>=4.4.1->widgetsnbextension~=3.6.0->ipywidgets>=7.6.0->leafmap) (0.4)\n",
            "Requirement already satisfied: jupyterlab-pygments in /usr/local/lib/python3.10/dist-packages (from nbconvert>=5->notebook>=4.4.1->widgetsnbextension~=3.6.0->ipywidgets>=7.6.0->leafmap) (0.3.0)\n",
            "Requirement already satisfied: mistune<2,>=0.8.1 in /usr/local/lib/python3.10/dist-packages (from nbconvert>=5->notebook>=4.4.1->widgetsnbextension~=3.6.0->ipywidgets>=7.6.0->leafmap) (0.8.4)\n",
            "Requirement already satisfied: nbclient>=0.5.0 in /usr/local/lib/python3.10/dist-packages (from nbconvert>=5->notebook>=4.4.1->widgetsnbextension~=3.6.0->ipywidgets>=7.6.0->leafmap) (0.10.0)\n",
            "Requirement already satisfied: pandocfilters>=1.4.1 in /usr/local/lib/python3.10/dist-packages (from nbconvert>=5->notebook>=4.4.1->widgetsnbextension~=3.6.0->ipywidgets>=7.6.0->leafmap) (1.5.1)\n",
            "Requirement already satisfied: tinycss2 in /usr/local/lib/python3.10/dist-packages (from nbconvert>=5->notebook>=4.4.1->widgetsnbextension~=3.6.0->ipywidgets>=7.6.0->leafmap) (1.3.0)\n",
            "Requirement already satisfied: fastjsonschema>=2.15 in /usr/local/lib/python3.10/dist-packages (from nbformat->notebook>=4.4.1->widgetsnbextension~=3.6.0->ipywidgets>=7.6.0->leafmap) (2.20.0)\n",
            "Requirement already satisfied: argon2-cffi-bindings in /usr/local/lib/python3.10/dist-packages (from argon2-cffi->notebook>=4.4.1->widgetsnbextension~=3.6.0->ipywidgets>=7.6.0->leafmap) (21.2.0)\n",
            "Requirement already satisfied: jupyter-server<3,>=1.8 in /usr/local/lib/python3.10/dist-packages (from notebook-shim>=0.2.3->nbclassic>=0.4.7->notebook>=4.4.1->widgetsnbextension~=3.6.0->ipywidgets>=7.6.0->leafmap) (1.24.0)\n",
            "Requirement already satisfied: cffi>=1.0.1 in /usr/local/lib/python3.10/dist-packages (from argon2-cffi-bindings->argon2-cffi->notebook>=4.4.1->widgetsnbextension~=3.6.0->ipywidgets>=7.6.0->leafmap) (1.17.1)\n",
            "Requirement already satisfied: webencodings in /usr/local/lib/python3.10/dist-packages (from bleach->nbconvert>=5->notebook>=4.4.1->widgetsnbextension~=3.6.0->ipywidgets>=7.6.0->leafmap) (0.5.1)\n",
            "Requirement already satisfied: pycparser in /usr/local/lib/python3.10/dist-packages (from cffi>=1.0.1->argon2-cffi-bindings->argon2-cffi->notebook>=4.4.1->widgetsnbextension~=3.6.0->ipywidgets>=7.6.0->leafmap) (2.22)\n",
            "Requirement already satisfied: anyio<4,>=3.1.0 in /usr/local/lib/python3.10/dist-packages (from jupyter-server<3,>=1.8->notebook-shim>=0.2.3->nbclassic>=0.4.7->notebook>=4.4.1->widgetsnbextension~=3.6.0->ipywidgets>=7.6.0->leafmap) (3.7.1)\n",
            "Requirement already satisfied: websocket-client in /usr/local/lib/python3.10/dist-packages (from jupyter-server<3,>=1.8->notebook-shim>=0.2.3->nbclassic>=0.4.7->notebook>=4.4.1->widgetsnbextension~=3.6.0->ipywidgets>=7.6.0->leafmap) (1.8.0)\n",
            "Requirement already satisfied: sniffio>=1.1 in /usr/local/lib/python3.10/dist-packages (from anyio<4,>=3.1.0->jupyter-server<3,>=1.8->notebook-shim>=0.2.3->nbclassic>=0.4.7->notebook>=4.4.1->widgetsnbextension~=3.6.0->ipywidgets>=7.6.0->leafmap) (1.3.1)\n",
            "Requirement already satisfied: exceptiongroup in /usr/local/lib/python3.10/dist-packages (from anyio<4,>=3.1.0->jupyter-server<3,>=1.8->notebook-shim>=0.2.3->nbclassic>=0.4.7->notebook>=4.4.1->widgetsnbextension~=3.6.0->ipywidgets>=7.6.0->leafmap) (1.2.2)\n",
            "Downloading leafmap-0.38.11-py2.py3-none-any.whl (488 kB)\n",
            "\u001b[2K   \u001b[90m━━━━━━━━━━━━━━━━━━━━━━━━━━━━━━━━━━━━━━━━\u001b[0m \u001b[32m488.4/488.4 kB\u001b[0m \u001b[31m9.3 MB/s\u001b[0m eta \u001b[36m0:00:00\u001b[0m\n",
            "\u001b[?25hDownloading anywidget-0.9.13-py3-none-any.whl (213 kB)\n",
            "\u001b[2K   \u001b[90m━━━━━━━━━━━━━━━━━━━━━━━━━━━━━━━━━━━━━━━━\u001b[0m \u001b[32m213.7/213.7 kB\u001b[0m \u001b[31m11.7 MB/s\u001b[0m eta \u001b[36m0:00:00\u001b[0m\n",
            "\u001b[?25hDownloading geojson-3.1.0-py3-none-any.whl (15 kB)\n",
            "Downloading ipyvuetify-1.10.0-py2.py3-none-any.whl (6.1 MB)\n",
            "\u001b[2K   \u001b[90m━━━━━━━━━━━━━━━━━━━━━━━━━━━━━━━━━━━━━━━━\u001b[0m \u001b[32m6.1/6.1 MB\u001b[0m \u001b[31m45.2 MB/s\u001b[0m eta \u001b[36m0:00:00\u001b[0m\n",
            "\u001b[?25hDownloading pystac_client-0.8.5-py3-none-any.whl (41 kB)\n",
            "\u001b[2K   \u001b[90m━━━━━━━━━━━━━━━━━━━━━━━━━━━━━━━━━━━━━━━━\u001b[0m \u001b[32m41.9/41.9 kB\u001b[0m \u001b[31m2.2 MB/s\u001b[0m eta \u001b[36m0:00:00\u001b[0m\n",
            "\u001b[?25hDownloading whiteboxgui-2.3.0-py2.py3-none-any.whl (108 kB)\n",
            "\u001b[2K   \u001b[90m━━━━━━━━━━━━━━━━━━━━━━━━━━━━━━━━━━━━━━━━\u001b[0m \u001b[32m108.6/108.6 kB\u001b[0m \u001b[31m6.4 MB/s\u001b[0m eta \u001b[36m0:00:00\u001b[0m\n",
            "\u001b[?25hDownloading ipyvue-1.11.1-py2.py3-none-any.whl (2.7 MB)\n",
            "\u001b[2K   \u001b[90m━━━━━━━━━━━━━━━━━━━━━━━━━━━━━━━━━━━━━━━━\u001b[0m \u001b[32m2.7/2.7 MB\u001b[0m \u001b[31m37.1 MB/s\u001b[0m eta \u001b[36m0:00:00\u001b[0m\n",
            "\u001b[?25hDownloading psygnal-0.11.1-cp310-cp310-manylinux_2_17_x86_64.manylinux2014_x86_64.whl (727 kB)\n",
            "\u001b[2K   \u001b[90m━━━━━━━━━━━━━━━━━━━━━━━━━━━━━━━━━━━━━━━━\u001b[0m \u001b[32m727.4/727.4 kB\u001b[0m \u001b[31m25.5 MB/s\u001b[0m eta \u001b[36m0:00:00\u001b[0m\n",
            "\u001b[?25hDownloading pystac-1.11.0-py3-none-any.whl (183 kB)\n",
            "\u001b[2K   \u001b[90m━━━━━━━━━━━━━━━━━━━━━━━━━━━━━━━━━━━━━━━━\u001b[0m \u001b[32m183.9/183.9 kB\u001b[0m \u001b[31m9.8 MB/s\u001b[0m eta \u001b[36m0:00:00\u001b[0m\n",
            "\u001b[?25hDownloading whitebox-2.3.5-py2.py3-none-any.whl (72 kB)\n",
            "\u001b[2K   \u001b[90m━━━━━━━━━━━━━━━━━━━━━━━━━━━━━━━━━━━━━━━━\u001b[0m \u001b[32m72.4/72.4 kB\u001b[0m \u001b[31m3.9 MB/s\u001b[0m eta \u001b[36m0:00:00\u001b[0m\n",
            "\u001b[?25hDownloading jedi-0.19.1-py2.py3-none-any.whl (1.6 MB)\n",
            "\u001b[2K   \u001b[90m━━━━━━━━━━━━━━━━━━━━━━━━━━━━━━━━━━━━━━━━\u001b[0m \u001b[32m1.6/1.6 MB\u001b[0m \u001b[31m32.9 MB/s\u001b[0m eta \u001b[36m0:00:00\u001b[0m\n",
            "\u001b[?25hInstalling collected packages: whitebox, psygnal, jedi, geojson, pystac, pystac-client, ipyvue, anywidget, whiteboxgui, ipyvuetify, leafmap\n",
            "Successfully installed anywidget-0.9.13 geojson-3.1.0 ipyvue-1.11.1 ipyvuetify-1.10.0 jedi-0.19.1 leafmap-0.38.11 psygnal-0.11.1 pystac-1.11.0 pystac-client-0.8.5 whitebox-2.3.5 whiteboxgui-2.3.0\n",
            "Collecting pycrs\n",
            "  Downloading PyCRS-1.0.2.tar.gz (36 kB)\n",
            "  Preparing metadata (setup.py) ... \u001b[?25l\u001b[?25hdone\n",
            "Building wheels for collected packages: pycrs\n",
            "  Building wheel for pycrs (setup.py) ... \u001b[?25l\u001b[?25hdone\n",
            "  Created wheel for pycrs: filename=PyCRS-1.0.2-py3-none-any.whl size=32687 sha256=dea0c33b77f6969ff4b4a0862b199f839cb577bf72ae7a70691cd038afdbf931\n",
            "  Stored in directory: /root/.cache/pip/wheels/47/1d/70/7a5bdf33347e7c75e95b06b1fa38f076a59a9506653cc24aff\n",
            "Successfully built pycrs\n",
            "Installing collected packages: pycrs\n",
            "Successfully installed pycrs-1.0.2\n",
            "Requirement already satisfied: osmnx in /usr/local/lib/python3.10/dist-packages (1.9.4)\n",
            "Requirement already satisfied: geopandas<0.15,>=0.12 in /usr/local/lib/python3.10/dist-packages (from osmnx) (0.14.4)\n",
            "Requirement already satisfied: networkx<3.4,>=2.5 in /usr/local/lib/python3.10/dist-packages (from osmnx) (3.3)\n",
            "Requirement already satisfied: numpy<1.27,>=1.20 in /usr/local/lib/python3.10/dist-packages (from osmnx) (1.26.4)\n",
            "Requirement already satisfied: pandas<2.3,>=1.1 in /usr/local/lib/python3.10/dist-packages (from osmnx) (2.2.2)\n",
            "Requirement already satisfied: requests<2.33,>=2.27 in /usr/local/lib/python3.10/dist-packages (from osmnx) (2.32.3)\n",
            "Requirement already satisfied: shapely<2.1,>=2.0 in /usr/local/lib/python3.10/dist-packages (from osmnx) (2.0.6)\n",
            "Requirement already satisfied: fiona>=1.8.21 in /usr/local/lib/python3.10/dist-packages (from geopandas<0.15,>=0.12->osmnx) (1.10.1)\n",
            "Requirement already satisfied: packaging in /usr/local/lib/python3.10/dist-packages (from geopandas<0.15,>=0.12->osmnx) (24.1)\n",
            "Requirement already satisfied: pyproj>=3.3.0 in /usr/local/lib/python3.10/dist-packages (from geopandas<0.15,>=0.12->osmnx) (3.7.0)\n",
            "Requirement already satisfied: python-dateutil>=2.8.2 in /usr/local/lib/python3.10/dist-packages (from pandas<2.3,>=1.1->osmnx) (2.8.2)\n",
            "Requirement already satisfied: pytz>=2020.1 in /usr/local/lib/python3.10/dist-packages (from pandas<2.3,>=1.1->osmnx) (2024.2)\n",
            "Requirement already satisfied: tzdata>=2022.7 in /usr/local/lib/python3.10/dist-packages (from pandas<2.3,>=1.1->osmnx) (2024.2)\n",
            "Requirement already satisfied: charset-normalizer<4,>=2 in /usr/local/lib/python3.10/dist-packages (from requests<2.33,>=2.27->osmnx) (3.4.0)\n",
            "Requirement already satisfied: idna<4,>=2.5 in /usr/local/lib/python3.10/dist-packages (from requests<2.33,>=2.27->osmnx) (3.10)\n",
            "Requirement already satisfied: urllib3<3,>=1.21.1 in /usr/local/lib/python3.10/dist-packages (from requests<2.33,>=2.27->osmnx) (2.2.3)\n",
            "Requirement already satisfied: certifi>=2017.4.17 in /usr/local/lib/python3.10/dist-packages (from requests<2.33,>=2.27->osmnx) (2024.8.30)\n",
            "Requirement already satisfied: attrs>=19.2.0 in /usr/local/lib/python3.10/dist-packages (from fiona>=1.8.21->geopandas<0.15,>=0.12->osmnx) (24.2.0)\n",
            "Requirement already satisfied: click~=8.0 in /usr/local/lib/python3.10/dist-packages (from fiona>=1.8.21->geopandas<0.15,>=0.12->osmnx) (8.1.7)\n",
            "Requirement already satisfied: click-plugins>=1.0 in /usr/local/lib/python3.10/dist-packages (from fiona>=1.8.21->geopandas<0.15,>=0.12->osmnx) (1.1.1)\n",
            "Requirement already satisfied: cligj>=0.5 in /usr/local/lib/python3.10/dist-packages (from fiona>=1.8.21->geopandas<0.15,>=0.12->osmnx) (0.7.2)\n",
            "Requirement already satisfied: six>=1.5 in /usr/local/lib/python3.10/dist-packages (from python-dateutil>=2.8.2->pandas<2.3,>=1.1->osmnx) (1.16.0)\n",
            "Collecting pywaffle\n",
            "  Downloading pywaffle-1.1.1-py2.py3-none-any.whl.metadata (2.6 kB)\n",
            "Collecting fontawesomefree (from pywaffle)\n",
            "  Downloading fontawesomefree-6.6.0-py3-none-any.whl.metadata (853 bytes)\n",
            "Requirement already satisfied: matplotlib in /usr/local/lib/python3.10/dist-packages (from pywaffle) (3.7.1)\n",
            "Requirement already satisfied: contourpy>=1.0.1 in /usr/local/lib/python3.10/dist-packages (from matplotlib->pywaffle) (1.3.0)\n",
            "Requirement already satisfied: cycler>=0.10 in /usr/local/lib/python3.10/dist-packages (from matplotlib->pywaffle) (0.12.1)\n",
            "Requirement already satisfied: fonttools>=4.22.0 in /usr/local/lib/python3.10/dist-packages (from matplotlib->pywaffle) (4.54.1)\n",
            "Requirement already satisfied: kiwisolver>=1.0.1 in /usr/local/lib/python3.10/dist-packages (from matplotlib->pywaffle) (1.4.7)\n",
            "Requirement already satisfied: numpy>=1.20 in /usr/local/lib/python3.10/dist-packages (from matplotlib->pywaffle) (1.26.4)\n",
            "Requirement already satisfied: packaging>=20.0 in /usr/local/lib/python3.10/dist-packages (from matplotlib->pywaffle) (24.1)\n",
            "Requirement already satisfied: pillow>=6.2.0 in /usr/local/lib/python3.10/dist-packages (from matplotlib->pywaffle) (10.4.0)\n",
            "Requirement already satisfied: pyparsing>=2.3.1 in /usr/local/lib/python3.10/dist-packages (from matplotlib->pywaffle) (3.2.0)\n",
            "Requirement already satisfied: python-dateutil>=2.7 in /usr/local/lib/python3.10/dist-packages (from matplotlib->pywaffle) (2.8.2)\n",
            "Requirement already satisfied: six>=1.5 in /usr/local/lib/python3.10/dist-packages (from python-dateutil>=2.7->matplotlib->pywaffle) (1.16.0)\n",
            "Downloading pywaffle-1.1.1-py2.py3-none-any.whl (30 kB)\n",
            "Downloading fontawesomefree-6.6.0-py3-none-any.whl (25.6 MB)\n",
            "\u001b[2K   \u001b[90m━━━━━━━━━━━━━━━━━━━━━━━━━━━━━━━━━━━━━━━━\u001b[0m \u001b[32m25.6/25.6 MB\u001b[0m \u001b[31m64.5 MB/s\u001b[0m eta \u001b[36m0:00:00\u001b[0m\n",
            "\u001b[?25hInstalling collected packages: fontawesomefree, pywaffle\n",
            "Successfully installed fontawesomefree-6.6.0 pywaffle-1.1.1\n",
            "Requirement already satisfied: geopandas in /usr/local/lib/python3.10/dist-packages (0.14.4)\n",
            "Requirement already satisfied: fiona>=1.8.21 in /usr/local/lib/python3.10/dist-packages (from geopandas) (1.10.1)\n",
            "Requirement already satisfied: numpy>=1.22 in /usr/local/lib/python3.10/dist-packages (from geopandas) (1.26.4)\n",
            "Requirement already satisfied: packaging in /usr/local/lib/python3.10/dist-packages (from geopandas) (24.1)\n",
            "Requirement already satisfied: pandas>=1.4.0 in /usr/local/lib/python3.10/dist-packages (from geopandas) (2.2.2)\n",
            "Requirement already satisfied: pyproj>=3.3.0 in /usr/local/lib/python3.10/dist-packages (from geopandas) (3.7.0)\n",
            "Requirement already satisfied: shapely>=1.8.0 in /usr/local/lib/python3.10/dist-packages (from geopandas) (2.0.6)\n",
            "Requirement already satisfied: attrs>=19.2.0 in /usr/local/lib/python3.10/dist-packages (from fiona>=1.8.21->geopandas) (24.2.0)\n",
            "Requirement already satisfied: certifi in /usr/local/lib/python3.10/dist-packages (from fiona>=1.8.21->geopandas) (2024.8.30)\n",
            "Requirement already satisfied: click~=8.0 in /usr/local/lib/python3.10/dist-packages (from fiona>=1.8.21->geopandas) (8.1.7)\n",
            "Requirement already satisfied: click-plugins>=1.0 in /usr/local/lib/python3.10/dist-packages (from fiona>=1.8.21->geopandas) (1.1.1)\n",
            "Requirement already satisfied: cligj>=0.5 in /usr/local/lib/python3.10/dist-packages (from fiona>=1.8.21->geopandas) (0.7.2)\n",
            "Requirement already satisfied: python-dateutil>=2.8.2 in /usr/local/lib/python3.10/dist-packages (from pandas>=1.4.0->geopandas) (2.8.2)\n",
            "Requirement already satisfied: pytz>=2020.1 in /usr/local/lib/python3.10/dist-packages (from pandas>=1.4.0->geopandas) (2024.2)\n",
            "Requirement already satisfied: tzdata>=2022.7 in /usr/local/lib/python3.10/dist-packages (from pandas>=1.4.0->geopandas) (2024.2)\n",
            "Requirement already satisfied: six>=1.5 in /usr/local/lib/python3.10/dist-packages (from python-dateutil>=2.8.2->pandas>=1.4.0->geopandas) (1.16.0)\n",
            "Requirement already satisfied: osmnx in /usr/local/lib/python3.10/dist-packages (1.9.4)\n",
            "Requirement already satisfied: geopandas<0.15,>=0.12 in /usr/local/lib/python3.10/dist-packages (from osmnx) (0.14.4)\n",
            "Requirement already satisfied: networkx<3.4,>=2.5 in /usr/local/lib/python3.10/dist-packages (from osmnx) (3.3)\n",
            "Requirement already satisfied: numpy<1.27,>=1.20 in /usr/local/lib/python3.10/dist-packages (from osmnx) (1.26.4)\n",
            "Requirement already satisfied: pandas<2.3,>=1.1 in /usr/local/lib/python3.10/dist-packages (from osmnx) (2.2.2)\n",
            "Requirement already satisfied: requests<2.33,>=2.27 in /usr/local/lib/python3.10/dist-packages (from osmnx) (2.32.3)\n",
            "Requirement already satisfied: shapely<2.1,>=2.0 in /usr/local/lib/python3.10/dist-packages (from osmnx) (2.0.6)\n",
            "Requirement already satisfied: fiona>=1.8.21 in /usr/local/lib/python3.10/dist-packages (from geopandas<0.15,>=0.12->osmnx) (1.10.1)\n",
            "Requirement already satisfied: packaging in /usr/local/lib/python3.10/dist-packages (from geopandas<0.15,>=0.12->osmnx) (24.1)\n",
            "Requirement already satisfied: pyproj>=3.3.0 in /usr/local/lib/python3.10/dist-packages (from geopandas<0.15,>=0.12->osmnx) (3.7.0)\n",
            "Requirement already satisfied: python-dateutil>=2.8.2 in /usr/local/lib/python3.10/dist-packages (from pandas<2.3,>=1.1->osmnx) (2.8.2)\n",
            "Requirement already satisfied: pytz>=2020.1 in /usr/local/lib/python3.10/dist-packages (from pandas<2.3,>=1.1->osmnx) (2024.2)\n",
            "Requirement already satisfied: tzdata>=2022.7 in /usr/local/lib/python3.10/dist-packages (from pandas<2.3,>=1.1->osmnx) (2024.2)\n",
            "Requirement already satisfied: charset-normalizer<4,>=2 in /usr/local/lib/python3.10/dist-packages (from requests<2.33,>=2.27->osmnx) (3.4.0)\n",
            "Requirement already satisfied: idna<4,>=2.5 in /usr/local/lib/python3.10/dist-packages (from requests<2.33,>=2.27->osmnx) (3.10)\n",
            "Requirement already satisfied: urllib3<3,>=1.21.1 in /usr/local/lib/python3.10/dist-packages (from requests<2.33,>=2.27->osmnx) (2.2.3)\n",
            "Requirement already satisfied: certifi>=2017.4.17 in /usr/local/lib/python3.10/dist-packages (from requests<2.33,>=2.27->osmnx) (2024.8.30)\n",
            "Requirement already satisfied: attrs>=19.2.0 in /usr/local/lib/python3.10/dist-packages (from fiona>=1.8.21->geopandas<0.15,>=0.12->osmnx) (24.2.0)\n",
            "Requirement already satisfied: click~=8.0 in /usr/local/lib/python3.10/dist-packages (from fiona>=1.8.21->geopandas<0.15,>=0.12->osmnx) (8.1.7)\n",
            "Requirement already satisfied: click-plugins>=1.0 in /usr/local/lib/python3.10/dist-packages (from fiona>=1.8.21->geopandas<0.15,>=0.12->osmnx) (1.1.1)\n",
            "Requirement already satisfied: cligj>=0.5 in /usr/local/lib/python3.10/dist-packages (from fiona>=1.8.21->geopandas<0.15,>=0.12->osmnx) (0.7.2)\n",
            "Requirement already satisfied: six>=1.5 in /usr/local/lib/python3.10/dist-packages (from python-dateutil>=2.8.2->pandas<2.3,>=1.1->osmnx) (1.16.0)\n",
            "Requirement already satisfied: folium in /usr/local/lib/python3.10/dist-packages (0.17.0)\n",
            "Requirement already satisfied: branca>=0.6.0 in /usr/local/lib/python3.10/dist-packages (from folium) (0.8.0)\n",
            "Requirement already satisfied: jinja2>=2.9 in /usr/local/lib/python3.10/dist-packages (from folium) (3.1.4)\n",
            "Requirement already satisfied: numpy in /usr/local/lib/python3.10/dist-packages (from folium) (1.26.4)\n",
            "Requirement already satisfied: requests in /usr/local/lib/python3.10/dist-packages (from folium) (2.32.3)\n",
            "Requirement already satisfied: xyzservices in /usr/local/lib/python3.10/dist-packages (from folium) (2024.9.0)\n",
            "Requirement already satisfied: MarkupSafe>=2.0 in /usr/local/lib/python3.10/dist-packages (from jinja2>=2.9->folium) (3.0.2)\n",
            "Requirement already satisfied: charset-normalizer<4,>=2 in /usr/local/lib/python3.10/dist-packages (from requests->folium) (3.4.0)\n",
            "Requirement already satisfied: idna<4,>=2.5 in /usr/local/lib/python3.10/dist-packages (from requests->folium) (3.10)\n",
            "Requirement already satisfied: urllib3<3,>=1.21.1 in /usr/local/lib/python3.10/dist-packages (from requests->folium) (2.2.3)\n",
            "Requirement already satisfied: certifi>=2017.4.17 in /usr/local/lib/python3.10/dist-packages (from requests->folium) (2024.8.30)\n",
            "Requirement already satisfied: geopy in /usr/local/lib/python3.10/dist-packages (2.4.1)\n",
            "Requirement already satisfied: geographiclib<3,>=1.52 in /usr/local/lib/python3.10/dist-packages (from geopy) (2.0)\n",
            "Requirement already satisfied: gspread in /usr/local/lib/python3.10/dist-packages (6.0.2)\n",
            "Collecting gspread\n",
            "  Downloading gspread-6.1.4-py3-none-any.whl.metadata (11 kB)\n",
            "Requirement already satisfied: gspread-dataframe in /usr/local/lib/python3.10/dist-packages (3.3.1)\n",
            "Collecting gspread-dataframe\n",
            "  Downloading gspread_dataframe-4.0.0-py2.py3-none-any.whl.metadata (4.5 kB)\n",
            "Requirement already satisfied: oauth2client in /usr/local/lib/python3.10/dist-packages (4.1.3)\n",
            "Requirement already satisfied: google-auth>=1.12.0 in /usr/local/lib/python3.10/dist-packages (from gspread) (2.27.0)\n",
            "Requirement already satisfied: google-auth-oauthlib>=0.4.1 in /usr/local/lib/python3.10/dist-packages (from gspread) (1.2.1)\n",
            "Requirement already satisfied: pandas>=0.24.0 in /usr/local/lib/python3.10/dist-packages (from gspread-dataframe) (2.2.2)\n",
            "Requirement already satisfied: six>=1.12.0 in /usr/local/lib/python3.10/dist-packages (from gspread-dataframe) (1.16.0)\n",
            "Requirement already satisfied: httplib2>=0.9.1 in /usr/local/lib/python3.10/dist-packages (from oauth2client) (0.22.0)\n",
            "Requirement already satisfied: pyasn1>=0.1.7 in /usr/local/lib/python3.10/dist-packages (from oauth2client) (0.6.1)\n",
            "Requirement already satisfied: pyasn1-modules>=0.0.5 in /usr/local/lib/python3.10/dist-packages (from oauth2client) (0.4.1)\n",
            "Requirement already satisfied: rsa>=3.1.4 in /usr/local/lib/python3.10/dist-packages (from oauth2client) (4.9)\n",
            "Requirement already satisfied: cachetools<6.0,>=2.0.0 in /usr/local/lib/python3.10/dist-packages (from google-auth>=1.12.0->gspread) (5.5.0)\n",
            "Requirement already satisfied: requests-oauthlib>=0.7.0 in /usr/local/lib/python3.10/dist-packages (from google-auth-oauthlib>=0.4.1->gspread) (1.3.1)\n",
            "Requirement already satisfied: pyparsing!=3.0.0,!=3.0.1,!=3.0.2,!=3.0.3,<4,>=2.4.2 in /usr/local/lib/python3.10/dist-packages (from httplib2>=0.9.1->oauth2client) (3.2.0)\n",
            "Requirement already satisfied: numpy>=1.22.4 in /usr/local/lib/python3.10/dist-packages (from pandas>=0.24.0->gspread-dataframe) (1.26.4)\n",
            "Requirement already satisfied: python-dateutil>=2.8.2 in /usr/local/lib/python3.10/dist-packages (from pandas>=0.24.0->gspread-dataframe) (2.8.2)\n",
            "Requirement already satisfied: pytz>=2020.1 in /usr/local/lib/python3.10/dist-packages (from pandas>=0.24.0->gspread-dataframe) (2024.2)\n",
            "Requirement already satisfied: tzdata>=2022.7 in /usr/local/lib/python3.10/dist-packages (from pandas>=0.24.0->gspread-dataframe) (2024.2)\n",
            "Requirement already satisfied: oauthlib>=3.0.0 in /usr/local/lib/python3.10/dist-packages (from requests-oauthlib>=0.7.0->google-auth-oauthlib>=0.4.1->gspread) (3.2.2)\n",
            "Requirement already satisfied: requests>=2.0.0 in /usr/local/lib/python3.10/dist-packages (from requests-oauthlib>=0.7.0->google-auth-oauthlib>=0.4.1->gspread) (2.32.3)\n",
            "Requirement already satisfied: charset-normalizer<4,>=2 in /usr/local/lib/python3.10/dist-packages (from requests>=2.0.0->requests-oauthlib>=0.7.0->google-auth-oauthlib>=0.4.1->gspread) (3.4.0)\n",
            "Requirement already satisfied: idna<4,>=2.5 in /usr/local/lib/python3.10/dist-packages (from requests>=2.0.0->requests-oauthlib>=0.7.0->google-auth-oauthlib>=0.4.1->gspread) (3.10)\n",
            "Requirement already satisfied: urllib3<3,>=1.21.1 in /usr/local/lib/python3.10/dist-packages (from requests>=2.0.0->requests-oauthlib>=0.7.0->google-auth-oauthlib>=0.4.1->gspread) (2.2.3)\n",
            "Requirement already satisfied: certifi>=2017.4.17 in /usr/local/lib/python3.10/dist-packages (from requests>=2.0.0->requests-oauthlib>=0.7.0->google-auth-oauthlib>=0.4.1->gspread) (2024.8.30)\n",
            "Downloading gspread-6.1.4-py3-none-any.whl (57 kB)\n",
            "\u001b[2K   \u001b[90m━━━━━━━━━━━━━━━━━━━━━━━━━━━━━━━━━━━━━━━━\u001b[0m \u001b[32m57.6/57.6 kB\u001b[0m \u001b[31m2.2 MB/s\u001b[0m eta \u001b[36m0:00:00\u001b[0m\n",
            "\u001b[?25hDownloading gspread_dataframe-4.0.0-py2.py3-none-any.whl (9.0 kB)\n",
            "Installing collected packages: gspread, gspread-dataframe\n",
            "  Attempting uninstall: gspread\n",
            "    Found existing installation: gspread 6.0.2\n",
            "    Uninstalling gspread-6.0.2:\n",
            "      Successfully uninstalled gspread-6.0.2\n",
            "  Attempting uninstall: gspread-dataframe\n",
            "    Found existing installation: gspread-dataframe 3.3.1\n",
            "    Uninstalling gspread-dataframe-3.3.1:\n",
            "      Successfully uninstalled gspread-dataframe-3.3.1\n",
            "Successfully installed gspread-6.1.4 gspread-dataframe-4.0.0\n"
          ]
        }
      ],
      "source": [
        "!pip install osmnx\n",
        "\n",
        "#---------------------------SETUP----------------------------------\n",
        "#get useful libraries\n",
        "import time, os, sys, re #basics\n",
        "import zipfile, json, datetime, string   #string for annotating points in scatter\n",
        "import numpy as np #basic math\n",
        "from statistics import * #stats\n",
        "\n",
        "!pip install squarify\n",
        "import squarify\n",
        "\n",
        "!pip install adjustText\n",
        "from adjustText import adjust_text\n",
        "\n",
        "import matplotlib.pyplot as plt #import pylab as plt #apparently discouraged now:\n",
        " #https://stackoverflow.com/questions/11469336/what-is-the-difference-between-pylab-and-pyplot\n",
        " #https://www.tutorialspoint.com/matplotlib/matplotlib_pylab_module.htm\n",
        "\n",
        "import pandas as pd\n",
        "import pandas_datareader as pdr\n",
        "from pandas_datareader import wb\n",
        "from pandas.io.formats.style import Styler\n",
        "#s4 = Styler(df4, uuid_len=0, cell_ids=False)\n",
        "\n",
        "import urllib  #weird, guess need to have os and pandas imported for this to work  %TODO/LATER ditch it, its weird anyway, just use wget/curl\n",
        "\n",
        "\n",
        "#import webbrowser\n",
        "!pip install seaborn\n",
        "import seaborn as sns\n",
        "\n",
        "\n",
        "#many tricks how to extend notebook functionality\n",
        "#https://coderzcolumn.com/tutorials/python/list-of-useful-magic-commands-in-jupyter-notebook-lab\n",
        "#will display all output not just last command\n",
        "from IPython.core.interactiveshell import InteractiveShell\n",
        "InteractiveShell.ast_node_interactivity = \"all\"\n",
        "\n",
        "#MAGICS and THEMES/STYLES: important! does affect not just shading/colors, but also fonts, spacing, etc\n",
        "#(even if you only select default (v not selecting anything) [but does seem to work better if you do make explicit sleections])\n",
        "\n",
        "###magics: https://ipython.readthedocs.io/en/stable/interactive/magics.html\n",
        "#most essential setup for vis: it does affect vis! careful!! stick with inline, maybe notebook; others mostly for non-notebook, eg spyder environ\n",
        "#https://jakevdp.github.io/PythonDataScienceHandbook/04.00-introduction-to-matplotlib.html recomends *inline*!\n",
        "#show current one:\n",
        "#%matplotlib\n",
        "#%matplotlib --list\n",
        "#interactive plots:\n",
        "#%matplotlib notebook\n",
        "#static images of your plot:\n",
        "%matplotlib inline\n",
        "#may play with this one and other magics (btw default is probably agg)\n",
        "#%matplotlib nbagg\n",
        "\n",
        "###themes/styles: https://matplotlib.org/stable/gallery/style_sheets/style_sheets_reference.html\n",
        "#https://jakevdp.github.io/PythonDataScienceHandbook/04.11-settings-and-stylesheets.html\n",
        "#https://matplotlib.org/stable/tutorials/introductory/customizing.html\n",
        "#here more about art and style than under the hood functionality as with magics, explore and experiment\n",
        "#many may find 'default' or seaborn ones more pleasing; my fav 'classic' is back from 90s ;)\n",
        "#plt.style.available #list available styles :) may install more\n",
        "#plt.style.use('default') # more delicate subtle than classic\n",
        " #  'seaborn-whitegrid' 'seaborn-white' 'seaborn-poster'\n",
        "# btw: magics v theme/style sequence matters, eg if i specify classic style before inline magic, i wouldnt get grey bounding box im getting\n",
        "!pip install wordcloud\n",
        "!pip install PIL\n",
        "#wordcloud\n",
        "from wordcloud import WordCloud, STOPWORDS, ImageColorGenerator\n",
        "import matplotlib.pyplot as plt\n",
        "from PIL import Image\n",
        "\n",
        "!pip install leafmap\n",
        "!pip install pycrs\n",
        "!pip install osmnx\n",
        "\n",
        "#Pywaffle\n",
        "!pip install pywaffle\n",
        "import matplotlib.pyplot as plt\n",
        "from pywaffle import Waffle\n",
        "\n",
        "#plotly\n",
        "import plotly.express as px #a quick simple one\n",
        "import plotly.graph_objects as go #can get convoluted\n",
        "\n",
        "#ton of dependencies; also saying here which for what not to get lost\n",
        "import leafmap\n",
        "import pycrs #may be needed for some imported data such as shapefiles\n",
        "!pip install geopandas\n",
        "!pip install osmnx\n",
        "!pip install folium\n",
        "import geopandas #may be needed to for some files such a kml\n",
        "import osmnx #for geocoding, eg we geocode camden\n",
        "!pip install geopy\n",
        "\n",
        "from geopy.geocoders import Nominatim\n",
        "!pip install --upgrade gspread gspread-dataframe oauth2client\n",
        "\n",
        "import folium as f\n",
        "from folium.plugins import MarkerCluster, HeatMap\n"
      ]
    },
    {
      "cell_type": "markdown",
      "source": [
        "##Connecting your Google Drive\n",
        "*Remember your Google Drive must have the files downloaded. If for any reason, a runtime Error occurs here, it's due to having a wrong path/the correct google drive hasn't been chosen.\n",
        "**Your path should start with /content/drive/My Drive/name_of_your_file\n",
        "\n",
        "*Please let Erick or Me (Ethan) know and we can assist you."
      ],
      "metadata": {
        "id": "PL96bGc7HOCo"
      }
    },
    {
      "cell_type": "code",
      "source": [
        "from google.colab import drive\n",
        "drive.mount('/content/drive')\n",
        "!ls \"/content/drive/My Drive/\""
      ],
      "metadata": {
        "colab": {
          "base_uri": "https://localhost:8080/",
          "height": 321
        },
        "id": "Ftyd2jUiyOMX",
        "outputId": "90c6acd1-375e-462b-e7fc-b56816d1111b"
      },
      "execution_count": 3,
      "outputs": [
        {
          "output_type": "error",
          "ename": "MessageError",
          "evalue": "Error: credential propagation was unsuccessful",
          "traceback": [
            "\u001b[0;31m---------------------------------------------------------------------------\u001b[0m",
            "\u001b[0;31mMessageError\u001b[0m                              Traceback (most recent call last)",
            "\u001b[0;32m<ipython-input-3-2abe2a308973>\u001b[0m in \u001b[0;36m<cell line: 2>\u001b[0;34m()\u001b[0m\n\u001b[1;32m      1\u001b[0m \u001b[0;32mfrom\u001b[0m \u001b[0mgoogle\u001b[0m\u001b[0;34m.\u001b[0m\u001b[0mcolab\u001b[0m \u001b[0;32mimport\u001b[0m \u001b[0mdrive\u001b[0m\u001b[0;34m\u001b[0m\u001b[0;34m\u001b[0m\u001b[0m\n\u001b[0;32m----> 2\u001b[0;31m \u001b[0mdrive\u001b[0m\u001b[0;34m.\u001b[0m\u001b[0mmount\u001b[0m\u001b[0;34m(\u001b[0m\u001b[0;34m'/content/drive'\u001b[0m\u001b[0;34m)\u001b[0m\u001b[0;34m\u001b[0m\u001b[0;34m\u001b[0m\u001b[0m\n\u001b[0m\u001b[1;32m      3\u001b[0m \u001b[0mget_ipython\u001b[0m\u001b[0;34m(\u001b[0m\u001b[0;34m)\u001b[0m\u001b[0;34m.\u001b[0m\u001b[0msystem\u001b[0m\u001b[0;34m(\u001b[0m\u001b[0;34m'ls \"/content/drive/My Drive/\"'\u001b[0m\u001b[0;34m)\u001b[0m\u001b[0;34m\u001b[0m\u001b[0;34m\u001b[0m\u001b[0m\n",
            "\u001b[0;32m/usr/local/lib/python3.10/dist-packages/google/colab/drive.py\u001b[0m in \u001b[0;36mmount\u001b[0;34m(mountpoint, force_remount, timeout_ms, readonly)\u001b[0m\n\u001b[1;32m     98\u001b[0m \u001b[0;32mdef\u001b[0m \u001b[0mmount\u001b[0m\u001b[0;34m(\u001b[0m\u001b[0mmountpoint\u001b[0m\u001b[0;34m,\u001b[0m \u001b[0mforce_remount\u001b[0m\u001b[0;34m=\u001b[0m\u001b[0;32mFalse\u001b[0m\u001b[0;34m,\u001b[0m \u001b[0mtimeout_ms\u001b[0m\u001b[0;34m=\u001b[0m\u001b[0;36m120000\u001b[0m\u001b[0;34m,\u001b[0m \u001b[0mreadonly\u001b[0m\u001b[0;34m=\u001b[0m\u001b[0;32mFalse\u001b[0m\u001b[0;34m)\u001b[0m\u001b[0;34m:\u001b[0m\u001b[0;34m\u001b[0m\u001b[0;34m\u001b[0m\u001b[0m\n\u001b[1;32m     99\u001b[0m   \u001b[0;34m\"\"\"Mount your Google Drive at the specified mountpoint path.\"\"\"\u001b[0m\u001b[0;34m\u001b[0m\u001b[0;34m\u001b[0m\u001b[0m\n\u001b[0;32m--> 100\u001b[0;31m   return _mount(\n\u001b[0m\u001b[1;32m    101\u001b[0m       \u001b[0mmountpoint\u001b[0m\u001b[0;34m,\u001b[0m\u001b[0;34m\u001b[0m\u001b[0;34m\u001b[0m\u001b[0m\n\u001b[1;32m    102\u001b[0m       \u001b[0mforce_remount\u001b[0m\u001b[0;34m=\u001b[0m\u001b[0mforce_remount\u001b[0m\u001b[0;34m,\u001b[0m\u001b[0;34m\u001b[0m\u001b[0;34m\u001b[0m\u001b[0m\n",
            "\u001b[0;32m/usr/local/lib/python3.10/dist-packages/google/colab/drive.py\u001b[0m in \u001b[0;36m_mount\u001b[0;34m(mountpoint, force_remount, timeout_ms, ephemeral, readonly)\u001b[0m\n\u001b[1;32m    135\u001b[0m   )\n\u001b[1;32m    136\u001b[0m   \u001b[0;32mif\u001b[0m \u001b[0mephemeral\u001b[0m\u001b[0;34m:\u001b[0m\u001b[0;34m\u001b[0m\u001b[0;34m\u001b[0m\u001b[0m\n\u001b[0;32m--> 137\u001b[0;31m     _message.blocking_request(\n\u001b[0m\u001b[1;32m    138\u001b[0m         \u001b[0;34m'request_auth'\u001b[0m\u001b[0;34m,\u001b[0m\u001b[0;34m\u001b[0m\u001b[0;34m\u001b[0m\u001b[0m\n\u001b[1;32m    139\u001b[0m         \u001b[0mrequest\u001b[0m\u001b[0;34m=\u001b[0m\u001b[0;34m{\u001b[0m\u001b[0;34m'authType'\u001b[0m\u001b[0;34m:\u001b[0m \u001b[0;34m'dfs_ephemeral'\u001b[0m\u001b[0;34m}\u001b[0m\u001b[0;34m,\u001b[0m\u001b[0;34m\u001b[0m\u001b[0;34m\u001b[0m\u001b[0m\n",
            "\u001b[0;32m/usr/local/lib/python3.10/dist-packages/google/colab/_message.py\u001b[0m in \u001b[0;36mblocking_request\u001b[0;34m(request_type, request, timeout_sec, parent)\u001b[0m\n\u001b[1;32m    174\u001b[0m       \u001b[0mrequest_type\u001b[0m\u001b[0;34m,\u001b[0m \u001b[0mrequest\u001b[0m\u001b[0;34m,\u001b[0m \u001b[0mparent\u001b[0m\u001b[0;34m=\u001b[0m\u001b[0mparent\u001b[0m\u001b[0;34m,\u001b[0m \u001b[0mexpect_reply\u001b[0m\u001b[0;34m=\u001b[0m\u001b[0;32mTrue\u001b[0m\u001b[0;34m\u001b[0m\u001b[0;34m\u001b[0m\u001b[0m\n\u001b[1;32m    175\u001b[0m   )\n\u001b[0;32m--> 176\u001b[0;31m   \u001b[0;32mreturn\u001b[0m \u001b[0mread_reply_from_input\u001b[0m\u001b[0;34m(\u001b[0m\u001b[0mrequest_id\u001b[0m\u001b[0;34m,\u001b[0m \u001b[0mtimeout_sec\u001b[0m\u001b[0;34m)\u001b[0m\u001b[0;34m\u001b[0m\u001b[0;34m\u001b[0m\u001b[0m\n\u001b[0m",
            "\u001b[0;32m/usr/local/lib/python3.10/dist-packages/google/colab/_message.py\u001b[0m in \u001b[0;36mread_reply_from_input\u001b[0;34m(message_id, timeout_sec)\u001b[0m\n\u001b[1;32m    101\u001b[0m     ):\n\u001b[1;32m    102\u001b[0m       \u001b[0;32mif\u001b[0m \u001b[0;34m'error'\u001b[0m \u001b[0;32min\u001b[0m \u001b[0mreply\u001b[0m\u001b[0;34m:\u001b[0m\u001b[0;34m\u001b[0m\u001b[0;34m\u001b[0m\u001b[0m\n\u001b[0;32m--> 103\u001b[0;31m         \u001b[0;32mraise\u001b[0m \u001b[0mMessageError\u001b[0m\u001b[0;34m(\u001b[0m\u001b[0mreply\u001b[0m\u001b[0;34m[\u001b[0m\u001b[0;34m'error'\u001b[0m\u001b[0;34m]\u001b[0m\u001b[0;34m)\u001b[0m\u001b[0;34m\u001b[0m\u001b[0;34m\u001b[0m\u001b[0m\n\u001b[0m\u001b[1;32m    104\u001b[0m       \u001b[0;32mreturn\u001b[0m \u001b[0mreply\u001b[0m\u001b[0;34m.\u001b[0m\u001b[0mget\u001b[0m\u001b[0;34m(\u001b[0m\u001b[0;34m'data'\u001b[0m\u001b[0;34m,\u001b[0m \u001b[0;32mNone\u001b[0m\u001b[0;34m)\u001b[0m\u001b[0;34m\u001b[0m\u001b[0;34m\u001b[0m\u001b[0m\n\u001b[1;32m    105\u001b[0m \u001b[0;34m\u001b[0m\u001b[0m\n",
            "\u001b[0;31mMessageError\u001b[0m: Error: credential propagation was unsuccessful"
          ]
        }
      ]
    },
    {
      "cell_type": "markdown",
      "source": [
        "##Reading Files"
      ],
      "metadata": {
        "id": "BlEFRPsVIC7x"
      }
    },
    {
      "cell_type": "code",
      "source": [
        "fall = pd.read_csv('/content/drive/My Drive/All Fall Apps by Program.csv')\n",
        "fall.head()"
      ],
      "metadata": {
        "id": "GfH6J1s9v7uG"
      },
      "execution_count": null,
      "outputs": []
    },
    {
      "cell_type": "code",
      "source": [
        "fall25 = pd.read_csv('/content/drive/My Drive/Fall 2025 - CMGR All Fall Apps by Program -.csv')\n",
        "fall25.head()"
      ],
      "metadata": {
        "id": "qRu35NZzUS_Z"
      },
      "execution_count": null,
      "outputs": []
    },
    {
      "cell_type": "code",
      "source": [
        "spring25 = pd.read_csv(\"/content/drive/My Drive/Spring 2025.xlsx - CMGR Spr All Apps by Program -.csv\")\n",
        "spring25.head()"
      ],
      "metadata": {
        "id": "XVzcIIncWVId"
      },
      "execution_count": null,
      "outputs": []
    },
    {
      "cell_type": "code",
      "source": [
        "locations_f = pd.read_csv('/content/drive/My Drive/Fall 2025 Locations - Fall 2025 Locatrions.csv', encoding='ISO-8859-1')\n",
        "locations_f.head()"
      ],
      "metadata": {
        "id": "wQSYzAK4WhYc"
      },
      "execution_count": null,
      "outputs": []
    },
    {
      "cell_type": "code",
      "source": [
        "locations_s = pd.read_csv('/content/drive/My Drive/Spring 2025 Locatrions - Spring 2025 Locatrions (1).csv', encoding='ISO-8859-1')\n",
        "locations_s.head()"
      ],
      "metadata": {
        "id": "tYelzsPluxOg"
      },
      "execution_count": null,
      "outputs": []
    },
    {
      "cell_type": "code",
      "source": [
        "locations = pd.read_csv('/content/drive/My Drive/Long Lat - Long Lat.csv')\n",
        "locations.head()"
      ],
      "metadata": {
        "id": "Q49n-KSB-9GX"
      },
      "execution_count": null,
      "outputs": []
    },
    {
      "cell_type": "markdown",
      "source": [
        "#Early Fall 2024 Data\n",
        "\n",
        "This is an interactive chart. Please press on the segements you would like to know more in depth."
      ],
      "metadata": {
        "id": "uuGFYh5aIIGL"
      }
    },
    {
      "cell_type": "markdown",
      "source": [
        "##Early Fall 2024 Sunburst Chart"
      ],
      "metadata": {
        "id": "Z1qmFJrCJrc_"
      }
    },
    {
      "cell_type": "code",
      "source": [
        "import pandas as pd\n",
        "import plotly.express as px\n",
        "\n",
        "\n",
        "df = pd.DataFrame(fall)\n",
        "\n",
        "# Rename columns\n",
        "df.columns = ['Program', 'Started', 'Submitted', 'Complete',\n",
        "              'Admit', 'Admit-Coming', 'Admit-Withdrawn', 'Deferred',\n",
        "              'Withdrawn', 'Denied', 'Total']\n",
        "\n",
        "#clean\n",
        "df['Program'] = df['Program'].str.split(':').str[0]\n",
        "\n",
        "#melt DF to Program, Status, Applications\n",
        "df_melted = df.melt(id_vars=['Program'],\n",
        "                    value_vars=['Started', 'Submitted', 'Complete', 'Admit',\n",
        "                                'Admit-Coming', 'Admit-Withdrawn', 'Deferred',\n",
        "                                'Withdrawn', 'Denied'],\n",
        "                    var_name='Status',\n",
        "                    value_name='Applications')\n",
        "\n",
        "# Drop total row and NaN or zero rows\n",
        "df_melted = df_melted[df_melted['Program'] != 'Total']\n",
        "df_melted['Applications'] = pd.to_numeric(df_melted['Applications'], errors='coerce')\n",
        "df_melted = df_melted.dropna(subset=['Applications'])\n",
        "df_melted = df_melted[df_melted['Applications'] > 0]\n",
        "\n",
        "#sort DF\n",
        "df_melted = df_melted.sort_values(by=['Program', 'Status'])\n",
        "\n",
        "#total apps per program\n",
        "total_applications_per_program = df_melted.groupby('Program')['Applications'].sum().reset_index()\n",
        "total_applications_per_program.columns = ['Program', 'Total Applications']\n",
        "\n",
        "#% of each program\n",
        "total_applications = total_applications_per_program['Total Applications'].sum()\n",
        "total_applications_per_program['Percentage'] = (total_applications_per_program['Total Applications'] / total_applications) * 100\n",
        "\n",
        "\n",
        "#sunburst with % included\n",
        "df_melted_with_total = pd.merge(df_melted, total_applications_per_program[['Program', 'Total Applications', 'Percentage']], on='Program')\n",
        "\n",
        "# Sunburst by Program/Major\n",
        "fig = px.sunburst(df_melted_with_total, path=['Program', 'Status'], values='Applications',\n",
        "                  hover_data=['Percentage'], title='Sunburst Chart of Applications by Program')\n",
        "fig.show()\n",
        "\n",
        "# Sunburst by Status\n",
        "fig = px.sunburst(df_melted_with_total, path=['Status', 'Program'], values='Applications',\n",
        "                  hover_data=['Percentage'], title='Sunburst Chart of Applications by Status')\n",
        "fig.show()\n",
        "\n",
        "# Export to CSV\n",
        "df_melted.to_csv('transformed_sunburst_data.csv', index=False)\n"
      ],
      "metadata": {
        "id": "59Iz7hpKy56R"
      },
      "execution_count": null,
      "outputs": []
    },
    {
      "cell_type": "code",
      "source": [],
      "metadata": {
        "id": "sDHJeCVVcfbB"
      },
      "execution_count": null,
      "outputs": []
    },
    {
      "cell_type": "markdown",
      "source": [
        "## Early Fall 2024 Maps\n",
        "This is an interactive map. Please press on the segements you would like to know more in depth."
      ],
      "metadata": {
        "id": "4AeeAWIKCTVe"
      }
    },
    {
      "cell_type": "code",
      "source": [
        "import pandas as pd\n",
        "map = pd.DataFrame(locations)\n",
        "\n",
        "def clean_coordinates(coord):\n",
        "\n",
        "    if coord is None:\n",
        "      return None\n",
        "    if 'Not available' in coord:\n",
        "        return None  #none for \"Not available\" rows\n",
        "    return coord.split('°')[0]  #\n",
        "\n",
        "#apply the cleaning function to Lat and Long columns\n",
        "map['Lat'] = map['Lat'].apply(clean_coordinates)\n",
        "map['Long'] = map['Long'].apply(clean_coordinates)\n",
        "grouped = map.groupby(\"Country\")\n",
        "# map.drop(columns= ['Mailing State/Province'], inplace=True)\n",
        "# map.drop(columns = ['Country'], inplace=True)\n",
        "\n",
        "m = leafmap.Map()\n",
        "m.add_points_from_xy(map, x=\"Long\", y=\"Lat\")\n",
        "m"
      ],
      "metadata": {
        "id": "dWQP-UtS8-w4"
      },
      "execution_count": null,
      "outputs": []
    },
    {
      "cell_type": "code",
      "source": [
        "status_counts = locations.groupby([\"Country\", 'Admissions Status']).size().reset_index(name='Count')\n",
        "status_counts = status_counts[status_counts['Count'] >= 3]\n",
        "status_pivot = status_counts.pivot(index='Country', columns='Admissions Status', values='Count').fillna(0)\n",
        "status_pivot.plot(kind='bar', stacked=True, figsize=(12, 8))\n",
        "\n",
        "plt.title('Admissions Status by Country', fontsize=16)\n",
        "plt.xlabel('Country', fontsize=14)\n",
        "plt.ylabel('# of Applications', fontsize=14)\n",
        "plt.legend(title='Admissions Status', bbox_to_anchor = (1.05, 1), loc='upper left', fontsize=12)\n",
        "plt.tight_layout()\n",
        "plt.show()\n"
      ],
      "metadata": {
        "id": "PAcNx5bjcmSz"
      },
      "execution_count": null,
      "outputs": []
    },
    {
      "cell_type": "code",
      "source": [
        "import pandas as pd\n",
        "import matplotlib.pyplot as plt\n",
        "\n",
        "\n",
        "\n",
        "#group by program name and country (combines rows with prog. and country as the same.)\n",
        "program_country_counts = locations.groupby(['Program Selection: Program Selection Name', 'Country']).size().reset_index(name='Count')\n",
        "total_program_counts = locations.groupby('Program Selection: Program Selection Name').size().reset_index(name='Total Count')#groups by program (combines duplicate program rows for total per program)\n",
        "\n",
        "#merges the two then creates the proportion for each\n",
        "merged_df = pd.merge(program_country_counts, total_program_counts, on='Program Selection: Program Selection Name')\n",
        "merged_df['Proportion (%)'] = (merged_df['Count'] / merged_df['Total Count']) * 100\n",
        "\n",
        "#pie chart for each unique program\n",
        "programs = merged_df['Program Selection: Program Selection Name'].unique()\n",
        "num_programs = len(programs)\n",
        "\n",
        "#creates layout\n",
        "rows = (num_programs // 2) + (num_programs % 2)\n",
        "fig, axes = plt.subplots(rows, 2, figsize=(15, 5 * rows))\n",
        "\n",
        "#flattens array for ease of iteration\n",
        "axes = axes.flatten()\n",
        "\n",
        "#looping through each program to create pie chart\n",
        "for i, program in enumerate(programs):\n",
        "    program_data = merged_df[merged_df['Program Selection: Program Selection Name'] == program]\n",
        "\n",
        "    # Create a pie chart for each program\n",
        "    axes[i].pie(program_data['Proportion (%)'], labels=program_data['Country'], autopct='%1.1f%%', startangle=140)\n",
        "    axes[i].set_title(f'Proportion of Applications by Country for {program}')\n",
        "\n",
        "#remove empty plots\n",
        "for j in range(i + 1, len(axes)):\n",
        "    fig.delaxes(axes[j])\n",
        "#display\n",
        "plt.tight_layout()\n",
        "plt.show()\n"
      ],
      "metadata": {
        "id": "q25KJGX6jQ6W"
      },
      "execution_count": null,
      "outputs": []
    },
    {
      "cell_type": "markdown",
      "source": [
        "#New Fall 2024 Data\n"
      ],
      "metadata": {
        "id": "Ii_YP-enIn2B"
      }
    },
    {
      "cell_type": "markdown",
      "source": [
        "##New Fall 2024 Map\n",
        "This is an interactive map. Please press on the segements you would like to know more in depth."
      ],
      "metadata": {
        "id": "0wnEa5awJ4vP"
      }
    },
    {
      "cell_type": "code",
      "source": [
        "import pandas as pd\n",
        "map_f = pd.DataFrame(locations_f)\n",
        "\n",
        "\n",
        "\n",
        "# map_f.drop(columns= ['Mailing City'], inplace=True)\n",
        "# map_f.drop(columns = ['Mailing Country'], inplace=True)\n",
        "\n",
        "m = leafmap.Map()\n",
        "m.add_points_from_xy(map_f, x=\"Long\", y=\"Lat\")"
      ],
      "metadata": {
        "id": "jfpg9ZXlvH_R"
      },
      "execution_count": null,
      "outputs": []
    },
    {
      "cell_type": "markdown",
      "source": [
        "##New Fall 2024 Sunburst Chart"
      ],
      "metadata": {
        "id": "04KADfhHKPwz"
      }
    },
    {
      "cell_type": "code",
      "source": [
        "import pandas as pd\n",
        "import plotly.express as px\n",
        "\n",
        "fall25 = pd.DataFrame(fall25)\n",
        "\n",
        "#rename columns\n",
        "fall25.columns = ['Program', 'Started', 'Submitted', 'Complete',\n",
        "                  'Admit', 'Admit-Coming', 'Deferred',\n",
        "                  'Withdrawn', 'Conditional Admission',\n",
        "                  'Alternative Admission', 'Denied', 'Total']\n",
        "\n",
        "#clean\n",
        "fall25['Program'] = fall25['Program'].str.split(':').str[0]\n",
        "\n",
        "#melt DF to long format\n",
        "fall25_melted = fall25.melt(id_vars=['Program'],\n",
        "                            value_vars=['Started', 'Submitted', 'Complete', 'Admit',\n",
        "                                        'Admit-Coming', 'Deferred', 'Withdrawn',\n",
        "                                        'Conditional Admission', 'Alternative Admission',\n",
        "                                        'Denied'],\n",
        "                            var_name='Status',\n",
        "                            value_name='Applications')\n",
        "\n",
        "#remove 'Total' row if it exists\n",
        "fall25_melted = fall25_melted[fall25_melted['Program'] != 'Total']\n",
        "\n",
        "#clean melted\n",
        "fall25_melted['Applications'] = pd.to_numeric(fall25_melted['Applications'], errors='coerce')\n",
        "fall25_melted = fall25_melted.dropna(subset=['Applications'])\n",
        "fall25_melted = fall25_melted[fall25_melted['Applications'] > 0]\n",
        "\n",
        "#sort melted\n",
        "fall25_melted = fall25_melted.sort_values(by=['Program', 'Status'])\n",
        "\n",
        "#total applications / Program\n",
        "total_applications_per_program = fall25_melted.groupby('Program')['Applications'].sum().reset_index()\n",
        "total_applications_per_program.columns = ['Program', 'Total Applications']\n",
        "\n",
        "#% of each program\n",
        "total_applications = total_applications_per_program['Total Applications'].sum()\n",
        "total_applications_per_program['Percentage'] = (total_applications_per_program['Total Applications'] / total_applications) * 100\n",
        "\n",
        "\n",
        "# merge percentage back\n",
        "fall25_melted_with_total = pd.merge(fall25_melted, total_applications_per_program[['Program', 'Total Applications', 'Percentage']], on='Program')\n",
        "\n",
        "# Sunburst plot by Program\n",
        "fig_sunburst1 = px.sunburst(fall25_melted_with_total,\n",
        "                            path=['Program', 'Status'],\n",
        "                            values='Applications',\n",
        "                            hover_data=['Percentage'],\n",
        "                            title='Sunburst Chart of Applications by Program and Status')\n",
        "fig_sunburst1.show()\n",
        "\n",
        "# Sunburst plot by Status\n",
        "fig_sunburst2 = px.sunburst(fall25_melted_with_total,\n",
        "                            path=['Status', 'Program'],\n",
        "                            values='Applications',\n",
        "                            hover_data=['Percentage'],\n",
        "                            title='Sunburst Chart of Applications by Status and Program')\n",
        "fig_sunburst2.show()\n",
        "\n",
        "#export to CSV\n",
        "fall25_melted.to_csv('transformed_sunburst_data_fall25.csv', index=False)\n"
      ],
      "metadata": {
        "id": "MW0X7V1HyO9q"
      },
      "execution_count": null,
      "outputs": []
    },
    {
      "cell_type": "markdown",
      "source": [
        "#New Fall Bar Chart of Admission Status by Country"
      ],
      "metadata": {
        "id": "oVXAHyahaAla"
      }
    },
    {
      "cell_type": "code",
      "source": [
        "status_counts = locations_f.groupby([\"Mailing Country\", 'Admissions Status']).size().reset_index(name='Count')\n",
        "status_counts = status_counts[status_counts['Count'] >= 3]\n",
        "status_pivot = status_counts.pivot(index='Mailing Country', columns='Admissions Status', values='Count').fillna(0)\n",
        "status_pivot.plot(kind='bar', stacked=True, figsize=(12, 8))\n",
        "\n",
        "plt.title('Admissions Status by Country', fontsize=16)\n",
        "plt.xlabel('Country', fontsize=14)\n",
        "plt.ylabel('# of Applications', fontsize=14)\n",
        "plt.legend(title='Admissions Status', bbox_to_anchor = (1.05, 1), loc='upper left', fontsize=12)\n",
        "plt.tight_layout()\n",
        "plt.show()\n"
      ],
      "metadata": {
        "id": "YBdzoTFGZ8XC"
      },
      "execution_count": null,
      "outputs": []
    },
    {
      "cell_type": "markdown",
      "source": [
        "##New Fall 2024 Pie Charts of Demographics of Each Program"
      ],
      "metadata": {
        "id": "ev7aOz2BamAc"
      }
    },
    {
      "cell_type": "code",
      "source": [
        "import pandas as pd\n",
        "import matplotlib.pyplot as plt\n",
        "\n",
        "\n",
        "\n",
        "#group by program name and country (combines rows with prog. and country as the same.)\n",
        "program_country_counts = locations_f.groupby(['Program Selection: Program Selection Name', 'Mailing Country']).size().reset_index(name='Count')\n",
        "total_program_counts = locations_f.groupby('Program Selection: Program Selection Name').size().reset_index(name='Total Count')#groups by program (combines duplicate program rows for total per program)\n",
        "\n",
        "#merges the two then creates the proportion for each\n",
        "merged_df = pd.merge(program_country_counts, total_program_counts, on='Program Selection: Program Selection Name')\n",
        "merged_df['Proportion (%)'] = (merged_df['Count'] / merged_df['Total Count']) * 100\n",
        "\n",
        "#pie chart for each unique program\n",
        "programs = merged_df['Program Selection: Program Selection Name'].unique()\n",
        "num_programs = len(programs)\n",
        "\n",
        "#creates layout\n",
        "rows = (num_programs // 2) + (num_programs % 2)\n",
        "fig, axes = plt.subplots(rows, 2, figsize=(15, 5 * rows))\n",
        "\n",
        "#flattens array for ease of iteration\n",
        "axes = axes.flatten()\n",
        "\n",
        "#looping through each program to create pie chart\n",
        "for i, program in enumerate(programs):\n",
        "    program_data = merged_df[merged_df['Program Selection: Program Selection Name'] == program]\n",
        "\n",
        "    # Create a pie chart for each program\n",
        "    axes[i].pie(program_data['Proportion (%)'], labels=program_data['Mailing Country'], autopct='%1.1f%%', startangle=140)\n",
        "    axes[i].set_title(f'Proportion of Applications by Country for {program}')\n",
        "\n",
        "#remove empty plots\n",
        "for j in range(i + 1, len(axes)):\n",
        "    fig.delaxes(axes[j])\n",
        "#display\n",
        "plt.tight_layout()\n",
        "plt.show()\n"
      ],
      "metadata": {
        "id": "RdnbiF5eaKv_"
      },
      "execution_count": null,
      "outputs": []
    },
    {
      "cell_type": "markdown",
      "source": [
        "##New Fall 2024 Funnel Chart"
      ],
      "metadata": {
        "id": "9yRN0MwjKctK"
      }
    },
    {
      "cell_type": "markdown",
      "source": [
        "#New 2024 Spring Data\n",
        "\n",
        "\n",
        "\n"
      ],
      "metadata": {
        "id": "tAJYSa-SJAm5"
      }
    },
    {
      "cell_type": "markdown",
      "source": [
        "##New Spring 2024 Bar Chart of Admissions Status By Country"
      ],
      "metadata": {
        "id": "wzNcl03TctIv"
      }
    },
    {
      "cell_type": "code",
      "source": [
        "status_counts = locations_s.groupby([\"Country\", 'Admissions Status']).size().reset_index(name='Count')\n",
        "status_counts = status_counts[status_counts['Count'] >= 3]\n",
        "status_pivot = status_counts.pivot(index='Country', columns='Admissions Status', values='Count').fillna(0)\n",
        "status_pivot.plot(kind='bar', stacked=True, figsize=(12, 8))\n",
        "\n",
        "plt.title('Admissions Status by Country', fontsize=16)\n",
        "plt.xlabel('Country', fontsize=14)\n",
        "plt.ylabel('# of Applications', fontsize=14)\n",
        "plt.legend(title='Admissions Status', bbox_to_anchor = (1.05, 1), loc='upper left', fontsize=12)\n",
        "plt.tight_layout()\n",
        "plt.show()\n"
      ],
      "metadata": {
        "id": "NAKoUWApak31"
      },
      "execution_count": null,
      "outputs": []
    },
    {
      "cell_type": "markdown",
      "source": [
        "##New Spring 2024 Map Data\n",
        "This is an interactive map. Please press on the segements you would like to know more in depth."
      ],
      "metadata": {
        "id": "PXLVDXQ5K4pl"
      }
    },
    {
      "cell_type": "code",
      "source": [
        "import pandas as pd\n",
        "map_s = pd.DataFrame(locations_s)\n",
        "\n",
        "\n",
        "\n",
        "# map_s.drop(columns= ['State/Province'], inplace=True)\n",
        "# map_s.drop(columns = ['Country'], inplace=True)\n",
        "m = leafmap.Map()\n",
        "m.add_points_from_xy(map_s, x=\"Long\", y=\"Lat\")\n",
        "m"
      ],
      "metadata": {
        "id": "b9EPyL7qwLv7"
      },
      "execution_count": null,
      "outputs": []
    },
    {
      "cell_type": "markdown",
      "source": [
        "##New Spring 2024 Pie Chart of Demographics in Each Program"
      ],
      "metadata": {
        "id": "IqrKFyCWc8ri"
      }
    },
    {
      "cell_type": "code",
      "source": [
        "import pandas as pd\n",
        "import matplotlib.pyplot as plt\n",
        "\n",
        "\n",
        "\n",
        "#group by program name and country (combines rows with prog. and country as the same.)\n",
        "program_country_counts = locations_s.groupby(['Program Selection: Program Selection Name', 'Country']).size().reset_index(name='Count')\n",
        "total_program_counts = locations_s.groupby('Program Selection: Program Selection Name').size().reset_index(name='Total Count')#groups by program (combines duplicate program rows for total per program)\n",
        "\n",
        "#merges the two then creates the proportion for each\n",
        "merged_df = pd.merge(program_country_counts, total_program_counts, on='Program Selection: Program Selection Name')\n",
        "merged_df['Proportion (%)'] = (merged_df['Count'] / merged_df['Total Count']) * 100\n",
        "\n",
        "#pie chart for each unique program\n",
        "programs = merged_df['Program Selection: Program Selection Name'].unique()\n",
        "num_programs = len(programs)\n",
        "\n",
        "#creates layout\n",
        "rows = (num_programs // 2) + (num_programs % 2)\n",
        "fig, axes = plt.subplots(rows, 2, figsize=(15, 5 * rows))\n",
        "\n",
        "#flattens array for ease of iteration\n",
        "axes = axes.flatten()\n",
        "\n",
        "#looping through each program to create pie chart\n",
        "for i, program in enumerate(programs):\n",
        "    program_data = merged_df[merged_df['Program Selection: Program Selection Name'] == program]\n",
        "\n",
        "    # Create a pie chart for each program\n",
        "    axes[i].pie(program_data['Proportion (%)'], labels=program_data['Country'], autopct='%1.1f%%', startangle=140)\n",
        "    axes[i].set_title(f'Proportion of Applications by Country for {program}')\n",
        "\n",
        "#remove empty plots\n",
        "for j in range(i + 1, len(axes)):\n",
        "    fig.delaxes(axes[j])\n",
        "#display\n",
        "plt.tight_layout()\n",
        "plt.show()\n"
      ],
      "metadata": {
        "id": "qlw3JBwKacWk"
      },
      "execution_count": null,
      "outputs": []
    },
    {
      "cell_type": "markdown",
      "source": [
        "##New Spring 2024 Sunburst Chart"
      ],
      "metadata": {
        "id": "kvEhE8AzKlQs"
      }
    },
    {
      "cell_type": "code",
      "source": [
        "spring25 = pd.DataFrame(spring25)\n",
        "#rename columns\n",
        "spring25.columns = ['Program', 'Started', 'Submitted', 'Complete',\n",
        "              'Admit', 'Admit-Coming', 'Admit-Withdrawn', 'Deferred',\n",
        "              'Withdrawn', 'Denied', 'Total']\n",
        "print(spring25)\n",
        "\n",
        "#clean (take only program name)\n",
        "spring25['Program'] = spring25['Program'].str.split(':').str[0]\n",
        "#melt df to Program, Status, Applications\n",
        "spring25_melted = spring25.melt(id_vars=['Program'],\n",
        "                    value_vars=['Started', 'Submitted', 'Complete', 'Admit',\n",
        "                                'Admit-Coming', 'Admit-Withdrawn', 'Deferred',\n",
        "                                'Withdrawn', 'Denied'], #names of columns will be sorted into one column as a long rather than wide format\n",
        "                    var_name='Status', #top col name of value_vars\n",
        "                    value_name='Applications') #counts(values) of the applications in each org column (started, submitted, etc)\n",
        "\n",
        "spring25_melted = spring25_melted[spring25_melted['Program'] != 'Total']\n",
        "\n",
        "#drop NaN or zero rows\n",
        "spring25_melted['Applications'] = pd.to_numeric(spring25_melted['Applications'], errors='coerce')\n",
        "spring25_melted = spring25_melted.dropna(subset=['Applications'])\n",
        "spring25_melted = spring25_melted[spring25_melted['Applications'] > 0]\n",
        "\n",
        "\n",
        "#sort DF\n",
        "spring25_melted = spring25_melted.sort_values(by=['Program', 'Status'])\n",
        "\n",
        "#to csv format\n",
        "spring25_melted.to_csv('transformed_sunburst_data.csv', index=False)\n",
        "\n",
        "import plotly.express as px\n",
        "#display sunburst\n",
        "fig = px.sunburst(spring25_melted, path=['Program', 'Status'], values='Applications')\n",
        "fig.show()\n",
        "\n",
        "fig = px.sunburst(spring25_melted, path=['Status', 'Program'], values='Applications')\n",
        "fig.show()"
      ],
      "metadata": {
        "id": "rfRcUj-nz4r9"
      },
      "execution_count": null,
      "outputs": []
    }
  ]
}